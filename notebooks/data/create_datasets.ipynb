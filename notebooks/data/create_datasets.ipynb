{
 "cells": [
  {
   "cell_type": "markdown",
   "metadata": {},
   "source": [
    "# Download and store data"
   ]
  },
  {
   "cell_type": "markdown",
   "metadata": {},
   "source": [
    "This notebook contains information on downloading the Quandl Wiki stock prices and a few other sources that we use throughout the book. "
   ]
  },
  {
   "cell_type": "markdown",
   "metadata": {},
   "source": [
    "## Imports & Settings"
   ]
  },
  {
   "cell_type": "code",
   "execution_count": 2,
   "metadata": {
    "ExecuteTime": {
     "end_time": "2020-06-18T14:32:07.092623Z",
     "start_time": "2020-06-18T14:32:07.090885Z"
    }
   },
   "outputs": [],
   "source": [
    "import warnings\n",
    "warnings.filterwarnings('ignore')"
   ]
  },
  {
   "cell_type": "code",
   "execution_count": 3,
   "metadata": {
    "ExecuteTime": {
     "end_time": "2020-06-18T14:32:07.263130Z",
     "start_time": "2020-06-18T14:32:07.259861Z"
    }
   },
   "outputs": [],
   "source": [
    "from pathlib import Path\n",
    "import requests\n",
    "from io import BytesIO\n",
    "from zipfile import ZipFile, BadZipFile\n",
    "\n",
    "import numpy as np\n",
    "import pandas as pd\n",
    "import pandas_datareader.data as web\n",
    "from sklearn.datasets import fetch_openml\n",
    "import datetime\n",
    "import yfinance as yf\n",
    "\n",
    "pd.set_option('display.expand_frame_repr', False)"
   ]
  },
  {
   "cell_type": "markdown",
   "metadata": {},
   "source": [
    "## Set Data Store path"
   ]
  },
  {
   "cell_type": "markdown",
   "metadata": {},
   "source": [
    "Modify path if you would like to store the data elsewhere and change the notebooks accordingly"
   ]
  },
  {
   "cell_type": "code",
   "execution_count": 4,
   "metadata": {
    "ExecuteTime": {
     "end_time": "2020-06-19T02:27:54.832609Z",
     "start_time": "2020-06-19T02:27:54.824778Z"
    }
   },
   "outputs": [],
   "source": [
    "DATA_STORE = Path('assets.h5')"
   ]
  },
  {
   "cell_type": "markdown",
   "metadata": {},
   "source": [
    "## YAHOO Prices"
   ]
  },
  {
   "cell_type": "markdown",
   "metadata": {},
   "source": [
    "Using yahoo finance API for python to download the stock prices."
   ]
  },
  {
   "cell_type": "markdown",
   "metadata": {},
   "source": [
    "Get the list of tickers in MERVAL."
   ]
  },
  {
   "cell_type": "code",
   "execution_count": 6,
   "metadata": {},
   "outputs": [
    {
     "data": {
      "text/plain": [
       "62"
      ]
     },
     "execution_count": 6,
     "metadata": {},
     "output_type": "execute_result"
    }
   ],
   "source": [
    "import requests\n",
    "from bs4 import BeautifulSoup\n",
    "\n",
    "# get all components of merval index\n",
    "url = \"https://es.wikipedia.org/wiki/S%26P_Merval\"\n",
    "\n",
    "response = requests.get(url)\n",
    "soup = BeautifulSoup(response.content, 'html.parser')\n",
    "\n",
    "panel_lider_section = soup.find(id=\"Empresas_que_participan_Panel_Líder\")\n",
    "lider_table = panel_lider_section.find_next(\"table\")\n",
    "\n",
    "ba_tickers = []\n",
    "for row in lider_table.find_all('tr')[1:]:  # Skip the header row\n",
    "    cols = row.find_all('td')\n",
    "    ticker = cols[0].text.strip()\n",
    "    ba_tickers.append(ticker + \".BA\")\n",
    "    \n",
    "panel_lider_section = soup.find(id=\"Empresas_panel_general\")\n",
    "general_table = panel_lider_section.find_next(\"table\")\n",
    "\n",
    "for row in general_table.find_all('tr')[1:]:  # Skip the header row\n",
    "    cols = row.find_all('td')\n",
    "    ticker = cols[0].text.strip()\n",
    "    ba_tickers.append(ticker + \".BA\")\n",
    "\n",
    "len(ba_tickers)"
   ]
  },
  {
   "cell_type": "code",
   "execution_count": 15,
   "metadata": {},
   "outputs": [
    {
     "data": {
      "text/plain": [
       "['MIRG.BA',\n",
       " 'MOLA.BA',\n",
       " 'TXAR.BA',\n",
       " 'CGPA2.BA',\n",
       " 'INTR.BA',\n",
       " 'YPFD.BA',\n",
       " 'SEMI.BA',\n",
       " 'LONG.BA',\n",
       " 'CADO.BA',\n",
       " 'VALO.BA',\n",
       " 'TRAN.BA',\n",
       " 'HAVA.BA',\n",
       " 'CTIO.BA',\n",
       " 'METR.BA',\n",
       " 'CEPU.BA',\n",
       " 'BHIP.BA',\n",
       " 'AUSO.BA',\n",
       " 'LEDE.BA',\n",
       " 'OEST.BA',\n",
       " 'TECO2.BA',\n",
       " 'MOLI.BA',\n",
       " 'CELU.BA',\n",
       " 'INVJ.BA',\n",
       " 'POLL.BA',\n",
       " 'ROSE.BA',\n",
       " 'TGSU2.BA',\n",
       " 'IRSA.BA',\n",
       " 'DGCU2.BA',\n",
       " 'SUPV.BA',\n",
       " 'CARC.BA',\n",
       " 'CAPX.BA',\n",
       " 'PAMP.BA',\n",
       " 'FERR.BA',\n",
       " 'TGNO4.BA',\n",
       " 'PATA.BA',\n",
       " 'EDN.BA',\n",
       " 'GCLA.BA',\n",
       " 'MTR.BA',\n",
       " 'SAMI.BA',\n",
       " 'BMA.BA',\n",
       " 'BPAT.BA',\n",
       " 'GARO.BA',\n",
       " 'MORI.BA',\n",
       " 'BYMA.BA',\n",
       " 'CECO2.BA',\n",
       " 'GGAL.BA',\n",
       " 'GRIM.BA',\n",
       " 'GBAN.BA',\n",
       " 'LOMA.BA',\n",
       " 'DOME.BA',\n",
       " 'DYCA.BA',\n",
       " 'BBAR.BA',\n",
       " 'ALUA.BA',\n",
       " 'COME.BA',\n",
       " 'FIPL.BA',\n",
       " 'GAMI.BA',\n",
       " 'BOLT.BA',\n",
       " 'CRES.BA']"
      ]
     },
     "execution_count": 15,
     "metadata": {},
     "output_type": "execute_result"
    }
   ],
   "source": [
    "list(set(ba_tickers).difference(set(['ESME.BA', 'PGR.BA', 'RICH.BA', 'TGLT.BA'])))"
   ]
  },
  {
   "cell_type": "markdown",
   "metadata": {},
   "source": [
    "Download the historical data FROM 2010 TO 2023."
   ]
  },
  {
   "cell_type": "code",
   "execution_count": 21,
   "metadata": {
    "ExecuteTime": {
     "end_time": "2020-06-16T21:38:46.759327Z",
     "start_time": "2020-06-16T21:37:48.398856Z"
    }
   },
   "outputs": [
    {
     "name": "stderr",
     "output_type": "stream",
     "text": [
      "\n",
      "1 Failed download:\n",
      "['ESME.BA']: YFTzMissingError('$%ticker%: possibly delisted; No timezone found')\n",
      "\n",
      "1 Failed download:\n",
      "['PGR.BA']: YFTzMissingError('$%ticker%: possibly delisted; No timezone found')\n",
      "\n",
      "1 Failed download:\n",
      "['RICH.BA']: YFInvalidPeriodError(\"%ticker%: Period 'max' is invalid, must be one of ['1d', '5d']\")\n",
      "\n",
      "1 Failed download:\n",
      "['TGLT.BA']: YFTzMissingError('$%ticker%: possibly delisted; No timezone found')\n"
     ]
    },
    {
     "name": "stdout",
     "output_type": "stream",
     "text": [
      "All data saved to merval_stock_prices.csv\n"
     ]
    }
   ],
   "source": [
    "import yfinance as yf\n",
    "import pandas as pd\n",
    "\n",
    "# store prices data\n",
    "all_data = pd.DataFrame()\n",
    "for symbol in ba_tickers:\n",
    "    try:\n",
    "        stock_data = yf.download(symbol, start=\"2000-01-01\", end=\"2024-07-28\", progress=False)\n",
    "        stock_data['ticker'] = symbol\n",
    "        stock_data['open'] = stock_data['Open']\n",
    "        stock_data['high'] = stock_data['High']\n",
    "        stock_data['low'] = stock_data['Low']\n",
    "        stock_data['close'] = stock_data['Close']\n",
    "        stock_data['volume'] = stock_data['Volume']\n",
    "        stock_data['adj_open'] = stock_data['Open']\n",
    "        stock_data['adj_high'] = stock_data['High']\n",
    "        stock_data['adj_low'] = stock_data['Low']\n",
    "        stock_data['adj_close'] = stock_data['Adj Close']\n",
    "        stock_data['adj_volume'] = stock_data['Volume']\n",
    "        stock_data['ex-dividend'] = 0  # Placeholder as Yahoo Finance does not provide this\n",
    "        stock_data['split_ratio'] = 1  # Placeholder as Yahoo Finance does not provide this\n",
    "        stock_data.reset_index(inplace=True)\n",
    "        stock_data['date'] = stock_data['Date']\n",
    "        \n",
    "        stock_data = stock_data[['ticker', 'date', 'open', 'high', 'low', 'close', 'volume',\n",
    "                                 'ex-dividend', 'split_ratio', 'adj_open', 'adj_high', 'adj_low',\n",
    "                                 'adj_close', 'adj_volume']]\n",
    "        \n",
    "        all_data = pd.concat([all_data, stock_data])\n",
    "    except Exception as e:\n",
    "        ba_tickers.remove(symbol)\n",
    "        print(f\"Failed to download data for {symbol}: {e}\")\n",
    "\n",
    "csv_output_file = 'merval_stock_prices.csv'\n",
    "all_data.to_csv(csv_output_file, index=False)\n",
    "print(f\"All data saved to {csv_output_file}\")"
   ]
  },
  {
   "cell_type": "markdown",
   "metadata": {},
   "source": [
    "Store data in h5 format"
   ]
  },
  {
   "cell_type": "code",
   "execution_count": 22,
   "metadata": {},
   "outputs": [],
   "source": [
    "df = (pd.read_csv('merval_stock_prices.csv',\n",
    "                 parse_dates=['date'],\n",
    "                 index_col=['date', 'ticker'],\n",
    "                 infer_datetime_format=True)\n",
    "     .sort_index())\n",
    "\n",
    "with pd.HDFStore(DATA_STORE) as store:\n",
    "    store.put('merval/prices', df)"
   ]
  },
  {
   "cell_type": "markdown",
   "metadata": {},
   "source": [
    "### Prices Metadata"
   ]
  },
  {
   "cell_type": "markdown",
   "metadata": {},
   "source": [
    "Download metadata from yahoo."
   ]
  },
  {
   "cell_type": "code",
   "execution_count": null,
   "metadata": {},
   "outputs": [],
   "source": [
    "from datetime import datetime\n",
    "# store metadata\n",
    "stock_metadata = []\n",
    "stock_names = []\n",
    "for symbol in ba_tickers:\n",
    "    try:\n",
    "        stock = yf.Ticker(symbol)\n",
    "        info = stock.info\n",
    "        data = {\n",
    "            \"ticker\": symbol,\n",
    "            \"name\": info.get(\"longName\", \"\"),\n",
    "            \"lastsale\": info.get(\"regularMarketPreviousClose\", None),\n",
    "            \"marketcap\": info.get(\"marketCap\", None),\n",
    "            \"ipoyear\": datetime.fromtimestamp(info.get(\"governanceEpochDate\", -1)).year if info.get(\"governanceEpochDate\", 0) >= 0 else None,\n",
    "            \"sector\": info.get(\"sector\", \"\"),\n",
    "            \"industry\": info.get(\"industry\", \"\")\n",
    "        }\n",
    "        names = {\n",
    "            \"ticker\": symbol,\n",
    "            \"name\": info.get(\"longName\", \"\")\n",
    "        }\n",
    "        stock_metadata.append(data)\n",
    "        stock_names.append(names)\n",
    "    except Exception as e:\n",
    "        print(f\"Failed to download metadata for {symbol}: {e}\")\n",
    "\n",
    "names_df = pd.DataFrame(stock_names)\n",
    "names_df.to_csv('merval_stock_names.csv', index=False)\n",
    "\n",
    "names_df = pd.DataFrame(stock_metadata)\n",
    "names_df.to_csv('merval_stock_metadata.csv', index=False)"
   ]
  },
  {
   "cell_type": "markdown",
   "metadata": {},
   "source": [
    "Store data in h5 format"
   ]
  },
  {
   "cell_type": "code",
   "execution_count": null,
   "metadata": {},
   "outputs": [],
   "source": [
    "df = pd.read_csv('merval_stock_metadata.csv')\n",
    "\n",
    "with pd.HDFStore(DATA_STORE) as store:\n",
    "    store.put('merval/stocks', df)"
   ]
  },
  {
   "cell_type": "markdown",
   "metadata": {},
   "source": [
    "## S&P Merval Prices"
   ]
  },
  {
   "cell_type": "markdown",
   "metadata": {},
   "source": [
    "The following code downloads historical S&P Merval prices from yahoo finance."
   ]
  },
  {
   "cell_type": "code",
   "execution_count": null,
   "metadata": {},
   "outputs": [
    {
     "name": "stdout",
     "output_type": "stream",
     "text": [
      "              Open    High     Low   Close  Adj Close  Volume\n",
      "Date                                                         \n",
      "2010-01-04  2330.0  2394.0  2330.0  2385.0     2385.0       0\n",
      "2010-01-05  2385.0  2411.0  2385.0  2402.0     2402.0       0\n",
      "2010-01-06  2400.0  2401.0  2347.0  2363.0     2363.0       0\n",
      "2010-01-07  2363.0  2393.0  2332.0  2390.0     2390.0       0\n",
      "2010-01-08  2378.0  2378.0  2335.0  2353.0     2353.0       0\n"
     ]
    }
   ],
   "source": [
    "# Fetch data\n",
    "merval_data = yf.download('^MERV', start=\"2010-01-01\", end=\"2024-01-01\", progress=False)\n",
    "\n",
    "# Display the fetched data\n",
    "print(merval_data.head())"
   ]
  },
  {
   "cell_type": "code",
   "execution_count": null,
   "metadata": {
    "ExecuteTime": {
     "end_time": "2020-06-16T21:42:09.567451Z",
     "start_time": "2020-06-16T21:42:09.556832Z"
    }
   },
   "outputs": [],
   "source": [
    "with pd.HDFStore(DATA_STORE) as store:\n",
    "    store.put('spmerval', merval_data)"
   ]
  },
  {
   "cell_type": "markdown",
   "metadata": {},
   "source": [
    "## Metadata on traded companies"
   ]
  },
  {
   "cell_type": "code",
   "execution_count": null,
   "metadata": {},
   "outputs": [
    {
     "data": {
      "text/html": [
       "<div>\n",
       "<style scoped>\n",
       "    .dataframe tbody tr th:only-of-type {\n",
       "        vertical-align: middle;\n",
       "    }\n",
       "\n",
       "    .dataframe tbody tr th {\n",
       "        vertical-align: top;\n",
       "    }\n",
       "\n",
       "    .dataframe thead th {\n",
       "        text-align: right;\n",
       "    }\n",
       "</style>\n",
       "<table border=\"1\" class=\"dataframe\">\n",
       "  <thead>\n",
       "    <tr style=\"text-align: right;\">\n",
       "      <th></th>\n",
       "      <th>ticker</th>\n",
       "      <th>name</th>\n",
       "      <th>lastsale</th>\n",
       "      <th>marketcap</th>\n",
       "      <th>ipoyear</th>\n",
       "      <th>sector</th>\n",
       "      <th>industry</th>\n",
       "    </tr>\n",
       "  </thead>\n",
       "  <tbody>\n",
       "    <tr>\n",
       "      <th>0</th>\n",
       "      <td>ALUA.BA</td>\n",
       "      <td>Aluar Aluminio Argentino S.A.I.C.</td>\n",
       "      <td>1050.0</td>\n",
       "      <td>2.982000e+12</td>\n",
       "      <td>1969</td>\n",
       "      <td>Basic Materials</td>\n",
       "      <td>Aluminum</td>\n",
       "    </tr>\n",
       "    <tr>\n",
       "      <th>1</th>\n",
       "      <td>BBAR.BA</td>\n",
       "      <td>Banco BBVA Argentina S.A.</td>\n",
       "      <td>4065.0</td>\n",
       "      <td>2.475348e+12</td>\n",
       "      <td>1969</td>\n",
       "      <td>Financial Services</td>\n",
       "      <td>Banks - Regional</td>\n",
       "    </tr>\n",
       "    <tr>\n",
       "      <th>2</th>\n",
       "      <td>BMA.BA</td>\n",
       "      <td>Banco Macro S.A.</td>\n",
       "      <td>7420.0</td>\n",
       "      <td>4.686208e+12</td>\n",
       "      <td>1969</td>\n",
       "      <td>Financial Services</td>\n",
       "      <td>Banks - Regional</td>\n",
       "    </tr>\n",
       "    <tr>\n",
       "      <th>3</th>\n",
       "      <td>BYMA.BA</td>\n",
       "      <td>Bolsas y Mercados Argentinos S.A.</td>\n",
       "      <td>366.0</td>\n",
       "      <td>1.385844e+12</td>\n",
       "      <td>1969</td>\n",
       "      <td>Financial Services</td>\n",
       "      <td>Capital Markets</td>\n",
       "    </tr>\n",
       "    <tr>\n",
       "      <th>4</th>\n",
       "      <td>GGAL.BA</td>\n",
       "      <td>Grupo Financiero Galicia S.A.</td>\n",
       "      <td>4110.0</td>\n",
       "      <td>6.046229e+12</td>\n",
       "      <td>1969</td>\n",
       "      <td>Financial Services</td>\n",
       "      <td>Banks - Regional</td>\n",
       "    </tr>\n",
       "  </tbody>\n",
       "</table>\n",
       "</div>"
      ],
      "text/plain": [
       "    ticker                               name  lastsale     marketcap  ipoyear              sector          industry\n",
       "0  ALUA.BA  Aluar Aluminio Argentino S.A.I.C.    1050.0  2.982000e+12     1969     Basic Materials          Aluminum\n",
       "1  BBAR.BA          Banco BBVA Argentina S.A.    4065.0  2.475348e+12     1969  Financial Services  Banks - Regional\n",
       "2   BMA.BA                   Banco Macro S.A.    7420.0  4.686208e+12     1969  Financial Services  Banks - Regional\n",
       "3  BYMA.BA  Bolsas y Mercados Argentinos S.A.     366.0  1.385844e+12     1969  Financial Services   Capital Markets\n",
       "4  GGAL.BA      Grupo Financiero Galicia S.A.    4110.0  6.046229e+12     1969  Financial Services  Banks - Regional"
      ]
     },
     "execution_count": 43,
     "metadata": {},
     "output_type": "execute_result"
    }
   ],
   "source": [
    "df = pd.read_csv('merval_stock_metadata.csv')\n",
    "df.head()"
   ]
  },
  {
   "cell_type": "markdown",
   "metadata": {},
   "source": [
    "See marketcap distributions"
   ]
  },
  {
   "cell_type": "code",
   "execution_count": null,
   "metadata": {},
   "outputs": [
    {
     "data": {
      "text/plain": [
       "count                    59\n",
       "mean      1,398,700,466,349\n",
       "std       2,697,537,653,409\n",
       "min             714,253,312\n",
       "10%          12,776,256,512\n",
       "20%          77,864,810,905\n",
       "30%         152,979,668,991\n",
       "40%         281,644,453,068\n",
       "50%         392,592,457,728\n",
       "60%         739,587,876,454\n",
       "70%       1,030,673,714,380\n",
       "80%       1,539,648,153,190\n",
       "90%       3,745,141,804,236\n",
       "max      15,342,576,336,896\n",
       "Name: marketcap, dtype: object"
      ]
     },
     "execution_count": 44,
     "metadata": {},
     "output_type": "execute_result"
    }
   ],
   "source": [
    "df.marketcap.describe(percentiles=np.arange(.1, 1, .1).round(1)).apply(lambda x: f'{int(x):,d}')"
   ]
  },
  {
   "cell_type": "markdown",
   "metadata": {},
   "source": [
    "Store metadata"
   ]
  },
  {
   "cell_type": "code",
   "execution_count": null,
   "metadata": {},
   "outputs": [],
   "source": [
    "with pd.HDFStore(DATA_STORE) as store:\n",
    "    store.put('merval/stocks', df.set_index('ticker'))"
   ]
  }
 ],
 "metadata": {
  "kernelspec": {
   "display_name": "Python 3 (ipykernel)",
   "language": "python",
   "name": "python3"
  },
  "language_info": {
   "codemirror_mode": {
    "name": "ipython",
    "version": 3
   },
   "file_extension": ".py",
   "mimetype": "text/x-python",
   "name": "python",
   "nbconvert_exporter": "python",
   "pygments_lexer": "ipython3",
   "version": "3.8.19"
  },
  "toc": {
   "base_numbering": 1,
   "nav_menu": {},
   "number_sections": true,
   "sideBar": true,
   "skip_h1_title": true,
   "title_cell": "Table of Contents",
   "title_sidebar": "Contents",
   "toc_cell": false,
   "toc_position": {},
   "toc_section_display": true,
   "toc_window_display": true
  }
 },
 "nbformat": 4,
 "nbformat_minor": 4
}
