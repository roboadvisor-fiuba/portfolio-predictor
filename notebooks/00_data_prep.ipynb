{
 "cells": [
  {
   "cell_type": "markdown",
   "metadata": {},
   "source": [
    "# Add alpha factors"
   ]
  },
  {
   "cell_type": "markdown",
   "metadata": {},
   "source": [
    "We create the dataset here and store it in our [data](../../data) folder to facilitate reuse in later chapters."
   ]
  },
  {
   "cell_type": "markdown",
   "metadata": {},
   "source": [
    "## Imports & Settings"
   ]
  },
  {
   "cell_type": "code",
   "execution_count": 461,
   "metadata": {
    "ExecuteTime": {
     "end_time": "2021-04-16T00:32:11.108720Z",
     "start_time": "2021-04-16T00:32:11.106680Z"
    }
   },
   "outputs": [],
   "source": [
    "import warnings\n",
    "warnings.filterwarnings('ignore')"
   ]
  },
  {
   "cell_type": "code",
   "execution_count": 462,
   "metadata": {
    "ExecuteTime": {
     "end_time": "2021-04-16T00:32:12.061911Z",
     "start_time": "2021-04-16T00:32:11.317486Z"
    }
   },
   "outputs": [],
   "source": [
    "%matplotlib inline\n",
    "\n",
    "import numpy as np\n",
    "import pandas as pd\n",
    "import pandas_datareader.data as web\n",
    "\n",
    "# from pyfinance.ols import PandasRollingOLS\n",
    "\n",
    "# replaces pyfinance.ols.PandasRollingOLS (no longer maintained)\n",
    "from statsmodels.regression.rolling import RollingOLS\n",
    "import statsmodels.api as sm\n",
    "from talib import RSI, BBANDS, MACD, NATR, ATR\n",
    "\n",
    "from sklearn.feature_selection import mutual_info_classif, mutual_info_regression\n",
    "\n",
    "import matplotlib.pyplot as plt\n",
    "import seaborn as sns"
   ]
  },
  {
   "cell_type": "code",
   "execution_count": 463,
   "metadata": {
    "ExecuteTime": {
     "end_time": "2021-04-16T00:32:12.066329Z",
     "start_time": "2021-04-16T00:32:12.063370Z"
    }
   },
   "outputs": [],
   "source": [
    "sns.set_style('whitegrid')\n",
    "idx = pd.IndexSlice"
   ]
  },
  {
   "cell_type": "markdown",
   "metadata": {},
   "source": [
    "## Load MERVAL OHLCV data"
   ]
  },
  {
   "cell_type": "markdown",
   "metadata": {},
   "source": [
    "The `assets.h5` store can be generated using the the notebook [create_datasets](../../data/create_datasets.ipynb) in the [data](../../data) directory in the root directory of this repo for instruction to download the following dataset."
   ]
  },
  {
   "cell_type": "markdown",
   "metadata": {},
   "source": [
    "Set data store location:"
   ]
  },
  {
   "cell_type": "code",
   "execution_count": 464,
   "metadata": {
    "ExecuteTime": {
     "end_time": "2021-02-23T20:29:18.142415Z",
     "start_time": "2021-02-23T20:29:18.135503Z"
    }
   },
   "outputs": [],
   "source": [
    "DATA_STORE = './data/assets.h5'"
   ]
  },
  {
   "cell_type": "code",
   "execution_count": 465,
   "metadata": {
    "ExecuteTime": {
     "end_time": "2021-02-23T20:29:18.154819Z",
     "start_time": "2021-02-23T20:29:18.143752Z"
    }
   },
   "outputs": [],
   "source": [
    "YEAR = 12"
   ]
  },
  {
   "cell_type": "code",
   "execution_count": 466,
   "metadata": {
    "ExecuteTime": {
     "end_time": "2021-02-23T20:29:18.164476Z",
     "start_time": "2021-02-23T20:29:18.155706Z"
    }
   },
   "outputs": [],
   "source": [
    "START = 2010\n",
    "END = 2024"
   ]
  },
  {
   "cell_type": "code",
   "execution_count": 467,
   "metadata": {
    "ExecuteTime": {
     "end_time": "2021-02-23T20:29:24.397333Z",
     "start_time": "2021-02-23T20:29:18.165527Z"
    }
   },
   "outputs": [],
   "source": [
    "with pd.HDFStore(DATA_STORE, 'r') as store:\n",
    "    prices = (store['merval/prices']\n",
    "              .loc[idx[str(START):str(END), :], :]\n",
    "              .filter(like='adj_')\n",
    "              .dropna()\n",
    "              .swaplevel()\n",
    "              .rename(columns=lambda x: x.replace('adj_', ''))\n",
    "              .join(store['merval/stocks']\n",
    "                    .loc[:, ['sector']])\n",
    "              .dropna())"
   ]
  },
  {
   "cell_type": "code",
   "execution_count": 468,
   "metadata": {
    "ExecuteTime": {
     "end_time": "2021-02-23T20:29:24.888343Z",
     "start_time": "2021-02-23T20:29:24.398493Z"
    }
   },
   "outputs": [
    {
     "name": "stdout",
     "output_type": "stream",
     "text": [
      "<class 'pandas.core.frame.DataFrame'>\n",
      "MultiIndex: 180246 entries, ('ALUA.BA', Timestamp('2010-01-04 00:00:00')) to ('YPFD.BA', Timestamp('2023-12-29 00:00:00'))\n",
      "Data columns (total 6 columns):\n",
      " #   Column  Non-Null Count   Dtype  \n",
      "---  ------  --------------   -----  \n",
      " 0   open    180246 non-null  float64\n",
      " 1   high    180246 non-null  float64\n",
      " 2   low     180246 non-null  float64\n",
      " 3   close   180246 non-null  float64\n",
      " 4   volume  180246 non-null  float64\n",
      " 5   sector  180246 non-null  object \n",
      "dtypes: float64(5), object(1)\n",
      "memory usage: 8.9+ MB\n"
     ]
    }
   ],
   "source": [
    "prices.info()"
   ]
  },
  {
   "cell_type": "code",
   "execution_count": 469,
   "metadata": {
    "ExecuteTime": {
     "end_time": "2021-02-23T20:29:24.974142Z",
     "start_time": "2021-02-23T20:29:24.890337Z"
    }
   },
   "outputs": [
    {
     "data": {
      "text/plain": [
       "56"
      ]
     },
     "execution_count": 469,
     "metadata": {},
     "output_type": "execute_result"
    }
   ],
   "source": [
    "len(prices.index.unique('ticker'))"
   ]
  },
  {
   "cell_type": "markdown",
   "metadata": {},
   "source": [
    "## Remove stocks with less than ten years of data"
   ]
  },
  {
   "cell_type": "code",
   "execution_count": 470,
   "metadata": {
    "ExecuteTime": {
     "end_time": "2021-02-23T20:30:10.981706Z",
     "start_time": "2021-02-23T20:29:24.975850Z"
    }
   },
   "outputs": [],
   "source": [
    "min_obs = 10 * 252\n",
    "nobs = prices.groupby(level='ticker').size()\n",
    "to_drop = nobs[nobs < min_obs].index\n",
    "prices = prices.drop(to_drop, level='ticker')"
   ]
  },
  {
   "cell_type": "code",
   "execution_count": 471,
   "metadata": {
    "ExecuteTime": {
     "end_time": "2021-02-23T20:30:11.434460Z",
     "start_time": "2021-02-23T20:30:10.982824Z"
    }
   },
   "outputs": [
    {
     "name": "stdout",
     "output_type": "stream",
     "text": [
      "<class 'pandas.core.frame.DataFrame'>\n",
      "MultiIndex: 169923 entries, ('ALUA.BA', Timestamp('2010-01-04 00:00:00')) to ('YPFD.BA', Timestamp('2023-12-29 00:00:00'))\n",
      "Data columns (total 6 columns):\n",
      " #   Column  Non-Null Count   Dtype  \n",
      "---  ------  --------------   -----  \n",
      " 0   open    169923 non-null  float64\n",
      " 1   high    169923 non-null  float64\n",
      " 2   low     169923 non-null  float64\n",
      " 3   close   169923 non-null  float64\n",
      " 4   volume  169923 non-null  float64\n",
      " 5   sector  169923 non-null  object \n",
      "dtypes: float64(5), object(1)\n",
      "memory usage: 8.4+ MB\n"
     ]
    }
   ],
   "source": [
    "prices.info()"
   ]
  },
  {
   "cell_type": "code",
   "execution_count": 472,
   "metadata": {
    "ExecuteTime": {
     "end_time": "2021-02-23T20:30:11.509683Z",
     "start_time": "2021-02-23T20:30:11.435475Z"
    }
   },
   "outputs": [
    {
     "data": {
      "text/plain": [
       "50"
      ]
     },
     "execution_count": 472,
     "metadata": {},
     "output_type": "execute_result"
    }
   ],
   "source": [
    "len(prices.index.unique('ticker'))"
   ]
  },
  {
   "cell_type": "markdown",
   "metadata": {},
   "source": [
    "## Add some Basic Factors"
   ]
  },
  {
   "cell_type": "markdown",
   "metadata": {},
   "source": [
    "### Compute the Relative Strength Index"
   ]
  },
  {
   "cell_type": "code",
   "execution_count": 473,
   "metadata": {
    "ExecuteTime": {
     "end_time": "2021-02-23T20:30:58.402376Z",
     "start_time": "2021-02-23T20:30:11.510780Z"
    }
   },
   "outputs": [],
   "source": [
    "rsi = prices.groupby(level='ticker').close.apply(RSI)\n",
    "prices['rsi'] = rsi.values"
   ]
  },
  {
   "cell_type": "code",
   "execution_count": 474,
   "metadata": {
    "ExecuteTime": {
     "end_time": "2021-02-23T20:31:21.858293Z",
     "start_time": "2021-02-23T20:30:58.403322Z"
    }
   },
   "outputs": [
    {
     "data": {
      "image/png": "[encoded data removed]",
      "text/plain": [
       "<Figure size 640x480 with 1 Axes>"
      ]
     },
     "metadata": {},
     "output_type": "display_data"
    }
   ],
   "source": [
    "sns.distplot(prices.rsi);"
   ]
  },
  {
   "cell_type": "markdown",
   "metadata": {},
   "source": [
    "### Compute Bollinger Bands"
   ]
  },
  {
   "cell_type": "code",
   "execution_count": 475,
   "metadata": {
    "ExecuteTime": {
     "end_time": "2021-02-23T20:31:21.862142Z",
     "start_time": "2021-02-23T20:31:21.859408Z"
    }
   },
   "outputs": [],
   "source": [
    "def compute_bb(close):\n",
    "    high, mid, low = BBANDS(np.log1p(close), timeperiod=20)\n",
    "    return pd.DataFrame({'bb_high': high,\n",
    "                         'bb_mid': mid,\n",
    "                         'bb_low': low}, index=close.index)"
   ]
  },
  {
   "cell_type": "code",
   "execution_count": 476,
   "metadata": {
    "ExecuteTime": {
     "end_time": "2021-02-23T20:32:27.635722Z",
     "start_time": "2021-02-23T20:31:21.863546Z"
    }
   },
   "outputs": [],
   "source": [
    "bb = prices.groupby(level='ticker').close.apply(compute_bb)\n",
    "\n",
    "prices['bb_high'] = bb['bb_high'].values\n",
    "prices['bb_mid'] = bb['bb_mid'].values\n",
    "prices['bb_low'] = bb['bb_low'].values\n"
   ]
  },
  {
   "cell_type": "code",
   "execution_count": 477,
   "metadata": {
    "ExecuteTime": {
     "end_time": "2021-02-23T20:32:28.025953Z",
     "start_time": "2021-02-23T20:32:27.636648Z"
    }
   },
   "outputs": [
    {
     "name": "stdout",
     "output_type": "stream",
     "text": [
      "<class 'pandas.core.frame.DataFrame'>\n",
      "MultiIndex: 169923 entries, ('ALUA.BA', Timestamp('2010-01-04 00:00:00')) to ('YPFD.BA', Timestamp('2023-12-29 00:00:00'))\n",
      "Data columns (total 10 columns):\n",
      " #   Column   Non-Null Count   Dtype  \n",
      "---  ------   --------------   -----  \n",
      " 0   open     169923 non-null  float64\n",
      " 1   high     169923 non-null  float64\n",
      " 2   low      169923 non-null  float64\n",
      " 3   close    169923 non-null  float64\n",
      " 4   volume   169923 non-null  float64\n",
      " 5   sector   169923 non-null  object \n",
      " 6   rsi      169223 non-null  float64\n",
      " 7   bb_high  168973 non-null  float64\n",
      " 8   bb_mid   168973 non-null  float64\n",
      " 9   bb_low   168973 non-null  float64\n",
      "dtypes: float64(9), object(1)\n",
      "memory usage: 13.6+ MB\n"
     ]
    }
   ],
   "source": [
    "prices.info()"
   ]
  },
  {
   "cell_type": "code",
   "execution_count": 478,
   "metadata": {
    "ExecuteTime": {
     "end_time": "2021-02-23T20:32:29.422206Z",
     "start_time": "2021-02-23T20:32:28.026886Z"
    }
   },
   "outputs": [
    {
     "data": {
      "text/html": [
       "<div>\n",
       "<style scoped>\n",
       "    .dataframe tbody tr th:only-of-type {\n",
       "        vertical-align: middle;\n",
       "    }\n",
       "\n",
       "    .dataframe tbody tr th {\n",
       "        vertical-align: top;\n",
       "    }\n",
       "\n",
       "    .dataframe thead th {\n",
       "        text-align: right;\n",
       "    }\n",
       "</style>\n",
       "<table border=\"1\" class=\"dataframe\">\n",
       "  <thead>\n",
       "    <tr style=\"text-align: right;\">\n",
       "      <th></th>\n",
       "      <th>bb_high</th>\n",
       "      <th>bb_mid</th>\n",
       "      <th>bb_low</th>\n",
       "    </tr>\n",
       "  </thead>\n",
       "  <tbody>\n",
       "    <tr>\n",
       "      <th>count</th>\n",
       "      <td>168973.000000</td>\n",
       "      <td>168973.000000</td>\n",
       "      <td>168973.000000</td>\n",
       "    </tr>\n",
       "    <tr>\n",
       "      <th>mean</th>\n",
       "      <td>2.704298</td>\n",
       "      <td>2.622648</td>\n",
       "      <td>2.540999</td>\n",
       "    </tr>\n",
       "    <tr>\n",
       "      <th>std</th>\n",
       "      <td>1.705764</td>\n",
       "      <td>1.677142</td>\n",
       "      <td>1.651186</td>\n",
       "    </tr>\n",
       "    <tr>\n",
       "      <th>min</th>\n",
       "      <td>0.045079</td>\n",
       "      <td>0.043175</td>\n",
       "      <td>-0.340238</td>\n",
       "    </tr>\n",
       "    <tr>\n",
       "      <th>25%</th>\n",
       "      <td>1.266105</td>\n",
       "      <td>1.217069</td>\n",
       "      <td>1.155086</td>\n",
       "    </tr>\n",
       "    <tr>\n",
       "      <th>50%</th>\n",
       "      <td>2.455516</td>\n",
       "      <td>2.362196</td>\n",
       "      <td>2.276887</td>\n",
       "    </tr>\n",
       "    <tr>\n",
       "      <th>75%</th>\n",
       "      <td>3.821023</td>\n",
       "      <td>3.716403</td>\n",
       "      <td>3.623506</td>\n",
       "    </tr>\n",
       "    <tr>\n",
       "      <th>max</th>\n",
       "      <td>10.016267</td>\n",
       "      <td>9.712113</td>\n",
       "      <td>9.587675</td>\n",
       "    </tr>\n",
       "  </tbody>\n",
       "</table>\n",
       "</div>"
      ],
      "text/plain": [
       "             bb_high         bb_mid         bb_low\n",
       "count  168973.000000  168973.000000  168973.000000\n",
       "mean        2.704298       2.622648       2.540999\n",
       "std         1.705764       1.677142       1.651186\n",
       "min         0.045079       0.043175      -0.340238\n",
       "25%         1.266105       1.217069       1.155086\n",
       "50%         2.455516       2.362196       2.276887\n",
       "75%         3.821023       3.716403       3.623506\n",
       "max        10.016267       9.712113       9.587675"
      ]
     },
     "execution_count": 478,
     "metadata": {},
     "output_type": "execute_result"
    }
   ],
   "source": [
    "prices.filter(like='bb_').describe()"
   ]
  },
  {
   "cell_type": "code",
   "execution_count": 479,
   "metadata": {
    "ExecuteTime": {
     "end_time": "2021-02-23T20:33:37.302678Z",
     "start_time": "2021-02-23T20:32:29.423220Z"
    }
   },
   "outputs": [
    {
     "data": {
      "image/png": "[encoded data removed]",
      "text/plain": [
       "<Figure size 1500x400 with 3 Axes>"
      ]
     },
     "metadata": {},
     "output_type": "display_data"
    }
   ],
   "source": [
    "fig, axes = plt.subplots(ncols=3, figsize=(15,4))\n",
    "for i, col in enumerate(['bb_low', 'bb_mid', 'bb_low']):\n",
    "    sns.distplot(prices[col], ax=axes[i])\n",
    "    axes[i].set_title(col);\n",
    "fig.tight_layout();"
   ]
  },
  {
   "cell_type": "code",
   "execution_count": 480,
   "metadata": {
    "ExecuteTime": {
     "end_time": "2021-02-23T20:33:37.614610Z",
     "start_time": "2021-02-23T20:33:37.303801Z"
    }
   },
   "outputs": [],
   "source": [
    "prices['bb_up'] = prices.bb_high.sub(np.log1p(prices.close))\n",
    "prices['bb_down'] = np.log1p(prices.close).sub(prices.bb_low)"
   ]
  },
  {
   "cell_type": "code",
   "execution_count": 481,
   "metadata": {
    "ExecuteTime": {
     "end_time": "2021-02-23T20:33:42.626284Z",
     "start_time": "2021-02-23T20:33:37.615839Z"
    }
   },
   "outputs": [
    {
     "data": {
      "image/png": "[encoded data removed]",
      "text/plain": [
       "<Figure size 1000x400 with 2 Axes>"
      ]
     },
     "metadata": {},
     "output_type": "display_data"
    }
   ],
   "source": [
    "fig, axes = plt.subplots(ncols=2, figsize=(10,4))\n",
    "for i, col in enumerate(['bb_down', 'bb_up']):\n",
    "    sns.boxenplot(prices[col], ax=axes[i])\n",
    "    axes[i].set_title(col);\n",
    "fig.tight_layout();"
   ]
  },
  {
   "cell_type": "markdown",
   "metadata": {},
   "source": [
    "### Compute Average True Range"
   ]
  },
  {
   "cell_type": "markdown",
   "metadata": {},
   "source": [
    "Helper for indicators with multiple inputs:"
   ]
  },
  {
   "cell_type": "code",
   "execution_count": 482,
   "metadata": {
    "ExecuteTime": {
     "end_time": "2021-02-23T20:33:42.827296Z",
     "start_time": "2021-02-23T20:33:42.627221Z"
    }
   },
   "outputs": [],
   "source": [
    "by_ticker = prices.groupby('ticker', group_keys=False)"
   ]
  },
  {
   "cell_type": "code",
   "execution_count": 483,
   "metadata": {
    "ExecuteTime": {
     "end_time": "2021-02-23T20:33:42.831678Z",
     "start_time": "2021-02-23T20:33:42.828250Z"
    }
   },
   "outputs": [],
   "source": [
    "def compute_atr(stock_data):\n",
    "    atr = ATR(stock_data.high, \n",
    "              stock_data.low, \n",
    "              stock_data.close, \n",
    "              timeperiod=14)\n",
    "    return atr.sub(atr.mean()).div(atr.std())"
   ]
  },
  {
   "cell_type": "code",
   "execution_count": 484,
   "metadata": {
    "ExecuteTime": {
     "end_time": "2021-02-23T20:34:04.342244Z",
     "start_time": "2021-02-23T20:33:42.833588Z"
    }
   },
   "outputs": [],
   "source": [
    "prices['atr'] = by_ticker.apply(compute_atr)"
   ]
  },
  {
   "cell_type": "code",
   "execution_count": 485,
   "metadata": {
    "ExecuteTime": {
     "end_time": "2021-02-23T20:34:27.080212Z",
     "start_time": "2021-02-23T20:34:04.343606Z"
    }
   },
   "outputs": [
    {
     "data": {
      "image/png": "[encoded data removed]",
      "text/plain": [
       "<Figure size 640x480 with 1 Axes>"
      ]
     },
     "metadata": {},
     "output_type": "display_data"
    }
   ],
   "source": [
    "sns.distplot(prices.atr);"
   ]
  },
  {
   "cell_type": "code",
   "execution_count": 486,
   "metadata": {
    "ExecuteTime": {
     "end_time": "2021-02-23T20:34:48.557533Z",
     "start_time": "2021-02-23T20:34:27.081545Z"
    }
   },
   "outputs": [],
   "source": [
    "prices['natr'] = by_ticker.apply(lambda x: NATR(high=x.high, low=x.low, close=x.close))"
   ]
  },
  {
   "cell_type": "code",
   "execution_count": 487,
   "metadata": {
    "ExecuteTime": {
     "end_time": "2021-02-23T20:35:12.618207Z",
     "start_time": "2021-02-23T20:34:48.558475Z"
    }
   },
   "outputs": [
    {
     "data": {
      "image/png": "[encoded data removed]",
      "text/plain": [
       "<Figure size 640x480 with 1 Axes>"
      ]
     },
     "metadata": {},
     "output_type": "display_data"
    }
   ],
   "source": [
    "sns.distplot(prices.natr[prices.natr<10]);"
   ]
  },
  {
   "cell_type": "markdown",
   "metadata": {},
   "source": [
    "### Compute Moving Average Convergence/Divergence"
   ]
  },
  {
   "cell_type": "code",
   "execution_count": 488,
   "metadata": {
    "ExecuteTime": {
     "end_time": "2021-02-23T20:36:07.366887Z",
     "start_time": "2021-02-23T20:35:12.619395Z"
    },
    "scrolled": false
   },
   "outputs": [],
   "source": [
    "def compute_macd(close):\n",
    "    macd = MACD(close)[0]\n",
    "    return macd.sub(macd.mean()).div(macd.std())\n",
    "\n",
    "prices['macd'] = prices.groupby(level='ticker').close.apply(compute_macd).values"
   ]
  },
  {
   "cell_type": "code",
   "execution_count": 489,
   "metadata": {
    "ExecuteTime": {
     "end_time": "2021-02-23T20:36:31.231218Z",
     "start_time": "2021-02-23T20:36:07.368084Z"
    }
   },
   "outputs": [
    {
     "data": {
      "image/png": "[encoded data removed]",
      "text/plain": [
       "<Figure size 640x480 with 1 Axes>"
      ]
     },
     "metadata": {},
     "output_type": "display_data"
    }
   ],
   "source": [
    "sns.distplot(prices.macd);"
   ]
  },
  {
   "cell_type": "markdown",
   "metadata": {},
   "source": [
    "## Compute money volume to determine universe"
   ]
  },
  {
   "cell_type": "code",
   "execution_count": 490,
   "metadata": {
    "ExecuteTime": {
     "end_time": "2021-02-23T20:36:31.308363Z",
     "start_time": "2021-02-23T20:36:31.232479Z"
    }
   },
   "outputs": [],
   "source": [
    "prices['money_volume'] = (prices.loc[:, 'close']\n",
    "                           .mul(prices.loc[:, 'volume'], axis=0))\n",
    "\n",
    "prices.money_volume /= 1e6"
   ]
  },
  {
   "cell_type": "code",
   "execution_count": 491,
   "metadata": {
    "ExecuteTime": {
     "end_time": "2021-02-23T20:36:32.915677Z",
     "start_time": "2021-02-23T20:36:31.309455Z"
    }
   },
   "outputs": [],
   "source": [
    "prices.to_hdf('data.h5', 'us/equities/prices')"
   ]
  },
  {
   "cell_type": "code",
   "execution_count": 492,
   "metadata": {
    "ExecuteTime": {
     "end_time": "2021-02-23T20:36:36.371266Z",
     "start_time": "2021-02-23T20:36:32.917114Z"
    }
   },
   "outputs": [
    {
     "name": "stdout",
     "output_type": "stream",
     "text": [
      "<class 'pandas.core.frame.DataFrame'>\n",
      "MultiIndex: 169923 entries, ('ALUA.BA', Timestamp('2010-01-04 00:00:00')) to ('YPFD.BA', Timestamp('2023-12-29 00:00:00'))\n",
      "Data columns (total 16 columns):\n",
      " #   Column        Non-Null Count   Dtype  \n",
      "---  ------        --------------   -----  \n",
      " 0   open          169923 non-null  float64\n",
      " 1   high          169923 non-null  float64\n",
      " 2   low           169923 non-null  float64\n",
      " 3   close         169923 non-null  float64\n",
      " 4   volume        169923 non-null  float64\n",
      " 5   sector        169923 non-null  object \n",
      " 6   rsi           169223 non-null  float64\n",
      " 7   bb_high       168973 non-null  float64\n",
      " 8   bb_mid        168973 non-null  float64\n",
      " 9   bb_low        168973 non-null  float64\n",
      " 10  bb_up         168973 non-null  float64\n",
      " 11  bb_down       168973 non-null  float64\n",
      " 12  atr           169223 non-null  float64\n",
      " 13  natr          169223 non-null  float64\n",
      " 14  macd          168273 non-null  float64\n",
      " 15  money_volume  169923 non-null  float64\n",
      "dtypes: float64(15), object(1)\n",
      "memory usage: 21.4+ MB\n"
     ]
    }
   ],
   "source": [
    "prices = pd.read_hdf('data.h5', 'us/equities/prices')\n",
    "prices.info()"
   ]
  },
  {
   "cell_type": "markdown",
   "metadata": {},
   "source": [
    "## Resample OHLCV prices to monthly frequency"
   ]
  },
  {
   "cell_type": "markdown",
   "metadata": {},
   "source": [
    "To reduce training time and experiment with strategies for longer time horizons, we convert the business-daily data to month-end frequency using the available adjusted close price:"
   ]
  },
  {
   "cell_type": "code",
   "execution_count": 493,
   "metadata": {
    "ExecuteTime": {
     "end_time": "2021-02-23T20:36:36.374719Z",
     "start_time": "2021-02-23T20:36:36.372390Z"
    }
   },
   "outputs": [],
   "source": [
    "last_cols = [c for c in prices.columns.unique(0) if c not in ['money_volume', 'volume',\n",
    "                                                              'open', 'high', 'low']]"
   ]
  },
  {
   "cell_type": "code",
   "execution_count": 494,
   "metadata": {
    "ExecuteTime": {
     "end_time": "2021-02-23T20:36:39.763558Z",
     "start_time": "2021-02-23T20:36:36.375717Z"
    }
   },
   "outputs": [],
   "source": [
    "prices = prices.unstack('ticker')"
   ]
  },
  {
   "cell_type": "code",
   "execution_count": 495,
   "metadata": {
    "ExecuteTime": {
     "end_time": "2021-02-23T20:36:46.968273Z",
     "start_time": "2021-02-23T20:36:39.764800Z"
    }
   },
   "outputs": [],
   "source": [
    "data = (pd.concat([prices.money_volume.resample('M').mean().stack('ticker').to_frame('money_volume'),\n",
    "                   prices[last_cols].resample('M').last().stack('ticker')],\n",
    "                  axis=1)\n",
    "        .swaplevel()\n",
    "        .dropna())"
   ]
  },
  {
   "cell_type": "code",
   "execution_count": 496,
   "metadata": {
    "ExecuteTime": {
     "end_time": "2021-02-23T20:36:47.009662Z",
     "start_time": "2021-02-23T20:36:46.969428Z"
    }
   },
   "outputs": [
    {
     "name": "stdout",
     "output_type": "stream",
     "text": [
      "<class 'pandas.core.frame.DataFrame'>\n",
      "MultiIndex: 8361 entries, ('ALUA.BA', Timestamp('2010-01-31 00:00:00')) to ('INVJ.BA', Timestamp('2023-12-31 00:00:00'))\n",
      "Data columns (total 12 columns):\n",
      " #   Column        Non-Null Count  Dtype  \n",
      "---  ------        --------------  -----  \n",
      " 0   money_volume  8361 non-null   float64\n",
      " 1   atr           8361 non-null   float64\n",
      " 2   bb_down       8361 non-null   float64\n",
      " 3   bb_high       8361 non-null   float64\n",
      " 4   bb_low        8361 non-null   float64\n",
      " 5   bb_mid        8361 non-null   float64\n",
      " 6   bb_up         8361 non-null   float64\n",
      " 7   close         8361 non-null   float64\n",
      " 8   macd          8361 non-null   float64\n",
      " 9   natr          8361 non-null   float64\n",
      " 10  rsi           8361 non-null   float64\n",
      " 11  sector        8361 non-null   object \n",
      "dtypes: float64(11), object(1)\n",
      "memory usage: 816.3+ KB\n"
     ]
    }
   ],
   "source": [
    "data.info()"
   ]
  },
  {
   "cell_type": "markdown",
   "metadata": {},
   "source": [
    "## Create monthly return series"
   ]
  },
  {
   "cell_type": "markdown",
   "metadata": {},
   "source": [
    "To capture time series dynamics that reflect, for example, momentum patterns, we compute historical returns using the method `.pct_change(n_periods)`, that is, returns over various monthly periods as identified by lags.\n",
    "\n",
    "We then convert the wide result back to long format with the `.stack()` method, use `.pipe()` to apply the `.clip()` method to the resulting `DataFrame`, and winsorize returns at the [1%, 99%] levels; that is, we cap outliers at these percentiles.\n",
    "\n",
    "Finally, we normalize returns using the geometric average. After using `.swaplevel()` to change the order of the `MultiIndex` levels, we obtain compounded monthly returns for six periods ranging from 1 to 12 months:"
   ]
  },
  {
   "cell_type": "code",
   "execution_count": 497,
   "metadata": {
    "ExecuteTime": {
     "end_time": "2021-02-23T20:41:01.905281Z",
     "start_time": "2021-02-23T20:41:01.894367Z"
    }
   },
   "outputs": [],
   "source": [
    "outlier_cutoff = 0.01\n",
    "lags = [1, 3, 6, 12]\n",
    "returns = []"
   ]
  },
  {
   "cell_type": "code",
   "execution_count": 498,
   "metadata": {
    "ExecuteTime": {
     "end_time": "2021-02-23T20:41:07.775321Z",
     "start_time": "2021-02-23T20:41:01.906659Z"
    }
   },
   "outputs": [
    {
     "name": "stdout",
     "output_type": "stream",
     "text": [
      "<class 'pandas.core.frame.DataFrame'>\n",
      "MultiIndex: 8311 entries, ('ALUA.BA', Timestamp('2010-02-28 00:00:00')) to ('INVJ.BA', Timestamp('2023-12-31 00:00:00'))\n",
      "Data columns (total 4 columns):\n",
      " #   Column      Non-Null Count  Dtype  \n",
      "---  ------      --------------  -----  \n",
      " 0   return_1m   8311 non-null   float64\n",
      " 1   return_3m   8211 non-null   float64\n",
      " 2   return_6m   8061 non-null   float64\n",
      " 3   return_12m  7761 non-null   float64\n",
      "dtypes: float64(4)\n",
      "memory usage: 287.9+ KB\n"
     ]
    }
   ],
   "source": [
    "for lag in lags:\n",
    "    returns.append(data\n",
    "                   .close\n",
    "                   .unstack('ticker')\n",
    "                   .sort_index()\n",
    "                   .pct_change(lag)\n",
    "                   .stack('ticker')\n",
    "                   .pipe(lambda x: x.clip(lower=x.quantile(outlier_cutoff),\n",
    "                                          upper=x.quantile(1-outlier_cutoff)))\n",
    "                   .add(1)\n",
    "                   .pow(1/lag)\n",
    "                   .sub(1)\n",
    "                   .to_frame(f'return_{lag}m')\n",
    "                   )\n",
    "    \n",
    "returns = pd.concat(returns, axis=1).swaplevel()\n",
    "returns.info()"
   ]
  },
  {
   "cell_type": "code",
   "execution_count": 499,
   "metadata": {
    "ExecuteTime": {
     "end_time": "2021-02-23T20:41:11.269318Z",
     "start_time": "2021-02-23T20:41:11.221582Z"
    }
   },
   "outputs": [
    {
     "data": {
      "text/html": [
       "<div>\n",
       "<style scoped>\n",
       "    .dataframe tbody tr th:only-of-type {\n",
       "        vertical-align: middle;\n",
       "    }\n",
       "\n",
       "    .dataframe tbody tr th {\n",
       "        vertical-align: top;\n",
       "    }\n",
       "\n",
       "    .dataframe thead th {\n",
       "        text-align: right;\n",
       "    }\n",
       "</style>\n",
       "<table border=\"1\" class=\"dataframe\">\n",
       "  <thead>\n",
       "    <tr style=\"text-align: right;\">\n",
       "      <th></th>\n",
       "      <th>return_1m</th>\n",
       "      <th>return_3m</th>\n",
       "      <th>return_6m</th>\n",
       "      <th>return_12m</th>\n",
       "    </tr>\n",
       "  </thead>\n",
       "  <tbody>\n",
       "    <tr>\n",
       "      <th>count</th>\n",
       "      <td>8311.000000</td>\n",
       "      <td>8211.000000</td>\n",
       "      <td>8061.000000</td>\n",
       "      <td>7761.000000</td>\n",
       "    </tr>\n",
       "    <tr>\n",
       "      <th>mean</th>\n",
       "      <td>0.047157</td>\n",
       "      <td>0.038461</td>\n",
       "      <td>0.035914</td>\n",
       "      <td>0.033034</td>\n",
       "    </tr>\n",
       "    <tr>\n",
       "      <th>std</th>\n",
       "      <td>0.158293</td>\n",
       "      <td>0.089033</td>\n",
       "      <td>0.062787</td>\n",
       "      <td>0.047806</td>\n",
       "    </tr>\n",
       "    <tr>\n",
       "      <th>min</th>\n",
       "      <td>-0.282536</td>\n",
       "      <td>-0.155423</td>\n",
       "      <td>-0.099001</td>\n",
       "      <td>-0.070501</td>\n",
       "    </tr>\n",
       "    <tr>\n",
       "      <th>25%</th>\n",
       "      <td>-0.048976</td>\n",
       "      <td>-0.019308</td>\n",
       "      <td>-0.006240</td>\n",
       "      <td>0.000000</td>\n",
       "    </tr>\n",
       "    <tr>\n",
       "      <th>50%</th>\n",
       "      <td>0.014271</td>\n",
       "      <td>0.023264</td>\n",
       "      <td>0.027672</td>\n",
       "      <td>0.029662</td>\n",
       "    </tr>\n",
       "    <tr>\n",
       "      <th>75%</th>\n",
       "      <td>0.116667</td>\n",
       "      <td>0.087104</td>\n",
       "      <td>0.074249</td>\n",
       "      <td>0.062823</td>\n",
       "    </tr>\n",
       "    <tr>\n",
       "      <th>max</th>\n",
       "      <td>0.631870</td>\n",
       "      <td>0.327617</td>\n",
       "      <td>0.219865</td>\n",
       "      <td>0.168808</td>\n",
       "    </tr>\n",
       "  </tbody>\n",
       "</table>\n",
       "</div>"
      ],
      "text/plain": [
       "         return_1m    return_3m    return_6m   return_12m\n",
       "count  8311.000000  8211.000000  8061.000000  7761.000000\n",
       "mean      0.047157     0.038461     0.035914     0.033034\n",
       "std       0.158293     0.089033     0.062787     0.047806\n",
       "min      -0.282536    -0.155423    -0.099001    -0.070501\n",
       "25%      -0.048976    -0.019308    -0.006240     0.000000\n",
       "50%       0.014271     0.023264     0.027672     0.029662\n",
       "75%       0.116667     0.087104     0.074249     0.062823\n",
       "max       0.631870     0.327617     0.219865     0.168808"
      ]
     },
     "execution_count": 499,
     "metadata": {},
     "output_type": "execute_result"
    }
   ],
   "source": [
    "returns.describe()"
   ]
  },
  {
   "cell_type": "code",
   "execution_count": 500,
   "metadata": {
    "ExecuteTime": {
     "end_time": "2021-02-23T20:41:14.718336Z",
     "start_time": "2021-02-23T20:41:14.046696Z"
    },
    "scrolled": false
   },
   "outputs": [
    {
     "data": {
      "image/png": "[encoded data removed]",
      "text/plain": [
       "<Figure size 1000x1000 with 4 Axes>"
      ]
     },
     "metadata": {},
     "output_type": "display_data"
    }
   ],
   "source": [
    "cmap = sns.diverging_palette(10, 220, as_cmap=True)\n",
    "sns.clustermap(returns.corr('spearman'), annot=True, center=0, cmap=cmap);"
   ]
  },
  {
   "cell_type": "code",
   "execution_count": 501,
   "metadata": {
    "ExecuteTime": {
     "end_time": "2021-02-23T20:41:18.324087Z",
     "start_time": "2021-02-23T20:41:17.783552Z"
    }
   },
   "outputs": [
    {
     "name": "stdout",
     "output_type": "stream",
     "text": [
      "<class 'pandas.core.frame.DataFrame'>\n",
      "MultiIndex: 7761 entries, ('ALUA.BA', Timestamp('2011-01-31 00:00:00')) to ('INVJ.BA', Timestamp('2023-12-31 00:00:00'))\n",
      "Data columns (total 15 columns):\n",
      " #   Column        Non-Null Count  Dtype  \n",
      "---  ------        --------------  -----  \n",
      " 0   money_volume  7761 non-null   float64\n",
      " 1   atr           7761 non-null   float64\n",
      " 2   bb_down       7761 non-null   float64\n",
      " 3   bb_high       7761 non-null   float64\n",
      " 4   bb_low        7761 non-null   float64\n",
      " 5   bb_mid        7761 non-null   float64\n",
      " 6   bb_up         7761 non-null   float64\n",
      " 7   macd          7761 non-null   float64\n",
      " 8   natr          7761 non-null   float64\n",
      " 9   rsi           7761 non-null   float64\n",
      " 10  sector        7761 non-null   object \n",
      " 11  return_1m     7761 non-null   float64\n",
      " 12  return_3m     7761 non-null   float64\n",
      " 13  return_6m     7761 non-null   float64\n",
      " 14  return_12m    7761 non-null   float64\n",
      "dtypes: float64(14), object(1)\n",
      "memory usage: 940.2+ KB\n"
     ]
    }
   ],
   "source": [
    "data = data.join(returns).drop('close', axis=1).dropna()\n",
    "data.info()"
   ]
  },
  {
   "cell_type": "code",
   "execution_count": 502,
   "metadata": {
    "ExecuteTime": {
     "end_time": "2021-02-23T20:41:20.013017Z",
     "start_time": "2021-02-23T20:41:18.325557Z"
    }
   },
   "outputs": [],
   "source": [
    "min_obs = 5*12\n",
    "nobs = data.groupby(level='ticker').size()\n",
    "to_drop = nobs[nobs < min_obs].index\n",
    "data = data.drop(to_drop, level='ticker')"
   ]
  },
  {
   "cell_type": "code",
   "execution_count": 503,
   "metadata": {
    "ExecuteTime": {
     "end_time": "2021-02-23T20:41:20.018610Z",
     "start_time": "2021-02-23T20:41:20.014356Z"
    }
   },
   "outputs": [
    {
     "data": {
      "text/plain": [
       "'the result is 50 tickers'"
      ]
     },
     "execution_count": 503,
     "metadata": {},
     "output_type": "execute_result"
    }
   ],
   "source": [
    "tickers_left = len(data.index.unique('ticker'))\n",
    "f\"the result is {tickers_left} tickers\""
   ]
  },
  {
   "cell_type": "markdown",
   "metadata": {},
   "source": [
    "## Rolling Factor Betas"
   ]
  },
  {
   "cell_type": "markdown",
   "metadata": {},
   "source": [
    "The five Fama—French factors, namely market risk, size, value, operating profitability, and investment have been shown empirically to explain asset returns and are commonly used to assess the risk/return profile of portfolios. Hence, it is natural to include past factor exposures as financial features in models that aim to predict future returns."
   ]
  },
  {
   "cell_type": "markdown",
   "metadata": {},
   "source": [
    "We can access the historical factor returns using the `pandas-datareader` and estimate historical exposures using the `PandasRollingOLS` rolling linear regression functionality in the `pyfinance` library as follows:"
   ]
  },
  {
   "cell_type": "markdown",
   "metadata": {},
   "source": [
    "We can use Fama-French research factors to estimate the factor exposures of the stock in the dataset to the 5 factors market risk, size, value, operating profitability and investment."
   ]
  },
  {
   "cell_type": "code",
   "execution_count": 504,
   "metadata": {
    "ExecuteTime": {
     "end_time": "2021-02-23T20:42:11.097763Z",
     "start_time": "2021-02-23T20:42:10.880529Z"
    },
    "scrolled": false
   },
   "outputs": [
    {
     "name": "stdout",
     "output_type": "stream",
     "text": [
      "<class 'pandas.core.frame.DataFrame'>\n",
      "DatetimeIndex: 172 entries, 2010-01-31 to 2024-04-30\n",
      "Freq: M\n",
      "Data columns (total 5 columns):\n",
      " #   Column  Non-Null Count  Dtype  \n",
      "---  ------  --------------  -----  \n",
      " 0   Mkt-RF  172 non-null    float64\n",
      " 1   SMB     172 non-null    float64\n",
      " 2   HML     172 non-null    float64\n",
      " 3   RMW     172 non-null    float64\n",
      " 4   CMA     172 non-null    float64\n",
      "dtypes: float64(5)\n",
      "memory usage: 8.1 KB\n"
     ]
    }
   ],
   "source": [
    "factors = ['Mkt-RF', 'SMB', 'HML', 'RMW', 'CMA']\n",
    "factor_data = web.DataReader('F-F_Research_Data_5_Factors_2x3', \n",
    "                             'famafrench', \n",
    "                             start=START)[0].drop('RF', axis=1)\n",
    "factor_data.index = factor_data.index.to_timestamp()\n",
    "factor_data = factor_data.resample('M').last().div(100)\n",
    "factor_data.index.name = 'date'\n",
    "factor_data.info()"
   ]
  },
  {
   "cell_type": "code",
   "execution_count": 505,
   "metadata": {
    "ExecuteTime": {
     "end_time": "2021-02-23T20:42:12.481069Z",
     "start_time": "2021-02-23T20:42:12.417368Z"
    },
    "scrolled": true
   },
   "outputs": [
    {
     "name": "stdout",
     "output_type": "stream",
     "text": [
      "<class 'pandas.core.frame.DataFrame'>\n",
      "MultiIndex: 7761 entries, ('ALUA.BA', Timestamp('2011-01-31 00:00:00')) to ('YPFD.BA', Timestamp('2023-12-31 00:00:00'))\n",
      "Data columns (total 6 columns):\n",
      " #   Column     Non-Null Count  Dtype  \n",
      "---  ------     --------------  -----  \n",
      " 0   Mkt-RF     7761 non-null   float64\n",
      " 1   SMB        7761 non-null   float64\n",
      " 2   HML        7761 non-null   float64\n",
      " 3   RMW        7761 non-null   float64\n",
      " 4   CMA        7761 non-null   float64\n",
      " 5   return_1m  7761 non-null   float64\n",
      "dtypes: float64(6)\n",
      "memory usage: 392.4+ KB\n"
     ]
    }
   ],
   "source": [
    "factor_data = factor_data.join(data['return_1m']).dropna().sort_index()\n",
    "factor_data['return_1m'] -= factor_data['Mkt-RF']\n",
    "factor_data.info()"
   ]
  },
  {
   "cell_type": "code",
   "execution_count": 506,
   "metadata": {
    "ExecuteTime": {
     "end_time": "2021-02-23T20:42:12.761795Z",
     "start_time": "2021-02-23T20:42:12.722981Z"
    }
   },
   "outputs": [
    {
     "data": {
      "text/html": [
       "<div>\n",
       "<style scoped>\n",
       "    .dataframe tbody tr th:only-of-type {\n",
       "        vertical-align: middle;\n",
       "    }\n",
       "\n",
       "    .dataframe tbody tr th {\n",
       "        vertical-align: top;\n",
       "    }\n",
       "\n",
       "    .dataframe thead th {\n",
       "        text-align: right;\n",
       "    }\n",
       "</style>\n",
       "<table border=\"1\" class=\"dataframe\">\n",
       "  <thead>\n",
       "    <tr style=\"text-align: right;\">\n",
       "      <th></th>\n",
       "      <th>Mkt-RF</th>\n",
       "      <th>SMB</th>\n",
       "      <th>HML</th>\n",
       "      <th>RMW</th>\n",
       "      <th>CMA</th>\n",
       "      <th>return_1m</th>\n",
       "    </tr>\n",
       "  </thead>\n",
       "  <tbody>\n",
       "    <tr>\n",
       "      <th>count</th>\n",
       "      <td>7761.000000</td>\n",
       "      <td>7761.000000</td>\n",
       "      <td>7761.000000</td>\n",
       "      <td>7761.000000</td>\n",
       "      <td>7761.000000</td>\n",
       "      <td>7761.000000</td>\n",
       "    </tr>\n",
       "    <tr>\n",
       "      <th>mean</th>\n",
       "      <td>0.010149</td>\n",
       "      <td>-0.000932</td>\n",
       "      <td>-0.000919</td>\n",
       "      <td>0.003110</td>\n",
       "      <td>0.000245</td>\n",
       "      <td>0.036260</td>\n",
       "    </tr>\n",
       "    <tr>\n",
       "      <th>std</th>\n",
       "      <td>0.043464</td>\n",
       "      <td>0.026598</td>\n",
       "      <td>0.033408</td>\n",
       "      <td>0.020216</td>\n",
       "      <td>0.021491</td>\n",
       "      <td>0.154282</td>\n",
       "    </tr>\n",
       "    <tr>\n",
       "      <th>min</th>\n",
       "      <td>-0.133900</td>\n",
       "      <td>-0.082800</td>\n",
       "      <td>-0.138700</td>\n",
       "      <td>-0.047500</td>\n",
       "      <td>-0.072200</td>\n",
       "      <td>-0.347136</td>\n",
       "    </tr>\n",
       "    <tr>\n",
       "      <th>25%</th>\n",
       "      <td>-0.015500</td>\n",
       "      <td>-0.019300</td>\n",
       "      <td>-0.018300</td>\n",
       "      <td>-0.011700</td>\n",
       "      <td>-0.013600</td>\n",
       "      <td>-0.059998</td>\n",
       "    </tr>\n",
       "    <tr>\n",
       "      <th>50%</th>\n",
       "      <td>0.012700</td>\n",
       "      <td>-0.000600</td>\n",
       "      <td>-0.003700</td>\n",
       "      <td>0.003000</td>\n",
       "      <td>-0.000800</td>\n",
       "      <td>0.007609</td>\n",
       "    </tr>\n",
       "    <tr>\n",
       "      <th>75%</th>\n",
       "      <td>0.034000</td>\n",
       "      <td>0.015700</td>\n",
       "      <td>0.013800</td>\n",
       "      <td>0.015600</td>\n",
       "      <td>0.012400</td>\n",
       "      <td>0.104714</td>\n",
       "    </tr>\n",
       "    <tr>\n",
       "      <th>max</th>\n",
       "      <td>0.136500</td>\n",
       "      <td>0.073200</td>\n",
       "      <td>0.127500</td>\n",
       "      <td>0.072000</td>\n",
       "      <td>0.077200</td>\n",
       "      <td>0.669570</td>\n",
       "    </tr>\n",
       "  </tbody>\n",
       "</table>\n",
       "</div>"
      ],
      "text/plain": [
       "            Mkt-RF          SMB          HML          RMW          CMA  \\\n",
       "count  7761.000000  7761.000000  7761.000000  7761.000000  7761.000000   \n",
       "mean      0.010149    -0.000932    -0.000919     0.003110     0.000245   \n",
       "std       0.043464     0.026598     0.033408     0.020216     0.021491   \n",
       "min      -0.133900    -0.082800    -0.138700    -0.047500    -0.072200   \n",
       "25%      -0.015500    -0.019300    -0.018300    -0.011700    -0.013600   \n",
       "50%       0.012700    -0.000600    -0.003700     0.003000    -0.000800   \n",
       "75%       0.034000     0.015700     0.013800     0.015600     0.012400   \n",
       "max       0.136500     0.073200     0.127500     0.072000     0.077200   \n",
       "\n",
       "         return_1m  \n",
       "count  7761.000000  \n",
       "mean      0.036260  \n",
       "std       0.154282  \n",
       "min      -0.347136  \n",
       "25%      -0.059998  \n",
       "50%       0.007609  \n",
       "75%       0.104714  \n",
       "max       0.669570  "
      ]
     },
     "execution_count": 506,
     "metadata": {},
     "output_type": "execute_result"
    }
   ],
   "source": [
    "factor_data.describe()"
   ]
  },
  {
   "cell_type": "code",
   "execution_count": 507,
   "metadata": {
    "ExecuteTime": {
     "end_time": "2021-02-23T20:42:17.214895Z",
     "start_time": "2021-02-23T20:42:15.331075Z"
    }
   },
   "outputs": [],
   "source": [
    "T = 60\n",
    "betas = (factor_data.groupby(level='ticker',\n",
    "                             group_keys=False)\n",
    "         .apply(lambda x: RollingOLS(endog=x.return_1m,\n",
    "                                     exog=sm.add_constant(x.drop('return_1m', axis=1)),\n",
    "                                     window=min(T, x.shape[0]-1))\n",
    "                .fit(params_only=True)\n",
    "                .params\n",
    "                .rename(columns={'Mkt-RF': 'beta'})\n",
    "                .drop('const', axis=1)))"
   ]
  },
  {
   "cell_type": "code",
   "execution_count": 508,
   "metadata": {},
   "outputs": [
    {
     "data": {
      "text/html": [
       "<div>\n",
       "<style scoped>\n",
       "    .dataframe tbody tr th:only-of-type {\n",
       "        vertical-align: middle;\n",
       "    }\n",
       "\n",
       "    .dataframe tbody tr th {\n",
       "        vertical-align: top;\n",
       "    }\n",
       "\n",
       "    .dataframe thead th {\n",
       "        text-align: right;\n",
       "    }\n",
       "</style>\n",
       "<table border=\"1\" class=\"dataframe\">\n",
       "  <thead>\n",
       "    <tr style=\"text-align: right;\">\n",
       "      <th></th>\n",
       "      <th>beta</th>\n",
       "      <th>SMB</th>\n",
       "      <th>HML</th>\n",
       "      <th>RMW</th>\n",
       "      <th>CMA</th>\n",
       "      <th>total</th>\n",
       "    </tr>\n",
       "  </thead>\n",
       "  <tbody>\n",
       "    <tr>\n",
       "      <th>count</th>\n",
       "      <td>4811.000000</td>\n",
       "      <td>4811.000000</td>\n",
       "      <td>4811.000000</td>\n",
       "      <td>4811.000000</td>\n",
       "      <td>4811.000000</td>\n",
       "      <td>7761.000000</td>\n",
       "    </tr>\n",
       "    <tr>\n",
       "      <th>mean</th>\n",
       "      <td>0.052182</td>\n",
       "      <td>-0.386584</td>\n",
       "      <td>0.051824</td>\n",
       "      <td>-0.014564</td>\n",
       "      <td>0.120549</td>\n",
       "      <td>-0.109469</td>\n",
       "    </tr>\n",
       "    <tr>\n",
       "      <th>std</th>\n",
       "      <td>0.629834</td>\n",
       "      <td>0.836329</td>\n",
       "      <td>0.855284</td>\n",
       "      <td>1.108469</td>\n",
       "      <td>1.365565</td>\n",
       "      <td>1.493887</td>\n",
       "    </tr>\n",
       "    <tr>\n",
       "      <th>min</th>\n",
       "      <td>-2.180037</td>\n",
       "      <td>-3.525452</td>\n",
       "      <td>-2.734880</td>\n",
       "      <td>-3.700288</td>\n",
       "      <td>-4.495103</td>\n",
       "      <td>-7.412233</td>\n",
       "    </tr>\n",
       "    <tr>\n",
       "      <th>25%</th>\n",
       "      <td>-0.321082</td>\n",
       "      <td>-0.893639</td>\n",
       "      <td>-0.485665</td>\n",
       "      <td>-0.733440</td>\n",
       "      <td>-0.789444</td>\n",
       "      <td>-0.631847</td>\n",
       "    </tr>\n",
       "    <tr>\n",
       "      <th>50%</th>\n",
       "      <td>0.077933</td>\n",
       "      <td>-0.323710</td>\n",
       "      <td>0.063009</td>\n",
       "      <td>-0.020771</td>\n",
       "      <td>0.135177</td>\n",
       "      <td>0.000000</td>\n",
       "    </tr>\n",
       "    <tr>\n",
       "      <th>75%</th>\n",
       "      <td>0.467667</td>\n",
       "      <td>0.141346</td>\n",
       "      <td>0.592178</td>\n",
       "      <td>0.761957</td>\n",
       "      <td>1.036403</td>\n",
       "      <td>0.280320</td>\n",
       "    </tr>\n",
       "    <tr>\n",
       "      <th>max</th>\n",
       "      <td>1.896617</td>\n",
       "      <td>3.290422</td>\n",
       "      <td>3.808710</td>\n",
       "      <td>3.587107</td>\n",
       "      <td>4.458973</td>\n",
       "      <td>6.140501</td>\n",
       "    </tr>\n",
       "  </tbody>\n",
       "</table>\n",
       "</div>"
      ],
      "text/plain": [
       "              beta          SMB          HML          RMW          CMA  \\\n",
       "count  4811.000000  4811.000000  4811.000000  4811.000000  4811.000000   \n",
       "mean      0.052182    -0.386584     0.051824    -0.014564     0.120549   \n",
       "std       0.629834     0.836329     0.855284     1.108469     1.365565   \n",
       "min      -2.180037    -3.525452    -2.734880    -3.700288    -4.495103   \n",
       "25%      -0.321082    -0.893639    -0.485665    -0.733440    -0.789444   \n",
       "50%       0.077933    -0.323710     0.063009    -0.020771     0.135177   \n",
       "75%       0.467667     0.141346     0.592178     0.761957     1.036403   \n",
       "max       1.896617     3.290422     3.808710     3.587107     4.458973   \n",
       "\n",
       "             total  \n",
       "count  7761.000000  \n",
       "mean     -0.109469  \n",
       "std       1.493887  \n",
       "min      -7.412233  \n",
       "25%      -0.631847  \n",
       "50%       0.000000  \n",
       "75%       0.280320  \n",
       "max       6.140501  "
      ]
     },
     "execution_count": 508,
     "metadata": {},
     "output_type": "execute_result"
    }
   ],
   "source": [
    "betas.describe().join(betas.sum(1).describe().to_frame('total'))"
   ]
  },
  {
   "cell_type": "code",
   "execution_count": 509,
   "metadata": {
    "ExecuteTime": {
     "end_time": "2021-02-23T20:42:17.251480Z",
     "start_time": "2021-02-23T20:42:17.216084Z"
    }
   },
   "outputs": [
    {
     "data": {
      "text/html": [
       "<div>\n",
       "<style scoped>\n",
       "    .dataframe tbody tr th:only-of-type {\n",
       "        vertical-align: middle;\n",
       "    }\n",
       "\n",
       "    .dataframe tbody tr th {\n",
       "        vertical-align: top;\n",
       "    }\n",
       "\n",
       "    .dataframe thead th {\n",
       "        text-align: right;\n",
       "    }\n",
       "</style>\n",
       "<table border=\"1\" class=\"dataframe\">\n",
       "  <thead>\n",
       "    <tr style=\"text-align: right;\">\n",
       "      <th></th>\n",
       "      <th>beta</th>\n",
       "      <th>SMB</th>\n",
       "      <th>HML</th>\n",
       "      <th>RMW</th>\n",
       "      <th>CMA</th>\n",
       "      <th>total</th>\n",
       "    </tr>\n",
       "  </thead>\n",
       "  <tbody>\n",
       "    <tr>\n",
       "      <th>count</th>\n",
       "      <td>4811.000000</td>\n",
       "      <td>4811.000000</td>\n",
       "      <td>4811.000000</td>\n",
       "      <td>4811.000000</td>\n",
       "      <td>4811.000000</td>\n",
       "      <td>7761.000000</td>\n",
       "    </tr>\n",
       "    <tr>\n",
       "      <th>mean</th>\n",
       "      <td>0.052182</td>\n",
       "      <td>-0.386584</td>\n",
       "      <td>0.051824</td>\n",
       "      <td>-0.014564</td>\n",
       "      <td>0.120549</td>\n",
       "      <td>-0.109469</td>\n",
       "    </tr>\n",
       "    <tr>\n",
       "      <th>std</th>\n",
       "      <td>0.629834</td>\n",
       "      <td>0.836329</td>\n",
       "      <td>0.855284</td>\n",
       "      <td>1.108469</td>\n",
       "      <td>1.365565</td>\n",
       "      <td>1.493887</td>\n",
       "    </tr>\n",
       "    <tr>\n",
       "      <th>min</th>\n",
       "      <td>-2.180037</td>\n",
       "      <td>-3.525452</td>\n",
       "      <td>-2.734880</td>\n",
       "      <td>-3.700288</td>\n",
       "      <td>-4.495103</td>\n",
       "      <td>-7.412233</td>\n",
       "    </tr>\n",
       "    <tr>\n",
       "      <th>25%</th>\n",
       "      <td>-0.321082</td>\n",
       "      <td>-0.893639</td>\n",
       "      <td>-0.485665</td>\n",
       "      <td>-0.733440</td>\n",
       "      <td>-0.789444</td>\n",
       "      <td>-0.631847</td>\n",
       "    </tr>\n",
       "    <tr>\n",
       "      <th>50%</th>\n",
       "      <td>0.077933</td>\n",
       "      <td>-0.323710</td>\n",
       "      <td>0.063009</td>\n",
       "      <td>-0.020771</td>\n",
       "      <td>0.135177</td>\n",
       "      <td>0.000000</td>\n",
       "    </tr>\n",
       "    <tr>\n",
       "      <th>75%</th>\n",
       "      <td>0.467667</td>\n",
       "      <td>0.141346</td>\n",
       "      <td>0.592178</td>\n",
       "      <td>0.761957</td>\n",
       "      <td>1.036403</td>\n",
       "      <td>0.280320</td>\n",
       "    </tr>\n",
       "    <tr>\n",
       "      <th>max</th>\n",
       "      <td>1.896617</td>\n",
       "      <td>3.290422</td>\n",
       "      <td>3.808710</td>\n",
       "      <td>3.587107</td>\n",
       "      <td>4.458973</td>\n",
       "      <td>6.140501</td>\n",
       "    </tr>\n",
       "  </tbody>\n",
       "</table>\n",
       "</div>"
      ],
      "text/plain": [
       "              beta          SMB          HML          RMW          CMA  \\\n",
       "count  4811.000000  4811.000000  4811.000000  4811.000000  4811.000000   \n",
       "mean      0.052182    -0.386584     0.051824    -0.014564     0.120549   \n",
       "std       0.629834     0.836329     0.855284     1.108469     1.365565   \n",
       "min      -2.180037    -3.525452    -2.734880    -3.700288    -4.495103   \n",
       "25%      -0.321082    -0.893639    -0.485665    -0.733440    -0.789444   \n",
       "50%       0.077933    -0.323710     0.063009    -0.020771     0.135177   \n",
       "75%       0.467667     0.141346     0.592178     0.761957     1.036403   \n",
       "max       1.896617     3.290422     3.808710     3.587107     4.458973   \n",
       "\n",
       "             total  \n",
       "count  7761.000000  \n",
       "mean     -0.109469  \n",
       "std       1.493887  \n",
       "min      -7.412233  \n",
       "25%      -0.631847  \n",
       "50%       0.000000  \n",
       "75%       0.280320  \n",
       "max       6.140501  "
      ]
     },
     "execution_count": 509,
     "metadata": {},
     "output_type": "execute_result"
    }
   ],
   "source": [
    "betas.describe().join(betas.sum(1).describe().to_frame('total'))"
   ]
  },
  {
   "cell_type": "code",
   "execution_count": 510,
   "metadata": {
    "ExecuteTime": {
     "end_time": "2021-02-23T20:42:17.624730Z",
     "start_time": "2021-02-23T20:42:17.252923Z"
    }
   },
   "outputs": [
    {
     "data": {
      "image/png": "[encoded data removed]",
      "text/plain": [
       "<Figure size 1000x1000 with 4 Axes>"
      ]
     },
     "metadata": {},
     "output_type": "display_data"
    }
   ],
   "source": [
    "cmap = sns.diverging_palette(10, 220, as_cmap=True)\n",
    "sns.clustermap(betas.corr(), annot=True, cmap=cmap, center=0);"
   ]
  },
  {
   "cell_type": "code",
   "execution_count": 511,
   "metadata": {
    "ExecuteTime": {
     "end_time": "2021-02-23T20:42:20.852056Z",
     "start_time": "2021-02-23T20:42:20.613962Z"
    },
    "scrolled": true
   },
   "outputs": [],
   "source": [
    "data = (data\n",
    "      .join(betas\n",
    "          .groupby(level='ticker')\n",
    "          .shift())\n",
    "     .dropna()\n",
    "     .sort_index())"
   ]
  },
  {
   "cell_type": "code",
   "execution_count": 512,
   "metadata": {
    "ExecuteTime": {
     "end_time": "2021-02-23T20:42:21.019345Z",
     "start_time": "2021-02-23T20:42:21.005378Z"
    }
   },
   "outputs": [
    {
     "name": "stdout",
     "output_type": "stream",
     "text": [
      "<class 'pandas.core.frame.DataFrame'>\n",
      "MultiIndex: 4761 entries, ('ALUA.BA', Timestamp('2016-01-31 00:00:00')) to ('YPFD.BA', Timestamp('2023-12-31 00:00:00'))\n",
      "Data columns (total 20 columns):\n",
      " #   Column        Non-Null Count  Dtype  \n",
      "---  ------        --------------  -----  \n",
      " 0   money_volume  4761 non-null   float64\n",
      " 1   atr           4761 non-null   float64\n",
      " 2   bb_down       4761 non-null   float64\n",
      " 3   bb_high       4761 non-null   float64\n",
      " 4   bb_low        4761 non-null   float64\n",
      " 5   bb_mid        4761 non-null   float64\n",
      " 6   bb_up         4761 non-null   float64\n",
      " 7   macd          4761 non-null   float64\n",
      " 8   natr          4761 non-null   float64\n",
      " 9   rsi           4761 non-null   float64\n",
      " 10  sector        4761 non-null   object \n",
      " 11  return_1m     4761 non-null   float64\n",
      " 12  return_3m     4761 non-null   float64\n",
      " 13  return_6m     4761 non-null   float64\n",
      " 14  return_12m    4761 non-null   float64\n",
      " 15  beta          4761 non-null   float64\n",
      " 16  SMB           4761 non-null   float64\n",
      " 17  HML           4761 non-null   float64\n",
      " 18  RMW           4761 non-null   float64\n",
      " 19  CMA           4761 non-null   float64\n",
      "dtypes: float64(19), object(1)\n",
      "memory usage: 763.7+ KB\n"
     ]
    }
   ],
   "source": [
    "data.info()"
   ]
  },
  {
   "cell_type": "markdown",
   "metadata": {},
   "source": [
    "## Momentum factors"
   ]
  },
  {
   "cell_type": "markdown",
   "metadata": {},
   "source": [
    "We can use these results to compute momentum factors based on the difference between returns over longer periods and the most recent monthly return, as well as for the difference between 3 and 12 month returns as follows:"
   ]
  },
  {
   "cell_type": "code",
   "execution_count": 513,
   "metadata": {
    "ExecuteTime": {
     "end_time": "2021-02-23T20:42:23.799079Z",
     "start_time": "2021-02-23T20:42:23.793520Z"
    }
   },
   "outputs": [],
   "source": [
    "for lag in [3, 6, 12]:\n",
    "    data[f'momentum_{lag}'] = data[f'return_{lag}m'].sub(data.return_1m)\n",
    "    if lag > 3:\n",
    "        data[f'momentum_3_{lag}'] = data[f'return_{lag}m'].sub(data.return_3m)    "
   ]
  },
  {
   "cell_type": "markdown",
   "metadata": {},
   "source": [
    "## Date Indicators"
   ]
  },
  {
   "cell_type": "code",
   "execution_count": 514,
   "metadata": {
    "ExecuteTime": {
     "end_time": "2021-02-23T20:42:24.107325Z",
     "start_time": "2021-02-23T20:42:24.092809Z"
    }
   },
   "outputs": [],
   "source": [
    "dates = data.index.get_level_values('date')\n",
    "data['year'] = dates.year\n",
    "data['month'] = dates.month"
   ]
  },
  {
   "cell_type": "markdown",
   "metadata": {},
   "source": [
    "## Target: Holding Period Returns"
   ]
  },
  {
   "cell_type": "markdown",
   "metadata": {},
   "source": [
    "To compute returns for our one-month target holding period, we use the returns computed previously and shift them back to align them with the current financial features."
   ]
  },
  {
   "cell_type": "code",
   "execution_count": 515,
   "metadata": {
    "ExecuteTime": {
     "end_time": "2021-02-23T20:42:26.197129Z",
     "start_time": "2021-02-23T20:42:26.187948Z"
    }
   },
   "outputs": [],
   "source": [
    "data['target'] = data.groupby(level='ticker')[f'return_1m'].shift(-1)"
   ]
  },
  {
   "cell_type": "code",
   "execution_count": 516,
   "metadata": {
    "ExecuteTime": {
     "end_time": "2021-02-23T20:42:26.392027Z",
     "start_time": "2021-02-23T20:42:26.374282Z"
    }
   },
   "outputs": [],
   "source": [
    "data = data.dropna()"
   ]
  },
  {
   "cell_type": "code",
   "execution_count": 517,
   "metadata": {
    "ExecuteTime": {
     "end_time": "2021-02-23T20:42:26.573080Z",
     "start_time": "2021-02-23T20:42:26.548680Z"
    },
    "scrolled": false
   },
   "outputs": [
    {
     "name": "stdout",
     "output_type": "stream",
     "text": [
      "<class 'pandas.core.frame.DataFrame'>\n",
      "MultiIndex: 4711 entries, ('ALUA.BA', Timestamp('2016-01-31 00:00:00')) to ('YPFD.BA', Timestamp('2023-11-30 00:00:00'))\n",
      "Data columns (total 28 columns):\n",
      " #   Column         Non-Null Count  Dtype  \n",
      "---  ------         --------------  -----  \n",
      " 0   money_volume   4711 non-null   float64\n",
      " 1   atr            4711 non-null   float64\n",
      " 2   bb_down        4711 non-null   float64\n",
      " 3   bb_high        4711 non-null   float64\n",
      " 4   bb_low         4711 non-null   float64\n",
      " 5   bb_mid         4711 non-null   float64\n",
      " 6   bb_up          4711 non-null   float64\n",
      " 7   macd           4711 non-null   float64\n",
      " 8   natr           4711 non-null   float64\n",
      " 9   rsi            4711 non-null   float64\n",
      " 10  sector         4711 non-null   object \n",
      " 11  return_1m      4711 non-null   float64\n",
      " 12  return_3m      4711 non-null   float64\n",
      " 13  return_6m      4711 non-null   float64\n",
      " 14  return_12m     4711 non-null   float64\n",
      " 15  beta           4711 non-null   float64\n",
      " 16  SMB            4711 non-null   float64\n",
      " 17  HML            4711 non-null   float64\n",
      " 18  RMW            4711 non-null   float64\n",
      " 19  CMA            4711 non-null   float64\n",
      " 20  momentum_3     4711 non-null   float64\n",
      " 21  momentum_6     4711 non-null   float64\n",
      " 22  momentum_3_6   4711 non-null   float64\n",
      " 23  momentum_12    4711 non-null   float64\n",
      " 24  momentum_3_12  4711 non-null   float64\n",
      " 25  year           4711 non-null   int32  \n",
      " 26  month          4711 non-null   int32  \n",
      " 27  target         4711 non-null   float64\n",
      "dtypes: float64(25), int32(2), object(1)\n",
      "memory usage: 1013.4+ KB\n"
     ]
    }
   ],
   "source": [
    "data.sort_index().info()"
   ]
  },
  {
   "cell_type": "markdown",
   "metadata": {},
   "source": [
    "## Sector Breakdown"
   ]
  },
  {
   "cell_type": "code",
   "execution_count": 518,
   "metadata": {
    "ExecuteTime": {
     "end_time": "2021-02-23T20:42:27.081741Z",
     "start_time": "2021-02-23T20:42:26.879546Z"
    }
   },
   "outputs": [
    {
     "data": {
      "image/png": "[encoded data removed]",
      "text/plain": [
       "<Figure size 640x480 with 1 Axes>"
      ]
     },
     "metadata": {},
     "output_type": "display_data"
    }
   ],
   "source": [
    "ax = data.reset_index().groupby('sector').ticker.nunique().sort_values().plot.barh(title='Sector Breakdown')\n",
    "ax.set_ylabel('')\n",
    "ax.set_xlabel('# Tickers')\n",
    "sns.despine()\n",
    "plt.tight_layout();"
   ]
  },
  {
   "cell_type": "markdown",
   "metadata": {},
   "source": [
    "## Store data"
   ]
  },
  {
   "cell_type": "code",
   "execution_count": 519,
   "metadata": {
    "ExecuteTime": {
     "end_time": "2021-02-23T20:42:30.009591Z",
     "start_time": "2021-02-23T20:42:29.969076Z"
    },
    "scrolled": true
   },
   "outputs": [],
   "source": [
    "with pd.HDFStore('data.h5') as store:\n",
    "    store.put('equities/monthly', data)"
   ]
  },
  {
   "cell_type": "markdown",
   "metadata": {},
   "source": [
    "## Evaluate mutual information"
   ]
  },
  {
   "cell_type": "code",
   "execution_count": 520,
   "metadata": {
    "ExecuteTime": {
     "end_time": "2021-02-23T20:42:30.620609Z",
     "start_time": "2021-02-23T20:42:30.607499Z"
    },
    "scrolled": true
   },
   "outputs": [],
   "source": [
    "X = data.drop('target', axis=1)\n",
    "X.sector = pd.factorize(X.sector)[0]"
   ]
  },
  {
   "cell_type": "code",
   "execution_count": 521,
   "metadata": {
    "ExecuteTime": {
     "end_time": "2021-02-23T20:42:45.996017Z",
     "start_time": "2021-02-23T20:42:30.768783Z"
    }
   },
   "outputs": [],
   "source": [
    "mi = mutual_info_regression(X=X, y=data.target)"
   ]
  },
  {
   "cell_type": "code",
   "execution_count": 522,
   "metadata": {
    "ExecuteTime": {
     "end_time": "2021-02-23T20:42:46.001333Z",
     "start_time": "2021-02-23T20:42:45.997201Z"
    }
   },
   "outputs": [
    {
     "data": {
      "text/plain": [
       "bb_mid          0.162061\n",
       "bb_high         0.160878\n",
       "bb_low          0.150430\n",
       "return_6m       0.088293\n",
       "return_12m      0.074462\n",
       "money_volume    0.066976\n",
       "year            0.066697\n",
       "return_1m       0.065723\n",
       "atr             0.062385\n",
       "momentum_3      0.060123\n",
       "dtype: float64"
      ]
     },
     "execution_count": 522,
     "metadata": {},
     "output_type": "execute_result"
    }
   ],
   "source": [
    "mi_reg = pd.Series(mi, index=X.columns)\n",
    "mi_reg.nlargest(10)"
   ]
  },
  {
   "cell_type": "code",
   "execution_count": 523,
   "metadata": {
    "ExecuteTime": {
     "end_time": "2021-02-23T20:42:56.372539Z",
     "start_time": "2021-02-23T20:42:46.002764Z"
    }
   },
   "outputs": [],
   "source": [
    "mi = mutual_info_classif(X=X, y=(data.target>0).astype(int))"
   ]
  },
  {
   "cell_type": "code",
   "execution_count": 524,
   "metadata": {
    "ExecuteTime": {
     "end_time": "2021-02-23T20:42:56.378061Z",
     "start_time": "2021-02-23T20:42:56.373817Z"
    }
   },
   "outputs": [
    {
     "data": {
      "text/plain": [
       "bb_high         0.110384\n",
       "bb_mid          0.095549\n",
       "bb_low          0.093232\n",
       "rsi             0.039903\n",
       "month           0.024130\n",
       "return_12m      0.020475\n",
       "macd            0.019547\n",
       "year            0.016636\n",
       "SMB             0.016127\n",
       "money_volume    0.013764\n",
       "dtype: float64"
      ]
     },
     "execution_count": 524,
     "metadata": {},
     "output_type": "execute_result"
    }
   ],
   "source": [
    "mi_class = pd.Series(mi, index=X.columns)\n",
    "mi_class.nlargest(10)"
   ]
  },
  {
   "cell_type": "code",
   "execution_count": 525,
   "metadata": {
    "ExecuteTime": {
     "end_time": "2021-02-23T20:42:56.402392Z",
     "start_time": "2021-02-23T20:42:56.379294Z"
    }
   },
   "outputs": [],
   "source": [
    "mi = mi_reg.to_frame('Regression').join(mi_class.to_frame('Classification'))"
   ]
  },
  {
   "cell_type": "code",
   "execution_count": 526,
   "metadata": {
    "ExecuteTime": {
     "end_time": "2021-02-23T20:42:56.410287Z",
     "start_time": "2021-02-23T20:42:56.403851Z"
    }
   },
   "outputs": [],
   "source": [
    "mi.index = [' '.join(c.upper().split('_')) for c in mi.index]"
   ]
  },
  {
   "cell_type": "code",
   "execution_count": 527,
   "metadata": {
    "ExecuteTime": {
     "end_time": "2021-02-23T20:42:56.986502Z",
     "start_time": "2021-02-23T20:42:56.411402Z"
    }
   },
   "outputs": [
    {
     "data": {
      "image/png": "[encoded data removed]",
      "text/plain": [
       "<Figure size 1200x400 with 2 Axes>"
      ]
     },
     "metadata": {},
     "output_type": "display_data"
    }
   ],
   "source": [
    "fig, axes = plt.subplots(ncols=2, figsize=(12, 4))\n",
    "for i, t in enumerate(['Regression', 'Classification']):\n",
    "    mi[t].nlargest(20).sort_values().plot.barh(title=t, ax=axes[i])\n",
    "    axes[i].set_xlabel('Mutual Information')\n",
    "fig.suptitle('Mutual Information', fontsize=14)\n",
    "sns.despine()\n",
    "fig.tight_layout()\n",
    "fig.subplots_adjust(top=.9)"
   ]
  }
 ],
 "metadata": {
  "kernelspec": {
   "display_name": "Python 3",
   "language": "python",
   "name": "python3"
  },
  "language_info": {
   "codemirror_mode": {
    "name": "ipython",
    "version": 3
   },
   "file_extension": ".py",
   "mimetype": "text/x-python",
   "name": "python",
   "nbconvert_exporter": "python",
   "pygments_lexer": "ipython3",
   "version": "3.8.19"
  },
  "toc": {
   "base_numbering": 1,
   "nav_menu": {},
   "number_sections": true,
   "sideBar": true,
   "skip_h1_title": true,
   "title_cell": "Table of Contents",
   "title_sidebar": "Contents",
   "toc_cell": false,
   "toc_position": {
    "height": "calc(100% - 180px)",
    "left": "10px",
    "top": "150px",
    "width": "230.355px"
   },
   "toc_section_display": true,
   "toc_window_display": true
  }
 },
 "nbformat": 4,
 "nbformat_minor": 2
}
