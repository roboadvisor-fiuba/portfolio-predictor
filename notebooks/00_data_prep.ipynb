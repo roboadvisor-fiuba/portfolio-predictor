{
 "cells": [
  {
   "cell_type": "markdown",
   "metadata": {},
   "source": [
    "# Add alpha factors"
   ]
  },
  {
   "cell_type": "markdown",
   "metadata": {},
   "source": [
    "We create the dataset here and store it in our [data](../../data) folder to facilitate reuse in later chapters."
   ]
  },
  {
   "cell_type": "markdown",
   "metadata": {},
   "source": [
    "## Imports & Settings"
   ]
  },
  {
   "cell_type": "code",
   "execution_count": 72,
   "metadata": {
    "ExecuteTime": {
     "end_time": "2021-04-16T00:32:11.108720Z",
     "start_time": "2021-04-16T00:32:11.106680Z"
    }
   },
   "outputs": [],
   "source": [
    "import warnings\n",
    "warnings.filterwarnings('ignore')"
   ]
  },
  {
   "cell_type": "code",
   "execution_count": 73,
   "metadata": {
    "ExecuteTime": {
     "end_time": "2021-04-16T00:32:12.061911Z",
     "start_time": "2021-04-16T00:32:11.317486Z"
    }
   },
   "outputs": [],
   "source": [
    "%matplotlib inline\n",
    "\n",
    "import numpy as np\n",
    "import pandas as pd\n",
    "import pandas_datareader.data as web\n",
    "\n",
    "# from pyfinance.ols import PandasRollingOLS\n",
    "\n",
    "# replaces pyfinance.ols.PandasRollingOLS (no longer maintained)\n",
    "from statsmodels.regression.rolling import RollingOLS\n",
    "import statsmodels.api as sm\n",
    "from talib import RSI, BBANDS, MACD, NATR, ATR\n",
    "\n",
    "from sklearn.feature_selection import mutual_info_classif, mutual_info_regression\n",
    "\n",
    "import matplotlib.pyplot as plt\n",
    "import seaborn as sns"
   ]
  },
  {
   "cell_type": "code",
   "execution_count": 74,
   "metadata": {
    "ExecuteTime": {
     "end_time": "2021-04-16T00:32:12.066329Z",
     "start_time": "2021-04-16T00:32:12.063370Z"
    }
   },
   "outputs": [],
   "source": [
    "sns.set_style('whitegrid')\n",
    "idx = pd.IndexSlice"
   ]
  },
  {
   "cell_type": "markdown",
   "metadata": {},
   "source": [
    "## Load MERVAL OHLCV data"
   ]
  },
  {
   "cell_type": "markdown",
   "metadata": {},
   "source": [
    "The `assets.h5` store can be generated using the the notebook [create_datasets](../../data/create_datasets.ipynb) in the [data](../../data) directory in the root directory of this repo for instruction to download the following dataset."
   ]
  },
  {
   "cell_type": "markdown",
   "metadata": {},
   "source": [
    "Set data store location:"
   ]
  },
  {
   "cell_type": "code",
   "execution_count": 75,
   "metadata": {
    "ExecuteTime": {
     "end_time": "2021-02-23T20:29:18.142415Z",
     "start_time": "2021-02-23T20:29:18.135503Z"
    }
   },
   "outputs": [],
   "source": [
    "DATA_STORE = './data/assets.h5'"
   ]
  },
  {
   "cell_type": "code",
   "execution_count": 76,
   "metadata": {
    "ExecuteTime": {
     "end_time": "2021-02-23T20:29:18.154819Z",
     "start_time": "2021-02-23T20:29:18.143752Z"
    }
   },
   "outputs": [],
   "source": [
    "YEAR = 12"
   ]
  },
  {
   "cell_type": "code",
   "execution_count": 77,
   "metadata": {
    "ExecuteTime": {
     "end_time": "2021-02-23T20:29:18.164476Z",
     "start_time": "2021-02-23T20:29:18.155706Z"
    }
   },
   "outputs": [],
   "source": [
    "START = 1995\n",
    "END = 2017"
   ]
  },
  {
   "cell_type": "code",
   "execution_count": 78,
   "metadata": {
    "ExecuteTime": {
     "end_time": "2021-02-23T20:29:24.397333Z",
     "start_time": "2021-02-23T20:29:18.165527Z"
    }
   },
   "outputs": [],
   "source": [
    "with pd.HDFStore(DATA_STORE, 'r') as store:\n",
    "    prices = (store['merval/prices']\n",
    "              .loc[idx[str(START):str(END), :], :]\n",
    "              .filter(like='adj_')\n",
    "              .dropna()\n",
    "              .swaplevel()\n",
    "              .rename(columns=lambda x: x.replace('adj_', ''))\n",
    "              .join(store['merval/stocks']\n",
    "                    .loc[:, ['sector']])\n",
    "              .dropna())"
   ]
  },
  {
   "cell_type": "code",
   "execution_count": 79,
   "metadata": {
    "ExecuteTime": {
     "end_time": "2021-02-23T20:29:24.888343Z",
     "start_time": "2021-02-23T20:29:24.398493Z"
    }
   },
   "outputs": [
    {
     "name": "stdout",
     "output_type": "stream",
     "text": [
      "<class 'pandas.core.frame.DataFrame'>\n",
      "MultiIndex: 74207 entries, ('BBAR.BA', Timestamp('2000-01-03 00:00:00')) to ('YPFD.BA', Timestamp('2017-12-28 00:00:00'))\n",
      "Data columns (total 6 columns):\n",
      " #   Column  Non-Null Count  Dtype  \n",
      "---  ------  --------------  -----  \n",
      " 0   open    74207 non-null  float64\n",
      " 1   high    74207 non-null  float64\n",
      " 2   low     74207 non-null  float64\n",
      " 3   close   74207 non-null  float64\n",
      " 4   volume  74207 non-null  int64  \n",
      " 5   sector  74207 non-null  object \n",
      "dtypes: float64(4), int64(1), object(1)\n",
      "memory usage: 3.8+ MB\n"
     ]
    }
   ],
   "source": [
    "prices.info()"
   ]
  },
  {
   "cell_type": "code",
   "execution_count": 80,
   "metadata": {
    "ExecuteTime": {
     "end_time": "2021-02-23T20:29:24.974142Z",
     "start_time": "2021-02-23T20:29:24.890337Z"
    }
   },
   "outputs": [
    {
     "data": {
      "text/plain": [
       "21"
      ]
     },
     "execution_count": 80,
     "metadata": {},
     "output_type": "execute_result"
    }
   ],
   "source": [
    "len(prices.index.unique('ticker'))"
   ]
  },
  {
   "cell_type": "markdown",
   "metadata": {},
   "source": [
    "## Remove stocks with less than ten years of data"
   ]
  },
  {
   "cell_type": "code",
   "execution_count": 81,
   "metadata": {
    "ExecuteTime": {
     "end_time": "2021-02-23T20:30:10.981706Z",
     "start_time": "2021-02-23T20:29:24.975850Z"
    }
   },
   "outputs": [],
   "source": [
    "min_obs = 10 * 252\n",
    "nobs = prices.groupby(level='ticker').size()\n",
    "to_drop = nobs[nobs < min_obs].index\n",
    "prices = prices.drop(to_drop, level='ticker')"
   ]
  },
  {
   "cell_type": "code",
   "execution_count": 82,
   "metadata": {
    "ExecuteTime": {
     "end_time": "2021-02-23T20:30:11.434460Z",
     "start_time": "2021-02-23T20:30:10.982824Z"
    }
   },
   "outputs": [
    {
     "name": "stdout",
     "output_type": "stream",
     "text": [
      "<class 'pandas.core.frame.DataFrame'>\n",
      "MultiIndex: 71159 entries, ('BBAR.BA', Timestamp('2000-01-03 00:00:00')) to ('YPFD.BA', Timestamp('2017-12-28 00:00:00'))\n",
      "Data columns (total 6 columns):\n",
      " #   Column  Non-Null Count  Dtype  \n",
      "---  ------  --------------  -----  \n",
      " 0   open    71159 non-null  float64\n",
      " 1   high    71159 non-null  float64\n",
      " 2   low     71159 non-null  float64\n",
      " 3   close   71159 non-null  float64\n",
      " 4   volume  71159 non-null  int64  \n",
      " 5   sector  71159 non-null  object \n",
      "dtypes: float64(4), int64(1), object(1)\n",
      "memory usage: 3.6+ MB\n"
     ]
    }
   ],
   "source": [
    "prices.info()"
   ]
  },
  {
   "cell_type": "code",
   "execution_count": 83,
   "metadata": {
    "ExecuteTime": {
     "end_time": "2021-02-23T20:30:11.509683Z",
     "start_time": "2021-02-23T20:30:11.435475Z"
    }
   },
   "outputs": [
    {
     "data": {
      "text/plain": [
       "17"
      ]
     },
     "execution_count": 83,
     "metadata": {},
     "output_type": "execute_result"
    }
   ],
   "source": [
    "len(prices.index.unique('ticker'))"
   ]
  },
  {
   "cell_type": "markdown",
   "metadata": {},
   "source": [
    "## Add some Basic Factors"
   ]
  },
  {
   "cell_type": "markdown",
   "metadata": {},
   "source": [
    "### Compute the Relative Strength Index"
   ]
  },
  {
   "cell_type": "code",
   "execution_count": 84,
   "metadata": {
    "ExecuteTime": {
     "end_time": "2021-02-23T20:30:58.402376Z",
     "start_time": "2021-02-23T20:30:11.510780Z"
    }
   },
   "outputs": [],
   "source": [
    "rsi = prices.groupby(level='ticker').close.apply(RSI)\n",
    "prices['rsi'] = rsi.values"
   ]
  },
  {
   "cell_type": "code",
   "execution_count": 85,
   "metadata": {
    "ExecuteTime": {
     "end_time": "2021-02-23T20:31:21.858293Z",
     "start_time": "2021-02-23T20:30:58.403322Z"
    }
   },
   "outputs": [
    {
     "data": {
      "image/png": "[encoded data removed]",
      "text/plain": [
       "<Figure size 640x480 with 1 Axes>"
      ]
     },
     "metadata": {},
     "output_type": "display_data"
    }
   ],
   "source": [
    "sns.distplot(prices.rsi);"
   ]
  },
  {
   "cell_type": "markdown",
   "metadata": {},
   "source": [
    "### Compute Bollinger Bands"
   ]
  },
  {
   "cell_type": "code",
   "execution_count": 86,
   "metadata": {
    "ExecuteTime": {
     "end_time": "2021-02-23T20:31:21.862142Z",
     "start_time": "2021-02-23T20:31:21.859408Z"
    }
   },
   "outputs": [],
   "source": [
    "def compute_bb(close):\n",
    "    high, mid, low = BBANDS(np.log1p(close), timeperiod=20)\n",
    "    return pd.DataFrame({'bb_high': high,\n",
    "                         'bb_mid': mid,\n",
    "                         'bb_low': low}, index=close.index)"
   ]
  },
  {
   "cell_type": "code",
   "execution_count": 87,
   "metadata": {
    "ExecuteTime": {
     "end_time": "2021-02-23T20:32:27.635722Z",
     "start_time": "2021-02-23T20:31:21.863546Z"
    }
   },
   "outputs": [],
   "source": [
    "bb = prices.groupby(level='ticker').close.apply(compute_bb)\n",
    "\n",
    "prices['bb_high'] = bb['bb_high'].values\n",
    "prices['bb_mid'] = bb['bb_mid'].values\n",
    "prices['bb_low'] = bb['bb_low'].values\n"
   ]
  },
  {
   "cell_type": "code",
   "execution_count": 88,
   "metadata": {
    "ExecuteTime": {
     "end_time": "2021-02-23T20:32:28.025953Z",
     "start_time": "2021-02-23T20:32:27.636648Z"
    }
   },
   "outputs": [
    {
     "name": "stdout",
     "output_type": "stream",
     "text": [
      "<class 'pandas.core.frame.DataFrame'>\n",
      "MultiIndex: 71159 entries, ('BBAR.BA', Timestamp('2000-01-03 00:00:00')) to ('YPFD.BA', Timestamp('2017-12-28 00:00:00'))\n",
      "Data columns (total 10 columns):\n",
      " #   Column   Non-Null Count  Dtype  \n",
      "---  ------   --------------  -----  \n",
      " 0   open     71159 non-null  float64\n",
      " 1   high     71159 non-null  float64\n",
      " 2   low      71159 non-null  float64\n",
      " 3   close    71159 non-null  float64\n",
      " 4   volume   71159 non-null  int64  \n",
      " 5   sector   71159 non-null  object \n",
      " 6   rsi      70921 non-null  float64\n",
      " 7   bb_high  70836 non-null  float64\n",
      " 8   bb_mid   70836 non-null  float64\n",
      " 9   bb_low   70836 non-null  float64\n",
      "dtypes: float64(8), int64(1), object(1)\n",
      "memory usage: 5.8+ MB\n"
     ]
    }
   ],
   "source": [
    "prices.info()"
   ]
  },
  {
   "cell_type": "code",
   "execution_count": 89,
   "metadata": {
    "ExecuteTime": {
     "end_time": "2021-02-23T20:32:29.422206Z",
     "start_time": "2021-02-23T20:32:28.026886Z"
    }
   },
   "outputs": [
    {
     "data": {
      "text/html": [
       "<div>\n",
       "<style scoped>\n",
       "    .dataframe tbody tr th:only-of-type {\n",
       "        vertical-align: middle;\n",
       "    }\n",
       "\n",
       "    .dataframe tbody tr th {\n",
       "        vertical-align: top;\n",
       "    }\n",
       "\n",
       "    .dataframe thead th {\n",
       "        text-align: right;\n",
       "    }\n",
       "</style>\n",
       "<table border=\"1\" class=\"dataframe\">\n",
       "  <thead>\n",
       "    <tr style=\"text-align: right;\">\n",
       "      <th></th>\n",
       "      <th>bb_high</th>\n",
       "      <th>bb_mid</th>\n",
       "      <th>bb_low</th>\n",
       "    </tr>\n",
       "  </thead>\n",
       "  <tbody>\n",
       "    <tr>\n",
       "      <th>count</th>\n",
       "      <td>70836.000000</td>\n",
       "      <td>70836.000000</td>\n",
       "      <td>70836.000000</td>\n",
       "    </tr>\n",
       "    <tr>\n",
       "      <th>mean</th>\n",
       "      <td>1.635314</td>\n",
       "      <td>1.576892</td>\n",
       "      <td>1.518470</td>\n",
       "    </tr>\n",
       "    <tr>\n",
       "      <th>std</th>\n",
       "      <td>1.403461</td>\n",
       "      <td>1.381397</td>\n",
       "      <td>1.361427</td>\n",
       "    </tr>\n",
       "    <tr>\n",
       "      <th>min</th>\n",
       "      <td>-0.030734</td>\n",
       "      <td>-0.033302</td>\n",
       "      <td>-0.340238</td>\n",
       "    </tr>\n",
       "    <tr>\n",
       "      <th>25%</th>\n",
       "      <td>0.624896</td>\n",
       "      <td>0.575627</td>\n",
       "      <td>0.524533</td>\n",
       "    </tr>\n",
       "    <tr>\n",
       "      <th>50%</th>\n",
       "      <td>1.200300</td>\n",
       "      <td>1.136124</td>\n",
       "      <td>1.083464</td>\n",
       "    </tr>\n",
       "    <tr>\n",
       "      <th>75%</th>\n",
       "      <td>2.315977</td>\n",
       "      <td>2.239133</td>\n",
       "      <td>2.159172</td>\n",
       "    </tr>\n",
       "    <tr>\n",
       "      <th>max</th>\n",
       "      <td>6.363781</td>\n",
       "      <td>6.223842</td>\n",
       "      <td>6.193394</td>\n",
       "    </tr>\n",
       "  </tbody>\n",
       "</table>\n",
       "</div>"
      ],
      "text/plain": [
       "            bb_high        bb_mid        bb_low\n",
       "count  70836.000000  70836.000000  70836.000000\n",
       "mean       1.635314      1.576892      1.518470\n",
       "std        1.403461      1.381397      1.361427\n",
       "min       -0.030734     -0.033302     -0.340238\n",
       "25%        0.624896      0.575627      0.524533\n",
       "50%        1.200300      1.136124      1.083464\n",
       "75%        2.315977      2.239133      2.159172\n",
       "max        6.363781      6.223842      6.193394"
      ]
     },
     "execution_count": 89,
     "metadata": {},
     "output_type": "execute_result"
    }
   ],
   "source": [
    "prices.filter(like='bb_').describe()"
   ]
  },
  {
   "cell_type": "code",
   "execution_count": 90,
   "metadata": {
    "ExecuteTime": {
     "end_time": "2021-02-23T20:33:37.302678Z",
     "start_time": "2021-02-23T20:32:29.423220Z"
    }
   },
   "outputs": [
    {
     "data": {
      "image/png": "[encoded data removed]",
      "text/plain": [
       "<Figure size 1500x400 with 3 Axes>"
      ]
     },
     "metadata": {},
     "output_type": "display_data"
    }
   ],
   "source": [
    "fig, axes = plt.subplots(ncols=3, figsize=(15,4))\n",
    "for i, col in enumerate(['bb_low', 'bb_mid', 'bb_low']):\n",
    "    sns.distplot(prices[col], ax=axes[i])\n",
    "    axes[i].set_title(col);\n",
    "fig.tight_layout();"
   ]
  },
  {
   "cell_type": "code",
   "execution_count": 91,
   "metadata": {
    "ExecuteTime": {
     "end_time": "2021-02-23T20:33:37.614610Z",
     "start_time": "2021-02-23T20:33:37.303801Z"
    }
   },
   "outputs": [],
   "source": [
    "prices['bb_up'] = prices.bb_high.sub(np.log1p(prices.close))\n",
    "prices['bb_down'] = np.log1p(prices.close).sub(prices.bb_low)"
   ]
  },
  {
   "cell_type": "code",
   "execution_count": 92,
   "metadata": {
    "ExecuteTime": {
     "end_time": "2021-02-23T20:33:42.626284Z",
     "start_time": "2021-02-23T20:33:37.615839Z"
    }
   },
   "outputs": [
    {
     "data": {
      "image/png": "[encoded data removed]",
      "text/plain": [
       "<Figure size 1000x400 with 2 Axes>"
      ]
     },
     "metadata": {},
     "output_type": "display_data"
    }
   ],
   "source": [
    "fig, axes = plt.subplots(ncols=2, figsize=(10,4))\n",
    "for i, col in enumerate(['bb_down', 'bb_up']):\n",
    "    sns.boxenplot(prices[col], ax=axes[i])\n",
    "    axes[i].set_title(col);\n",
    "fig.tight_layout();"
   ]
  },
  {
   "cell_type": "markdown",
   "metadata": {},
   "source": [
    "### Compute Average True Range"
   ]
  },
  {
   "cell_type": "markdown",
   "metadata": {},
   "source": [
    "Helper for indicators with multiple inputs:"
   ]
  },
  {
   "cell_type": "code",
   "execution_count": 93,
   "metadata": {
    "ExecuteTime": {
     "end_time": "2021-02-23T20:33:42.827296Z",
     "start_time": "2021-02-23T20:33:42.627221Z"
    }
   },
   "outputs": [],
   "source": [
    "by_ticker = prices.groupby('ticker', group_keys=False)"
   ]
  },
  {
   "cell_type": "code",
   "execution_count": 94,
   "metadata": {
    "ExecuteTime": {
     "end_time": "2021-02-23T20:33:42.831678Z",
     "start_time": "2021-02-23T20:33:42.828250Z"
    }
   },
   "outputs": [],
   "source": [
    "def compute_atr(stock_data):\n",
    "    atr = ATR(stock_data.high, \n",
    "              stock_data.low, \n",
    "              stock_data.close, \n",
    "              timeperiod=14)\n",
    "    return atr.sub(atr.mean()).div(atr.std())"
   ]
  },
  {
   "cell_type": "code",
   "execution_count": 95,
   "metadata": {
    "ExecuteTime": {
     "end_time": "2021-02-23T20:34:04.342244Z",
     "start_time": "2021-02-23T20:33:42.833588Z"
    }
   },
   "outputs": [],
   "source": [
    "prices['atr'] = by_ticker.apply(compute_atr)"
   ]
  },
  {
   "cell_type": "code",
   "execution_count": 96,
   "metadata": {
    "ExecuteTime": {
     "end_time": "2021-02-23T20:34:27.080212Z",
     "start_time": "2021-02-23T20:34:04.343606Z"
    }
   },
   "outputs": [
    {
     "data": {
      "image/png": "[encoded data removed]",
      "text/plain": [
       "<Figure size 640x480 with 1 Axes>"
      ]
     },
     "metadata": {},
     "output_type": "display_data"
    }
   ],
   "source": [
    "sns.distplot(prices.atr);"
   ]
  },
  {
   "cell_type": "code",
   "execution_count": 97,
   "metadata": {
    "ExecuteTime": {
     "end_time": "2021-02-23T20:34:48.557533Z",
     "start_time": "2021-02-23T20:34:27.081545Z"
    }
   },
   "outputs": [],
   "source": [
    "prices['natr'] = by_ticker.apply(lambda x: NATR(high=x.high, low=x.low, close=x.close))"
   ]
  },
  {
   "cell_type": "code",
   "execution_count": 98,
   "metadata": {
    "ExecuteTime": {
     "end_time": "2021-02-23T20:35:12.618207Z",
     "start_time": "2021-02-23T20:34:48.558475Z"
    }
   },
   "outputs": [
    {
     "data": {
      "image/png": "[encoded data removed]",
      "text/plain": [
       "<Figure size 640x480 with 1 Axes>"
      ]
     },
     "metadata": {},
     "output_type": "display_data"
    }
   ],
   "source": [
    "sns.distplot(prices.natr[prices.natr<10]);"
   ]
  },
  {
   "cell_type": "markdown",
   "metadata": {},
   "source": [
    "### Compute Moving Average Convergence/Divergence"
   ]
  },
  {
   "cell_type": "code",
   "execution_count": 99,
   "metadata": {
    "ExecuteTime": {
     "end_time": "2021-02-23T20:36:07.366887Z",
     "start_time": "2021-02-23T20:35:12.619395Z"
    },
    "scrolled": false
   },
   "outputs": [],
   "source": [
    "def compute_macd(close):\n",
    "    macd = MACD(close)[0]\n",
    "    return macd.sub(macd.mean()).div(macd.std())\n",
    "\n",
    "prices['macd'] = prices.groupby(level='ticker').close.apply(compute_macd).values"
   ]
  },
  {
   "cell_type": "code",
   "execution_count": 100,
   "metadata": {
    "ExecuteTime": {
     "end_time": "2021-02-23T20:36:31.231218Z",
     "start_time": "2021-02-23T20:36:07.368084Z"
    }
   },
   "outputs": [
    {
     "data": {
      "image/png": "[encoded data removed]",
      "text/plain": [
       "<Figure size 640x480 with 1 Axes>"
      ]
     },
     "metadata": {},
     "output_type": "display_data"
    }
   ],
   "source": [
    "sns.distplot(prices.macd);"
   ]
  },
  {
   "cell_type": "markdown",
   "metadata": {},
   "source": [
    "## Compute dollar volume to determine universe"
   ]
  },
  {
   "cell_type": "code",
   "execution_count": 101,
   "metadata": {
    "ExecuteTime": {
     "end_time": "2021-02-23T20:36:31.308363Z",
     "start_time": "2021-02-23T20:36:31.232479Z"
    }
   },
   "outputs": [],
   "source": [
    "prices['dollar_volume'] = (prices.loc[:, 'close']\n",
    "                           .mul(prices.loc[:, 'volume'], axis=0))\n",
    "\n",
    "prices.dollar_volume /= 1e6"
   ]
  },
  {
   "cell_type": "code",
   "execution_count": 102,
   "metadata": {
    "ExecuteTime": {
     "end_time": "2021-02-23T20:36:32.915677Z",
     "start_time": "2021-02-23T20:36:31.309455Z"
    }
   },
   "outputs": [],
   "source": [
    "prices.to_hdf('data.h5', 'us/equities/prices')"
   ]
  },
  {
   "cell_type": "code",
   "execution_count": 103,
   "metadata": {
    "ExecuteTime": {
     "end_time": "2021-02-23T20:36:36.371266Z",
     "start_time": "2021-02-23T20:36:32.917114Z"
    }
   },
   "outputs": [
    {
     "name": "stdout",
     "output_type": "stream",
     "text": [
      "<class 'pandas.core.frame.DataFrame'>\n",
      "MultiIndex: 71159 entries, ('BBAR.BA', Timestamp('2000-01-03 00:00:00')) to ('YPFD.BA', Timestamp('2017-12-28 00:00:00'))\n",
      "Data columns (total 16 columns):\n",
      " #   Column         Non-Null Count  Dtype  \n",
      "---  ------         --------------  -----  \n",
      " 0   open           71159 non-null  float64\n",
      " 1   high           71159 non-null  float64\n",
      " 2   low            71159 non-null  float64\n",
      " 3   close          71159 non-null  float64\n",
      " 4   volume         71159 non-null  int64  \n",
      " 5   sector         71159 non-null  object \n",
      " 6   rsi            70921 non-null  float64\n",
      " 7   bb_high        70836 non-null  float64\n",
      " 8   bb_mid         70836 non-null  float64\n",
      " 9   bb_low         70836 non-null  float64\n",
      " 10  bb_up          70836 non-null  float64\n",
      " 11  bb_down        70836 non-null  float64\n",
      " 12  atr            70921 non-null  float64\n",
      " 13  natr           70921 non-null  float64\n",
      " 14  macd           70598 non-null  float64\n",
      " 15  dollar_volume  71159 non-null  float64\n",
      "dtypes: float64(14), int64(1), object(1)\n",
      "memory usage: 9.1+ MB\n"
     ]
    }
   ],
   "source": [
    "prices = pd.read_hdf('data.h5', 'us/equities/prices')\n",
    "prices.info()"
   ]
  },
  {
   "cell_type": "markdown",
   "metadata": {},
   "source": [
    "## Resample OHLCV prices to monthly frequency"
   ]
  },
  {
   "cell_type": "markdown",
   "metadata": {},
   "source": [
    "To reduce training time and experiment with strategies for longer time horizons, we convert the business-daily data to month-end frequency using the available adjusted close price:"
   ]
  },
  {
   "cell_type": "code",
   "execution_count": 104,
   "metadata": {
    "ExecuteTime": {
     "end_time": "2021-02-23T20:36:36.374719Z",
     "start_time": "2021-02-23T20:36:36.372390Z"
    }
   },
   "outputs": [],
   "source": [
    "last_cols = [c for c in prices.columns.unique(0) if c not in ['dollar_volume', 'volume',\n",
    "                                                              'open', 'high', 'low']]"
   ]
  },
  {
   "cell_type": "code",
   "execution_count": 105,
   "metadata": {
    "ExecuteTime": {
     "end_time": "2021-02-23T20:36:39.763558Z",
     "start_time": "2021-02-23T20:36:36.375717Z"
    }
   },
   "outputs": [],
   "source": [
    "prices = prices.unstack('ticker')"
   ]
  },
  {
   "cell_type": "code",
   "execution_count": 106,
   "metadata": {
    "ExecuteTime": {
     "end_time": "2021-02-23T20:36:46.968273Z",
     "start_time": "2021-02-23T20:36:39.764800Z"
    }
   },
   "outputs": [],
   "source": [
    "data = (pd.concat([prices.dollar_volume.resample('M').mean().stack('ticker').to_frame('dollar_volume'),\n",
    "                   prices[last_cols].resample('M').last().stack('ticker')],\n",
    "                  axis=1)\n",
    "        .swaplevel()\n",
    "        .dropna())"
   ]
  },
  {
   "cell_type": "code",
   "execution_count": 107,
   "metadata": {
    "ExecuteTime": {
     "end_time": "2021-02-23T20:36:47.009662Z",
     "start_time": "2021-02-23T20:36:46.969428Z"
    }
   },
   "outputs": [
    {
     "name": "stdout",
     "output_type": "stream",
     "text": [
      "<class 'pandas.core.frame.DataFrame'>\n",
      "MultiIndex: 3407 entries, ('BBAR.BA', Timestamp('2000-01-31 00:00:00')) to ('EDN.BA', Timestamp('2017-12-31 00:00:00'))\n",
      "Data columns (total 12 columns):\n",
      " #   Column         Non-Null Count  Dtype  \n",
      "---  ------         --------------  -----  \n",
      " 0   dollar_volume  3407 non-null   float64\n",
      " 1   atr            3407 non-null   float64\n",
      " 2   bb_down        3407 non-null   float64\n",
      " 3   bb_high        3407 non-null   float64\n",
      " 4   bb_low         3407 non-null   float64\n",
      " 5   bb_mid         3407 non-null   float64\n",
      " 6   bb_up          3407 non-null   float64\n",
      " 7   close          3407 non-null   float64\n",
      " 8   macd           3407 non-null   float64\n",
      " 9   natr           3407 non-null   float64\n",
      " 10  rsi            3407 non-null   float64\n",
      " 11  sector         3407 non-null   object \n",
      "dtypes: float64(11), object(1)\n",
      "memory usage: 340.0+ KB\n"
     ]
    }
   ],
   "source": [
    "data.info()"
   ]
  },
  {
   "cell_type": "markdown",
   "metadata": {},
   "source": [
    "## Create monthly return series"
   ]
  },
  {
   "cell_type": "markdown",
   "metadata": {},
   "source": [
    "To capture time series dynamics that reflect, for example, momentum patterns, we compute historical returns using the method `.pct_change(n_periods)`, that is, returns over various monthly periods as identified by lags.\n",
    "\n",
    "We then convert the wide result back to long format with the `.stack()` method, use `.pipe()` to apply the `.clip()` method to the resulting `DataFrame`, and winsorize returns at the [1%, 99%] levels; that is, we cap outliers at these percentiles.\n",
    "\n",
    "Finally, we normalize returns using the geometric average. After using `.swaplevel()` to change the order of the `MultiIndex` levels, we obtain compounded monthly returns for six periods ranging from 1 to 12 months:"
   ]
  },
  {
   "cell_type": "code",
   "execution_count": 108,
   "metadata": {
    "ExecuteTime": {
     "end_time": "2021-02-23T20:41:01.905281Z",
     "start_time": "2021-02-23T20:41:01.894367Z"
    }
   },
   "outputs": [],
   "source": [
    "outlier_cutoff = 0.01\n",
    "lags = [1, 3, 6, 12]\n",
    "returns = []"
   ]
  },
  {
   "cell_type": "code",
   "execution_count": 109,
   "metadata": {
    "ExecuteTime": {
     "end_time": "2021-02-23T20:41:07.775321Z",
     "start_time": "2021-02-23T20:41:01.906659Z"
    }
   },
   "outputs": [
    {
     "name": "stdout",
     "output_type": "stream",
     "text": [
      "<class 'pandas.core.frame.DataFrame'>\n",
      "MultiIndex: 3390 entries, ('BBAR.BA', Timestamp('2000-02-29 00:00:00')) to ('EDN.BA', Timestamp('2017-12-31 00:00:00'))\n",
      "Data columns (total 4 columns):\n",
      " #   Column      Non-Null Count  Dtype  \n",
      "---  ------      --------------  -----  \n",
      " 0   return_1m   3390 non-null   float64\n",
      " 1   return_3m   3356 non-null   float64\n",
      " 2   return_6m   3305 non-null   float64\n",
      " 3   return_12m  3203 non-null   float64\n",
      "dtypes: float64(4)\n",
      "memory usage: 118.3+ KB\n"
     ]
    }
   ],
   "source": [
    "for lag in lags:\n",
    "    returns.append(data\n",
    "                   .close\n",
    "                   .unstack('ticker')\n",
    "                   .sort_index()\n",
    "                   .pct_change(lag)\n",
    "                   .stack('ticker')\n",
    "                   .pipe(lambda x: x.clip(lower=x.quantile(outlier_cutoff),\n",
    "                                          upper=x.quantile(1-outlier_cutoff)))\n",
    "                   .add(1)\n",
    "                   .pow(1/lag)\n",
    "                   .sub(1)\n",
    "                   .to_frame(f'return_{lag}m')\n",
    "                   )\n",
    "    \n",
    "returns = pd.concat(returns, axis=1).swaplevel()\n",
    "returns.info()"
   ]
  },
  {
   "cell_type": "code",
   "execution_count": 110,
   "metadata": {
    "ExecuteTime": {
     "end_time": "2021-02-23T20:41:11.269318Z",
     "start_time": "2021-02-23T20:41:11.221582Z"
    }
   },
   "outputs": [
    {
     "data": {
      "text/html": [
       "<div>\n",
       "<style scoped>\n",
       "    .dataframe tbody tr th:only-of-type {\n",
       "        vertical-align: middle;\n",
       "    }\n",
       "\n",
       "    .dataframe tbody tr th {\n",
       "        vertical-align: top;\n",
       "    }\n",
       "\n",
       "    .dataframe thead th {\n",
       "        text-align: right;\n",
       "    }\n",
       "</style>\n",
       "<table border=\"1\" class=\"dataframe\">\n",
       "  <thead>\n",
       "    <tr style=\"text-align: right;\">\n",
       "      <th></th>\n",
       "      <th>return_1m</th>\n",
       "      <th>return_3m</th>\n",
       "      <th>return_6m</th>\n",
       "      <th>return_12m</th>\n",
       "    </tr>\n",
       "  </thead>\n",
       "  <tbody>\n",
       "    <tr>\n",
       "      <th>count</th>\n",
       "      <td>3390.000000</td>\n",
       "      <td>3356.000000</td>\n",
       "      <td>3305.000000</td>\n",
       "      <td>3203.000000</td>\n",
       "    </tr>\n",
       "    <tr>\n",
       "      <th>mean</th>\n",
       "      <td>0.029254</td>\n",
       "      <td>0.023562</td>\n",
       "      <td>0.021866</td>\n",
       "      <td>0.021520</td>\n",
       "    </tr>\n",
       "    <tr>\n",
       "      <th>std</th>\n",
       "      <td>0.145139</td>\n",
       "      <td>0.091051</td>\n",
       "      <td>0.067598</td>\n",
       "      <td>0.053766</td>\n",
       "    </tr>\n",
       "    <tr>\n",
       "      <th>min</th>\n",
       "      <td>-0.320604</td>\n",
       "      <td>-0.220330</td>\n",
       "      <td>-0.159666</td>\n",
       "      <td>-0.113709</td>\n",
       "    </tr>\n",
       "    <tr>\n",
       "      <th>25%</th>\n",
       "      <td>-0.053313</td>\n",
       "      <td>-0.026835</td>\n",
       "      <td>-0.017171</td>\n",
       "      <td>-0.007841</td>\n",
       "    </tr>\n",
       "    <tr>\n",
       "      <th>50%</th>\n",
       "      <td>0.005236</td>\n",
       "      <td>0.012151</td>\n",
       "      <td>0.019141</td>\n",
       "      <td>0.022147</td>\n",
       "    </tr>\n",
       "    <tr>\n",
       "      <th>75%</th>\n",
       "      <td>0.100000</td>\n",
       "      <td>0.070729</td>\n",
       "      <td>0.061979</td>\n",
       "      <td>0.051244</td>\n",
       "    </tr>\n",
       "    <tr>\n",
       "      <th>max</th>\n",
       "      <td>0.537209</td>\n",
       "      <td>0.323021</td>\n",
       "      <td>0.230095</td>\n",
       "      <td>0.211036</td>\n",
       "    </tr>\n",
       "  </tbody>\n",
       "</table>\n",
       "</div>"
      ],
      "text/plain": [
       "         return_1m    return_3m    return_6m   return_12m\n",
       "count  3390.000000  3356.000000  3305.000000  3203.000000\n",
       "mean      0.029254     0.023562     0.021866     0.021520\n",
       "std       0.145139     0.091051     0.067598     0.053766\n",
       "min      -0.320604    -0.220330    -0.159666    -0.113709\n",
       "25%      -0.053313    -0.026835    -0.017171    -0.007841\n",
       "50%       0.005236     0.012151     0.019141     0.022147\n",
       "75%       0.100000     0.070729     0.061979     0.051244\n",
       "max       0.537209     0.323021     0.230095     0.211036"
      ]
     },
     "execution_count": 110,
     "metadata": {},
     "output_type": "execute_result"
    }
   ],
   "source": [
    "returns.describe()"
   ]
  },
  {
   "cell_type": "code",
   "execution_count": 111,
   "metadata": {
    "ExecuteTime": {
     "end_time": "2021-02-23T20:41:14.718336Z",
     "start_time": "2021-02-23T20:41:14.046696Z"
    },
    "scrolled": false
   },
   "outputs": [
    {
     "data": {
      "image/png": "[encoded data removed]",
      "text/plain": [
       "<Figure size 1000x1000 with 4 Axes>"
      ]
     },
     "metadata": {},
     "output_type": "display_data"
    }
   ],
   "source": [
    "cmap = sns.diverging_palette(10, 220, as_cmap=True)\n",
    "sns.clustermap(returns.corr('spearman'), annot=True, center=0, cmap=cmap);"
   ]
  },
  {
   "cell_type": "code",
   "execution_count": 112,
   "metadata": {
    "ExecuteTime": {
     "end_time": "2021-02-23T20:41:18.324087Z",
     "start_time": "2021-02-23T20:41:17.783552Z"
    }
   },
   "outputs": [
    {
     "name": "stdout",
     "output_type": "stream",
     "text": [
      "<class 'pandas.core.frame.DataFrame'>\n",
      "MultiIndex: 3203 entries, ('BBAR.BA', Timestamp('2001-01-31 00:00:00')) to ('EDN.BA', Timestamp('2017-12-31 00:00:00'))\n",
      "Data columns (total 15 columns):\n",
      " #   Column         Non-Null Count  Dtype  \n",
      "---  ------         --------------  -----  \n",
      " 0   dollar_volume  3203 non-null   float64\n",
      " 1   atr            3203 non-null   float64\n",
      " 2   bb_down        3203 non-null   float64\n",
      " 3   bb_high        3203 non-null   float64\n",
      " 4   bb_low         3203 non-null   float64\n",
      " 5   bb_mid         3203 non-null   float64\n",
      " 6   bb_up          3203 non-null   float64\n",
      " 7   macd           3203 non-null   float64\n",
      " 8   natr           3203 non-null   float64\n",
      " 9   rsi            3203 non-null   float64\n",
      " 10  sector         3203 non-null   object \n",
      " 11  return_1m      3203 non-null   float64\n",
      " 12  return_3m      3203 non-null   float64\n",
      " 13  return_6m      3203 non-null   float64\n",
      " 14  return_12m     3203 non-null   float64\n",
      "dtypes: float64(14), object(1)\n",
      "memory usage: 395.3+ KB\n"
     ]
    }
   ],
   "source": [
    "data = data.join(returns).drop('close', axis=1).dropna()\n",
    "data.info()"
   ]
  },
  {
   "cell_type": "code",
   "execution_count": 113,
   "metadata": {
    "ExecuteTime": {
     "end_time": "2021-02-23T20:41:20.013017Z",
     "start_time": "2021-02-23T20:41:18.325557Z"
    }
   },
   "outputs": [],
   "source": [
    "min_obs = 5*12\n",
    "nobs = data.groupby(level='ticker').size()\n",
    "to_drop = nobs[nobs < min_obs].index\n",
    "data = data.drop(to_drop, level='ticker')"
   ]
  },
  {
   "cell_type": "code",
   "execution_count": 114,
   "metadata": {
    "ExecuteTime": {
     "end_time": "2021-02-23T20:41:20.018610Z",
     "start_time": "2021-02-23T20:41:20.014356Z"
    }
   },
   "outputs": [
    {
     "data": {
      "text/plain": [
       "'the result is 17 tickers'"
      ]
     },
     "execution_count": 114,
     "metadata": {},
     "output_type": "execute_result"
    }
   ],
   "source": [
    "tickers_left = len(data.index.unique('ticker'))\n",
    "f\"the result is {tickers_left} tickers\""
   ]
  },
  {
   "cell_type": "markdown",
   "metadata": {},
   "source": [
    "## Rolling Factor Betas"
   ]
  },
  {
   "cell_type": "markdown",
   "metadata": {},
   "source": [
    "The five Fama—French factors, namely market risk, size, value, operating profitability, and investment have been shown empirically to explain asset returns and are commonly used to assess the risk/return profile of portfolios. Hence, it is natural to include past factor exposures as financial features in models that aim to predict future returns."
   ]
  },
  {
   "cell_type": "markdown",
   "metadata": {},
   "source": [
    "We can access the historical factor returns using the `pandas-datareader` and estimate historical exposures using the `PandasRollingOLS` rolling linear regression functionality in the `pyfinance` library as follows:"
   ]
  },
  {
   "cell_type": "markdown",
   "metadata": {},
   "source": [
    "We can use Fama-French research factors to estimate the factor exposures of the stock in the dataset to the 5 factors market risk, size, value, operating profitability and investment."
   ]
  },
  {
   "cell_type": "code",
   "execution_count": 115,
   "metadata": {
    "ExecuteTime": {
     "end_time": "2021-02-23T20:42:11.097763Z",
     "start_time": "2021-02-23T20:42:10.880529Z"
    },
    "scrolled": false
   },
   "outputs": [
    {
     "name": "stdout",
     "output_type": "stream",
     "text": [
      "<class 'pandas.core.frame.DataFrame'>\n",
      "DatetimeIndex: 352 entries, 1995-01-31 to 2024-04-30\n",
      "Freq: M\n",
      "Data columns (total 5 columns):\n",
      " #   Column  Non-Null Count  Dtype  \n",
      "---  ------  --------------  -----  \n",
      " 0   Mkt-RF  352 non-null    float64\n",
      " 1   SMB     352 non-null    float64\n",
      " 2   HML     352 non-null    float64\n",
      " 3   RMW     352 non-null    float64\n",
      " 4   CMA     352 non-null    float64\n",
      "dtypes: float64(5)\n",
      "memory usage: 16.5 KB\n"
     ]
    }
   ],
   "source": [
    "factors = ['Mkt-RF', 'SMB', 'HML', 'RMW', 'CMA']\n",
    "factor_data = web.DataReader('F-F_Research_Data_5_Factors_2x3', \n",
    "                             'famafrench', \n",
    "                             start=START)[0].drop('RF', axis=1)\n",
    "factor_data.index = factor_data.index.to_timestamp()\n",
    "factor_data = factor_data.resample('M').last().div(100)\n",
    "factor_data.index.name = 'date'\n",
    "factor_data.info()"
   ]
  },
  {
   "cell_type": "code",
   "execution_count": 116,
   "metadata": {
    "ExecuteTime": {
     "end_time": "2021-02-23T20:42:12.481069Z",
     "start_time": "2021-02-23T20:42:12.417368Z"
    },
    "scrolled": true
   },
   "outputs": [
    {
     "name": "stdout",
     "output_type": "stream",
     "text": [
      "<class 'pandas.core.frame.DataFrame'>\n",
      "MultiIndex: 3203 entries, ('ALUA.BA', Timestamp('2003-08-31 00:00:00')) to ('YPFD.BA', Timestamp('2017-12-31 00:00:00'))\n",
      "Data columns (total 6 columns):\n",
      " #   Column     Non-Null Count  Dtype  \n",
      "---  ------     --------------  -----  \n",
      " 0   Mkt-RF     3203 non-null   float64\n",
      " 1   SMB        3203 non-null   float64\n",
      " 2   HML        3203 non-null   float64\n",
      " 3   RMW        3203 non-null   float64\n",
      " 4   CMA        3203 non-null   float64\n",
      " 5   return_1m  3203 non-null   float64\n",
      "dtypes: float64(6)\n",
      "memory usage: 170.6+ KB\n"
     ]
    }
   ],
   "source": [
    "factor_data = factor_data.join(data['return_1m']).dropna().sort_index()\n",
    "factor_data['return_1m'] -= factor_data['Mkt-RF']\n",
    "factor_data.info()"
   ]
  },
  {
   "cell_type": "code",
   "execution_count": 117,
   "metadata": {
    "ExecuteTime": {
     "end_time": "2021-02-23T20:42:12.761795Z",
     "start_time": "2021-02-23T20:42:12.722981Z"
    }
   },
   "outputs": [
    {
     "data": {
      "text/html": [
       "<div>\n",
       "<style scoped>\n",
       "    .dataframe tbody tr th:only-of-type {\n",
       "        vertical-align: middle;\n",
       "    }\n",
       "\n",
       "    .dataframe tbody tr th {\n",
       "        vertical-align: top;\n",
       "    }\n",
       "\n",
       "    .dataframe thead th {\n",
       "        text-align: right;\n",
       "    }\n",
       "</style>\n",
       "<table border=\"1\" class=\"dataframe\">\n",
       "  <thead>\n",
       "    <tr style=\"text-align: right;\">\n",
       "      <th></th>\n",
       "      <th>Mkt-RF</th>\n",
       "      <th>SMB</th>\n",
       "      <th>HML</th>\n",
       "      <th>RMW</th>\n",
       "      <th>CMA</th>\n",
       "      <th>return_1m</th>\n",
       "    </tr>\n",
       "  </thead>\n",
       "  <tbody>\n",
       "    <tr>\n",
       "      <th>count</th>\n",
       "      <td>3203.000000</td>\n",
       "      <td>3203.000000</td>\n",
       "      <td>3203.000000</td>\n",
       "      <td>3203.000000</td>\n",
       "      <td>3203.000000</td>\n",
       "      <td>3203.000000</td>\n",
       "    </tr>\n",
       "    <tr>\n",
       "      <th>mean</th>\n",
       "      <td>0.005886</td>\n",
       "      <td>0.002993</td>\n",
       "      <td>0.001180</td>\n",
       "      <td>0.003522</td>\n",
       "      <td>0.001641</td>\n",
       "      <td>0.026493</td>\n",
       "    </tr>\n",
       "    <tr>\n",
       "      <th>std</th>\n",
       "      <td>0.042373</td>\n",
       "      <td>0.025560</td>\n",
       "      <td>0.026764</td>\n",
       "      <td>0.021874</td>\n",
       "      <td>0.017472</td>\n",
       "      <td>0.140722</td>\n",
       "    </tr>\n",
       "    <tr>\n",
       "      <th>min</th>\n",
       "      <td>-0.172300</td>\n",
       "      <td>-0.064300</td>\n",
       "      <td>-0.112900</td>\n",
       "      <td>-0.092000</td>\n",
       "      <td>-0.050300</td>\n",
       "      <td>-0.396004</td>\n",
       "    </tr>\n",
       "    <tr>\n",
       "      <th>25%</th>\n",
       "      <td>-0.017600</td>\n",
       "      <td>-0.014350</td>\n",
       "      <td>-0.013200</td>\n",
       "      <td>-0.009300</td>\n",
       "      <td>-0.009900</td>\n",
       "      <td>-0.057284</td>\n",
       "    </tr>\n",
       "    <tr>\n",
       "      <th>50%</th>\n",
       "      <td>0.010900</td>\n",
       "      <td>0.002500</td>\n",
       "      <td>0.000000</td>\n",
       "      <td>0.004400</td>\n",
       "      <td>-0.000100</td>\n",
       "      <td>0.006008</td>\n",
       "    </tr>\n",
       "    <tr>\n",
       "      <th>75%</th>\n",
       "      <td>0.031300</td>\n",
       "      <td>0.020600</td>\n",
       "      <td>0.015300</td>\n",
       "      <td>0.013600</td>\n",
       "      <td>0.010600</td>\n",
       "      <td>0.095316</td>\n",
       "    </tr>\n",
       "    <tr>\n",
       "      <th>max</th>\n",
       "      <td>0.113500</td>\n",
       "      <td>0.071300</td>\n",
       "      <td>0.124700</td>\n",
       "      <td>0.091000</td>\n",
       "      <td>0.090700</td>\n",
       "      <td>0.619009</td>\n",
       "    </tr>\n",
       "  </tbody>\n",
       "</table>\n",
       "</div>"
      ],
      "text/plain": [
       "            Mkt-RF          SMB          HML          RMW          CMA  \\\n",
       "count  3203.000000  3203.000000  3203.000000  3203.000000  3203.000000   \n",
       "mean      0.005886     0.002993     0.001180     0.003522     0.001641   \n",
       "std       0.042373     0.025560     0.026764     0.021874     0.017472   \n",
       "min      -0.172300    -0.064300    -0.112900    -0.092000    -0.050300   \n",
       "25%      -0.017600    -0.014350    -0.013200    -0.009300    -0.009900   \n",
       "50%       0.010900     0.002500     0.000000     0.004400    -0.000100   \n",
       "75%       0.031300     0.020600     0.015300     0.013600     0.010600   \n",
       "max       0.113500     0.071300     0.124700     0.091000     0.090700   \n",
       "\n",
       "         return_1m  \n",
       "count  3203.000000  \n",
       "mean      0.026493  \n",
       "std       0.140722  \n",
       "min      -0.396004  \n",
       "25%      -0.057284  \n",
       "50%       0.006008  \n",
       "75%       0.095316  \n",
       "max       0.619009  "
      ]
     },
     "execution_count": 117,
     "metadata": {},
     "output_type": "execute_result"
    }
   ],
   "source": [
    "factor_data.describe()"
   ]
  },
  {
   "cell_type": "code",
   "execution_count": 118,
   "metadata": {
    "ExecuteTime": {
     "end_time": "2021-02-23T20:42:17.214895Z",
     "start_time": "2021-02-23T20:42:15.331075Z"
    }
   },
   "outputs": [],
   "source": [
    "T = 60\n",
    "# betas = (factor_data\n",
    "#          .groupby(level='ticker', group_keys=False)\n",
    "#          .apply(lambda x: PandasRollingOLS(window=min(T, x.shape[0]-1), \n",
    "#                                            y=x.return_1m, \n",
    "#                                            x=x.drop('return_1m', axis=1)).beta)\n",
    "#         .rename(columns={'Mkt-RF': 'beta'}))\n",
    "betas = (factor_data.groupby(level='ticker',\n",
    "                             group_keys=False)\n",
    "         .apply(lambda x: RollingOLS(endog=x.return_1m,\n",
    "                                     exog=sm.add_constant(x.drop('return_1m', axis=1)),\n",
    "                                     window=min(T, x.shape[0]-1))\n",
    "                .fit(params_only=True)\n",
    "                .params\n",
    "                .rename(columns={'Mkt-RF': 'beta'})\n",
    "                .drop('const', axis=1)))"
   ]
  },
  {
   "cell_type": "code",
   "execution_count": 119,
   "metadata": {},
   "outputs": [
    {
     "data": {
      "text/html": [
       "<div>\n",
       "<style scoped>\n",
       "    .dataframe tbody tr th:only-of-type {\n",
       "        vertical-align: middle;\n",
       "    }\n",
       "\n",
       "    .dataframe tbody tr th {\n",
       "        vertical-align: top;\n",
       "    }\n",
       "\n",
       "    .dataframe thead th {\n",
       "        text-align: right;\n",
       "    }\n",
       "</style>\n",
       "<table border=\"1\" class=\"dataframe\">\n",
       "  <thead>\n",
       "    <tr style=\"text-align: right;\">\n",
       "      <th></th>\n",
       "      <th>beta</th>\n",
       "      <th>SMB</th>\n",
       "      <th>HML</th>\n",
       "      <th>RMW</th>\n",
       "      <th>CMA</th>\n",
       "      <th>total</th>\n",
       "    </tr>\n",
       "  </thead>\n",
       "  <tbody>\n",
       "    <tr>\n",
       "      <th>count</th>\n",
       "      <td>2200.000000</td>\n",
       "      <td>2.200000e+03</td>\n",
       "      <td>2200.000000</td>\n",
       "      <td>2200.000000</td>\n",
       "      <td>2200.000000</td>\n",
       "      <td>3203.000000</td>\n",
       "    </tr>\n",
       "    <tr>\n",
       "      <th>mean</th>\n",
       "      <td>-0.012851</td>\n",
       "      <td>6.739442e-02</td>\n",
       "      <td>-0.345371</td>\n",
       "      <td>-0.168758</td>\n",
       "      <td>-0.017561</td>\n",
       "      <td>-0.327731</td>\n",
       "    </tr>\n",
       "    <tr>\n",
       "      <th>std</th>\n",
       "      <td>0.527363</td>\n",
       "      <td>8.925678e-01</td>\n",
       "      <td>0.888429</td>\n",
       "      <td>1.237940</td>\n",
       "      <td>1.342608</td>\n",
       "      <td>1.789705</td>\n",
       "    </tr>\n",
       "    <tr>\n",
       "      <th>min</th>\n",
       "      <td>-2.071165</td>\n",
       "      <td>-2.673345e+00</td>\n",
       "      <td>-3.045462</td>\n",
       "      <td>-4.136258</td>\n",
       "      <td>-4.521266</td>\n",
       "      <td>-9.586544</td>\n",
       "    </tr>\n",
       "    <tr>\n",
       "      <th>25%</th>\n",
       "      <td>-0.330730</td>\n",
       "      <td>-4.924212e-01</td>\n",
       "      <td>-0.889365</td>\n",
       "      <td>-0.869134</td>\n",
       "      <td>-0.870442</td>\n",
       "      <td>-1.039556</td>\n",
       "    </tr>\n",
       "    <tr>\n",
       "      <th>50%</th>\n",
       "      <td>0.050446</td>\n",
       "      <td>2.007477e-16</td>\n",
       "      <td>-0.336032</td>\n",
       "      <td>-0.167623</td>\n",
       "      <td>-0.020236</td>\n",
       "      <td>0.000000</td>\n",
       "    </tr>\n",
       "    <tr>\n",
       "      <th>75%</th>\n",
       "      <td>0.354266</td>\n",
       "      <td>5.082923e-01</td>\n",
       "      <td>0.089825</td>\n",
       "      <td>0.725118</td>\n",
       "      <td>0.926271</td>\n",
       "      <td>0.185938</td>\n",
       "    </tr>\n",
       "    <tr>\n",
       "      <th>max</th>\n",
       "      <td>1.414388</td>\n",
       "      <td>3.124956e+00</td>\n",
       "      <td>3.043994</td>\n",
       "      <td>2.972492</td>\n",
       "      <td>3.762485</td>\n",
       "      <td>6.677564</td>\n",
       "    </tr>\n",
       "  </tbody>\n",
       "</table>\n",
       "</div>"
      ],
      "text/plain": [
       "              beta           SMB          HML          RMW          CMA  \\\n",
       "count  2200.000000  2.200000e+03  2200.000000  2200.000000  2200.000000   \n",
       "mean     -0.012851  6.739442e-02    -0.345371    -0.168758    -0.017561   \n",
       "std       0.527363  8.925678e-01     0.888429     1.237940     1.342608   \n",
       "min      -2.071165 -2.673345e+00    -3.045462    -4.136258    -4.521266   \n",
       "25%      -0.330730 -4.924212e-01    -0.889365    -0.869134    -0.870442   \n",
       "50%       0.050446  2.007477e-16    -0.336032    -0.167623    -0.020236   \n",
       "75%       0.354266  5.082923e-01     0.089825     0.725118     0.926271   \n",
       "max       1.414388  3.124956e+00     3.043994     2.972492     3.762485   \n",
       "\n",
       "             total  \n",
       "count  3203.000000  \n",
       "mean     -0.327731  \n",
       "std       1.789705  \n",
       "min      -9.586544  \n",
       "25%      -1.039556  \n",
       "50%       0.000000  \n",
       "75%       0.185938  \n",
       "max       6.677564  "
      ]
     },
     "execution_count": 119,
     "metadata": {},
     "output_type": "execute_result"
    }
   ],
   "source": [
    "betas.describe().join(betas.sum(1).describe().to_frame('total'))"
   ]
  },
  {
   "cell_type": "code",
   "execution_count": 120,
   "metadata": {
    "ExecuteTime": {
     "end_time": "2021-02-23T20:42:17.251480Z",
     "start_time": "2021-02-23T20:42:17.216084Z"
    }
   },
   "outputs": [
    {
     "data": {
      "text/html": [
       "<div>\n",
       "<style scoped>\n",
       "    .dataframe tbody tr th:only-of-type {\n",
       "        vertical-align: middle;\n",
       "    }\n",
       "\n",
       "    .dataframe tbody tr th {\n",
       "        vertical-align: top;\n",
       "    }\n",
       "\n",
       "    .dataframe thead th {\n",
       "        text-align: right;\n",
       "    }\n",
       "</style>\n",
       "<table border=\"1\" class=\"dataframe\">\n",
       "  <thead>\n",
       "    <tr style=\"text-align: right;\">\n",
       "      <th></th>\n",
       "      <th>beta</th>\n",
       "      <th>SMB</th>\n",
       "      <th>HML</th>\n",
       "      <th>RMW</th>\n",
       "      <th>CMA</th>\n",
       "      <th>total</th>\n",
       "    </tr>\n",
       "  </thead>\n",
       "  <tbody>\n",
       "    <tr>\n",
       "      <th>count</th>\n",
       "      <td>2200.000000</td>\n",
       "      <td>2.200000e+03</td>\n",
       "      <td>2200.000000</td>\n",
       "      <td>2200.000000</td>\n",
       "      <td>2200.000000</td>\n",
       "      <td>3203.000000</td>\n",
       "    </tr>\n",
       "    <tr>\n",
       "      <th>mean</th>\n",
       "      <td>-0.012851</td>\n",
       "      <td>6.739442e-02</td>\n",
       "      <td>-0.345371</td>\n",
       "      <td>-0.168758</td>\n",
       "      <td>-0.017561</td>\n",
       "      <td>-0.327731</td>\n",
       "    </tr>\n",
       "    <tr>\n",
       "      <th>std</th>\n",
       "      <td>0.527363</td>\n",
       "      <td>8.925678e-01</td>\n",
       "      <td>0.888429</td>\n",
       "      <td>1.237940</td>\n",
       "      <td>1.342608</td>\n",
       "      <td>1.789705</td>\n",
       "    </tr>\n",
       "    <tr>\n",
       "      <th>min</th>\n",
       "      <td>-2.071165</td>\n",
       "      <td>-2.673345e+00</td>\n",
       "      <td>-3.045462</td>\n",
       "      <td>-4.136258</td>\n",
       "      <td>-4.521266</td>\n",
       "      <td>-9.586544</td>\n",
       "    </tr>\n",
       "    <tr>\n",
       "      <th>25%</th>\n",
       "      <td>-0.330730</td>\n",
       "      <td>-4.924212e-01</td>\n",
       "      <td>-0.889365</td>\n",
       "      <td>-0.869134</td>\n",
       "      <td>-0.870442</td>\n",
       "      <td>-1.039556</td>\n",
       "    </tr>\n",
       "    <tr>\n",
       "      <th>50%</th>\n",
       "      <td>0.050446</td>\n",
       "      <td>2.007477e-16</td>\n",
       "      <td>-0.336032</td>\n",
       "      <td>-0.167623</td>\n",
       "      <td>-0.020236</td>\n",
       "      <td>0.000000</td>\n",
       "    </tr>\n",
       "    <tr>\n",
       "      <th>75%</th>\n",
       "      <td>0.354266</td>\n",
       "      <td>5.082923e-01</td>\n",
       "      <td>0.089825</td>\n",
       "      <td>0.725118</td>\n",
       "      <td>0.926271</td>\n",
       "      <td>0.185938</td>\n",
       "    </tr>\n",
       "    <tr>\n",
       "      <th>max</th>\n",
       "      <td>1.414388</td>\n",
       "      <td>3.124956e+00</td>\n",
       "      <td>3.043994</td>\n",
       "      <td>2.972492</td>\n",
       "      <td>3.762485</td>\n",
       "      <td>6.677564</td>\n",
       "    </tr>\n",
       "  </tbody>\n",
       "</table>\n",
       "</div>"
      ],
      "text/plain": [
       "              beta           SMB          HML          RMW          CMA  \\\n",
       "count  2200.000000  2.200000e+03  2200.000000  2200.000000  2200.000000   \n",
       "mean     -0.012851  6.739442e-02    -0.345371    -0.168758    -0.017561   \n",
       "std       0.527363  8.925678e-01     0.888429     1.237940     1.342608   \n",
       "min      -2.071165 -2.673345e+00    -3.045462    -4.136258    -4.521266   \n",
       "25%      -0.330730 -4.924212e-01    -0.889365    -0.869134    -0.870442   \n",
       "50%       0.050446  2.007477e-16    -0.336032    -0.167623    -0.020236   \n",
       "75%       0.354266  5.082923e-01     0.089825     0.725118     0.926271   \n",
       "max       1.414388  3.124956e+00     3.043994     2.972492     3.762485   \n",
       "\n",
       "             total  \n",
       "count  3203.000000  \n",
       "mean     -0.327731  \n",
       "std       1.789705  \n",
       "min      -9.586544  \n",
       "25%      -1.039556  \n",
       "50%       0.000000  \n",
       "75%       0.185938  \n",
       "max       6.677564  "
      ]
     },
     "execution_count": 120,
     "metadata": {},
     "output_type": "execute_result"
    }
   ],
   "source": [
    "betas.describe().join(betas.sum(1).describe().to_frame('total'))"
   ]
  },
  {
   "cell_type": "code",
   "execution_count": 121,
   "metadata": {
    "ExecuteTime": {
     "end_time": "2021-02-23T20:42:17.624730Z",
     "start_time": "2021-02-23T20:42:17.252923Z"
    }
   },
   "outputs": [
    {
     "data": {
      "image/png": "[encoded data removed]",
      "text/plain": [
       "<Figure size 1000x1000 with 4 Axes>"
      ]
     },
     "metadata": {},
     "output_type": "display_data"
    }
   ],
   "source": [
    "cmap = sns.diverging_palette(10, 220, as_cmap=True)\n",
    "sns.clustermap(betas.corr(), annot=True, cmap=cmap, center=0);"
   ]
  },
  {
   "cell_type": "code",
   "execution_count": 122,
   "metadata": {
    "ExecuteTime": {
     "end_time": "2021-02-23T20:42:20.852056Z",
     "start_time": "2021-02-23T20:42:20.613962Z"
    },
    "scrolled": true
   },
   "outputs": [],
   "source": [
    "data = (data\n",
    "      .join(betas\n",
    "          .groupby(level='ticker')\n",
    "          .shift())\n",
    "     .dropna()\n",
    "     .sort_index())"
   ]
  },
  {
   "cell_type": "code",
   "execution_count": 123,
   "metadata": {
    "ExecuteTime": {
     "end_time": "2021-02-23T20:42:21.019345Z",
     "start_time": "2021-02-23T20:42:21.005378Z"
    }
   },
   "outputs": [
    {
     "name": "stdout",
     "output_type": "stream",
     "text": [
      "<class 'pandas.core.frame.DataFrame'>\n",
      "MultiIndex: 2183 entries, ('ALUA.BA', Timestamp('2008-08-31 00:00:00')) to ('YPFD.BA', Timestamp('2017-12-31 00:00:00'))\n",
      "Data columns (total 20 columns):\n",
      " #   Column         Non-Null Count  Dtype  \n",
      "---  ------         --------------  -----  \n",
      " 0   dollar_volume  2183 non-null   float64\n",
      " 1   atr            2183 non-null   float64\n",
      " 2   bb_down        2183 non-null   float64\n",
      " 3   bb_high        2183 non-null   float64\n",
      " 4   bb_low         2183 non-null   float64\n",
      " 5   bb_mid         2183 non-null   float64\n",
      " 6   bb_up          2183 non-null   float64\n",
      " 7   macd           2183 non-null   float64\n",
      " 8   natr           2183 non-null   float64\n",
      " 9   rsi            2183 non-null   float64\n",
      " 10  sector         2183 non-null   object \n",
      " 11  return_1m      2183 non-null   float64\n",
      " 12  return_3m      2183 non-null   float64\n",
      " 13  return_6m      2183 non-null   float64\n",
      " 14  return_12m     2183 non-null   float64\n",
      " 15  beta           2183 non-null   float64\n",
      " 16  SMB            2183 non-null   float64\n",
      " 17  HML            2183 non-null   float64\n",
      " 18  RMW            2183 non-null   float64\n",
      " 19  CMA            2183 non-null   float64\n",
      "dtypes: float64(19), object(1)\n",
      "memory usage: 357.5+ KB\n"
     ]
    }
   ],
   "source": [
    "data.info()"
   ]
  },
  {
   "cell_type": "markdown",
   "metadata": {},
   "source": [
    "## Momentum factors"
   ]
  },
  {
   "cell_type": "markdown",
   "metadata": {},
   "source": [
    "We can use these results to compute momentum factors based on the difference between returns over longer periods and the most recent monthly return, as well as for the difference between 3 and 12 month returns as follows:"
   ]
  },
  {
   "cell_type": "code",
   "execution_count": 124,
   "metadata": {
    "ExecuteTime": {
     "end_time": "2021-02-23T20:42:23.799079Z",
     "start_time": "2021-02-23T20:42:23.793520Z"
    }
   },
   "outputs": [],
   "source": [
    "for lag in [3, 6, 12]:\n",
    "    data[f'momentum_{lag}'] = data[f'return_{lag}m'].sub(data.return_1m)\n",
    "    if lag > 3:\n",
    "        data[f'momentum_3_{lag}'] = data[f'return_{lag}m'].sub(data.return_3m)    "
   ]
  },
  {
   "cell_type": "markdown",
   "metadata": {},
   "source": [
    "## Date Indicators"
   ]
  },
  {
   "cell_type": "code",
   "execution_count": 125,
   "metadata": {
    "ExecuteTime": {
     "end_time": "2021-02-23T20:42:24.107325Z",
     "start_time": "2021-02-23T20:42:24.092809Z"
    }
   },
   "outputs": [],
   "source": [
    "dates = data.index.get_level_values('date')\n",
    "data['year'] = dates.year\n",
    "data['month'] = dates.month"
   ]
  },
  {
   "cell_type": "markdown",
   "metadata": {},
   "source": [
    "## Target: Holding Period Returns"
   ]
  },
  {
   "cell_type": "markdown",
   "metadata": {},
   "source": [
    "To compute returns for our one-month target holding period, we use the returns computed previously and shift them back to align them with the current financial features."
   ]
  },
  {
   "cell_type": "code",
   "execution_count": 126,
   "metadata": {
    "ExecuteTime": {
     "end_time": "2021-02-23T20:42:26.197129Z",
     "start_time": "2021-02-23T20:42:26.187948Z"
    }
   },
   "outputs": [],
   "source": [
    "data['target'] = data.groupby(level='ticker')[f'return_1m'].shift(-1)"
   ]
  },
  {
   "cell_type": "code",
   "execution_count": 127,
   "metadata": {
    "ExecuteTime": {
     "end_time": "2021-02-23T20:42:26.392027Z",
     "start_time": "2021-02-23T20:42:26.374282Z"
    }
   },
   "outputs": [],
   "source": [
    "data = data.dropna()"
   ]
  },
  {
   "cell_type": "code",
   "execution_count": 128,
   "metadata": {
    "ExecuteTime": {
     "end_time": "2021-02-23T20:42:26.573080Z",
     "start_time": "2021-02-23T20:42:26.548680Z"
    },
    "scrolled": false
   },
   "outputs": [
    {
     "name": "stdout",
     "output_type": "stream",
     "text": [
      "<class 'pandas.core.frame.DataFrame'>\n",
      "MultiIndex: 2166 entries, ('ALUA.BA', Timestamp('2008-08-31 00:00:00')) to ('YPFD.BA', Timestamp('2017-11-30 00:00:00'))\n",
      "Data columns (total 28 columns):\n",
      " #   Column         Non-Null Count  Dtype  \n",
      "---  ------         --------------  -----  \n",
      " 0   dollar_volume  2166 non-null   float64\n",
      " 1   atr            2166 non-null   float64\n",
      " 2   bb_down        2166 non-null   float64\n",
      " 3   bb_high        2166 non-null   float64\n",
      " 4   bb_low         2166 non-null   float64\n",
      " 5   bb_mid         2166 non-null   float64\n",
      " 6   bb_up          2166 non-null   float64\n",
      " 7   macd           2166 non-null   float64\n",
      " 8   natr           2166 non-null   float64\n",
      " 9   rsi            2166 non-null   float64\n",
      " 10  sector         2166 non-null   object \n",
      " 11  return_1m      2166 non-null   float64\n",
      " 12  return_3m      2166 non-null   float64\n",
      " 13  return_6m      2166 non-null   float64\n",
      " 14  return_12m     2166 non-null   float64\n",
      " 15  beta           2166 non-null   float64\n",
      " 16  SMB            2166 non-null   float64\n",
      " 17  HML            2166 non-null   float64\n",
      " 18  RMW            2166 non-null   float64\n",
      " 19  CMA            2166 non-null   float64\n",
      " 20  momentum_3     2166 non-null   float64\n",
      " 21  momentum_6     2166 non-null   float64\n",
      " 22  momentum_3_6   2166 non-null   float64\n",
      " 23  momentum_12    2166 non-null   float64\n",
      " 24  momentum_3_12  2166 non-null   float64\n",
      " 25  year           2166 non-null   int32  \n",
      " 26  month          2166 non-null   int32  \n",
      " 27  target         2166 non-null   float64\n",
      "dtypes: float64(25), int32(2), object(1)\n",
      "memory usage: 473.3+ KB\n"
     ]
    }
   ],
   "source": [
    "data.sort_index().info()"
   ]
  },
  {
   "cell_type": "markdown",
   "metadata": {},
   "source": [
    "## Sector Breakdown"
   ]
  },
  {
   "cell_type": "code",
   "execution_count": 129,
   "metadata": {
    "ExecuteTime": {
     "end_time": "2021-02-23T20:42:27.081741Z",
     "start_time": "2021-02-23T20:42:26.879546Z"
    }
   },
   "outputs": [
    {
     "data": {
      "image/png": "[encoded data removed]",
      "text/plain": [
       "<Figure size 640x480 with 1 Axes>"
      ]
     },
     "metadata": {},
     "output_type": "display_data"
    }
   ],
   "source": [
    "ax = data.reset_index().groupby('sector').ticker.nunique().sort_values().plot.barh(title='Sector Breakdown')\n",
    "ax.set_ylabel('')\n",
    "ax.set_xlabel('# Tickers')\n",
    "sns.despine()\n",
    "plt.tight_layout();"
   ]
  },
  {
   "cell_type": "markdown",
   "metadata": {},
   "source": [
    "## Store data"
   ]
  },
  {
   "cell_type": "code",
   "execution_count": 139,
   "metadata": {
    "ExecuteTime": {
     "end_time": "2021-02-23T20:42:30.009591Z",
     "start_time": "2021-02-23T20:42:29.969076Z"
    },
    "scrolled": true
   },
   "outputs": [],
   "source": [
    "with pd.HDFStore('data.h5') as store:\n",
    "    store.put('equities/monthly', data)"
   ]
  },
  {
   "cell_type": "markdown",
   "metadata": {},
   "source": [
    "## Evaluate mutual information"
   ]
  },
  {
   "cell_type": "code",
   "execution_count": 140,
   "metadata": {
    "ExecuteTime": {
     "end_time": "2021-02-23T20:42:30.620609Z",
     "start_time": "2021-02-23T20:42:30.607499Z"
    },
    "scrolled": true
   },
   "outputs": [],
   "source": [
    "X = data.drop('target', axis=1)\n",
    "X.sector = pd.factorize(X.sector)[0]"
   ]
  },
  {
   "cell_type": "code",
   "execution_count": 141,
   "metadata": {
    "ExecuteTime": {
     "end_time": "2021-02-23T20:42:45.996017Z",
     "start_time": "2021-02-23T20:42:30.768783Z"
    }
   },
   "outputs": [],
   "source": [
    "mi = mutual_info_regression(X=X, y=data.target)"
   ]
  },
  {
   "cell_type": "code",
   "execution_count": 142,
   "metadata": {
    "ExecuteTime": {
     "end_time": "2021-02-23T20:42:46.001333Z",
     "start_time": "2021-02-23T20:42:45.997201Z"
    }
   },
   "outputs": [
    {
     "data": {
      "text/plain": [
       "bb_mid           0.138116\n",
       "bb_low           0.119419\n",
       "return_12m       0.113035\n",
       "bb_high          0.112994\n",
       "momentum_6       0.112906\n",
       "atr              0.105957\n",
       "momentum_3_12    0.101571\n",
       "momentum_12      0.098426\n",
       "natr             0.098125\n",
       "momentum_3       0.095844\n",
       "dtype: float64"
      ]
     },
     "execution_count": 142,
     "metadata": {},
     "output_type": "execute_result"
    }
   ],
   "source": [
    "mi_reg = pd.Series(mi, index=X.columns)\n",
    "mi_reg.nlargest(10)"
   ]
  },
  {
   "cell_type": "code",
   "execution_count": 143,
   "metadata": {
    "ExecuteTime": {
     "end_time": "2021-02-23T20:42:56.372539Z",
     "start_time": "2021-02-23T20:42:46.002764Z"
    }
   },
   "outputs": [],
   "source": [
    "mi = mutual_info_classif(X=X, y=(data.target>0).astype(int))"
   ]
  },
  {
   "cell_type": "code",
   "execution_count": 144,
   "metadata": {
    "ExecuteTime": {
     "end_time": "2021-02-23T20:42:56.378061Z",
     "start_time": "2021-02-23T20:42:56.373817Z"
    }
   },
   "outputs": [
    {
     "data": {
      "text/plain": [
       "bb_low        0.133918\n",
       "bb_high       0.103272\n",
       "bb_mid        0.097955\n",
       "rsi           0.037188\n",
       "momentum_6    0.032239\n",
       "month         0.027280\n",
       "return_3m     0.026193\n",
       "momentum_3    0.026050\n",
       "atr           0.024725\n",
       "year          0.024385\n",
       "dtype: float64"
      ]
     },
     "execution_count": 144,
     "metadata": {},
     "output_type": "execute_result"
    }
   ],
   "source": [
    "mi_class = pd.Series(mi, index=X.columns)\n",
    "mi_class.nlargest(10)"
   ]
  },
  {
   "cell_type": "code",
   "execution_count": 145,
   "metadata": {
    "ExecuteTime": {
     "end_time": "2021-02-23T20:42:56.402392Z",
     "start_time": "2021-02-23T20:42:56.379294Z"
    }
   },
   "outputs": [],
   "source": [
    "mi = mi_reg.to_frame('Regression').join(mi_class.to_frame('Classification'))"
   ]
  },
  {
   "cell_type": "code",
   "execution_count": 146,
   "metadata": {
    "ExecuteTime": {
     "end_time": "2021-02-23T20:42:56.410287Z",
     "start_time": "2021-02-23T20:42:56.403851Z"
    }
   },
   "outputs": [],
   "source": [
    "mi.index = [' '.join(c.upper().split('_')) for c in mi.index]"
   ]
  },
  {
   "cell_type": "code",
   "execution_count": 147,
   "metadata": {
    "ExecuteTime": {
     "end_time": "2021-02-23T20:42:56.986502Z",
     "start_time": "2021-02-23T20:42:56.411402Z"
    }
   },
   "outputs": [
    {
     "data": {
      "image/png": "[encoded data removed]",
      "text/plain": [
       "<Figure size 1200x400 with 2 Axes>"
      ]
     },
     "metadata": {},
     "output_type": "display_data"
    }
   ],
   "source": [
    "fig, axes = plt.subplots(ncols=2, figsize=(12, 4))\n",
    "for i, t in enumerate(['Regression', 'Classification']):\n",
    "    mi[t].nlargest(20).sort_values().plot.barh(title=t, ax=axes[i])\n",
    "    axes[i].set_xlabel('Mutual Information')\n",
    "fig.suptitle('Mutual Information', fontsize=14)\n",
    "sns.despine()\n",
    "fig.tight_layout()\n",
    "fig.subplots_adjust(top=.9)"
   ]
  }
 ],
 "metadata": {
  "kernelspec": {
   "display_name": "Python 3",
   "language": "python",
   "name": "python3"
  },
  "language_info": {
   "codemirror_mode": {
    "name": "ipython",
    "version": 3
   },
   "file_extension": ".py",
   "mimetype": "text/x-python",
   "name": "python",
   "nbconvert_exporter": "python",
   "pygments_lexer": "ipython3",
   "version": "3.8.19"
  },
  "toc": {
   "base_numbering": 1,
   "nav_menu": {},
   "number_sections": true,
   "sideBar": true,
   "skip_h1_title": true,
   "title_cell": "Table of Contents",
   "title_sidebar": "Contents",
   "toc_cell": false,
   "toc_position": {
    "height": "calc(100% - 180px)",
    "left": "10px",
    "top": "150px",
    "width": "230.355px"
   },
   "toc_section_display": true,
   "toc_window_display": true
  }
 },
 "nbformat": 4,
 "nbformat_minor": 2
}
