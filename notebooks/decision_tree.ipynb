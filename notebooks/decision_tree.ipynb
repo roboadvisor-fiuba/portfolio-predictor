{
 "cells": [
  {
   "cell_type": "markdown",
   "metadata": {},
   "source": [
    "# How to use decision trees to predict equity returns and price moves"
   ]
  },
  {
   "cell_type": "markdown",
   "metadata": {},
   "source": [
    "In this notebook, we illustrate how to use tree-based models to gain insight and make predictions. \n",
    "\n",
    "To demonstrate regression trees we predict returns, and for the classification case, we return to the example of positive and negative asset price moves."
   ]
  },
  {
   "cell_type": "markdown",
   "metadata": {},
   "source": [
    "## Imports & Settings"
   ]
  },
  {
   "cell_type": "code",
   "execution_count": 1,
   "metadata": {
    "ExecuteTime": {
     "end_time": "2021-04-16T00:32:25.352734Z",
     "start_time": "2021-04-16T00:32:25.350697Z"
    }
   },
   "outputs": [],
   "source": [
    "import warnings\n",
    "warnings.filterwarnings('ignore')"
   ]
  },
  {
   "cell_type": "code",
   "execution_count": 2,
   "metadata": {
    "ExecuteTime": {
     "end_time": "2021-04-16T00:32:26.702500Z",
     "start_time": "2021-04-16T00:32:25.552972Z"
    }
   },
   "outputs": [],
   "source": [
    "%matplotlib inline\n",
    "\n",
    "import os, sys\n",
    "from pathlib import Path\n",
    "\n",
    "import numpy as np\n",
    "from scipy.stats import spearmanr\n",
    "import pandas as pd\n",
    "\n",
    "import matplotlib.pyplot as plt\n",
    "from matplotlib.ticker import FuncFormatter\n",
    "from matplotlib import cm\n",
    "import seaborn as sns\n",
    "\n",
    "from sklearn.tree import DecisionTreeClassifier, DecisionTreeRegressor, export_graphviz, _tree\n",
    "from sklearn.linear_model import LinearRegression, LogisticRegression\n",
    "from sklearn.model_selection import train_test_split, GridSearchCV, learning_curve\n",
    "from sklearn.metrics import roc_auc_score, roc_curve, mean_squared_error, make_scorer\n",
    "import graphviz\n",
    "\n",
    "import statsmodels.api as sm"
   ]
  },
  {
   "cell_type": "code",
   "execution_count": 3,
   "metadata": {
    "ExecuteTime": {
     "end_time": "2021-04-16T00:32:26.708683Z",
     "start_time": "2021-04-16T00:32:26.703952Z"
    }
   },
   "outputs": [],
   "source": [
    "sys.path.insert(1, os.path.join(sys.path[0], '..'))\n",
    "from utils import MultipleTimeSeriesCV"
   ]
  },
  {
   "cell_type": "code",
   "execution_count": 4,
   "metadata": {
    "ExecuteTime": {
     "end_time": "2021-04-16T00:32:26.721121Z",
     "start_time": "2021-04-16T00:32:26.709927Z"
    }
   },
   "outputs": [],
   "source": [
    "sns.set_style('white')"
   ]
  },
  {
   "cell_type": "code",
   "execution_count": 5,
   "metadata": {
    "ExecuteTime": {
     "end_time": "2021-04-16T00:32:26.730830Z",
     "start_time": "2021-04-16T00:32:26.722176Z"
    }
   },
   "outputs": [],
   "source": [
    "results_path = Path('results', 'decision_trees')\n",
    "if not results_path.exists():\n",
    "    results_path.mkdir(parents=True)"
   ]
  },
  {
   "cell_type": "markdown",
   "metadata": {},
   "source": [
    "## Load Model Data"
   ]
  },
  {
   "cell_type": "markdown",
   "metadata": {},
   "source": [
    "The decision tree models are not equipped to handle missing or categorical variables, so we will apply dummy encoding to the latter after dropping any of the former."
   ]
  },
  {
   "cell_type": "code",
   "execution_count": 6,
   "metadata": {
    "ExecuteTime": {
     "end_time": "2021-04-16T00:32:30.995569Z",
     "start_time": "2021-04-16T00:32:30.805133Z"
    },
    "scrolled": true
   },
   "outputs": [
    {
     "name": "stdout",
     "output_type": "stream",
     "text": [
      "<class 'pandas.core.frame.DataFrame'>\n",
      "MultiIndex: 4850 entries, ('ALUA.BA', Timestamp('2016-02-29 00:00:00')) to ('YPFD.BA', Timestamp('2023-11-30 00:00:00'))\n",
      "Data columns (total 29 columns):\n",
      " #   Column         Non-Null Count  Dtype  \n",
      "---  ------         --------------  -----  \n",
      " 0   money_volume   4850 non-null   float64\n",
      " 1   atr            4850 non-null   float64\n",
      " 2   bb_down        4850 non-null   float64\n",
      " 3   bb_high        4850 non-null   float64\n",
      " 4   bb_low         4850 non-null   float64\n",
      " 5   bb_mid         4850 non-null   float64\n",
      " 6   bb_up          4850 non-null   float64\n",
      " 7   macd           4850 non-null   float64\n",
      " 8   natr           4850 non-null   float64\n",
      " 9   ppo            4850 non-null   float64\n",
      " 10  rsi            4850 non-null   float64\n",
      " 11  sector         4850 non-null   object \n",
      " 12  return_1m      4850 non-null   float64\n",
      " 13  return_3m      4850 non-null   float64\n",
      " 14  return_6m      4850 non-null   float64\n",
      " 15  return_12m     4850 non-null   float64\n",
      " 16  beta           4850 non-null   float64\n",
      " 17  SMB            4850 non-null   float64\n",
      " 18  HML            4850 non-null   float64\n",
      " 19  RMW            4850 non-null   float64\n",
      " 20  CMA            4850 non-null   float64\n",
      " 21  momentum_3     4850 non-null   float64\n",
      " 22  momentum_6     4850 non-null   float64\n",
      " 23  momentum_3_6   4850 non-null   float64\n",
      " 24  momentum_12    4850 non-null   float64\n",
      " 25  momentum_3_12  4850 non-null   float64\n",
      " 26  year           4850 non-null   int32  \n",
      " 27  month          4850 non-null   int32  \n",
      " 28  target         4850 non-null   float64\n",
      "dtypes: float64(26), int32(2), object(1)\n",
      "memory usage: 1.1+ MB\n"
     ]
    }
   ],
   "source": [
    "with pd.HDFStore('data.h5') as store:\n",
    "    data = store['merval/monthly']\n",
    "data.info()"
   ]
  },
  {
   "cell_type": "markdown",
   "metadata": {},
   "source": [
    "## Simple Regression Tree with Time Series Data"
   ]
  },
  {
   "cell_type": "markdown",
   "metadata": {},
   "source": [
    "We will train a Regression Tree only with a Time Series, meaning the returns from the current and previous month. This assumes there is a correlation between the increase/deacrease of a stock and it's impact on the following month."
   ]
  },
  {
   "cell_type": "markdown",
   "metadata": {},
   "source": [
    "### Generate two lags of monthly returns"
   ]
  },
  {
   "cell_type": "code",
   "execution_count": 7,
   "metadata": {
    "ExecuteTime": {
     "end_time": "2021-04-16T00:32:38.965107Z",
     "start_time": "2021-04-16T00:32:38.942472Z"
    },
    "scrolled": true
   },
   "outputs": [
    {
     "name": "stdout",
     "output_type": "stream",
     "text": [
      "<class 'pandas.core.frame.DataFrame'>\n",
      "MultiIndex: 4798 entries, ('ALUA.BA', Timestamp('2016-03-31 00:00:00')) to ('YPFD.BA', Timestamp('2023-11-30 00:00:00'))\n",
      "Data columns (total 3 columns):\n",
      " #   Column  Non-Null Count  Dtype  \n",
      "---  ------  --------------  -----  \n",
      " 0   y       4798 non-null   float64\n",
      " 1   t-1     4798 non-null   float64\n",
      " 2   t-2     4798 non-null   float64\n",
      "dtypes: float64(3)\n",
      "memory usage: 134.5+ KB\n"
     ]
    }
   ],
   "source": [
    "X2 = data.loc[:, ['target', 'return_1m']]\n",
    "X2.columns = ['y', 't-1']\n",
    "X2['t-2'] = data.groupby(level='ticker').return_1m.shift()\n",
    "X2 = X2.dropna()\n",
    "X2.info()"
   ]
  },
  {
   "cell_type": "code",
   "execution_count": 8,
   "metadata": {
    "ExecuteTime": {
     "end_time": "2021-04-16T00:32:38.969598Z",
     "start_time": "2021-04-16T00:32:38.966574Z"
    }
   },
   "outputs": [],
   "source": [
    "y2 = X2.y\n",
    "X2 = X2.drop('y', axis=1)"
   ]
  },
  {
   "cell_type": "markdown",
   "metadata": {},
   "source": [
    "### Explore Data"
   ]
  },
  {
   "cell_type": "markdown",
   "metadata": {},
   "source": [
    "Note the small spike where we clipped the data."
   ]
  },
  {
   "cell_type": "code",
   "execution_count": 9,
   "metadata": {
    "ExecuteTime": {
     "end_time": "2021-04-16T00:32:39.517083Z",
     "start_time": "2021-04-16T00:32:38.970753Z"
    }
   },
   "outputs": [
    {
     "data": {
      "image/png": "[encoded data removed]",
      "text/plain": [
       "<Figure size 640x480 with 1 Axes>"
      ]
     },
     "metadata": {},
     "output_type": "display_data"
    }
   ],
   "source": [
    "sns.distplot(y2)\n",
    "sns.despine();"
   ]
  },
  {
   "cell_type": "markdown",
   "metadata": {},
   "source": [
    "### Configure Tree"
   ]
  },
  {
   "cell_type": "markdown",
   "metadata": {},
   "source": [
    "Let's start with a simplified example to facilitate visualization and only use two months of lagged returns to predict the following month, in the vein of an AR(2) model from the last chapter:"
   ]
  },
  {
   "cell_type": "code",
   "execution_count": 10,
   "metadata": {
    "ExecuteTime": {
     "end_time": "2021-04-16T00:32:39.521903Z",
     "start_time": "2021-04-16T00:32:39.518821Z"
    }
   },
   "outputs": [],
   "source": [
    "reg_tree_t2 = DecisionTreeRegressor(criterion='squared_error',\n",
    "                                    splitter='best',\n",
    "                                    max_depth=6,\n",
    "                                    min_samples_split=2,\n",
    "                                    min_samples_leaf=50,\n",
    "                                    min_weight_fraction_leaf=0.0,\n",
    "                                    max_features=None,\n",
    "                                    random_state=42,\n",
    "                                    max_leaf_nodes=None,\n",
    "                                    min_impurity_decrease=0.0)"
   ]
  },
  {
   "cell_type": "markdown",
   "metadata": {},
   "source": [
    "### Train Decision Tree"
   ]
  },
  {
   "cell_type": "code",
   "execution_count": 11,
   "metadata": {
    "ExecuteTime": {
     "end_time": "2021-04-16T00:32:46.840780Z",
     "start_time": "2021-04-16T00:32:39.523207Z"
    }
   },
   "outputs": [
    {
     "name": "stdout",
     "output_type": "stream",
     "text": [
      "5.8 ms ± 372 µs per loop (mean ± std. dev. of 7 runs, 100 loops each)\n"
     ]
    }
   ],
   "source": [
    "%%timeit\n",
    "reg_tree_t2.fit(X=X2, y=y2)"
   ]
  },
  {
   "cell_type": "code",
   "execution_count": 12,
   "metadata": {
    "ExecuteTime": {
     "end_time": "2021-04-16T00:32:46.944042Z",
     "start_time": "2021-04-16T00:32:46.846638Z"
    }
   },
   "outputs": [
    {
     "data": {
      "text/html": [
       "<style>#sk-container-id-1 {color: black;}#sk-container-id-1 pre{padding: 0;}#sk-container-id-1 div.sk-toggleable {background-color: white;}#sk-container-id-1 label.sk-toggleable__label {cursor: pointer;display: block;width: 100%;margin-bottom: 0;padding: 0.3em;box-sizing: border-box;text-align: center;}#sk-container-id-1 label.sk-toggleable__label-arrow:before {content: \"▸\";float: left;margin-right: 0.25em;color: #696969;}#sk-container-id-1 label.sk-toggleable__label-arrow:hover:before {color: black;}#sk-container-id-1 div.sk-estimator:hover label.sk-toggleable__label-arrow:before {color: black;}#sk-container-id-1 div.sk-toggleable__content {max-height: 0;max-width: 0;overflow: hidden;text-align: left;background-color: #f0f8ff;}#sk-container-id-1 div.sk-toggleable__content pre {margin: 0.2em;color: black;border-radius: 0.25em;background-color: #f0f8ff;}#sk-container-id-1 input.sk-toggleable__control:checked~div.sk-toggleable__content {max-height: 200px;max-width: 100%;overflow: auto;}#sk-container-id-1 input.sk-toggleable__control:checked~label.sk-toggleable__label-arrow:before {content: \"▾\";}#sk-container-id-1 div.sk-estimator input.sk-toggleable__control:checked~label.sk-toggleable__label {background-color: #d4ebff;}#sk-container-id-1 div.sk-label input.sk-toggleable__control:checked~label.sk-toggleable__label {background-color: #d4ebff;}#sk-container-id-1 input.sk-hidden--visually {border: 0;clip: rect(1px 1px 1px 1px);clip: rect(1px, 1px, 1px, 1px);height: 1px;margin: -1px;overflow: hidden;padding: 0;position: absolute;width: 1px;}#sk-container-id-1 div.sk-estimator {font-family: monospace;background-color: #f0f8ff;border: 1px dotted black;border-radius: 0.25em;box-sizing: border-box;margin-bottom: 0.5em;}#sk-container-id-1 div.sk-estimator:hover {background-color: #d4ebff;}#sk-container-id-1 div.sk-parallel-item::after {content: \"\";width: 100%;border-bottom: 1px solid gray;flex-grow: 1;}#sk-container-id-1 div.sk-label:hover label.sk-toggleable__label {background-color: #d4ebff;}#sk-container-id-1 div.sk-serial::before {content: \"\";position: absolute;border-left: 1px solid gray;box-sizing: border-box;top: 0;bottom: 0;left: 50%;z-index: 0;}#sk-container-id-1 div.sk-serial {display: flex;flex-direction: column;align-items: center;background-color: white;padding-right: 0.2em;padding-left: 0.2em;position: relative;}#sk-container-id-1 div.sk-item {position: relative;z-index: 1;}#sk-container-id-1 div.sk-parallel {display: flex;align-items: stretch;justify-content: center;background-color: white;position: relative;}#sk-container-id-1 div.sk-item::before, #sk-container-id-1 div.sk-parallel-item::before {content: \"\";position: absolute;border-left: 1px solid gray;box-sizing: border-box;top: 0;bottom: 0;left: 50%;z-index: -1;}#sk-container-id-1 div.sk-parallel-item {display: flex;flex-direction: column;z-index: 1;position: relative;background-color: white;}#sk-container-id-1 div.sk-parallel-item:first-child::after {align-self: flex-end;width: 50%;}#sk-container-id-1 div.sk-parallel-item:last-child::after {align-self: flex-start;width: 50%;}#sk-container-id-1 div.sk-parallel-item:only-child::after {width: 0;}#sk-container-id-1 div.sk-dashed-wrapped {border: 1px dashed gray;margin: 0 0.4em 0.5em 0.4em;box-sizing: border-box;padding-bottom: 0.4em;background-color: white;}#sk-container-id-1 div.sk-label label {font-family: monospace;font-weight: bold;display: inline-block;line-height: 1.2em;}#sk-container-id-1 div.sk-label-container {text-align: center;}#sk-container-id-1 div.sk-container {/* jupyter's `normalize.less` sets `[hidden] { display: none; }` but bootstrap.min.css set `[hidden] { display: none !important; }` so we also need the `!important` here to be able to override the default hidden behavior on the sphinx rendered scikit-learn.org. See: https://github.com/scikit-learn/scikit-learn/issues/21755 */display: inline-block !important;position: relative;}#sk-container-id-1 div.sk-text-repr-fallback {display: none;}</style><div id=\"sk-container-id-1\" class=\"sk-top-container\"><div class=\"sk-text-repr-fallback\"><pre>DecisionTreeRegressor(max_depth=6, min_samples_leaf=50, random_state=42)</pre><b>In a Jupyter environment, please rerun this cell to show the HTML representation or trust the notebook. <br />On GitHub, the HTML representation is unable to render, please try loading this page with nbviewer.org.</b></div><div class=\"sk-container\" hidden><div class=\"sk-item\"><div class=\"sk-estimator sk-toggleable\"><input class=\"sk-toggleable__control sk-hidden--visually\" id=\"sk-estimator-id-1\" type=\"checkbox\" checked><label for=\"sk-estimator-id-1\" class=\"sk-toggleable__label sk-toggleable__label-arrow\">DecisionTreeRegressor</label><div class=\"sk-toggleable__content\"><pre>DecisionTreeRegressor(max_depth=6, min_samples_leaf=50, random_state=42)</pre></div></div></div></div></div>"
      ],
      "text/plain": [
       "DecisionTreeRegressor(max_depth=6, min_samples_leaf=50, random_state=42)"
      ]
     },
     "execution_count": 12,
     "metadata": {},
     "output_type": "execute_result"
    }
   ],
   "source": [
    "reg_tree_t2.fit(X=X2, y=y2)"
   ]
  },
  {
   "cell_type": "markdown",
   "metadata": {},
   "source": [
    "### Visualize Tree"
   ]
  },
  {
   "cell_type": "markdown",
   "metadata": {},
   "source": [
    "You can visualize the tree using the graphviz library (see GitHub for installation instructions) because sklearn can output a description of the tree using the .dot language used by that library. \n",
    "\n",
    "You can configure the output to include feature and class labels and limit the number of levels to keep the chart readable, as follows:"
   ]
  },
  {
   "cell_type": "code",
   "execution_count": 13,
   "metadata": {
    "ExecuteTime": {
     "end_time": "2021-04-16T00:32:46.993321Z",
     "start_time": "2021-04-16T00:32:46.945531Z"
    }
   },
   "outputs": [
    {
     "data": {
      "image/svg+xml": [
       "<?xml version=\"1.0\" encoding=\"UTF-8\" standalone=\"no\"?>\n",
       "<!DOCTYPE svg PUBLIC \"-//W3C//DTD SVG 1.1//EN\"\n",
       " \"http://www.w3.org/Graphics/SVG/1.1/DTD/svg11.dtd\">\n",
       "<!-- Generated by graphviz version 11.0.0 (0)\n",
       " -->\n",
       "<!-- Title: Tree Pages: 1 -->\n",
       "<svg width=\"404pt\" height=\"356pt\"\n",
       " viewBox=\"0.00 0.00 403.50 356.00\" xmlns=\"http://www.w3.org/2000/svg\" xmlns:xlink=\"http://www.w3.org/1999/xlink\">\n",
       "<g id=\"graph0\" class=\"graph\" transform=\"scale(1 1) rotate(0) translate(4 352)\">\n",
       "<title>Tree</title>\n",
       "<polygon fill=\"white\" stroke=\"none\" points=\"-4,4 -4,-352 399.5,-352 399.5,4 -4,4\"/>\n",
       "<!-- 0 -->\n",
       "<g id=\"node1\" class=\"node\">\n",
       "<title>0</title>\n",
       "<path fill=\"#f9e0ce\" stroke=\"black\" d=\"M216.5,-348C216.5,-348 90.25,-348 90.25,-348 84.25,-348 78.25,-342 78.25,-336 78.25,-336 78.25,-292 78.25,-292 78.25,-286 84.25,-280 90.25,-280 90.25,-280 216.5,-280 216.5,-280 222.5,-280 228.5,-286 228.5,-292 228.5,-292 228.5,-336 228.5,-336 228.5,-342 222.5,-348 216.5,-348\"/>\n",
       "<text text-anchor=\"start\" x=\"118.88\" y=\"-330.7\" font-family=\"Helvetica,sans-Serif\" font-size=\"14.00\">t&#45;1 ≤ &#45;0.272</text>\n",
       "<text text-anchor=\"start\" x=\"86.25\" y=\"-315.7\" font-family=\"Helvetica,sans-Serif\" font-size=\"14.00\">squared_error = 0.028</text>\n",
       "<text text-anchor=\"start\" x=\"105\" y=\"-300.7\" font-family=\"Helvetica,sans-Serif\" font-size=\"14.00\">samples = 4798</text>\n",
       "<text text-anchor=\"start\" x=\"112.5\" y=\"-285.7\" font-family=\"Helvetica,sans-Serif\" font-size=\"14.00\">value = 0.057</text>\n",
       "</g>\n",
       "<!-- 1 -->\n",
       "<g id=\"node2\" class=\"node\">\n",
       "<title>1</title>\n",
       "<path fill=\"#e58139\" stroke=\"black\" d=\"M130.75,-236.5C130.75,-236.5 12,-236.5 12,-236.5 6,-236.5 0,-230.5 0,-224.5 0,-224.5 0,-195.5 0,-195.5 0,-189.5 6,-183.5 12,-183.5 12,-183.5 130.75,-183.5 130.75,-183.5 136.75,-183.5 142.75,-189.5 142.75,-195.5 142.75,-195.5 142.75,-224.5 142.75,-224.5 142.75,-230.5 136.75,-236.5 130.75,-236.5\"/>\n",
       "<text text-anchor=\"start\" x=\"8\" y=\"-219.2\" font-family=\"Helvetica,sans-Serif\" font-size=\"14.00\">squared_error = 0.04</text>\n",
       "<text text-anchor=\"start\" x=\"30.5\" y=\"-204.2\" font-family=\"Helvetica,sans-Serif\" font-size=\"14.00\">samples = 69</text>\n",
       "<text text-anchor=\"start\" x=\"30.5\" y=\"-189.2\" font-family=\"Helvetica,sans-Serif\" font-size=\"14.00\">value = 0.267</text>\n",
       "</g>\n",
       "<!-- 0&#45;&gt;1 -->\n",
       "<g id=\"edge1\" class=\"edge\">\n",
       "<title>0&#45;&gt;1</title>\n",
       "<path fill=\"none\" stroke=\"black\" d=\"M126.53,-279.6C117.77,-268.71 108.03,-256.59 99.2,-245.61\"/>\n",
       "<polygon fill=\"black\" stroke=\"black\" points=\"101.98,-243.49 92.99,-237.89 96.53,-247.87 101.98,-243.49\"/>\n",
       "<text text-anchor=\"middle\" x=\"89.34\" y=\"-255.76\" font-family=\"Helvetica,sans-Serif\" font-size=\"14.00\">True</text>\n",
       "</g>\n",
       "<!-- 2 -->\n",
       "<g id=\"node3\" class=\"node\">\n",
       "<title>2</title>\n",
       "<path fill=\"#f9e1d0\" stroke=\"black\" d=\"M299.5,-244C299.5,-244 173.25,-244 173.25,-244 167.25,-244 161.25,-238 161.25,-232 161.25,-232 161.25,-188 161.25,-188 161.25,-182 167.25,-176 173.25,-176 173.25,-176 299.5,-176 299.5,-176 305.5,-176 311.5,-182 311.5,-188 311.5,-188 311.5,-232 311.5,-232 311.5,-238 305.5,-244 299.5,-244\"/>\n",
       "<text text-anchor=\"start\" x=\"204.12\" y=\"-226.7\" font-family=\"Helvetica,sans-Serif\" font-size=\"14.00\">t&#45;1 ≤ 0.006</text>\n",
       "<text text-anchor=\"start\" x=\"169.25\" y=\"-211.7\" font-family=\"Helvetica,sans-Serif\" font-size=\"14.00\">squared_error = 0.027</text>\n",
       "<text text-anchor=\"start\" x=\"188\" y=\"-196.7\" font-family=\"Helvetica,sans-Serif\" font-size=\"14.00\">samples = 4729</text>\n",
       "<text text-anchor=\"start\" x=\"195.5\" y=\"-181.7\" font-family=\"Helvetica,sans-Serif\" font-size=\"14.00\">value = 0.054</text>\n",
       "</g>\n",
       "<!-- 0&#45;&gt;2 -->\n",
       "<g id=\"edge2\" class=\"edge\">\n",
       "<title>0&#45;&gt;2</title>\n",
       "<path fill=\"none\" stroke=\"black\" d=\"M180.55,-279.6C187.43,-271.15 194.91,-261.96 202.09,-253.13\"/>\n",
       "<polygon fill=\"black\" stroke=\"black\" points=\"204.58,-255.61 208.18,-245.65 199.15,-251.2 204.58,-255.61\"/>\n",
       "<text text-anchor=\"middle\" x=\"211.69\" y=\"-263.54\" font-family=\"Helvetica,sans-Serif\" font-size=\"14.00\">False</text>\n",
       "</g>\n",
       "<!-- 3 -->\n",
       "<g id=\"node4\" class=\"node\">\n",
       "<title>3</title>\n",
       "<path fill=\"#fae7d9\" stroke=\"black\" d=\"M215.5,-140C215.5,-140 89.25,-140 89.25,-140 83.25,-140 77.25,-134 77.25,-128 77.25,-128 77.25,-84 77.25,-84 77.25,-78 83.25,-72 89.25,-72 89.25,-72 215.5,-72 215.5,-72 221.5,-72 227.5,-78 227.5,-84 227.5,-84 227.5,-128 227.5,-128 227.5,-134 221.5,-140 215.5,-140\"/>\n",
       "<text text-anchor=\"start\" x=\"117.88\" y=\"-122.7\" font-family=\"Helvetica,sans-Serif\" font-size=\"14.00\">t&#45;2 ≤ &#45;0.137</text>\n",
       "<text text-anchor=\"start\" x=\"85.25\" y=\"-107.7\" font-family=\"Helvetica,sans-Serif\" font-size=\"14.00\">squared_error = 0.024</text>\n",
       "<text text-anchor=\"start\" x=\"104\" y=\"-92.7\" font-family=\"Helvetica,sans-Serif\" font-size=\"14.00\">samples = 2084</text>\n",
       "<text text-anchor=\"start\" x=\"111.5\" y=\"-77.7\" font-family=\"Helvetica,sans-Serif\" font-size=\"14.00\">value = 0.041</text>\n",
       "</g>\n",
       "<!-- 2&#45;&gt;3 -->\n",
       "<g id=\"edge3\" class=\"edge\">\n",
       "<title>2&#45;&gt;3</title>\n",
       "<path fill=\"none\" stroke=\"black\" d=\"M208.87,-175.6C201.91,-167.15 194.34,-157.96 187.07,-149.13\"/>\n",
       "<polygon fill=\"black\" stroke=\"black\" points=\"189.96,-147.14 180.9,-141.64 184.56,-151.59 189.96,-147.14\"/>\n",
       "</g>\n",
       "<!-- 20 -->\n",
       "<g id=\"node7\" class=\"node\">\n",
       "<title>20</title>\n",
       "<path fill=\"#f8dcc9\" stroke=\"black\" d=\"M383.5,-140C383.5,-140 257.25,-140 257.25,-140 251.25,-140 245.25,-134 245.25,-128 245.25,-128 245.25,-84 245.25,-84 245.25,-78 251.25,-72 257.25,-72 257.25,-72 383.5,-72 383.5,-72 389.5,-72 395.5,-78 395.5,-84 395.5,-84 395.5,-128 395.5,-128 395.5,-134 389.5,-140 383.5,-140\"/>\n",
       "<text text-anchor=\"start\" x=\"285.88\" y=\"-122.7\" font-family=\"Helvetica,sans-Serif\" font-size=\"14.00\">t&#45;2 ≤ &#45;0.246</text>\n",
       "<text text-anchor=\"start\" x=\"253.25\" y=\"-107.7\" font-family=\"Helvetica,sans-Serif\" font-size=\"14.00\">squared_error = 0.029</text>\n",
       "<text text-anchor=\"start\" x=\"272\" y=\"-92.7\" font-family=\"Helvetica,sans-Serif\" font-size=\"14.00\">samples = 2645</text>\n",
       "<text text-anchor=\"start\" x=\"279.5\" y=\"-77.7\" font-family=\"Helvetica,sans-Serif\" font-size=\"14.00\">value = 0.064</text>\n",
       "</g>\n",
       "<!-- 2&#45;&gt;20 -->\n",
       "<g id=\"edge6\" class=\"edge\">\n",
       "<title>2&#45;&gt;20</title>\n",
       "<path fill=\"none\" stroke=\"black\" d=\"M263.88,-175.6C270.84,-167.15 278.41,-157.96 285.68,-149.13\"/>\n",
       "<polygon fill=\"black\" stroke=\"black\" points=\"288.19,-151.59 291.85,-141.64 282.79,-147.14 288.19,-151.59\"/>\n",
       "</g>\n",
       "<!-- 4 -->\n",
       "<g id=\"node5\" class=\"node\">\n",
       "<title>4</title>\n",
       "<path fill=\"#c0c0c0\" stroke=\"black\" d=\"M143.38,-36C143.38,-36 113.38,-36 113.38,-36 107.38,-36 101.38,-30 101.38,-24 101.38,-24 101.38,-12 101.38,-12 101.38,-6 107.38,0 113.38,0 113.38,0 143.38,0 143.38,0 149.38,0 155.38,-6 155.38,-12 155.38,-12 155.38,-24 155.38,-24 155.38,-30 149.38,-36 143.38,-36\"/>\n",
       "<text text-anchor=\"middle\" x=\"128.38\" y=\"-12.2\" font-family=\"Helvetica,sans-Serif\" font-size=\"14.00\">(...)</text>\n",
       "</g>\n",
       "<!-- 3&#45;&gt;4 -->\n",
       "<g id=\"edge4\" class=\"edge\">\n",
       "<title>3&#45;&gt;4</title>\n",
       "<path fill=\"none\" stroke=\"black\" d=\"M143.03,-71.5C140.79,-63.49 138.42,-55 136.26,-47.25\"/>\n",
       "<polygon fill=\"black\" stroke=\"black\" points=\"139.64,-46.35 133.58,-37.65 132.9,-48.23 139.64,-46.35\"/>\n",
       "</g>\n",
       "<!-- 7 -->\n",
       "<g id=\"node6\" class=\"node\">\n",
       "<title>7</title>\n",
       "<path fill=\"#c0c0c0\" stroke=\"black\" d=\"M215.38,-36C215.38,-36 185.38,-36 185.38,-36 179.38,-36 173.38,-30 173.38,-24 173.38,-24 173.38,-12 173.38,-12 173.38,-6 179.38,0 185.38,0 185.38,0 215.38,0 215.38,0 221.38,0 227.38,-6 227.38,-12 227.38,-12 227.38,-24 227.38,-24 227.38,-30 221.38,-36 215.38,-36\"/>\n",
       "<text text-anchor=\"middle\" x=\"200.38\" y=\"-12.2\" font-family=\"Helvetica,sans-Serif\" font-size=\"14.00\">(...)</text>\n",
       "</g>\n",
       "<!-- 3&#45;&gt;7 -->\n",
       "<g id=\"edge5\" class=\"edge\">\n",
       "<title>3&#45;&gt;7</title>\n",
       "<path fill=\"none\" stroke=\"black\" d=\"M171.07,-71.5C175.76,-63.11 180.73,-54.21 185.22,-46.16\"/>\n",
       "<polygon fill=\"black\" stroke=\"black\" points=\"188.22,-47.96 190.04,-37.52 182.11,-44.54 188.22,-47.96\"/>\n",
       "</g>\n",
       "<!-- 21 -->\n",
       "<g id=\"node8\" class=\"node\">\n",
       "<title>21</title>\n",
       "<path fill=\"#c0c0c0\" stroke=\"black\" d=\"M311.38,-36C311.38,-36 281.38,-36 281.38,-36 275.38,-36 269.38,-30 269.38,-24 269.38,-24 269.38,-12 269.38,-12 269.38,-6 275.38,0 281.38,0 281.38,0 311.38,0 311.38,0 317.38,0 323.38,-6 323.38,-12 323.38,-12 323.38,-24 323.38,-24 323.38,-30 317.38,-36 311.38,-36\"/>\n",
       "<text text-anchor=\"middle\" x=\"296.38\" y=\"-12.2\" font-family=\"Helvetica,sans-Serif\" font-size=\"14.00\">(...)</text>\n",
       "</g>\n",
       "<!-- 20&#45;&gt;21 -->\n",
       "<g id=\"edge7\" class=\"edge\">\n",
       "<title>20&#45;&gt;21</title>\n",
       "<path fill=\"none\" stroke=\"black\" d=\"M311.03,-71.5C308.79,-63.49 306.42,-55 304.26,-47.25\"/>\n",
       "<polygon fill=\"black\" stroke=\"black\" points=\"307.64,-46.35 301.58,-37.65 300.9,-48.23 307.64,-46.35\"/>\n",
       "</g>\n",
       "<!-- 22 -->\n",
       "<g id=\"node9\" class=\"node\">\n",
       "<title>22</title>\n",
       "<path fill=\"#c0c0c0\" stroke=\"black\" d=\"M383.38,-36C383.38,-36 353.38,-36 353.38,-36 347.38,-36 341.38,-30 341.38,-24 341.38,-24 341.38,-12 341.38,-12 341.38,-6 347.38,0 353.38,0 353.38,0 383.38,0 383.38,0 389.38,0 395.38,-6 395.38,-12 395.38,-12 395.38,-24 395.38,-24 395.38,-30 389.38,-36 383.38,-36\"/>\n",
       "<text text-anchor=\"middle\" x=\"368.38\" y=\"-12.2\" font-family=\"Helvetica,sans-Serif\" font-size=\"14.00\">(...)</text>\n",
       "</g>\n",
       "<!-- 20&#45;&gt;22 -->\n",
       "<g id=\"edge8\" class=\"edge\">\n",
       "<title>20&#45;&gt;22</title>\n",
       "<path fill=\"none\" stroke=\"black\" d=\"M339.07,-71.5C343.76,-63.11 348.73,-54.21 353.22,-46.16\"/>\n",
       "<polygon fill=\"black\" stroke=\"black\" points=\"356.22,-47.96 358.04,-37.52 350.11,-44.54 356.22,-47.96\"/>\n",
       "</g>\n",
       "</g>\n",
       "</svg>\n"
      ],
      "text/plain": [
       "<graphviz.sources.Source at 0x179ec8640>"
      ]
     },
     "execution_count": 13,
     "metadata": {},
     "output_type": "execute_result"
    }
   ],
   "source": [
    "out_file = results_path / 'reg_tree_t2.dot'\n",
    "dot_data = export_graphviz(reg_tree_t2,\n",
    "                          out_file=out_file.as_posix(),\n",
    "                          feature_names=X2.columns,\n",
    "                          max_depth=2,\n",
    "                          filled=True,\n",
    "                          rounded=True,\n",
    "                          special_characters=True)\n",
    "if out_file is not None:\n",
    "    dot_data = Path(out_file).read_text()\n",
    "\n",
    "graphviz.Source(dot_data)"
   ]
  },
  {
   "cell_type": "markdown",
   "metadata": {},
   "source": [
    "### Compare with Linear Regression"
   ]
  },
  {
   "cell_type": "markdown",
   "metadata": {},
   "source": [
    "The OLS summary below and a visualization of the first two levels of the decision tree above reveal the striking differences between the models. The OLS model provides three parameters for the intercepts and the two features in line with the linear assumption.\n",
    "\n",
    "In contrast, the regression tree chart above displays for each node of the first two levels the feature and threshold used to split the data (note that features can be used repeatedly), as well as the current value of the mean-squared error (MSE), the number of samples, and predicted value based on these training samples."
   ]
  },
  {
   "cell_type": "markdown",
   "metadata": {},
   "source": [
    "The tree chart also highlights the uneven distribution of samples across the nodes."
   ]
  },
  {
   "cell_type": "markdown",
   "metadata": {},
   "source": [
    "#### statsmodels OLS"
   ]
  },
  {
   "cell_type": "code",
   "execution_count": 14,
   "metadata": {
    "ExecuteTime": {
     "end_time": "2021-04-16T00:32:47.020618Z",
     "start_time": "2021-04-16T00:32:46.994715Z"
    },
    "scrolled": true
   },
   "outputs": [],
   "source": [
    "ols_model = sm.OLS(endog=y2, exog=sm.add_constant(X2))"
   ]
  },
  {
   "cell_type": "code",
   "execution_count": 15,
   "metadata": {
    "ExecuteTime": {
     "end_time": "2021-04-16T00:32:50.247927Z",
     "start_time": "2021-04-16T00:32:47.021772Z"
    }
   },
   "outputs": [
    {
     "name": "stdout",
     "output_type": "stream",
     "text": [
      "25.9 µs ± 2.27 µs per loop (mean ± std. dev. of 7 runs, 10,000 loops each)\n"
     ]
    }
   ],
   "source": [
    "%%timeit\n",
    "ols_model.fit()"
   ]
  },
  {
   "cell_type": "code",
   "execution_count": 16,
   "metadata": {
    "ExecuteTime": {
     "end_time": "2021-04-16T00:32:50.306911Z",
     "start_time": "2021-04-16T00:32:50.249060Z"
    }
   },
   "outputs": [
    {
     "name": "stdout",
     "output_type": "stream",
     "text": [
      "                            OLS Regression Results                            \n",
      "==============================================================================\n",
      "Dep. Variable:                      y   R-squared:                       0.004\n",
      "Model:                            OLS   Adj. R-squared:                  0.004\n",
      "Method:                 Least Squares   F-statistic:                     9.617\n",
      "Date:                Wed, 03 Jul 2024   Prob (F-statistic):           6.79e-05\n",
      "Time:                        01:25:44   Log-Likelihood:                 1785.8\n",
      "No. Observations:                4798   AIC:                            -3566.\n",
      "Df Residuals:                    4795   BIC:                            -3546.\n",
      "Df Model:                           2                                         \n",
      "Covariance Type:            nonrobust                                         \n",
      "==============================================================================\n",
      "                 coef    std err          t      P>|t|      [0.025      0.975]\n",
      "------------------------------------------------------------------------------\n",
      "const          0.0597      0.003     22.496      0.000       0.055       0.065\n",
      "t-1            0.0083      0.015      0.572      0.567      -0.020       0.037\n",
      "t-2           -0.0646      0.015     -4.332      0.000      -0.094      -0.035\n",
      "==============================================================================\n",
      "Omnibus:                      780.458   Durbin-Watson:                   2.000\n",
      "Prob(Omnibus):                  0.000   Jarque-Bera (JB):             1403.539\n",
      "Skew:                           1.035   Prob(JB):                    1.68e-305\n",
      "Kurtosis:                       4.655   Cond. No.                         6.26\n",
      "==============================================================================\n",
      "\n",
      "Notes:\n",
      "[1] Standard Errors assume that the covariance matrix of the errors is correctly specified.\n"
     ]
    }
   ],
   "source": [
    "result = ols_model.fit()\n",
    "print(result.summary())"
   ]
  },
  {
   "cell_type": "markdown",
   "metadata": {},
   "source": [
    "#### sklearn Linear Regression"
   ]
  },
  {
   "cell_type": "code",
   "execution_count": 17,
   "metadata": {
    "ExecuteTime": {
     "end_time": "2021-04-16T00:32:50.311548Z",
     "start_time": "2021-04-16T00:32:50.309603Z"
    }
   },
   "outputs": [],
   "source": [
    "lin_reg = LinearRegression()"
   ]
  },
  {
   "cell_type": "code",
   "execution_count": 18,
   "metadata": {
    "ExecuteTime": {
     "end_time": "2021-04-16T00:32:52.560013Z",
     "start_time": "2021-04-16T00:32:50.312750Z"
    }
   },
   "outputs": [
    {
     "name": "stdout",
     "output_type": "stream",
     "text": [
      "721 µs ± 60 µs per loop (mean ± std. dev. of 7 runs, 1,000 loops each)\n"
     ]
    }
   ],
   "source": [
    "%%timeit\n",
    "lin_reg.fit(X=X2,y=y2)"
   ]
  },
  {
   "cell_type": "code",
   "execution_count": 19,
   "metadata": {
    "ExecuteTime": {
     "end_time": "2021-04-16T00:32:52.647179Z",
     "start_time": "2021-04-16T00:32:52.560943Z"
    }
   },
   "outputs": [
    {
     "data": {
      "text/html": [
       "<style>#sk-container-id-2 {color: black;}#sk-container-id-2 pre{padding: 0;}#sk-container-id-2 div.sk-toggleable {background-color: white;}#sk-container-id-2 label.sk-toggleable__label {cursor: pointer;display: block;width: 100%;margin-bottom: 0;padding: 0.3em;box-sizing: border-box;text-align: center;}#sk-container-id-2 label.sk-toggleable__label-arrow:before {content: \"▸\";float: left;margin-right: 0.25em;color: #696969;}#sk-container-id-2 label.sk-toggleable__label-arrow:hover:before {color: black;}#sk-container-id-2 div.sk-estimator:hover label.sk-toggleable__label-arrow:before {color: black;}#sk-container-id-2 div.sk-toggleable__content {max-height: 0;max-width: 0;overflow: hidden;text-align: left;background-color: #f0f8ff;}#sk-container-id-2 div.sk-toggleable__content pre {margin: 0.2em;color: black;border-radius: 0.25em;background-color: #f0f8ff;}#sk-container-id-2 input.sk-toggleable__control:checked~div.sk-toggleable__content {max-height: 200px;max-width: 100%;overflow: auto;}#sk-container-id-2 input.sk-toggleable__control:checked~label.sk-toggleable__label-arrow:before {content: \"▾\";}#sk-container-id-2 div.sk-estimator input.sk-toggleable__control:checked~label.sk-toggleable__label {background-color: #d4ebff;}#sk-container-id-2 div.sk-label input.sk-toggleable__control:checked~label.sk-toggleable__label {background-color: #d4ebff;}#sk-container-id-2 input.sk-hidden--visually {border: 0;clip: rect(1px 1px 1px 1px);clip: rect(1px, 1px, 1px, 1px);height: 1px;margin: -1px;overflow: hidden;padding: 0;position: absolute;width: 1px;}#sk-container-id-2 div.sk-estimator {font-family: monospace;background-color: #f0f8ff;border: 1px dotted black;border-radius: 0.25em;box-sizing: border-box;margin-bottom: 0.5em;}#sk-container-id-2 div.sk-estimator:hover {background-color: #d4ebff;}#sk-container-id-2 div.sk-parallel-item::after {content: \"\";width: 100%;border-bottom: 1px solid gray;flex-grow: 1;}#sk-container-id-2 div.sk-label:hover label.sk-toggleable__label {background-color: #d4ebff;}#sk-container-id-2 div.sk-serial::before {content: \"\";position: absolute;border-left: 1px solid gray;box-sizing: border-box;top: 0;bottom: 0;left: 50%;z-index: 0;}#sk-container-id-2 div.sk-serial {display: flex;flex-direction: column;align-items: center;background-color: white;padding-right: 0.2em;padding-left: 0.2em;position: relative;}#sk-container-id-2 div.sk-item {position: relative;z-index: 1;}#sk-container-id-2 div.sk-parallel {display: flex;align-items: stretch;justify-content: center;background-color: white;position: relative;}#sk-container-id-2 div.sk-item::before, #sk-container-id-2 div.sk-parallel-item::before {content: \"\";position: absolute;border-left: 1px solid gray;box-sizing: border-box;top: 0;bottom: 0;left: 50%;z-index: -1;}#sk-container-id-2 div.sk-parallel-item {display: flex;flex-direction: column;z-index: 1;position: relative;background-color: white;}#sk-container-id-2 div.sk-parallel-item:first-child::after {align-self: flex-end;width: 50%;}#sk-container-id-2 div.sk-parallel-item:last-child::after {align-self: flex-start;width: 50%;}#sk-container-id-2 div.sk-parallel-item:only-child::after {width: 0;}#sk-container-id-2 div.sk-dashed-wrapped {border: 1px dashed gray;margin: 0 0.4em 0.5em 0.4em;box-sizing: border-box;padding-bottom: 0.4em;background-color: white;}#sk-container-id-2 div.sk-label label {font-family: monospace;font-weight: bold;display: inline-block;line-height: 1.2em;}#sk-container-id-2 div.sk-label-container {text-align: center;}#sk-container-id-2 div.sk-container {/* jupyter's `normalize.less` sets `[hidden] { display: none; }` but bootstrap.min.css set `[hidden] { display: none !important; }` so we also need the `!important` here to be able to override the default hidden behavior on the sphinx rendered scikit-learn.org. See: https://github.com/scikit-learn/scikit-learn/issues/21755 */display: inline-block !important;position: relative;}#sk-container-id-2 div.sk-text-repr-fallback {display: none;}</style><div id=\"sk-container-id-2\" class=\"sk-top-container\"><div class=\"sk-text-repr-fallback\"><pre>LinearRegression()</pre><b>In a Jupyter environment, please rerun this cell to show the HTML representation or trust the notebook. <br />On GitHub, the HTML representation is unable to render, please try loading this page with nbviewer.org.</b></div><div class=\"sk-container\" hidden><div class=\"sk-item\"><div class=\"sk-estimator sk-toggleable\"><input class=\"sk-toggleable__control sk-hidden--visually\" id=\"sk-estimator-id-2\" type=\"checkbox\" checked><label for=\"sk-estimator-id-2\" class=\"sk-toggleable__label sk-toggleable__label-arrow\">LinearRegression</label><div class=\"sk-toggleable__content\"><pre>LinearRegression()</pre></div></div></div></div></div>"
      ],
      "text/plain": [
       "LinearRegression()"
      ]
     },
     "execution_count": 19,
     "metadata": {},
     "output_type": "execute_result"
    }
   ],
   "source": [
    "lin_reg.fit(X=X2,y=y2)"
   ]
  },
  {
   "cell_type": "code",
   "execution_count": 20,
   "metadata": {
    "ExecuteTime": {
     "end_time": "2021-04-16T00:32:52.651998Z",
     "start_time": "2021-04-16T00:32:52.648519Z"
    }
   },
   "outputs": [
    {
     "data": {
      "text/plain": [
       "0.059717877033822066"
      ]
     },
     "execution_count": 20,
     "metadata": {},
     "output_type": "execute_result"
    }
   ],
   "source": [
    "lin_reg.intercept_"
   ]
  },
  {
   "cell_type": "code",
   "execution_count": 21,
   "metadata": {
    "ExecuteTime": {
     "end_time": "2021-04-16T00:32:52.681349Z",
     "start_time": "2021-04-16T00:32:52.653554Z"
    }
   },
   "outputs": [
    {
     "data": {
      "text/plain": [
       "array([ 0.00833571, -0.06462175])"
      ]
     },
     "execution_count": 21,
     "metadata": {},
     "output_type": "execute_result"
    }
   ],
   "source": [
    "lin_reg.coef_"
   ]
  },
  {
   "cell_type": "markdown",
   "metadata": {},
   "source": [
    "### Linear Regression vs Regression Tree Decision Surfaces"
   ]
  },
  {
   "cell_type": "markdown",
   "metadata": {},
   "source": [
    "To further illustrate the different assumptions about the functional form of the relationships between the input variables and the output, we can visualize current return predictions as a function of the feature space, that is, as a function of the range of values for the lagged returns. The following figure shows the current period return as a function of returns one and two periods ago for linear regression and the regression tree:\n",
    "\n",
    "The linear-regression model result on the right side underlines the linearity of the relationship between lagged and current returns, whereas the regression tree chart on the left illustrates the non-linear relationship encoded in the recursive partitioning of the feature space."
   ]
  },
  {
   "cell_type": "code",
   "execution_count": 22,
   "metadata": {
    "ExecuteTime": {
     "end_time": "2021-04-16T00:32:52.741131Z",
     "start_time": "2021-04-16T00:32:52.716930Z"
    }
   },
   "outputs": [],
   "source": [
    "t1, t2 = np.meshgrid(np.linspace(X2['t-1'].quantile(.01), X2['t-1'].quantile(.99), 100),\n",
    "                     np.linspace(X2['t-2'].quantile(.01), X2['t-2'].quantile(.99), 100))\n",
    "X_data = np.c_[t1.ravel(), t2.ravel()]"
   ]
  },
  {
   "cell_type": "code",
   "execution_count": 23,
   "metadata": {
    "ExecuteTime": {
     "end_time": "2021-04-16T00:32:53.406640Z",
     "start_time": "2021-04-16T00:32:52.742829Z"
    },
    "scrolled": false
   },
   "outputs": [
    {
     "data": {
      "image/png": "[encoded data removed]",
      "text/plain": [
       "<Figure size 1200x500 with 4 Axes>"
      ]
     },
     "metadata": {},
     "output_type": "display_data"
    }
   ],
   "source": [
    "fig, axes = plt.subplots(ncols=2, figsize=(12,5))\n",
    "\n",
    "# Linear Regression\n",
    "ret1 = lin_reg.predict(X_data).reshape(t1.shape)\n",
    "surface1 = axes[0].contourf(t1, t2, ret1, cmap='Blues')\n",
    "plt.colorbar(mappable=surface1, ax=axes[0])\n",
    "\n",
    "# Regression Tree\n",
    "ret2 = reg_tree_t2.predict(X_data).reshape(t1.shape)\n",
    "surface2 = axes[1].contourf(t1, t2, ret2, cmap='Blues')\n",
    "plt.colorbar(mappable=surface2, ax=axes[1])\n",
    "\n",
    "# Format plots\n",
    "titles = ['Linear Regression', 'Regression Tree']\n",
    "for i, ax in enumerate(axes):\n",
    "    ax.set_xlabel('t-1')\n",
    "    ax.set_ylabel('t-2')\n",
    "    ax.set_title(titles[i])\n",
    "\n",
    "fig.suptitle('Decision Surfaces', fontsize=14)\n",
    "sns.despine()\n",
    "fig.tight_layout()\n",
    "fig.subplots_adjust(top=.9);"
   ]
  },
  {
   "cell_type": "markdown",
   "metadata": {},
   "source": [
    "## Simple Classification Tree with Time Series Data"
   ]
  },
  {
   "cell_type": "markdown",
   "metadata": {},
   "source": [
    "The same way we did with the regression tree, but now instead of using the value of the stock change, we will have a binary indicator of wether the value increased or decreased."
   ]
  },
  {
   "cell_type": "markdown",
   "metadata": {},
   "source": [
    "### Loss Functions"
   ]
  },
  {
   "cell_type": "markdown",
   "metadata": {},
   "source": [
    "When growing a classification tree, we also use recursive binary splitting but, instead of evaluating the quality of a decision rule using the reduction of the mean-squared error, we can use the classification error rate, which is simply the fraction of the training samples in a given (leave) node that do not belong to the most common class."
   ]
  },
  {
   "cell_type": "markdown",
   "metadata": {},
   "source": [
    "However, the alternative measures, Gini Index or Cross-Entropy, are preferred because they are more sensitive to node purity than the classification error rate. Node purity refers to the extent of the preponderance of a single class in a node. A node that only contains samples with outcomes belonging to a single class is pure and imply successful classification for this particular region of the feature space. "
   ]
  },
  {
   "cell_type": "code",
   "execution_count": 24,
   "metadata": {
    "ExecuteTime": {
     "end_time": "2021-04-16T00:32:53.411641Z",
     "start_time": "2021-04-16T00:32:53.409446Z"
    }
   },
   "outputs": [],
   "source": [
    "def entropy(f):\n",
    "    return (-f*np.log2(f) - (1-f)*np.log2(1-f))/2"
   ]
  },
  {
   "cell_type": "code",
   "execution_count": 25,
   "metadata": {
    "ExecuteTime": {
     "end_time": "2021-04-16T00:32:53.426940Z",
     "start_time": "2021-04-16T00:32:53.414041Z"
    }
   },
   "outputs": [],
   "source": [
    "def gini(f):\n",
    "    return 2*f*(1-f)"
   ]
  },
  {
   "cell_type": "code",
   "execution_count": 26,
   "metadata": {
    "ExecuteTime": {
     "end_time": "2021-04-16T00:32:53.447019Z",
     "start_time": "2021-04-16T00:32:53.443818Z"
    }
   },
   "outputs": [],
   "source": [
    "def misclassification_rate(f):\n",
    "    return np.where(f<=.5, f, 1-f)"
   ]
  },
  {
   "cell_type": "markdown",
   "metadata": {},
   "source": [
    "Both the Gini Impurity and the Cross-Entropy measure take on smaller values when the class proportions approach zero or one, that is, when the child nodes become pure as a result of the split and are highest when the class proportions are even or 0.5 in the binary case. \n",
    "\n",
    "The chart below visualizes the values assumed by these two measures and the misclassification error rates across the [0, 1] interval of proportions."
   ]
  },
  {
   "cell_type": "code",
   "execution_count": 27,
   "metadata": {
    "ExecuteTime": {
     "end_time": "2021-04-16T00:32:53.721436Z",
     "start_time": "2021-04-16T00:32:53.452115Z"
    }
   },
   "outputs": [
    {
     "data": {
      "image/png": "[encoded data removed]",
      "text/plain": [
       "<Figure size 640x480 with 1 Axes>"
      ]
     },
     "metadata": {},
     "output_type": "display_data"
    }
   ],
   "source": [
    "x = np.linspace(0, 1, 10000)\n",
    "(pd.DataFrame({'Gini': gini(x), \n",
    "              'Entropy': entropy(x),\n",
    "             'Misclassification Rate': misclassification_rate(x)}, index=x)\n",
    " .plot(title='Classification Loss Functions', lw=2, style=['-', '--', ':']))\n",
    "sns.despine()\n",
    "plt.tight_layout();"
   ]
  },
  {
   "cell_type": "markdown",
   "metadata": {},
   "source": [
    "#### Compare computation time"
   ]
  },
  {
   "cell_type": "markdown",
   "metadata": {},
   "source": [
    "Gini is often preferred over entropy because it computes faster:"
   ]
  },
  {
   "cell_type": "code",
   "execution_count": 28,
   "metadata": {
    "ExecuteTime": {
     "end_time": "2021-04-16T00:33:08.588281Z",
     "start_time": "2021-04-16T00:32:53.723873Z"
    }
   },
   "outputs": [
    {
     "name": "stdout",
     "output_type": "stream",
     "text": [
      "17.5 µs ± 395 ns per loop (mean ± std. dev. of 7 runs, 100,000 loops each)\n"
     ]
    }
   ],
   "source": [
    "%%timeit\n",
    "misclassification_rate(x)"
   ]
  },
  {
   "cell_type": "code",
   "execution_count": 29,
   "metadata": {
    "ExecuteTime": {
     "end_time": "2021-04-16T00:33:18.035051Z",
     "start_time": "2021-04-16T00:33:08.589304Z"
    }
   },
   "outputs": [
    {
     "name": "stdout",
     "output_type": "stream",
     "text": [
      "16.5 µs ± 532 ns per loop (mean ± std. dev. of 7 runs, 100,000 loops each)\n"
     ]
    }
   ],
   "source": [
    "%%timeit\n",
    "gini(x)"
   ]
  },
  {
   "cell_type": "code",
   "execution_count": 30,
   "metadata": {
    "ExecuteTime": {
     "end_time": "2021-04-16T00:33:19.423307Z",
     "start_time": "2021-04-16T00:33:18.036362Z"
    }
   },
   "outputs": [
    {
     "name": "stdout",
     "output_type": "stream",
     "text": [
      "108 µs ± 5.77 µs per loop (mean ± std. dev. of 7 runs, 10,000 loops each)\n"
     ]
    }
   ],
   "source": [
    "%%timeit\n",
    "entropy(x)"
   ]
  },
  {
   "cell_type": "markdown",
   "metadata": {},
   "source": [
    "### Configure Tree"
   ]
  },
  {
   "cell_type": "code",
   "execution_count": 31,
   "metadata": {
    "ExecuteTime": {
     "end_time": "2021-04-16T00:33:19.427483Z",
     "start_time": "2021-04-16T00:33:19.424763Z"
    }
   },
   "outputs": [],
   "source": [
    "clf_tree_t2 = DecisionTreeClassifier(criterion='gini',\n",
    "                                     splitter='best',\n",
    "                                     max_depth=5,\n",
    "                                     min_samples_split=1000,\n",
    "                                     min_samples_leaf=1,\n",
    "                                     min_weight_fraction_leaf=0.0,\n",
    "                                     max_features=None,\n",
    "                                     random_state=42,\n",
    "                                     max_leaf_nodes=None,\n",
    "                                     min_impurity_decrease=0.0,\n",
    "                                     class_weight=None)"
   ]
  },
  {
   "cell_type": "markdown",
   "metadata": {},
   "source": [
    "### Train Tree"
   ]
  },
  {
   "cell_type": "code",
   "execution_count": 32,
   "metadata": {
    "ExecuteTime": {
     "end_time": "2021-04-16T00:33:19.460489Z",
     "start_time": "2021-04-16T00:33:19.428704Z"
    }
   },
   "outputs": [
    {
     "data": {
      "text/plain": [
       "y\n",
       "1    2740\n",
       "0    2058\n",
       "Name: count, dtype: int64"
      ]
     },
     "execution_count": 32,
     "metadata": {},
     "output_type": "execute_result"
    }
   ],
   "source": [
    "y_binary = (y2>0).astype(int)\n",
    "y_binary.value_counts()"
   ]
  },
  {
   "cell_type": "code",
   "execution_count": 33,
   "metadata": {
    "ExecuteTime": {
     "end_time": "2021-04-16T00:33:26.269743Z",
     "start_time": "2021-04-16T00:33:19.461996Z"
    },
    "scrolled": true
   },
   "outputs": [
    {
     "name": "stdout",
     "output_type": "stream",
     "text": [
      "5.26 ms ± 352 µs per loop (mean ± std. dev. of 7 runs, 100 loops each)\n"
     ]
    }
   ],
   "source": [
    "%%timeit\n",
    "clf_tree_t2.fit(X=X2, y=y_binary)"
   ]
  },
  {
   "cell_type": "code",
   "execution_count": 34,
   "metadata": {
    "ExecuteTime": {
     "end_time": "2021-04-16T00:33:26.363009Z",
     "start_time": "2021-04-16T00:33:26.270887Z"
    }
   },
   "outputs": [
    {
     "data": {
      "text/html": [
       "<style>#sk-container-id-3 {color: black;}#sk-container-id-3 pre{padding: 0;}#sk-container-id-3 div.sk-toggleable {background-color: white;}#sk-container-id-3 label.sk-toggleable__label {cursor: pointer;display: block;width: 100%;margin-bottom: 0;padding: 0.3em;box-sizing: border-box;text-align: center;}#sk-container-id-3 label.sk-toggleable__label-arrow:before {content: \"▸\";float: left;margin-right: 0.25em;color: #696969;}#sk-container-id-3 label.sk-toggleable__label-arrow:hover:before {color: black;}#sk-container-id-3 div.sk-estimator:hover label.sk-toggleable__label-arrow:before {color: black;}#sk-container-id-3 div.sk-toggleable__content {max-height: 0;max-width: 0;overflow: hidden;text-align: left;background-color: #f0f8ff;}#sk-container-id-3 div.sk-toggleable__content pre {margin: 0.2em;color: black;border-radius: 0.25em;background-color: #f0f8ff;}#sk-container-id-3 input.sk-toggleable__control:checked~div.sk-toggleable__content {max-height: 200px;max-width: 100%;overflow: auto;}#sk-container-id-3 input.sk-toggleable__control:checked~label.sk-toggleable__label-arrow:before {content: \"▾\";}#sk-container-id-3 div.sk-estimator input.sk-toggleable__control:checked~label.sk-toggleable__label {background-color: #d4ebff;}#sk-container-id-3 div.sk-label input.sk-toggleable__control:checked~label.sk-toggleable__label {background-color: #d4ebff;}#sk-container-id-3 input.sk-hidden--visually {border: 0;clip: rect(1px 1px 1px 1px);clip: rect(1px, 1px, 1px, 1px);height: 1px;margin: -1px;overflow: hidden;padding: 0;position: absolute;width: 1px;}#sk-container-id-3 div.sk-estimator {font-family: monospace;background-color: #f0f8ff;border: 1px dotted black;border-radius: 0.25em;box-sizing: border-box;margin-bottom: 0.5em;}#sk-container-id-3 div.sk-estimator:hover {background-color: #d4ebff;}#sk-container-id-3 div.sk-parallel-item::after {content: \"\";width: 100%;border-bottom: 1px solid gray;flex-grow: 1;}#sk-container-id-3 div.sk-label:hover label.sk-toggleable__label {background-color: #d4ebff;}#sk-container-id-3 div.sk-serial::before {content: \"\";position: absolute;border-left: 1px solid gray;box-sizing: border-box;top: 0;bottom: 0;left: 50%;z-index: 0;}#sk-container-id-3 div.sk-serial {display: flex;flex-direction: column;align-items: center;background-color: white;padding-right: 0.2em;padding-left: 0.2em;position: relative;}#sk-container-id-3 div.sk-item {position: relative;z-index: 1;}#sk-container-id-3 div.sk-parallel {display: flex;align-items: stretch;justify-content: center;background-color: white;position: relative;}#sk-container-id-3 div.sk-item::before, #sk-container-id-3 div.sk-parallel-item::before {content: \"\";position: absolute;border-left: 1px solid gray;box-sizing: border-box;top: 0;bottom: 0;left: 50%;z-index: -1;}#sk-container-id-3 div.sk-parallel-item {display: flex;flex-direction: column;z-index: 1;position: relative;background-color: white;}#sk-container-id-3 div.sk-parallel-item:first-child::after {align-self: flex-end;width: 50%;}#sk-container-id-3 div.sk-parallel-item:last-child::after {align-self: flex-start;width: 50%;}#sk-container-id-3 div.sk-parallel-item:only-child::after {width: 0;}#sk-container-id-3 div.sk-dashed-wrapped {border: 1px dashed gray;margin: 0 0.4em 0.5em 0.4em;box-sizing: border-box;padding-bottom: 0.4em;background-color: white;}#sk-container-id-3 div.sk-label label {font-family: monospace;font-weight: bold;display: inline-block;line-height: 1.2em;}#sk-container-id-3 div.sk-label-container {text-align: center;}#sk-container-id-3 div.sk-container {/* jupyter's `normalize.less` sets `[hidden] { display: none; }` but bootstrap.min.css set `[hidden] { display: none !important; }` so we also need the `!important` here to be able to override the default hidden behavior on the sphinx rendered scikit-learn.org. See: https://github.com/scikit-learn/scikit-learn/issues/21755 */display: inline-block !important;position: relative;}#sk-container-id-3 div.sk-text-repr-fallback {display: none;}</style><div id=\"sk-container-id-3\" class=\"sk-top-container\"><div class=\"sk-text-repr-fallback\"><pre>DecisionTreeClassifier(max_depth=5, min_samples_split=1000, random_state=42)</pre><b>In a Jupyter environment, please rerun this cell to show the HTML representation or trust the notebook. <br />On GitHub, the HTML representation is unable to render, please try loading this page with nbviewer.org.</b></div><div class=\"sk-container\" hidden><div class=\"sk-item\"><div class=\"sk-estimator sk-toggleable\"><input class=\"sk-toggleable__control sk-hidden--visually\" id=\"sk-estimator-id-3\" type=\"checkbox\" checked><label for=\"sk-estimator-id-3\" class=\"sk-toggleable__label sk-toggleable__label-arrow\">DecisionTreeClassifier</label><div class=\"sk-toggleable__content\"><pre>DecisionTreeClassifier(max_depth=5, min_samples_split=1000, random_state=42)</pre></div></div></div></div></div>"
      ],
      "text/plain": [
       "DecisionTreeClassifier(max_depth=5, min_samples_split=1000, random_state=42)"
      ]
     },
     "execution_count": 34,
     "metadata": {},
     "output_type": "execute_result"
    }
   ],
   "source": [
    "clf_tree_t2.fit(X=X2, y=y_binary)"
   ]
  },
  {
   "cell_type": "markdown",
   "metadata": {},
   "source": [
    "### Visualize Tree"
   ]
  },
  {
   "cell_type": "code",
   "execution_count": 35,
   "metadata": {
    "ExecuteTime": {
     "end_time": "2021-04-16T00:33:26.404932Z",
     "start_time": "2021-04-16T00:33:26.363983Z"
    }
   },
   "outputs": [
    {
     "data": {
      "image/svg+xml": [
       "<?xml version=\"1.0\" encoding=\"UTF-8\" standalone=\"no\"?>\n",
       "<!DOCTYPE svg PUBLIC \"-//W3C//DTD SVG 1.1//EN\"\n",
       " \"http://www.w3.org/Graphics/SVG/1.1/DTD/svg11.dtd\">\n",
       "<!-- Generated by graphviz version 11.0.0 (0)\n",
       " -->\n",
       "<!-- Title: Tree Pages: 1 -->\n",
       "<svg width=\"353pt\" height=\"401pt\"\n",
       " viewBox=\"0.00 0.00 352.75 401.00\" xmlns=\"http://www.w3.org/2000/svg\" xmlns:xlink=\"http://www.w3.org/1999/xlink\">\n",
       "<g id=\"graph0\" class=\"graph\" transform=\"scale(1 1) rotate(0) translate(4 397)\">\n",
       "<title>Tree</title>\n",
       "<polygon fill=\"white\" stroke=\"none\" points=\"-4,4 -4,-397 348.75,-397 348.75,4 -4,4\"/>\n",
       "<!-- 0 -->\n",
       "<g id=\"node1\" class=\"node\">\n",
       "<title>0</title>\n",
       "<path fill=\"#cee7f9\" stroke=\"black\" d=\"M177.25,-393C177.25,-393 62.25,-393 62.25,-393 56.25,-393 50.25,-387 50.25,-381 50.25,-381 50.25,-322 50.25,-322 50.25,-316 56.25,-310 62.25,-310 62.25,-310 177.25,-310 177.25,-310 183.25,-310 189.25,-316 189.25,-322 189.25,-322 189.25,-381 189.25,-381 189.25,-387 183.25,-393 177.25,-393\"/>\n",
       "<text text-anchor=\"start\" x=\"85.25\" y=\"-375.7\" font-family=\"Helvetica,sans-Serif\" font-size=\"14.00\">t&#45;1 ≤ &#45;0.253</text>\n",
       "<text text-anchor=\"start\" x=\"88.25\" y=\"-360.7\" font-family=\"Helvetica,sans-Serif\" font-size=\"14.00\">gini = 0.49</text>\n",
       "<text text-anchor=\"start\" x=\"71.38\" y=\"-345.7\" font-family=\"Helvetica,sans-Serif\" font-size=\"14.00\">samples = 4798</text>\n",
       "<text text-anchor=\"start\" x=\"58.25\" y=\"-330.7\" font-family=\"Helvetica,sans-Serif\" font-size=\"14.00\">value = [2058, 2740]</text>\n",
       "<text text-anchor=\"start\" x=\"87.88\" y=\"-315.7\" font-family=\"Helvetica,sans-Serif\" font-size=\"14.00\">class = Up</text>\n",
       "</g>\n",
       "<!-- 1 -->\n",
       "<g id=\"node2\" class=\"node\">\n",
       "<title>1</title>\n",
       "<path fill=\"#49a5e7\" stroke=\"black\" d=\"M89.5,-266.5C89.5,-266.5 12,-266.5 12,-266.5 6,-266.5 0,-260.5 0,-254.5 0,-254.5 0,-210.5 0,-210.5 0,-204.5 6,-198.5 12,-198.5 12,-198.5 89.5,-198.5 89.5,-198.5 95.5,-198.5 101.5,-204.5 101.5,-210.5 101.5,-210.5 101.5,-254.5 101.5,-254.5 101.5,-260.5 95.5,-266.5 89.5,-266.5\"/>\n",
       "<text text-anchor=\"start\" x=\"15.5\" y=\"-249.2\" font-family=\"Helvetica,sans-Serif\" font-size=\"14.00\">gini = 0.139</text>\n",
       "<text text-anchor=\"start\" x=\"9.88\" y=\"-234.2\" font-family=\"Helvetica,sans-Serif\" font-size=\"14.00\">samples = 80</text>\n",
       "<text text-anchor=\"start\" x=\"8\" y=\"-219.2\" font-family=\"Helvetica,sans-Serif\" font-size=\"14.00\">value = [6, 74]</text>\n",
       "<text text-anchor=\"start\" x=\"18.88\" y=\"-204.2\" font-family=\"Helvetica,sans-Serif\" font-size=\"14.00\">class = Up</text>\n",
       "</g>\n",
       "<!-- 0&#45;&gt;1 -->\n",
       "<g id=\"edge1\" class=\"edge\">\n",
       "<title>0&#45;&gt;1</title>\n",
       "<path fill=\"none\" stroke=\"black\" d=\"M95.62,-309.58C89.31,-298.88 82.49,-287.32 76.12,-276.52\"/>\n",
       "<polygon fill=\"black\" stroke=\"black\" points=\"79.29,-275 71.19,-268.16 73.26,-278.56 79.29,-275\"/>\n",
       "<text text-anchor=\"middle\" x=\"64.18\" y=\"-285.27\" font-family=\"Helvetica,sans-Serif\" font-size=\"14.00\">True</text>\n",
       "</g>\n",
       "<!-- 2 -->\n",
       "<g id=\"node3\" class=\"node\">\n",
       "<title>2</title>\n",
       "<path fill=\"#d1e8f9\" stroke=\"black\" d=\"M246.25,-274C246.25,-274 131.25,-274 131.25,-274 125.25,-274 119.25,-268 119.25,-262 119.25,-262 119.25,-203 119.25,-203 119.25,-197 125.25,-191 131.25,-191 131.25,-191 246.25,-191 246.25,-191 252.25,-191 258.25,-197 258.25,-203 258.25,-203 258.25,-262 258.25,-262 258.25,-268 252.25,-274 246.25,-274\"/>\n",
       "<text text-anchor=\"start\" x=\"156.5\" y=\"-256.7\" font-family=\"Helvetica,sans-Serif\" font-size=\"14.00\">t&#45;1 ≤ 0.011</text>\n",
       "<text text-anchor=\"start\" x=\"153.5\" y=\"-241.7\" font-family=\"Helvetica,sans-Serif\" font-size=\"14.00\">gini = 0.492</text>\n",
       "<text text-anchor=\"start\" x=\"140.38\" y=\"-226.7\" font-family=\"Helvetica,sans-Serif\" font-size=\"14.00\">samples = 4718</text>\n",
       "<text text-anchor=\"start\" x=\"127.25\" y=\"-211.7\" font-family=\"Helvetica,sans-Serif\" font-size=\"14.00\">value = [2052, 2666]</text>\n",
       "<text text-anchor=\"start\" x=\"156.88\" y=\"-196.7\" font-family=\"Helvetica,sans-Serif\" font-size=\"14.00\">class = Up</text>\n",
       "</g>\n",
       "<!-- 0&#45;&gt;2 -->\n",
       "<g id=\"edge2\" class=\"edge\">\n",
       "<title>0&#45;&gt;2</title>\n",
       "<path fill=\"none\" stroke=\"black\" d=\"M143.88,-309.58C148.74,-301.34 153.91,-292.58 158.93,-284.06\"/>\n",
       "<polygon fill=\"black\" stroke=\"black\" points=\"161.91,-285.9 163.98,-275.5 155.88,-282.34 161.91,-285.9\"/>\n",
       "<text text-anchor=\"middle\" x=\"170.99\" y=\"-292.61\" font-family=\"Helvetica,sans-Serif\" font-size=\"14.00\">False</text>\n",
       "</g>\n",
       "<!-- 3 -->\n",
       "<g id=\"node4\" class=\"node\">\n",
       "<title>3</title>\n",
       "<path fill=\"#e7f3fc\" stroke=\"black\" d=\"M167.25,-155C167.25,-155 52.25,-155 52.25,-155 46.25,-155 40.25,-149 40.25,-143 40.25,-143 40.25,-84 40.25,-84 40.25,-78 46.25,-72 52.25,-72 52.25,-72 167.25,-72 167.25,-72 173.25,-72 179.25,-78 179.25,-84 179.25,-84 179.25,-143 179.25,-143 179.25,-149 173.25,-155 167.25,-155\"/>\n",
       "<text text-anchor=\"start\" x=\"75.25\" y=\"-137.7\" font-family=\"Helvetica,sans-Serif\" font-size=\"14.00\">t&#45;1 ≤ &#45;0.002</text>\n",
       "<text text-anchor=\"start\" x=\"74.5\" y=\"-122.7\" font-family=\"Helvetica,sans-Serif\" font-size=\"14.00\">gini = 0.498</text>\n",
       "<text text-anchor=\"start\" x=\"61.38\" y=\"-107.7\" font-family=\"Helvetica,sans-Serif\" font-size=\"14.00\">samples = 2167</text>\n",
       "<text text-anchor=\"start\" x=\"48.25\" y=\"-92.7\" font-family=\"Helvetica,sans-Serif\" font-size=\"14.00\">value = [1015, 1152]</text>\n",
       "<text text-anchor=\"start\" x=\"77.88\" y=\"-77.7\" font-family=\"Helvetica,sans-Serif\" font-size=\"14.00\">class = Up</text>\n",
       "</g>\n",
       "<!-- 2&#45;&gt;3 -->\n",
       "<g id=\"edge3\" class=\"edge\">\n",
       "<title>2&#45;&gt;3</title>\n",
       "<path fill=\"none\" stroke=\"black\" d=\"M161.12,-190.58C155.43,-182.16 149.39,-173.2 143.51,-164.5\"/>\n",
       "<polygon fill=\"black\" stroke=\"black\" points=\"146.58,-162.78 138.08,-156.45 140.77,-166.7 146.58,-162.78\"/>\n",
       "</g>\n",
       "<!-- 10 -->\n",
       "<g id=\"node7\" class=\"node\">\n",
       "<title>10</title>\n",
       "<path fill=\"#c1e0f7\" stroke=\"black\" d=\"M324.25,-155C324.25,-155 209.25,-155 209.25,-155 203.25,-155 197.25,-149 197.25,-143 197.25,-143 197.25,-84 197.25,-84 197.25,-78 203.25,-72 209.25,-72 209.25,-72 324.25,-72 324.25,-72 330.25,-72 336.25,-78 336.25,-84 336.25,-84 336.25,-143 336.25,-143 336.25,-149 330.25,-155 324.25,-155\"/>\n",
       "<text text-anchor=\"start\" x=\"232.25\" y=\"-137.7\" font-family=\"Helvetica,sans-Serif\" font-size=\"14.00\">t&#45;2 ≤ &#45;0.266</text>\n",
       "<text text-anchor=\"start\" x=\"231.5\" y=\"-122.7\" font-family=\"Helvetica,sans-Serif\" font-size=\"14.00\">gini = 0.483</text>\n",
       "<text text-anchor=\"start\" x=\"218.38\" y=\"-107.7\" font-family=\"Helvetica,sans-Serif\" font-size=\"14.00\">samples = 2551</text>\n",
       "<text text-anchor=\"start\" x=\"205.25\" y=\"-92.7\" font-family=\"Helvetica,sans-Serif\" font-size=\"14.00\">value = [1037, 1514]</text>\n",
       "<text text-anchor=\"start\" x=\"234.88\" y=\"-77.7\" font-family=\"Helvetica,sans-Serif\" font-size=\"14.00\">class = Up</text>\n",
       "</g>\n",
       "<!-- 2&#45;&gt;10 -->\n",
       "<g id=\"edge6\" class=\"edge\">\n",
       "<title>2&#45;&gt;10</title>\n",
       "<path fill=\"none\" stroke=\"black\" d=\"M216.03,-190.58C221.64,-182.16 227.61,-173.2 233.41,-164.5\"/>\n",
       "<polygon fill=\"black\" stroke=\"black\" points=\"236.14,-166.72 238.78,-156.46 230.32,-162.84 236.14,-166.72\"/>\n",
       "</g>\n",
       "<!-- 4 -->\n",
       "<g id=\"node5\" class=\"node\">\n",
       "<title>4</title>\n",
       "<path fill=\"#c0c0c0\" stroke=\"black\" d=\"M95.75,-36C95.75,-36 65.75,-36 65.75,-36 59.75,-36 53.75,-30 53.75,-24 53.75,-24 53.75,-12 53.75,-12 53.75,-6 59.75,0 65.75,0 65.75,0 95.75,0 95.75,0 101.75,0 107.75,-6 107.75,-12 107.75,-12 107.75,-24 107.75,-24 107.75,-30 101.75,-36 95.75,-36\"/>\n",
       "<text text-anchor=\"middle\" x=\"80.75\" y=\"-12.2\" font-family=\"Helvetica,sans-Serif\" font-size=\"14.00\">(...)</text>\n",
       "</g>\n",
       "<!-- 3&#45;&gt;4 -->\n",
       "<g id=\"edge4\" class=\"edge\">\n",
       "<title>3&#45;&gt;4</title>\n",
       "<path fill=\"none\" stroke=\"black\" d=\"M97.11,-71.76C94.56,-63.53 91.93,-55.04 89.54,-47.34\"/>\n",
       "<polygon fill=\"black\" stroke=\"black\" points=\"92.9,-46.36 86.6,-37.85 86.22,-48.44 92.9,-46.36\"/>\n",
       "</g>\n",
       "<!-- 9 -->\n",
       "<g id=\"node6\" class=\"node\">\n",
       "<title>9</title>\n",
       "<path fill=\"#c0c0c0\" stroke=\"black\" d=\"M167.75,-36C167.75,-36 137.75,-36 137.75,-36 131.75,-36 125.75,-30 125.75,-24 125.75,-24 125.75,-12 125.75,-12 125.75,-6 131.75,0 137.75,0 137.75,0 167.75,0 167.75,0 173.75,0 179.75,-6 179.75,-12 179.75,-12 179.75,-24 179.75,-24 179.75,-30 173.75,-36 167.75,-36\"/>\n",
       "<text text-anchor=\"middle\" x=\"152.75\" y=\"-12.2\" font-family=\"Helvetica,sans-Serif\" font-size=\"14.00\">(...)</text>\n",
       "</g>\n",
       "<!-- 3&#45;&gt;9 -->\n",
       "<g id=\"edge5\" class=\"edge\">\n",
       "<title>3&#45;&gt;9</title>\n",
       "<path fill=\"none\" stroke=\"black\" d=\"M128.49,-71.76C132.36,-63.33 136.36,-54.64 139.97,-46.8\"/>\n",
       "<polygon fill=\"black\" stroke=\"black\" points=\"143.11,-48.33 144.11,-37.78 136.75,-45.4 143.11,-48.33\"/>\n",
       "</g>\n",
       "<!-- 11 -->\n",
       "<g id=\"node8\" class=\"node\">\n",
       "<title>11</title>\n",
       "<path fill=\"#c0c0c0\" stroke=\"black\" d=\"M260.75,-36C260.75,-36 230.75,-36 230.75,-36 224.75,-36 218.75,-30 218.75,-24 218.75,-24 218.75,-12 218.75,-12 218.75,-6 224.75,0 230.75,0 230.75,0 260.75,0 260.75,0 266.75,0 272.75,-6 272.75,-12 272.75,-12 272.75,-24 272.75,-24 272.75,-30 266.75,-36 260.75,-36\"/>\n",
       "<text text-anchor=\"middle\" x=\"245.75\" y=\"-12.2\" font-family=\"Helvetica,sans-Serif\" font-size=\"14.00\">(...)</text>\n",
       "</g>\n",
       "<!-- 10&#45;&gt;11 -->\n",
       "<g id=\"edge7\" class=\"edge\">\n",
       "<title>10&#45;&gt;11</title>\n",
       "<path fill=\"none\" stroke=\"black\" d=\"M257.6,-71.76C255.77,-63.62 253.89,-55.24 252.18,-47.61\"/>\n",
       "<polygon fill=\"black\" stroke=\"black\" points=\"255.6,-46.87 249.99,-37.88 248.77,-48.41 255.6,-46.87\"/>\n",
       "</g>\n",
       "<!-- 12 -->\n",
       "<g id=\"node9\" class=\"node\">\n",
       "<title>12</title>\n",
       "<path fill=\"#c0c0c0\" stroke=\"black\" d=\"M332.75,-36C332.75,-36 302.75,-36 302.75,-36 296.75,-36 290.75,-30 290.75,-24 290.75,-24 290.75,-12 290.75,-12 290.75,-6 296.75,0 302.75,0 302.75,0 332.75,0 332.75,0 338.75,0 344.75,-6 344.75,-12 344.75,-12 344.75,-24 344.75,-24 344.75,-30 338.75,-36 332.75,-36\"/>\n",
       "<text text-anchor=\"middle\" x=\"317.75\" y=\"-12.2\" font-family=\"Helvetica,sans-Serif\" font-size=\"14.00\">(...)</text>\n",
       "</g>\n",
       "<!-- 10&#45;&gt;12 -->\n",
       "<g id=\"edge8\" class=\"edge\">\n",
       "<title>10&#45;&gt;12</title>\n",
       "<path fill=\"none\" stroke=\"black\" d=\"M288.97,-71.76C293.67,-63.14 298.53,-54.24 302.88,-46.26\"/>\n",
       "<polygon fill=\"black\" stroke=\"black\" points=\"305.82,-48.19 307.53,-37.73 299.67,-44.84 305.82,-48.19\"/>\n",
       "</g>\n",
       "</g>\n",
       "</svg>\n"
      ],
      "text/plain": [
       "<graphviz.sources.Source at 0x1583f34c0>"
      ]
     },
     "execution_count": 35,
     "metadata": {},
     "output_type": "execute_result"
    }
   ],
   "source": [
    "out_file = results_path / 'clf_tree_t2.dot'\n",
    "dot_data = export_graphviz(clf_tree_t2,\n",
    "                           out_file=out_file.as_posix(),\n",
    "                           feature_names=X2.columns,\n",
    "                           class_names=['Down', 'Up'],\n",
    "                           max_depth=2,\n",
    "                           filled=True,\n",
    "                           rounded=True,\n",
    "                           special_characters=True)\n",
    "if out_file is not None:\n",
    "    dot_data = Path(out_file).read_text()\n",
    "\n",
    "graphviz.Source(dot_data)"
   ]
  },
  {
   "cell_type": "markdown",
   "metadata": {},
   "source": [
    "### Compare with Logistic Regression"
   ]
  },
  {
   "cell_type": "markdown",
   "metadata": {},
   "source": [
    "#### Statsmodels"
   ]
  },
  {
   "cell_type": "code",
   "execution_count": 36,
   "metadata": {
    "ExecuteTime": {
     "end_time": "2021-04-16T00:33:26.431166Z",
     "start_time": "2021-04-16T00:33:26.406282Z"
    }
   },
   "outputs": [],
   "source": [
    "log_reg_sm = sm.Logit(endog=y_binary, exog=sm.add_constant(X2))"
   ]
  },
  {
   "cell_type": "code",
   "execution_count": 37,
   "metadata": {
    "ExecuteTime": {
     "end_time": "2021-04-16T00:33:28.117793Z",
     "start_time": "2021-04-16T00:33:26.432422Z"
    },
    "scrolled": false
   },
   "outputs": [
    {
     "name": "stdout",
     "output_type": "stream",
     "text": [
      "1.92 ms ± 441 µs per loop (mean ± std. dev. of 7 runs, 100 loops each)\n"
     ]
    }
   ],
   "source": [
    "%%timeit\n",
    "log_reg_sm.fit(disp=False)"
   ]
  },
  {
   "cell_type": "code",
   "execution_count": 38,
   "metadata": {
    "ExecuteTime": {
     "end_time": "2021-04-16T00:33:28.199185Z",
     "start_time": "2021-04-16T00:33:28.119038Z"
    }
   },
   "outputs": [
    {
     "name": "stdout",
     "output_type": "stream",
     "text": [
      "Optimization terminated successfully.\n",
      "         Current function value: 0.682638\n",
      "         Iterations 4\n"
     ]
    }
   ],
   "source": [
    "log_result = log_reg_sm.fit()"
   ]
  },
  {
   "cell_type": "code",
   "execution_count": 39,
   "metadata": {
    "ExecuteTime": {
     "end_time": "2021-04-16T00:33:28.452764Z",
     "start_time": "2021-04-16T00:33:28.200353Z"
    }
   },
   "outputs": [
    {
     "name": "stdout",
     "output_type": "stream",
     "text": [
      "                           Logit Regression Results                           \n",
      "==============================================================================\n",
      "Dep. Variable:                      y   No. Observations:                 4798\n",
      "Model:                          Logit   Df Residuals:                     4795\n",
      "Method:                           MLE   Df Model:                            2\n",
      "Date:                Wed, 03 Jul 2024   Pseudo R-squ.:               0.0005450\n",
      "Time:                        01:26:33   Log-Likelihood:                -3275.3\n",
      "converged:                       True   LL-Null:                       -3277.1\n",
      "Covariance Type:            nonrobust   LLR p-value:                    0.1676\n",
      "==============================================================================\n",
      "                 coef    std err          z      P>|z|      [0.025      0.975]\n",
      "------------------------------------------------------------------------------\n",
      "const          0.3061      0.032      9.501      0.000       0.243       0.369\n",
      "t-1           -0.0409      0.176     -0.232      0.817      -0.387       0.305\n",
      "t-2           -0.3392      0.180     -1.882      0.060      -0.693       0.014\n",
      "==============================================================================\n"
     ]
    }
   ],
   "source": [
    "print(log_result.summary())"
   ]
  },
  {
   "cell_type": "markdown",
   "metadata": {},
   "source": [
    "#### sklearn"
   ]
  },
  {
   "cell_type": "code",
   "execution_count": 40,
   "metadata": {
    "ExecuteTime": {
     "end_time": "2021-04-16T00:33:28.458948Z",
     "start_time": "2021-04-16T00:33:28.455385Z"
    }
   },
   "outputs": [],
   "source": [
    "log_reg_sk = LogisticRegression()"
   ]
  },
  {
   "cell_type": "code",
   "execution_count": 41,
   "metadata": {
    "ExecuteTime": {
     "end_time": "2021-04-16T00:33:33.909359Z",
     "start_time": "2021-04-16T00:33:28.461195Z"
    }
   },
   "outputs": [
    {
     "name": "stdout",
     "output_type": "stream",
     "text": [
      "3.5 ms ± 547 µs per loop (mean ± std. dev. of 7 runs, 100 loops each)\n"
     ]
    }
   ],
   "source": [
    "%%timeit\n",
    "log_reg_sk.fit(X=X2, y=y_binary)"
   ]
  },
  {
   "cell_type": "code",
   "execution_count": 42,
   "metadata": {
    "ExecuteTime": {
     "end_time": "2021-04-16T00:33:34.057197Z",
     "start_time": "2021-04-16T00:33:33.910465Z"
    }
   },
   "outputs": [
    {
     "data": {
      "text/html": [
       "<style>#sk-container-id-4 {color: black;}#sk-container-id-4 pre{padding: 0;}#sk-container-id-4 div.sk-toggleable {background-color: white;}#sk-container-id-4 label.sk-toggleable__label {cursor: pointer;display: block;width: 100%;margin-bottom: 0;padding: 0.3em;box-sizing: border-box;text-align: center;}#sk-container-id-4 label.sk-toggleable__label-arrow:before {content: \"▸\";float: left;margin-right: 0.25em;color: #696969;}#sk-container-id-4 label.sk-toggleable__label-arrow:hover:before {color: black;}#sk-container-id-4 div.sk-estimator:hover label.sk-toggleable__label-arrow:before {color: black;}#sk-container-id-4 div.sk-toggleable__content {max-height: 0;max-width: 0;overflow: hidden;text-align: left;background-color: #f0f8ff;}#sk-container-id-4 div.sk-toggleable__content pre {margin: 0.2em;color: black;border-radius: 0.25em;background-color: #f0f8ff;}#sk-container-id-4 input.sk-toggleable__control:checked~div.sk-toggleable__content {max-height: 200px;max-width: 100%;overflow: auto;}#sk-container-id-4 input.sk-toggleable__control:checked~label.sk-toggleable__label-arrow:before {content: \"▾\";}#sk-container-id-4 div.sk-estimator input.sk-toggleable__control:checked~label.sk-toggleable__label {background-color: #d4ebff;}#sk-container-id-4 div.sk-label input.sk-toggleable__control:checked~label.sk-toggleable__label {background-color: #d4ebff;}#sk-container-id-4 input.sk-hidden--visually {border: 0;clip: rect(1px 1px 1px 1px);clip: rect(1px, 1px, 1px, 1px);height: 1px;margin: -1px;overflow: hidden;padding: 0;position: absolute;width: 1px;}#sk-container-id-4 div.sk-estimator {font-family: monospace;background-color: #f0f8ff;border: 1px dotted black;border-radius: 0.25em;box-sizing: border-box;margin-bottom: 0.5em;}#sk-container-id-4 div.sk-estimator:hover {background-color: #d4ebff;}#sk-container-id-4 div.sk-parallel-item::after {content: \"\";width: 100%;border-bottom: 1px solid gray;flex-grow: 1;}#sk-container-id-4 div.sk-label:hover label.sk-toggleable__label {background-color: #d4ebff;}#sk-container-id-4 div.sk-serial::before {content: \"\";position: absolute;border-left: 1px solid gray;box-sizing: border-box;top: 0;bottom: 0;left: 50%;z-index: 0;}#sk-container-id-4 div.sk-serial {display: flex;flex-direction: column;align-items: center;background-color: white;padding-right: 0.2em;padding-left: 0.2em;position: relative;}#sk-container-id-4 div.sk-item {position: relative;z-index: 1;}#sk-container-id-4 div.sk-parallel {display: flex;align-items: stretch;justify-content: center;background-color: white;position: relative;}#sk-container-id-4 div.sk-item::before, #sk-container-id-4 div.sk-parallel-item::before {content: \"\";position: absolute;border-left: 1px solid gray;box-sizing: border-box;top: 0;bottom: 0;left: 50%;z-index: -1;}#sk-container-id-4 div.sk-parallel-item {display: flex;flex-direction: column;z-index: 1;position: relative;background-color: white;}#sk-container-id-4 div.sk-parallel-item:first-child::after {align-self: flex-end;width: 50%;}#sk-container-id-4 div.sk-parallel-item:last-child::after {align-self: flex-start;width: 50%;}#sk-container-id-4 div.sk-parallel-item:only-child::after {width: 0;}#sk-container-id-4 div.sk-dashed-wrapped {border: 1px dashed gray;margin: 0 0.4em 0.5em 0.4em;box-sizing: border-box;padding-bottom: 0.4em;background-color: white;}#sk-container-id-4 div.sk-label label {font-family: monospace;font-weight: bold;display: inline-block;line-height: 1.2em;}#sk-container-id-4 div.sk-label-container {text-align: center;}#sk-container-id-4 div.sk-container {/* jupyter's `normalize.less` sets `[hidden] { display: none; }` but bootstrap.min.css set `[hidden] { display: none !important; }` so we also need the `!important` here to be able to override the default hidden behavior on the sphinx rendered scikit-learn.org. See: https://github.com/scikit-learn/scikit-learn/issues/21755 */display: inline-block !important;position: relative;}#sk-container-id-4 div.sk-text-repr-fallback {display: none;}</style><div id=\"sk-container-id-4\" class=\"sk-top-container\"><div class=\"sk-text-repr-fallback\"><pre>LogisticRegression()</pre><b>In a Jupyter environment, please rerun this cell to show the HTML representation or trust the notebook. <br />On GitHub, the HTML representation is unable to render, please try loading this page with nbviewer.org.</b></div><div class=\"sk-container\" hidden><div class=\"sk-item\"><div class=\"sk-estimator sk-toggleable\"><input class=\"sk-toggleable__control sk-hidden--visually\" id=\"sk-estimator-id-4\" type=\"checkbox\" checked><label for=\"sk-estimator-id-4\" class=\"sk-toggleable__label sk-toggleable__label-arrow\">LogisticRegression</label><div class=\"sk-toggleable__content\"><pre>LogisticRegression()</pre></div></div></div></div></div>"
      ],
      "text/plain": [
       "LogisticRegression()"
      ]
     },
     "execution_count": 42,
     "metadata": {},
     "output_type": "execute_result"
    }
   ],
   "source": [
    "log_reg_sk.fit(X=X2, y=y_binary)"
   ]
  },
  {
   "cell_type": "code",
   "execution_count": 43,
   "metadata": {
    "ExecuteTime": {
     "end_time": "2021-04-16T00:33:34.066180Z",
     "start_time": "2021-04-16T00:33:34.058359Z"
    }
   },
   "outputs": [
    {
     "data": {
      "text/plain": [
       "array([[-0.03834711, -0.32871235]])"
      ]
     },
     "execution_count": 43,
     "metadata": {},
     "output_type": "execute_result"
    }
   ],
   "source": [
    "log_reg_sk.coef_"
   ]
  },
  {
   "cell_type": "markdown",
   "metadata": {},
   "source": [
    "### Decision Surfaces: Classifier Tree vs. Logistic Regression "
   ]
  },
  {
   "cell_type": "code",
   "execution_count": 44,
   "metadata": {
    "ExecuteTime": {
     "end_time": "2021-04-16T00:33:34.454616Z",
     "start_time": "2021-04-16T00:33:34.072296Z"
    }
   },
   "outputs": [
    {
     "data": {
      "image/png": "[encoded data removed]",
      "text/plain": [
       "<Figure size 1200x500 with 4 Axes>"
      ]
     },
     "metadata": {},
     "output_type": "display_data"
    }
   ],
   "source": [
    "fig, axes = plt.subplots(ncols=2, figsize=(12,5))\n",
    "\n",
    "# Linear Regression\n",
    "ret1 = log_reg_sk.predict_proba(X_data)[:, 1].reshape(t1.shape)\n",
    "surface1 = axes[0].contourf(t1, t2, ret1, cmap='Blues')\n",
    "plt.colorbar(mappable=surface1, ax=axes[0])\n",
    "\n",
    "# Regression Tree\n",
    "ret2 = clf_tree_t2.predict_proba(X_data)[:, 1].reshape(t1.shape)\n",
    "surface2 = axes[1].contourf(t1, t2, ret2, cmap='Blues')\n",
    "plt.colorbar(mappable=surface2, ax=axes[1])\n",
    "\n",
    "# Format plots\n",
    "titles = ['Logistic Regression', 'Classification Tree']\n",
    "for i, ax in enumerate(axes):\n",
    "    ax.set_xlabel('t-1')\n",
    "    ax.set_ylabel('t-2')\n",
    "    ax.set_title(titles[i])\n",
    "\n",
    "fig.suptitle('Decision Surfaces', fontsize=20)\n",
    "sns.despine()\n",
    "fig.tight_layout()\n",
    "fig.subplots_adjust(top=.9);"
   ]
  },
  {
   "cell_type": "markdown",
   "metadata": {},
   "source": [
    "## Regression Tree with all Features"
   ]
  },
  {
   "cell_type": "markdown",
   "metadata": {},
   "source": [
    "We now train, visualize, and evaluate a regression tree with up to 5 consecutive splits using 80% of the samples for training to predict the remaining 20%.\n",
    "\n",
    "We are taking a shortcut here to simplify the illustration and use the built-in train_test_split, which does not protect against lookahead bias, as our custom iterator. The tree configuration implies up to $2^5=32$ leaf nodes that, on average in the balanced case, would contain over 4,300 of the training samples."
   ]
  },
  {
   "cell_type": "markdown",
   "metadata": {},
   "source": [
    "### Train-Test Split"
   ]
  },
  {
   "cell_type": "code",
   "execution_count": 45,
   "metadata": {
    "ExecuteTime": {
     "end_time": "2021-04-16T00:33:34.491936Z",
     "start_time": "2021-04-16T00:33:34.455838Z"
    }
   },
   "outputs": [],
   "source": [
    "X = pd.get_dummies(data.drop('target', axis=1))\n",
    "y = data.target"
   ]
  },
  {
   "cell_type": "code",
   "execution_count": 46,
   "metadata": {
    "ExecuteTime": {
     "end_time": "2021-04-16T00:33:34.529344Z",
     "start_time": "2021-04-16T00:33:34.493349Z"
    }
   },
   "outputs": [],
   "source": [
    "X_train, X_test, y_train, y_test = train_test_split(X, y, test_size=0.2, random_state=42)"
   ]
  },
  {
   "cell_type": "markdown",
   "metadata": {},
   "source": [
    "### Configure Tree"
   ]
  },
  {
   "cell_type": "markdown",
   "metadata": {},
   "source": [
    "The output after training the model displays all the DecisionTreeClassifier parameters that we will address in more detail in the next section when we discuss parameter-tuning. "
   ]
  },
  {
   "cell_type": "code",
   "execution_count": 47,
   "metadata": {
    "ExecuteTime": {
     "end_time": "2021-04-16T00:33:34.532666Z",
     "start_time": "2021-04-16T00:33:34.530505Z"
    }
   },
   "outputs": [],
   "source": [
    "regression_tree = DecisionTreeRegressor(criterion='squared_error',\n",
    "                                        splitter='best',\n",
    "                                        max_depth=5,\n",
    "                                        min_samples_split=2,\n",
    "                                        min_samples_leaf=1,\n",
    "                                        min_weight_fraction_leaf=0.0,\n",
    "                                        max_features=None,\n",
    "                                        random_state=42,\n",
    "                                        max_leaf_nodes=None,\n",
    "                                        min_impurity_decrease=0.0)"
   ]
  },
  {
   "cell_type": "markdown",
   "metadata": {},
   "source": [
    "### Train Model"
   ]
  },
  {
   "cell_type": "code",
   "execution_count": 48,
   "metadata": {
    "ExecuteTime": {
     "end_time": "2021-04-16T00:33:35.266789Z",
     "start_time": "2021-04-16T00:33:34.534056Z"
    },
    "scrolled": false
   },
   "outputs": [
    {
     "data": {
      "text/html": [
       "<style>#sk-container-id-5 {color: black;}#sk-container-id-5 pre{padding: 0;}#sk-container-id-5 div.sk-toggleable {background-color: white;}#sk-container-id-5 label.sk-toggleable__label {cursor: pointer;display: block;width: 100%;margin-bottom: 0;padding: 0.3em;box-sizing: border-box;text-align: center;}#sk-container-id-5 label.sk-toggleable__label-arrow:before {content: \"▸\";float: left;margin-right: 0.25em;color: #696969;}#sk-container-id-5 label.sk-toggleable__label-arrow:hover:before {color: black;}#sk-container-id-5 div.sk-estimator:hover label.sk-toggleable__label-arrow:before {color: black;}#sk-container-id-5 div.sk-toggleable__content {max-height: 0;max-width: 0;overflow: hidden;text-align: left;background-color: #f0f8ff;}#sk-container-id-5 div.sk-toggleable__content pre {margin: 0.2em;color: black;border-radius: 0.25em;background-color: #f0f8ff;}#sk-container-id-5 input.sk-toggleable__control:checked~div.sk-toggleable__content {max-height: 200px;max-width: 100%;overflow: auto;}#sk-container-id-5 input.sk-toggleable__control:checked~label.sk-toggleable__label-arrow:before {content: \"▾\";}#sk-container-id-5 div.sk-estimator input.sk-toggleable__control:checked~label.sk-toggleable__label {background-color: #d4ebff;}#sk-container-id-5 div.sk-label input.sk-toggleable__control:checked~label.sk-toggleable__label {background-color: #d4ebff;}#sk-container-id-5 input.sk-hidden--visually {border: 0;clip: rect(1px 1px 1px 1px);clip: rect(1px, 1px, 1px, 1px);height: 1px;margin: -1px;overflow: hidden;padding: 0;position: absolute;width: 1px;}#sk-container-id-5 div.sk-estimator {font-family: monospace;background-color: #f0f8ff;border: 1px dotted black;border-radius: 0.25em;box-sizing: border-box;margin-bottom: 0.5em;}#sk-container-id-5 div.sk-estimator:hover {background-color: #d4ebff;}#sk-container-id-5 div.sk-parallel-item::after {content: \"\";width: 100%;border-bottom: 1px solid gray;flex-grow: 1;}#sk-container-id-5 div.sk-label:hover label.sk-toggleable__label {background-color: #d4ebff;}#sk-container-id-5 div.sk-serial::before {content: \"\";position: absolute;border-left: 1px solid gray;box-sizing: border-box;top: 0;bottom: 0;left: 50%;z-index: 0;}#sk-container-id-5 div.sk-serial {display: flex;flex-direction: column;align-items: center;background-color: white;padding-right: 0.2em;padding-left: 0.2em;position: relative;}#sk-container-id-5 div.sk-item {position: relative;z-index: 1;}#sk-container-id-5 div.sk-parallel {display: flex;align-items: stretch;justify-content: center;background-color: white;position: relative;}#sk-container-id-5 div.sk-item::before, #sk-container-id-5 div.sk-parallel-item::before {content: \"\";position: absolute;border-left: 1px solid gray;box-sizing: border-box;top: 0;bottom: 0;left: 50%;z-index: -1;}#sk-container-id-5 div.sk-parallel-item {display: flex;flex-direction: column;z-index: 1;position: relative;background-color: white;}#sk-container-id-5 div.sk-parallel-item:first-child::after {align-self: flex-end;width: 50%;}#sk-container-id-5 div.sk-parallel-item:last-child::after {align-self: flex-start;width: 50%;}#sk-container-id-5 div.sk-parallel-item:only-child::after {width: 0;}#sk-container-id-5 div.sk-dashed-wrapped {border: 1px dashed gray;margin: 0 0.4em 0.5em 0.4em;box-sizing: border-box;padding-bottom: 0.4em;background-color: white;}#sk-container-id-5 div.sk-label label {font-family: monospace;font-weight: bold;display: inline-block;line-height: 1.2em;}#sk-container-id-5 div.sk-label-container {text-align: center;}#sk-container-id-5 div.sk-container {/* jupyter's `normalize.less` sets `[hidden] { display: none; }` but bootstrap.min.css set `[hidden] { display: none !important; }` so we also need the `!important` here to be able to override the default hidden behavior on the sphinx rendered scikit-learn.org. See: https://github.com/scikit-learn/scikit-learn/issues/21755 */display: inline-block !important;position: relative;}#sk-container-id-5 div.sk-text-repr-fallback {display: none;}</style><div id=\"sk-container-id-5\" class=\"sk-top-container\"><div class=\"sk-text-repr-fallback\"><pre>DecisionTreeRegressor(max_depth=5, random_state=42)</pre><b>In a Jupyter environment, please rerun this cell to show the HTML representation or trust the notebook. <br />On GitHub, the HTML representation is unable to render, please try loading this page with nbviewer.org.</b></div><div class=\"sk-container\" hidden><div class=\"sk-item\"><div class=\"sk-estimator sk-toggleable\"><input class=\"sk-toggleable__control sk-hidden--visually\" id=\"sk-estimator-id-5\" type=\"checkbox\" checked><label for=\"sk-estimator-id-5\" class=\"sk-toggleable__label sk-toggleable__label-arrow\">DecisionTreeRegressor</label><div class=\"sk-toggleable__content\"><pre>DecisionTreeRegressor(max_depth=5, random_state=42)</pre></div></div></div></div></div>"
      ],
      "text/plain": [
       "DecisionTreeRegressor(max_depth=5, random_state=42)"
      ]
     },
     "execution_count": 48,
     "metadata": {},
     "output_type": "execute_result"
    }
   ],
   "source": [
    "regression_tree.fit(X=X_train, y=y_train)"
   ]
  },
  {
   "cell_type": "markdown",
   "metadata": {},
   "source": [
    "### Visualize Tree"
   ]
  },
  {
   "cell_type": "markdown",
   "metadata": {},
   "source": [
    "The result shows that the model uses a variety of different features and indicates the split rules for both continuous and categorical (dummy) variables. "
   ]
  },
  {
   "cell_type": "code",
   "execution_count": 49,
   "metadata": {
    "ExecuteTime": {
     "end_time": "2021-04-16T00:33:35.332234Z",
     "start_time": "2021-04-16T00:33:35.267941Z"
    }
   },
   "outputs": [
    {
     "data": {
      "image/svg+xml": [
       "<?xml version=\"1.0\" encoding=\"UTF-8\" standalone=\"no\"?>\n",
       "<!DOCTYPE svg PUBLIC \"-//W3C//DTD SVG 1.1//EN\"\n",
       " \"http://www.w3.org/Graphics/SVG/1.1/DTD/svg11.dtd\">\n",
       "<!-- Generated by graphviz version 11.0.0 (0)\n",
       " -->\n",
       "<!-- Title: Tree Pages: 1 -->\n",
       "<svg width=\"1301pt\" height=\"460pt\"\n",
       " viewBox=\"0.00 0.00 1300.75 460.00\" xmlns=\"http://www.w3.org/2000/svg\" xmlns:xlink=\"http://www.w3.org/1999/xlink\">\n",
       "<g id=\"graph0\" class=\"graph\" transform=\"scale(1 1) rotate(0) translate(4 456)\">\n",
       "<title>Tree</title>\n",
       "<polygon fill=\"white\" stroke=\"none\" points=\"-4,4 -4,-456 1296.75,-456 1296.75,4 -4,4\"/>\n",
       "<!-- 0 -->\n",
       "<g id=\"node1\" class=\"node\">\n",
       "<title>0</title>\n",
       "<path fill=\"#f6d5bc\" stroke=\"black\" d=\"M697.75,-452C697.75,-452 571.5,-452 571.5,-452 565.5,-452 559.5,-446 559.5,-440 559.5,-440 559.5,-396 559.5,-396 559.5,-390 565.5,-384 571.5,-384 571.5,-384 697.75,-384 697.75,-384 703.75,-384 709.75,-390 709.75,-396 709.75,-396 709.75,-440 709.75,-440 709.75,-446 703.75,-452 697.75,-452\"/>\n",
       "<text text-anchor=\"start\" x=\"598.62\" y=\"-434.7\" font-family=\"Helvetica,sans-Serif\" font-size=\"14.00\">month ≤ 2.5</text>\n",
       "<text text-anchor=\"start\" x=\"567.5\" y=\"-419.7\" font-family=\"Helvetica,sans-Serif\" font-size=\"14.00\">squared_error = 0.028</text>\n",
       "<text text-anchor=\"start\" x=\"586.25\" y=\"-404.7\" font-family=\"Helvetica,sans-Serif\" font-size=\"14.00\">samples = 3880</text>\n",
       "<text text-anchor=\"start\" x=\"593.75\" y=\"-389.7\" font-family=\"Helvetica,sans-Serif\" font-size=\"14.00\">value = 0.057</text>\n",
       "</g>\n",
       "<!-- 1 -->\n",
       "<g id=\"node2\" class=\"node\">\n",
       "<title>1</title>\n",
       "<path fill=\"#f9e1d0\" stroke=\"black\" d=\"M536.75,-348C536.75,-348 410.5,-348 410.5,-348 404.5,-348 398.5,-342 398.5,-336 398.5,-336 398.5,-292 398.5,-292 398.5,-286 404.5,-280 410.5,-280 410.5,-280 536.75,-280 536.75,-280 542.75,-280 548.75,-286 548.75,-292 548.75,-292 548.75,-336 548.75,-336 548.75,-342 542.75,-348 536.75,-348\"/>\n",
       "<text text-anchor=\"start\" x=\"410.62\" y=\"-330.7\" font-family=\"Helvetica,sans-Serif\" font-size=\"14.00\">momentum_6 ≤ 0.14</text>\n",
       "<text text-anchor=\"start\" x=\"406.5\" y=\"-315.7\" font-family=\"Helvetica,sans-Serif\" font-size=\"14.00\">squared_error = 0.017</text>\n",
       "<text text-anchor=\"start\" x=\"429\" y=\"-300.7\" font-family=\"Helvetica,sans-Serif\" font-size=\"14.00\">samples = 613</text>\n",
       "<text text-anchor=\"start\" x=\"430.5\" y=\"-285.7\" font-family=\"Helvetica,sans-Serif\" font-size=\"14.00\">value = &#45;0.032</text>\n",
       "</g>\n",
       "<!-- 0&#45;&gt;1 -->\n",
       "<g id=\"edge1\" class=\"edge\">\n",
       "<title>0&#45;&gt;1</title>\n",
       "<path fill=\"none\" stroke=\"black\" d=\"M581.91,-383.6C567.17,-374.27 551.03,-364.04 535.8,-354.39\"/>\n",
       "<polygon fill=\"black\" stroke=\"black\" points=\"538.06,-351.68 527.74,-349.28 534.31,-357.59 538.06,-351.68\"/>\n",
       "<text text-anchor=\"middle\" x=\"531.93\" y=\"-367.07\" font-family=\"Helvetica,sans-Serif\" font-size=\"14.00\">True</text>\n",
       "</g>\n",
       "<!-- 26 -->\n",
       "<g id=\"node15\" class=\"node\">\n",
       "<title>26</title>\n",
       "<path fill=\"#f6d2b9\" stroke=\"black\" d=\"M863.75,-348C863.75,-348 737.5,-348 737.5,-348 731.5,-348 725.5,-342 725.5,-336 725.5,-336 725.5,-292 725.5,-292 725.5,-286 731.5,-280 737.5,-280 737.5,-280 863.75,-280 863.75,-280 869.75,-280 875.75,-286 875.75,-292 875.75,-292 875.75,-336 875.75,-336 875.75,-342 869.75,-348 863.75,-348\"/>\n",
       "<text text-anchor=\"start\" x=\"759.38\" y=\"-330.7\" font-family=\"Helvetica,sans-Serif\" font-size=\"14.00\">year ≤ 2021.5</text>\n",
       "<text text-anchor=\"start\" x=\"733.5\" y=\"-315.7\" font-family=\"Helvetica,sans-Serif\" font-size=\"14.00\">squared_error = 0.028</text>\n",
       "<text text-anchor=\"start\" x=\"752.25\" y=\"-300.7\" font-family=\"Helvetica,sans-Serif\" font-size=\"14.00\">samples = 3267</text>\n",
       "<text text-anchor=\"start\" x=\"759.75\" y=\"-285.7\" font-family=\"Helvetica,sans-Serif\" font-size=\"14.00\">value = 0.073</text>\n",
       "</g>\n",
       "<!-- 0&#45;&gt;26 -->\n",
       "<g id=\"edge14\" class=\"edge\">\n",
       "<title>0&#45;&gt;26</title>\n",
       "<path fill=\"none\" stroke=\"black\" d=\"M688.98,-383.6C704.17,-374.27 720.82,-364.04 736.52,-354.39\"/>\n",
       "<polygon fill=\"black\" stroke=\"black\" points=\"738.17,-357.48 744.86,-349.27 734.51,-351.52 738.17,-357.48\"/>\n",
       "<text text-anchor=\"middle\" x=\"740.34\" y=\"-366.99\" font-family=\"Helvetica,sans-Serif\" font-size=\"14.00\">False</text>\n",
       "</g>\n",
       "<!-- 2 -->\n",
       "<g id=\"node3\" class=\"node\">\n",
       "<title>2</title>\n",
       "<path fill=\"#f8dfcd\" stroke=\"black\" d=\"M291.75,-244C291.75,-244 165.5,-244 165.5,-244 159.5,-244 153.5,-238 153.5,-232 153.5,-232 153.5,-188 153.5,-188 153.5,-182 159.5,-176 165.5,-176 165.5,-176 291.75,-176 291.75,-176 297.75,-176 303.75,-182 303.75,-188 303.75,-188 303.75,-232 303.75,-232 303.75,-238 297.75,-244 291.75,-244\"/>\n",
       "<text text-anchor=\"start\" x=\"170.88\" y=\"-226.7\" font-family=\"Helvetica,sans-Serif\" font-size=\"14.00\">return_1m ≤ &#45;0.161</text>\n",
       "<text text-anchor=\"start\" x=\"161.5\" y=\"-211.7\" font-family=\"Helvetica,sans-Serif\" font-size=\"14.00\">squared_error = 0.016</text>\n",
       "<text text-anchor=\"start\" x=\"184\" y=\"-196.7\" font-family=\"Helvetica,sans-Serif\" font-size=\"14.00\">samples = 528</text>\n",
       "<text text-anchor=\"start\" x=\"185.5\" y=\"-181.7\" font-family=\"Helvetica,sans-Serif\" font-size=\"14.00\">value = &#45;0.017</text>\n",
       "</g>\n",
       "<!-- 1&#45;&gt;2 -->\n",
       "<g id=\"edge2\" class=\"edge\">\n",
       "<title>1&#45;&gt;2</title>\n",
       "<path fill=\"none\" stroke=\"black\" d=\"M398.12,-281.56C371.56,-270.51 341.53,-258.01 314.21,-246.63\"/>\n",
       "<polygon fill=\"black\" stroke=\"black\" points=\"315.86,-243.53 305.28,-242.91 313.17,-249.99 315.86,-243.53\"/>\n",
       "</g>\n",
       "<!-- 11 -->\n",
       "<g id=\"node8\" class=\"node\">\n",
       "<title>11</title>\n",
       "<path fill=\"#fcefe5\" stroke=\"black\" d=\"M536.75,-244C536.75,-244 410.5,-244 410.5,-244 404.5,-244 398.5,-238 398.5,-232 398.5,-232 398.5,-188 398.5,-188 398.5,-182 404.5,-176 410.5,-176 410.5,-176 536.75,-176 536.75,-176 542.75,-176 548.75,-182 548.75,-188 548.75,-188 548.75,-232 548.75,-232 548.75,-238 542.75,-244 536.75,-244\"/>\n",
       "<text text-anchor=\"start\" x=\"433.88\" y=\"-226.7\" font-family=\"Helvetica,sans-Serif\" font-size=\"14.00\">CMA ≤ 0.693</text>\n",
       "<text text-anchor=\"start\" x=\"406.5\" y=\"-211.7\" font-family=\"Helvetica,sans-Serif\" font-size=\"14.00\">squared_error = 0.013</text>\n",
       "<text text-anchor=\"start\" x=\"432.75\" y=\"-196.7\" font-family=\"Helvetica,sans-Serif\" font-size=\"14.00\">samples = 85</text>\n",
       "<text text-anchor=\"start\" x=\"430.5\" y=\"-181.7\" font-family=\"Helvetica,sans-Serif\" font-size=\"14.00\">value = &#45;0.125</text>\n",
       "</g>\n",
       "<!-- 1&#45;&gt;11 -->\n",
       "<g id=\"edge7\" class=\"edge\">\n",
       "<title>1&#45;&gt;11</title>\n",
       "<path fill=\"none\" stroke=\"black\" d=\"M473.62,-279.6C473.62,-272.03 473.62,-263.87 473.62,-255.9\"/>\n",
       "<polygon fill=\"black\" stroke=\"black\" points=\"477.13,-255.99 473.63,-245.99 470.13,-255.99 477.13,-255.99\"/>\n",
       "</g>\n",
       "<!-- 3 -->\n",
       "<g id=\"node4\" class=\"node\">\n",
       "<title>3</title>\n",
       "<path fill=\"#e58139\" stroke=\"black\" d=\"M123.25,-132.5C123.25,-132.5 12,-132.5 12,-132.5 6,-132.5 0,-126.5 0,-120.5 0,-120.5 0,-91.5 0,-91.5 0,-85.5 6,-79.5 12,-79.5 12,-79.5 123.25,-79.5 123.25,-79.5 129.25,-79.5 135.25,-85.5 135.25,-91.5 135.25,-91.5 135.25,-120.5 135.25,-120.5 135.25,-126.5 129.25,-132.5 123.25,-132.5\"/>\n",
       "<text text-anchor=\"start\" x=\"8\" y=\"-115.2\" font-family=\"Helvetica,sans-Serif\" font-size=\"14.00\">squared_error = 0.0</text>\n",
       "<text text-anchor=\"start\" x=\"30.5\" y=\"-100.2\" font-family=\"Helvetica,sans-Serif\" font-size=\"14.00\">samples = 1</text>\n",
       "<text text-anchor=\"start\" x=\"26.75\" y=\"-85.2\" font-family=\"Helvetica,sans-Serif\" font-size=\"14.00\">value = 0.642</text>\n",
       "</g>\n",
       "<!-- 2&#45;&gt;3 -->\n",
       "<g id=\"edge3\" class=\"edge\">\n",
       "<title>2&#45;&gt;3</title>\n",
       "<path fill=\"none\" stroke=\"black\" d=\"M175.91,-175.6C157.33,-163.83 136.5,-150.63 118.11,-138.98\"/>\n",
       "<polygon fill=\"black\" stroke=\"black\" points=\"120.06,-136.07 109.74,-133.68 116.31,-141.99 120.06,-136.07\"/>\n",
       "</g>\n",
       "<!-- 4 -->\n",
       "<g id=\"node5\" class=\"node\">\n",
       "<title>4</title>\n",
       "<path fill=\"#f8dfcd\" stroke=\"black\" d=\"M291.75,-140C291.75,-140 165.5,-140 165.5,-140 159.5,-140 153.5,-134 153.5,-128 153.5,-128 153.5,-84 153.5,-84 153.5,-78 159.5,-72 165.5,-72 165.5,-72 291.75,-72 291.75,-72 297.75,-72 303.75,-78 303.75,-84 303.75,-84 303.75,-128 303.75,-128 303.75,-134 297.75,-140 291.75,-140\"/>\n",
       "<text text-anchor=\"start\" x=\"181.75\" y=\"-122.7\" font-family=\"Helvetica,sans-Serif\" font-size=\"14.00\">bb_mid ≤ 1.356</text>\n",
       "<text text-anchor=\"start\" x=\"161.5\" y=\"-107.7\" font-family=\"Helvetica,sans-Serif\" font-size=\"14.00\">squared_error = 0.015</text>\n",
       "<text text-anchor=\"start\" x=\"184\" y=\"-92.7\" font-family=\"Helvetica,sans-Serif\" font-size=\"14.00\">samples = 527</text>\n",
       "<text text-anchor=\"start\" x=\"185.5\" y=\"-77.7\" font-family=\"Helvetica,sans-Serif\" font-size=\"14.00\">value = &#45;0.018</text>\n",
       "</g>\n",
       "<!-- 2&#45;&gt;4 -->\n",
       "<g id=\"edge4\" class=\"edge\">\n",
       "<title>2&#45;&gt;4</title>\n",
       "<path fill=\"none\" stroke=\"black\" d=\"M228.62,-175.6C228.62,-168.03 228.62,-159.87 228.62,-151.9\"/>\n",
       "<polygon fill=\"black\" stroke=\"black\" points=\"232.13,-151.99 228.63,-141.99 225.13,-151.99 232.13,-151.99\"/>\n",
       "</g>\n",
       "<!-- 5 -->\n",
       "<g id=\"node6\" class=\"node\">\n",
       "<title>5</title>\n",
       "<path fill=\"#c0c0c0\" stroke=\"black\" d=\"M181.62,-36C181.62,-36 151.62,-36 151.62,-36 145.62,-36 139.62,-30 139.62,-24 139.62,-24 139.62,-12 139.62,-12 139.62,-6 145.62,0 151.62,0 151.62,0 181.62,0 181.62,0 187.62,0 193.62,-6 193.62,-12 193.62,-12 193.62,-24 193.62,-24 193.62,-30 187.62,-36 181.62,-36\"/>\n",
       "<text text-anchor=\"middle\" x=\"166.62\" y=\"-12.2\" font-family=\"Helvetica,sans-Serif\" font-size=\"14.00\">(...)</text>\n",
       "</g>\n",
       "<!-- 4&#45;&gt;5 -->\n",
       "<g id=\"edge5\" class=\"edge\">\n",
       "<title>4&#45;&gt;5</title>\n",
       "<path fill=\"none\" stroke=\"black\" d=\"M204.48,-71.5C198.22,-62.83 191.57,-53.6 185.62,-45.35\"/>\n",
       "<polygon fill=\"black\" stroke=\"black\" points=\"188.59,-43.49 179.91,-37.42 182.92,-47.58 188.59,-43.49\"/>\n",
       "</g>\n",
       "<!-- 8 -->\n",
       "<g id=\"node7\" class=\"node\">\n",
       "<title>8</title>\n",
       "<path fill=\"#c0c0c0\" stroke=\"black\" d=\"M253.62,-36C253.62,-36 223.62,-36 223.62,-36 217.62,-36 211.62,-30 211.62,-24 211.62,-24 211.62,-12 211.62,-12 211.62,-6 217.62,0 223.62,0 223.62,0 253.62,0 253.62,0 259.62,0 265.62,-6 265.62,-12 265.62,-12 265.62,-24 265.62,-24 265.62,-30 259.62,-36 253.62,-36\"/>\n",
       "<text text-anchor=\"middle\" x=\"238.62\" y=\"-12.2\" font-family=\"Helvetica,sans-Serif\" font-size=\"14.00\">(...)</text>\n",
       "</g>\n",
       "<!-- 4&#45;&gt;8 -->\n",
       "<g id=\"edge6\" class=\"edge\">\n",
       "<title>4&#45;&gt;8</title>\n",
       "<path fill=\"none\" stroke=\"black\" d=\"M232.52,-71.5C233.44,-63.58 234.42,-55.2 235.31,-47.52\"/>\n",
       "<polygon fill=\"black\" stroke=\"black\" points=\"238.77,-48.04 236.45,-37.7 231.82,-47.23 238.77,-48.04\"/>\n",
       "</g>\n",
       "<!-- 12 -->\n",
       "<g id=\"node9\" class=\"node\">\n",
       "<title>12</title>\n",
       "<path fill=\"#fae7da\" stroke=\"black\" d=\"M453,-140C453,-140 334.25,-140 334.25,-140 328.25,-140 322.25,-134 322.25,-128 322.25,-128 322.25,-84 322.25,-84 322.25,-78 328.25,-72 334.25,-72 334.25,-72 453,-72 453,-72 459,-72 465,-78 465,-84 465,-84 465,-128 465,-128 465,-134 459,-140 453,-140\"/>\n",
       "<text text-anchor=\"start\" x=\"354.25\" y=\"-122.7\" font-family=\"Helvetica,sans-Serif\" font-size=\"14.00\">SMB ≤ 0.469</text>\n",
       "<text text-anchor=\"start\" x=\"330.25\" y=\"-107.7\" font-family=\"Helvetica,sans-Serif\" font-size=\"14.00\">squared_error = 0.01</text>\n",
       "<text text-anchor=\"start\" x=\"352.75\" y=\"-92.7\" font-family=\"Helvetica,sans-Serif\" font-size=\"14.00\">samples = 46</text>\n",
       "<text text-anchor=\"start\" x=\"350.5\" y=\"-77.7\" font-family=\"Helvetica,sans-Serif\" font-size=\"14.00\">value = &#45;0.076</text>\n",
       "</g>\n",
       "<!-- 11&#45;&gt;12 -->\n",
       "<g id=\"edge8\" class=\"edge\">\n",
       "<title>11&#45;&gt;12</title>\n",
       "<path fill=\"none\" stroke=\"black\" d=\"M447.43,-175.6C440.87,-167.24 433.74,-158.15 426.89,-149.41\"/>\n",
       "<polygon fill=\"black\" stroke=\"black\" points=\"429.74,-147.37 420.81,-141.66 424.23,-151.69 429.74,-147.37\"/>\n",
       "</g>\n",
       "<!-- 19 -->\n",
       "<g id=\"node12\" class=\"node\">\n",
       "<title>19</title>\n",
       "<path fill=\"#fdf7f2\" stroke=\"black\" d=\"M614,-140C614,-140 495.25,-140 495.25,-140 489.25,-140 483.25,-134 483.25,-128 483.25,-128 483.25,-84 483.25,-84 483.25,-78 489.25,-72 495.25,-72 495.25,-72 614,-72 614,-72 620,-72 626,-78 626,-84 626,-84 626,-128 626,-128 626,-134 620,-140 614,-140\"/>\n",
       "<text text-anchor=\"start\" x=\"507.75\" y=\"-122.7\" font-family=\"Helvetica,sans-Serif\" font-size=\"14.00\">bb_mid ≤ 2.758</text>\n",
       "<text text-anchor=\"start\" x=\"491.25\" y=\"-107.7\" font-family=\"Helvetica,sans-Serif\" font-size=\"14.00\">squared_error = 0.01</text>\n",
       "<text text-anchor=\"start\" x=\"513.75\" y=\"-92.7\" font-family=\"Helvetica,sans-Serif\" font-size=\"14.00\">samples = 39</text>\n",
       "<text text-anchor=\"start\" x=\"511.5\" y=\"-77.7\" font-family=\"Helvetica,sans-Serif\" font-size=\"14.00\">value = &#45;0.184</text>\n",
       "</g>\n",
       "<!-- 11&#45;&gt;19 -->\n",
       "<g id=\"edge11\" class=\"edge\">\n",
       "<title>11&#45;&gt;19</title>\n",
       "<path fill=\"none\" stroke=\"black\" d=\"M500.15,-175.6C506.79,-167.24 514.01,-158.15 520.95,-149.41\"/>\n",
       "<polygon fill=\"black\" stroke=\"black\" points=\"523.62,-151.67 527.1,-141.66 518.14,-147.31 523.62,-151.67\"/>\n",
       "</g>\n",
       "<!-- 13 -->\n",
       "<g id=\"node10\" class=\"node\">\n",
       "<title>13</title>\n",
       "<path fill=\"#c0c0c0\" stroke=\"black\" d=\"M349.62,-36C349.62,-36 319.62,-36 319.62,-36 313.62,-36 307.62,-30 307.62,-24 307.62,-24 307.62,-12 307.62,-12 307.62,-6 313.62,0 319.62,0 319.62,0 349.62,0 349.62,0 355.62,0 361.62,-6 361.62,-12 361.62,-12 361.62,-24 361.62,-24 361.62,-30 355.62,-36 349.62,-36\"/>\n",
       "<text text-anchor=\"middle\" x=\"334.62\" y=\"-12.2\" font-family=\"Helvetica,sans-Serif\" font-size=\"14.00\">(...)</text>\n",
       "</g>\n",
       "<!-- 12&#45;&gt;13 -->\n",
       "<g id=\"edge9\" class=\"edge\">\n",
       "<title>12&#45;&gt;13</title>\n",
       "<path fill=\"none\" stroke=\"black\" d=\"M370.65,-71.5C364.76,-62.92 358.5,-53.8 352.89,-45.62\"/>\n",
       "<polygon fill=\"black\" stroke=\"black\" points=\"355.82,-43.71 347.28,-37.44 350.05,-47.67 355.82,-43.71\"/>\n",
       "</g>\n",
       "<!-- 16 -->\n",
       "<g id=\"node11\" class=\"node\">\n",
       "<title>16</title>\n",
       "<path fill=\"#c0c0c0\" stroke=\"black\" d=\"M421.62,-36C421.62,-36 391.62,-36 391.62,-36 385.62,-36 379.62,-30 379.62,-24 379.62,-24 379.62,-12 379.62,-12 379.62,-6 385.62,0 391.62,0 391.62,0 421.62,0 421.62,0 427.62,0 433.62,-6 433.62,-12 433.62,-12 433.62,-24 433.62,-24 433.62,-30 427.62,-36 421.62,-36\"/>\n",
       "<text text-anchor=\"middle\" x=\"406.62\" y=\"-12.2\" font-family=\"Helvetica,sans-Serif\" font-size=\"14.00\">(...)</text>\n",
       "</g>\n",
       "<!-- 12&#45;&gt;16 -->\n",
       "<g id=\"edge10\" class=\"edge\">\n",
       "<title>12&#45;&gt;16</title>\n",
       "<path fill=\"none\" stroke=\"black\" d=\"M398.69,-71.5C399.89,-63.58 401.15,-55.2 402.31,-47.52\"/>\n",
       "<polygon fill=\"black\" stroke=\"black\" points=\"405.77,-48.1 403.8,-37.69 398.84,-47.06 405.77,-48.1\"/>\n",
       "</g>\n",
       "<!-- 20 -->\n",
       "<g id=\"node13\" class=\"node\">\n",
       "<title>20</title>\n",
       "<path fill=\"#c0c0c0\" stroke=\"black\" d=\"M507.62,-36C507.62,-36 477.62,-36 477.62,-36 471.62,-36 465.62,-30 465.62,-24 465.62,-24 465.62,-12 465.62,-12 465.62,-6 471.62,0 477.62,0 477.62,0 507.62,0 507.62,0 513.62,0 519.62,-6 519.62,-12 519.62,-12 519.62,-24 519.62,-24 519.62,-30 513.62,-36 507.62,-36\"/>\n",
       "<text text-anchor=\"middle\" x=\"492.62\" y=\"-12.2\" font-family=\"Helvetica,sans-Serif\" font-size=\"14.00\">(...)</text>\n",
       "</g>\n",
       "<!-- 19&#45;&gt;20 -->\n",
       "<g id=\"edge12\" class=\"edge\">\n",
       "<title>19&#45;&gt;20</title>\n",
       "<path fill=\"none\" stroke=\"black\" d=\"M530.48,-71.5C524.22,-62.83 517.57,-53.6 511.62,-45.35\"/>\n",
       "<polygon fill=\"black\" stroke=\"black\" points=\"514.59,-43.49 505.91,-37.42 508.92,-47.58 514.59,-43.49\"/>\n",
       "</g>\n",
       "<!-- 23 -->\n",
       "<g id=\"node14\" class=\"node\">\n",
       "<title>23</title>\n",
       "<path fill=\"#c0c0c0\" stroke=\"black\" d=\"M579.62,-36C579.62,-36 549.62,-36 549.62,-36 543.62,-36 537.62,-30 537.62,-24 537.62,-24 537.62,-12 537.62,-12 537.62,-6 543.62,0 549.62,0 549.62,0 579.62,0 579.62,0 585.62,0 591.62,-6 591.62,-12 591.62,-12 591.62,-24 591.62,-24 591.62,-30 585.62,-36 579.62,-36\"/>\n",
       "<text text-anchor=\"middle\" x=\"564.62\" y=\"-12.2\" font-family=\"Helvetica,sans-Serif\" font-size=\"14.00\">(...)</text>\n",
       "</g>\n",
       "<!-- 19&#45;&gt;23 -->\n",
       "<g id=\"edge13\" class=\"edge\">\n",
       "<title>19&#45;&gt;23</title>\n",
       "<path fill=\"none\" stroke=\"black\" d=\"M558.52,-71.5C559.44,-63.58 560.42,-55.2 561.31,-47.52\"/>\n",
       "<polygon fill=\"black\" stroke=\"black\" points=\"564.77,-48.04 562.45,-37.7 557.82,-47.23 564.77,-48.04\"/>\n",
       "</g>\n",
       "<!-- 27 -->\n",
       "<g id=\"node16\" class=\"node\">\n",
       "<title>27</title>\n",
       "<path fill=\"#f6d5bd\" stroke=\"black\" d=\"M863.75,-244C863.75,-244 737.5,-244 737.5,-244 731.5,-244 725.5,-238 725.5,-232 725.5,-232 725.5,-188 725.5,-188 725.5,-182 731.5,-176 737.5,-176 737.5,-176 863.75,-176 863.75,-176 869.75,-176 875.75,-182 875.75,-188 875.75,-188 875.75,-232 875.75,-232 875.75,-238 869.75,-244 863.75,-244\"/>\n",
       "<text text-anchor=\"start\" x=\"762.75\" y=\"-226.7\" font-family=\"Helvetica,sans-Serif\" font-size=\"14.00\">ppo ≤ &#45;9.926</text>\n",
       "<text text-anchor=\"start\" x=\"733.5\" y=\"-211.7\" font-family=\"Helvetica,sans-Serif\" font-size=\"14.00\">squared_error = 0.023</text>\n",
       "<text text-anchor=\"start\" x=\"752.25\" y=\"-196.7\" font-family=\"Helvetica,sans-Serif\" font-size=\"14.00\">samples = 2470</text>\n",
       "<text text-anchor=\"start\" x=\"759.75\" y=\"-181.7\" font-family=\"Helvetica,sans-Serif\" font-size=\"14.00\">value = 0.052</text>\n",
       "</g>\n",
       "<!-- 26&#45;&gt;27 -->\n",
       "<g id=\"edge15\" class=\"edge\">\n",
       "<title>26&#45;&gt;27</title>\n",
       "<path fill=\"none\" stroke=\"black\" d=\"M800.62,-279.6C800.62,-272.03 800.62,-263.87 800.62,-255.9\"/>\n",
       "<polygon fill=\"black\" stroke=\"black\" points=\"804.13,-255.99 800.63,-245.99 797.13,-255.99 804.13,-255.99\"/>\n",
       "</g>\n",
       "<!-- 42 -->\n",
       "<g id=\"node23\" class=\"node\">\n",
       "<title>42</title>\n",
       "<path fill=\"#f4c9aa\" stroke=\"black\" d=\"M1112.75,-244C1112.75,-244 986.5,-244 986.5,-244 980.5,-244 974.5,-238 974.5,-232 974.5,-232 974.5,-188 974.5,-188 974.5,-182 980.5,-176 986.5,-176 986.5,-176 1112.75,-176 1112.75,-176 1118.75,-176 1124.75,-182 1124.75,-188 1124.75,-188 1124.75,-232 1124.75,-232 1124.75,-238 1118.75,-244 1112.75,-244\"/>\n",
       "<text text-anchor=\"start\" x=\"1002.75\" y=\"-226.7\" font-family=\"Helvetica,sans-Serif\" font-size=\"14.00\">bb_mid ≤ 5.551</text>\n",
       "<text text-anchor=\"start\" x=\"982.5\" y=\"-211.7\" font-family=\"Helvetica,sans-Serif\" font-size=\"14.00\">squared_error = 0.039</text>\n",
       "<text text-anchor=\"start\" x=\"1005\" y=\"-196.7\" font-family=\"Helvetica,sans-Serif\" font-size=\"14.00\">samples = 797</text>\n",
       "<text text-anchor=\"start\" x=\"1012.5\" y=\"-181.7\" font-family=\"Helvetica,sans-Serif\" font-size=\"14.00\">value = 0.14</text>\n",
       "</g>\n",
       "<!-- 26&#45;&gt;42 -->\n",
       "<g id=\"edge22\" class=\"edge\">\n",
       "<title>26&#45;&gt;42</title>\n",
       "<path fill=\"none\" stroke=\"black\" d=\"M876.01,-282.12C903.67,-270.79 935.19,-257.88 963.71,-246.19\"/>\n",
       "<polygon fill=\"black\" stroke=\"black\" points=\"964.74,-249.55 972.67,-242.52 962.09,-243.08 964.74,-249.55\"/>\n",
       "</g>\n",
       "<!-- 28 -->\n",
       "<g id=\"node17\" class=\"node\">\n",
       "<title>28</title>\n",
       "<path fill=\"#efb285\" stroke=\"black\" d=\"M782.75,-140C782.75,-140 656.5,-140 656.5,-140 650.5,-140 644.5,-134 644.5,-128 644.5,-128 644.5,-84 644.5,-84 644.5,-78 650.5,-72 656.5,-72 656.5,-72 782.75,-72 782.75,-72 788.75,-72 794.75,-78 794.75,-84 794.75,-84 794.75,-128 794.75,-128 794.75,-134 788.75,-140 782.75,-140\"/>\n",
       "<text text-anchor=\"start\" x=\"673.88\" y=\"-122.7\" font-family=\"Helvetica,sans-Serif\" font-size=\"14.00\">bb_low ≤ 1.267</text>\n",
       "<text text-anchor=\"start\" x=\"652.5\" y=\"-107.7\" font-family=\"Helvetica,sans-Serif\" font-size=\"14.00\">squared_error = 0.043</text>\n",
       "<text text-anchor=\"start\" x=\"678.75\" y=\"-92.7\" font-family=\"Helvetica,sans-Serif\" font-size=\"14.00\">samples = 76</text>\n",
       "<text text-anchor=\"start\" x=\"678.75\" y=\"-77.7\" font-family=\"Helvetica,sans-Serif\" font-size=\"14.00\">value = 0.302</text>\n",
       "</g>\n",
       "<!-- 27&#45;&gt;28 -->\n",
       "<g id=\"edge16\" class=\"edge\">\n",
       "<title>27&#45;&gt;28</title>\n",
       "<path fill=\"none\" stroke=\"black\" d=\"M774.1,-175.6C767.46,-167.24 760.24,-158.15 753.3,-149.41\"/>\n",
       "<polygon fill=\"black\" stroke=\"black\" points=\"756.11,-147.31 747.15,-141.66 750.63,-151.67 756.11,-147.31\"/>\n",
       "</g>\n",
       "<!-- 35 -->\n",
       "<g id=\"node20\" class=\"node\">\n",
       "<title>35</title>\n",
       "<path fill=\"#f7d6bf\" stroke=\"black\" d=\"M944,-140C944,-140 825.25,-140 825.25,-140 819.25,-140 813.25,-134 813.25,-128 813.25,-128 813.25,-84 813.25,-84 813.25,-78 819.25,-72 825.25,-72 825.25,-72 944,-72 944,-72 950,-72 956,-78 956,-84 956,-84 956,-128 956,-128 956,-134 950,-140 944,-140\"/>\n",
       "<text text-anchor=\"start\" x=\"847.12\" y=\"-122.7\" font-family=\"Helvetica,sans-Serif\" font-size=\"14.00\">macd ≤ 3.83</text>\n",
       "<text text-anchor=\"start\" x=\"821.25\" y=\"-107.7\" font-family=\"Helvetica,sans-Serif\" font-size=\"14.00\">squared_error = 0.02</text>\n",
       "<text text-anchor=\"start\" x=\"836.25\" y=\"-92.7\" font-family=\"Helvetica,sans-Serif\" font-size=\"14.00\">samples = 2394</text>\n",
       "<text text-anchor=\"start\" x=\"843.75\" y=\"-77.7\" font-family=\"Helvetica,sans-Serif\" font-size=\"14.00\">value = 0.044</text>\n",
       "</g>\n",
       "<!-- 27&#45;&gt;35 -->\n",
       "<g id=\"edge19\" class=\"edge\">\n",
       "<title>27&#45;&gt;35</title>\n",
       "<path fill=\"none\" stroke=\"black\" d=\"M828.13,-175.6C835.09,-167.15 842.66,-157.96 849.93,-149.13\"/>\n",
       "<polygon fill=\"black\" stroke=\"black\" points=\"852.44,-151.59 856.1,-141.64 847.04,-147.14 852.44,-151.59\"/>\n",
       "</g>\n",
       "<!-- 29 -->\n",
       "<g id=\"node18\" class=\"node\">\n",
       "<title>29</title>\n",
       "<path fill=\"#c0c0c0\" stroke=\"black\" d=\"M672.62,-36C672.62,-36 642.62,-36 642.62,-36 636.62,-36 630.62,-30 630.62,-24 630.62,-24 630.62,-12 630.62,-12 630.62,-6 636.62,0 642.62,0 642.62,0 672.62,0 672.62,0 678.62,0 684.62,-6 684.62,-12 684.62,-12 684.62,-24 684.62,-24 684.62,-30 678.62,-36 672.62,-36\"/>\n",
       "<text text-anchor=\"middle\" x=\"657.62\" y=\"-12.2\" font-family=\"Helvetica,sans-Serif\" font-size=\"14.00\">(...)</text>\n",
       "</g>\n",
       "<!-- 28&#45;&gt;29 -->\n",
       "<g id=\"edge17\" class=\"edge\">\n",
       "<title>28&#45;&gt;29</title>\n",
       "<path fill=\"none\" stroke=\"black\" d=\"M695.48,-71.5C689.22,-62.83 682.57,-53.6 676.62,-45.35\"/>\n",
       "<polygon fill=\"black\" stroke=\"black\" points=\"679.59,-43.49 670.91,-37.42 673.92,-47.58 679.59,-43.49\"/>\n",
       "</g>\n",
       "<!-- 32 -->\n",
       "<g id=\"node19\" class=\"node\">\n",
       "<title>32</title>\n",
       "<path fill=\"#c0c0c0\" stroke=\"black\" d=\"M744.62,-36C744.62,-36 714.62,-36 714.62,-36 708.62,-36 702.62,-30 702.62,-24 702.62,-24 702.62,-12 702.62,-12 702.62,-6 708.62,0 714.62,0 714.62,0 744.62,0 744.62,0 750.62,0 756.62,-6 756.62,-12 756.62,-12 756.62,-24 756.62,-24 756.62,-30 750.62,-36 744.62,-36\"/>\n",
       "<text text-anchor=\"middle\" x=\"729.62\" y=\"-12.2\" font-family=\"Helvetica,sans-Serif\" font-size=\"14.00\">(...)</text>\n",
       "</g>\n",
       "<!-- 28&#45;&gt;32 -->\n",
       "<g id=\"edge18\" class=\"edge\">\n",
       "<title>28&#45;&gt;32</title>\n",
       "<path fill=\"none\" stroke=\"black\" d=\"M723.52,-71.5C724.44,-63.58 725.42,-55.2 726.31,-47.52\"/>\n",
       "<polygon fill=\"black\" stroke=\"black\" points=\"729.77,-48.04 727.45,-37.7 722.82,-47.23 729.77,-48.04\"/>\n",
       "</g>\n",
       "<!-- 36 -->\n",
       "<g id=\"node21\" class=\"node\">\n",
       "<title>36</title>\n",
       "<path fill=\"#c0c0c0\" stroke=\"black\" d=\"M837.62,-36C837.62,-36 807.62,-36 807.62,-36 801.62,-36 795.62,-30 795.62,-24 795.62,-24 795.62,-12 795.62,-12 795.62,-6 801.62,0 807.62,0 807.62,0 837.62,0 837.62,0 843.62,0 849.62,-6 849.62,-12 849.62,-12 849.62,-24 849.62,-24 849.62,-30 843.62,-36 837.62,-36\"/>\n",
       "<text text-anchor=\"middle\" x=\"822.62\" y=\"-12.2\" font-family=\"Helvetica,sans-Serif\" font-size=\"14.00\">(...)</text>\n",
       "</g>\n",
       "<!-- 35&#45;&gt;36 -->\n",
       "<g id=\"edge20\" class=\"edge\">\n",
       "<title>35&#45;&gt;36</title>\n",
       "<path fill=\"none\" stroke=\"black\" d=\"M860.48,-71.5C854.22,-62.83 847.57,-53.6 841.62,-45.35\"/>\n",
       "<polygon fill=\"black\" stroke=\"black\" points=\"844.59,-43.49 835.91,-37.42 838.92,-47.58 844.59,-43.49\"/>\n",
       "</g>\n",
       "<!-- 39 -->\n",
       "<g id=\"node22\" class=\"node\">\n",
       "<title>39</title>\n",
       "<path fill=\"#c0c0c0\" stroke=\"black\" d=\"M909.62,-36C909.62,-36 879.62,-36 879.62,-36 873.62,-36 867.62,-30 867.62,-24 867.62,-24 867.62,-12 867.62,-12 867.62,-6 873.62,0 879.62,0 879.62,0 909.62,0 909.62,0 915.62,0 921.62,-6 921.62,-12 921.62,-12 921.62,-24 921.62,-24 921.62,-30 915.62,-36 909.62,-36\"/>\n",
       "<text text-anchor=\"middle\" x=\"894.62\" y=\"-12.2\" font-family=\"Helvetica,sans-Serif\" font-size=\"14.00\">(...)</text>\n",
       "</g>\n",
       "<!-- 35&#45;&gt;39 -->\n",
       "<g id=\"edge21\" class=\"edge\">\n",
       "<title>35&#45;&gt;39</title>\n",
       "<path fill=\"none\" stroke=\"black\" d=\"M888.52,-71.5C889.44,-63.58 890.42,-55.2 891.31,-47.52\"/>\n",
       "<polygon fill=\"black\" stroke=\"black\" points=\"894.77,-48.04 892.45,-37.7 887.82,-47.23 894.77,-48.04\"/>\n",
       "</g>\n",
       "<!-- 43 -->\n",
       "<g id=\"node24\" class=\"node\">\n",
       "<title>43</title>\n",
       "<path fill=\"#f5ccaf\" stroke=\"black\" d=\"M1112.75,-140C1112.75,-140 986.5,-140 986.5,-140 980.5,-140 974.5,-134 974.5,-128 974.5,-128 974.5,-84 974.5,-84 974.5,-78 980.5,-72 986.5,-72 986.5,-72 1112.75,-72 1112.75,-72 1118.75,-72 1124.75,-78 1124.75,-84 1124.75,-84 1124.75,-128 1124.75,-128 1124.75,-134 1118.75,-140 1112.75,-140\"/>\n",
       "<text text-anchor=\"start\" x=\"1014.38\" y=\"-122.7\" font-family=\"Helvetica,sans-Serif\" font-size=\"14.00\">rsi ≤ 95.989</text>\n",
       "<text text-anchor=\"start\" x=\"982.5\" y=\"-107.7\" font-family=\"Helvetica,sans-Serif\" font-size=\"14.00\">squared_error = 0.035</text>\n",
       "<text text-anchor=\"start\" x=\"1005\" y=\"-92.7\" font-family=\"Helvetica,sans-Serif\" font-size=\"14.00\">samples = 678</text>\n",
       "<text text-anchor=\"start\" x=\"1008.75\" y=\"-77.7\" font-family=\"Helvetica,sans-Serif\" font-size=\"14.00\">value = 0.115</text>\n",
       "</g>\n",
       "<!-- 42&#45;&gt;43 -->\n",
       "<g id=\"edge23\" class=\"edge\">\n",
       "<title>42&#45;&gt;43</title>\n",
       "<path fill=\"none\" stroke=\"black\" d=\"M1049.62,-175.6C1049.62,-168.03 1049.62,-159.87 1049.62,-151.9\"/>\n",
       "<polygon fill=\"black\" stroke=\"black\" points=\"1053.13,-151.99 1049.63,-141.99 1046.13,-151.99 1053.13,-151.99\"/>\n",
       "</g>\n",
       "<!-- 50 -->\n",
       "<g id=\"node27\" class=\"node\">\n",
       "<title>50</title>\n",
       "<path fill=\"#f0b58b\" stroke=\"black\" d=\"M1280.75,-140C1280.75,-140 1154.5,-140 1154.5,-140 1148.5,-140 1142.5,-134 1142.5,-128 1142.5,-128 1142.5,-84 1142.5,-84 1142.5,-78 1148.5,-72 1154.5,-72 1154.5,-72 1280.75,-72 1280.75,-72 1286.75,-72 1292.75,-78 1292.75,-84 1292.75,-84 1292.75,-128 1292.75,-128 1292.75,-134 1286.75,-140 1280.75,-140\"/>\n",
       "<text text-anchor=\"start\" x=\"1177.88\" y=\"-122.7\" font-family=\"Helvetica,sans-Serif\" font-size=\"14.00\">beta ≤ &#45;0.401</text>\n",
       "<text text-anchor=\"start\" x=\"1150.5\" y=\"-107.7\" font-family=\"Helvetica,sans-Serif\" font-size=\"14.00\">squared_error = 0.036</text>\n",
       "<text text-anchor=\"start\" x=\"1173\" y=\"-92.7\" font-family=\"Helvetica,sans-Serif\" font-size=\"14.00\">samples = 119</text>\n",
       "<text text-anchor=\"start\" x=\"1176.75\" y=\"-77.7\" font-family=\"Helvetica,sans-Serif\" font-size=\"14.00\">value = 0.278</text>\n",
       "</g>\n",
       "<!-- 42&#45;&gt;50 -->\n",
       "<g id=\"edge26\" class=\"edge\">\n",
       "<title>42&#45;&gt;50</title>\n",
       "<path fill=\"none\" stroke=\"black\" d=\"M1104.63,-175.6C1120.01,-166.27 1136.86,-156.04 1152.75,-146.39\"/>\n",
       "<polygon fill=\"black\" stroke=\"black\" points=\"1154.47,-149.44 1161.2,-141.26 1150.83,-143.46 1154.47,-149.44\"/>\n",
       "</g>\n",
       "<!-- 44 -->\n",
       "<g id=\"node25\" class=\"node\">\n",
       "<title>44</title>\n",
       "<path fill=\"#c0c0c0\" stroke=\"black\" d=\"M1022.62,-36C1022.62,-36 992.62,-36 992.62,-36 986.62,-36 980.62,-30 980.62,-24 980.62,-24 980.62,-12 980.62,-12 980.62,-6 986.62,0 992.62,0 992.62,0 1022.62,0 1022.62,0 1028.62,0 1034.62,-6 1034.62,-12 1034.62,-12 1034.62,-24 1034.62,-24 1034.62,-30 1028.62,-36 1022.62,-36\"/>\n",
       "<text text-anchor=\"middle\" x=\"1007.62\" y=\"-12.2\" font-family=\"Helvetica,sans-Serif\" font-size=\"14.00\">(...)</text>\n",
       "</g>\n",
       "<!-- 43&#45;&gt;44 -->\n",
       "<g id=\"edge24\" class=\"edge\">\n",
       "<title>43&#45;&gt;44</title>\n",
       "<path fill=\"none\" stroke=\"black\" d=\"M1033.27,-71.5C1029.21,-63.2 1024.92,-54.41 1021.02,-46.43\"/>\n",
       "<polygon fill=\"black\" stroke=\"black\" points=\"1024.22,-45.01 1016.69,-37.56 1017.93,-48.08 1024.22,-45.01\"/>\n",
       "</g>\n",
       "<!-- 47 -->\n",
       "<g id=\"node26\" class=\"node\">\n",
       "<title>47</title>\n",
       "<path fill=\"#c0c0c0\" stroke=\"black\" d=\"M1094.62,-36C1094.62,-36 1064.62,-36 1064.62,-36 1058.62,-36 1052.62,-30 1052.62,-24 1052.62,-24 1052.62,-12 1052.62,-12 1052.62,-6 1058.62,0 1064.62,0 1064.62,0 1094.62,0 1094.62,0 1100.62,0 1106.62,-6 1106.62,-12 1106.62,-12 1106.62,-24 1106.62,-24 1106.62,-30 1100.62,-36 1094.62,-36\"/>\n",
       "<text text-anchor=\"middle\" x=\"1079.62\" y=\"-12.2\" font-family=\"Helvetica,sans-Serif\" font-size=\"14.00\">(...)</text>\n",
       "</g>\n",
       "<!-- 43&#45;&gt;47 -->\n",
       "<g id=\"edge25\" class=\"edge\">\n",
       "<title>43&#45;&gt;47</title>\n",
       "<path fill=\"none\" stroke=\"black\" d=\"M1061.31,-71.5C1064.14,-63.39 1067.13,-54.8 1069.87,-46.98\"/>\n",
       "<polygon fill=\"black\" stroke=\"black\" points=\"1073.14,-48.22 1073.13,-37.63 1066.53,-45.91 1073.14,-48.22\"/>\n",
       "</g>\n",
       "<!-- 51 -->\n",
       "<g id=\"node28\" class=\"node\">\n",
       "<title>51</title>\n",
       "<path fill=\"#c0c0c0\" stroke=\"black\" d=\"M1196.62,-36C1196.62,-36 1166.62,-36 1166.62,-36 1160.62,-36 1154.62,-30 1154.62,-24 1154.62,-24 1154.62,-12 1154.62,-12 1154.62,-6 1160.62,0 1166.62,0 1166.62,0 1196.62,0 1196.62,0 1202.62,0 1208.62,-6 1208.62,-12 1208.62,-12 1208.62,-24 1208.62,-24 1208.62,-30 1202.62,-36 1196.62,-36\"/>\n",
       "<text text-anchor=\"middle\" x=\"1181.62\" y=\"-12.2\" font-family=\"Helvetica,sans-Serif\" font-size=\"14.00\">(...)</text>\n",
       "</g>\n",
       "<!-- 50&#45;&gt;51 -->\n",
       "<g id=\"edge27\" class=\"edge\">\n",
       "<title>50&#45;&gt;51</title>\n",
       "<path fill=\"none\" stroke=\"black\" d=\"M1203.6,-71.5C1200.17,-63.3 1196.53,-54.61 1193.22,-46.7\"/>\n",
       "<polygon fill=\"black\" stroke=\"black\" points=\"1196.5,-45.47 1189.41,-37.59 1190.04,-48.17 1196.5,-45.47\"/>\n",
       "</g>\n",
       "<!-- 54 -->\n",
       "<g id=\"node29\" class=\"node\">\n",
       "<title>54</title>\n",
       "<path fill=\"#c0c0c0\" stroke=\"black\" d=\"M1268.62,-36C1268.62,-36 1238.62,-36 1238.62,-36 1232.62,-36 1226.62,-30 1226.62,-24 1226.62,-24 1226.62,-12 1226.62,-12 1226.62,-6 1232.62,0 1238.62,0 1238.62,0 1268.62,0 1268.62,0 1274.62,0 1280.62,-6 1280.62,-12 1280.62,-12 1280.62,-24 1280.62,-24 1280.62,-30 1274.62,-36 1268.62,-36\"/>\n",
       "<text text-anchor=\"middle\" x=\"1253.62\" y=\"-12.2\" font-family=\"Helvetica,sans-Serif\" font-size=\"14.00\">(...)</text>\n",
       "</g>\n",
       "<!-- 50&#45;&gt;54 -->\n",
       "<g id=\"edge28\" class=\"edge\">\n",
       "<title>50&#45;&gt;54</title>\n",
       "<path fill=\"none\" stroke=\"black\" d=\"M1231.65,-71.5C1235.08,-63.3 1238.72,-54.61 1242.03,-46.7\"/>\n",
       "<polygon fill=\"black\" stroke=\"black\" points=\"1245.21,-48.17 1245.84,-37.59 1238.75,-45.47 1245.21,-48.17\"/>\n",
       "</g>\n",
       "</g>\n",
       "</svg>\n"
      ],
      "text/plain": [
       "<graphviz.sources.Source at 0x15856aee0>"
      ]
     },
     "execution_count": 49,
     "metadata": {},
     "output_type": "execute_result"
    }
   ],
   "source": [
    "out_file = results_path / 'reg_tree.dot'\n",
    "dot_data = export_graphviz(regression_tree,\n",
    "                           out_file=out_file.as_posix(),\n",
    "                           feature_names=X_train.columns,\n",
    "                           max_depth=3,\n",
    "                           filled=True,\n",
    "                           rounded=True,\n",
    "                           special_characters=True)\n",
    "if out_file is not None:\n",
    "    dot_data = Path(out_file).read_text()\n",
    "\n",
    "graphviz.Source(dot_data)"
   ]
  },
  {
   "cell_type": "markdown",
   "metadata": {},
   "source": [
    "### Evaluate Test Set"
   ]
  },
  {
   "cell_type": "code",
   "execution_count": 50,
   "metadata": {
    "ExecuteTime": {
     "end_time": "2021-04-16T00:33:35.355228Z",
     "start_time": "2021-04-16T00:33:35.333642Z"
    }
   },
   "outputs": [],
   "source": [
    "y_pred = regression_tree.predict(X_test)"
   ]
  },
  {
   "cell_type": "code",
   "execution_count": 51,
   "metadata": {
    "ExecuteTime": {
     "end_time": "2021-04-16T00:33:35.363324Z",
     "start_time": "2021-04-16T00:33:35.358601Z"
    }
   },
   "outputs": [
    {
     "data": {
      "text/plain": [
       "0.14973772230367813"
      ]
     },
     "execution_count": 51,
     "metadata": {},
     "output_type": "execute_result"
    }
   ],
   "source": [
    "np.sqrt(mean_squared_error(y_pred=y_pred, y_true=y_test))"
   ]
  },
  {
   "cell_type": "code",
   "execution_count": 52,
   "metadata": {
    "ExecuteTime": {
     "end_time": "2021-04-16T00:33:35.379470Z",
     "start_time": "2021-04-16T00:33:35.365615Z"
    }
   },
   "outputs": [
    {
     "name": "stdout",
     "output_type": "stream",
     "text": [
      "36.72 (p-value=0.00%)\n"
     ]
    }
   ],
   "source": [
    "r, p = spearmanr(y_pred, y_test)\n",
    "print(f'{r*100:.2f} (p-value={p:.2%})')"
   ]
  },
  {
   "cell_type": "markdown",
   "metadata": {},
   "source": [
    "## Classification Tree with all Features"
   ]
  },
  {
   "cell_type": "markdown",
   "metadata": {},
   "source": [
    "We will now train, visualize, and evaluate a classification tree with up to 5 consecutive splits using 80% of the samples for training to predict the remaining 20%. We are taking a shortcut here to simplify the illustration and use the built-in train_test_split, which does not protect against lookahead bias, as our custom iterator. The tree configuration implies up to $2^5=32$ leaf nodes that, on average in the balanced case, would contain over 4,300 of the training samples."
   ]
  },
  {
   "cell_type": "markdown",
   "metadata": {},
   "source": [
    "### Train-Test Split"
   ]
  },
  {
   "cell_type": "code",
   "execution_count": 53,
   "metadata": {
    "ExecuteTime": {
     "end_time": "2021-04-16T00:33:35.391198Z",
     "start_time": "2021-04-16T00:33:35.380409Z"
    },
    "scrolled": true
   },
   "outputs": [
    {
     "data": {
      "text/plain": [
       "target\n",
       "1    2761\n",
       "0    2089\n",
       "Name: count, dtype: int64"
      ]
     },
     "execution_count": 53,
     "metadata": {},
     "output_type": "execute_result"
    }
   ],
   "source": [
    "y_binary = (y>0).astype(int)\n",
    "y_binary.value_counts()"
   ]
  },
  {
   "cell_type": "code",
   "execution_count": 54,
   "metadata": {
    "ExecuteTime": {
     "end_time": "2021-04-16T00:33:35.421858Z",
     "start_time": "2021-04-16T00:33:35.392557Z"
    }
   },
   "outputs": [],
   "source": [
    "X_train, X_test, y_train, y_test = train_test_split(X, y_binary, test_size=0.2, random_state=42)"
   ]
  },
  {
   "cell_type": "code",
   "execution_count": 55,
   "metadata": {
    "ExecuteTime": {
     "end_time": "2021-04-16T00:33:35.425897Z",
     "start_time": "2021-04-16T00:33:35.423388Z"
    }
   },
   "outputs": [],
   "source": [
    "clf = DecisionTreeClassifier(criterion='gini',\n",
    "                             max_depth=5,\n",
    "                             random_state=42)"
   ]
  },
  {
   "cell_type": "code",
   "execution_count": 56,
   "metadata": {
    "ExecuteTime": {
     "end_time": "2021-04-16T00:33:36.216311Z",
     "start_time": "2021-04-16T00:33:35.427617Z"
    }
   },
   "outputs": [
    {
     "data": {
      "text/html": [
       "<style>#sk-container-id-6 {color: black;}#sk-container-id-6 pre{padding: 0;}#sk-container-id-6 div.sk-toggleable {background-color: white;}#sk-container-id-6 label.sk-toggleable__label {cursor: pointer;display: block;width: 100%;margin-bottom: 0;padding: 0.3em;box-sizing: border-box;text-align: center;}#sk-container-id-6 label.sk-toggleable__label-arrow:before {content: \"▸\";float: left;margin-right: 0.25em;color: #696969;}#sk-container-id-6 label.sk-toggleable__label-arrow:hover:before {color: black;}#sk-container-id-6 div.sk-estimator:hover label.sk-toggleable__label-arrow:before {color: black;}#sk-container-id-6 div.sk-toggleable__content {max-height: 0;max-width: 0;overflow: hidden;text-align: left;background-color: #f0f8ff;}#sk-container-id-6 div.sk-toggleable__content pre {margin: 0.2em;color: black;border-radius: 0.25em;background-color: #f0f8ff;}#sk-container-id-6 input.sk-toggleable__control:checked~div.sk-toggleable__content {max-height: 200px;max-width: 100%;overflow: auto;}#sk-container-id-6 input.sk-toggleable__control:checked~label.sk-toggleable__label-arrow:before {content: \"▾\";}#sk-container-id-6 div.sk-estimator input.sk-toggleable__control:checked~label.sk-toggleable__label {background-color: #d4ebff;}#sk-container-id-6 div.sk-label input.sk-toggleable__control:checked~label.sk-toggleable__label {background-color: #d4ebff;}#sk-container-id-6 input.sk-hidden--visually {border: 0;clip: rect(1px 1px 1px 1px);clip: rect(1px, 1px, 1px, 1px);height: 1px;margin: -1px;overflow: hidden;padding: 0;position: absolute;width: 1px;}#sk-container-id-6 div.sk-estimator {font-family: monospace;background-color: #f0f8ff;border: 1px dotted black;border-radius: 0.25em;box-sizing: border-box;margin-bottom: 0.5em;}#sk-container-id-6 div.sk-estimator:hover {background-color: #d4ebff;}#sk-container-id-6 div.sk-parallel-item::after {content: \"\";width: 100%;border-bottom: 1px solid gray;flex-grow: 1;}#sk-container-id-6 div.sk-label:hover label.sk-toggleable__label {background-color: #d4ebff;}#sk-container-id-6 div.sk-serial::before {content: \"\";position: absolute;border-left: 1px solid gray;box-sizing: border-box;top: 0;bottom: 0;left: 50%;z-index: 0;}#sk-container-id-6 div.sk-serial {display: flex;flex-direction: column;align-items: center;background-color: white;padding-right: 0.2em;padding-left: 0.2em;position: relative;}#sk-container-id-6 div.sk-item {position: relative;z-index: 1;}#sk-container-id-6 div.sk-parallel {display: flex;align-items: stretch;justify-content: center;background-color: white;position: relative;}#sk-container-id-6 div.sk-item::before, #sk-container-id-6 div.sk-parallel-item::before {content: \"\";position: absolute;border-left: 1px solid gray;box-sizing: border-box;top: 0;bottom: 0;left: 50%;z-index: -1;}#sk-container-id-6 div.sk-parallel-item {display: flex;flex-direction: column;z-index: 1;position: relative;background-color: white;}#sk-container-id-6 div.sk-parallel-item:first-child::after {align-self: flex-end;width: 50%;}#sk-container-id-6 div.sk-parallel-item:last-child::after {align-self: flex-start;width: 50%;}#sk-container-id-6 div.sk-parallel-item:only-child::after {width: 0;}#sk-container-id-6 div.sk-dashed-wrapped {border: 1px dashed gray;margin: 0 0.4em 0.5em 0.4em;box-sizing: border-box;padding-bottom: 0.4em;background-color: white;}#sk-container-id-6 div.sk-label label {font-family: monospace;font-weight: bold;display: inline-block;line-height: 1.2em;}#sk-container-id-6 div.sk-label-container {text-align: center;}#sk-container-id-6 div.sk-container {/* jupyter's `normalize.less` sets `[hidden] { display: none; }` but bootstrap.min.css set `[hidden] { display: none !important; }` so we also need the `!important` here to be able to override the default hidden behavior on the sphinx rendered scikit-learn.org. See: https://github.com/scikit-learn/scikit-learn/issues/21755 */display: inline-block !important;position: relative;}#sk-container-id-6 div.sk-text-repr-fallback {display: none;}</style><div id=\"sk-container-id-6\" class=\"sk-top-container\"><div class=\"sk-text-repr-fallback\"><pre>DecisionTreeClassifier(max_depth=5, random_state=42)</pre><b>In a Jupyter environment, please rerun this cell to show the HTML representation or trust the notebook. <br />On GitHub, the HTML representation is unable to render, please try loading this page with nbviewer.org.</b></div><div class=\"sk-container\" hidden><div class=\"sk-item\"><div class=\"sk-estimator sk-toggleable\"><input class=\"sk-toggleable__control sk-hidden--visually\" id=\"sk-estimator-id-6\" type=\"checkbox\" checked><label for=\"sk-estimator-id-6\" class=\"sk-toggleable__label sk-toggleable__label-arrow\">DecisionTreeClassifier</label><div class=\"sk-toggleable__content\"><pre>DecisionTreeClassifier(max_depth=5, random_state=42)</pre></div></div></div></div></div>"
      ],
      "text/plain": [
       "DecisionTreeClassifier(max_depth=5, random_state=42)"
      ]
     },
     "execution_count": 56,
     "metadata": {},
     "output_type": "execute_result"
    }
   ],
   "source": [
    "clf.fit(X=X_train, y=y_train)"
   ]
  },
  {
   "cell_type": "markdown",
   "metadata": {},
   "source": [
    "### Plot Tree"
   ]
  },
  {
   "cell_type": "code",
   "execution_count": 57,
   "metadata": {
    "ExecuteTime": {
     "end_time": "2021-04-16T00:33:36.260644Z",
     "start_time": "2021-04-16T00:33:36.219967Z"
    },
    "scrolled": false
   },
   "outputs": [
    {
     "data": {
      "image/svg+xml": [
       "<?xml version=\"1.0\" encoding=\"UTF-8\" standalone=\"no\"?>\n",
       "<!DOCTYPE svg PUBLIC \"-//W3C//DTD SVG 1.1//EN\"\n",
       " \"http://www.w3.org/Graphics/SVG/1.1/DTD/svg11.dtd\">\n",
       "<!-- Generated by graphviz version 11.0.0 (0)\n",
       " -->\n",
       "<!-- Title: Tree Pages: 1 -->\n",
       "<svg width=\"1260pt\" height=\"520pt\"\n",
       " viewBox=\"0.00 0.00 1260.00 520.00\" xmlns=\"http://www.w3.org/2000/svg\" xmlns:xlink=\"http://www.w3.org/1999/xlink\">\n",
       "<g id=\"graph0\" class=\"graph\" transform=\"scale(1 1) rotate(0) translate(4 516)\">\n",
       "<title>Tree</title>\n",
       "<polygon fill=\"white\" stroke=\"none\" points=\"-4,4 -4,-516 1256,-516 1256,4 -4,4\"/>\n",
       "<!-- 0 -->\n",
       "<g id=\"node1\" class=\"node\">\n",
       "<title>0</title>\n",
       "<path fill=\"#cee7f9\" stroke=\"black\" d=\"M720.5,-512C720.5,-512 605.5,-512 605.5,-512 599.5,-512 593.5,-506 593.5,-500 593.5,-500 593.5,-441 593.5,-441 593.5,-435 599.5,-429 605.5,-429 605.5,-429 720.5,-429 720.5,-429 726.5,-429 732.5,-435 732.5,-441 732.5,-441 732.5,-500 732.5,-500 732.5,-506 726.5,-512 720.5,-512\"/>\n",
       "<text text-anchor=\"start\" x=\"627\" y=\"-494.7\" font-family=\"Helvetica,sans-Serif\" font-size=\"14.00\">month ≤ 2.5</text>\n",
       "<text text-anchor=\"start\" x=\"631.5\" y=\"-479.7\" font-family=\"Helvetica,sans-Serif\" font-size=\"14.00\">gini = 0.49</text>\n",
       "<text text-anchor=\"start\" x=\"614.62\" y=\"-464.7\" font-family=\"Helvetica,sans-Serif\" font-size=\"14.00\">samples = 3880</text>\n",
       "<text text-anchor=\"start\" x=\"601.5\" y=\"-449.7\" font-family=\"Helvetica,sans-Serif\" font-size=\"14.00\">value = [1663, 2217]</text>\n",
       "<text text-anchor=\"start\" x=\"631.12\" y=\"-434.7\" font-family=\"Helvetica,sans-Serif\" font-size=\"14.00\">class = Up</text>\n",
       "</g>\n",
       "<!-- 1 -->\n",
       "<g id=\"node2\" class=\"node\">\n",
       "<title>1</title>\n",
       "<path fill=\"#f1bd97\" stroke=\"black\" d=\"M550,-393C550,-393 450,-393 450,-393 444,-393 438,-387 438,-381 438,-381 438,-322 438,-322 438,-316 444,-310 450,-310 450,-310 550,-310 550,-310 556,-310 562,-316 562,-322 562,-322 562,-381 562,-381 562,-387 556,-393 550,-393\"/>\n",
       "<text text-anchor=\"start\" x=\"458.75\" y=\"-375.7\" font-family=\"Helvetica,sans-Serif\" font-size=\"14.00\">year ≤ 2017.5</text>\n",
       "<text text-anchor=\"start\" x=\"464.75\" y=\"-360.7\" font-family=\"Helvetica,sans-Serif\" font-size=\"14.00\">gini = 0.436</text>\n",
       "<text text-anchor=\"start\" x=\"455.38\" y=\"-345.7\" font-family=\"Helvetica,sans-Serif\" font-size=\"14.00\">samples = 613</text>\n",
       "<text text-anchor=\"start\" x=\"446\" y=\"-330.7\" font-family=\"Helvetica,sans-Serif\" font-size=\"14.00\">value = [416, 197]</text>\n",
       "<text text-anchor=\"start\" x=\"459.5\" y=\"-315.7\" font-family=\"Helvetica,sans-Serif\" font-size=\"14.00\">class = Down</text>\n",
       "</g>\n",
       "<!-- 0&#45;&gt;1 -->\n",
       "<g id=\"edge1\" class=\"edge\">\n",
       "<title>0&#45;&gt;1</title>\n",
       "<path fill=\"none\" stroke=\"black\" d=\"M605.99,-428.58C593.09,-419.32 579.28,-409.41 566.04,-399.9\"/>\n",
       "<polygon fill=\"black\" stroke=\"black\" points=\"568.37,-397.27 558.21,-394.28 564.29,-402.96 568.37,-397.27\"/>\n",
       "<text text-anchor=\"middle\" x=\"561.03\" y=\"-412.27\" font-family=\"Helvetica,sans-Serif\" font-size=\"14.00\">True</text>\n",
       "</g>\n",
       "<!-- 30 -->\n",
       "<g id=\"node17\" class=\"node\">\n",
       "<title>30</title>\n",
       "<path fill=\"#b3d9f5\" stroke=\"black\" d=\"M873.88,-393C873.88,-393 740.12,-393 740.12,-393 734.12,-393 728.12,-387 728.12,-381 728.12,-381 728.12,-322 728.12,-322 728.12,-316 734.12,-310 740.12,-310 740.12,-310 873.88,-310 873.88,-310 879.88,-310 885.88,-316 885.88,-322 885.88,-322 885.88,-381 885.88,-381 885.88,-387 879.88,-393 873.88,-393\"/>\n",
       "<text text-anchor=\"start\" x=\"736.12\" y=\"-375.7\" font-family=\"Helvetica,sans-Serif\" font-size=\"14.00\">money_volume ≤ 0.004</text>\n",
       "<text text-anchor=\"start\" x=\"771.75\" y=\"-360.7\" font-family=\"Helvetica,sans-Serif\" font-size=\"14.00\">gini = 0.472</text>\n",
       "<text text-anchor=\"start\" x=\"758.62\" y=\"-345.7\" font-family=\"Helvetica,sans-Serif\" font-size=\"14.00\">samples = 3267</text>\n",
       "<text text-anchor=\"start\" x=\"745.5\" y=\"-330.7\" font-family=\"Helvetica,sans-Serif\" font-size=\"14.00\">value = [1247, 2020]</text>\n",
       "<text text-anchor=\"start\" x=\"775.12\" y=\"-315.7\" font-family=\"Helvetica,sans-Serif\" font-size=\"14.00\">class = Up</text>\n",
       "</g>\n",
       "<!-- 0&#45;&gt;30 -->\n",
       "<g id=\"edge16\" class=\"edge\">\n",
       "<title>0&#45;&gt;30</title>\n",
       "<path fill=\"none\" stroke=\"black\" d=\"M713.36,-428.58C724.61,-419.44 736.63,-409.67 748.18,-400.29\"/>\n",
       "<polygon fill=\"black\" stroke=\"black\" points=\"750.18,-403.18 755.73,-394.15 745.76,-397.74 750.18,-403.18\"/>\n",
       "<text text-anchor=\"middle\" x=\"754.33\" y=\"-412.27\" font-family=\"Helvetica,sans-Serif\" font-size=\"14.00\">False</text>\n",
       "</g>\n",
       "<!-- 2 -->\n",
       "<g id=\"node3\" class=\"node\">\n",
       "<title>2</title>\n",
       "<path fill=\"#fcfdff\" stroke=\"black\" d=\"M301.75,-274C301.75,-274 176.25,-274 176.25,-274 170.25,-274 164.25,-268 164.25,-262 164.25,-262 164.25,-203 164.25,-203 164.25,-197 170.25,-191 176.25,-191 176.25,-191 301.75,-191 301.75,-191 307.75,-191 313.75,-197 313.75,-203 313.75,-203 313.75,-262 313.75,-262 313.75,-268 307.75,-274 301.75,-274\"/>\n",
       "<text text-anchor=\"start\" x=\"172.25\" y=\"-256.7\" font-family=\"Helvetica,sans-Serif\" font-size=\"14.00\">momentum_3 ≤ 0.019</text>\n",
       "<text text-anchor=\"start\" x=\"211.25\" y=\"-241.7\" font-family=\"Helvetica,sans-Serif\" font-size=\"14.00\">gini = 0.5</text>\n",
       "<text text-anchor=\"start\" x=\"194.38\" y=\"-226.7\" font-family=\"Helvetica,sans-Serif\" font-size=\"14.00\">samples = 117</text>\n",
       "<text text-anchor=\"start\" x=\"192.5\" y=\"-211.7\" font-family=\"Helvetica,sans-Serif\" font-size=\"14.00\">value = [58, 59]</text>\n",
       "<text text-anchor=\"start\" x=\"207.12\" y=\"-196.7\" font-family=\"Helvetica,sans-Serif\" font-size=\"14.00\">class = Up</text>\n",
       "</g>\n",
       "<!-- 1&#45;&gt;2 -->\n",
       "<g id=\"edge2\" class=\"edge\">\n",
       "<title>1&#45;&gt;2</title>\n",
       "<path fill=\"none\" stroke=\"black\" d=\"M437.82,-322.62C403.91,-307.43 361.44,-288.39 324.47,-271.81\"/>\n",
       "<polygon fill=\"black\" stroke=\"black\" points=\"326.13,-268.72 315.58,-267.83 323.27,-275.11 326.13,-268.72\"/>\n",
       "</g>\n",
       "<!-- 15 -->\n",
       "<g id=\"node10\" class=\"node\">\n",
       "<title>15</title>\n",
       "<path fill=\"#efb285\" stroke=\"black\" d=\"M550,-274C550,-274 450,-274 450,-274 444,-274 438,-268 438,-262 438,-262 438,-203 438,-203 438,-197 444,-191 450,-191 450,-191 550,-191 550,-191 556,-191 562,-197 562,-203 562,-203 562,-262 562,-262 562,-268 556,-274 550,-274\"/>\n",
       "<text text-anchor=\"start\" x=\"458.75\" y=\"-256.7\" font-family=\"Helvetica,sans-Serif\" font-size=\"14.00\">year ≤ 2021.5</text>\n",
       "<text text-anchor=\"start\" x=\"464.75\" y=\"-241.7\" font-family=\"Helvetica,sans-Serif\" font-size=\"14.00\">gini = 0.402</text>\n",
       "<text text-anchor=\"start\" x=\"455.38\" y=\"-226.7\" font-family=\"Helvetica,sans-Serif\" font-size=\"14.00\">samples = 496</text>\n",
       "<text text-anchor=\"start\" x=\"446\" y=\"-211.7\" font-family=\"Helvetica,sans-Serif\" font-size=\"14.00\">value = [358, 138]</text>\n",
       "<text text-anchor=\"start\" x=\"459.5\" y=\"-196.7\" font-family=\"Helvetica,sans-Serif\" font-size=\"14.00\">class = Down</text>\n",
       "</g>\n",
       "<!-- 1&#45;&gt;15 -->\n",
       "<g id=\"edge9\" class=\"edge\">\n",
       "<title>1&#45;&gt;15</title>\n",
       "<path fill=\"none\" stroke=\"black\" d=\"M500,-309.58C500,-301.79 500,-293.53 500,-285.45\"/>\n",
       "<polygon fill=\"black\" stroke=\"black\" points=\"503.5,-285.71 500,-275.71 496.5,-285.71 503.5,-285.71\"/>\n",
       "</g>\n",
       "<!-- 3 -->\n",
       "<g id=\"node4\" class=\"node\">\n",
       "<title>3</title>\n",
       "<path fill=\"#f5cfb4\" stroke=\"black\" d=\"M105.5,-155C105.5,-155 20.5,-155 20.5,-155 14.5,-155 8.5,-149 8.5,-143 8.5,-143 8.5,-84 8.5,-84 8.5,-78 14.5,-72 20.5,-72 20.5,-72 105.5,-72 105.5,-72 111.5,-72 117.5,-78 117.5,-84 117.5,-84 117.5,-143 117.5,-143 117.5,-149 111.5,-155 105.5,-155\"/>\n",
       "<text text-anchor=\"start\" x=\"27.38\" y=\"-137.7\" font-family=\"Helvetica,sans-Serif\" font-size=\"14.00\">ppo ≤ 2.048</text>\n",
       "<text text-anchor=\"start\" x=\"27.75\" y=\"-122.7\" font-family=\"Helvetica,sans-Serif\" font-size=\"14.00\">gini = 0.473</text>\n",
       "<text text-anchor=\"start\" x=\"22.12\" y=\"-107.7\" font-family=\"Helvetica,sans-Serif\" font-size=\"14.00\">samples = 86</text>\n",
       "<text text-anchor=\"start\" x=\"16.5\" y=\"-92.7\" font-family=\"Helvetica,sans-Serif\" font-size=\"14.00\">value = [53, 33]</text>\n",
       "<text text-anchor=\"start\" x=\"22.5\" y=\"-77.7\" font-family=\"Helvetica,sans-Serif\" font-size=\"14.00\">class = Down</text>\n",
       "</g>\n",
       "<!-- 2&#45;&gt;3 -->\n",
       "<g id=\"edge3\" class=\"edge\">\n",
       "<title>2&#45;&gt;3</title>\n",
       "<path fill=\"none\" stroke=\"black\" d=\"M177.44,-190.58C161.2,-179.78 143.64,-168.1 127.26,-157.22\"/>\n",
       "<polygon fill=\"black\" stroke=\"black\" points=\"129.29,-154.37 119.03,-151.75 125.42,-160.2 129.29,-154.37\"/>\n",
       "</g>\n",
       "<!-- 10 -->\n",
       "<g id=\"node7\" class=\"node\">\n",
       "<title>10</title>\n",
       "<path fill=\"#5fb0ea\" stroke=\"black\" d=\"M330.62,-155C330.62,-155 147.38,-155 147.38,-155 141.38,-155 135.38,-149 135.38,-143 135.38,-143 135.38,-84 135.38,-84 135.38,-78 141.38,-72 147.38,-72 147.38,-72 330.62,-72 330.62,-72 336.62,-72 342.62,-78 342.62,-84 342.62,-84 342.62,-143 342.62,-143 342.62,-149 336.62,-155 330.62,-155\"/>\n",
       "<text text-anchor=\"start\" x=\"143.38\" y=\"-137.7\" font-family=\"Helvetica,sans-Serif\" font-size=\"14.00\">sector_Consumer Cyclical ≤ 0.5</text>\n",
       "<text text-anchor=\"start\" x=\"203.75\" y=\"-122.7\" font-family=\"Helvetica,sans-Serif\" font-size=\"14.00\">gini = 0.271</text>\n",
       "<text text-anchor=\"start\" x=\"198.12\" y=\"-107.7\" font-family=\"Helvetica,sans-Serif\" font-size=\"14.00\">samples = 31</text>\n",
       "<text text-anchor=\"start\" x=\"196.25\" y=\"-92.7\" font-family=\"Helvetica,sans-Serif\" font-size=\"14.00\">value = [5, 26]</text>\n",
       "<text text-anchor=\"start\" x=\"207.12\" y=\"-77.7\" font-family=\"Helvetica,sans-Serif\" font-size=\"14.00\">class = Up</text>\n",
       "</g>\n",
       "<!-- 2&#45;&gt;10 -->\n",
       "<g id=\"edge6\" class=\"edge\">\n",
       "<title>2&#45;&gt;10</title>\n",
       "<path fill=\"none\" stroke=\"black\" d=\"M239,-190.58C239,-182.79 239,-174.53 239,-166.45\"/>\n",
       "<polygon fill=\"black\" stroke=\"black\" points=\"242.5,-166.71 239,-156.71 235.5,-166.71 242.5,-166.71\"/>\n",
       "</g>\n",
       "<!-- 4 -->\n",
       "<g id=\"node5\" class=\"node\">\n",
       "<title>4</title>\n",
       "<path fill=\"#c0c0c0\" stroke=\"black\" d=\"M42,-36C42,-36 12,-36 12,-36 6,-36 0,-30 0,-24 0,-24 0,-12 0,-12 0,-6 6,0 12,0 12,0 42,0 42,0 48,0 54,-6 54,-12 54,-12 54,-24 54,-24 54,-30 48,-36 42,-36\"/>\n",
       "<text text-anchor=\"middle\" x=\"27\" y=\"-12.2\" font-family=\"Helvetica,sans-Serif\" font-size=\"14.00\">(...)</text>\n",
       "</g>\n",
       "<!-- 3&#45;&gt;4 -->\n",
       "<g id=\"edge4\" class=\"edge\">\n",
       "<title>3&#45;&gt;4</title>\n",
       "<path fill=\"none\" stroke=\"black\" d=\"M47.31,-71.76C44.11,-63.43 40.8,-54.84 37.81,-47.07\"/>\n",
       "<polygon fill=\"black\" stroke=\"black\" points=\"41.1,-45.89 34.25,-37.82 34.57,-48.41 41.1,-45.89\"/>\n",
       "</g>\n",
       "<!-- 7 -->\n",
       "<g id=\"node6\" class=\"node\">\n",
       "<title>7</title>\n",
       "<path fill=\"#c0c0c0\" stroke=\"black\" d=\"M114,-36C114,-36 84,-36 84,-36 78,-36 72,-30 72,-24 72,-24 72,-12 72,-12 72,-6 78,0 84,0 84,0 114,0 114,0 120,0 126,-6 126,-12 126,-12 126,-24 126,-24 126,-30 120,-36 114,-36\"/>\n",
       "<text text-anchor=\"middle\" x=\"99\" y=\"-12.2\" font-family=\"Helvetica,sans-Serif\" font-size=\"14.00\">(...)</text>\n",
       "</g>\n",
       "<!-- 3&#45;&gt;7 -->\n",
       "<g id=\"edge5\" class=\"edge\">\n",
       "<title>3&#45;&gt;7</title>\n",
       "<path fill=\"none\" stroke=\"black\" d=\"M78.69,-71.76C81.89,-63.43 85.2,-54.84 88.19,-47.07\"/>\n",
       "<polygon fill=\"black\" stroke=\"black\" points=\"91.43,-48.41 91.75,-37.82 84.9,-45.89 91.43,-48.41\"/>\n",
       "</g>\n",
       "<!-- 11 -->\n",
       "<g id=\"node8\" class=\"node\">\n",
       "<title>11</title>\n",
       "<path fill=\"#c0c0c0\" stroke=\"black\" d=\"M211,-36C211,-36 181,-36 181,-36 175,-36 169,-30 169,-24 169,-24 169,-12 169,-12 169,-6 175,0 181,0 181,0 211,0 211,0 217,0 223,-6 223,-12 223,-12 223,-24 223,-24 223,-30 217,-36 211,-36\"/>\n",
       "<text text-anchor=\"middle\" x=\"196\" y=\"-12.2\" font-family=\"Helvetica,sans-Serif\" font-size=\"14.00\">(...)</text>\n",
       "</g>\n",
       "<!-- 10&#45;&gt;11 -->\n",
       "<g id=\"edge7\" class=\"edge\">\n",
       "<title>10&#45;&gt;11</title>\n",
       "<path fill=\"none\" stroke=\"black\" d=\"M220.26,-71.76C216.39,-63.33 212.39,-54.64 208.78,-46.8\"/>\n",
       "<polygon fill=\"black\" stroke=\"black\" points=\"212,-45.4 204.64,-37.78 205.64,-48.33 212,-45.4\"/>\n",
       "</g>\n",
       "<!-- 14 -->\n",
       "<g id=\"node9\" class=\"node\">\n",
       "<title>14</title>\n",
       "<path fill=\"#c0c0c0\" stroke=\"black\" d=\"M283,-36C283,-36 253,-36 253,-36 247,-36 241,-30 241,-24 241,-24 241,-12 241,-12 241,-6 247,0 253,0 253,0 283,0 283,0 289,0 295,-6 295,-12 295,-12 295,-24 295,-24 295,-30 289,-36 283,-36\"/>\n",
       "<text text-anchor=\"middle\" x=\"268\" y=\"-12.2\" font-family=\"Helvetica,sans-Serif\" font-size=\"14.00\">(...)</text>\n",
       "</g>\n",
       "<!-- 10&#45;&gt;14 -->\n",
       "<g id=\"edge8\" class=\"edge\">\n",
       "<title>10&#45;&gt;14</title>\n",
       "<path fill=\"none\" stroke=\"black\" d=\"M251.64,-71.76C254.19,-63.53 256.82,-55.04 259.21,-47.34\"/>\n",
       "<polygon fill=\"black\" stroke=\"black\" points=\"262.53,-48.44 262.15,-37.85 255.85,-46.36 262.53,-48.44\"/>\n",
       "</g>\n",
       "<!-- 16 -->\n",
       "<g id=\"node11\" class=\"node\">\n",
       "<title>16</title>\n",
       "<path fill=\"#eb9f69\" stroke=\"black\" d=\"M465.25,-155C465.25,-155 372.75,-155 372.75,-155 366.75,-155 360.75,-149 360.75,-143 360.75,-143 360.75,-84 360.75,-84 360.75,-78 366.75,-72 372.75,-72 372.75,-72 465.25,-72 465.25,-72 471.25,-72 477.25,-78 477.25,-84 477.25,-84 477.25,-143 477.25,-143 477.25,-149 471.25,-155 465.25,-155\"/>\n",
       "<text text-anchor=\"start\" x=\"370.62\" y=\"-137.7\" font-family=\"Helvetica,sans-Serif\" font-size=\"14.00\">bb_high ≤ 2.607</text>\n",
       "<text text-anchor=\"start\" x=\"383.75\" y=\"-122.7\" font-family=\"Helvetica,sans-Serif\" font-size=\"14.00\">gini = 0.313</text>\n",
       "<text text-anchor=\"start\" x=\"374.38\" y=\"-107.7\" font-family=\"Helvetica,sans-Serif\" font-size=\"14.00\">samples = 324</text>\n",
       "<text text-anchor=\"start\" x=\"368.75\" y=\"-92.7\" font-family=\"Helvetica,sans-Serif\" font-size=\"14.00\">value = [261, 63]</text>\n",
       "<text text-anchor=\"start\" x=\"378.5\" y=\"-77.7\" font-family=\"Helvetica,sans-Serif\" font-size=\"14.00\">class = Down</text>\n",
       "</g>\n",
       "<!-- 15&#45;&gt;16 -->\n",
       "<g id=\"edge10\" class=\"edge\">\n",
       "<title>15&#45;&gt;16</title>\n",
       "<path fill=\"none\" stroke=\"black\" d=\"M471.67,-190.58C465.84,-182.16 459.64,-173.2 453.62,-164.5\"/>\n",
       "<polygon fill=\"black\" stroke=\"black\" points=\"456.61,-162.67 448.04,-156.44 450.85,-166.66 456.61,-162.67\"/>\n",
       "</g>\n",
       "<!-- 23 -->\n",
       "<g id=\"node14\" class=\"node\">\n",
       "<title>23</title>\n",
       "<path fill=\"#f9e2d2\" stroke=\"black\" d=\"M660.25,-155C660.25,-155 507.75,-155 507.75,-155 501.75,-155 495.75,-149 495.75,-143 495.75,-143 495.75,-84 495.75,-84 495.75,-78 501.75,-72 507.75,-72 507.75,-72 660.25,-72 660.25,-72 666.25,-72 672.25,-78 672.25,-84 672.25,-84 672.25,-143 672.25,-143 672.25,-149 666.25,-155 660.25,-155\"/>\n",
       "<text text-anchor=\"start\" x=\"503.75\" y=\"-137.7\" font-family=\"Helvetica,sans-Serif\" font-size=\"14.00\">momentum_3_12 ≤ &#45;0.054</text>\n",
       "<text text-anchor=\"start\" x=\"548.75\" y=\"-122.7\" font-family=\"Helvetica,sans-Serif\" font-size=\"14.00\">gini = 0.492</text>\n",
       "<text text-anchor=\"start\" x=\"539.38\" y=\"-107.7\" font-family=\"Helvetica,sans-Serif\" font-size=\"14.00\">samples = 172</text>\n",
       "<text text-anchor=\"start\" x=\"537.5\" y=\"-92.7\" font-family=\"Helvetica,sans-Serif\" font-size=\"14.00\">value = [97, 75]</text>\n",
       "<text text-anchor=\"start\" x=\"543.5\" y=\"-77.7\" font-family=\"Helvetica,sans-Serif\" font-size=\"14.00\">class = Down</text>\n",
       "</g>\n",
       "<!-- 15&#45;&gt;23 -->\n",
       "<g id=\"edge13\" class=\"edge\">\n",
       "<title>15&#45;&gt;23</title>\n",
       "<path fill=\"none\" stroke=\"black\" d=\"M529.38,-190.58C535.42,-182.16 541.85,-173.2 548.1,-164.5\"/>\n",
       "<polygon fill=\"black\" stroke=\"black\" points=\"550.91,-166.59 553.9,-156.43 545.22,-162.51 550.91,-166.59\"/>\n",
       "</g>\n",
       "<!-- 17 -->\n",
       "<g id=\"node12\" class=\"node\">\n",
       "<title>17</title>\n",
       "<path fill=\"#c0c0c0\" stroke=\"black\" d=\"M381,-36C381,-36 351,-36 351,-36 345,-36 339,-30 339,-24 339,-24 339,-12 339,-12 339,-6 345,0 351,0 351,0 381,0 381,0 387,0 393,-6 393,-12 393,-12 393,-24 393,-24 393,-30 387,-36 381,-36\"/>\n",
       "<text text-anchor=\"middle\" x=\"366\" y=\"-12.2\" font-family=\"Helvetica,sans-Serif\" font-size=\"14.00\">(...)</text>\n",
       "</g>\n",
       "<!-- 16&#45;&gt;17 -->\n",
       "<g id=\"edge11\" class=\"edge\">\n",
       "<title>16&#45;&gt;17</title>\n",
       "<path fill=\"none\" stroke=\"black\" d=\"M395.91,-71.76C391.02,-63.14 385.97,-54.24 381.45,-46.26\"/>\n",
       "<polygon fill=\"black\" stroke=\"black\" points=\"384.59,-44.7 376.61,-37.72 378.5,-48.15 384.59,-44.7\"/>\n",
       "</g>\n",
       "<!-- 20 -->\n",
       "<g id=\"node13\" class=\"node\">\n",
       "<title>20</title>\n",
       "<path fill=\"#c0c0c0\" stroke=\"black\" d=\"M453,-36C453,-36 423,-36 423,-36 417,-36 411,-30 411,-24 411,-24 411,-12 411,-12 411,-6 417,0 423,0 423,0 453,0 453,0 459,0 465,-6 465,-12 465,-12 465,-24 465,-24 465,-30 459,-36 453,-36\"/>\n",
       "<text text-anchor=\"middle\" x=\"438\" y=\"-12.2\" font-family=\"Helvetica,sans-Serif\" font-size=\"14.00\">(...)</text>\n",
       "</g>\n",
       "<!-- 16&#45;&gt;20 -->\n",
       "<g id=\"edge12\" class=\"edge\">\n",
       "<title>16&#45;&gt;20</title>\n",
       "<path fill=\"none\" stroke=\"black\" d=\"M427.28,-71.76C428.93,-63.62 430.64,-55.24 432.19,-47.61\"/>\n",
       "<polygon fill=\"black\" stroke=\"black\" points=\"435.6,-48.39 434.16,-37.89 428.74,-46.99 435.6,-48.39\"/>\n",
       "</g>\n",
       "<!-- 24 -->\n",
       "<g id=\"node15\" class=\"node\">\n",
       "<title>24</title>\n",
       "<path fill=\"#c0c0c0\" stroke=\"black\" d=\"M535,-36C535,-36 505,-36 505,-36 499,-36 493,-30 493,-24 493,-24 493,-12 493,-12 493,-6 499,0 505,0 505,0 535,0 535,0 541,0 547,-6 547,-12 547,-12 547,-24 547,-24 547,-30 541,-36 535,-36\"/>\n",
       "<text text-anchor=\"middle\" x=\"520\" y=\"-12.2\" font-family=\"Helvetica,sans-Serif\" font-size=\"14.00\">(...)</text>\n",
       "</g>\n",
       "<!-- 23&#45;&gt;24 -->\n",
       "<g id=\"edge14\" class=\"edge\">\n",
       "<title>23&#45;&gt;24</title>\n",
       "<path fill=\"none\" stroke=\"black\" d=\"M556.11,-71.76C550.08,-62.94 543.85,-53.84 538.29,-45.72\"/>\n",
       "<polygon fill=\"black\" stroke=\"black\" points=\"541.31,-43.93 532.77,-37.65 535.53,-47.88 541.31,-43.93\"/>\n",
       "</g>\n",
       "<!-- 27 -->\n",
       "<g id=\"node16\" class=\"node\">\n",
       "<title>27</title>\n",
       "<path fill=\"#c0c0c0\" stroke=\"black\" d=\"M607,-36C607,-36 577,-36 577,-36 571,-36 565,-30 565,-24 565,-24 565,-12 565,-12 565,-6 571,0 577,0 577,0 607,0 607,0 613,0 619,-6 619,-12 619,-12 619,-24 619,-24 619,-30 613,-36 607,-36\"/>\n",
       "<text text-anchor=\"middle\" x=\"592\" y=\"-12.2\" font-family=\"Helvetica,sans-Serif\" font-size=\"14.00\">(...)</text>\n",
       "</g>\n",
       "<!-- 23&#45;&gt;27 -->\n",
       "<g id=\"edge15\" class=\"edge\">\n",
       "<title>23&#45;&gt;27</title>\n",
       "<path fill=\"none\" stroke=\"black\" d=\"M587.49,-71.76C588.18,-63.62 588.9,-55.24 589.55,-47.61\"/>\n",
       "<polygon fill=\"black\" stroke=\"black\" points=\"593.02,-48.18 590.38,-37.91 586.04,-47.58 593.02,-48.18\"/>\n",
       "</g>\n",
       "<!-- 31 -->\n",
       "<g id=\"node18\" class=\"node\">\n",
       "<title>31</title>\n",
       "<path fill=\"#ea985d\" stroke=\"black\" d=\"M849.5,-274C849.5,-274 764.5,-274 764.5,-274 758.5,-274 752.5,-268 752.5,-262 752.5,-262 752.5,-203 752.5,-203 752.5,-197 758.5,-191 764.5,-191 764.5,-191 849.5,-191 849.5,-191 855.5,-191 861.5,-197 861.5,-203 861.5,-203 861.5,-262 861.5,-262 861.5,-268 855.5,-274 849.5,-274\"/>\n",
       "<text text-anchor=\"start\" x=\"765\" y=\"-256.7\" font-family=\"Helvetica,sans-Serif\" font-size=\"14.00\">CMA ≤ &#45;0.279</text>\n",
       "<text text-anchor=\"start\" x=\"771.75\" y=\"-241.7\" font-family=\"Helvetica,sans-Serif\" font-size=\"14.00\">gini = 0.262</text>\n",
       "<text text-anchor=\"start\" x=\"762.38\" y=\"-226.7\" font-family=\"Helvetica,sans-Serif\" font-size=\"14.00\">samples = 103</text>\n",
       "<text text-anchor=\"start\" x=\"760.5\" y=\"-211.7\" font-family=\"Helvetica,sans-Serif\" font-size=\"14.00\">value = [87, 16]</text>\n",
       "<text text-anchor=\"start\" x=\"766.5\" y=\"-196.7\" font-family=\"Helvetica,sans-Serif\" font-size=\"14.00\">class = Down</text>\n",
       "</g>\n",
       "<!-- 30&#45;&gt;31 -->\n",
       "<g id=\"edge17\" class=\"edge\">\n",
       "<title>30&#45;&gt;31</title>\n",
       "<path fill=\"none\" stroke=\"black\" d=\"M807,-309.58C807,-301.79 807,-293.53 807,-285.45\"/>\n",
       "<polygon fill=\"black\" stroke=\"black\" points=\"810.5,-285.71 807,-275.71 803.5,-285.71 810.5,-285.71\"/>\n",
       "</g>\n",
       "<!-- 44 -->\n",
       "<g id=\"node25\" class=\"node\">\n",
       "<title>44</title>\n",
       "<path fill=\"#acd6f4\" stroke=\"black\" d=\"M1068.5,-274C1068.5,-274 953.5,-274 953.5,-274 947.5,-274 941.5,-268 941.5,-262 941.5,-262 941.5,-203 941.5,-203 941.5,-197 947.5,-191 953.5,-191 953.5,-191 1068.5,-191 1068.5,-191 1074.5,-191 1080.5,-197 1080.5,-203 1080.5,-203 1080.5,-262 1080.5,-262 1080.5,-268 1074.5,-274 1068.5,-274\"/>\n",
       "<text text-anchor=\"start\" x=\"969.75\" y=\"-256.7\" font-family=\"Helvetica,sans-Serif\" font-size=\"14.00\">year ≤ 2020.5</text>\n",
       "<text text-anchor=\"start\" x=\"975.75\" y=\"-241.7\" font-family=\"Helvetica,sans-Serif\" font-size=\"14.00\">gini = 0.464</text>\n",
       "<text text-anchor=\"start\" x=\"962.62\" y=\"-226.7\" font-family=\"Helvetica,sans-Serif\" font-size=\"14.00\">samples = 3164</text>\n",
       "<text text-anchor=\"start\" x=\"949.5\" y=\"-211.7\" font-family=\"Helvetica,sans-Serif\" font-size=\"14.00\">value = [1160, 2004]</text>\n",
       "<text text-anchor=\"start\" x=\"979.12\" y=\"-196.7\" font-family=\"Helvetica,sans-Serif\" font-size=\"14.00\">class = Up</text>\n",
       "</g>\n",
       "<!-- 30&#45;&gt;44 -->\n",
       "<g id=\"edge24\" class=\"edge\">\n",
       "<title>30&#45;&gt;44</title>\n",
       "<path fill=\"none\" stroke=\"black\" d=\"M878.35,-309.58C895.51,-299.74 913.94,-289.16 931.45,-279.12\"/>\n",
       "<polygon fill=\"black\" stroke=\"black\" points=\"932.82,-282.37 939.75,-274.36 929.34,-276.3 932.82,-282.37\"/>\n",
       "</g>\n",
       "<!-- 32 -->\n",
       "<g id=\"node19\" class=\"node\">\n",
       "<title>32</title>\n",
       "<path fill=\"#f4c9aa\" stroke=\"black\" d=\"M787.5,-155C787.5,-155 702.5,-155 702.5,-155 696.5,-155 690.5,-149 690.5,-143 690.5,-143 690.5,-84 690.5,-84 690.5,-78 696.5,-72 702.5,-72 702.5,-72 787.5,-72 787.5,-72 793.5,-72 799.5,-78 799.5,-84 799.5,-84 799.5,-143 799.5,-143 799.5,-149 793.5,-155 787.5,-155\"/>\n",
       "<text text-anchor=\"start\" x=\"699.25\" y=\"-137.7\" font-family=\"Helvetica,sans-Serif\" font-size=\"14.00\">bb_low ≤ 2.667</text>\n",
       "<text text-anchor=\"start\" x=\"709.75\" y=\"-122.7\" font-family=\"Helvetica,sans-Serif\" font-size=\"14.00\">gini = 0.463</text>\n",
       "<text text-anchor=\"start\" x=\"704.12\" y=\"-107.7\" font-family=\"Helvetica,sans-Serif\" font-size=\"14.00\">samples = 33</text>\n",
       "<text text-anchor=\"start\" x=\"698.5\" y=\"-92.7\" font-family=\"Helvetica,sans-Serif\" font-size=\"14.00\">value = [21, 12]</text>\n",
       "<text text-anchor=\"start\" x=\"704.5\" y=\"-77.7\" font-family=\"Helvetica,sans-Serif\" font-size=\"14.00\">class = Down</text>\n",
       "</g>\n",
       "<!-- 31&#45;&gt;32 -->\n",
       "<g id=\"edge18\" class=\"edge\">\n",
       "<title>31&#45;&gt;32</title>\n",
       "<path fill=\"none\" stroke=\"black\" d=\"M785.32,-190.58C781,-182.43 776.41,-173.77 771.94,-165.34\"/>\n",
       "<polygon fill=\"black\" stroke=\"black\" points=\"775.05,-163.73 767.28,-156.54 768.87,-167.01 775.05,-163.73\"/>\n",
       "</g>\n",
       "<!-- 39 -->\n",
       "<g id=\"node22\" class=\"node\">\n",
       "<title>39</title>\n",
       "<path fill=\"#e78945\" stroke=\"black\" d=\"M914.88,-155C914.88,-155 829.12,-155 829.12,-155 823.12,-155 817.12,-149 817.12,-143 817.12,-143 817.12,-84 817.12,-84 817.12,-78 823.12,-72 829.12,-72 829.12,-72 914.88,-72 914.88,-72 920.88,-72 926.88,-78 926.88,-84 926.88,-84 926.88,-143 926.88,-143 926.88,-149 920.88,-155 914.88,-155\"/>\n",
       "<text text-anchor=\"start\" x=\"825.12\" y=\"-137.7\" font-family=\"Helvetica,sans-Serif\" font-size=\"14.00\">bb_mid ≤ 8.583</text>\n",
       "<text text-anchor=\"start\" x=\"836.75\" y=\"-122.7\" font-family=\"Helvetica,sans-Serif\" font-size=\"14.00\">gini = 0.108</text>\n",
       "<text text-anchor=\"start\" x=\"831.12\" y=\"-107.7\" font-family=\"Helvetica,sans-Serif\" font-size=\"14.00\">samples = 70</text>\n",
       "<text text-anchor=\"start\" x=\"829.25\" y=\"-92.7\" font-family=\"Helvetica,sans-Serif\" font-size=\"14.00\">value = [66, 4]</text>\n",
       "<text text-anchor=\"start\" x=\"831.5\" y=\"-77.7\" font-family=\"Helvetica,sans-Serif\" font-size=\"14.00\">class = Down</text>\n",
       "</g>\n",
       "<!-- 31&#45;&gt;39 -->\n",
       "<g id=\"edge21\" class=\"edge\">\n",
       "<title>31&#45;&gt;39</title>\n",
       "<path fill=\"none\" stroke=\"black\" d=\"M829.73,-190.58C834.31,-182.34 839.18,-173.58 843.91,-165.06\"/>\n",
       "<polygon fill=\"black\" stroke=\"black\" points=\"846.86,-166.96 848.65,-156.52 840.74,-163.57 846.86,-166.96\"/>\n",
       "</g>\n",
       "<!-- 33 -->\n",
       "<g id=\"node20\" class=\"node\">\n",
       "<title>33</title>\n",
       "<path fill=\"#c0c0c0\" stroke=\"black\" d=\"M692,-36C692,-36 662,-36 662,-36 656,-36 650,-30 650,-24 650,-24 650,-12 650,-12 650,-6 656,0 662,0 662,0 692,0 692,0 698,0 704,-6 704,-12 704,-12 704,-24 704,-24 704,-30 698,-36 692,-36\"/>\n",
       "<text text-anchor=\"middle\" x=\"677\" y=\"-12.2\" font-family=\"Helvetica,sans-Serif\" font-size=\"14.00\">(...)</text>\n",
       "</g>\n",
       "<!-- 32&#45;&gt;33 -->\n",
       "<g id=\"edge19\" class=\"edge\">\n",
       "<title>32&#45;&gt;33</title>\n",
       "<path fill=\"none\" stroke=\"black\" d=\"M715.37,-71.76C708.89,-62.85 702.19,-53.64 696.24,-45.46\"/>\n",
       "<polygon fill=\"black\" stroke=\"black\" points=\"699.26,-43.66 690.55,-37.63 693.6,-47.78 699.26,-43.66\"/>\n",
       "</g>\n",
       "<!-- 36 -->\n",
       "<g id=\"node21\" class=\"node\">\n",
       "<title>36</title>\n",
       "<path fill=\"#c0c0c0\" stroke=\"black\" d=\"M764,-36C764,-36 734,-36 734,-36 728,-36 722,-30 722,-24 722,-24 722,-12 722,-12 722,-6 728,0 734,0 734,0 764,0 764,0 770,0 776,-6 776,-12 776,-12 776,-24 776,-24 776,-30 770,-36 764,-36\"/>\n",
       "<text text-anchor=\"middle\" x=\"749\" y=\"-12.2\" font-family=\"Helvetica,sans-Serif\" font-size=\"14.00\">(...)</text>\n",
       "</g>\n",
       "<!-- 32&#45;&gt;36 -->\n",
       "<g id=\"edge20\" class=\"edge\">\n",
       "<title>32&#45;&gt;36</title>\n",
       "<path fill=\"none\" stroke=\"black\" d=\"M746.74,-71.76C747.09,-63.72 747.44,-55.44 747.76,-47.89\"/>\n",
       "<polygon fill=\"black\" stroke=\"black\" points=\"751.26,-48.06 748.19,-37.92 744.27,-47.76 751.26,-48.06\"/>\n",
       "</g>\n",
       "<!-- 40 -->\n",
       "<g id=\"node23\" class=\"node\">\n",
       "<title>40</title>\n",
       "<path fill=\"#c0c0c0\" stroke=\"black\" d=\"M861,-36C861,-36 831,-36 831,-36 825,-36 819,-30 819,-24 819,-24 819,-12 819,-12 819,-6 825,0 831,0 831,0 861,0 861,0 867,0 873,-6 873,-12 873,-12 873,-24 873,-24 873,-30 867,-36 861,-36\"/>\n",
       "<text text-anchor=\"middle\" x=\"846\" y=\"-12.2\" font-family=\"Helvetica,sans-Serif\" font-size=\"14.00\">(...)</text>\n",
       "</g>\n",
       "<!-- 39&#45;&gt;40 -->\n",
       "<g id=\"edge22\" class=\"edge\">\n",
       "<title>39&#45;&gt;40</title>\n",
       "<path fill=\"none\" stroke=\"black\" d=\"M860.67,-71.76C858.38,-63.53 856.02,-55.04 853.88,-47.34\"/>\n",
       "<polygon fill=\"black\" stroke=\"black\" points=\"857.3,-46.56 851.25,-37.86 850.55,-48.44 857.3,-46.56\"/>\n",
       "</g>\n",
       "<!-- 43 -->\n",
       "<g id=\"node24\" class=\"node\">\n",
       "<title>43</title>\n",
       "<path fill=\"#c0c0c0\" stroke=\"black\" d=\"M933,-36C933,-36 903,-36 903,-36 897,-36 891,-30 891,-24 891,-24 891,-12 891,-12 891,-6 897,0 903,0 903,0 933,0 933,0 939,0 945,-6 945,-12 945,-12 945,-24 945,-24 945,-30 939,-36 933,-36\"/>\n",
       "<text text-anchor=\"middle\" x=\"918\" y=\"-12.2\" font-family=\"Helvetica,sans-Serif\" font-size=\"14.00\">(...)</text>\n",
       "</g>\n",
       "<!-- 39&#45;&gt;43 -->\n",
       "<g id=\"edge23\" class=\"edge\">\n",
       "<title>39&#45;&gt;43</title>\n",
       "<path fill=\"none\" stroke=\"black\" d=\"M892.04,-71.76C896.24,-63.24 900.57,-54.44 904.46,-46.53\"/>\n",
       "<polygon fill=\"black\" stroke=\"black\" points=\"907.49,-48.28 908.77,-37.76 901.21,-45.19 907.49,-48.28\"/>\n",
       "</g>\n",
       "<!-- 45 -->\n",
       "<g id=\"node26\" class=\"node\">\n",
       "<title>45</title>\n",
       "<path fill=\"#cbe5f8\" stroke=\"black\" d=\"M1064.75,-155C1064.75,-155 957.25,-155 957.25,-155 951.25,-155 945.25,-149 945.25,-143 945.25,-143 945.25,-84 945.25,-84 945.25,-78 951.25,-72 957.25,-72 957.25,-72 1064.75,-72 1064.75,-72 1070.75,-72 1076.75,-78 1076.75,-84 1076.75,-84 1076.75,-143 1076.75,-143 1076.75,-149 1070.75,-155 1064.75,-155\"/>\n",
       "<text text-anchor=\"start\" x=\"973.12\" y=\"-137.7\" font-family=\"Helvetica,sans-Serif\" font-size=\"14.00\">ppo ≤ &#45;6.868</text>\n",
       "<text text-anchor=\"start\" x=\"975.75\" y=\"-122.7\" font-family=\"Helvetica,sans-Serif\" font-size=\"14.00\">gini = 0.489</text>\n",
       "<text text-anchor=\"start\" x=\"962.62\" y=\"-107.7\" font-family=\"Helvetica,sans-Serif\" font-size=\"14.00\">samples = 1990</text>\n",
       "<text text-anchor=\"start\" x=\"953.25\" y=\"-92.7\" font-family=\"Helvetica,sans-Serif\" font-size=\"14.00\">value = [845, 1145]</text>\n",
       "<text text-anchor=\"start\" x=\"979.12\" y=\"-77.7\" font-family=\"Helvetica,sans-Serif\" font-size=\"14.00\">class = Up</text>\n",
       "</g>\n",
       "<!-- 44&#45;&gt;45 -->\n",
       "<g id=\"edge25\" class=\"edge\">\n",
       "<title>44&#45;&gt;45</title>\n",
       "<path fill=\"none\" stroke=\"black\" d=\"M1011,-190.58C1011,-182.79 1011,-174.53 1011,-166.45\"/>\n",
       "<polygon fill=\"black\" stroke=\"black\" points=\"1014.5,-166.71 1011,-156.71 1007.5,-166.71 1014.5,-166.71\"/>\n",
       "</g>\n",
       "<!-- 52 -->\n",
       "<g id=\"node29\" class=\"node\">\n",
       "<title>52</title>\n",
       "<path fill=\"#82c1ef\" stroke=\"black\" d=\"M1207,-155C1207,-155 1107,-155 1107,-155 1101,-155 1095,-149 1095,-143 1095,-143 1095,-84 1095,-84 1095,-78 1101,-72 1107,-72 1107,-72 1207,-72 1207,-72 1213,-72 1219,-78 1219,-84 1219,-84 1219,-143 1219,-143 1219,-149 1213,-155 1207,-155\"/>\n",
       "<text text-anchor=\"start\" x=\"1111.25\" y=\"-137.7\" font-family=\"Helvetica,sans-Serif\" font-size=\"14.00\">bb_low ≤ 5.376</text>\n",
       "<text text-anchor=\"start\" x=\"1121.75\" y=\"-122.7\" font-family=\"Helvetica,sans-Serif\" font-size=\"14.00\">gini = 0.393</text>\n",
       "<text text-anchor=\"start\" x=\"1108.62\" y=\"-107.7\" font-family=\"Helvetica,sans-Serif\" font-size=\"14.00\">samples = 1174</text>\n",
       "<text text-anchor=\"start\" x=\"1103\" y=\"-92.7\" font-family=\"Helvetica,sans-Serif\" font-size=\"14.00\">value = [315, 859]</text>\n",
       "<text text-anchor=\"start\" x=\"1125.12\" y=\"-77.7\" font-family=\"Helvetica,sans-Serif\" font-size=\"14.00\">class = Up</text>\n",
       "</g>\n",
       "<!-- 44&#45;&gt;52 -->\n",
       "<g id=\"edge28\" class=\"edge\">\n",
       "<title>44&#45;&gt;52</title>\n",
       "<path fill=\"none\" stroke=\"black\" d=\"M1062.06,-190.58C1073.47,-181.44 1085.65,-171.67 1097.37,-162.29\"/>\n",
       "<polygon fill=\"black\" stroke=\"black\" points=\"1099.42,-165.13 1105.03,-156.15 1095.04,-159.67 1099.42,-165.13\"/>\n",
       "</g>\n",
       "<!-- 46 -->\n",
       "<g id=\"node27\" class=\"node\">\n",
       "<title>46</title>\n",
       "<path fill=\"#c0c0c0\" stroke=\"black\" d=\"M1017,-36C1017,-36 987,-36 987,-36 981,-36 975,-30 975,-24 975,-24 975,-12 975,-12 975,-6 981,0 987,0 987,0 1017,0 1017,0 1023,0 1029,-6 1029,-12 1029,-12 1029,-24 1029,-24 1029,-30 1023,-36 1017,-36\"/>\n",
       "<text text-anchor=\"middle\" x=\"1002\" y=\"-12.2\" font-family=\"Helvetica,sans-Serif\" font-size=\"14.00\">(...)</text>\n",
       "</g>\n",
       "<!-- 45&#45;&gt;46 -->\n",
       "<g id=\"edge26\" class=\"edge\">\n",
       "<title>45&#45;&gt;46</title>\n",
       "<path fill=\"none\" stroke=\"black\" d=\"M1007.08,-71.76C1006.3,-63.62 1005.49,-55.24 1004.75,-47.61\"/>\n",
       "<polygon fill=\"black\" stroke=\"black\" points=\"1008.26,-47.53 1003.82,-37.91 1001.29,-48.2 1008.26,-47.53\"/>\n",
       "</g>\n",
       "<!-- 49 -->\n",
       "<g id=\"node28\" class=\"node\">\n",
       "<title>49</title>\n",
       "<path fill=\"#c0c0c0\" stroke=\"black\" d=\"M1089,-36C1089,-36 1059,-36 1059,-36 1053,-36 1047,-30 1047,-24 1047,-24 1047,-12 1047,-12 1047,-6 1053,0 1059,0 1059,0 1089,0 1089,0 1095,0 1101,-6 1101,-12 1101,-12 1101,-24 1101,-24 1101,-30 1095,-36 1089,-36\"/>\n",
       "<text text-anchor=\"middle\" x=\"1074\" y=\"-12.2\" font-family=\"Helvetica,sans-Serif\" font-size=\"14.00\">(...)</text>\n",
       "</g>\n",
       "<!-- 45&#45;&gt;49 -->\n",
       "<g id=\"edge27\" class=\"edge\">\n",
       "<title>45&#45;&gt;49</title>\n",
       "<path fill=\"none\" stroke=\"black\" d=\"M1038.45,-71.76C1044.39,-62.94 1050.53,-53.84 1055.99,-45.72\"/>\n",
       "<polygon fill=\"black\" stroke=\"black\" points=\"1058.74,-47.91 1061.43,-37.66 1052.94,-44 1058.74,-47.91\"/>\n",
       "</g>\n",
       "<!-- 53 -->\n",
       "<g id=\"node30\" class=\"node\">\n",
       "<title>53</title>\n",
       "<path fill=\"#c0c0c0\" stroke=\"black\" d=\"M1168,-36C1168,-36 1138,-36 1138,-36 1132,-36 1126,-30 1126,-24 1126,-24 1126,-12 1126,-12 1126,-6 1132,0 1138,0 1138,0 1168,0 1168,0 1174,0 1180,-6 1180,-12 1180,-12 1180,-24 1180,-24 1180,-30 1174,-36 1168,-36\"/>\n",
       "<text text-anchor=\"middle\" x=\"1153\" y=\"-12.2\" font-family=\"Helvetica,sans-Serif\" font-size=\"14.00\">(...)</text>\n",
       "</g>\n",
       "<!-- 52&#45;&gt;53 -->\n",
       "<g id=\"edge29\" class=\"edge\">\n",
       "<title>52&#45;&gt;53</title>\n",
       "<path fill=\"none\" stroke=\"black\" d=\"M1155.26,-71.76C1154.91,-63.72 1154.56,-55.44 1154.24,-47.89\"/>\n",
       "<polygon fill=\"black\" stroke=\"black\" points=\"1157.73,-47.76 1153.81,-37.92 1150.74,-48.06 1157.73,-47.76\"/>\n",
       "</g>\n",
       "<!-- 56 -->\n",
       "<g id=\"node31\" class=\"node\">\n",
       "<title>56</title>\n",
       "<path fill=\"#c0c0c0\" stroke=\"black\" d=\"M1240,-36C1240,-36 1210,-36 1210,-36 1204,-36 1198,-30 1198,-24 1198,-24 1198,-12 1198,-12 1198,-6 1204,0 1210,0 1210,0 1240,0 1240,0 1246,0 1252,-6 1252,-12 1252,-12 1252,-24 1252,-24 1252,-30 1246,-36 1240,-36\"/>\n",
       "<text text-anchor=\"middle\" x=\"1225\" y=\"-12.2\" font-family=\"Helvetica,sans-Serif\" font-size=\"14.00\">(...)</text>\n",
       "</g>\n",
       "<!-- 52&#45;&gt;56 -->\n",
       "<g id=\"edge30\" class=\"edge\">\n",
       "<title>52&#45;&gt;56</title>\n",
       "<path fill=\"none\" stroke=\"black\" d=\"M1186.63,-71.76C1193.11,-62.85 1199.81,-53.64 1205.76,-45.46\"/>\n",
       "<polygon fill=\"black\" stroke=\"black\" points=\"1208.4,-47.78 1211.45,-37.63 1202.74,-43.66 1208.4,-47.78\"/>\n",
       "</g>\n",
       "</g>\n",
       "</svg>\n"
      ],
      "text/plain": [
       "<graphviz.sources.Source at 0x158500700>"
      ]
     },
     "execution_count": 57,
     "metadata": {},
     "output_type": "execute_result"
    }
   ],
   "source": [
    "out_file = results_path / 'clf_tree.dot'\n",
    "dot_data = export_graphviz(clf,\n",
    "                           out_file=out_file.as_posix(),\n",
    "                           feature_names=X.columns,\n",
    "                           class_names=['Down', 'Up'],\n",
    "                           max_depth=3,\n",
    "                           filled=True,\n",
    "                           rounded=True,\n",
    "                           special_characters=True)\n",
    "if out_file is not None:\n",
    "    dot_data = Path(out_file).read_text()\n",
    "\n",
    "graphviz.Source(dot_data)"
   ]
  },
  {
   "cell_type": "markdown",
   "metadata": {},
   "source": [
    "### Evaluate Test Set"
   ]
  },
  {
   "cell_type": "markdown",
   "metadata": {},
   "source": [
    "To evaluate the predictive accuracy of our first classification tree, we will use our test set to generate predicted class probabilities. \n",
    "\n",
    "The `.predict_proba()` method produces one probability for each class. In the binary class, these probabilities are complementary and sum to 1, so we only need the value for the positive class. "
   ]
  },
  {
   "cell_type": "code",
   "execution_count": 58,
   "metadata": {
    "ExecuteTime": {
     "end_time": "2021-04-16T00:33:36.270863Z",
     "start_time": "2021-04-16T00:33:36.262990Z"
    }
   },
   "outputs": [],
   "source": [
    "y_score = clf.predict_proba(X=X_test)[:, 1]"
   ]
  },
  {
   "cell_type": "markdown",
   "metadata": {},
   "source": [
    "To evaluate the generalization error, we will use the area under the curve based on the receiver-operating characteristic. The result indicates a significant improvement above and beyond the baseline value of 0.5 for a random prediction:"
   ]
  },
  {
   "cell_type": "code",
   "execution_count": 59,
   "metadata": {
    "ExecuteTime": {
     "end_time": "2021-04-16T00:33:36.283613Z",
     "start_time": "2021-04-16T00:33:36.272140Z"
    }
   },
   "outputs": [
    {
     "data": {
      "text/plain": [
       "0.6898797811378071"
      ]
     },
     "execution_count": 59,
     "metadata": {},
     "output_type": "execute_result"
    }
   ],
   "source": [
    "roc_auc_score(y_score=y_score, y_true=y_test)"
   ]
  },
  {
   "cell_type": "markdown",
   "metadata": {},
   "source": [
    "### Print Decision Path"
   ]
  },
  {
   "cell_type": "markdown",
   "metadata": {},
   "source": [
    "Inspired by https://stackoverflow.com/questions/20224526/how-to-extract-the-decision-rules-from-scikit-learn-decision-tree"
   ]
  },
  {
   "cell_type": "code",
   "execution_count": 60,
   "metadata": {
    "ExecuteTime": {
     "end_time": "2021-04-16T00:33:36.294116Z",
     "start_time": "2021-04-16T00:33:36.284877Z"
    }
   },
   "outputs": [
    {
     "name": "stdout",
     "output_type": "stream",
     "text": [
      "Help on class Tree in module sklearn.tree._tree:\n",
      "\n",
      "class Tree(builtins.object)\n",
      " |  Array-based representation of a binary decision tree.\n",
      " |  \n",
      " |  The binary tree is represented as a number of parallel arrays. The i-th\n",
      " |  element of each array holds information about the node `i`. Node 0 is the\n",
      " |  tree's root. You can find a detailed description of all arrays in\n",
      " |  `_tree.pxd`. NOTE: Some of the arrays only apply to either leaves or split\n",
      " |  nodes, resp. In this case the values of nodes of the other type are\n",
      " |  arbitrary!\n",
      " |  \n",
      " |  Attributes\n",
      " |  ----------\n",
      " |  node_count : int\n",
      " |      The number of nodes (internal nodes + leaves) in the tree.\n",
      " |  \n",
      " |  capacity : int\n",
      " |      The current capacity (i.e., size) of the arrays, which is at least as\n",
      " |      great as `node_count`.\n",
      " |  \n",
      " |  max_depth : int\n",
      " |      The depth of the tree, i.e. the maximum depth of its leaves.\n",
      " |  \n",
      " |  children_left : array of int, shape [node_count]\n",
      " |      children_left[i] holds the node id of the left child of node i.\n",
      " |      For leaves, children_left[i] == TREE_LEAF. Otherwise,\n",
      " |      children_left[i] > i. This child handles the case where\n",
      " |      X[:, feature[i]] <= threshold[i].\n",
      " |  \n",
      " |  children_right : array of int, shape [node_count]\n",
      " |      children_right[i] holds the node id of the right child of node i.\n",
      " |      For leaves, children_right[i] == TREE_LEAF. Otherwise,\n",
      " |      children_right[i] > i. This child handles the case where\n",
      " |      X[:, feature[i]] > threshold[i].\n",
      " |  \n",
      " |  n_leaves : int\n",
      " |      Number of leaves in the tree.\n",
      " |  \n",
      " |  feature : array of int, shape [node_count]\n",
      " |      feature[i] holds the feature to split on, for the internal node i.\n",
      " |  \n",
      " |  threshold : array of double, shape [node_count]\n",
      " |      threshold[i] holds the threshold for the internal node i.\n",
      " |  \n",
      " |  value : array of double, shape [node_count, n_outputs, max_n_classes]\n",
      " |      Contains the constant prediction value of each node.\n",
      " |  \n",
      " |  impurity : array of double, shape [node_count]\n",
      " |      impurity[i] holds the impurity (i.e., the value of the splitting\n",
      " |      criterion) at node i.\n",
      " |  \n",
      " |  n_node_samples : array of int, shape [node_count]\n",
      " |      n_node_samples[i] holds the number of training samples reaching node i.\n",
      " |  \n",
      " |  weighted_n_node_samples : array of double, shape [node_count]\n",
      " |      weighted_n_node_samples[i] holds the weighted number of training samples\n",
      " |      reaching node i.\n",
      " |  \n",
      " |  missing_go_to_left : array of bool, shape [node_count]\n",
      " |      missing_go_to_left[i] holds a bool indicating whether or not there were\n",
      " |      missing values at node i.\n",
      " |  \n",
      " |  Methods defined here:\n",
      " |  \n",
      " |  __getstate__(...)\n",
      " |      Getstate re-implementation, for pickling.\n",
      " |  \n",
      " |  __reduce__(...)\n",
      " |      Reduce re-implementation, for pickling.\n",
      " |  \n",
      " |  __setstate__(...)\n",
      " |      Setstate re-implementation, for unpickling.\n",
      " |  \n",
      " |  apply(...)\n",
      " |      Finds the terminal region (=leaf node) for each sample in X.\n",
      " |  \n",
      " |  compute_feature_importances(...)\n",
      " |      Computes the importance of each feature (aka variable).\n",
      " |  \n",
      " |  compute_node_depths(...)\n",
      " |      Compute the depth of each node in a tree.\n",
      " |      \n",
      " |      .. versionadded:: 1.3\n",
      " |      \n",
      " |      Returns\n",
      " |      -------\n",
      " |      depths : ndarray of shape (self.node_count,), dtype=np.int64\n",
      " |          The depth of each node in the tree.\n",
      " |  \n",
      " |  compute_partial_dependence(...)\n",
      " |      Partial dependence of the response on the ``target_feature`` set.\n",
      " |      \n",
      " |      For each sample in ``X`` a tree traversal is performed.\n",
      " |      Each traversal starts from the root with weight 1.0.\n",
      " |      \n",
      " |      At each non-leaf node that splits on a target feature, either\n",
      " |      the left child or the right child is visited based on the feature\n",
      " |      value of the current sample, and the weight is not modified.\n",
      " |      At each non-leaf node that splits on a complementary feature,\n",
      " |      both children are visited and the weight is multiplied by the fraction\n",
      " |      of training samples which went to each child.\n",
      " |      \n",
      " |      At each leaf, the value of the node is multiplied by the current\n",
      " |      weight (weights sum to 1 for all visited terminal nodes).\n",
      " |      \n",
      " |      Parameters\n",
      " |      ----------\n",
      " |      X : view on 2d ndarray, shape (n_samples, n_target_features)\n",
      " |          The grid points on which the partial dependence should be\n",
      " |          evaluated.\n",
      " |      target_features : view on 1d ndarray, shape (n_target_features)\n",
      " |          The set of target features for which the partial dependence\n",
      " |          should be evaluated.\n",
      " |      out : view on 1d ndarray, shape (n_samples)\n",
      " |          The value of the partial dependence function on each grid\n",
      " |          point.\n",
      " |  \n",
      " |  decision_path(...)\n",
      " |      Finds the decision path (=node) for each sample in X.\n",
      " |  \n",
      " |  predict(...)\n",
      " |      Predict target for X.\n",
      " |  \n",
      " |  ----------------------------------------------------------------------\n",
      " |  Static methods defined here:\n",
      " |  \n",
      " |  __new__(*args, **kwargs) from builtins.type\n",
      " |      Create and return a new object.  See help(type) for accurate signature.\n",
      " |  \n",
      " |  ----------------------------------------------------------------------\n",
      " |  Data descriptors defined here:\n",
      " |  \n",
      " |  capacity\n",
      " |  \n",
      " |  children_left\n",
      " |  \n",
      " |  children_right\n",
      " |  \n",
      " |  feature\n",
      " |  \n",
      " |  impurity\n",
      " |  \n",
      " |  max_depth\n",
      " |  \n",
      " |  max_n_classes\n",
      " |  \n",
      " |  missing_go_to_left\n",
      " |  \n",
      " |  n_classes\n",
      " |  \n",
      " |  n_features\n",
      " |  \n",
      " |  n_leaves\n",
      " |  \n",
      " |  n_node_samples\n",
      " |  \n",
      " |  n_outputs\n",
      " |  \n",
      " |  node_count\n",
      " |  \n",
      " |  threshold\n",
      " |  \n",
      " |  value\n",
      " |  \n",
      " |  weighted_n_node_samples\n",
      " |  \n",
      " |  ----------------------------------------------------------------------\n",
      " |  Data and other attributes defined here:\n",
      " |  \n",
      " |  __pyx_vtable__ = <capsule object NULL>\n",
      "\n"
     ]
    }
   ],
   "source": [
    "from sklearn.tree._tree import Tree\n",
    "help(Tree)"
   ]
  },
  {
   "cell_type": "code",
   "execution_count": 61,
   "metadata": {
    "ExecuteTime": {
     "end_time": "2021-04-16T00:33:36.302800Z",
     "start_time": "2021-04-16T00:33:36.295041Z"
    }
   },
   "outputs": [],
   "source": [
    "def tree_to_code(tree, feature_names):\n",
    "    if isinstance(tree, DecisionTreeClassifier):\n",
    "        model = 'clf'\n",
    "    elif isinstance(tree, DecisionTreeRegressor):\n",
    "        model = 'reg'\n",
    "    else:\n",
    "        raise ValueError('Need Regression or Classification Tree')\n",
    "        \n",
    "    tree_ = tree.tree_\n",
    "    feature_name = [\n",
    "        feature_names[i] if i != _tree.TREE_UNDEFINED else \"undefined!\"\n",
    "        for i in tree_.feature\n",
    "    ]\n",
    "    print(\"def tree({}):\".format(\", \".join(feature_names)))\n",
    "\n",
    "    def recurse(node, depth):\n",
    "        indent = \"  \" * depth\n",
    "        if tree_.feature[node] != _tree.TREE_UNDEFINED:\n",
    "            name = feature_name[node]\n",
    "            threshold = tree_.threshold[node]\n",
    "            print(indent, f'if {name} <= {threshold:.2%}')\n",
    "            recurse(tree_.children_left[node], depth + 1)\n",
    "            print(indent, f'else:  # if {name} > {threshold:.2%}')\n",
    "            recurse(tree_.children_right[node], depth + 1)\n",
    "        else:\n",
    "            pred = tree_.value[node][0]\n",
    "            val = pred[1]/sum(pred) if model == 'clf' else pred[0]\n",
    "            print(indent, f'return {val:.2%}')\n",
    "    recurse(0, 1)"
   ]
  },
  {
   "cell_type": "code",
   "execution_count": 62,
   "metadata": {
    "ExecuteTime": {
     "end_time": "2021-04-16T00:33:36.322605Z",
     "start_time": "2021-04-16T00:33:36.304005Z"
    }
   },
   "outputs": [
    {
     "name": "stdout",
     "output_type": "stream",
     "text": [
      "def tree(t-1, t-2):\n",
      "   if t-1 <= -25.33%\n",
      "     return 92.50%\n",
      "   else:  # if t-1 > -25.33%\n",
      "     if t-1 <= 1.13%\n",
      "       if t-1 <= -0.16%\n",
      "         if t-2 <= -3.58%\n",
      "           return 51.43%\n",
      "         else:  # if t-2 > -3.58%\n",
      "           if t-1 <= -15.54%\n",
      "             return 66.91%\n",
      "           else:  # if t-1 > -15.54%\n",
      "             return 56.03%\n",
      "       else:  # if t-1 > -0.16%\n",
      "         return 40.12%\n",
      "     else:  # if t-1 > 1.13%\n",
      "       if t-2 <= -26.60%\n",
      "         return 77.61%\n",
      "       else:  # if t-2 > -26.60%\n",
      "         if t-1 <= 41.35%\n",
      "           if t-1 <= 40.42%\n",
      "             return 59.38%\n",
      "           else:  # if t-1 > 40.42%\n",
      "             return 90.00%\n",
      "         else:  # if t-1 > 41.35%\n",
      "           return 50.55%\n"
     ]
    }
   ],
   "source": [
    "tree_to_code(clf_tree_t2, X2.columns)"
   ]
  },
  {
   "cell_type": "markdown",
   "metadata": {},
   "source": [
    "## Overfitting, Regularization & Parameter Tuning"
   ]
  },
  {
   "cell_type": "markdown",
   "metadata": {},
   "source": [
    "Decision trees have a strong tendency to overfit, especially when a dataset has a large number of features relative to the number of samples. Overfitting increases the prediction error because the model does not only learn the signal contained in the training data, but also the noise.\n",
    "There are several ways to address the risk of overfitting."
   ]
  },
  {
   "cell_type": "markdown",
   "metadata": {},
   "source": [
    "Decision trees provide several regularization hyperparameters to limit the growth of a tree and the associated complexity. While every split increases the number of nodes, it also reduces the number of samples available per node to support a prediction. For each additional level, twice the number of samples is needed to populate the new nodes with the same sample density. "
   ]
  },
  {
   "cell_type": "markdown",
   "metadata": {},
   "source": [
    "### Decision Tree Parameters"
   ]
  },
  {
   "cell_type": "markdown",
   "metadata": {},
   "source": [
    "The following table lists key parameters available for this purpose in the sklearn decision tree implementation. After introducing the most important parameters, we will illustrate how to use cross-validation to optimize the hyperparameter settings with respect to the bias-variance tradeoff and lower prediction errors:"
   ]
  },
  {
   "cell_type": "markdown",
   "metadata": {},
   "source": [
    "| Parameter                | Default | Options                                                                                                                                                               | Description                                                                                                                                                                                                             |\n",
    "|--------------------------|---------|-----------------------------------------------------------------------------------------------------------------------------------------------------------------------|-------------------------------------------------------------------------------------------------------------------------------------------------------------------------------------------------------------------------|\n",
    "| criterion                | gini    | Regression: MSE, MAE Classification: Gini impurity, Cross Entropy                                                                                                     | Metric to evaluate split quality.                                                                                                                                                                                       |\n",
    "| splitter                 | best    | best, random                                                                                                                                                          | How to choose the split at each node. Supported strategies are “best” to choose the best split and “random” to choose the best random split.                                                                            |\n",
    "| max_depth                | None    | int                                                                                                                                                                   | Max # of levels in tree. Split nodes until max_depth is reached or all leaves are pure or all leaves contain less than min_samples_split samples.                                                                       |\n",
    "| max_features             | None    | None: max_features=n_features; int; float (fraction): int(max_features * n_features)  auto, sqrt: max_features=sqrt(n_features). log2: max_features=log2(n_features). | # of features to consider when evaluating split                                                                                                                                                                         |\n",
    "| max_leaf_nodes           | None    | None: unlimited # of leaf nodes int                                                                                                                                   | Continue to split nodes that reduce relative impurity the most until reaching max_leaf_nodes.                                                                                                                           |\n",
    "| min_impurity_decrease    | 0       | float                                                                                                                                                                 | Split node if impurity decreases by at least this value.                                                                                                                                                                |\n",
    "| min_samples_leaf         | 1       | int; float (as percentage of N)                                                                                                                                       | Minimum # of samples to be at a leaf node. A split will only be considered if there are at least min_samples_leaf training samples in each of the left and right branches. May smoothen the model, esp. for regression. |\n",
    "| min_samples_split        | 2       | int; float (as percentage of N)                                                                                                                                       | The minimum number of samples required to split an internal node:                                                                                                                                                       |\n",
    "| min_weight_fraction_leaf | 0       | NA                                                                                                                                                                    | The minimum weighted fraction of the sum total of weights (of all the input samples) required to be at a leaf node. Samples have equal weight when sample_weight is not provided (in fit method).                       |\n",
    "| class_weight             | None    | balanced: inversely proportional to class frequencies dict: {class_label: weight} list of dicts (for multi-output)                                                    | Weights associated with classes                                                                                                                                                                                         |"
   ]
  },
  {
   "cell_type": "markdown",
   "metadata": {},
   "source": [
    "The `max_depth` parameter imposes a hard limit on the number of consecutive splits and represents the most straightforward way to cap the growth of a tree.\n",
    "\n",
    "The m`in_samples_split` and `min_samples_leaf` parameters are alternative, data-driven ways to limit the growth of a tree. Rather than imposing a hard limit on the number of consecutive splits, these parameters control the minimum number of samples required to further split the data. The latter guarantees a certain number of samples per leaf, while the former can create very small leaves if a split results in a very uneven distribution. Small parameter values facilitate overfitting, while a high number may prevent the tree from learning the signal in the data. \n",
    "\n",
    "The default values are often quite low, and you should use cross-validation to explore a range of potential values. You can also use a float to indicate a percentage as opposed to an absolute number. "
   ]
  },
  {
   "cell_type": "markdown",
   "metadata": {},
   "source": [
    "### Cross-validation parameters"
   ]
  },
  {
   "cell_type": "code",
   "execution_count": 63,
   "metadata": {
    "ExecuteTime": {
     "end_time": "2021-04-16T00:33:36.328359Z",
     "start_time": "2021-04-16T00:33:36.323742Z"
    }
   },
   "outputs": [],
   "source": [
    "n_splits = 5\n",
    "train_period_length = 60\n",
    "test_period_length = 6\n",
    "lookahead = 1\n",
    "\n",
    "cv = MultipleTimeSeriesCV(n_splits=n_splits,\n",
    "                          train_period_length=train_period_length,\n",
    "                          test_period_length=test_period_length,\n",
    "                          lookahead=lookahead)"
   ]
  },
  {
   "cell_type": "code",
   "execution_count": 64,
   "metadata": {
    "ExecuteTime": {
     "end_time": "2021-04-16T00:33:36.334074Z",
     "start_time": "2021-04-16T00:33:36.329663Z"
    }
   },
   "outputs": [],
   "source": [
    "max_depths = range(1, 16)"
   ]
  },
  {
   "cell_type": "markdown",
   "metadata": {},
   "source": [
    "### Finding the best trees using GridSearchCV"
   ]
  },
  {
   "cell_type": "markdown",
   "metadata": {},
   "source": [
    "scikit-learn provides a method to define ranges of values for multiple hyperparameters. It automates the process of cross-validating the various combinations of these parameter values to identify the optimal configuration. Let's walk through the process of automatically tuning your model."
   ]
  },
  {
   "cell_type": "markdown",
   "metadata": {},
   "source": [
    "#### Define parameter grid"
   ]
  },
  {
   "cell_type": "markdown",
   "metadata": {},
   "source": [
    "The first step is to define a dictionary where the keywords name the hyperparameters, and the values list the parameter settings to be tested:"
   ]
  },
  {
   "cell_type": "code",
   "execution_count": 65,
   "metadata": {
    "ExecuteTime": {
     "end_time": "2021-04-16T00:33:36.346973Z",
     "start_time": "2021-04-16T00:33:36.335032Z"
    }
   },
   "outputs": [],
   "source": [
    "param_grid = {'max_depth': [2, 3, 4, 5, 6, 7, 8, 10, 12, 15],\n",
    "              'min_samples_leaf': [5, 25, 50, 100],\n",
    "              'max_features': ['sqrt', 'auto']}"
   ]
  },
  {
   "cell_type": "markdown",
   "metadata": {},
   "source": [
    "#### Classification Tree"
   ]
  },
  {
   "cell_type": "markdown",
   "metadata": {},
   "source": [
    "Then, we instantiate a model object:"
   ]
  },
  {
   "cell_type": "code",
   "execution_count": 66,
   "metadata": {
    "ExecuteTime": {
     "end_time": "2021-04-16T00:33:36.354743Z",
     "start_time": "2021-04-16T00:33:36.348117Z"
    }
   },
   "outputs": [],
   "source": [
    "clf = DecisionTreeClassifier(random_state=42)"
   ]
  },
  {
   "cell_type": "markdown",
   "metadata": {},
   "source": [
    "Now we instantiate the GridSearchCV object, providing the estimator object and parameter grid, as well as a scoring method and cross-validation choice to the initialization method. We'll use an object of our custom OneStepTimeSeriesSplit class, initialized to use ten folds for the cv parameter, and set the scoring to the roc_auc metric. We can parallelize the search using the n_jobs parameter and automatically obtain a trained model that uses the optimal hyperparameters by setting `refit=True`."
   ]
  },
  {
   "cell_type": "code",
   "execution_count": 67,
   "metadata": {
    "ExecuteTime": {
     "end_time": "2021-04-16T00:33:36.363000Z",
     "start_time": "2021-04-16T00:33:36.355848Z"
    }
   },
   "outputs": [],
   "source": [
    "gridsearch_clf = GridSearchCV(estimator=clf,\n",
    "                          param_grid=param_grid,\n",
    "                          scoring='roc_auc',\n",
    "                          n_jobs=-1,\n",
    "                          cv=cv,\n",
    "                          refit=True,\n",
    "                          return_train_score=True)"
   ]
  },
  {
   "cell_type": "markdown",
   "metadata": {},
   "source": [
    "With all settings in place, we can fit GridSearchCV just like any other model:"
   ]
  },
  {
   "cell_type": "code",
   "execution_count": 68,
   "metadata": {
    "ExecuteTime": {
     "end_time": "2021-04-16T00:33:53.853282Z",
     "start_time": "2021-04-16T00:33:36.364001Z"
    }
   },
   "outputs": [
    {
     "name": "stdout",
     "output_type": "stream",
     "text": [
      "---------{dates}\n",
      "---------{dates}\n",
      "---------{dates}\n",
      "---------{dates}\n",
      "---------{dates}\n"
     ]
    },
    {
     "data": {
      "text/html": [
       "<style>#sk-container-id-7 {color: black;}#sk-container-id-7 pre{padding: 0;}#sk-container-id-7 div.sk-toggleable {background-color: white;}#sk-container-id-7 label.sk-toggleable__label {cursor: pointer;display: block;width: 100%;margin-bottom: 0;padding: 0.3em;box-sizing: border-box;text-align: center;}#sk-container-id-7 label.sk-toggleable__label-arrow:before {content: \"▸\";float: left;margin-right: 0.25em;color: #696969;}#sk-container-id-7 label.sk-toggleable__label-arrow:hover:before {color: black;}#sk-container-id-7 div.sk-estimator:hover label.sk-toggleable__label-arrow:before {color: black;}#sk-container-id-7 div.sk-toggleable__content {max-height: 0;max-width: 0;overflow: hidden;text-align: left;background-color: #f0f8ff;}#sk-container-id-7 div.sk-toggleable__content pre {margin: 0.2em;color: black;border-radius: 0.25em;background-color: #f0f8ff;}#sk-container-id-7 input.sk-toggleable__control:checked~div.sk-toggleable__content {max-height: 200px;max-width: 100%;overflow: auto;}#sk-container-id-7 input.sk-toggleable__control:checked~label.sk-toggleable__label-arrow:before {content: \"▾\";}#sk-container-id-7 div.sk-estimator input.sk-toggleable__control:checked~label.sk-toggleable__label {background-color: #d4ebff;}#sk-container-id-7 div.sk-label input.sk-toggleable__control:checked~label.sk-toggleable__label {background-color: #d4ebff;}#sk-container-id-7 input.sk-hidden--visually {border: 0;clip: rect(1px 1px 1px 1px);clip: rect(1px, 1px, 1px, 1px);height: 1px;margin: -1px;overflow: hidden;padding: 0;position: absolute;width: 1px;}#sk-container-id-7 div.sk-estimator {font-family: monospace;background-color: #f0f8ff;border: 1px dotted black;border-radius: 0.25em;box-sizing: border-box;margin-bottom: 0.5em;}#sk-container-id-7 div.sk-estimator:hover {background-color: #d4ebff;}#sk-container-id-7 div.sk-parallel-item::after {content: \"\";width: 100%;border-bottom: 1px solid gray;flex-grow: 1;}#sk-container-id-7 div.sk-label:hover label.sk-toggleable__label {background-color: #d4ebff;}#sk-container-id-7 div.sk-serial::before {content: \"\";position: absolute;border-left: 1px solid gray;box-sizing: border-box;top: 0;bottom: 0;left: 50%;z-index: 0;}#sk-container-id-7 div.sk-serial {display: flex;flex-direction: column;align-items: center;background-color: white;padding-right: 0.2em;padding-left: 0.2em;position: relative;}#sk-container-id-7 div.sk-item {position: relative;z-index: 1;}#sk-container-id-7 div.sk-parallel {display: flex;align-items: stretch;justify-content: center;background-color: white;position: relative;}#sk-container-id-7 div.sk-item::before, #sk-container-id-7 div.sk-parallel-item::before {content: \"\";position: absolute;border-left: 1px solid gray;box-sizing: border-box;top: 0;bottom: 0;left: 50%;z-index: -1;}#sk-container-id-7 div.sk-parallel-item {display: flex;flex-direction: column;z-index: 1;position: relative;background-color: white;}#sk-container-id-7 div.sk-parallel-item:first-child::after {align-self: flex-end;width: 50%;}#sk-container-id-7 div.sk-parallel-item:last-child::after {align-self: flex-start;width: 50%;}#sk-container-id-7 div.sk-parallel-item:only-child::after {width: 0;}#sk-container-id-7 div.sk-dashed-wrapped {border: 1px dashed gray;margin: 0 0.4em 0.5em 0.4em;box-sizing: border-box;padding-bottom: 0.4em;background-color: white;}#sk-container-id-7 div.sk-label label {font-family: monospace;font-weight: bold;display: inline-block;line-height: 1.2em;}#sk-container-id-7 div.sk-label-container {text-align: center;}#sk-container-id-7 div.sk-container {/* jupyter's `normalize.less` sets `[hidden] { display: none; }` but bootstrap.min.css set `[hidden] { display: none !important; }` so we also need the `!important` here to be able to override the default hidden behavior on the sphinx rendered scikit-learn.org. See: https://github.com/scikit-learn/scikit-learn/issues/21755 */display: inline-block !important;position: relative;}#sk-container-id-7 div.sk-text-repr-fallback {display: none;}</style><div id=\"sk-container-id-7\" class=\"sk-top-container\"><div class=\"sk-text-repr-fallback\"><pre>GridSearchCV(cv=&lt;utils.MultipleTimeSeriesCV object at 0x158744ac0&gt;,\n",
       "             estimator=DecisionTreeClassifier(random_state=42), n_jobs=-1,\n",
       "             param_grid={&#x27;max_depth&#x27;: [2, 3, 4, 5, 6, 7, 8, 10, 12, 15],\n",
       "                         &#x27;max_features&#x27;: [&#x27;sqrt&#x27;, &#x27;auto&#x27;],\n",
       "                         &#x27;min_samples_leaf&#x27;: [5, 25, 50, 100]},\n",
       "             return_train_score=True, scoring=&#x27;roc_auc&#x27;)</pre><b>In a Jupyter environment, please rerun this cell to show the HTML representation or trust the notebook. <br />On GitHub, the HTML representation is unable to render, please try loading this page with nbviewer.org.</b></div><div class=\"sk-container\" hidden><div class=\"sk-item sk-dashed-wrapped\"><div class=\"sk-label-container\"><div class=\"sk-label sk-toggleable\"><input class=\"sk-toggleable__control sk-hidden--visually\" id=\"sk-estimator-id-7\" type=\"checkbox\" ><label for=\"sk-estimator-id-7\" class=\"sk-toggleable__label sk-toggleable__label-arrow\">GridSearchCV</label><div class=\"sk-toggleable__content\"><pre>GridSearchCV(cv=&lt;utils.MultipleTimeSeriesCV object at 0x158744ac0&gt;,\n",
       "             estimator=DecisionTreeClassifier(random_state=42), n_jobs=-1,\n",
       "             param_grid={&#x27;max_depth&#x27;: [2, 3, 4, 5, 6, 7, 8, 10, 12, 15],\n",
       "                         &#x27;max_features&#x27;: [&#x27;sqrt&#x27;, &#x27;auto&#x27;],\n",
       "                         &#x27;min_samples_leaf&#x27;: [5, 25, 50, 100]},\n",
       "             return_train_score=True, scoring=&#x27;roc_auc&#x27;)</pre></div></div></div><div class=\"sk-parallel\"><div class=\"sk-parallel-item\"><div class=\"sk-item\"><div class=\"sk-label-container\"><div class=\"sk-label sk-toggleable\"><input class=\"sk-toggleable__control sk-hidden--visually\" id=\"sk-estimator-id-8\" type=\"checkbox\" ><label for=\"sk-estimator-id-8\" class=\"sk-toggleable__label sk-toggleable__label-arrow\">estimator: DecisionTreeClassifier</label><div class=\"sk-toggleable__content\"><pre>DecisionTreeClassifier(random_state=42)</pre></div></div></div><div class=\"sk-serial\"><div class=\"sk-item\"><div class=\"sk-estimator sk-toggleable\"><input class=\"sk-toggleable__control sk-hidden--visually\" id=\"sk-estimator-id-9\" type=\"checkbox\" ><label for=\"sk-estimator-id-9\" class=\"sk-toggleable__label sk-toggleable__label-arrow\">DecisionTreeClassifier</label><div class=\"sk-toggleable__content\"><pre>DecisionTreeClassifier(random_state=42)</pre></div></div></div></div></div></div></div></div></div></div>"
      ],
      "text/plain": [
       "GridSearchCV(cv=<utils.MultipleTimeSeriesCV object at 0x158744ac0>,\n",
       "             estimator=DecisionTreeClassifier(random_state=42), n_jobs=-1,\n",
       "             param_grid={'max_depth': [2, 3, 4, 5, 6, 7, 8, 10, 12, 15],\n",
       "                         'max_features': ['sqrt', 'auto'],\n",
       "                         'min_samples_leaf': [5, 25, 50, 100]},\n",
       "             return_train_score=True, scoring='roc_auc')"
      ]
     },
     "execution_count": 68,
     "metadata": {},
     "output_type": "execute_result"
    }
   ],
   "source": [
    "gridsearch_clf.fit(X=X, y=y_binary)"
   ]
  },
  {
   "cell_type": "markdown",
   "metadata": {},
   "source": [
    "The training process produces some new attributes for our GridSearchCV object, most importantly the information about the optimal settings and the best cross-validation score (now using the proper setup that avoids lookahead bias).\n",
    "\n",
    "Setting `max_depth` to 10, `min_samples_leaf` to 750, and randomly selecting only a number corresponding to the square root of the total number of features when deciding on a split, produces the best results, with an AUC of 0.532:"
   ]
  },
  {
   "cell_type": "code",
   "execution_count": 69,
   "metadata": {
    "ExecuteTime": {
     "end_time": "2021-04-16T00:33:53.857480Z",
     "start_time": "2021-04-16T00:33:53.854544Z"
    }
   },
   "outputs": [
    {
     "data": {
      "text/plain": [
       "{'max_depth': 6, 'max_features': 'sqrt', 'min_samples_leaf': 50}"
      ]
     },
     "execution_count": 69,
     "metadata": {},
     "output_type": "execute_result"
    }
   ],
   "source": [
    "gridsearch_clf.best_params_"
   ]
  },
  {
   "cell_type": "code",
   "execution_count": 70,
   "metadata": {
    "ExecuteTime": {
     "end_time": "2021-04-16T00:33:53.871480Z",
     "start_time": "2021-04-16T00:33:53.858438Z"
    }
   },
   "outputs": [
    {
     "data": {
      "text/plain": [
       "0.6224292279217002"
      ]
     },
     "execution_count": 70,
     "metadata": {},
     "output_type": "execute_result"
    }
   ],
   "source": [
    "gridsearch_clf.best_score_"
   ]
  },
  {
   "cell_type": "markdown",
   "metadata": {},
   "source": [
    "#### Define Custom IC score"
   ]
  },
  {
   "cell_type": "code",
   "execution_count": 71,
   "metadata": {
    "ExecuteTime": {
     "end_time": "2021-04-16T00:33:53.880255Z",
     "start_time": "2021-04-16T00:33:53.872541Z"
    }
   },
   "outputs": [],
   "source": [
    "def rank_correl(y, y_pred):\n",
    "    return spearmanr(y, y_pred)[0]\n",
    "ic = make_scorer(rank_correl)"
   ]
  },
  {
   "cell_type": "markdown",
   "metadata": {},
   "source": [
    "#### Regression Tree"
   ]
  },
  {
   "cell_type": "code",
   "execution_count": 72,
   "metadata": {
    "ExecuteTime": {
     "end_time": "2021-04-16T00:33:53.888614Z",
     "start_time": "2021-04-16T00:33:53.881766Z"
    }
   },
   "outputs": [],
   "source": [
    "reg_tree = DecisionTreeRegressor(random_state=42)"
   ]
  },
  {
   "cell_type": "code",
   "execution_count": 73,
   "metadata": {
    "ExecuteTime": {
     "end_time": "2021-04-16T00:33:53.896846Z",
     "start_time": "2021-04-16T00:33:53.889580Z"
    }
   },
   "outputs": [],
   "source": [
    "gridsearch_reg = GridSearchCV(estimator=reg_tree,\n",
    "                              param_grid=param_grid,\n",
    "                              scoring=ic,\n",
    "                              n_jobs=-1,\n",
    "                              cv=cv,\n",
    "                              refit=True,\n",
    "                              return_train_score=True)"
   ]
  },
  {
   "cell_type": "code",
   "execution_count": 74,
   "metadata": {
    "ExecuteTime": {
     "end_time": "2021-04-16T00:34:33.328283Z",
     "start_time": "2021-04-16T00:33:53.897801Z"
    }
   },
   "outputs": [
    {
     "name": "stdout",
     "output_type": "stream",
     "text": [
      "---------{dates}\n",
      "---------{dates}\n",
      "---------{dates}\n",
      "---------{dates}\n",
      "---------{dates}\n"
     ]
    },
    {
     "data": {
      "text/html": [
       "<style>#sk-container-id-8 {color: black;}#sk-container-id-8 pre{padding: 0;}#sk-container-id-8 div.sk-toggleable {background-color: white;}#sk-container-id-8 label.sk-toggleable__label {cursor: pointer;display: block;width: 100%;margin-bottom: 0;padding: 0.3em;box-sizing: border-box;text-align: center;}#sk-container-id-8 label.sk-toggleable__label-arrow:before {content: \"▸\";float: left;margin-right: 0.25em;color: #696969;}#sk-container-id-8 label.sk-toggleable__label-arrow:hover:before {color: black;}#sk-container-id-8 div.sk-estimator:hover label.sk-toggleable__label-arrow:before {color: black;}#sk-container-id-8 div.sk-toggleable__content {max-height: 0;max-width: 0;overflow: hidden;text-align: left;background-color: #f0f8ff;}#sk-container-id-8 div.sk-toggleable__content pre {margin: 0.2em;color: black;border-radius: 0.25em;background-color: #f0f8ff;}#sk-container-id-8 input.sk-toggleable__control:checked~div.sk-toggleable__content {max-height: 200px;max-width: 100%;overflow: auto;}#sk-container-id-8 input.sk-toggleable__control:checked~label.sk-toggleable__label-arrow:before {content: \"▾\";}#sk-container-id-8 div.sk-estimator input.sk-toggleable__control:checked~label.sk-toggleable__label {background-color: #d4ebff;}#sk-container-id-8 div.sk-label input.sk-toggleable__control:checked~label.sk-toggleable__label {background-color: #d4ebff;}#sk-container-id-8 input.sk-hidden--visually {border: 0;clip: rect(1px 1px 1px 1px);clip: rect(1px, 1px, 1px, 1px);height: 1px;margin: -1px;overflow: hidden;padding: 0;position: absolute;width: 1px;}#sk-container-id-8 div.sk-estimator {font-family: monospace;background-color: #f0f8ff;border: 1px dotted black;border-radius: 0.25em;box-sizing: border-box;margin-bottom: 0.5em;}#sk-container-id-8 div.sk-estimator:hover {background-color: #d4ebff;}#sk-container-id-8 div.sk-parallel-item::after {content: \"\";width: 100%;border-bottom: 1px solid gray;flex-grow: 1;}#sk-container-id-8 div.sk-label:hover label.sk-toggleable__label {background-color: #d4ebff;}#sk-container-id-8 div.sk-serial::before {content: \"\";position: absolute;border-left: 1px solid gray;box-sizing: border-box;top: 0;bottom: 0;left: 50%;z-index: 0;}#sk-container-id-8 div.sk-serial {display: flex;flex-direction: column;align-items: center;background-color: white;padding-right: 0.2em;padding-left: 0.2em;position: relative;}#sk-container-id-8 div.sk-item {position: relative;z-index: 1;}#sk-container-id-8 div.sk-parallel {display: flex;align-items: stretch;justify-content: center;background-color: white;position: relative;}#sk-container-id-8 div.sk-item::before, #sk-container-id-8 div.sk-parallel-item::before {content: \"\";position: absolute;border-left: 1px solid gray;box-sizing: border-box;top: 0;bottom: 0;left: 50%;z-index: -1;}#sk-container-id-8 div.sk-parallel-item {display: flex;flex-direction: column;z-index: 1;position: relative;background-color: white;}#sk-container-id-8 div.sk-parallel-item:first-child::after {align-self: flex-end;width: 50%;}#sk-container-id-8 div.sk-parallel-item:last-child::after {align-self: flex-start;width: 50%;}#sk-container-id-8 div.sk-parallel-item:only-child::after {width: 0;}#sk-container-id-8 div.sk-dashed-wrapped {border: 1px dashed gray;margin: 0 0.4em 0.5em 0.4em;box-sizing: border-box;padding-bottom: 0.4em;background-color: white;}#sk-container-id-8 div.sk-label label {font-family: monospace;font-weight: bold;display: inline-block;line-height: 1.2em;}#sk-container-id-8 div.sk-label-container {text-align: center;}#sk-container-id-8 div.sk-container {/* jupyter's `normalize.less` sets `[hidden] { display: none; }` but bootstrap.min.css set `[hidden] { display: none !important; }` so we also need the `!important` here to be able to override the default hidden behavior on the sphinx rendered scikit-learn.org. See: https://github.com/scikit-learn/scikit-learn/issues/21755 */display: inline-block !important;position: relative;}#sk-container-id-8 div.sk-text-repr-fallback {display: none;}</style><div id=\"sk-container-id-8\" class=\"sk-top-container\"><div class=\"sk-text-repr-fallback\"><pre>GridSearchCV(cv=&lt;utils.MultipleTimeSeriesCV object at 0x158744ac0&gt;,\n",
       "             estimator=DecisionTreeRegressor(random_state=42), n_jobs=-1,\n",
       "             param_grid={&#x27;max_depth&#x27;: [2, 3, 4, 5, 6, 7, 8, 10, 12, 15],\n",
       "                         &#x27;max_features&#x27;: [&#x27;sqrt&#x27;, &#x27;auto&#x27;],\n",
       "                         &#x27;min_samples_leaf&#x27;: [5, 25, 50, 100]},\n",
       "             return_train_score=True, scoring=make_scorer(rank_correl))</pre><b>In a Jupyter environment, please rerun this cell to show the HTML representation or trust the notebook. <br />On GitHub, the HTML representation is unable to render, please try loading this page with nbviewer.org.</b></div><div class=\"sk-container\" hidden><div class=\"sk-item sk-dashed-wrapped\"><div class=\"sk-label-container\"><div class=\"sk-label sk-toggleable\"><input class=\"sk-toggleable__control sk-hidden--visually\" id=\"sk-estimator-id-10\" type=\"checkbox\" ><label for=\"sk-estimator-id-10\" class=\"sk-toggleable__label sk-toggleable__label-arrow\">GridSearchCV</label><div class=\"sk-toggleable__content\"><pre>GridSearchCV(cv=&lt;utils.MultipleTimeSeriesCV object at 0x158744ac0&gt;,\n",
       "             estimator=DecisionTreeRegressor(random_state=42), n_jobs=-1,\n",
       "             param_grid={&#x27;max_depth&#x27;: [2, 3, 4, 5, 6, 7, 8, 10, 12, 15],\n",
       "                         &#x27;max_features&#x27;: [&#x27;sqrt&#x27;, &#x27;auto&#x27;],\n",
       "                         &#x27;min_samples_leaf&#x27;: [5, 25, 50, 100]},\n",
       "             return_train_score=True, scoring=make_scorer(rank_correl))</pre></div></div></div><div class=\"sk-parallel\"><div class=\"sk-parallel-item\"><div class=\"sk-item\"><div class=\"sk-label-container\"><div class=\"sk-label sk-toggleable\"><input class=\"sk-toggleable__control sk-hidden--visually\" id=\"sk-estimator-id-11\" type=\"checkbox\" ><label for=\"sk-estimator-id-11\" class=\"sk-toggleable__label sk-toggleable__label-arrow\">estimator: DecisionTreeRegressor</label><div class=\"sk-toggleable__content\"><pre>DecisionTreeRegressor(random_state=42)</pre></div></div></div><div class=\"sk-serial\"><div class=\"sk-item\"><div class=\"sk-estimator sk-toggleable\"><input class=\"sk-toggleable__control sk-hidden--visually\" id=\"sk-estimator-id-12\" type=\"checkbox\" ><label for=\"sk-estimator-id-12\" class=\"sk-toggleable__label sk-toggleable__label-arrow\">DecisionTreeRegressor</label><div class=\"sk-toggleable__content\"><pre>DecisionTreeRegressor(random_state=42)</pre></div></div></div></div></div></div></div></div></div></div>"
      ],
      "text/plain": [
       "GridSearchCV(cv=<utils.MultipleTimeSeriesCV object at 0x158744ac0>,\n",
       "             estimator=DecisionTreeRegressor(random_state=42), n_jobs=-1,\n",
       "             param_grid={'max_depth': [2, 3, 4, 5, 6, 7, 8, 10, 12, 15],\n",
       "                         'max_features': ['sqrt', 'auto'],\n",
       "                         'min_samples_leaf': [5, 25, 50, 100]},\n",
       "             return_train_score=True, scoring=make_scorer(rank_correl))"
      ]
     },
     "execution_count": 74,
     "metadata": {},
     "output_type": "execute_result"
    }
   ],
   "source": [
    "gridsearch_reg.fit(X=X, y=y)"
   ]
  },
  {
   "cell_type": "code",
   "execution_count": 75,
   "metadata": {
    "ExecuteTime": {
     "end_time": "2021-04-16T00:34:33.340010Z",
     "start_time": "2021-04-16T00:34:33.333245Z"
    }
   },
   "outputs": [
    {
     "data": {
      "text/plain": [
       "{'max_depth': 10, 'max_features': 'sqrt', 'min_samples_leaf': 50}"
      ]
     },
     "execution_count": 75,
     "metadata": {},
     "output_type": "execute_result"
    }
   ],
   "source": [
    "gridsearch_reg.best_params_"
   ]
  },
  {
   "cell_type": "code",
   "execution_count": 76,
   "metadata": {
    "ExecuteTime": {
     "end_time": "2021-04-16T00:34:33.351382Z",
     "start_time": "2021-04-16T00:34:33.341496Z"
    }
   },
   "outputs": [
    {
     "data": {
      "text/plain": [
       "0.22669075704064104"
      ]
     },
     "execution_count": 76,
     "metadata": {},
     "output_type": "execute_result"
    }
   ],
   "source": [
    "gridsearch_reg.best_score_"
   ]
  },
  {
   "cell_type": "code",
   "execution_count": 77,
   "metadata": {
    "ExecuteTime": {
     "end_time": "2021-04-16T00:34:33.363598Z",
     "start_time": "2021-04-16T00:34:33.352847Z"
    }
   },
   "outputs": [
    {
     "data": {
      "text/html": [
       "<div>\n",
       "<style scoped>\n",
       "    .dataframe tbody tr th:only-of-type {\n",
       "        vertical-align: middle;\n",
       "    }\n",
       "\n",
       "    .dataframe tbody tr th {\n",
       "        vertical-align: top;\n",
       "    }\n",
       "\n",
       "    .dataframe thead th {\n",
       "        text-align: right;\n",
       "    }\n",
       "</style>\n",
       "<table border=\"1\" class=\"dataframe\">\n",
       "  <thead>\n",
       "    <tr style=\"text-align: right;\">\n",
       "      <th></th>\n",
       "      <th>Regression</th>\n",
       "      <th>Classification</th>\n",
       "    </tr>\n",
       "  </thead>\n",
       "  <tbody>\n",
       "    <tr>\n",
       "      <th>max_depth</th>\n",
       "      <td>10</td>\n",
       "      <td>6</td>\n",
       "    </tr>\n",
       "    <tr>\n",
       "      <th>max_features</th>\n",
       "      <td>sqrt</td>\n",
       "      <td>sqrt</td>\n",
       "    </tr>\n",
       "    <tr>\n",
       "      <th>min_samples_leaf</th>\n",
       "      <td>50</td>\n",
       "      <td>50</td>\n",
       "    </tr>\n",
       "  </tbody>\n",
       "</table>\n",
       "</div>"
      ],
      "text/plain": [
       "                 Regression Classification\n",
       "max_depth                10              6\n",
       "max_features           sqrt           sqrt\n",
       "min_samples_leaf         50             50"
      ]
     },
     "execution_count": 77,
     "metadata": {},
     "output_type": "execute_result"
    }
   ],
   "source": [
    "pd.DataFrame({'Regression': pd.Series(gridsearch_reg.best_params_),\n",
    "              'Classification': pd.Series(gridsearch_clf.best_params_)})"
   ]
  },
  {
   "cell_type": "markdown",
   "metadata": {},
   "source": [
    "### Classifier Cross-Validation"
   ]
  },
  {
   "cell_type": "markdown",
   "metadata": {},
   "source": [
    "Cross-validation is the most important tool to obtain an unbiased estimate of the generalization error, which in turn permits an informed choice among the various configuration options. sklearn offers several tools to facilitate the process of cross-validating numerous parameter settings, namely the GridSearchCV convenience class that we will illustrate in the next section. "
   ]
  },
  {
   "cell_type": "markdown",
   "metadata": {},
   "source": [
    "The following code illustrates how to run cross-validation more manually to obtain custom tree attributes, such as the total number of nodes or leaf nodes associated with certain hyperparameter settings. \n",
    "\n",
    "The following function accesses the internal `.tree_` attribute to retrieve information about the total node count, and how many of these nodes are leaf nodes:"
   ]
  },
  {
   "cell_type": "code",
   "execution_count": 78,
   "metadata": {
    "ExecuteTime": {
     "end_time": "2021-04-16T00:34:33.369594Z",
     "start_time": "2021-04-16T00:34:33.364452Z"
    }
   },
   "outputs": [],
   "source": [
    "def get_leaves_count(tree):\n",
    "    t = tree.tree_\n",
    "    n = t.node_count\n",
    "    leaves = len([i for i in range(t.node_count) if t.children_left[i]== -1])\n",
    "    return leaves"
   ]
  },
  {
   "cell_type": "markdown",
   "metadata": {},
   "source": [
    "We can combine this information with the train and test scores to gain detailed knowledge about the model behavior throughout the cross-validation process, as follows:"
   ]
  },
  {
   "cell_type": "code",
   "execution_count": 79,
   "metadata": {
    "ExecuteTime": {
     "end_time": "2021-04-16T00:34:46.896130Z",
     "start_time": "2021-04-16T00:34:33.377385Z"
    },
    "scrolled": true
   },
   "outputs": [
    {
     "name": "stdout",
     "output_type": "stream",
     "text": [
      "1 ---------{dates}\n",
      "---------{dates}\n",
      "---------{dates}\n",
      "---------{dates}\n",
      "---------{dates}\n",
      "2 ---------{dates}\n",
      "---------{dates}\n",
      "---------{dates}\n",
      "---------{dates}\n",
      "---------{dates}\n",
      "3 ---------{dates}\n",
      "---------{dates}\n",
      "---------{dates}\n",
      "---------{dates}\n",
      "---------{dates}\n",
      "4 ---------{dates}\n",
      "---------{dates}\n",
      "---------{dates}\n",
      "---------{dates}\n",
      "---------{dates}\n",
      "5 ---------{dates}\n",
      "---------{dates}\n",
      "---------{dates}\n",
      "---------{dates}\n",
      "---------{dates}\n",
      "6 ---------{dates}\n",
      "---------{dates}\n",
      "---------{dates}\n",
      "---------{dates}\n",
      "---------{dates}\n",
      "7 ---------{dates}\n",
      "---------{dates}\n",
      "---------{dates}\n",
      "---------{dates}\n",
      "---------{dates}\n",
      "8 ---------{dates}\n",
      "---------{dates}\n",
      "---------{dates}\n",
      "---------{dates}\n",
      "---------{dates}\n",
      "9 ---------{dates}\n",
      "---------{dates}\n",
      "---------{dates}\n",
      "---------{dates}\n",
      "---------{dates}\n",
      "10 ---------{dates}\n",
      "---------{dates}\n",
      "---------{dates}\n",
      "---------{dates}\n",
      "---------{dates}\n",
      "11 ---------{dates}\n",
      "---------{dates}\n",
      "---------{dates}\n",
      "---------{dates}\n",
      "---------{dates}\n",
      "12 ---------{dates}\n",
      "---------{dates}\n",
      "---------{dates}\n",
      "---------{dates}\n",
      "---------{dates}\n",
      "13 ---------{dates}\n",
      "---------{dates}\n",
      "---------{dates}\n",
      "---------{dates}\n",
      "---------{dates}\n",
      "14 ---------{dates}\n",
      "---------{dates}\n",
      "---------{dates}\n",
      "---------{dates}\n",
      "---------{dates}\n",
      "15 ---------{dates}\n",
      "---------{dates}\n",
      "---------{dates}\n",
      "---------{dates}\n",
      "---------{dates}\n"
     ]
    }
   ],
   "source": [
    "train_scores, val_scores, leaves = {}, {}, {}\n",
    "for max_depth in max_depths:\n",
    "    print(max_depth, end=' ', flush=True)\n",
    "    clf = DecisionTreeClassifier(criterion='gini', \n",
    "                                 max_depth=max_depth,\n",
    "                                 min_samples_leaf=5,\n",
    "                                 max_features='sqrt',\n",
    "                                 random_state=42)\n",
    "    train_scores[max_depth], val_scores[max_depth], leaves[max_depth] = [], [], []\n",
    "    for train_idx, test_idx in cv.split(X):\n",
    "        X_train, y_train,  = X.iloc[train_idx], y_binary.iloc[train_idx]\n",
    "        X_test, y_test = X.iloc[test_idx], y_binary.iloc[test_idx]\n",
    "        clf.fit(X=X_train, y=y_train)\n",
    "\n",
    "        train_pred = clf.predict_proba(X=X_train)[:, 1]\n",
    "        train_score = roc_auc_score(y_score=train_pred, y_true=y_train)\n",
    "        train_scores[max_depth].append(train_score)\n",
    "\n",
    "        test_pred = clf.predict_proba(X=X_test)[:, 1]\n",
    "        val_score = roc_auc_score(y_score=test_pred, y_true=y_test)\n",
    "        val_scores[max_depth].append(val_score)    \n",
    "        leaves[max_depth].append(get_leaves_count(clf))\n",
    "        \n",
    "clf_train_scores = pd.DataFrame(train_scores)\n",
    "clf_valid_scores = pd.DataFrame(val_scores)\n",
    "clf_leaves = pd.DataFrame(leaves)"
   ]
  },
  {
   "cell_type": "code",
   "execution_count": 80,
   "metadata": {
    "ExecuteTime": {
     "end_time": "2021-04-16T00:34:46.906671Z",
     "start_time": "2021-04-16T00:34:46.898503Z"
    }
   },
   "outputs": [],
   "source": [
    "clf_cv_data = pd.concat([pd.melt(clf_train_scores,\n",
    "                                 var_name='Max. Depth',\n",
    "                                 value_name='ROC AUC').assign(Data='Train'),\n",
    "                         pd.melt(clf_valid_scores,\n",
    "                                 var_name='Max. Depth',\n",
    "                                 value_name='ROC AUC').assign(Data='Valid')])"
   ]
  },
  {
   "cell_type": "markdown",
   "metadata": {},
   "source": [
    "### Regression tree cross-validation"
   ]
  },
  {
   "cell_type": "markdown",
   "metadata": {},
   "source": [
    "#### Run cross-validation"
   ]
  },
  {
   "cell_type": "code",
   "execution_count": 81,
   "metadata": {
    "ExecuteTime": {
     "end_time": "2021-04-16T00:34:58.712044Z",
     "start_time": "2021-04-16T00:34:46.907862Z"
    }
   },
   "outputs": [
    {
     "name": "stdout",
     "output_type": "stream",
     "text": [
      "1 ---------{dates}\n",
      "---------{dates}\n",
      "---------{dates}\n",
      "---------{dates}\n",
      "---------{dates}\n",
      "2 ---------{dates}\n",
      "---------{dates}\n",
      "---------{dates}\n",
      "---------{dates}\n",
      "---------{dates}\n",
      "3 ---------{dates}\n",
      "---------{dates}\n",
      "---------{dates}\n",
      "---------{dates}\n",
      "---------{dates}\n",
      "4 ---------{dates}\n",
      "---------{dates}\n",
      "---------{dates}\n",
      "---------{dates}\n",
      "---------{dates}\n",
      "5 ---------{dates}\n",
      "---------{dates}\n",
      "---------{dates}\n",
      "---------{dates}\n",
      "---------{dates}\n",
      "6 ---------{dates}\n",
      "---------{dates}\n",
      "---------{dates}\n",
      "---------{dates}\n",
      "---------{dates}\n",
      "7 ---------{dates}\n",
      "---------{dates}\n",
      "---------{dates}\n",
      "---------{dates}\n",
      "---------{dates}\n",
      "8 ---------{dates}\n",
      "---------{dates}\n",
      "---------{dates}\n",
      "---------{dates}\n",
      "---------{dates}\n",
      "9 ---------{dates}\n",
      "---------{dates}\n",
      "---------{dates}\n",
      "---------{dates}\n",
      "---------{dates}\n",
      "10 ---------{dates}\n",
      "---------{dates}\n",
      "---------{dates}\n",
      "---------{dates}\n",
      "---------{dates}\n",
      "11 ---------{dates}\n",
      "---------{dates}\n",
      "---------{dates}\n",
      "---------{dates}\n",
      "---------{dates}\n",
      "12 ---------{dates}\n",
      "---------{dates}\n",
      "---------{dates}\n",
      "---------{dates}\n",
      "---------{dates}\n",
      "13 ---------{dates}\n",
      "---------{dates}\n",
      "---------{dates}\n",
      "---------{dates}\n",
      "---------{dates}\n",
      "14 ---------{dates}\n",
      "---------{dates}\n",
      "---------{dates}\n",
      "---------{dates}\n",
      "---------{dates}\n",
      "15 ---------{dates}\n",
      "---------{dates}\n",
      "---------{dates}\n",
      "---------{dates}\n",
      "---------{dates}\n"
     ]
    }
   ],
   "source": [
    "train_scores, val_scores, leaves = {}, {}, {}\n",
    "for max_depth in max_depths:\n",
    "    print(max_depth, end=' ', flush=True)\n",
    "    reg_tree = DecisionTreeRegressor(max_depth=max_depth,\n",
    "                                     min_samples_leaf=50,\n",
    "                                     max_features= 'sqrt',\n",
    "                                     random_state=42)\n",
    "    train_scores[max_depth], val_scores[max_depth], leaves[max_depth] = [], [], []\n",
    "    for train_idx, test_idx in cv.split(X):\n",
    "        X_train, y_train,  = X.iloc[train_idx], y.iloc[train_idx]\n",
    "        X_test, y_test = X.iloc[test_idx], y.iloc[test_idx]\n",
    "        reg_tree.fit(X=X_train, y=y_train)\n",
    "\n",
    "        train_pred = reg_tree.predict(X=X_train)\n",
    "        train_score = spearmanr(train_pred, y_train)[0]\n",
    "        train_scores[max_depth].append(train_score)\n",
    "\n",
    "        test_pred = reg_tree.predict(X=X_test)\n",
    "        val_score = spearmanr(test_pred, y_test)[0]\n",
    "        val_scores[max_depth].append(val_score)\n",
    "        leaves[max_depth].append(get_leaves_count(reg_tree))\n",
    "\n",
    "reg_train_scores = pd.DataFrame(train_scores)\n",
    "reg_valid_scores = pd.DataFrame(val_scores)\n",
    "reg_leaves = pd.DataFrame(leaves)"
   ]
  },
  {
   "cell_type": "code",
   "execution_count": 82,
   "metadata": {
    "ExecuteTime": {
     "end_time": "2021-04-16T00:34:58.719502Z",
     "start_time": "2021-04-16T00:34:58.712895Z"
    }
   },
   "outputs": [],
   "source": [
    "reg_cv_data = pd.concat(\n",
    "    [pd.melt(reg_train_scores, var_name='Max. Depth', value_name='IC').assign(Data='Train'),\n",
    "     pd.melt(reg_valid_scores, var_name='Max. Depth', value_name='IC').assign(Data='Valid')],\n",
    "    ignore_index=True)"
   ]
  },
  {
   "cell_type": "markdown",
   "metadata": {},
   "source": [
    "### Compare CV Results"
   ]
  },
  {
   "cell_type": "code",
   "execution_count": 83,
   "metadata": {
    "ExecuteTime": {
     "end_time": "2021-04-16T00:35:00.042515Z",
     "start_time": "2021-04-16T00:34:58.720596Z"
    },
    "scrolled": true
   },
   "outputs": [
    {
     "data": {
      "image/png": "[encoded data removed]",
      "text/plain": [
       "<Figure size 1400x1000 with 2 Axes>"
      ]
     },
     "metadata": {},
     "output_type": "display_data"
    }
   ],
   "source": [
    "fig, axes = plt.subplots(ncols=2, figsize=(14, 10))\n",
    "\n",
    "sns.lineplot(data=reg_cv_data,\n",
    "             x='Max. Depth', y='IC',\n",
    "             hue='Data', ci=95,\n",
    "             ax=axes[0], lw=2)\n",
    "\n",
    "axes[0].set_title('Regression Tree')\n",
    "axes[0].axvline(x=reg_valid_scores.mean().idxmax(), ls='--', c='k', lw=1)\n",
    "axes[0].axhline(y=0, ls='--', c='k', lw=1)\n",
    "\n",
    "sns.lineplot(data=clf_cv_data,\n",
    "             x='Max. Depth', y='ROC AUC',\n",
    "             hue='Data', ci=95,\n",
    "             ax=axes[1], lw=2)\n",
    "\n",
    "axes[1].set_title('Classification Tree')\n",
    "axes[1].axvline(x=clf_valid_scores.mean().idxmax(), ls='--', c='k', lw=1)\n",
    "axes[1].axhline(y=.5, ls='--', c='k', lw=1)\n",
    "for ax in axes:\n",
    "    ax.set_xlim(min(param_grid['max_depth']),\n",
    "                max(param_grid['max_depth']))\n",
    "\n",
    "fig.suptitle(f'Train-Validation Scores', fontsize=14)\n",
    "sns.despine()\n",
    "fig.tight_layout()\n",
    "fig.subplots_adjust(top=.91)"
   ]
  },
  {
   "cell_type": "markdown",
   "metadata": {},
   "source": [
    "### Learning Curves for best models"
   ]
  },
  {
   "cell_type": "markdown",
   "metadata": {},
   "source": [
    "A learning curve is a useful tool that displays how the validation and training score evolve as the number of training samples evolves.\n",
    "\n",
    "The purpose of the learning curve is to find out whether and how much the model would benefit from using more data during training. It is also useful to diagnose whether the model's generalization error is more likely driven by bias or variance.\n",
    "\n",
    "If, for example, both the validation score and the training score converge to a similarly low value despite an increasing training set size, the error is more likely due to bias, and additional training data is unlikely to help."
   ]
  },
  {
   "cell_type": "markdown",
   "metadata": {},
   "source": [
    "#### Classifier"
   ]
  },
  {
   "cell_type": "code",
   "execution_count": 84,
   "metadata": {
    "ExecuteTime": {
     "end_time": "2021-04-16T00:35:00.045677Z",
     "start_time": "2021-04-16T00:35:00.043552Z"
    }
   },
   "outputs": [],
   "source": [
    "sizes = np.arange(.1, 1.01, .1)"
   ]
  },
  {
   "cell_type": "code",
   "execution_count": 85,
   "metadata": {
    "ExecuteTime": {
     "end_time": "2021-04-16T00:35:01.724318Z",
     "start_time": "2021-04-16T00:35:00.052073Z"
    }
   },
   "outputs": [
    {
     "name": "stdout",
     "output_type": "stream",
     "text": [
      "---------{dates}\n",
      "---------{dates}\n",
      "---------{dates}\n",
      "---------{dates}\n",
      "---------{dates}\n"
     ]
    }
   ],
   "source": [
    "train_sizes, train_scores, valid_scores = learning_curve(gridsearch_clf.best_estimator_,\n",
    "                                                         X,\n",
    "                                                         y_binary,\n",
    "                                                         train_sizes=sizes,\n",
    "                                                         cv=cv,\n",
    "                                                         scoring='roc_auc',\n",
    "                                                         n_jobs=-1,\n",
    "                                                         shuffle=True,\n",
    "                                                         random_state=42)"
   ]
  },
  {
   "cell_type": "code",
   "execution_count": 86,
   "metadata": {
    "ExecuteTime": {
     "end_time": "2021-04-16T00:35:01.738102Z",
     "start_time": "2021-04-16T00:35:01.725318Z"
    }
   },
   "outputs": [
    {
     "name": "stdout",
     "output_type": "stream",
     "text": [
      "<class 'pandas.core.frame.DataFrame'>\n",
      "Index: 100 entries, 0 to 49\n",
      "Data columns (total 3 columns):\n",
      " #   Column      Non-Null Count  Dtype  \n",
      "---  ------      --------------  -----  \n",
      " 0   Train Size  100 non-null    int64  \n",
      " 1   ROC AUC     100 non-null    float64\n",
      " 2   Data        100 non-null    object \n",
      "dtypes: float64(1), int64(1), object(1)\n",
      "memory usage: 3.1+ KB\n"
     ]
    }
   ],
   "source": [
    "clf_lc_data = pd.concat([\n",
    "    pd.melt(pd.DataFrame(train_scores.T, columns=train_sizes),\n",
    "            var_name='Train Size',\n",
    "            value_name='ROC AUC').assign(Data='Train'),\n",
    "    pd.melt(pd.DataFrame(valid_scores.T, columns=train_sizes),\n",
    "            var_name='Train Size',\n",
    "            value_name='ROC AUC').assign(Data='Valid')])\n",
    "clf_lc_data.info()"
   ]
  },
  {
   "cell_type": "markdown",
   "metadata": {},
   "source": [
    "#### Regression Tree"
   ]
  },
  {
   "cell_type": "code",
   "execution_count": 87,
   "metadata": {
    "ExecuteTime": {
     "end_time": "2021-04-16T00:35:03.354249Z",
     "start_time": "2021-04-16T00:35:01.739800Z"
    }
   },
   "outputs": [
    {
     "name": "stdout",
     "output_type": "stream",
     "text": [
      "---------{dates}\n",
      "---------{dates}\n",
      "---------{dates}\n",
      "---------{dates}\n",
      "---------{dates}\n"
     ]
    }
   ],
   "source": [
    "train_sizes, train_scores, valid_scores = learning_curve(gridsearch_reg.best_estimator_,\n",
    "                                                         X, y,\n",
    "                                                         train_sizes=sizes,\n",
    "                                                         cv=cv,\n",
    "                                                         scoring=ic,\n",
    "                                                         n_jobs=-1,\n",
    "                                                         shuffle=True,\n",
    "                                                         random_state=42)"
   ]
  },
  {
   "cell_type": "code",
   "execution_count": 88,
   "metadata": {
    "ExecuteTime": {
     "end_time": "2021-04-16T00:35:03.370414Z",
     "start_time": "2021-04-16T00:35:03.355248Z"
    }
   },
   "outputs": [
    {
     "name": "stdout",
     "output_type": "stream",
     "text": [
      "<class 'pandas.core.frame.DataFrame'>\n",
      "Index: 100 entries, 0 to 49\n",
      "Data columns (total 3 columns):\n",
      " #   Column      Non-Null Count  Dtype  \n",
      "---  ------      --------------  -----  \n",
      " 0   Train Size  100 non-null    int64  \n",
      " 1   IC          100 non-null    float64\n",
      " 2   Data        100 non-null    object \n",
      "dtypes: float64(1), int64(1), object(1)\n",
      "memory usage: 3.1+ KB\n"
     ]
    }
   ],
   "source": [
    "reg_lc_data = pd.concat([\n",
    "    pd.melt(pd.DataFrame(train_scores.T,\n",
    "                         columns=train_sizes),\n",
    "            var_name='Train Size',\n",
    "            value_name='IC').assign(Data='Train'),\n",
    "    pd.melt(pd.DataFrame(valid_scores.T,\n",
    "                         columns=train_sizes),\n",
    "            var_name='Train Size',\n",
    "            value_name='IC').assign(Data='Valid')])\n",
    "reg_lc_data.info()"
   ]
  },
  {
   "cell_type": "markdown",
   "metadata": {},
   "source": [
    "#### Compare Learning Curves"
   ]
  },
  {
   "cell_type": "code",
   "execution_count": 89,
   "metadata": {},
   "outputs": [
    {
     "data": {
      "text/plain": [
       "Index([ 0,  1,  2,  3,  4,  5,  6,  7,  8,  9, 10, 11, 12, 13, 14, 15, 16, 17,\n",
       "       18, 19, 20, 21, 22, 23, 24, 25, 26, 27, 28, 29, 30, 31, 32, 33, 34, 35,\n",
       "       36, 37, 38, 39, 40, 41, 42, 43, 44, 45, 46, 47, 48, 49,  0,  1,  2,  3,\n",
       "        4,  5,  6,  7,  8,  9, 10, 11, 12, 13, 14, 15, 16, 17, 18, 19, 20, 21,\n",
       "       22, 23, 24, 25, 26, 27, 28, 29, 30, 31, 32, 33, 34, 35, 36, 37, 38, 39,\n",
       "       40, 41, 42, 43, 44, 45, 46, 47, 48, 49],\n",
       "      dtype='int64')"
      ]
     },
     "execution_count": 89,
     "metadata": {},
     "output_type": "execute_result"
    }
   ],
   "source": [
    "reg_lc_data.index"
   ]
  },
  {
   "cell_type": "code",
   "execution_count": 94,
   "metadata": {
    "ExecuteTime": {
     "end_time": "2021-04-16T00:35:04.388657Z",
     "start_time": "2021-04-16T00:35:03.371672Z"
    }
   },
   "outputs": [
    {
     "data": {
      "image/png": "[encoded data removed]",
      "text/plain": [
       "<Figure size 1400x700 with 2 Axes>"
      ]
     },
     "metadata": {},
     "output_type": "display_data"
    }
   ],
   "source": [
    "fig, axes = plt.subplots(ncols=2, figsize=(14, 7))\n",
    "xmin, xmax = reg_lc_data['Train Size'].min(), reg_lc_data['Train Size'].max()\n",
    "\n",
    "sns.lineplot(data=reg_lc_data,\n",
    "             x='Train Size', y='IC',\n",
    "             hue='Data', ci=95,  ax=axes[0], lw=2)\n",
    "axes[0].set_title('Best Regression Tree')\n",
    "axes[0].set_ylabel('IC')\n",
    "\n",
    "axes[0].xaxis.set_major_formatter(\n",
    "    FuncFormatter(lambda x, _: '{:,.0f}'.format(x)))\n",
    "\n",
    "sns.lineplot(data=clf_lc_data,\n",
    "             x='Train Size',\n",
    "             y='ROC AUC',\n",
    "             hue='Data',\n",
    "             ci=95,\n",
    "             ax=axes[1],\n",
    "             lw=2)\n",
    "axes[1].set_title('Best Classification Tree')\n",
    "axes[1].set_ylabel('ROC AUC')\n",
    "axes[1].xaxis.set_major_formatter(\n",
    "    FuncFormatter(lambda x, _: '{:,.0f}'.format(x)))\n",
    "\n",
    "for i in [0, 1]:\n",
    "    axes[i].tick_params(axis='both', which='major', labelsize=10)\n",
    "    axes[i].tick_params(axis='both', which='minor', labelsize=8)\n",
    "    axes[i].set_xlim(xmin, xmax)\n",
    "\n",
    "fig.suptitle('Learning Curves', fontsize=14)\n",
    "sns.despine()\n",
    "fig.tight_layout()\n",
    "fig.subplots_adjust(top=.9)"
   ]
  },
  {
   "cell_type": "markdown",
   "metadata": {},
   "source": [
    "### Feature Importance"
   ]
  },
  {
   "cell_type": "markdown",
   "metadata": {},
   "source": [
    "Decision trees can not only be visualized to inspect the decision path for a given feature, but also provide a summary measure of the contribution of each feature to the model fit to the training data. \n",
    "\n",
    "The feature importance captures how much the splits produced by the feature helped to optimize the model's metric used to evaluate the split quality, which in our case is the Gini Impurity index. \n",
    "\n",
    "A feature's importance is computed as the (normalized) total reduction of this metric and takes into account the number of samples affected by a split. Hence, features used earlier in the tree where the nodes tend to contain more samples typically are considered of higher importance."
   ]
  },
  {
   "cell_type": "code",
   "execution_count": 91,
   "metadata": {
    "ExecuteTime": {
     "end_time": "2021-04-16T00:35:04.395752Z",
     "start_time": "2021-04-16T00:35:04.389724Z"
    }
   },
   "outputs": [],
   "source": [
    "top_n = 15\n",
    "labels = X.columns.str.replace('_', ' ').str.upper()\n",
    "fi_clf = (pd.Series(gridsearch_clf.best_estimator_.feature_importances_, \n",
    "                    index=labels).sort_values(ascending=False).iloc[:top_n])\n",
    "fi_reg = (pd.Series(gridsearch_reg.best_estimator_.feature_importances_, \n",
    "                    index=labels).sort_values(ascending=False).iloc[:top_n])"
   ]
  },
  {
   "cell_type": "code",
   "execution_count": 96,
   "metadata": {
    "ExecuteTime": {
     "end_time": "2021-04-16T00:35:04.714765Z",
     "start_time": "2021-04-16T00:35:04.396825Z"
    }
   },
   "outputs": [
    {
     "data": {
      "image/png": "[encoded data removed]",
      "text/plain": [
       "<Figure size 1200x600 with 2 Axes>"
      ]
     },
     "metadata": {},
     "output_type": "display_data"
    }
   ],
   "source": [
    "fig, axes= plt.subplots(ncols=2, figsize=(12,6), sharex=True)\n",
    "color = cm.Blues(np.linspace(.4,.9, top_n))\n",
    "fi_clf.sort_values().plot.barh(ax=axes[1], title='Classification Tree', color=color)\n",
    "fi_reg.sort_values().plot.barh(ax=axes[0], title='Regression Tree', color=color)\n",
    "axes[0].set_xlabel('Feature Importance')\n",
    "axes[1].set_xlabel('Feature Importance')\n",
    "fig.suptitle(f'Top {top_n} Features', fontsize=14)\n",
    "sns.despine()\n",
    "fig.tight_layout()\n",
    "fig.subplots_adjust(top=.9);"
   ]
  },
  {
   "cell_type": "code",
   "execution_count": null,
   "metadata": {},
   "outputs": [],
   "source": []
  }
 ],
 "metadata": {
  "kernelspec": {
   "display_name": "Python 3",
   "language": "python",
   "name": "python3"
  },
  "language_info": {
   "codemirror_mode": {
    "name": "ipython",
    "version": 3
   },
   "file_extension": ".py",
   "mimetype": "text/x-python",
   "name": "python",
   "nbconvert_exporter": "python",
   "pygments_lexer": "ipython3",
   "version": "3.8.19"
  },
  "toc": {
   "base_numbering": 1,
   "nav_menu": {},
   "number_sections": true,
   "sideBar": true,
   "skip_h1_title": true,
   "title_cell": "Table of Contents",
   "title_sidebar": "Contents",
   "toc_cell": false,
   "toc_position": {
    "height": "calc(100% - 180px)",
    "left": "10px",
    "top": "150px",
    "width": "343.837px"
   },
   "toc_section_display": true,
   "toc_window_display": true
  }
 },
 "nbformat": 4,
 "nbformat_minor": 2
}
