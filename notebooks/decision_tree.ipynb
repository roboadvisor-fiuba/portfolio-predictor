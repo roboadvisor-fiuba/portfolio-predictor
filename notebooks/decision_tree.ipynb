{
 "cells": [
  {
   "cell_type": "markdown",
   "metadata": {},
   "source": [
    "# How to use decision trees to predict equity returns and price moves"
   ]
  },
  {
   "cell_type": "markdown",
   "metadata": {},
   "source": [
    "In this notebook, we illustrate how to use tree-based models to gain insight and make predictions. \n",
    "\n",
    "To demonstrate regression trees we predict returns, and for the classification case, we return to the example of positive and negative asset price moves."
   ]
  },
  {
   "cell_type": "markdown",
   "metadata": {},
   "source": [
    "## Imports & Settings"
   ]
  },
  {
   "cell_type": "code",
   "execution_count": 326,
   "metadata": {
    "ExecuteTime": {
     "end_time": "2021-04-16T00:32:25.352734Z",
     "start_time": "2021-04-16T00:32:25.350697Z"
    }
   },
   "outputs": [],
   "source": [
    "import warnings\n",
    "warnings.filterwarnings('ignore')"
   ]
  },
  {
   "cell_type": "code",
   "execution_count": 327,
   "metadata": {
    "ExecuteTime": {
     "end_time": "2021-04-16T00:32:26.702500Z",
     "start_time": "2021-04-16T00:32:25.552972Z"
    }
   },
   "outputs": [],
   "source": [
    "%matplotlib inline\n",
    "\n",
    "import os, sys\n",
    "from pathlib import Path\n",
    "\n",
    "import numpy as np\n",
    "from scipy.stats import spearmanr\n",
    "import pandas as pd\n",
    "\n",
    "import matplotlib.pyplot as plt\n",
    "from matplotlib.ticker import FuncFormatter\n",
    "from matplotlib import cm\n",
    "import seaborn as sns\n",
    "\n",
    "from sklearn.tree import DecisionTreeClassifier, DecisionTreeRegressor, export_graphviz, _tree\n",
    "from sklearn.linear_model import LinearRegression, LogisticRegression\n",
    "from sklearn.model_selection import train_test_split, GridSearchCV, learning_curve\n",
    "from sklearn.metrics import roc_auc_score, roc_curve, mean_squared_error, make_scorer\n",
    "import graphviz\n",
    "\n",
    "import statsmodels.api as sm"
   ]
  },
  {
   "cell_type": "code",
   "execution_count": 328,
   "metadata": {
    "ExecuteTime": {
     "end_time": "2021-04-16T00:32:26.708683Z",
     "start_time": "2021-04-16T00:32:26.703952Z"
    }
   },
   "outputs": [],
   "source": [
    "sys.path.insert(1, os.path.join(sys.path[0], '..'))\n",
    "from utils import MultipleTimeSeriesCV"
   ]
  },
  {
   "cell_type": "code",
   "execution_count": 329,
   "metadata": {
    "ExecuteTime": {
     "end_time": "2021-04-16T00:32:26.721121Z",
     "start_time": "2021-04-16T00:32:26.709927Z"
    }
   },
   "outputs": [],
   "source": [
    "sns.set_style('white')"
   ]
  },
  {
   "cell_type": "code",
   "execution_count": 330,
   "metadata": {
    "ExecuteTime": {
     "end_time": "2021-04-16T00:32:26.730830Z",
     "start_time": "2021-04-16T00:32:26.722176Z"
    }
   },
   "outputs": [],
   "source": [
    "results_path = Path('results', 'decision_trees')\n",
    "if not results_path.exists():\n",
    "    results_path.mkdir(parents=True)"
   ]
  },
  {
   "cell_type": "markdown",
   "metadata": {},
   "source": [
    "## Load Model Data"
   ]
  },
  {
   "cell_type": "markdown",
   "metadata": {},
   "source": [
    "The decision tree models are not equipped to handle missing or categorical variables, so we will apply dummy encoding to the latter after dropping any of the former."
   ]
  },
  {
   "cell_type": "code",
   "execution_count": 331,
   "metadata": {
    "ExecuteTime": {
     "end_time": "2021-04-16T00:32:30.995569Z",
     "start_time": "2021-04-16T00:32:30.805133Z"
    },
    "scrolled": true
   },
   "outputs": [
    {
     "name": "stdout",
     "output_type": "stream",
     "text": [
      "<class 'pandas.core.frame.DataFrame'>\n",
      "MultiIndex: 4711 entries, ('ALUA.BA', Timestamp('2016-01-31 00:00:00')) to ('YPFD.BA', Timestamp('2023-11-30 00:00:00'))\n",
      "Data columns (total 28 columns):\n",
      " #   Column         Non-Null Count  Dtype  \n",
      "---  ------         --------------  -----  \n",
      " 0   money_volume   4711 non-null   float64\n",
      " 1   atr            4711 non-null   float64\n",
      " 2   bb_down        4711 non-null   float64\n",
      " 3   bb_high        4711 non-null   float64\n",
      " 4   bb_low         4711 non-null   float64\n",
      " 5   bb_mid         4711 non-null   float64\n",
      " 6   bb_up          4711 non-null   float64\n",
      " 7   macd           4711 non-null   float64\n",
      " 8   natr           4711 non-null   float64\n",
      " 9   rsi            4711 non-null   float64\n",
      " 10  sector         4711 non-null   object \n",
      " 11  return_1m      4711 non-null   float64\n",
      " 12  return_3m      4711 non-null   float64\n",
      " 13  return_6m      4711 non-null   float64\n",
      " 14  return_12m     4711 non-null   float64\n",
      " 15  beta           4711 non-null   float64\n",
      " 16  SMB            4711 non-null   float64\n",
      " 17  HML            4711 non-null   float64\n",
      " 18  RMW            4711 non-null   float64\n",
      " 19  CMA            4711 non-null   float64\n",
      " 20  momentum_3     4711 non-null   float64\n",
      " 21  momentum_6     4711 non-null   float64\n",
      " 22  momentum_3_6   4711 non-null   float64\n",
      " 23  momentum_12    4711 non-null   float64\n",
      " 24  momentum_3_12  4711 non-null   float64\n",
      " 25  year           4711 non-null   int32  \n",
      " 26  month          4711 non-null   int32  \n",
      " 27  target         4711 non-null   float64\n",
      "dtypes: float64(25), int32(2), object(1)\n",
      "memory usage: 1015.5+ KB\n"
     ]
    }
   ],
   "source": [
    "with pd.HDFStore('data.h5') as store:\n",
    "    data = store['merval/monthly']\n",
    "data.info()"
   ]
  },
  {
   "cell_type": "markdown",
   "metadata": {},
   "source": [
    "## Simple Regression Tree with Time Series Data"
   ]
  },
  {
   "cell_type": "markdown",
   "metadata": {},
   "source": [
    "We will train a Regression Tree only with a Time Series, meaning the returns from the current and previous month. This assumes there is a correlation between the increase/deacrease of a stock and it's impact on the following month."
   ]
  },
  {
   "cell_type": "markdown",
   "metadata": {},
   "source": [
    "### Generate two lags of monthly returns"
   ]
  },
  {
   "cell_type": "code",
   "execution_count": 332,
   "metadata": {
    "ExecuteTime": {
     "end_time": "2021-04-16T00:32:38.965107Z",
     "start_time": "2021-04-16T00:32:38.942472Z"
    },
    "scrolled": true
   },
   "outputs": [
    {
     "name": "stdout",
     "output_type": "stream",
     "text": [
      "<class 'pandas.core.frame.DataFrame'>\n",
      "MultiIndex: 4661 entries, ('ALUA.BA', Timestamp('2016-02-29 00:00:00')) to ('YPFD.BA', Timestamp('2023-11-30 00:00:00'))\n",
      "Data columns (total 3 columns):\n",
      " #   Column  Non-Null Count  Dtype  \n",
      "---  ------  --------------  -----  \n",
      " 0   y       4661 non-null   float64\n",
      " 1   t-1     4661 non-null   float64\n",
      " 2   t-2     4661 non-null   float64\n",
      "dtypes: float64(3)\n",
      "memory usage: 130.8+ KB\n"
     ]
    }
   ],
   "source": [
    "X2 = data.loc[:, ['target', 'return_1m']]\n",
    "X2.columns = ['y', 't-1']\n",
    "X2['t-2'] = data.groupby(level='ticker').return_1m.shift()\n",
    "X2 = X2.dropna()\n",
    "X2.info()"
   ]
  },
  {
   "cell_type": "code",
   "execution_count": 333,
   "metadata": {
    "ExecuteTime": {
     "end_time": "2021-04-16T00:32:38.969598Z",
     "start_time": "2021-04-16T00:32:38.966574Z"
    }
   },
   "outputs": [],
   "source": [
    "y2 = X2.y\n",
    "X2 = X2.drop('y', axis=1)"
   ]
  },
  {
   "cell_type": "markdown",
   "metadata": {},
   "source": [
    "### Explore Data"
   ]
  },
  {
   "cell_type": "markdown",
   "metadata": {},
   "source": [
    "Note the small spike where we clipped the data."
   ]
  },
  {
   "cell_type": "code",
   "execution_count": 334,
   "metadata": {
    "ExecuteTime": {
     "end_time": "2021-04-16T00:32:39.517083Z",
     "start_time": "2021-04-16T00:32:38.970753Z"
    }
   },
   "outputs": [
    {
     "data": {
      "image/png": "[encoded data removed]",
      "text/plain": [
       "<Figure size 640x480 with 1 Axes>"
      ]
     },
     "metadata": {},
     "output_type": "display_data"
    }
   ],
   "source": [
    "sns.distplot(y2)\n",
    "sns.despine();"
   ]
  },
  {
   "cell_type": "markdown",
   "metadata": {},
   "source": [
    "### Configure Tree"
   ]
  },
  {
   "cell_type": "markdown",
   "metadata": {},
   "source": [
    "Let's start with a simplified example to facilitate visualization and only use two months of lagged returns to predict the following month, in the vein of an AR(2) model from the last chapter:"
   ]
  },
  {
   "cell_type": "code",
   "execution_count": 335,
   "metadata": {
    "ExecuteTime": {
     "end_time": "2021-04-16T00:32:39.521903Z",
     "start_time": "2021-04-16T00:32:39.518821Z"
    }
   },
   "outputs": [],
   "source": [
    "reg_tree_t2 = DecisionTreeRegressor(criterion='squared_error',\n",
    "                                    splitter='best',\n",
    "                                    max_depth=6,\n",
    "                                    min_samples_split=2,\n",
    "                                    min_samples_leaf=50,\n",
    "                                    min_weight_fraction_leaf=0.0,\n",
    "                                    max_features=None,\n",
    "                                    random_state=42,\n",
    "                                    max_leaf_nodes=None,\n",
    "                                    min_impurity_decrease=0.0)"
   ]
  },
  {
   "cell_type": "markdown",
   "metadata": {},
   "source": [
    "### Train Decision Tree"
   ]
  },
  {
   "cell_type": "code",
   "execution_count": 336,
   "metadata": {
    "ExecuteTime": {
     "end_time": "2021-04-16T00:32:46.840780Z",
     "start_time": "2021-04-16T00:32:39.523207Z"
    }
   },
   "outputs": [
    {
     "name": "stdout",
     "output_type": "stream",
     "text": [
      "5.36 ms ± 72.1 µs per loop (mean ± std. dev. of 7 runs, 100 loops each)\n"
     ]
    }
   ],
   "source": [
    "%%timeit\n",
    "reg_tree_t2.fit(X=X2, y=y2)"
   ]
  },
  {
   "cell_type": "code",
   "execution_count": 337,
   "metadata": {
    "ExecuteTime": {
     "end_time": "2021-04-16T00:32:46.944042Z",
     "start_time": "2021-04-16T00:32:46.846638Z"
    }
   },
   "outputs": [
    {
     "data": {
      "text/html": [
       "<style>#sk-container-id-27 {color: black;}#sk-container-id-27 pre{padding: 0;}#sk-container-id-27 div.sk-toggleable {background-color: white;}#sk-container-id-27 label.sk-toggleable__label {cursor: pointer;display: block;width: 100%;margin-bottom: 0;padding: 0.3em;box-sizing: border-box;text-align: center;}#sk-container-id-27 label.sk-toggleable__label-arrow:before {content: \"▸\";float: left;margin-right: 0.25em;color: #696969;}#sk-container-id-27 label.sk-toggleable__label-arrow:hover:before {color: black;}#sk-container-id-27 div.sk-estimator:hover label.sk-toggleable__label-arrow:before {color: black;}#sk-container-id-27 div.sk-toggleable__content {max-height: 0;max-width: 0;overflow: hidden;text-align: left;background-color: #f0f8ff;}#sk-container-id-27 div.sk-toggleable__content pre {margin: 0.2em;color: black;border-radius: 0.25em;background-color: #f0f8ff;}#sk-container-id-27 input.sk-toggleable__control:checked~div.sk-toggleable__content {max-height: 200px;max-width: 100%;overflow: auto;}#sk-container-id-27 input.sk-toggleable__control:checked~label.sk-toggleable__label-arrow:before {content: \"▾\";}#sk-container-id-27 div.sk-estimator input.sk-toggleable__control:checked~label.sk-toggleable__label {background-color: #d4ebff;}#sk-container-id-27 div.sk-label input.sk-toggleable__control:checked~label.sk-toggleable__label {background-color: #d4ebff;}#sk-container-id-27 input.sk-hidden--visually {border: 0;clip: rect(1px 1px 1px 1px);clip: rect(1px, 1px, 1px, 1px);height: 1px;margin: -1px;overflow: hidden;padding: 0;position: absolute;width: 1px;}#sk-container-id-27 div.sk-estimator {font-family: monospace;background-color: #f0f8ff;border: 1px dotted black;border-radius: 0.25em;box-sizing: border-box;margin-bottom: 0.5em;}#sk-container-id-27 div.sk-estimator:hover {background-color: #d4ebff;}#sk-container-id-27 div.sk-parallel-item::after {content: \"\";width: 100%;border-bottom: 1px solid gray;flex-grow: 1;}#sk-container-id-27 div.sk-label:hover label.sk-toggleable__label {background-color: #d4ebff;}#sk-container-id-27 div.sk-serial::before {content: \"\";position: absolute;border-left: 1px solid gray;box-sizing: border-box;top: 0;bottom: 0;left: 50%;z-index: 0;}#sk-container-id-27 div.sk-serial {display: flex;flex-direction: column;align-items: center;background-color: white;padding-right: 0.2em;padding-left: 0.2em;position: relative;}#sk-container-id-27 div.sk-item {position: relative;z-index: 1;}#sk-container-id-27 div.sk-parallel {display: flex;align-items: stretch;justify-content: center;background-color: white;position: relative;}#sk-container-id-27 div.sk-item::before, #sk-container-id-27 div.sk-parallel-item::before {content: \"\";position: absolute;border-left: 1px solid gray;box-sizing: border-box;top: 0;bottom: 0;left: 50%;z-index: -1;}#sk-container-id-27 div.sk-parallel-item {display: flex;flex-direction: column;z-index: 1;position: relative;background-color: white;}#sk-container-id-27 div.sk-parallel-item:first-child::after {align-self: flex-end;width: 50%;}#sk-container-id-27 div.sk-parallel-item:last-child::after {align-self: flex-start;width: 50%;}#sk-container-id-27 div.sk-parallel-item:only-child::after {width: 0;}#sk-container-id-27 div.sk-dashed-wrapped {border: 1px dashed gray;margin: 0 0.4em 0.5em 0.4em;box-sizing: border-box;padding-bottom: 0.4em;background-color: white;}#sk-container-id-27 div.sk-label label {font-family: monospace;font-weight: bold;display: inline-block;line-height: 1.2em;}#sk-container-id-27 div.sk-label-container {text-align: center;}#sk-container-id-27 div.sk-container {/* jupyter's `normalize.less` sets `[hidden] { display: none; }` but bootstrap.min.css set `[hidden] { display: none !important; }` so we also need the `!important` here to be able to override the default hidden behavior on the sphinx rendered scikit-learn.org. See: https://github.com/scikit-learn/scikit-learn/issues/21755 */display: inline-block !important;position: relative;}#sk-container-id-27 div.sk-text-repr-fallback {display: none;}</style><div id=\"sk-container-id-27\" class=\"sk-top-container\"><div class=\"sk-text-repr-fallback\"><pre>DecisionTreeRegressor(max_depth=6, min_samples_leaf=50, random_state=42)</pre><b>In a Jupyter environment, please rerun this cell to show the HTML representation or trust the notebook. <br />On GitHub, the HTML representation is unable to render, please try loading this page with nbviewer.org.</b></div><div class=\"sk-container\" hidden><div class=\"sk-item\"><div class=\"sk-estimator sk-toggleable\"><input class=\"sk-toggleable__control sk-hidden--visually\" id=\"sk-estimator-id-31\" type=\"checkbox\" checked><label for=\"sk-estimator-id-31\" class=\"sk-toggleable__label sk-toggleable__label-arrow\">DecisionTreeRegressor</label><div class=\"sk-toggleable__content\"><pre>DecisionTreeRegressor(max_depth=6, min_samples_leaf=50, random_state=42)</pre></div></div></div></div></div>"
      ],
      "text/plain": [
       "DecisionTreeRegressor(max_depth=6, min_samples_leaf=50, random_state=42)"
      ]
     },
     "execution_count": 337,
     "metadata": {},
     "output_type": "execute_result"
    }
   ],
   "source": [
    "reg_tree_t2.fit(X=X2, y=y2)"
   ]
  },
  {
   "cell_type": "markdown",
   "metadata": {},
   "source": [
    "### Visualize Tree"
   ]
  },
  {
   "cell_type": "markdown",
   "metadata": {},
   "source": [
    "You can visualize the tree using the graphviz library (see GitHub for installation instructions) because sklearn can output a description of the tree using the .dot language used by that library. \n",
    "\n",
    "You can configure the output to include feature and class labels and limit the number of levels to keep the chart readable, as follows:"
   ]
  },
  {
   "cell_type": "code",
   "execution_count": 338,
   "metadata": {
    "ExecuteTime": {
     "end_time": "2021-04-16T00:32:46.993321Z",
     "start_time": "2021-04-16T00:32:46.945531Z"
    }
   },
   "outputs": [
    {
     "data": {
      "image/svg+xml": [
       "<?xml version=\"1.0\" encoding=\"UTF-8\" standalone=\"no\"?>\n",
       "<!DOCTYPE svg PUBLIC \"-//W3C//DTD SVG 1.1//EN\"\n",
       " \"http://www.w3.org/Graphics/SVG/1.1/DTD/svg11.dtd\">\n",
       "<!-- Generated by graphviz version 11.0.0 (0)\n",
       " -->\n",
       "<!-- Title: Tree Pages: 1 -->\n",
       "<svg width=\"410pt\" height=\"356pt\"\n",
       " viewBox=\"0.00 0.00 410.25 356.00\" xmlns=\"http://www.w3.org/2000/svg\" xmlns:xlink=\"http://www.w3.org/1999/xlink\">\n",
       "<g id=\"graph0\" class=\"graph\" transform=\"scale(1 1) rotate(0) translate(4 352)\">\n",
       "<title>Tree</title>\n",
       "<polygon fill=\"white\" stroke=\"none\" points=\"-4,4 -4,-352 406.25,-352 406.25,4 -4,4\"/>\n",
       "<!-- 0 -->\n",
       "<g id=\"node1\" class=\"node\">\n",
       "<title>0</title>\n",
       "<path fill=\"#f9e1cf\" stroke=\"black\" d=\"M222.25,-348C222.25,-348 96,-348 96,-348 90,-348 84,-342 84,-336 84,-336 84,-292 84,-292 84,-286 90,-280 96,-280 96,-280 222.25,-280 222.25,-280 228.25,-280 234.25,-286 234.25,-292 234.25,-292 234.25,-336 234.25,-336 234.25,-342 228.25,-348 222.25,-348\"/>\n",
       "<text text-anchor=\"start\" x=\"124.62\" y=\"-330.7\" font-family=\"Helvetica,sans-Serif\" font-size=\"14.00\">t&#45;1 ≤ &#45;0.272</text>\n",
       "<text text-anchor=\"start\" x=\"92\" y=\"-315.7\" font-family=\"Helvetica,sans-Serif\" font-size=\"14.00\">squared_error = 0.027</text>\n",
       "<text text-anchor=\"start\" x=\"110.75\" y=\"-300.7\" font-family=\"Helvetica,sans-Serif\" font-size=\"14.00\">samples = 4661</text>\n",
       "<text text-anchor=\"start\" x=\"118.25\" y=\"-285.7\" font-family=\"Helvetica,sans-Serif\" font-size=\"14.00\">value = 0.056</text>\n",
       "</g>\n",
       "<!-- 1 -->\n",
       "<g id=\"node2\" class=\"node\">\n",
       "<title>1</title>\n",
       "<path fill=\"#e58139\" stroke=\"black\" d=\"M138.25,-236.5C138.25,-236.5 12,-236.5 12,-236.5 6,-236.5 0,-230.5 0,-224.5 0,-224.5 0,-195.5 0,-195.5 0,-189.5 6,-183.5 12,-183.5 12,-183.5 138.25,-183.5 138.25,-183.5 144.25,-183.5 150.25,-189.5 150.25,-195.5 150.25,-195.5 150.25,-224.5 150.25,-224.5 150.25,-230.5 144.25,-236.5 138.25,-236.5\"/>\n",
       "<text text-anchor=\"start\" x=\"8\" y=\"-219.2\" font-family=\"Helvetica,sans-Serif\" font-size=\"14.00\">squared_error = 0.039</text>\n",
       "<text text-anchor=\"start\" x=\"34.25\" y=\"-204.2\" font-family=\"Helvetica,sans-Serif\" font-size=\"14.00\">samples = 64</text>\n",
       "<text text-anchor=\"start\" x=\"34.25\" y=\"-189.2\" font-family=\"Helvetica,sans-Serif\" font-size=\"14.00\">value = 0.274</text>\n",
       "</g>\n",
       "<!-- 0&#45;&gt;1 -->\n",
       "<g id=\"edge1\" class=\"edge\">\n",
       "<title>0&#45;&gt;1</title>\n",
       "<path fill=\"none\" stroke=\"black\" d=\"M131.62,-279.6C122.56,-268.6 112.47,-256.35 103.36,-245.28\"/>\n",
       "<polygon fill=\"black\" stroke=\"black\" points=\"106.32,-243.37 97.26,-237.87 100.91,-247.82 106.32,-243.37\"/>\n",
       "<text text-anchor=\"middle\" x=\"93.89\" y=\"-255.79\" font-family=\"Helvetica,sans-Serif\" font-size=\"14.00\">True</text>\n",
       "</g>\n",
       "<!-- 2 -->\n",
       "<g id=\"node3\" class=\"node\">\n",
       "<title>2</title>\n",
       "<path fill=\"#f9e2d1\" stroke=\"black\" d=\"M306.25,-244C306.25,-244 180,-244 180,-244 174,-244 168,-238 168,-232 168,-232 168,-188 168,-188 168,-182 174,-176 180,-176 180,-176 306.25,-176 306.25,-176 312.25,-176 318.25,-182 318.25,-188 318.25,-188 318.25,-232 318.25,-232 318.25,-238 312.25,-244 306.25,-244\"/>\n",
       "<text text-anchor=\"start\" x=\"210.88\" y=\"-226.7\" font-family=\"Helvetica,sans-Serif\" font-size=\"14.00\">t&#45;1 ≤ 0.006</text>\n",
       "<text text-anchor=\"start\" x=\"176\" y=\"-211.7\" font-family=\"Helvetica,sans-Serif\" font-size=\"14.00\">squared_error = 0.027</text>\n",
       "<text text-anchor=\"start\" x=\"194.75\" y=\"-196.7\" font-family=\"Helvetica,sans-Serif\" font-size=\"14.00\">samples = 4597</text>\n",
       "<text text-anchor=\"start\" x=\"202.25\" y=\"-181.7\" font-family=\"Helvetica,sans-Serif\" font-size=\"14.00\">value = 0.053</text>\n",
       "</g>\n",
       "<!-- 0&#45;&gt;2 -->\n",
       "<g id=\"edge2\" class=\"edge\">\n",
       "<title>0&#45;&gt;2</title>\n",
       "<path fill=\"none\" stroke=\"black\" d=\"M186.63,-279.6C193.59,-271.15 201.16,-261.96 208.43,-253.13\"/>\n",
       "<polygon fill=\"black\" stroke=\"black\" points=\"210.94,-255.59 214.6,-245.64 205.54,-251.14 210.94,-255.59\"/>\n",
       "<text text-anchor=\"middle\" x=\"217.97\" y=\"-263.56\" font-family=\"Helvetica,sans-Serif\" font-size=\"14.00\">False</text>\n",
       "</g>\n",
       "<!-- 3 -->\n",
       "<g id=\"node4\" class=\"node\">\n",
       "<title>3</title>\n",
       "<path fill=\"#fae7da\" stroke=\"black\" d=\"M222.25,-140C222.25,-140 96,-140 96,-140 90,-140 84,-134 84,-128 84,-128 84,-84 84,-84 84,-78 90,-72 96,-72 96,-72 222.25,-72 222.25,-72 228.25,-72 234.25,-78 234.25,-84 234.25,-84 234.25,-128 234.25,-128 234.25,-134 228.25,-140 222.25,-140\"/>\n",
       "<text text-anchor=\"start\" x=\"126.88\" y=\"-122.7\" font-family=\"Helvetica,sans-Serif\" font-size=\"14.00\">t&#45;2 ≤ 0.081</text>\n",
       "<text text-anchor=\"start\" x=\"92\" y=\"-107.7\" font-family=\"Helvetica,sans-Serif\" font-size=\"14.00\">squared_error = 0.024</text>\n",
       "<text text-anchor=\"start\" x=\"110.75\" y=\"-92.7\" font-family=\"Helvetica,sans-Serif\" font-size=\"14.00\">samples = 2012</text>\n",
       "<text text-anchor=\"start\" x=\"118.25\" y=\"-77.7\" font-family=\"Helvetica,sans-Serif\" font-size=\"14.00\">value = 0.041</text>\n",
       "</g>\n",
       "<!-- 2&#45;&gt;3 -->\n",
       "<g id=\"edge3\" class=\"edge\">\n",
       "<title>2&#45;&gt;3</title>\n",
       "<path fill=\"none\" stroke=\"black\" d=\"M215.62,-175.6C208.66,-167.15 201.09,-157.96 193.82,-149.13\"/>\n",
       "<polygon fill=\"black\" stroke=\"black\" points=\"196.71,-147.14 187.65,-141.64 191.31,-151.59 196.71,-147.14\"/>\n",
       "</g>\n",
       "<!-- 22 -->\n",
       "<g id=\"node7\" class=\"node\">\n",
       "<title>22</title>\n",
       "<path fill=\"#f8decb\" stroke=\"black\" d=\"M390.25,-140C390.25,-140 264,-140 264,-140 258,-140 252,-134 252,-128 252,-128 252,-84 252,-84 252,-78 258,-72 264,-72 264,-72 390.25,-72 390.25,-72 396.25,-72 402.25,-78 402.25,-84 402.25,-84 402.25,-128 402.25,-128 402.25,-134 396.25,-140 390.25,-140\"/>\n",
       "<text text-anchor=\"start\" x=\"292.62\" y=\"-122.7\" font-family=\"Helvetica,sans-Serif\" font-size=\"14.00\">t&#45;2 ≤ &#45;0.211</text>\n",
       "<text text-anchor=\"start\" x=\"260\" y=\"-107.7\" font-family=\"Helvetica,sans-Serif\" font-size=\"14.00\">squared_error = 0.028</text>\n",
       "<text text-anchor=\"start\" x=\"278.75\" y=\"-92.7\" font-family=\"Helvetica,sans-Serif\" font-size=\"14.00\">samples = 2585</text>\n",
       "<text text-anchor=\"start\" x=\"286.25\" y=\"-77.7\" font-family=\"Helvetica,sans-Serif\" font-size=\"14.00\">value = 0.062</text>\n",
       "</g>\n",
       "<!-- 2&#45;&gt;22 -->\n",
       "<g id=\"edge6\" class=\"edge\">\n",
       "<title>2&#45;&gt;22</title>\n",
       "<path fill=\"none\" stroke=\"black\" d=\"M270.63,-175.6C277.59,-167.15 285.16,-157.96 292.43,-149.13\"/>\n",
       "<polygon fill=\"black\" stroke=\"black\" points=\"294.94,-151.59 298.6,-141.64 289.54,-147.14 294.94,-151.59\"/>\n",
       "</g>\n",
       "<!-- 4 -->\n",
       "<g id=\"node5\" class=\"node\">\n",
       "<title>4</title>\n",
       "<path fill=\"#c0c0c0\" stroke=\"black\" d=\"M150.12,-36C150.12,-36 120.12,-36 120.12,-36 114.12,-36 108.12,-30 108.12,-24 108.12,-24 108.12,-12 108.12,-12 108.12,-6 114.12,0 120.12,0 120.12,0 150.12,0 150.12,0 156.12,0 162.12,-6 162.12,-12 162.12,-12 162.12,-24 162.12,-24 162.12,-30 156.12,-36 150.12,-36\"/>\n",
       "<text text-anchor=\"middle\" x=\"135.12\" y=\"-12.2\" font-family=\"Helvetica,sans-Serif\" font-size=\"14.00\">(...)</text>\n",
       "</g>\n",
       "<!-- 3&#45;&gt;4 -->\n",
       "<g id=\"edge4\" class=\"edge\">\n",
       "<title>3&#45;&gt;4</title>\n",
       "<path fill=\"none\" stroke=\"black\" d=\"M149.78,-71.5C147.54,-63.49 145.17,-55 143.01,-47.25\"/>\n",
       "<polygon fill=\"black\" stroke=\"black\" points=\"146.39,-46.35 140.33,-37.65 139.65,-48.23 146.39,-46.35\"/>\n",
       "</g>\n",
       "<!-- 15 -->\n",
       "<g id=\"node6\" class=\"node\">\n",
       "<title>15</title>\n",
       "<path fill=\"#c0c0c0\" stroke=\"black\" d=\"M222.12,-36C222.12,-36 192.12,-36 192.12,-36 186.12,-36 180.12,-30 180.12,-24 180.12,-24 180.12,-12 180.12,-12 180.12,-6 186.12,0 192.12,0 192.12,0 222.12,0 222.12,0 228.12,0 234.12,-6 234.12,-12 234.12,-12 234.12,-24 234.12,-24 234.12,-30 228.12,-36 222.12,-36\"/>\n",
       "<text text-anchor=\"middle\" x=\"207.12\" y=\"-12.2\" font-family=\"Helvetica,sans-Serif\" font-size=\"14.00\">(...)</text>\n",
       "</g>\n",
       "<!-- 3&#45;&gt;15 -->\n",
       "<g id=\"edge5\" class=\"edge\">\n",
       "<title>3&#45;&gt;15</title>\n",
       "<path fill=\"none\" stroke=\"black\" d=\"M177.82,-71.5C182.51,-63.11 187.48,-54.21 191.97,-46.16\"/>\n",
       "<polygon fill=\"black\" stroke=\"black\" points=\"194.97,-47.96 196.79,-37.52 188.86,-44.54 194.97,-47.96\"/>\n",
       "</g>\n",
       "<!-- 23 -->\n",
       "<g id=\"node8\" class=\"node\">\n",
       "<title>23</title>\n",
       "<path fill=\"#c0c0c0\" stroke=\"black\" d=\"M318.12,-36C318.12,-36 288.12,-36 288.12,-36 282.12,-36 276.12,-30 276.12,-24 276.12,-24 276.12,-12 276.12,-12 276.12,-6 282.12,0 288.12,0 288.12,0 318.12,0 318.12,0 324.12,0 330.12,-6 330.12,-12 330.12,-12 330.12,-24 330.12,-24 330.12,-30 324.12,-36 318.12,-36\"/>\n",
       "<text text-anchor=\"middle\" x=\"303.12\" y=\"-12.2\" font-family=\"Helvetica,sans-Serif\" font-size=\"14.00\">(...)</text>\n",
       "</g>\n",
       "<!-- 22&#45;&gt;23 -->\n",
       "<g id=\"edge7\" class=\"edge\">\n",
       "<title>22&#45;&gt;23</title>\n",
       "<path fill=\"none\" stroke=\"black\" d=\"M317.78,-71.5C315.54,-63.49 313.17,-55 311.01,-47.25\"/>\n",
       "<polygon fill=\"black\" stroke=\"black\" points=\"314.39,-46.35 308.33,-37.65 307.65,-48.23 314.39,-46.35\"/>\n",
       "</g>\n",
       "<!-- 26 -->\n",
       "<g id=\"node9\" class=\"node\">\n",
       "<title>26</title>\n",
       "<path fill=\"#c0c0c0\" stroke=\"black\" d=\"M390.12,-36C390.12,-36 360.12,-36 360.12,-36 354.12,-36 348.12,-30 348.12,-24 348.12,-24 348.12,-12 348.12,-12 348.12,-6 354.12,0 360.12,0 360.12,0 390.12,0 390.12,0 396.12,0 402.12,-6 402.12,-12 402.12,-12 402.12,-24 402.12,-24 402.12,-30 396.12,-36 390.12,-36\"/>\n",
       "<text text-anchor=\"middle\" x=\"375.12\" y=\"-12.2\" font-family=\"Helvetica,sans-Serif\" font-size=\"14.00\">(...)</text>\n",
       "</g>\n",
       "<!-- 22&#45;&gt;26 -->\n",
       "<g id=\"edge8\" class=\"edge\">\n",
       "<title>22&#45;&gt;26</title>\n",
       "<path fill=\"none\" stroke=\"black\" d=\"M345.82,-71.5C350.51,-63.11 355.48,-54.21 359.97,-46.16\"/>\n",
       "<polygon fill=\"black\" stroke=\"black\" points=\"362.97,-47.96 364.79,-37.52 356.86,-44.54 362.97,-47.96\"/>\n",
       "</g>\n",
       "</g>\n",
       "</svg>\n"
      ],
      "text/plain": [
       "<graphviz.sources.Source at 0x156ca43a0>"
      ]
     },
     "execution_count": 338,
     "metadata": {},
     "output_type": "execute_result"
    }
   ],
   "source": [
    "out_file = results_path / 'reg_tree_t2.dot'\n",
    "dot_data = export_graphviz(reg_tree_t2,\n",
    "                          out_file=out_file.as_posix(),\n",
    "                          feature_names=X2.columns,\n",
    "                          max_depth=2,\n",
    "                          filled=True,\n",
    "                          rounded=True,\n",
    "                          special_characters=True)\n",
    "if out_file is not None:\n",
    "    dot_data = Path(out_file).read_text()\n",
    "\n",
    "graphviz.Source(dot_data)"
   ]
  },
  {
   "cell_type": "markdown",
   "metadata": {},
   "source": [
    "### Compare with Linear Regression"
   ]
  },
  {
   "cell_type": "markdown",
   "metadata": {},
   "source": [
    "The OLS summary below and a visualization of the first two levels of the decision tree above reveal the striking differences between the models. The OLS model provides three parameters for the intercepts and the two features in line with the linear assumption.\n",
    "\n",
    "In contrast, the regression tree chart above displays for each node of the first two levels the feature and threshold used to split the data (note that features can be used repeatedly), as well as the current value of the mean-squared error (MSE), the number of samples, and predicted value based on these training samples."
   ]
  },
  {
   "cell_type": "markdown",
   "metadata": {},
   "source": [
    "The tree chart also highlights the uneven distribution of samples across the nodes."
   ]
  },
  {
   "cell_type": "markdown",
   "metadata": {},
   "source": [
    "#### statsmodels OLS"
   ]
  },
  {
   "cell_type": "code",
   "execution_count": 339,
   "metadata": {
    "ExecuteTime": {
     "end_time": "2021-04-16T00:32:47.020618Z",
     "start_time": "2021-04-16T00:32:46.994715Z"
    },
    "scrolled": true
   },
   "outputs": [],
   "source": [
    "ols_model = sm.OLS(endog=y2, exog=sm.add_constant(X2))"
   ]
  },
  {
   "cell_type": "code",
   "execution_count": 340,
   "metadata": {
    "ExecuteTime": {
     "end_time": "2021-04-16T00:32:50.247927Z",
     "start_time": "2021-04-16T00:32:47.021772Z"
    }
   },
   "outputs": [
    {
     "name": "stdout",
     "output_type": "stream",
     "text": [
      "25.3 µs ± 1.15 µs per loop (mean ± std. dev. of 7 runs, 10,000 loops each)\n"
     ]
    }
   ],
   "source": [
    "%%timeit\n",
    "ols_model.fit()"
   ]
  },
  {
   "cell_type": "code",
   "execution_count": 341,
   "metadata": {
    "ExecuteTime": {
     "end_time": "2021-04-16T00:32:50.306911Z",
     "start_time": "2021-04-16T00:32:50.249060Z"
    }
   },
   "outputs": [
    {
     "name": "stdout",
     "output_type": "stream",
     "text": [
      "                            OLS Regression Results                            \n",
      "==============================================================================\n",
      "Dep. Variable:                      y   R-squared:                       0.004\n",
      "Model:                            OLS   Adj. R-squared:                  0.003\n",
      "Method:                 Least Squares   F-statistic:                     8.715\n",
      "Date:                Mon, 03 Jun 2024   Prob (F-statistic):           0.000167\n",
      "Time:                        00:42:39   Log-Likelihood:                 1775.7\n",
      "No. Observations:                4661   AIC:                            -3545.\n",
      "Df Residuals:                    4658   BIC:                            -3526.\n",
      "Df Model:                           2                                         \n",
      "Covariance Type:            nonrobust                                         \n",
      "==============================================================================\n",
      "                 coef    std err          t      P>|t|      [0.025      0.975]\n",
      "------------------------------------------------------------------------------\n",
      "const          0.0592      0.003     22.116      0.000       0.054       0.064\n",
      "t-1            0.0023      0.015      0.153      0.879      -0.027       0.031\n",
      "t-2           -0.0632      0.015     -4.165      0.000      -0.093      -0.033\n",
      "==============================================================================\n",
      "Omnibus:                      761.636   Durbin-Watson:                   1.997\n",
      "Prob(Omnibus):                  0.000   Jarque-Bera (JB):             1366.645\n",
      "Skew:                           1.040   Prob(JB):                    1.72e-297\n",
      "Kurtosis:                       4.647   Cond. No.                         6.35\n",
      "==============================================================================\n",
      "\n",
      "Notes:\n",
      "[1] Standard Errors assume that the covariance matrix of the errors is correctly specified.\n"
     ]
    }
   ],
   "source": [
    "result = ols_model.fit()\n",
    "print(result.summary())"
   ]
  },
  {
   "cell_type": "markdown",
   "metadata": {},
   "source": [
    "#### sklearn Linear Regression"
   ]
  },
  {
   "cell_type": "code",
   "execution_count": 342,
   "metadata": {
    "ExecuteTime": {
     "end_time": "2021-04-16T00:32:50.311548Z",
     "start_time": "2021-04-16T00:32:50.309603Z"
    }
   },
   "outputs": [],
   "source": [
    "lin_reg = LinearRegression()"
   ]
  },
  {
   "cell_type": "code",
   "execution_count": 343,
   "metadata": {
    "ExecuteTime": {
     "end_time": "2021-04-16T00:32:52.560013Z",
     "start_time": "2021-04-16T00:32:50.312750Z"
    }
   },
   "outputs": [
    {
     "name": "stdout",
     "output_type": "stream",
     "text": [
      "573 µs ± 14.9 µs per loop (mean ± std. dev. of 7 runs, 1,000 loops each)\n"
     ]
    }
   ],
   "source": [
    "%%timeit\n",
    "lin_reg.fit(X=X2,y=y2)"
   ]
  },
  {
   "cell_type": "code",
   "execution_count": 344,
   "metadata": {
    "ExecuteTime": {
     "end_time": "2021-04-16T00:32:52.647179Z",
     "start_time": "2021-04-16T00:32:52.560943Z"
    }
   },
   "outputs": [
    {
     "data": {
      "text/html": [
       "<style>#sk-container-id-28 {color: black;}#sk-container-id-28 pre{padding: 0;}#sk-container-id-28 div.sk-toggleable {background-color: white;}#sk-container-id-28 label.sk-toggleable__label {cursor: pointer;display: block;width: 100%;margin-bottom: 0;padding: 0.3em;box-sizing: border-box;text-align: center;}#sk-container-id-28 label.sk-toggleable__label-arrow:before {content: \"▸\";float: left;margin-right: 0.25em;color: #696969;}#sk-container-id-28 label.sk-toggleable__label-arrow:hover:before {color: black;}#sk-container-id-28 div.sk-estimator:hover label.sk-toggleable__label-arrow:before {color: black;}#sk-container-id-28 div.sk-toggleable__content {max-height: 0;max-width: 0;overflow: hidden;text-align: left;background-color: #f0f8ff;}#sk-container-id-28 div.sk-toggleable__content pre {margin: 0.2em;color: black;border-radius: 0.25em;background-color: #f0f8ff;}#sk-container-id-28 input.sk-toggleable__control:checked~div.sk-toggleable__content {max-height: 200px;max-width: 100%;overflow: auto;}#sk-container-id-28 input.sk-toggleable__control:checked~label.sk-toggleable__label-arrow:before {content: \"▾\";}#sk-container-id-28 div.sk-estimator input.sk-toggleable__control:checked~label.sk-toggleable__label {background-color: #d4ebff;}#sk-container-id-28 div.sk-label input.sk-toggleable__control:checked~label.sk-toggleable__label {background-color: #d4ebff;}#sk-container-id-28 input.sk-hidden--visually {border: 0;clip: rect(1px 1px 1px 1px);clip: rect(1px, 1px, 1px, 1px);height: 1px;margin: -1px;overflow: hidden;padding: 0;position: absolute;width: 1px;}#sk-container-id-28 div.sk-estimator {font-family: monospace;background-color: #f0f8ff;border: 1px dotted black;border-radius: 0.25em;box-sizing: border-box;margin-bottom: 0.5em;}#sk-container-id-28 div.sk-estimator:hover {background-color: #d4ebff;}#sk-container-id-28 div.sk-parallel-item::after {content: \"\";width: 100%;border-bottom: 1px solid gray;flex-grow: 1;}#sk-container-id-28 div.sk-label:hover label.sk-toggleable__label {background-color: #d4ebff;}#sk-container-id-28 div.sk-serial::before {content: \"\";position: absolute;border-left: 1px solid gray;box-sizing: border-box;top: 0;bottom: 0;left: 50%;z-index: 0;}#sk-container-id-28 div.sk-serial {display: flex;flex-direction: column;align-items: center;background-color: white;padding-right: 0.2em;padding-left: 0.2em;position: relative;}#sk-container-id-28 div.sk-item {position: relative;z-index: 1;}#sk-container-id-28 div.sk-parallel {display: flex;align-items: stretch;justify-content: center;background-color: white;position: relative;}#sk-container-id-28 div.sk-item::before, #sk-container-id-28 div.sk-parallel-item::before {content: \"\";position: absolute;border-left: 1px solid gray;box-sizing: border-box;top: 0;bottom: 0;left: 50%;z-index: -1;}#sk-container-id-28 div.sk-parallel-item {display: flex;flex-direction: column;z-index: 1;position: relative;background-color: white;}#sk-container-id-28 div.sk-parallel-item:first-child::after {align-self: flex-end;width: 50%;}#sk-container-id-28 div.sk-parallel-item:last-child::after {align-self: flex-start;width: 50%;}#sk-container-id-28 div.sk-parallel-item:only-child::after {width: 0;}#sk-container-id-28 div.sk-dashed-wrapped {border: 1px dashed gray;margin: 0 0.4em 0.5em 0.4em;box-sizing: border-box;padding-bottom: 0.4em;background-color: white;}#sk-container-id-28 div.sk-label label {font-family: monospace;font-weight: bold;display: inline-block;line-height: 1.2em;}#sk-container-id-28 div.sk-label-container {text-align: center;}#sk-container-id-28 div.sk-container {/* jupyter's `normalize.less` sets `[hidden] { display: none; }` but bootstrap.min.css set `[hidden] { display: none !important; }` so we also need the `!important` here to be able to override the default hidden behavior on the sphinx rendered scikit-learn.org. See: https://github.com/scikit-learn/scikit-learn/issues/21755 */display: inline-block !important;position: relative;}#sk-container-id-28 div.sk-text-repr-fallback {display: none;}</style><div id=\"sk-container-id-28\" class=\"sk-top-container\"><div class=\"sk-text-repr-fallback\"><pre>LinearRegression()</pre><b>In a Jupyter environment, please rerun this cell to show the HTML representation or trust the notebook. <br />On GitHub, the HTML representation is unable to render, please try loading this page with nbviewer.org.</b></div><div class=\"sk-container\" hidden><div class=\"sk-item\"><div class=\"sk-estimator sk-toggleable\"><input class=\"sk-toggleable__control sk-hidden--visually\" id=\"sk-estimator-id-32\" type=\"checkbox\" checked><label for=\"sk-estimator-id-32\" class=\"sk-toggleable__label sk-toggleable__label-arrow\">LinearRegression</label><div class=\"sk-toggleable__content\"><pre>LinearRegression()</pre></div></div></div></div></div>"
      ],
      "text/plain": [
       "LinearRegression()"
      ]
     },
     "execution_count": 344,
     "metadata": {},
     "output_type": "execute_result"
    }
   ],
   "source": [
    "lin_reg.fit(X=X2,y=y2)"
   ]
  },
  {
   "cell_type": "code",
   "execution_count": 345,
   "metadata": {
    "ExecuteTime": {
     "end_time": "2021-04-16T00:32:52.651998Z",
     "start_time": "2021-04-16T00:32:52.648519Z"
    }
   },
   "outputs": [
    {
     "data": {
      "text/plain": [
       "0.05916632193122609"
      ]
     },
     "execution_count": 345,
     "metadata": {},
     "output_type": "execute_result"
    }
   ],
   "source": [
    "lin_reg.intercept_"
   ]
  },
  {
   "cell_type": "code",
   "execution_count": 346,
   "metadata": {
    "ExecuteTime": {
     "end_time": "2021-04-16T00:32:52.681349Z",
     "start_time": "2021-04-16T00:32:52.653554Z"
    }
   },
   "outputs": [
    {
     "data": {
      "text/plain": [
       "array([ 0.00226368, -0.06321225])"
      ]
     },
     "execution_count": 346,
     "metadata": {},
     "output_type": "execute_result"
    }
   ],
   "source": [
    "lin_reg.coef_"
   ]
  },
  {
   "cell_type": "markdown",
   "metadata": {},
   "source": [
    "### Linear Regression vs Regression Tree Decision Surfaces"
   ]
  },
  {
   "cell_type": "markdown",
   "metadata": {},
   "source": [
    "To further illustrate the different assumptions about the functional form of the relationships between the input variables and the output, we can visualize current return predictions as a function of the feature space, that is, as a function of the range of values for the lagged returns. The following figure shows the current period return as a function of returns one and two periods ago for linear regression and the regression tree:\n",
    "\n",
    "The linear-regression model result on the right side underlines the linearity of the relationship between lagged and current returns, whereas the regression tree chart on the left illustrates the non-linear relationship encoded in the recursive partitioning of the feature space."
   ]
  },
  {
   "cell_type": "code",
   "execution_count": 347,
   "metadata": {
    "ExecuteTime": {
     "end_time": "2021-04-16T00:32:52.741131Z",
     "start_time": "2021-04-16T00:32:52.716930Z"
    }
   },
   "outputs": [],
   "source": [
    "t1, t2 = np.meshgrid(np.linspace(X2['t-1'].quantile(.01), X2['t-1'].quantile(.99), 100),\n",
    "                     np.linspace(X2['t-2'].quantile(.01), X2['t-2'].quantile(.99), 100))\n",
    "X_data = np.c_[t1.ravel(), t2.ravel()]"
   ]
  },
  {
   "cell_type": "code",
   "execution_count": 348,
   "metadata": {
    "ExecuteTime": {
     "end_time": "2021-04-16T00:32:53.406640Z",
     "start_time": "2021-04-16T00:32:52.742829Z"
    },
    "scrolled": false
   },
   "outputs": [
    {
     "data": {
      "image/png": "[encoded data removed]",
      "text/plain": [
       "<Figure size 1200x500 with 4 Axes>"
      ]
     },
     "metadata": {},
     "output_type": "display_data"
    }
   ],
   "source": [
    "fig, axes = plt.subplots(ncols=2, figsize=(12,5))\n",
    "\n",
    "# Linear Regression\n",
    "ret1 = lin_reg.predict(X_data).reshape(t1.shape)\n",
    "surface1 = axes[0].contourf(t1, t2, ret1, cmap='Blues')\n",
    "plt.colorbar(mappable=surface1, ax=axes[0])\n",
    "\n",
    "# Regression Tree\n",
    "ret2 = reg_tree_t2.predict(X_data).reshape(t1.shape)\n",
    "surface2 = axes[1].contourf(t1, t2, ret2, cmap='Blues')\n",
    "plt.colorbar(mappable=surface2, ax=axes[1])\n",
    "\n",
    "# Format plots\n",
    "titles = ['Linear Regression', 'Regression Tree']\n",
    "for i, ax in enumerate(axes):\n",
    "    ax.set_xlabel('t-1')\n",
    "    ax.set_ylabel('t-2')\n",
    "    ax.set_title(titles[i])\n",
    "\n",
    "fig.suptitle('Decision Surfaces', fontsize=14)\n",
    "sns.despine()\n",
    "fig.tight_layout()\n",
    "fig.subplots_adjust(top=.9);"
   ]
  },
  {
   "cell_type": "markdown",
   "metadata": {},
   "source": [
    "## Simple Classification Tree with Time Series Data"
   ]
  },
  {
   "cell_type": "markdown",
   "metadata": {},
   "source": [
    "The same way we did with the regression tree, but now instead of using the value of the stock change, we will have a binary indicator of wether the value increased or decreased."
   ]
  },
  {
   "cell_type": "markdown",
   "metadata": {},
   "source": [
    "### Loss Functions"
   ]
  },
  {
   "cell_type": "markdown",
   "metadata": {},
   "source": [
    "When growing a classification tree, we also use recursive binary splitting but, instead of evaluating the quality of a decision rule using the reduction of the mean-squared error, we can use the classification error rate, which is simply the fraction of the training samples in a given (leave) node that do not belong to the most common class."
   ]
  },
  {
   "cell_type": "markdown",
   "metadata": {},
   "source": [
    "However, the alternative measures, Gini Index or Cross-Entropy, are preferred because they are more sensitive to node purity than the classification error rate. Node purity refers to the extent of the preponderance of a single class in a node. A node that only contains samples with outcomes belonging to a single class is pure and imply successful classification for this particular region of the feature space. "
   ]
  },
  {
   "cell_type": "code",
   "execution_count": 349,
   "metadata": {
    "ExecuteTime": {
     "end_time": "2021-04-16T00:32:53.411641Z",
     "start_time": "2021-04-16T00:32:53.409446Z"
    }
   },
   "outputs": [],
   "source": [
    "def entropy(f):\n",
    "    return (-f*np.log2(f) - (1-f)*np.log2(1-f))/2"
   ]
  },
  {
   "cell_type": "code",
   "execution_count": 350,
   "metadata": {
    "ExecuteTime": {
     "end_time": "2021-04-16T00:32:53.426940Z",
     "start_time": "2021-04-16T00:32:53.414041Z"
    }
   },
   "outputs": [],
   "source": [
    "def gini(f):\n",
    "    return 2*f*(1-f)"
   ]
  },
  {
   "cell_type": "code",
   "execution_count": 351,
   "metadata": {
    "ExecuteTime": {
     "end_time": "2021-04-16T00:32:53.447019Z",
     "start_time": "2021-04-16T00:32:53.443818Z"
    }
   },
   "outputs": [],
   "source": [
    "def misclassification_rate(f):\n",
    "    return np.where(f<=.5, f, 1-f)"
   ]
  },
  {
   "cell_type": "markdown",
   "metadata": {},
   "source": [
    "Both the Gini Impurity and the Cross-Entropy measure take on smaller values when the class proportions approach zero or one, that is, when the child nodes become pure as a result of the split and are highest when the class proportions are even or 0.5 in the binary case. \n",
    "\n",
    "The chart below visualizes the values assumed by these two measures and the misclassification error rates across the [0, 1] interval of proportions."
   ]
  },
  {
   "cell_type": "code",
   "execution_count": 352,
   "metadata": {
    "ExecuteTime": {
     "end_time": "2021-04-16T00:32:53.721436Z",
     "start_time": "2021-04-16T00:32:53.452115Z"
    }
   },
   "outputs": [
    {
     "data": {
      "image/png": "[encoded data removed]",
      "text/plain": [
       "<Figure size 640x480 with 1 Axes>"
      ]
     },
     "metadata": {},
     "output_type": "display_data"
    }
   ],
   "source": [
    "x = np.linspace(0, 1, 10000)\n",
    "(pd.DataFrame({'Gini': gini(x), \n",
    "              'Entropy': entropy(x),\n",
    "             'Misclassification Rate': misclassification_rate(x)}, index=x)\n",
    " .plot(title='Classification Loss Functions', lw=2, style=['-', '--', ':']))\n",
    "sns.despine()\n",
    "plt.tight_layout();"
   ]
  },
  {
   "cell_type": "markdown",
   "metadata": {},
   "source": [
    "#### Compare computation time"
   ]
  },
  {
   "cell_type": "markdown",
   "metadata": {},
   "source": [
    "Gini is often preferred over entropy because it computes faster:"
   ]
  },
  {
   "cell_type": "code",
   "execution_count": 353,
   "metadata": {
    "ExecuteTime": {
     "end_time": "2021-04-16T00:33:08.588281Z",
     "start_time": "2021-04-16T00:32:53.723873Z"
    }
   },
   "outputs": [
    {
     "name": "stdout",
     "output_type": "stream",
     "text": [
      "9.61 µs ± 85.3 ns per loop (mean ± std. dev. of 7 runs, 100,000 loops each)\n"
     ]
    }
   ],
   "source": [
    "%%timeit\n",
    "misclassification_rate(x)"
   ]
  },
  {
   "cell_type": "code",
   "execution_count": 354,
   "metadata": {
    "ExecuteTime": {
     "end_time": "2021-04-16T00:33:18.035051Z",
     "start_time": "2021-04-16T00:33:08.589304Z"
    }
   },
   "outputs": [
    {
     "name": "stdout",
     "output_type": "stream",
     "text": [
      "7.97 µs ± 67.7 ns per loop (mean ± std. dev. of 7 runs, 100,000 loops each)\n"
     ]
    }
   ],
   "source": [
    "%%timeit\n",
    "gini(x)"
   ]
  },
  {
   "cell_type": "code",
   "execution_count": 355,
   "metadata": {
    "ExecuteTime": {
     "end_time": "2021-04-16T00:33:19.423307Z",
     "start_time": "2021-04-16T00:33:18.036362Z"
    }
   },
   "outputs": [
    {
     "name": "stdout",
     "output_type": "stream",
     "text": [
      "82.8 µs ± 530 ns per loop (mean ± std. dev. of 7 runs, 10,000 loops each)\n"
     ]
    }
   ],
   "source": [
    "%%timeit\n",
    "entropy(x)"
   ]
  },
  {
   "cell_type": "markdown",
   "metadata": {},
   "source": [
    "### Configure Tree"
   ]
  },
  {
   "cell_type": "code",
   "execution_count": 356,
   "metadata": {
    "ExecuteTime": {
     "end_time": "2021-04-16T00:33:19.427483Z",
     "start_time": "2021-04-16T00:33:19.424763Z"
    }
   },
   "outputs": [],
   "source": [
    "clf_tree_t2 = DecisionTreeClassifier(criterion='gini',\n",
    "                                     splitter='best',\n",
    "                                     max_depth=5,\n",
    "                                     min_samples_split=1000,\n",
    "                                     min_samples_leaf=1,\n",
    "                                     min_weight_fraction_leaf=0.0,\n",
    "                                     max_features=None,\n",
    "                                     random_state=42,\n",
    "                                     max_leaf_nodes=None,\n",
    "                                     min_impurity_decrease=0.0,\n",
    "                                     class_weight=None)"
   ]
  },
  {
   "cell_type": "markdown",
   "metadata": {},
   "source": [
    "### Train Tree"
   ]
  },
  {
   "cell_type": "code",
   "execution_count": 357,
   "metadata": {
    "ExecuteTime": {
     "end_time": "2021-04-16T00:33:19.460489Z",
     "start_time": "2021-04-16T00:33:19.428704Z"
    }
   },
   "outputs": [
    {
     "data": {
      "text/plain": [
       "y\n",
       "1    2652\n",
       "0    2009\n",
       "Name: count, dtype: int64"
      ]
     },
     "execution_count": 357,
     "metadata": {},
     "output_type": "execute_result"
    }
   ],
   "source": [
    "y_binary = (y2>0).astype(int)\n",
    "y_binary.value_counts()"
   ]
  },
  {
   "cell_type": "code",
   "execution_count": 358,
   "metadata": {
    "ExecuteTime": {
     "end_time": "2021-04-16T00:33:26.269743Z",
     "start_time": "2021-04-16T00:33:19.461996Z"
    },
    "scrolled": true
   },
   "outputs": [
    {
     "name": "stdout",
     "output_type": "stream",
     "text": [
      "4.96 ms ± 188 µs per loop (mean ± std. dev. of 7 runs, 100 loops each)\n"
     ]
    }
   ],
   "source": [
    "%%timeit\n",
    "clf_tree_t2.fit(X=X2, y=y_binary)"
   ]
  },
  {
   "cell_type": "code",
   "execution_count": 359,
   "metadata": {
    "ExecuteTime": {
     "end_time": "2021-04-16T00:33:26.363009Z",
     "start_time": "2021-04-16T00:33:26.270887Z"
    }
   },
   "outputs": [
    {
     "data": {
      "text/html": [
       "<style>#sk-container-id-29 {color: black;}#sk-container-id-29 pre{padding: 0;}#sk-container-id-29 div.sk-toggleable {background-color: white;}#sk-container-id-29 label.sk-toggleable__label {cursor: pointer;display: block;width: 100%;margin-bottom: 0;padding: 0.3em;box-sizing: border-box;text-align: center;}#sk-container-id-29 label.sk-toggleable__label-arrow:before {content: \"▸\";float: left;margin-right: 0.25em;color: #696969;}#sk-container-id-29 label.sk-toggleable__label-arrow:hover:before {color: black;}#sk-container-id-29 div.sk-estimator:hover label.sk-toggleable__label-arrow:before {color: black;}#sk-container-id-29 div.sk-toggleable__content {max-height: 0;max-width: 0;overflow: hidden;text-align: left;background-color: #f0f8ff;}#sk-container-id-29 div.sk-toggleable__content pre {margin: 0.2em;color: black;border-radius: 0.25em;background-color: #f0f8ff;}#sk-container-id-29 input.sk-toggleable__control:checked~div.sk-toggleable__content {max-height: 200px;max-width: 100%;overflow: auto;}#sk-container-id-29 input.sk-toggleable__control:checked~label.sk-toggleable__label-arrow:before {content: \"▾\";}#sk-container-id-29 div.sk-estimator input.sk-toggleable__control:checked~label.sk-toggleable__label {background-color: #d4ebff;}#sk-container-id-29 div.sk-label input.sk-toggleable__control:checked~label.sk-toggleable__label {background-color: #d4ebff;}#sk-container-id-29 input.sk-hidden--visually {border: 0;clip: rect(1px 1px 1px 1px);clip: rect(1px, 1px, 1px, 1px);height: 1px;margin: -1px;overflow: hidden;padding: 0;position: absolute;width: 1px;}#sk-container-id-29 div.sk-estimator {font-family: monospace;background-color: #f0f8ff;border: 1px dotted black;border-radius: 0.25em;box-sizing: border-box;margin-bottom: 0.5em;}#sk-container-id-29 div.sk-estimator:hover {background-color: #d4ebff;}#sk-container-id-29 div.sk-parallel-item::after {content: \"\";width: 100%;border-bottom: 1px solid gray;flex-grow: 1;}#sk-container-id-29 div.sk-label:hover label.sk-toggleable__label {background-color: #d4ebff;}#sk-container-id-29 div.sk-serial::before {content: \"\";position: absolute;border-left: 1px solid gray;box-sizing: border-box;top: 0;bottom: 0;left: 50%;z-index: 0;}#sk-container-id-29 div.sk-serial {display: flex;flex-direction: column;align-items: center;background-color: white;padding-right: 0.2em;padding-left: 0.2em;position: relative;}#sk-container-id-29 div.sk-item {position: relative;z-index: 1;}#sk-container-id-29 div.sk-parallel {display: flex;align-items: stretch;justify-content: center;background-color: white;position: relative;}#sk-container-id-29 div.sk-item::before, #sk-container-id-29 div.sk-parallel-item::before {content: \"\";position: absolute;border-left: 1px solid gray;box-sizing: border-box;top: 0;bottom: 0;left: 50%;z-index: -1;}#sk-container-id-29 div.sk-parallel-item {display: flex;flex-direction: column;z-index: 1;position: relative;background-color: white;}#sk-container-id-29 div.sk-parallel-item:first-child::after {align-self: flex-end;width: 50%;}#sk-container-id-29 div.sk-parallel-item:last-child::after {align-self: flex-start;width: 50%;}#sk-container-id-29 div.sk-parallel-item:only-child::after {width: 0;}#sk-container-id-29 div.sk-dashed-wrapped {border: 1px dashed gray;margin: 0 0.4em 0.5em 0.4em;box-sizing: border-box;padding-bottom: 0.4em;background-color: white;}#sk-container-id-29 div.sk-label label {font-family: monospace;font-weight: bold;display: inline-block;line-height: 1.2em;}#sk-container-id-29 div.sk-label-container {text-align: center;}#sk-container-id-29 div.sk-container {/* jupyter's `normalize.less` sets `[hidden] { display: none; }` but bootstrap.min.css set `[hidden] { display: none !important; }` so we also need the `!important` here to be able to override the default hidden behavior on the sphinx rendered scikit-learn.org. See: https://github.com/scikit-learn/scikit-learn/issues/21755 */display: inline-block !important;position: relative;}#sk-container-id-29 div.sk-text-repr-fallback {display: none;}</style><div id=\"sk-container-id-29\" class=\"sk-top-container\"><div class=\"sk-text-repr-fallback\"><pre>DecisionTreeClassifier(max_depth=5, min_samples_split=1000, random_state=42)</pre><b>In a Jupyter environment, please rerun this cell to show the HTML representation or trust the notebook. <br />On GitHub, the HTML representation is unable to render, please try loading this page with nbviewer.org.</b></div><div class=\"sk-container\" hidden><div class=\"sk-item\"><div class=\"sk-estimator sk-toggleable\"><input class=\"sk-toggleable__control sk-hidden--visually\" id=\"sk-estimator-id-33\" type=\"checkbox\" checked><label for=\"sk-estimator-id-33\" class=\"sk-toggleable__label sk-toggleable__label-arrow\">DecisionTreeClassifier</label><div class=\"sk-toggleable__content\"><pre>DecisionTreeClassifier(max_depth=5, min_samples_split=1000, random_state=42)</pre></div></div></div></div></div>"
      ],
      "text/plain": [
       "DecisionTreeClassifier(max_depth=5, min_samples_split=1000, random_state=42)"
      ]
     },
     "execution_count": 359,
     "metadata": {},
     "output_type": "execute_result"
    }
   ],
   "source": [
    "clf_tree_t2.fit(X=X2, y=y_binary)"
   ]
  },
  {
   "cell_type": "markdown",
   "metadata": {},
   "source": [
    "### Visualize Tree"
   ]
  },
  {
   "cell_type": "code",
   "execution_count": 360,
   "metadata": {
    "ExecuteTime": {
     "end_time": "2021-04-16T00:33:26.404932Z",
     "start_time": "2021-04-16T00:33:26.363983Z"
    }
   },
   "outputs": [
    {
     "data": {
      "image/svg+xml": [
       "<?xml version=\"1.0\" encoding=\"UTF-8\" standalone=\"no\"?>\n",
       "<!DOCTYPE svg PUBLIC \"-//W3C//DTD SVG 1.1//EN\"\n",
       " \"http://www.w3.org/Graphics/SVG/1.1/DTD/svg11.dtd\">\n",
       "<!-- Generated by graphviz version 11.0.0 (0)\n",
       " -->\n",
       "<!-- Title: Tree Pages: 1 -->\n",
       "<svg width=\"352pt\" height=\"401pt\"\n",
       " viewBox=\"0.00 0.00 351.75 401.00\" xmlns=\"http://www.w3.org/2000/svg\" xmlns:xlink=\"http://www.w3.org/1999/xlink\">\n",
       "<g id=\"graph0\" class=\"graph\" transform=\"scale(1 1) rotate(0) translate(4 397)\">\n",
       "<title>Tree</title>\n",
       "<polygon fill=\"white\" stroke=\"none\" points=\"-4,4 -4,-397 347.75,-397 347.75,4 -4,4\"/>\n",
       "<!-- 0 -->\n",
       "<g id=\"node1\" class=\"node\">\n",
       "<title>0</title>\n",
       "<path fill=\"#cfe7f9\" stroke=\"black\" d=\"M177.25,-393C177.25,-393 62.25,-393 62.25,-393 56.25,-393 50.25,-387 50.25,-381 50.25,-381 50.25,-322 50.25,-322 50.25,-316 56.25,-310 62.25,-310 62.25,-310 177.25,-310 177.25,-310 183.25,-310 189.25,-316 189.25,-322 189.25,-322 189.25,-381 189.25,-381 189.25,-387 183.25,-393 177.25,-393\"/>\n",
       "<text text-anchor=\"start\" x=\"85.25\" y=\"-375.7\" font-family=\"Helvetica,sans-Serif\" font-size=\"14.00\">t&#45;1 ≤ &#45;0.253</text>\n",
       "<text text-anchor=\"start\" x=\"88.25\" y=\"-360.7\" font-family=\"Helvetica,sans-Serif\" font-size=\"14.00\">gini = 0.49</text>\n",
       "<text text-anchor=\"start\" x=\"71.38\" y=\"-345.7\" font-family=\"Helvetica,sans-Serif\" font-size=\"14.00\">samples = 4661</text>\n",
       "<text text-anchor=\"start\" x=\"58.25\" y=\"-330.7\" font-family=\"Helvetica,sans-Serif\" font-size=\"14.00\">value = [2009, 2652]</text>\n",
       "<text text-anchor=\"start\" x=\"87.88\" y=\"-315.7\" font-family=\"Helvetica,sans-Serif\" font-size=\"14.00\">class = Up</text>\n",
       "</g>\n",
       "<!-- 1 -->\n",
       "<g id=\"node2\" class=\"node\">\n",
       "<title>1</title>\n",
       "<path fill=\"#47a4e7\" stroke=\"black\" d=\"M89.5,-266.5C89.5,-266.5 12,-266.5 12,-266.5 6,-266.5 0,-260.5 0,-254.5 0,-254.5 0,-210.5 0,-210.5 0,-204.5 6,-198.5 12,-198.5 12,-198.5 89.5,-198.5 89.5,-198.5 95.5,-198.5 101.5,-204.5 101.5,-210.5 101.5,-210.5 101.5,-254.5 101.5,-254.5 101.5,-260.5 95.5,-266.5 89.5,-266.5\"/>\n",
       "<text text-anchor=\"start\" x=\"15.5\" y=\"-249.2\" font-family=\"Helvetica,sans-Serif\" font-size=\"14.00\">gini = 0.126</text>\n",
       "<text text-anchor=\"start\" x=\"9.88\" y=\"-234.2\" font-family=\"Helvetica,sans-Serif\" font-size=\"14.00\">samples = 74</text>\n",
       "<text text-anchor=\"start\" x=\"8\" y=\"-219.2\" font-family=\"Helvetica,sans-Serif\" font-size=\"14.00\">value = [5, 69]</text>\n",
       "<text text-anchor=\"start\" x=\"18.88\" y=\"-204.2\" font-family=\"Helvetica,sans-Serif\" font-size=\"14.00\">class = Up</text>\n",
       "</g>\n",
       "<!-- 0&#45;&gt;1 -->\n",
       "<g id=\"edge1\" class=\"edge\">\n",
       "<title>0&#45;&gt;1</title>\n",
       "<path fill=\"none\" stroke=\"black\" d=\"M95.62,-309.58C89.31,-298.88 82.49,-287.32 76.12,-276.52\"/>\n",
       "<polygon fill=\"black\" stroke=\"black\" points=\"79.29,-275 71.19,-268.16 73.26,-278.56 79.29,-275\"/>\n",
       "<text text-anchor=\"middle\" x=\"64.18\" y=\"-285.27\" font-family=\"Helvetica,sans-Serif\" font-size=\"14.00\">True</text>\n",
       "</g>\n",
       "<!-- 2 -->\n",
       "<g id=\"node3\" class=\"node\">\n",
       "<title>2</title>\n",
       "<path fill=\"#d3e9f9\" stroke=\"black\" d=\"M246.25,-274C246.25,-274 131.25,-274 131.25,-274 125.25,-274 119.25,-268 119.25,-262 119.25,-262 119.25,-203 119.25,-203 119.25,-197 125.25,-191 131.25,-191 131.25,-191 246.25,-191 246.25,-191 252.25,-191 258.25,-197 258.25,-203 258.25,-203 258.25,-262 258.25,-262 258.25,-268 252.25,-274 246.25,-274\"/>\n",
       "<text text-anchor=\"start\" x=\"156.5\" y=\"-256.7\" font-family=\"Helvetica,sans-Serif\" font-size=\"14.00\">t&#45;1 ≤ 0.011</text>\n",
       "<text text-anchor=\"start\" x=\"153.5\" y=\"-241.7\" font-family=\"Helvetica,sans-Serif\" font-size=\"14.00\">gini = 0.492</text>\n",
       "<text text-anchor=\"start\" x=\"140.38\" y=\"-226.7\" font-family=\"Helvetica,sans-Serif\" font-size=\"14.00\">samples = 4587</text>\n",
       "<text text-anchor=\"start\" x=\"127.25\" y=\"-211.7\" font-family=\"Helvetica,sans-Serif\" font-size=\"14.00\">value = [2004, 2583]</text>\n",
       "<text text-anchor=\"start\" x=\"156.88\" y=\"-196.7\" font-family=\"Helvetica,sans-Serif\" font-size=\"14.00\">class = Up</text>\n",
       "</g>\n",
       "<!-- 0&#45;&gt;2 -->\n",
       "<g id=\"edge2\" class=\"edge\">\n",
       "<title>0&#45;&gt;2</title>\n",
       "<path fill=\"none\" stroke=\"black\" d=\"M143.88,-309.58C148.74,-301.34 153.91,-292.58 158.93,-284.06\"/>\n",
       "<polygon fill=\"black\" stroke=\"black\" points=\"161.91,-285.9 163.98,-275.5 155.88,-282.34 161.91,-285.9\"/>\n",
       "<text text-anchor=\"middle\" x=\"170.99\" y=\"-292.61\" font-family=\"Helvetica,sans-Serif\" font-size=\"14.00\">False</text>\n",
       "</g>\n",
       "<!-- 3 -->\n",
       "<g id=\"node4\" class=\"node\">\n",
       "<title>3</title>\n",
       "<path fill=\"#e9f4fc\" stroke=\"black\" d=\"M165.5,-155C165.5,-155 58,-155 58,-155 52,-155 46,-149 46,-143 46,-143 46,-84 46,-84 46,-78 52,-72 58,-72 58,-72 165.5,-72 165.5,-72 171.5,-72 177.5,-78 177.5,-84 177.5,-84 177.5,-143 177.5,-143 177.5,-149 171.5,-155 165.5,-155\"/>\n",
       "<text text-anchor=\"start\" x=\"77.25\" y=\"-137.7\" font-family=\"Helvetica,sans-Serif\" font-size=\"14.00\">t&#45;1 ≤ &#45;0.004</text>\n",
       "<text text-anchor=\"start\" x=\"76.5\" y=\"-122.7\" font-family=\"Helvetica,sans-Serif\" font-size=\"14.00\">gini = 0.498</text>\n",
       "<text text-anchor=\"start\" x=\"63.38\" y=\"-107.7\" font-family=\"Helvetica,sans-Serif\" font-size=\"14.00\">samples = 2095</text>\n",
       "<text text-anchor=\"start\" x=\"54\" y=\"-92.7\" font-family=\"Helvetica,sans-Serif\" font-size=\"14.00\">value = [986, 1109]</text>\n",
       "<text text-anchor=\"start\" x=\"79.88\" y=\"-77.7\" font-family=\"Helvetica,sans-Serif\" font-size=\"14.00\">class = Up</text>\n",
       "</g>\n",
       "<!-- 2&#45;&gt;3 -->\n",
       "<g id=\"edge3\" class=\"edge\">\n",
       "<title>2&#45;&gt;3</title>\n",
       "<path fill=\"none\" stroke=\"black\" d=\"M161.82,-190.58C156.34,-182.25 150.51,-173.39 144.84,-164.78\"/>\n",
       "<polygon fill=\"black\" stroke=\"black\" points=\"147.79,-162.89 139.37,-156.46 141.94,-166.74 147.79,-162.89\"/>\n",
       "</g>\n",
       "<!-- 10 -->\n",
       "<g id=\"node7\" class=\"node\">\n",
       "<title>10</title>\n",
       "<path fill=\"#c2e1f7\" stroke=\"black\" d=\"M322.25,-155C322.25,-155 207.25,-155 207.25,-155 201.25,-155 195.25,-149 195.25,-143 195.25,-143 195.25,-84 195.25,-84 195.25,-78 201.25,-72 207.25,-72 207.25,-72 322.25,-72 322.25,-72 328.25,-72 334.25,-78 334.25,-84 334.25,-84 334.25,-143 334.25,-143 334.25,-149 328.25,-155 322.25,-155\"/>\n",
       "<text text-anchor=\"start\" x=\"230.25\" y=\"-137.7\" font-family=\"Helvetica,sans-Serif\" font-size=\"14.00\">t&#45;2 ≤ &#45;0.265</text>\n",
       "<text text-anchor=\"start\" x=\"229.5\" y=\"-122.7\" font-family=\"Helvetica,sans-Serif\" font-size=\"14.00\">gini = 0.483</text>\n",
       "<text text-anchor=\"start\" x=\"216.38\" y=\"-107.7\" font-family=\"Helvetica,sans-Serif\" font-size=\"14.00\">samples = 2492</text>\n",
       "<text text-anchor=\"start\" x=\"203.25\" y=\"-92.7\" font-family=\"Helvetica,sans-Serif\" font-size=\"14.00\">value = [1018, 1474]</text>\n",
       "<text text-anchor=\"start\" x=\"232.88\" y=\"-77.7\" font-family=\"Helvetica,sans-Serif\" font-size=\"14.00\">class = Up</text>\n",
       "</g>\n",
       "<!-- 2&#45;&gt;10 -->\n",
       "<g id=\"edge6\" class=\"edge\">\n",
       "<title>2&#45;&gt;10</title>\n",
       "<path fill=\"none\" stroke=\"black\" d=\"M215.33,-190.58C220.74,-182.25 226.49,-173.39 232.09,-164.78\"/>\n",
       "<polygon fill=\"black\" stroke=\"black\" points=\"234.98,-166.76 237.49,-156.47 229.11,-162.95 234.98,-166.76\"/>\n",
       "</g>\n",
       "<!-- 4 -->\n",
       "<g id=\"node5\" class=\"node\">\n",
       "<title>4</title>\n",
       "<path fill=\"#c0c0c0\" stroke=\"black\" d=\"M95.75,-36C95.75,-36 65.75,-36 65.75,-36 59.75,-36 53.75,-30 53.75,-24 53.75,-24 53.75,-12 53.75,-12 53.75,-6 59.75,0 65.75,0 65.75,0 95.75,0 95.75,0 101.75,0 107.75,-6 107.75,-12 107.75,-12 107.75,-24 107.75,-24 107.75,-30 101.75,-36 95.75,-36\"/>\n",
       "<text text-anchor=\"middle\" x=\"80.75\" y=\"-12.2\" font-family=\"Helvetica,sans-Serif\" font-size=\"14.00\">(...)</text>\n",
       "</g>\n",
       "<!-- 3&#45;&gt;4 -->\n",
       "<g id=\"edge4\" class=\"edge\">\n",
       "<title>3&#45;&gt;4</title>\n",
       "<path fill=\"none\" stroke=\"black\" d=\"M98.24,-71.76C95.48,-63.43 92.63,-54.84 90.06,-47.07\"/>\n",
       "<polygon fill=\"black\" stroke=\"black\" points=\"93.47,-46.23 87,-37.84 86.82,-48.44 93.47,-46.23\"/>\n",
       "</g>\n",
       "<!-- 9 -->\n",
       "<g id=\"node6\" class=\"node\">\n",
       "<title>9</title>\n",
       "<path fill=\"#c0c0c0\" stroke=\"black\" d=\"M167.75,-36C167.75,-36 137.75,-36 137.75,-36 131.75,-36 125.75,-30 125.75,-24 125.75,-24 125.75,-12 125.75,-12 125.75,-6 131.75,0 137.75,0 137.75,0 167.75,0 167.75,0 173.75,0 179.75,-6 179.75,-12 179.75,-12 179.75,-24 179.75,-24 179.75,-30 173.75,-36 167.75,-36\"/>\n",
       "<text text-anchor=\"middle\" x=\"152.75\" y=\"-12.2\" font-family=\"Helvetica,sans-Serif\" font-size=\"14.00\">(...)</text>\n",
       "</g>\n",
       "<!-- 3&#45;&gt;9 -->\n",
       "<g id=\"edge5\" class=\"edge\">\n",
       "<title>3&#45;&gt;9</title>\n",
       "<path fill=\"none\" stroke=\"black\" d=\"M129.61,-71.76C133.31,-63.33 137.12,-54.64 140.56,-46.8\"/>\n",
       "<polygon fill=\"black\" stroke=\"black\" points=\"143.7,-48.36 144.51,-37.79 137.29,-45.54 143.7,-48.36\"/>\n",
       "</g>\n",
       "<!-- 11 -->\n",
       "<g id=\"node8\" class=\"node\">\n",
       "<title>11</title>\n",
       "<path fill=\"#c0c0c0\" stroke=\"black\" d=\"M259.75,-36C259.75,-36 229.75,-36 229.75,-36 223.75,-36 217.75,-30 217.75,-24 217.75,-24 217.75,-12 217.75,-12 217.75,-6 223.75,0 229.75,0 229.75,0 259.75,0 259.75,0 265.75,0 271.75,-6 271.75,-12 271.75,-12 271.75,-24 271.75,-24 271.75,-30 265.75,-36 259.75,-36\"/>\n",
       "<text text-anchor=\"middle\" x=\"244.75\" y=\"-12.2\" font-family=\"Helvetica,sans-Serif\" font-size=\"14.00\">(...)</text>\n",
       "</g>\n",
       "<!-- 10&#45;&gt;11 -->\n",
       "<g id=\"edge7\" class=\"edge\">\n",
       "<title>10&#45;&gt;11</title>\n",
       "<path fill=\"none\" stroke=\"black\" d=\"M256.04,-71.76C254.3,-63.62 252.5,-55.24 250.87,-47.61\"/>\n",
       "<polygon fill=\"black\" stroke=\"black\" points=\"254.3,-46.93 248.79,-37.89 247.46,-48.4 254.3,-46.93\"/>\n",
       "</g>\n",
       "<!-- 12 -->\n",
       "<g id=\"node9\" class=\"node\">\n",
       "<title>12</title>\n",
       "<path fill=\"#c0c0c0\" stroke=\"black\" d=\"M331.75,-36C331.75,-36 301.75,-36 301.75,-36 295.75,-36 289.75,-30 289.75,-24 289.75,-24 289.75,-12 289.75,-12 289.75,-6 295.75,0 301.75,0 301.75,0 331.75,0 331.75,0 337.75,0 343.75,-6 343.75,-12 343.75,-12 343.75,-24 343.75,-24 343.75,-30 337.75,-36 331.75,-36\"/>\n",
       "<text text-anchor=\"middle\" x=\"316.75\" y=\"-12.2\" font-family=\"Helvetica,sans-Serif\" font-size=\"14.00\">(...)</text>\n",
       "</g>\n",
       "<!-- 10&#45;&gt;12 -->\n",
       "<g id=\"edge8\" class=\"edge\">\n",
       "<title>10&#45;&gt;12</title>\n",
       "<path fill=\"none\" stroke=\"black\" d=\"M287.41,-71.76C292.2,-63.14 297.15,-54.24 301.59,-46.26\"/>\n",
       "<polygon fill=\"black\" stroke=\"black\" points=\"304.53,-48.17 306.33,-37.73 298.42,-44.77 304.53,-48.17\"/>\n",
       "</g>\n",
       "</g>\n",
       "</svg>\n"
      ],
      "text/plain": [
       "<graphviz.sources.Source at 0x157521520>"
      ]
     },
     "execution_count": 360,
     "metadata": {},
     "output_type": "execute_result"
    }
   ],
   "source": [
    "out_file = results_path / 'clf_tree_t2.dot'\n",
    "dot_data = export_graphviz(clf_tree_t2,\n",
    "                           out_file=out_file.as_posix(),\n",
    "                           feature_names=X2.columns,\n",
    "                           class_names=['Down', 'Up'],\n",
    "                           max_depth=2,\n",
    "                           filled=True,\n",
    "                           rounded=True,\n",
    "                           special_characters=True)\n",
    "if out_file is not None:\n",
    "    dot_data = Path(out_file).read_text()\n",
    "\n",
    "graphviz.Source(dot_data)"
   ]
  },
  {
   "cell_type": "markdown",
   "metadata": {},
   "source": [
    "### Compare with Logistic Regression"
   ]
  },
  {
   "cell_type": "markdown",
   "metadata": {},
   "source": [
    "#### Statsmodels"
   ]
  },
  {
   "cell_type": "code",
   "execution_count": 361,
   "metadata": {
    "ExecuteTime": {
     "end_time": "2021-04-16T00:33:26.431166Z",
     "start_time": "2021-04-16T00:33:26.406282Z"
    }
   },
   "outputs": [],
   "source": [
    "log_reg_sm = sm.Logit(endog=y_binary, exog=sm.add_constant(X2))"
   ]
  },
  {
   "cell_type": "code",
   "execution_count": 362,
   "metadata": {
    "ExecuteTime": {
     "end_time": "2021-04-16T00:33:28.117793Z",
     "start_time": "2021-04-16T00:33:26.432422Z"
    },
    "scrolled": false
   },
   "outputs": [
    {
     "name": "stdout",
     "output_type": "stream",
     "text": [
      "1.44 ms ± 68.6 µs per loop (mean ± std. dev. of 7 runs, 1,000 loops each)\n"
     ]
    }
   ],
   "source": [
    "%%timeit\n",
    "log_reg_sm.fit(disp=False)"
   ]
  },
  {
   "cell_type": "code",
   "execution_count": 363,
   "metadata": {
    "ExecuteTime": {
     "end_time": "2021-04-16T00:33:28.199185Z",
     "start_time": "2021-04-16T00:33:28.119038Z"
    }
   },
   "outputs": [
    {
     "name": "stdout",
     "output_type": "stream",
     "text": [
      "Optimization terminated successfully.\n",
      "         Current function value: 0.683338\n",
      "         Iterations 4\n"
     ]
    }
   ],
   "source": [
    "log_result = log_reg_sm.fit()"
   ]
  },
  {
   "cell_type": "code",
   "execution_count": 364,
   "metadata": {
    "ExecuteTime": {
     "end_time": "2021-04-16T00:33:28.452764Z",
     "start_time": "2021-04-16T00:33:28.200353Z"
    }
   },
   "outputs": [
    {
     "name": "stdout",
     "output_type": "stream",
     "text": [
      "                           Logit Regression Results                           \n",
      "==============================================================================\n",
      "Dep. Variable:                      y   No. Observations:                 4661\n",
      "Model:                          Logit   Df Residuals:                     4658\n",
      "Method:                           MLE   Df Model:                            2\n",
      "Date:                Mon, 03 Jun 2024   Pseudo R-squ.:               0.0003854\n",
      "Time:                        00:43:21   Log-Likelihood:                -3185.0\n",
      "converged:                       True   LL-Null:                       -3186.3\n",
      "Covariance Type:            nonrobust   LLR p-value:                    0.2929\n",
      "==============================================================================\n",
      "                 coef    std err          z      P>|z|      [0.025      0.975]\n",
      "------------------------------------------------------------------------------\n",
      "const          0.2950      0.033      9.013      0.000       0.231       0.359\n",
      "t-1           -0.0470      0.181     -0.260      0.795      -0.401       0.307\n",
      "t-2           -0.2873      0.185     -1.554      0.120      -0.650       0.075\n",
      "==============================================================================\n"
     ]
    }
   ],
   "source": [
    "print(log_result.summary())"
   ]
  },
  {
   "cell_type": "markdown",
   "metadata": {},
   "source": [
    "#### sklearn"
   ]
  },
  {
   "cell_type": "code",
   "execution_count": 365,
   "metadata": {
    "ExecuteTime": {
     "end_time": "2021-04-16T00:33:28.458948Z",
     "start_time": "2021-04-16T00:33:28.455385Z"
    }
   },
   "outputs": [],
   "source": [
    "log_reg_sk = LogisticRegression()"
   ]
  },
  {
   "cell_type": "code",
   "execution_count": 366,
   "metadata": {
    "ExecuteTime": {
     "end_time": "2021-04-16T00:33:33.909359Z",
     "start_time": "2021-04-16T00:33:28.461195Z"
    }
   },
   "outputs": [
    {
     "name": "stdout",
     "output_type": "stream",
     "text": [
      "4.03 ms ± 278 µs per loop (mean ± std. dev. of 7 runs, 100 loops each)\n"
     ]
    }
   ],
   "source": [
    "%%timeit\n",
    "log_reg_sk.fit(X=X2, y=y_binary)"
   ]
  },
  {
   "cell_type": "code",
   "execution_count": 367,
   "metadata": {
    "ExecuteTime": {
     "end_time": "2021-04-16T00:33:34.057197Z",
     "start_time": "2021-04-16T00:33:33.910465Z"
    }
   },
   "outputs": [
    {
     "data": {
      "text/html": [
       "<style>#sk-container-id-30 {color: black;}#sk-container-id-30 pre{padding: 0;}#sk-container-id-30 div.sk-toggleable {background-color: white;}#sk-container-id-30 label.sk-toggleable__label {cursor: pointer;display: block;width: 100%;margin-bottom: 0;padding: 0.3em;box-sizing: border-box;text-align: center;}#sk-container-id-30 label.sk-toggleable__label-arrow:before {content: \"▸\";float: left;margin-right: 0.25em;color: #696969;}#sk-container-id-30 label.sk-toggleable__label-arrow:hover:before {color: black;}#sk-container-id-30 div.sk-estimator:hover label.sk-toggleable__label-arrow:before {color: black;}#sk-container-id-30 div.sk-toggleable__content {max-height: 0;max-width: 0;overflow: hidden;text-align: left;background-color: #f0f8ff;}#sk-container-id-30 div.sk-toggleable__content pre {margin: 0.2em;color: black;border-radius: 0.25em;background-color: #f0f8ff;}#sk-container-id-30 input.sk-toggleable__control:checked~div.sk-toggleable__content {max-height: 200px;max-width: 100%;overflow: auto;}#sk-container-id-30 input.sk-toggleable__control:checked~label.sk-toggleable__label-arrow:before {content: \"▾\";}#sk-container-id-30 div.sk-estimator input.sk-toggleable__control:checked~label.sk-toggleable__label {background-color: #d4ebff;}#sk-container-id-30 div.sk-label input.sk-toggleable__control:checked~label.sk-toggleable__label {background-color: #d4ebff;}#sk-container-id-30 input.sk-hidden--visually {border: 0;clip: rect(1px 1px 1px 1px);clip: rect(1px, 1px, 1px, 1px);height: 1px;margin: -1px;overflow: hidden;padding: 0;position: absolute;width: 1px;}#sk-container-id-30 div.sk-estimator {font-family: monospace;background-color: #f0f8ff;border: 1px dotted black;border-radius: 0.25em;box-sizing: border-box;margin-bottom: 0.5em;}#sk-container-id-30 div.sk-estimator:hover {background-color: #d4ebff;}#sk-container-id-30 div.sk-parallel-item::after {content: \"\";width: 100%;border-bottom: 1px solid gray;flex-grow: 1;}#sk-container-id-30 div.sk-label:hover label.sk-toggleable__label {background-color: #d4ebff;}#sk-container-id-30 div.sk-serial::before {content: \"\";position: absolute;border-left: 1px solid gray;box-sizing: border-box;top: 0;bottom: 0;left: 50%;z-index: 0;}#sk-container-id-30 div.sk-serial {display: flex;flex-direction: column;align-items: center;background-color: white;padding-right: 0.2em;padding-left: 0.2em;position: relative;}#sk-container-id-30 div.sk-item {position: relative;z-index: 1;}#sk-container-id-30 div.sk-parallel {display: flex;align-items: stretch;justify-content: center;background-color: white;position: relative;}#sk-container-id-30 div.sk-item::before, #sk-container-id-30 div.sk-parallel-item::before {content: \"\";position: absolute;border-left: 1px solid gray;box-sizing: border-box;top: 0;bottom: 0;left: 50%;z-index: -1;}#sk-container-id-30 div.sk-parallel-item {display: flex;flex-direction: column;z-index: 1;position: relative;background-color: white;}#sk-container-id-30 div.sk-parallel-item:first-child::after {align-self: flex-end;width: 50%;}#sk-container-id-30 div.sk-parallel-item:last-child::after {align-self: flex-start;width: 50%;}#sk-container-id-30 div.sk-parallel-item:only-child::after {width: 0;}#sk-container-id-30 div.sk-dashed-wrapped {border: 1px dashed gray;margin: 0 0.4em 0.5em 0.4em;box-sizing: border-box;padding-bottom: 0.4em;background-color: white;}#sk-container-id-30 div.sk-label label {font-family: monospace;font-weight: bold;display: inline-block;line-height: 1.2em;}#sk-container-id-30 div.sk-label-container {text-align: center;}#sk-container-id-30 div.sk-container {/* jupyter's `normalize.less` sets `[hidden] { display: none; }` but bootstrap.min.css set `[hidden] { display: none !important; }` so we also need the `!important` here to be able to override the default hidden behavior on the sphinx rendered scikit-learn.org. See: https://github.com/scikit-learn/scikit-learn/issues/21755 */display: inline-block !important;position: relative;}#sk-container-id-30 div.sk-text-repr-fallback {display: none;}</style><div id=\"sk-container-id-30\" class=\"sk-top-container\"><div class=\"sk-text-repr-fallback\"><pre>LogisticRegression()</pre><b>In a Jupyter environment, please rerun this cell to show the HTML representation or trust the notebook. <br />On GitHub, the HTML representation is unable to render, please try loading this page with nbviewer.org.</b></div><div class=\"sk-container\" hidden><div class=\"sk-item\"><div class=\"sk-estimator sk-toggleable\"><input class=\"sk-toggleable__control sk-hidden--visually\" id=\"sk-estimator-id-34\" type=\"checkbox\" checked><label for=\"sk-estimator-id-34\" class=\"sk-toggleable__label sk-toggleable__label-arrow\">LogisticRegression</label><div class=\"sk-toggleable__content\"><pre>LogisticRegression()</pre></div></div></div></div></div>"
      ],
      "text/plain": [
       "LogisticRegression()"
      ]
     },
     "execution_count": 367,
     "metadata": {},
     "output_type": "execute_result"
    }
   ],
   "source": [
    "log_reg_sk.fit(X=X2, y=y_binary)"
   ]
  },
  {
   "cell_type": "code",
   "execution_count": 368,
   "metadata": {
    "ExecuteTime": {
     "end_time": "2021-04-16T00:33:34.066180Z",
     "start_time": "2021-04-16T00:33:34.058359Z"
    }
   },
   "outputs": [
    {
     "data": {
      "text/plain": [
       "array([[-0.04518619, -0.27777869]])"
      ]
     },
     "execution_count": 368,
     "metadata": {},
     "output_type": "execute_result"
    }
   ],
   "source": [
    "log_reg_sk.coef_"
   ]
  },
  {
   "cell_type": "markdown",
   "metadata": {},
   "source": [
    "### Decision Surfaces: Classifier Tree vs. Logistic Regression "
   ]
  },
  {
   "cell_type": "code",
   "execution_count": 369,
   "metadata": {
    "ExecuteTime": {
     "end_time": "2021-04-16T00:33:34.454616Z",
     "start_time": "2021-04-16T00:33:34.072296Z"
    }
   },
   "outputs": [
    {
     "data": {
      "image/png": "[encoded data removed]",
      "text/plain": [
       "<Figure size 1200x500 with 4 Axes>"
      ]
     },
     "metadata": {},
     "output_type": "display_data"
    }
   ],
   "source": [
    "fig, axes = plt.subplots(ncols=2, figsize=(12,5))\n",
    "\n",
    "# Linear Regression\n",
    "ret1 = log_reg_sk.predict_proba(X_data)[:, 1].reshape(t1.shape)\n",
    "surface1 = axes[0].contourf(t1, t2, ret1, cmap='Blues')\n",
    "plt.colorbar(mappable=surface1, ax=axes[0])\n",
    "\n",
    "# Regression Tree\n",
    "ret2 = clf_tree_t2.predict_proba(X_data)[:, 1].reshape(t1.shape)\n",
    "surface2 = axes[1].contourf(t1, t2, ret2, cmap='Blues')\n",
    "plt.colorbar(mappable=surface2, ax=axes[1])\n",
    "\n",
    "# Format plots\n",
    "titles = ['Logistic Regression', 'Classification Tree']\n",
    "for i, ax in enumerate(axes):\n",
    "    ax.set_xlabel('t-1')\n",
    "    ax.set_ylabel('t-2')\n",
    "    ax.set_title(titles[i])\n",
    "\n",
    "fig.suptitle('Decision Surfaces', fontsize=20)\n",
    "sns.despine()\n",
    "fig.tight_layout()\n",
    "fig.subplots_adjust(top=.9);"
   ]
  },
  {
   "cell_type": "markdown",
   "metadata": {},
   "source": [
    "## Regression Tree with all Features"
   ]
  },
  {
   "cell_type": "markdown",
   "metadata": {},
   "source": [
    "We now train, visualize, and evaluate a regression tree with up to 5 consecutive splits using 80% of the samples for training to predict the remaining 20%.\n",
    "\n",
    "We are taking a shortcut here to simplify the illustration and use the built-in train_test_split, which does not protect against lookahead bias, as our custom iterator. The tree configuration implies up to $2^5=32$ leaf nodes that, on average in the balanced case, would contain over 4,300 of the training samples."
   ]
  },
  {
   "cell_type": "markdown",
   "metadata": {},
   "source": [
    "### Train-Test Split"
   ]
  },
  {
   "cell_type": "code",
   "execution_count": 370,
   "metadata": {
    "ExecuteTime": {
     "end_time": "2021-04-16T00:33:34.491936Z",
     "start_time": "2021-04-16T00:33:34.455838Z"
    }
   },
   "outputs": [],
   "source": [
    "X = pd.get_dummies(data.drop('target', axis=1))\n",
    "y = data.target"
   ]
  },
  {
   "cell_type": "code",
   "execution_count": 371,
   "metadata": {
    "ExecuteTime": {
     "end_time": "2021-04-16T00:33:34.529344Z",
     "start_time": "2021-04-16T00:33:34.493349Z"
    }
   },
   "outputs": [],
   "source": [
    "X_train, X_test, y_train, y_test = train_test_split(X, y, test_size=0.2, random_state=42)"
   ]
  },
  {
   "cell_type": "markdown",
   "metadata": {},
   "source": [
    "### Configure Tree"
   ]
  },
  {
   "cell_type": "markdown",
   "metadata": {},
   "source": [
    "The output after training the model displays all the DecisionTreeClassifier parameters that we will address in more detail in the next section when we discuss parameter-tuning. "
   ]
  },
  {
   "cell_type": "code",
   "execution_count": 372,
   "metadata": {
    "ExecuteTime": {
     "end_time": "2021-04-16T00:33:34.532666Z",
     "start_time": "2021-04-16T00:33:34.530505Z"
    }
   },
   "outputs": [],
   "source": [
    "regression_tree = DecisionTreeRegressor(criterion='squared_error',\n",
    "                                        splitter='best',\n",
    "                                        max_depth=5,\n",
    "                                        min_samples_split=2,\n",
    "                                        min_samples_leaf=1,\n",
    "                                        min_weight_fraction_leaf=0.0,\n",
    "                                        max_features=None,\n",
    "                                        random_state=42,\n",
    "                                        max_leaf_nodes=None,\n",
    "                                        min_impurity_decrease=0.0)"
   ]
  },
  {
   "cell_type": "markdown",
   "metadata": {},
   "source": [
    "### Train Model"
   ]
  },
  {
   "cell_type": "code",
   "execution_count": 373,
   "metadata": {
    "ExecuteTime": {
     "end_time": "2021-04-16T00:33:35.266789Z",
     "start_time": "2021-04-16T00:33:34.534056Z"
    },
    "scrolled": false
   },
   "outputs": [
    {
     "data": {
      "text/html": [
       "<style>#sk-container-id-31 {color: black;}#sk-container-id-31 pre{padding: 0;}#sk-container-id-31 div.sk-toggleable {background-color: white;}#sk-container-id-31 label.sk-toggleable__label {cursor: pointer;display: block;width: 100%;margin-bottom: 0;padding: 0.3em;box-sizing: border-box;text-align: center;}#sk-container-id-31 label.sk-toggleable__label-arrow:before {content: \"▸\";float: left;margin-right: 0.25em;color: #696969;}#sk-container-id-31 label.sk-toggleable__label-arrow:hover:before {color: black;}#sk-container-id-31 div.sk-estimator:hover label.sk-toggleable__label-arrow:before {color: black;}#sk-container-id-31 div.sk-toggleable__content {max-height: 0;max-width: 0;overflow: hidden;text-align: left;background-color: #f0f8ff;}#sk-container-id-31 div.sk-toggleable__content pre {margin: 0.2em;color: black;border-radius: 0.25em;background-color: #f0f8ff;}#sk-container-id-31 input.sk-toggleable__control:checked~div.sk-toggleable__content {max-height: 200px;max-width: 100%;overflow: auto;}#sk-container-id-31 input.sk-toggleable__control:checked~label.sk-toggleable__label-arrow:before {content: \"▾\";}#sk-container-id-31 div.sk-estimator input.sk-toggleable__control:checked~label.sk-toggleable__label {background-color: #d4ebff;}#sk-container-id-31 div.sk-label input.sk-toggleable__control:checked~label.sk-toggleable__label {background-color: #d4ebff;}#sk-container-id-31 input.sk-hidden--visually {border: 0;clip: rect(1px 1px 1px 1px);clip: rect(1px, 1px, 1px, 1px);height: 1px;margin: -1px;overflow: hidden;padding: 0;position: absolute;width: 1px;}#sk-container-id-31 div.sk-estimator {font-family: monospace;background-color: #f0f8ff;border: 1px dotted black;border-radius: 0.25em;box-sizing: border-box;margin-bottom: 0.5em;}#sk-container-id-31 div.sk-estimator:hover {background-color: #d4ebff;}#sk-container-id-31 div.sk-parallel-item::after {content: \"\";width: 100%;border-bottom: 1px solid gray;flex-grow: 1;}#sk-container-id-31 div.sk-label:hover label.sk-toggleable__label {background-color: #d4ebff;}#sk-container-id-31 div.sk-serial::before {content: \"\";position: absolute;border-left: 1px solid gray;box-sizing: border-box;top: 0;bottom: 0;left: 50%;z-index: 0;}#sk-container-id-31 div.sk-serial {display: flex;flex-direction: column;align-items: center;background-color: white;padding-right: 0.2em;padding-left: 0.2em;position: relative;}#sk-container-id-31 div.sk-item {position: relative;z-index: 1;}#sk-container-id-31 div.sk-parallel {display: flex;align-items: stretch;justify-content: center;background-color: white;position: relative;}#sk-container-id-31 div.sk-item::before, #sk-container-id-31 div.sk-parallel-item::before {content: \"\";position: absolute;border-left: 1px solid gray;box-sizing: border-box;top: 0;bottom: 0;left: 50%;z-index: -1;}#sk-container-id-31 div.sk-parallel-item {display: flex;flex-direction: column;z-index: 1;position: relative;background-color: white;}#sk-container-id-31 div.sk-parallel-item:first-child::after {align-self: flex-end;width: 50%;}#sk-container-id-31 div.sk-parallel-item:last-child::after {align-self: flex-start;width: 50%;}#sk-container-id-31 div.sk-parallel-item:only-child::after {width: 0;}#sk-container-id-31 div.sk-dashed-wrapped {border: 1px dashed gray;margin: 0 0.4em 0.5em 0.4em;box-sizing: border-box;padding-bottom: 0.4em;background-color: white;}#sk-container-id-31 div.sk-label label {font-family: monospace;font-weight: bold;display: inline-block;line-height: 1.2em;}#sk-container-id-31 div.sk-label-container {text-align: center;}#sk-container-id-31 div.sk-container {/* jupyter's `normalize.less` sets `[hidden] { display: none; }` but bootstrap.min.css set `[hidden] { display: none !important; }` so we also need the `!important` here to be able to override the default hidden behavior on the sphinx rendered scikit-learn.org. See: https://github.com/scikit-learn/scikit-learn/issues/21755 */display: inline-block !important;position: relative;}#sk-container-id-31 div.sk-text-repr-fallback {display: none;}</style><div id=\"sk-container-id-31\" class=\"sk-top-container\"><div class=\"sk-text-repr-fallback\"><pre>DecisionTreeRegressor(max_depth=5, random_state=42)</pre><b>In a Jupyter environment, please rerun this cell to show the HTML representation or trust the notebook. <br />On GitHub, the HTML representation is unable to render, please try loading this page with nbviewer.org.</b></div><div class=\"sk-container\" hidden><div class=\"sk-item\"><div class=\"sk-estimator sk-toggleable\"><input class=\"sk-toggleable__control sk-hidden--visually\" id=\"sk-estimator-id-35\" type=\"checkbox\" checked><label for=\"sk-estimator-id-35\" class=\"sk-toggleable__label sk-toggleable__label-arrow\">DecisionTreeRegressor</label><div class=\"sk-toggleable__content\"><pre>DecisionTreeRegressor(max_depth=5, random_state=42)</pre></div></div></div></div></div>"
      ],
      "text/plain": [
       "DecisionTreeRegressor(max_depth=5, random_state=42)"
      ]
     },
     "execution_count": 373,
     "metadata": {},
     "output_type": "execute_result"
    }
   ],
   "source": [
    "regression_tree.fit(X=X_train, y=y_train)"
   ]
  },
  {
   "cell_type": "markdown",
   "metadata": {},
   "source": [
    "### Visualize Tree"
   ]
  },
  {
   "cell_type": "markdown",
   "metadata": {},
   "source": [
    "The result shows that the model uses a variety of different features and indicates the split rules for both continuous and categorical (dummy) variables. "
   ]
  },
  {
   "cell_type": "code",
   "execution_count": 374,
   "metadata": {
    "ExecuteTime": {
     "end_time": "2021-04-16T00:33:35.332234Z",
     "start_time": "2021-04-16T00:33:35.267941Z"
    }
   },
   "outputs": [
    {
     "data": {
      "image/svg+xml": [
       "<?xml version=\"1.0\" encoding=\"UTF-8\" standalone=\"no\"?>\n",
       "<!DOCTYPE svg PUBLIC \"-//W3C//DTD SVG 1.1//EN\"\n",
       " \"http://www.w3.org/Graphics/SVG/1.1/DTD/svg11.dtd\">\n",
       "<!-- Generated by graphviz version 11.0.0 (0)\n",
       " -->\n",
       "<!-- Title: Tree Pages: 1 -->\n",
       "<svg width=\"1342pt\" height=\"460pt\"\n",
       " viewBox=\"0.00 0.00 1341.62 460.00\" xmlns=\"http://www.w3.org/2000/svg\" xmlns:xlink=\"http://www.w3.org/1999/xlink\">\n",
       "<g id=\"graph0\" class=\"graph\" transform=\"scale(1 1) rotate(0) translate(4 456)\">\n",
       "<title>Tree</title>\n",
       "<polygon fill=\"white\" stroke=\"none\" points=\"-4,4 -4,-456 1337.62,-456 1337.62,4 -4,4\"/>\n",
       "<!-- 0 -->\n",
       "<g id=\"node1\" class=\"node\">\n",
       "<title>0</title>\n",
       "<path fill=\"#f7d6bf\" stroke=\"black\" d=\"M726.25,-452C726.25,-452 600,-452 600,-452 594,-452 588,-446 588,-440 588,-440 588,-396 588,-396 588,-390 594,-384 600,-384 600,-384 726.25,-384 726.25,-384 732.25,-384 738.25,-390 738.25,-396 738.25,-396 738.25,-440 738.25,-440 738.25,-446 732.25,-452 726.25,-452\"/>\n",
       "<text text-anchor=\"start\" x=\"627.12\" y=\"-434.7\" font-family=\"Helvetica,sans-Serif\" font-size=\"14.00\">month ≤ 2.5</text>\n",
       "<text text-anchor=\"start\" x=\"596\" y=\"-419.7\" font-family=\"Helvetica,sans-Serif\" font-size=\"14.00\">squared_error = 0.027</text>\n",
       "<text text-anchor=\"start\" x=\"614.75\" y=\"-404.7\" font-family=\"Helvetica,sans-Serif\" font-size=\"14.00\">samples = 3768</text>\n",
       "<text text-anchor=\"start\" x=\"622.25\" y=\"-389.7\" font-family=\"Helvetica,sans-Serif\" font-size=\"14.00\">value = 0.057</text>\n",
       "</g>\n",
       "<!-- 1 -->\n",
       "<g id=\"node2\" class=\"node\">\n",
       "<title>1</title>\n",
       "<path fill=\"#f9e2d2\" stroke=\"black\" d=\"M558.25,-348C558.25,-348 432,-348 432,-348 426,-348 420,-342 420,-336 420,-336 420,-292 420,-292 420,-286 426,-280 432,-280 432,-280 558.25,-280 558.25,-280 564.25,-280 570.25,-286 570.25,-292 570.25,-292 570.25,-336 570.25,-336 570.25,-342 564.25,-348 558.25,-348\"/>\n",
       "<text text-anchor=\"start\" x=\"459.88\" y=\"-330.7\" font-family=\"Helvetica,sans-Serif\" font-size=\"14.00\">rsi ≤ 33.826</text>\n",
       "<text text-anchor=\"start\" x=\"428\" y=\"-315.7\" font-family=\"Helvetica,sans-Serif\" font-size=\"14.00\">squared_error = 0.016</text>\n",
       "<text text-anchor=\"start\" x=\"450.5\" y=\"-300.7\" font-family=\"Helvetica,sans-Serif\" font-size=\"14.00\">samples = 626</text>\n",
       "<text text-anchor=\"start\" x=\"452\" y=\"-285.7\" font-family=\"Helvetica,sans-Serif\" font-size=\"14.00\">value = &#45;0.023</text>\n",
       "</g>\n",
       "<!-- 0&#45;&gt;1 -->\n",
       "<g id=\"edge1\" class=\"edge\">\n",
       "<title>0&#45;&gt;1</title>\n",
       "<path fill=\"none\" stroke=\"black\" d=\"M608.12,-383.6C592.74,-374.27 575.89,-364.04 560,-354.39\"/>\n",
       "<polygon fill=\"black\" stroke=\"black\" points=\"561.92,-351.46 551.55,-349.26 558.28,-357.44 561.92,-351.46\"/>\n",
       "<text text-anchor=\"middle\" x=\"556.19\" y=\"-366.96\" font-family=\"Helvetica,sans-Serif\" font-size=\"14.00\">True</text>\n",
       "</g>\n",
       "<!-- 28 -->\n",
       "<g id=\"node17\" class=\"node\">\n",
       "<title>28</title>\n",
       "<path fill=\"#f6d4bb\" stroke=\"black\" d=\"M894.25,-348C894.25,-348 768,-348 768,-348 762,-348 756,-342 756,-336 756,-336 756,-292 756,-292 756,-286 762,-280 768,-280 768,-280 894.25,-280 894.25,-280 900.25,-280 906.25,-286 906.25,-292 906.25,-292 906.25,-336 906.25,-336 906.25,-342 900.25,-348 894.25,-348\"/>\n",
       "<text text-anchor=\"start\" x=\"789.88\" y=\"-330.7\" font-family=\"Helvetica,sans-Serif\" font-size=\"14.00\">year ≤ 2022.5</text>\n",
       "<text text-anchor=\"start\" x=\"764\" y=\"-315.7\" font-family=\"Helvetica,sans-Serif\" font-size=\"14.00\">squared_error = 0.028</text>\n",
       "<text text-anchor=\"start\" x=\"782.75\" y=\"-300.7\" font-family=\"Helvetica,sans-Serif\" font-size=\"14.00\">samples = 3142</text>\n",
       "<text text-anchor=\"start\" x=\"790.25\" y=\"-285.7\" font-family=\"Helvetica,sans-Serif\" font-size=\"14.00\">value = 0.073</text>\n",
       "</g>\n",
       "<!-- 0&#45;&gt;28 -->\n",
       "<g id=\"edge16\" class=\"edge\">\n",
       "<title>0&#45;&gt;28</title>\n",
       "<path fill=\"none\" stroke=\"black\" d=\"M718.13,-383.6C733.51,-374.27 750.36,-364.04 766.25,-354.39\"/>\n",
       "<polygon fill=\"black\" stroke=\"black\" points=\"767.97,-357.44 774.7,-349.26 764.33,-351.46 767.97,-357.44\"/>\n",
       "<text text-anchor=\"middle\" x=\"770.06\" y=\"-366.96\" font-family=\"Helvetica,sans-Serif\" font-size=\"14.00\">False</text>\n",
       "</g>\n",
       "<!-- 2 -->\n",
       "<g id=\"node3\" class=\"node\">\n",
       "<title>2</title>\n",
       "<path fill=\"#f6d5bd\" stroke=\"black\" d=\"M306.25,-244C306.25,-244 180,-244 180,-244 174,-244 168,-238 168,-232 168,-232 168,-188 168,-188 168,-182 174,-176 180,-176 180,-176 306.25,-176 306.25,-176 312.25,-176 318.25,-182 318.25,-188 318.25,-188 318.25,-232 318.25,-232 318.25,-238 312.25,-244 306.25,-244\"/>\n",
       "<text text-anchor=\"start\" x=\"201.88\" y=\"-226.7\" font-family=\"Helvetica,sans-Serif\" font-size=\"14.00\">year ≤ 2019.0</text>\n",
       "<text text-anchor=\"start\" x=\"176\" y=\"-211.7\" font-family=\"Helvetica,sans-Serif\" font-size=\"14.00\">squared_error = 0.016</text>\n",
       "<text text-anchor=\"start\" x=\"198.5\" y=\"-196.7\" font-family=\"Helvetica,sans-Serif\" font-size=\"14.00\">samples = 102</text>\n",
       "<text text-anchor=\"start\" x=\"202.25\" y=\"-181.7\" font-family=\"Helvetica,sans-Serif\" font-size=\"14.00\">value = 0.065</text>\n",
       "</g>\n",
       "<!-- 1&#45;&gt;2 -->\n",
       "<g id=\"edge2\" class=\"edge\">\n",
       "<title>1&#45;&gt;2</title>\n",
       "<path fill=\"none\" stroke=\"black\" d=\"M419.52,-282.4C391.11,-270.9 358.61,-257.75 329.32,-245.89\"/>\n",
       "<polygon fill=\"black\" stroke=\"black\" points=\"330.67,-242.66 320.08,-242.15 328.04,-249.15 330.67,-242.66\"/>\n",
       "</g>\n",
       "<!-- 15 -->\n",
       "<g id=\"node10\" class=\"node\">\n",
       "<title>15</title>\n",
       "<path fill=\"#fae5d6\" stroke=\"black\" d=\"M558.25,-244C558.25,-244 432,-244 432,-244 426,-244 420,-238 420,-232 420,-232 420,-188 420,-188 420,-182 426,-176 432,-176 432,-176 558.25,-176 558.25,-176 564.25,-176 570.25,-182 570.25,-188 570.25,-188 570.25,-232 570.25,-232 570.25,-238 564.25,-244 558.25,-244\"/>\n",
       "<text text-anchor=\"start\" x=\"449.38\" y=\"-226.7\" font-family=\"Helvetica,sans-Serif\" font-size=\"14.00\">bb_low ≤ 1.072</text>\n",
       "<text text-anchor=\"start\" x=\"428\" y=\"-211.7\" font-family=\"Helvetica,sans-Serif\" font-size=\"14.00\">squared_error = 0.014</text>\n",
       "<text text-anchor=\"start\" x=\"450.5\" y=\"-196.7\" font-family=\"Helvetica,sans-Serif\" font-size=\"14.00\">samples = 524</text>\n",
       "<text text-anchor=\"start\" x=\"455.75\" y=\"-181.7\" font-family=\"Helvetica,sans-Serif\" font-size=\"14.00\">value = &#45;0.04</text>\n",
       "</g>\n",
       "<!-- 1&#45;&gt;15 -->\n",
       "<g id=\"edge9\" class=\"edge\">\n",
       "<title>1&#45;&gt;15</title>\n",
       "<path fill=\"none\" stroke=\"black\" d=\"M495.12,-279.6C495.12,-272.03 495.12,-263.87 495.12,-255.9\"/>\n",
       "<polygon fill=\"black\" stroke=\"black\" points=\"498.63,-255.99 495.13,-245.99 491.63,-255.99 498.63,-255.99\"/>\n",
       "</g>\n",
       "<!-- 3 -->\n",
       "<g id=\"node4\" class=\"node\">\n",
       "<title>3</title>\n",
       "<path fill=\"#f5ccaf\" stroke=\"black\" d=\"M138.25,-140C138.25,-140 12,-140 12,-140 6,-140 0,-134 0,-128 0,-128 0,-84 0,-84 0,-78 6,-72 12,-72 12,-72 138.25,-72 138.25,-72 144.25,-72 150.25,-78 150.25,-84 150.25,-84 150.25,-128 150.25,-128 150.25,-134 144.25,-140 138.25,-140\"/>\n",
       "<text text-anchor=\"start\" x=\"39.88\" y=\"-122.7\" font-family=\"Helvetica,sans-Serif\" font-size=\"14.00\">rsi ≤ 32.385</text>\n",
       "<text text-anchor=\"start\" x=\"8\" y=\"-107.7\" font-family=\"Helvetica,sans-Serif\" font-size=\"14.00\">squared_error = 0.014</text>\n",
       "<text text-anchor=\"start\" x=\"34.25\" y=\"-92.7\" font-family=\"Helvetica,sans-Serif\" font-size=\"14.00\">samples = 55</text>\n",
       "<text text-anchor=\"start\" x=\"34.25\" y=\"-77.7\" font-family=\"Helvetica,sans-Serif\" font-size=\"14.00\">value = 0.125</text>\n",
       "</g>\n",
       "<!-- 2&#45;&gt;3 -->\n",
       "<g id=\"edge3\" class=\"edge\">\n",
       "<title>2&#45;&gt;3</title>\n",
       "<path fill=\"none\" stroke=\"black\" d=\"M188.12,-175.6C172.74,-166.27 155.89,-156.04 140,-146.39\"/>\n",
       "<polygon fill=\"black\" stroke=\"black\" points=\"141.92,-143.46 131.55,-141.26 138.28,-149.44 141.92,-143.46\"/>\n",
       "</g>\n",
       "<!-- 8 -->\n",
       "<g id=\"node7\" class=\"node\">\n",
       "<title>8</title>\n",
       "<path fill=\"#f9e0ce\" stroke=\"black\" d=\"M306.25,-140C306.25,-140 180,-140 180,-140 174,-140 168,-134 168,-128 168,-128 168,-84 168,-84 168,-78 174,-72 180,-72 180,-72 306.25,-72 306.25,-72 312.25,-72 318.25,-78 318.25,-84 318.25,-84 318.25,-128 318.25,-128 318.25,-134 312.25,-140 306.25,-140\"/>\n",
       "<text text-anchor=\"start\" x=\"207.12\" y=\"-122.7\" font-family=\"Helvetica,sans-Serif\" font-size=\"14.00\">natr ≤ 8.367</text>\n",
       "<text text-anchor=\"start\" x=\"176\" y=\"-107.7\" font-family=\"Helvetica,sans-Serif\" font-size=\"14.00\">squared_error = 0.008</text>\n",
       "<text text-anchor=\"start\" x=\"202.25\" y=\"-92.7\" font-family=\"Helvetica,sans-Serif\" font-size=\"14.00\">samples = 47</text>\n",
       "<text text-anchor=\"start\" x=\"200\" y=\"-77.7\" font-family=\"Helvetica,sans-Serif\" font-size=\"14.00\">value = &#45;0.006</text>\n",
       "</g>\n",
       "<!-- 2&#45;&gt;8 -->\n",
       "<g id=\"edge6\" class=\"edge\">\n",
       "<title>2&#45;&gt;8</title>\n",
       "<path fill=\"none\" stroke=\"black\" d=\"M243.12,-175.6C243.12,-168.03 243.12,-159.87 243.12,-151.9\"/>\n",
       "<polygon fill=\"black\" stroke=\"black\" points=\"246.63,-151.99 243.13,-141.99 239.63,-151.99 246.63,-151.99\"/>\n",
       "</g>\n",
       "<!-- 4 -->\n",
       "<g id=\"node5\" class=\"node\">\n",
       "<title>4</title>\n",
       "<path fill=\"#c0c0c0\" stroke=\"black\" d=\"M54.12,-36C54.12,-36 24.12,-36 24.12,-36 18.13,-36 12.12,-30 12.12,-24 12.12,-24 12.12,-12 12.12,-12 12.12,-6 18.12,0 24.12,0 24.12,0 54.12,0 54.12,0 60.12,0 66.12,-6 66.12,-12 66.12,-12 66.12,-24 66.12,-24 66.12,-30 60.12,-36 54.12,-36\"/>\n",
       "<text text-anchor=\"middle\" x=\"39.12\" y=\"-12.2\" font-family=\"Helvetica,sans-Serif\" font-size=\"14.00\">(...)</text>\n",
       "</g>\n",
       "<!-- 3&#45;&gt;4 -->\n",
       "<g id=\"edge4\" class=\"edge\">\n",
       "<title>3&#45;&gt;4</title>\n",
       "<path fill=\"none\" stroke=\"black\" d=\"M61.1,-71.5C57.67,-63.3 54.03,-54.61 50.72,-46.7\"/>\n",
       "<polygon fill=\"black\" stroke=\"black\" points=\"54,-45.47 46.91,-37.59 47.54,-48.17 54,-45.47\"/>\n",
       "</g>\n",
       "<!-- 7 -->\n",
       "<g id=\"node6\" class=\"node\">\n",
       "<title>7</title>\n",
       "<path fill=\"#c0c0c0\" stroke=\"black\" d=\"M126.12,-36C126.12,-36 96.12,-36 96.12,-36 90.12,-36 84.12,-30 84.12,-24 84.12,-24 84.12,-12 84.12,-12 84.12,-6 90.12,0 96.12,0 96.12,0 126.12,0 126.12,0 132.12,0 138.12,-6 138.12,-12 138.12,-12 138.12,-24 138.12,-24 138.12,-30 132.12,-36 126.12,-36\"/>\n",
       "<text text-anchor=\"middle\" x=\"111.12\" y=\"-12.2\" font-family=\"Helvetica,sans-Serif\" font-size=\"14.00\">(...)</text>\n",
       "</g>\n",
       "<!-- 3&#45;&gt;7 -->\n",
       "<g id=\"edge5\" class=\"edge\">\n",
       "<title>3&#45;&gt;7</title>\n",
       "<path fill=\"none\" stroke=\"black\" d=\"M89.15,-71.5C92.58,-63.3 96.22,-54.61 99.53,-46.7\"/>\n",
       "<polygon fill=\"black\" stroke=\"black\" points=\"102.71,-48.17 103.34,-37.59 96.25,-45.47 102.71,-48.17\"/>\n",
       "</g>\n",
       "<!-- 9 -->\n",
       "<g id=\"node8\" class=\"node\">\n",
       "<title>9</title>\n",
       "<path fill=\"#c0c0c0\" stroke=\"black\" d=\"M228.12,-36C228.12,-36 198.12,-36 198.12,-36 192.12,-36 186.12,-30 186.12,-24 186.12,-24 186.12,-12 186.12,-12 186.12,-6 192.12,0 198.12,0 198.12,0 228.12,0 228.12,0 234.12,0 240.12,-6 240.12,-12 240.12,-12 240.12,-24 240.12,-24 240.12,-30 234.12,-36 228.12,-36\"/>\n",
       "<text text-anchor=\"middle\" x=\"213.12\" y=\"-12.2\" font-family=\"Helvetica,sans-Serif\" font-size=\"14.00\">(...)</text>\n",
       "</g>\n",
       "<!-- 8&#45;&gt;9 -->\n",
       "<g id=\"edge7\" class=\"edge\">\n",
       "<title>8&#45;&gt;9</title>\n",
       "<path fill=\"none\" stroke=\"black\" d=\"M231.44,-71.5C228.61,-63.39 225.62,-54.8 222.88,-46.98\"/>\n",
       "<polygon fill=\"black\" stroke=\"black\" points=\"226.22,-45.91 219.62,-37.63 219.61,-48.22 226.22,-45.91\"/>\n",
       "</g>\n",
       "<!-- 12 -->\n",
       "<g id=\"node9\" class=\"node\">\n",
       "<title>12</title>\n",
       "<path fill=\"#c0c0c0\" stroke=\"black\" d=\"M300.12,-36C300.12,-36 270.12,-36 270.12,-36 264.12,-36 258.12,-30 258.12,-24 258.12,-24 258.12,-12 258.12,-12 258.12,-6 264.12,0 270.12,0 270.12,0 300.12,0 300.12,0 306.12,0 312.12,-6 312.12,-12 312.12,-12 312.12,-24 312.12,-24 312.12,-30 306.12,-36 300.12,-36\"/>\n",
       "<text text-anchor=\"middle\" x=\"285.12\" y=\"-12.2\" font-family=\"Helvetica,sans-Serif\" font-size=\"14.00\">(...)</text>\n",
       "</g>\n",
       "<!-- 8&#45;&gt;12 -->\n",
       "<g id=\"edge8\" class=\"edge\">\n",
       "<title>8&#45;&gt;12</title>\n",
       "<path fill=\"none\" stroke=\"black\" d=\"M259.48,-71.5C263.54,-63.2 267.83,-54.41 271.73,-46.43\"/>\n",
       "<polygon fill=\"black\" stroke=\"black\" points=\"274.82,-48.08 276.06,-37.56 268.53,-45.01 274.82,-48.08\"/>\n",
       "</g>\n",
       "<!-- 16 -->\n",
       "<g id=\"node11\" class=\"node\">\n",
       "<title>16</title>\n",
       "<path fill=\"#fdf3ed\" stroke=\"black\" d=\"M474.25,-140C474.25,-140 348,-140 348,-140 342,-140 336,-134 336,-128 336,-128 336,-84 336,-84 336,-78 342,-72 348,-72 348,-72 474.25,-72 474.25,-72 480.25,-72 486.25,-78 486.25,-84 486.25,-84 486.25,-128 486.25,-128 486.25,-134 480.25,-140 474.25,-140\"/>\n",
       "<text text-anchor=\"start\" x=\"362.75\" y=\"-122.7\" font-family=\"Helvetica,sans-Serif\" font-size=\"14.00\">bb_high ≤ 0.579</text>\n",
       "<text text-anchor=\"start\" x=\"344\" y=\"-107.7\" font-family=\"Helvetica,sans-Serif\" font-size=\"14.00\">squared_error = 0.013</text>\n",
       "<text text-anchor=\"start\" x=\"370.25\" y=\"-92.7\" font-family=\"Helvetica,sans-Serif\" font-size=\"14.00\">samples = 87</text>\n",
       "<text text-anchor=\"start\" x=\"368\" y=\"-77.7\" font-family=\"Helvetica,sans-Serif\" font-size=\"14.00\">value = &#45;0.138</text>\n",
       "</g>\n",
       "<!-- 15&#45;&gt;16 -->\n",
       "<g id=\"edge10\" class=\"edge\">\n",
       "<title>15&#45;&gt;16</title>\n",
       "<path fill=\"none\" stroke=\"black\" d=\"M467.62,-175.6C460.66,-167.15 453.09,-157.96 445.82,-149.13\"/>\n",
       "<polygon fill=\"black\" stroke=\"black\" points=\"448.71,-147.14 439.65,-141.64 443.31,-151.59 448.71,-147.14\"/>\n",
       "</g>\n",
       "<!-- 23 -->\n",
       "<g id=\"node14\" class=\"node\">\n",
       "<title>23</title>\n",
       "<path fill=\"#f9e2d1\" stroke=\"black\" d=\"M642.25,-140C642.25,-140 516,-140 516,-140 510,-140 504,-134 504,-128 504,-128 504,-84 504,-84 504,-78 510,-72 516,-72 516,-72 642.25,-72 642.25,-72 648.25,-72 654.25,-78 654.25,-84 654.25,-84 654.25,-128 654.25,-128 654.25,-134 648.25,-140 642.25,-140\"/>\n",
       "<text text-anchor=\"start\" x=\"521.38\" y=\"-122.7\" font-family=\"Helvetica,sans-Serif\" font-size=\"14.00\">return_6m ≤ &#45;0.089</text>\n",
       "<text text-anchor=\"start\" x=\"512\" y=\"-107.7\" font-family=\"Helvetica,sans-Serif\" font-size=\"14.00\">squared_error = 0.012</text>\n",
       "<text text-anchor=\"start\" x=\"534.5\" y=\"-92.7\" font-family=\"Helvetica,sans-Serif\" font-size=\"14.00\">samples = 437</text>\n",
       "<text text-anchor=\"start\" x=\"539.75\" y=\"-77.7\" font-family=\"Helvetica,sans-Serif\" font-size=\"14.00\">value = &#45;0.02</text>\n",
       "</g>\n",
       "<!-- 15&#45;&gt;23 -->\n",
       "<g id=\"edge13\" class=\"edge\">\n",
       "<title>15&#45;&gt;23</title>\n",
       "<path fill=\"none\" stroke=\"black\" d=\"M522.63,-175.6C529.59,-167.15 537.16,-157.96 544.43,-149.13\"/>\n",
       "<polygon fill=\"black\" stroke=\"black\" points=\"546.94,-151.59 550.6,-141.64 541.54,-147.14 546.94,-151.59\"/>\n",
       "</g>\n",
       "<!-- 17 -->\n",
       "<g id=\"node12\" class=\"node\">\n",
       "<title>17</title>\n",
       "<path fill=\"#c0c0c0\" stroke=\"black\" d=\"M392.12,-36C392.12,-36 362.12,-36 362.12,-36 356.12,-36 350.12,-30 350.12,-24 350.12,-24 350.12,-12 350.12,-12 350.12,-6 356.12,0 362.12,0 362.12,0 392.12,0 392.12,0 398.12,0 404.12,-6 404.12,-12 404.12,-12 404.12,-24 404.12,-24 404.12,-30 398.12,-36 392.12,-36\"/>\n",
       "<text text-anchor=\"middle\" x=\"377.12\" y=\"-12.2\" font-family=\"Helvetica,sans-Serif\" font-size=\"14.00\">(...)</text>\n",
       "</g>\n",
       "<!-- 16&#45;&gt;17 -->\n",
       "<g id=\"edge11\" class=\"edge\">\n",
       "<title>16&#45;&gt;17</title>\n",
       "<path fill=\"none\" stroke=\"black\" d=\"M397.88,-71.5C394.64,-63.3 391.2,-54.61 388.08,-46.7\"/>\n",
       "<polygon fill=\"black\" stroke=\"black\" points=\"391.41,-45.62 384.48,-37.6 384.9,-48.19 391.41,-45.62\"/>\n",
       "</g>\n",
       "<!-- 20 -->\n",
       "<g id=\"node13\" class=\"node\">\n",
       "<title>20</title>\n",
       "<path fill=\"#c0c0c0\" stroke=\"black\" d=\"M464.12,-36C464.12,-36 434.12,-36 434.12,-36 428.12,-36 422.12,-30 422.12,-24 422.12,-24 422.12,-12 422.12,-12 422.12,-6 428.12,0 434.12,0 434.12,0 464.12,0 464.12,0 470.12,0 476.12,-6 476.12,-12 476.12,-12 476.12,-24 476.12,-24 476.12,-30 470.12,-36 464.12,-36\"/>\n",
       "<text text-anchor=\"middle\" x=\"449.12\" y=\"-12.2\" font-family=\"Helvetica,sans-Serif\" font-size=\"14.00\">(...)</text>\n",
       "</g>\n",
       "<!-- 16&#45;&gt;20 -->\n",
       "<g id=\"edge12\" class=\"edge\">\n",
       "<title>16&#45;&gt;20</title>\n",
       "<path fill=\"none\" stroke=\"black\" d=\"M425.93,-71.5C429.55,-63.3 433.39,-54.61 436.88,-46.7\"/>\n",
       "<polygon fill=\"black\" stroke=\"black\" points=\"440.07,-48.14 440.91,-37.58 433.67,-45.31 440.07,-48.14\"/>\n",
       "</g>\n",
       "<!-- 24 -->\n",
       "<g id=\"node15\" class=\"node\">\n",
       "<title>24</title>\n",
       "<path fill=\"#c0c0c0\" stroke=\"black\" d=\"M551.12,-36C551.12,-36 521.12,-36 521.12,-36 515.12,-36 509.12,-30 509.12,-24 509.12,-24 509.12,-12 509.12,-12 509.12,-6 515.12,0 521.12,0 521.12,0 551.12,0 551.12,0 557.12,0 563.12,-6 563.12,-12 563.12,-12 563.12,-24 563.12,-24 563.12,-30 557.12,-36 551.12,-36\"/>\n",
       "<text text-anchor=\"middle\" x=\"536.12\" y=\"-12.2\" font-family=\"Helvetica,sans-Serif\" font-size=\"14.00\">(...)</text>\n",
       "</g>\n",
       "<!-- 23&#45;&gt;24 -->\n",
       "<g id=\"edge14\" class=\"edge\">\n",
       "<title>23&#45;&gt;24</title>\n",
       "<path fill=\"none\" stroke=\"black\" d=\"M562.38,-71.5C558.23,-63.2 553.83,-54.41 549.84,-46.43\"/>\n",
       "<polygon fill=\"black\" stroke=\"black\" points=\"553,-44.93 545.4,-37.55 546.74,-48.06 553,-44.93\"/>\n",
       "</g>\n",
       "<!-- 25 -->\n",
       "<g id=\"node16\" class=\"node\">\n",
       "<title>25</title>\n",
       "<path fill=\"#c0c0c0\" stroke=\"black\" d=\"M623.12,-36C623.12,-36 593.12,-36 593.12,-36 587.12,-36 581.12,-30 581.12,-24 581.12,-24 581.12,-12 581.12,-12 581.12,-6 587.12,0 593.12,0 593.12,0 623.12,0 623.12,0 629.12,0 635.12,-6 635.12,-12 635.12,-12 635.12,-24 635.12,-24 635.12,-30 629.12,-36 623.12,-36\"/>\n",
       "<text text-anchor=\"middle\" x=\"608.12\" y=\"-12.2\" font-family=\"Helvetica,sans-Serif\" font-size=\"14.00\">(...)</text>\n",
       "</g>\n",
       "<!-- 23&#45;&gt;25 -->\n",
       "<g id=\"edge15\" class=\"edge\">\n",
       "<title>23&#45;&gt;25</title>\n",
       "<path fill=\"none\" stroke=\"black\" d=\"M590.42,-71.5C593.16,-63.39 596.05,-54.8 598.69,-46.98\"/>\n",
       "<polygon fill=\"black\" stroke=\"black\" points=\"601.96,-48.23 601.84,-37.63 595.33,-45.99 601.96,-48.23\"/>\n",
       "</g>\n",
       "<!-- 29 -->\n",
       "<g id=\"node18\" class=\"node\">\n",
       "<title>29</title>\n",
       "<path fill=\"#f7d6bf\" stroke=\"black\" d=\"M894.25,-244C894.25,-244 768,-244 768,-244 762,-244 756,-238 756,-232 756,-232 756,-188 756,-188 756,-182 762,-176 768,-176 768,-176 894.25,-176 894.25,-176 900.25,-176 906.25,-182 906.25,-188 906.25,-188 906.25,-232 906.25,-232 906.25,-238 900.25,-244 894.25,-244\"/>\n",
       "<text text-anchor=\"start\" x=\"773.38\" y=\"-226.7\" font-family=\"Helvetica,sans-Serif\" font-size=\"14.00\">return_1m ≤ &#45;0.256</text>\n",
       "<text text-anchor=\"start\" x=\"764\" y=\"-211.7\" font-family=\"Helvetica,sans-Serif\" font-size=\"14.00\">squared_error = 0.024</text>\n",
       "<text text-anchor=\"start\" x=\"782.75\" y=\"-196.7\" font-family=\"Helvetica,sans-Serif\" font-size=\"14.00\">samples = 2788</text>\n",
       "<text text-anchor=\"start\" x=\"790.25\" y=\"-181.7\" font-family=\"Helvetica,sans-Serif\" font-size=\"14.00\">value = 0.058</text>\n",
       "</g>\n",
       "<!-- 28&#45;&gt;29 -->\n",
       "<g id=\"edge17\" class=\"edge\">\n",
       "<title>28&#45;&gt;29</title>\n",
       "<path fill=\"none\" stroke=\"black\" d=\"M831.12,-279.6C831.12,-272.03 831.12,-263.87 831.12,-255.9\"/>\n",
       "<polygon fill=\"black\" stroke=\"black\" points=\"834.63,-255.99 831.13,-245.99 827.63,-255.99 834.63,-255.99\"/>\n",
       "</g>\n",
       "<!-- 44 -->\n",
       "<g id=\"node25\" class=\"node\">\n",
       "<title>44</title>\n",
       "<path fill=\"#f2c2a0\" stroke=\"black\" d=\"M1146.25,-244C1146.25,-244 1020,-244 1020,-244 1014,-244 1008,-238 1008,-232 1008,-232 1008,-188 1008,-188 1008,-182 1014,-176 1020,-176 1020,-176 1146.25,-176 1146.25,-176 1152.25,-176 1158.25,-182 1158.25,-188 1158.25,-188 1158.25,-232 1158.25,-232 1158.25,-238 1152.25,-244 1146.25,-244\"/>\n",
       "<text text-anchor=\"start\" x=\"1034.75\" y=\"-226.7\" font-family=\"Helvetica,sans-Serif\" font-size=\"14.00\">bb_high ≤ 5.161</text>\n",
       "<text text-anchor=\"start\" x=\"1016\" y=\"-211.7\" font-family=\"Helvetica,sans-Serif\" font-size=\"14.00\">squared_error = 0.043</text>\n",
       "<text text-anchor=\"start\" x=\"1038.5\" y=\"-196.7\" font-family=\"Helvetica,sans-Serif\" font-size=\"14.00\">samples = 354</text>\n",
       "<text text-anchor=\"start\" x=\"1042.25\" y=\"-181.7\" font-family=\"Helvetica,sans-Serif\" font-size=\"14.00\">value = 0.192</text>\n",
       "</g>\n",
       "<!-- 28&#45;&gt;44 -->\n",
       "<g id=\"edge24\" class=\"edge\">\n",
       "<title>28&#45;&gt;44</title>\n",
       "<path fill=\"none\" stroke=\"black\" d=\"M906.73,-282.4C935.14,-270.9 967.64,-257.75 996.93,-245.89\"/>\n",
       "<polygon fill=\"black\" stroke=\"black\" points=\"998.21,-249.15 1006.17,-242.15 995.58,-242.66 998.21,-249.15\"/>\n",
       "</g>\n",
       "<!-- 30 -->\n",
       "<g id=\"node19\" class=\"node\">\n",
       "<title>30</title>\n",
       "<path fill=\"#f0b68d\" stroke=\"black\" d=\"M810.25,-140C810.25,-140 684,-140 684,-140 678,-140 672,-134 672,-128 672,-128 672,-84 672,-84 672,-78 678,-72 684,-72 684,-72 810.25,-72 810.25,-72 816.25,-72 822.25,-78 822.25,-84 822.25,-84 822.25,-128 822.25,-128 822.25,-134 816.25,-140 810.25,-140\"/>\n",
       "<text text-anchor=\"start\" x=\"711.12\" y=\"-122.7\" font-family=\"Helvetica,sans-Serif\" font-size=\"14.00\">month ≤ 3.5</text>\n",
       "<text text-anchor=\"start\" x=\"680\" y=\"-107.7\" font-family=\"Helvetica,sans-Serif\" font-size=\"14.00\">squared_error = 0.037</text>\n",
       "<text text-anchor=\"start\" x=\"706.25\" y=\"-92.7\" font-family=\"Helvetica,sans-Serif\" font-size=\"14.00\">samples = 62</text>\n",
       "<text text-anchor=\"start\" x=\"706.25\" y=\"-77.7\" font-family=\"Helvetica,sans-Serif\" font-size=\"14.00\">value = 0.273</text>\n",
       "</g>\n",
       "<!-- 29&#45;&gt;30 -->\n",
       "<g id=\"edge18\" class=\"edge\">\n",
       "<title>29&#45;&gt;30</title>\n",
       "<path fill=\"none\" stroke=\"black\" d=\"M803.62,-175.6C796.66,-167.15 789.09,-157.96 781.82,-149.13\"/>\n",
       "<polygon fill=\"black\" stroke=\"black\" points=\"784.71,-147.14 775.65,-141.64 779.31,-151.59 784.71,-147.14\"/>\n",
       "</g>\n",
       "<!-- 37 -->\n",
       "<g id=\"node22\" class=\"node\">\n",
       "<title>37</title>\n",
       "<path fill=\"#f7d7c0\" stroke=\"black\" d=\"M978.25,-140C978.25,-140 852,-140 852,-140 846,-140 840,-134 840,-128 840,-128 840,-84 840,-84 840,-78 846,-72 852,-72 852,-72 978.25,-72 978.25,-72 984.25,-72 990.25,-78 990.25,-84 990.25,-84 990.25,-128 990.25,-128 990.25,-134 984.25,-140 978.25,-140\"/>\n",
       "<text text-anchor=\"start\" x=\"869.38\" y=\"-122.7\" font-family=\"Helvetica,sans-Serif\" font-size=\"14.00\">bb_low ≤ 1.519</text>\n",
       "<text text-anchor=\"start\" x=\"848\" y=\"-107.7\" font-family=\"Helvetica,sans-Serif\" font-size=\"14.00\">squared_error = 0.023</text>\n",
       "<text text-anchor=\"start\" x=\"866.75\" y=\"-92.7\" font-family=\"Helvetica,sans-Serif\" font-size=\"14.00\">samples = 2726</text>\n",
       "<text text-anchor=\"start\" x=\"874.25\" y=\"-77.7\" font-family=\"Helvetica,sans-Serif\" font-size=\"14.00\">value = 0.053</text>\n",
       "</g>\n",
       "<!-- 29&#45;&gt;37 -->\n",
       "<g id=\"edge21\" class=\"edge\">\n",
       "<title>29&#45;&gt;37</title>\n",
       "<path fill=\"none\" stroke=\"black\" d=\"M858.63,-175.6C865.59,-167.15 873.16,-157.96 880.43,-149.13\"/>\n",
       "<polygon fill=\"black\" stroke=\"black\" points=\"882.94,-151.59 886.6,-141.64 877.54,-147.14 882.94,-151.59\"/>\n",
       "</g>\n",
       "<!-- 31 -->\n",
       "<g id=\"node20\" class=\"node\">\n",
       "<title>31</title>\n",
       "<path fill=\"#c0c0c0\" stroke=\"black\" d=\"M702.12,-36C702.12,-36 672.12,-36 672.12,-36 666.12,-36 660.12,-30 660.12,-24 660.12,-24 660.12,-12 660.12,-12 660.12,-6 666.12,0 672.12,0 672.12,0 702.12,0 702.12,0 708.12,0 714.12,-6 714.12,-12 714.12,-12 714.12,-24 714.12,-24 714.12,-30 708.12,-36 702.12,-36\"/>\n",
       "<text text-anchor=\"middle\" x=\"687.12\" y=\"-12.2\" font-family=\"Helvetica,sans-Serif\" font-size=\"14.00\">(...)</text>\n",
       "</g>\n",
       "<!-- 30&#45;&gt;31 -->\n",
       "<g id=\"edge19\" class=\"edge\">\n",
       "<title>30&#45;&gt;31</title>\n",
       "<path fill=\"none\" stroke=\"black\" d=\"M723.76,-71.5C717.77,-62.92 711.41,-53.8 705.7,-45.62\"/>\n",
       "<polygon fill=\"black\" stroke=\"black\" points=\"708.58,-43.64 699.99,-37.44 702.84,-47.64 708.58,-43.64\"/>\n",
       "</g>\n",
       "<!-- 34 -->\n",
       "<g id=\"node21\" class=\"node\">\n",
       "<title>34</title>\n",
       "<path fill=\"#c0c0c0\" stroke=\"black\" d=\"M774.12,-36C774.12,-36 744.12,-36 744.12,-36 738.12,-36 732.12,-30 732.12,-24 732.12,-24 732.12,-12 732.12,-12 732.12,-6 738.12,0 744.12,0 744.12,0 774.12,0 774.12,0 780.12,0 786.12,-6 786.12,-12 786.12,-12 786.12,-24 786.12,-24 786.12,-30 780.12,-36 774.12,-36\"/>\n",
       "<text text-anchor=\"middle\" x=\"759.12\" y=\"-12.2\" font-family=\"Helvetica,sans-Serif\" font-size=\"14.00\">(...)</text>\n",
       "</g>\n",
       "<!-- 30&#45;&gt;34 -->\n",
       "<g id=\"edge20\" class=\"edge\">\n",
       "<title>30&#45;&gt;34</title>\n",
       "<path fill=\"none\" stroke=\"black\" d=\"M751.8,-71.5C752.9,-63.58 754.07,-55.2 755.14,-47.52\"/>\n",
       "<polygon fill=\"black\" stroke=\"black\" points=\"758.6,-48.08 756.52,-37.7 751.67,-47.12 758.6,-48.08\"/>\n",
       "</g>\n",
       "<!-- 38 -->\n",
       "<g id=\"node23\" class=\"node\">\n",
       "<title>38</title>\n",
       "<path fill=\"#c0c0c0\" stroke=\"black\" d=\"M870.12,-36C870.12,-36 840.12,-36 840.12,-36 834.12,-36 828.12,-30 828.12,-24 828.12,-24 828.12,-12 828.12,-12 828.12,-6 834.12,0 840.12,0 840.12,0 870.12,0 870.12,0 876.12,0 882.12,-6 882.12,-12 882.12,-12 882.12,-24 882.12,-24 882.12,-30 876.12,-36 870.12,-36\"/>\n",
       "<text text-anchor=\"middle\" x=\"855.12\" y=\"-12.2\" font-family=\"Helvetica,sans-Serif\" font-size=\"14.00\">(...)</text>\n",
       "</g>\n",
       "<!-- 37&#45;&gt;38 -->\n",
       "<g id=\"edge22\" class=\"edge\">\n",
       "<title>37&#45;&gt;38</title>\n",
       "<path fill=\"none\" stroke=\"black\" d=\"M891.76,-71.5C885.77,-62.92 879.41,-53.8 873.7,-45.62\"/>\n",
       "<polygon fill=\"black\" stroke=\"black\" points=\"876.58,-43.64 867.99,-37.44 870.84,-47.64 876.58,-43.64\"/>\n",
       "</g>\n",
       "<!-- 41 -->\n",
       "<g id=\"node24\" class=\"node\">\n",
       "<title>41</title>\n",
       "<path fill=\"#c0c0c0\" stroke=\"black\" d=\"M942.12,-36C942.12,-36 912.12,-36 912.12,-36 906.12,-36 900.12,-30 900.12,-24 900.12,-24 900.12,-12 900.12,-12 900.12,-6 906.12,0 912.12,0 912.12,0 942.12,0 942.12,0 948.12,0 954.12,-6 954.12,-12 954.12,-12 954.12,-24 954.12,-24 954.12,-30 948.12,-36 942.12,-36\"/>\n",
       "<text text-anchor=\"middle\" x=\"927.12\" y=\"-12.2\" font-family=\"Helvetica,sans-Serif\" font-size=\"14.00\">(...)</text>\n",
       "</g>\n",
       "<!-- 37&#45;&gt;41 -->\n",
       "<g id=\"edge23\" class=\"edge\">\n",
       "<title>37&#45;&gt;41</title>\n",
       "<path fill=\"none\" stroke=\"black\" d=\"M919.8,-71.5C920.9,-63.58 922.07,-55.2 923.14,-47.52\"/>\n",
       "<polygon fill=\"black\" stroke=\"black\" points=\"926.6,-48.08 924.52,-37.7 919.67,-47.12 926.6,-48.08\"/>\n",
       "</g>\n",
       "<!-- 45 -->\n",
       "<g id=\"node26\" class=\"node\">\n",
       "<title>45</title>\n",
       "<path fill=\"#f3c7a7\" stroke=\"black\" d=\"M1146.25,-140C1146.25,-140 1020,-140 1020,-140 1014,-140 1008,-134 1008,-128 1008,-128 1008,-84 1008,-84 1008,-78 1014,-72 1020,-72 1020,-72 1146.25,-72 1146.25,-72 1152.25,-72 1158.25,-78 1158.25,-84 1158.25,-84 1158.25,-128 1158.25,-128 1158.25,-134 1152.25,-140 1146.25,-140\"/>\n",
       "<text text-anchor=\"start\" x=\"1047.12\" y=\"-122.7\" font-family=\"Helvetica,sans-Serif\" font-size=\"14.00\">month ≤ 7.5</text>\n",
       "<text text-anchor=\"start\" x=\"1016\" y=\"-107.7\" font-family=\"Helvetica,sans-Serif\" font-size=\"14.00\">squared_error = 0.038</text>\n",
       "<text text-anchor=\"start\" x=\"1038.5\" y=\"-92.7\" font-family=\"Helvetica,sans-Serif\" font-size=\"14.00\">samples = 270</text>\n",
       "<text text-anchor=\"start\" x=\"1042.25\" y=\"-77.7\" font-family=\"Helvetica,sans-Serif\" font-size=\"14.00\">value = 0.159</text>\n",
       "</g>\n",
       "<!-- 44&#45;&gt;45 -->\n",
       "<g id=\"edge25\" class=\"edge\">\n",
       "<title>44&#45;&gt;45</title>\n",
       "<path fill=\"none\" stroke=\"black\" d=\"M1083.12,-175.6C1083.12,-168.03 1083.12,-159.87 1083.12,-151.9\"/>\n",
       "<polygon fill=\"black\" stroke=\"black\" points=\"1086.63,-151.99 1083.13,-141.99 1079.63,-151.99 1086.63,-151.99\"/>\n",
       "</g>\n",
       "<!-- 52 -->\n",
       "<g id=\"node29\" class=\"node\">\n",
       "<title>52</title>\n",
       "<path fill=\"#efb387\" stroke=\"black\" d=\"M1321.62,-140C1321.62,-140 1188.62,-140 1188.62,-140 1182.62,-140 1176.62,-134 1176.62,-128 1176.62,-128 1176.62,-84 1176.62,-84 1176.62,-78 1182.62,-72 1188.62,-72 1188.62,-72 1321.62,-72 1321.62,-72 1327.62,-72 1333.62,-78 1333.62,-84 1333.62,-84 1333.62,-128 1333.62,-128 1333.62,-134 1327.62,-140 1321.62,-140\"/>\n",
       "<text text-anchor=\"start\" x=\"1184.62\" y=\"-122.7\" font-family=\"Helvetica,sans-Serif\" font-size=\"14.00\">momentum_12 ≤ 0.074</text>\n",
       "<text text-anchor=\"start\" x=\"1188\" y=\"-107.7\" font-family=\"Helvetica,sans-Serif\" font-size=\"14.00\">squared_error = 0.045</text>\n",
       "<text text-anchor=\"start\" x=\"1214.25\" y=\"-92.7\" font-family=\"Helvetica,sans-Serif\" font-size=\"14.00\">samples = 84</text>\n",
       "<text text-anchor=\"start\" x=\"1214.25\" y=\"-77.7\" font-family=\"Helvetica,sans-Serif\" font-size=\"14.00\">value = 0.298</text>\n",
       "</g>\n",
       "<!-- 44&#45;&gt;52 -->\n",
       "<g id=\"edge28\" class=\"edge\">\n",
       "<title>44&#45;&gt;52</title>\n",
       "<path fill=\"none\" stroke=\"black\" d=\"M1139.44,-175.6C1155.33,-166.18 1172.76,-155.84 1189.16,-146.12\"/>\n",
       "<polygon fill=\"black\" stroke=\"black\" points=\"1190.56,-149.36 1197.38,-141.25 1186.99,-143.34 1190.56,-149.36\"/>\n",
       "</g>\n",
       "<!-- 46 -->\n",
       "<g id=\"node27\" class=\"node\">\n",
       "<title>46</title>\n",
       "<path fill=\"#c0c0c0\" stroke=\"black\" d=\"M1058.12,-36C1058.12,-36 1028.12,-36 1028.12,-36 1022.12,-36 1016.12,-30 1016.12,-24 1016.12,-24 1016.12,-12 1016.12,-12 1016.12,-6 1022.12,0 1028.12,0 1028.12,0 1058.12,0 1058.12,0 1064.12,0 1070.12,-6 1070.12,-12 1070.12,-12 1070.12,-24 1070.12,-24 1070.12,-30 1064.12,-36 1058.12,-36\"/>\n",
       "<text text-anchor=\"middle\" x=\"1043.12\" y=\"-12.2\" font-family=\"Helvetica,sans-Serif\" font-size=\"14.00\">(...)</text>\n",
       "</g>\n",
       "<!-- 45&#45;&gt;46 -->\n",
       "<g id=\"edge26\" class=\"edge\">\n",
       "<title>45&#45;&gt;46</title>\n",
       "<path fill=\"none\" stroke=\"black\" d=\"M1067.55,-71.5C1063.68,-63.2 1059.59,-54.41 1055.88,-46.43\"/>\n",
       "<polygon fill=\"black\" stroke=\"black\" points=\"1059.15,-45.16 1051.76,-37.57 1052.81,-48.11 1059.15,-45.16\"/>\n",
       "</g>\n",
       "<!-- 49 -->\n",
       "<g id=\"node28\" class=\"node\">\n",
       "<title>49</title>\n",
       "<path fill=\"#c0c0c0\" stroke=\"black\" d=\"M1130.12,-36C1130.12,-36 1100.12,-36 1100.12,-36 1094.12,-36 1088.12,-30 1088.12,-24 1088.12,-24 1088.12,-12 1088.12,-12 1088.12,-6 1094.12,0 1100.12,0 1100.12,0 1130.12,0 1130.12,0 1136.12,0 1142.12,-6 1142.12,-12 1142.12,-12 1142.12,-24 1142.12,-24 1142.12,-30 1136.12,-36 1130.12,-36\"/>\n",
       "<text text-anchor=\"middle\" x=\"1115.12\" y=\"-12.2\" font-family=\"Helvetica,sans-Serif\" font-size=\"14.00\">(...)</text>\n",
       "</g>\n",
       "<!-- 45&#45;&gt;49 -->\n",
       "<g id=\"edge27\" class=\"edge\">\n",
       "<title>45&#45;&gt;49</title>\n",
       "<path fill=\"none\" stroke=\"black\" d=\"M1095.59,-71.5C1098.61,-63.39 1101.8,-54.8 1104.71,-46.98\"/>\n",
       "<polygon fill=\"black\" stroke=\"black\" points=\"1107.99,-48.21 1108.2,-37.62 1101.43,-45.77 1107.99,-48.21\"/>\n",
       "</g>\n",
       "<!-- 53 -->\n",
       "<g id=\"node30\" class=\"node\">\n",
       "<title>53</title>\n",
       "<path fill=\"#c0c0c0\" stroke=\"black\" d=\"M1234.12,-36C1234.12,-36 1204.12,-36 1204.12,-36 1198.12,-36 1192.12,-30 1192.12,-24 1192.12,-24 1192.12,-12 1192.12,-12 1192.12,-6 1198.12,0 1204.12,0 1204.12,0 1234.12,0 1234.12,0 1240.12,0 1246.12,-6 1246.12,-12 1246.12,-12 1246.12,-24 1246.12,-24 1246.12,-30 1240.12,-36 1234.12,-36\"/>\n",
       "<text text-anchor=\"middle\" x=\"1219.12\" y=\"-12.2\" font-family=\"Helvetica,sans-Serif\" font-size=\"14.00\">(...)</text>\n",
       "</g>\n",
       "<!-- 52&#45;&gt;53 -->\n",
       "<g id=\"edge29\" class=\"edge\">\n",
       "<title>52&#45;&gt;53</title>\n",
       "<path fill=\"none\" stroke=\"black\" d=\"M1241.1,-71.5C1237.67,-63.3 1234.03,-54.61 1230.72,-46.7\"/>\n",
       "<polygon fill=\"black\" stroke=\"black\" points=\"1234,-45.47 1226.91,-37.59 1227.54,-48.17 1234,-45.47\"/>\n",
       "</g>\n",
       "<!-- 56 -->\n",
       "<g id=\"node31\" class=\"node\">\n",
       "<title>56</title>\n",
       "<path fill=\"#c0c0c0\" stroke=\"black\" d=\"M1306.12,-36C1306.12,-36 1276.12,-36 1276.12,-36 1270.12,-36 1264.12,-30 1264.12,-24 1264.12,-24 1264.12,-12 1264.12,-12 1264.12,-6 1270.12,0 1276.12,0 1276.12,0 1306.12,0 1306.12,0 1312.12,0 1318.12,-6 1318.12,-12 1318.12,-12 1318.12,-24 1318.12,-24 1318.12,-30 1312.12,-36 1306.12,-36\"/>\n",
       "<text text-anchor=\"middle\" x=\"1291.12\" y=\"-12.2\" font-family=\"Helvetica,sans-Serif\" font-size=\"14.00\">(...)</text>\n",
       "</g>\n",
       "<!-- 52&#45;&gt;56 -->\n",
       "<g id=\"edge30\" class=\"edge\">\n",
       "<title>52&#45;&gt;56</title>\n",
       "<path fill=\"none\" stroke=\"black\" d=\"M1269.15,-71.5C1272.58,-63.3 1276.22,-54.61 1279.53,-46.7\"/>\n",
       "<polygon fill=\"black\" stroke=\"black\" points=\"1282.71,-48.17 1283.34,-37.59 1276.25,-45.47 1282.71,-48.17\"/>\n",
       "</g>\n",
       "</g>\n",
       "</svg>\n"
      ],
      "text/plain": [
       "<graphviz.sources.Source at 0x1683bb160>"
      ]
     },
     "execution_count": 374,
     "metadata": {},
     "output_type": "execute_result"
    }
   ],
   "source": [
    "out_file = results_path / 'reg_tree.dot'\n",
    "dot_data = export_graphviz(regression_tree,\n",
    "                           out_file=out_file.as_posix(),\n",
    "                           feature_names=X_train.columns,\n",
    "                           max_depth=3,\n",
    "                           filled=True,\n",
    "                           rounded=True,\n",
    "                           special_characters=True)\n",
    "if out_file is not None:\n",
    "    dot_data = Path(out_file).read_text()\n",
    "\n",
    "graphviz.Source(dot_data)"
   ]
  },
  {
   "cell_type": "markdown",
   "metadata": {},
   "source": [
    "### Evaluate Test Set"
   ]
  },
  {
   "cell_type": "code",
   "execution_count": 375,
   "metadata": {
    "ExecuteTime": {
     "end_time": "2021-04-16T00:33:35.355228Z",
     "start_time": "2021-04-16T00:33:35.333642Z"
    }
   },
   "outputs": [],
   "source": [
    "y_pred = regression_tree.predict(X_test)"
   ]
  },
  {
   "cell_type": "code",
   "execution_count": 376,
   "metadata": {
    "ExecuteTime": {
     "end_time": "2021-04-16T00:33:35.363324Z",
     "start_time": "2021-04-16T00:33:35.358601Z"
    }
   },
   "outputs": [
    {
     "data": {
      "text/plain": [
       "0.1499375834172927"
      ]
     },
     "execution_count": 376,
     "metadata": {},
     "output_type": "execute_result"
    }
   ],
   "source": [
    "np.sqrt(mean_squared_error(y_pred=y_pred, y_true=y_test))"
   ]
  },
  {
   "cell_type": "code",
   "execution_count": 377,
   "metadata": {
    "ExecuteTime": {
     "end_time": "2021-04-16T00:33:35.379470Z",
     "start_time": "2021-04-16T00:33:35.365615Z"
    }
   },
   "outputs": [
    {
     "name": "stdout",
     "output_type": "stream",
     "text": [
      "43.11 (p-value=0.00%)\n"
     ]
    }
   ],
   "source": [
    "r, p = spearmanr(y_pred, y_test)\n",
    "print(f'{r*100:.2f} (p-value={p:.2%})')"
   ]
  },
  {
   "cell_type": "markdown",
   "metadata": {},
   "source": [
    "## Classification Tree with all Features"
   ]
  },
  {
   "cell_type": "markdown",
   "metadata": {},
   "source": [
    "We will now train, visualize, and evaluate a classification tree with up to 5 consecutive splits using 80% of the samples for training to predict the remaining 20%. We are taking a shortcut here to simplify the illustration and use the built-in train_test_split, which does not protect against lookahead bias, as our custom iterator. The tree configuration implies up to $2^5=32$ leaf nodes that, on average in the balanced case, would contain over 4,300 of the training samples."
   ]
  },
  {
   "cell_type": "markdown",
   "metadata": {},
   "source": [
    "### Train-Test Split"
   ]
  },
  {
   "cell_type": "code",
   "execution_count": 378,
   "metadata": {
    "ExecuteTime": {
     "end_time": "2021-04-16T00:33:35.391198Z",
     "start_time": "2021-04-16T00:33:35.380409Z"
    },
    "scrolled": true
   },
   "outputs": [
    {
     "data": {
      "text/plain": [
       "target\n",
       "1    2697\n",
       "0    2014\n",
       "Name: count, dtype: int64"
      ]
     },
     "execution_count": 378,
     "metadata": {},
     "output_type": "execute_result"
    }
   ],
   "source": [
    "y_binary = (y>0).astype(int)\n",
    "y_binary.value_counts()"
   ]
  },
  {
   "cell_type": "code",
   "execution_count": 379,
   "metadata": {
    "ExecuteTime": {
     "end_time": "2021-04-16T00:33:35.421858Z",
     "start_time": "2021-04-16T00:33:35.392557Z"
    }
   },
   "outputs": [],
   "source": [
    "X_train, X_test, y_train, y_test = train_test_split(X, y_binary, test_size=0.2, random_state=42)"
   ]
  },
  {
   "cell_type": "code",
   "execution_count": 380,
   "metadata": {
    "ExecuteTime": {
     "end_time": "2021-04-16T00:33:35.425897Z",
     "start_time": "2021-04-16T00:33:35.423388Z"
    }
   },
   "outputs": [],
   "source": [
    "clf = DecisionTreeClassifier(criterion='gini',\n",
    "                             max_depth=5,\n",
    "                             random_state=42)"
   ]
  },
  {
   "cell_type": "code",
   "execution_count": 381,
   "metadata": {
    "ExecuteTime": {
     "end_time": "2021-04-16T00:33:36.216311Z",
     "start_time": "2021-04-16T00:33:35.427617Z"
    }
   },
   "outputs": [
    {
     "data": {
      "text/html": [
       "<style>#sk-container-id-32 {color: black;}#sk-container-id-32 pre{padding: 0;}#sk-container-id-32 div.sk-toggleable {background-color: white;}#sk-container-id-32 label.sk-toggleable__label {cursor: pointer;display: block;width: 100%;margin-bottom: 0;padding: 0.3em;box-sizing: border-box;text-align: center;}#sk-container-id-32 label.sk-toggleable__label-arrow:before {content: \"▸\";float: left;margin-right: 0.25em;color: #696969;}#sk-container-id-32 label.sk-toggleable__label-arrow:hover:before {color: black;}#sk-container-id-32 div.sk-estimator:hover label.sk-toggleable__label-arrow:before {color: black;}#sk-container-id-32 div.sk-toggleable__content {max-height: 0;max-width: 0;overflow: hidden;text-align: left;background-color: #f0f8ff;}#sk-container-id-32 div.sk-toggleable__content pre {margin: 0.2em;color: black;border-radius: 0.25em;background-color: #f0f8ff;}#sk-container-id-32 input.sk-toggleable__control:checked~div.sk-toggleable__content {max-height: 200px;max-width: 100%;overflow: auto;}#sk-container-id-32 input.sk-toggleable__control:checked~label.sk-toggleable__label-arrow:before {content: \"▾\";}#sk-container-id-32 div.sk-estimator input.sk-toggleable__control:checked~label.sk-toggleable__label {background-color: #d4ebff;}#sk-container-id-32 div.sk-label input.sk-toggleable__control:checked~label.sk-toggleable__label {background-color: #d4ebff;}#sk-container-id-32 input.sk-hidden--visually {border: 0;clip: rect(1px 1px 1px 1px);clip: rect(1px, 1px, 1px, 1px);height: 1px;margin: -1px;overflow: hidden;padding: 0;position: absolute;width: 1px;}#sk-container-id-32 div.sk-estimator {font-family: monospace;background-color: #f0f8ff;border: 1px dotted black;border-radius: 0.25em;box-sizing: border-box;margin-bottom: 0.5em;}#sk-container-id-32 div.sk-estimator:hover {background-color: #d4ebff;}#sk-container-id-32 div.sk-parallel-item::after {content: \"\";width: 100%;border-bottom: 1px solid gray;flex-grow: 1;}#sk-container-id-32 div.sk-label:hover label.sk-toggleable__label {background-color: #d4ebff;}#sk-container-id-32 div.sk-serial::before {content: \"\";position: absolute;border-left: 1px solid gray;box-sizing: border-box;top: 0;bottom: 0;left: 50%;z-index: 0;}#sk-container-id-32 div.sk-serial {display: flex;flex-direction: column;align-items: center;background-color: white;padding-right: 0.2em;padding-left: 0.2em;position: relative;}#sk-container-id-32 div.sk-item {position: relative;z-index: 1;}#sk-container-id-32 div.sk-parallel {display: flex;align-items: stretch;justify-content: center;background-color: white;position: relative;}#sk-container-id-32 div.sk-item::before, #sk-container-id-32 div.sk-parallel-item::before {content: \"\";position: absolute;border-left: 1px solid gray;box-sizing: border-box;top: 0;bottom: 0;left: 50%;z-index: -1;}#sk-container-id-32 div.sk-parallel-item {display: flex;flex-direction: column;z-index: 1;position: relative;background-color: white;}#sk-container-id-32 div.sk-parallel-item:first-child::after {align-self: flex-end;width: 50%;}#sk-container-id-32 div.sk-parallel-item:last-child::after {align-self: flex-start;width: 50%;}#sk-container-id-32 div.sk-parallel-item:only-child::after {width: 0;}#sk-container-id-32 div.sk-dashed-wrapped {border: 1px dashed gray;margin: 0 0.4em 0.5em 0.4em;box-sizing: border-box;padding-bottom: 0.4em;background-color: white;}#sk-container-id-32 div.sk-label label {font-family: monospace;font-weight: bold;display: inline-block;line-height: 1.2em;}#sk-container-id-32 div.sk-label-container {text-align: center;}#sk-container-id-32 div.sk-container {/* jupyter's `normalize.less` sets `[hidden] { display: none; }` but bootstrap.min.css set `[hidden] { display: none !important; }` so we also need the `!important` here to be able to override the default hidden behavior on the sphinx rendered scikit-learn.org. See: https://github.com/scikit-learn/scikit-learn/issues/21755 */display: inline-block !important;position: relative;}#sk-container-id-32 div.sk-text-repr-fallback {display: none;}</style><div id=\"sk-container-id-32\" class=\"sk-top-container\"><div class=\"sk-text-repr-fallback\"><pre>DecisionTreeClassifier(max_depth=5, random_state=42)</pre><b>In a Jupyter environment, please rerun this cell to show the HTML representation or trust the notebook. <br />On GitHub, the HTML representation is unable to render, please try loading this page with nbviewer.org.</b></div><div class=\"sk-container\" hidden><div class=\"sk-item\"><div class=\"sk-estimator sk-toggleable\"><input class=\"sk-toggleable__control sk-hidden--visually\" id=\"sk-estimator-id-36\" type=\"checkbox\" checked><label for=\"sk-estimator-id-36\" class=\"sk-toggleable__label sk-toggleable__label-arrow\">DecisionTreeClassifier</label><div class=\"sk-toggleable__content\"><pre>DecisionTreeClassifier(max_depth=5, random_state=42)</pre></div></div></div></div></div>"
      ],
      "text/plain": [
       "DecisionTreeClassifier(max_depth=5, random_state=42)"
      ]
     },
     "execution_count": 381,
     "metadata": {},
     "output_type": "execute_result"
    }
   ],
   "source": [
    "clf.fit(X=X_train, y=y_train)"
   ]
  },
  {
   "cell_type": "markdown",
   "metadata": {},
   "source": [
    "### Plot Tree"
   ]
  },
  {
   "cell_type": "code",
   "execution_count": 382,
   "metadata": {
    "ExecuteTime": {
     "end_time": "2021-04-16T00:33:36.260644Z",
     "start_time": "2021-04-16T00:33:36.219967Z"
    },
    "scrolled": false
   },
   "outputs": [
    {
     "data": {
      "image/svg+xml": [
       "<?xml version=\"1.0\" encoding=\"UTF-8\" standalone=\"no\"?>\n",
       "<!DOCTYPE svg PUBLIC \"-//W3C//DTD SVG 1.1//EN\"\n",
       " \"http://www.w3.org/Graphics/SVG/1.1/DTD/svg11.dtd\">\n",
       "<!-- Generated by graphviz version 11.0.0 (0)\n",
       " -->\n",
       "<!-- Title: Tree Pages: 1 -->\n",
       "<svg width=\"1232pt\" height=\"520pt\"\n",
       " viewBox=\"0.00 0.00 1231.88 520.00\" xmlns=\"http://www.w3.org/2000/svg\" xmlns:xlink=\"http://www.w3.org/1999/xlink\">\n",
       "<g id=\"graph0\" class=\"graph\" transform=\"scale(1 1) rotate(0) translate(4 516)\">\n",
       "<title>Tree</title>\n",
       "<polygon fill=\"white\" stroke=\"none\" points=\"-4,4 -4,-516 1227.88,-516 1227.88,4 -4,4\"/>\n",
       "<!-- 0 -->\n",
       "<g id=\"node1\" class=\"node\">\n",
       "<title>0</title>\n",
       "<path fill=\"#cce6f8\" stroke=\"black\" d=\"M703.38,-512C703.38,-512 588.38,-512 588.38,-512 582.38,-512 576.38,-506 576.38,-500 576.38,-500 576.38,-441 576.38,-441 576.38,-435 582.38,-429 588.38,-429 588.38,-429 703.38,-429 703.38,-429 709.38,-429 715.38,-435 715.38,-441 715.38,-441 715.38,-500 715.38,-500 715.38,-506 709.38,-512 703.38,-512\"/>\n",
       "<text text-anchor=\"start\" x=\"609.88\" y=\"-494.7\" font-family=\"Helvetica,sans-Serif\" font-size=\"14.00\">month ≤ 2.5</text>\n",
       "<text text-anchor=\"start\" x=\"610.62\" y=\"-479.7\" font-family=\"Helvetica,sans-Serif\" font-size=\"14.00\">gini = 0.489</text>\n",
       "<text text-anchor=\"start\" x=\"597.5\" y=\"-464.7\" font-family=\"Helvetica,sans-Serif\" font-size=\"14.00\">samples = 3768</text>\n",
       "<text text-anchor=\"start\" x=\"584.38\" y=\"-449.7\" font-family=\"Helvetica,sans-Serif\" font-size=\"14.00\">value = [1607, 2161]</text>\n",
       "<text text-anchor=\"start\" x=\"614\" y=\"-434.7\" font-family=\"Helvetica,sans-Serif\" font-size=\"14.00\">class = Up</text>\n",
       "</g>\n",
       "<!-- 1 -->\n",
       "<g id=\"node2\" class=\"node\">\n",
       "<title>1</title>\n",
       "<path fill=\"#f3c7a7\" stroke=\"black\" d=\"M532.88,-393C532.88,-393 432.88,-393 432.88,-393 426.88,-393 420.88,-387 420.88,-381 420.88,-381 420.88,-322 420.88,-322 420.88,-316 426.88,-310 432.88,-310 432.88,-310 532.88,-310 532.88,-310 538.88,-310 544.88,-316 544.88,-322 544.88,-322 544.88,-381 544.88,-381 544.88,-387 538.88,-393 532.88,-393\"/>\n",
       "<text text-anchor=\"start\" x=\"441.62\" y=\"-375.7\" font-family=\"Helvetica,sans-Serif\" font-size=\"14.00\">year ≤ 2017.5</text>\n",
       "<text text-anchor=\"start\" x=\"451.38\" y=\"-360.7\" font-family=\"Helvetica,sans-Serif\" font-size=\"14.00\">gini = 0.46</text>\n",
       "<text text-anchor=\"start\" x=\"438.25\" y=\"-345.7\" font-family=\"Helvetica,sans-Serif\" font-size=\"14.00\">samples = 626</text>\n",
       "<text text-anchor=\"start\" x=\"428.88\" y=\"-330.7\" font-family=\"Helvetica,sans-Serif\" font-size=\"14.00\">value = [402, 224]</text>\n",
       "<text text-anchor=\"start\" x=\"442.38\" y=\"-315.7\" font-family=\"Helvetica,sans-Serif\" font-size=\"14.00\">class = Down</text>\n",
       "</g>\n",
       "<!-- 0&#45;&gt;1 -->\n",
       "<g id=\"edge1\" class=\"edge\">\n",
       "<title>0&#45;&gt;1</title>\n",
       "<path fill=\"none\" stroke=\"black\" d=\"M588.87,-428.58C575.96,-419.32 562.15,-409.41 548.91,-399.9\"/>\n",
       "<polygon fill=\"black\" stroke=\"black\" points=\"551.25,-397.27 541.08,-394.28 547.16,-402.96 551.25,-397.27\"/>\n",
       "<text text-anchor=\"middle\" x=\"543.91\" y=\"-412.27\" font-family=\"Helvetica,sans-Serif\" font-size=\"14.00\">True</text>\n",
       "</g>\n",
       "<!-- 30 -->\n",
       "<g id=\"node17\" class=\"node\">\n",
       "<title>30</title>\n",
       "<path fill=\"#b4daf5\" stroke=\"black\" d=\"M850.75,-393C850.75,-393 717,-393 717,-393 711,-393 705,-387 705,-381 705,-381 705,-322 705,-322 705,-316 711,-310 717,-310 717,-310 850.75,-310 850.75,-310 856.75,-310 862.75,-316 862.75,-322 862.75,-322 862.75,-381 862.75,-381 862.75,-387 856.75,-393 850.75,-393\"/>\n",
       "<text text-anchor=\"start\" x=\"713\" y=\"-375.7\" font-family=\"Helvetica,sans-Serif\" font-size=\"14.00\">money_volume ≤ 0.004</text>\n",
       "<text text-anchor=\"start\" x=\"748.62\" y=\"-360.7\" font-family=\"Helvetica,sans-Serif\" font-size=\"14.00\">gini = 0.473</text>\n",
       "<text text-anchor=\"start\" x=\"735.5\" y=\"-345.7\" font-family=\"Helvetica,sans-Serif\" font-size=\"14.00\">samples = 3142</text>\n",
       "<text text-anchor=\"start\" x=\"722.38\" y=\"-330.7\" font-family=\"Helvetica,sans-Serif\" font-size=\"14.00\">value = [1205, 1937]</text>\n",
       "<text text-anchor=\"start\" x=\"752\" y=\"-315.7\" font-family=\"Helvetica,sans-Serif\" font-size=\"14.00\">class = Up</text>\n",
       "</g>\n",
       "<!-- 0&#45;&gt;30 -->\n",
       "<g id=\"edge16\" class=\"edge\">\n",
       "<title>0&#45;&gt;30</title>\n",
       "<path fill=\"none\" stroke=\"black\" d=\"M694.14,-428.58C704.81,-419.53 716.21,-409.87 727.18,-400.56\"/>\n",
       "<polygon fill=\"black\" stroke=\"black\" points=\"729.35,-403.32 734.72,-394.18 724.82,-397.98 729.35,-403.32\"/>\n",
       "<text text-anchor=\"middle\" x=\"733.82\" y=\"-412.32\" font-family=\"Helvetica,sans-Serif\" font-size=\"14.00\">False</text>\n",
       "</g>\n",
       "<!-- 2 -->\n",
       "<g id=\"node3\" class=\"node\">\n",
       "<title>2</title>\n",
       "<path fill=\"#b4daf5\" stroke=\"black\" d=\"M293.38,-274C293.38,-274 208.38,-274 208.38,-274 202.38,-274 196.38,-268 196.38,-262 196.38,-262 196.38,-203 196.38,-203 196.38,-197 202.38,-191 208.38,-191 208.38,-191 293.38,-191 293.38,-191 299.38,-191 305.38,-197 305.38,-203 305.38,-203 305.38,-262 305.38,-262 305.38,-268 299.38,-274 293.38,-274\"/>\n",
       "<text text-anchor=\"start\" x=\"215.62\" y=\"-256.7\" font-family=\"Helvetica,sans-Serif\" font-size=\"14.00\">rsi ≤ 33.774</text>\n",
       "<text text-anchor=\"start\" x=\"215.62\" y=\"-241.7\" font-family=\"Helvetica,sans-Serif\" font-size=\"14.00\">gini = 0.473</text>\n",
       "<text text-anchor=\"start\" x=\"206.25\" y=\"-226.7\" font-family=\"Helvetica,sans-Serif\" font-size=\"14.00\">samples = 151</text>\n",
       "<text text-anchor=\"start\" x=\"204.38\" y=\"-211.7\" font-family=\"Helvetica,sans-Serif\" font-size=\"14.00\">value = [58, 93]</text>\n",
       "<text text-anchor=\"start\" x=\"219\" y=\"-196.7\" font-family=\"Helvetica,sans-Serif\" font-size=\"14.00\">class = Up</text>\n",
       "</g>\n",
       "<!-- 1&#45;&gt;2 -->\n",
       "<g id=\"edge2\" class=\"edge\">\n",
       "<title>1&#45;&gt;2</title>\n",
       "<path fill=\"none\" stroke=\"black\" d=\"M420.4,-318.99C387.92,-302.62 348.28,-282.62 315.5,-266.09\"/>\n",
       "<polygon fill=\"black\" stroke=\"black\" points=\"317.42,-263.14 306.91,-261.76 314.27,-269.39 317.42,-263.14\"/>\n",
       "</g>\n",
       "<!-- 15 -->\n",
       "<g id=\"node10\" class=\"node\">\n",
       "<title>15</title>\n",
       "<path fill=\"#efb184\" stroke=\"black\" d=\"M532.88,-274C532.88,-274 432.88,-274 432.88,-274 426.88,-274 420.88,-268 420.88,-262 420.88,-262 420.88,-203 420.88,-203 420.88,-197 426.88,-191 432.88,-191 432.88,-191 532.88,-191 532.88,-191 538.88,-191 544.88,-197 544.88,-203 544.88,-203 544.88,-262 544.88,-262 544.88,-268 538.88,-274 532.88,-274\"/>\n",
       "<text text-anchor=\"start\" x=\"441.62\" y=\"-256.7\" font-family=\"Helvetica,sans-Serif\" font-size=\"14.00\">year ≤ 2021.5</text>\n",
       "<text text-anchor=\"start\" x=\"447.62\" y=\"-241.7\" font-family=\"Helvetica,sans-Serif\" font-size=\"14.00\">gini = 0.399</text>\n",
       "<text text-anchor=\"start\" x=\"438.25\" y=\"-226.7\" font-family=\"Helvetica,sans-Serif\" font-size=\"14.00\">samples = 475</text>\n",
       "<text text-anchor=\"start\" x=\"428.88\" y=\"-211.7\" font-family=\"Helvetica,sans-Serif\" font-size=\"14.00\">value = [344, 131]</text>\n",
       "<text text-anchor=\"start\" x=\"442.38\" y=\"-196.7\" font-family=\"Helvetica,sans-Serif\" font-size=\"14.00\">class = Down</text>\n",
       "</g>\n",
       "<!-- 1&#45;&gt;15 -->\n",
       "<g id=\"edge9\" class=\"edge\">\n",
       "<title>1&#45;&gt;15</title>\n",
       "<path fill=\"none\" stroke=\"black\" d=\"M482.88,-309.58C482.88,-301.79 482.88,-293.53 482.88,-285.45\"/>\n",
       "<polygon fill=\"black\" stroke=\"black\" points=\"486.38,-285.71 482.88,-275.71 479.38,-285.71 486.38,-285.71\"/>\n",
       "</g>\n",
       "<!-- 3 -->\n",
       "<g id=\"node4\" class=\"node\">\n",
       "<title>3</title>\n",
       "<path fill=\"#4da7e8\" stroke=\"black\" d=\"M145.75,-155C145.75,-155 12,-155 12,-155 6,-155 0,-149 0,-143 0,-143 0,-84 0,-84 0,-78 6,-72 12,-72 12,-72 145.75,-72 145.75,-72 151.75,-72 157.75,-78 157.75,-84 157.75,-84 157.75,-143 157.75,-143 157.75,-149 151.75,-155 145.75,-155\"/>\n",
       "<text text-anchor=\"start\" x=\"8\" y=\"-137.7\" font-family=\"Helvetica,sans-Serif\" font-size=\"14.00\">money_volume ≤ 0.005</text>\n",
       "<text text-anchor=\"start\" x=\"43.62\" y=\"-122.7\" font-family=\"Helvetica,sans-Serif\" font-size=\"14.00\">gini = 0.165</text>\n",
       "<text text-anchor=\"start\" x=\"38\" y=\"-107.7\" font-family=\"Helvetica,sans-Serif\" font-size=\"14.00\">samples = 55</text>\n",
       "<text text-anchor=\"start\" x=\"36.12\" y=\"-92.7\" font-family=\"Helvetica,sans-Serif\" font-size=\"14.00\">value = [5, 50]</text>\n",
       "<text text-anchor=\"start\" x=\"47\" y=\"-77.7\" font-family=\"Helvetica,sans-Serif\" font-size=\"14.00\">class = Up</text>\n",
       "</g>\n",
       "<!-- 2&#45;&gt;3 -->\n",
       "<g id=\"edge3\" class=\"edge\">\n",
       "<title>2&#45;&gt;3</title>\n",
       "<path fill=\"none\" stroke=\"black\" d=\"M195.98,-194.16C180.78,-183.82 164.07,-172.45 148.16,-161.63\"/>\n",
       "<polygon fill=\"black\" stroke=\"black\" points=\"150.39,-158.92 140.16,-156.19 146.46,-164.7 150.39,-158.92\"/>\n",
       "</g>\n",
       "<!-- 8 -->\n",
       "<g id=\"node7\" class=\"node\">\n",
       "<title>8</title>\n",
       "<path fill=\"#fae7da\" stroke=\"black\" d=\"M313.62,-155C313.62,-155 188.12,-155 188.12,-155 182.12,-155 176.12,-149 176.12,-143 176.12,-143 176.12,-84 176.12,-84 176.12,-78 182.12,-72 188.12,-72 188.12,-72 313.62,-72 313.62,-72 319.62,-72 325.62,-78 325.62,-84 325.62,-84 325.62,-143 325.62,-143 325.62,-149 319.62,-155 313.62,-155\"/>\n",
       "<text text-anchor=\"start\" x=\"184.12\" y=\"-137.7\" font-family=\"Helvetica,sans-Serif\" font-size=\"14.00\">momentum_3 ≤ 0.023</text>\n",
       "<text text-anchor=\"start\" x=\"215.62\" y=\"-122.7\" font-family=\"Helvetica,sans-Serif\" font-size=\"14.00\">gini = 0.495</text>\n",
       "<text text-anchor=\"start\" x=\"210\" y=\"-107.7\" font-family=\"Helvetica,sans-Serif\" font-size=\"14.00\">samples = 96</text>\n",
       "<text text-anchor=\"start\" x=\"204.38\" y=\"-92.7\" font-family=\"Helvetica,sans-Serif\" font-size=\"14.00\">value = [53, 43]</text>\n",
       "<text text-anchor=\"start\" x=\"210.38\" y=\"-77.7\" font-family=\"Helvetica,sans-Serif\" font-size=\"14.00\">class = Down</text>\n",
       "</g>\n",
       "<!-- 2&#45;&gt;8 -->\n",
       "<g id=\"edge6\" class=\"edge\">\n",
       "<title>2&#45;&gt;8</title>\n",
       "<path fill=\"none\" stroke=\"black\" d=\"M250.88,-190.58C250.88,-182.79 250.88,-174.53 250.88,-166.45\"/>\n",
       "<polygon fill=\"black\" stroke=\"black\" points=\"254.38,-166.71 250.88,-156.71 247.38,-166.71 254.38,-166.71\"/>\n",
       "</g>\n",
       "<!-- 4 -->\n",
       "<g id=\"node5\" class=\"node\">\n",
       "<title>4</title>\n",
       "<path fill=\"#c0c0c0\" stroke=\"black\" d=\"M57.88,-36C57.88,-36 27.88,-36 27.88,-36 21.88,-36 15.88,-30 15.88,-24 15.88,-24 15.88,-12 15.88,-12 15.88,-6 21.88,0 27.88,0 27.88,0 57.88,0 57.88,0 63.88,0 69.88,-6 69.88,-12 69.88,-12 69.88,-24 69.88,-24 69.88,-30 63.88,-36 57.88,-36\"/>\n",
       "<text text-anchor=\"middle\" x=\"42.88\" y=\"-12.2\" font-family=\"Helvetica,sans-Serif\" font-size=\"14.00\">(...)</text>\n",
       "</g>\n",
       "<!-- 3&#45;&gt;4 -->\n",
       "<g id=\"edge4\" class=\"edge\">\n",
       "<title>3&#45;&gt;4</title>\n",
       "<path fill=\"none\" stroke=\"black\" d=\"M63.19,-71.76C59.98,-63.43 56.67,-54.84 53.68,-47.07\"/>\n",
       "<polygon fill=\"black\" stroke=\"black\" points=\"56.98,-45.89 50.12,-37.82 50.45,-48.41 56.98,-45.89\"/>\n",
       "</g>\n",
       "<!-- 5 -->\n",
       "<g id=\"node6\" class=\"node\">\n",
       "<title>5</title>\n",
       "<path fill=\"#c0c0c0\" stroke=\"black\" d=\"M129.88,-36C129.88,-36 99.88,-36 99.88,-36 93.88,-36 87.88,-30 87.88,-24 87.88,-24 87.88,-12 87.88,-12 87.88,-6 93.88,0 99.88,0 99.88,0 129.88,0 129.88,0 135.88,0 141.88,-6 141.88,-12 141.88,-12 141.88,-24 141.88,-24 141.88,-30 135.88,-36 129.88,-36\"/>\n",
       "<text text-anchor=\"middle\" x=\"114.88\" y=\"-12.2\" font-family=\"Helvetica,sans-Serif\" font-size=\"14.00\">(...)</text>\n",
       "</g>\n",
       "<!-- 3&#45;&gt;5 -->\n",
       "<g id=\"edge5\" class=\"edge\">\n",
       "<title>3&#45;&gt;5</title>\n",
       "<path fill=\"none\" stroke=\"black\" d=\"M94.56,-71.76C97.77,-63.43 101.08,-54.84 104.07,-47.07\"/>\n",
       "<polygon fill=\"black\" stroke=\"black\" points=\"107.3,-48.41 107.63,-37.82 100.77,-45.89 107.3,-48.41\"/>\n",
       "</g>\n",
       "<!-- 9 -->\n",
       "<g id=\"node8\" class=\"node\">\n",
       "<title>9</title>\n",
       "<path fill=\"#c0c0c0\" stroke=\"black\" d=\"M209.88,-36C209.88,-36 179.88,-36 179.88,-36 173.88,-36 167.88,-30 167.88,-24 167.88,-24 167.88,-12 167.88,-12 167.88,-6 173.88,0 179.88,0 179.88,0 209.88,0 209.88,0 215.88,0 221.88,-6 221.88,-12 221.88,-12 221.88,-24 221.88,-24 221.88,-30 215.88,-36 209.88,-36\"/>\n",
       "<text text-anchor=\"middle\" x=\"194.88\" y=\"-12.2\" font-family=\"Helvetica,sans-Serif\" font-size=\"14.00\">(...)</text>\n",
       "</g>\n",
       "<!-- 8&#45;&gt;9 -->\n",
       "<g id=\"edge7\" class=\"edge\">\n",
       "<title>8&#45;&gt;9</title>\n",
       "<path fill=\"none\" stroke=\"black\" d=\"M226.48,-71.76C221.31,-63.14 215.98,-54.24 211.2,-46.26\"/>\n",
       "<polygon fill=\"black\" stroke=\"black\" points=\"214.22,-44.48 206.08,-37.7 208.21,-48.08 214.22,-44.48\"/>\n",
       "</g>\n",
       "<!-- 12 -->\n",
       "<g id=\"node9\" class=\"node\">\n",
       "<title>12</title>\n",
       "<path fill=\"#c0c0c0\" stroke=\"black\" d=\"M281.88,-36C281.88,-36 251.88,-36 251.88,-36 245.88,-36 239.88,-30 239.88,-24 239.88,-24 239.88,-12 239.88,-12 239.88,-6 245.88,0 251.88,0 251.88,0 281.88,0 281.88,0 287.88,0 293.88,-6 293.88,-12 293.88,-12 293.88,-24 293.88,-24 293.88,-30 287.88,-36 281.88,-36\"/>\n",
       "<text text-anchor=\"middle\" x=\"266.88\" y=\"-12.2\" font-family=\"Helvetica,sans-Serif\" font-size=\"14.00\">(...)</text>\n",
       "</g>\n",
       "<!-- 8&#45;&gt;12 -->\n",
       "<g id=\"edge8\" class=\"edge\">\n",
       "<title>8&#45;&gt;12</title>\n",
       "<path fill=\"none\" stroke=\"black\" d=\"M257.85,-71.76C259.24,-63.62 260.67,-55.24 261.98,-47.61\"/>\n",
       "<polygon fill=\"black\" stroke=\"black\" points=\"265.4,-48.34 263.64,-37.9 258.5,-47.16 265.4,-48.34\"/>\n",
       "</g>\n",
       "<!-- 16 -->\n",
       "<g id=\"node11\" class=\"node\">\n",
       "<title>16</title>\n",
       "<path fill=\"#eb9e67\" stroke=\"black\" d=\"M448.12,-155C448.12,-155 355.62,-155 355.62,-155 349.62,-155 343.62,-149 343.62,-143 343.62,-143 343.62,-84 343.62,-84 343.62,-78 349.62,-72 355.62,-72 355.62,-72 448.12,-72 448.12,-72 454.12,-72 460.12,-78 460.12,-84 460.12,-84 460.12,-143 460.12,-143 460.12,-149 454.12,-155 448.12,-155\"/>\n",
       "<text text-anchor=\"start\" x=\"355\" y=\"-137.7\" font-family=\"Helvetica,sans-Serif\" font-size=\"14.00\">bb_mid ≤ 2.506</text>\n",
       "<text text-anchor=\"start\" x=\"366.62\" y=\"-122.7\" font-family=\"Helvetica,sans-Serif\" font-size=\"14.00\">gini = 0.305</text>\n",
       "<text text-anchor=\"start\" x=\"357.25\" y=\"-107.7\" font-family=\"Helvetica,sans-Serif\" font-size=\"14.00\">samples = 320</text>\n",
       "<text text-anchor=\"start\" x=\"351.62\" y=\"-92.7\" font-family=\"Helvetica,sans-Serif\" font-size=\"14.00\">value = [260, 60]</text>\n",
       "<text text-anchor=\"start\" x=\"361.38\" y=\"-77.7\" font-family=\"Helvetica,sans-Serif\" font-size=\"14.00\">class = Down</text>\n",
       "</g>\n",
       "<!-- 15&#45;&gt;16 -->\n",
       "<g id=\"edge10\" class=\"edge\">\n",
       "<title>15&#45;&gt;16</title>\n",
       "<path fill=\"none\" stroke=\"black\" d=\"M454.55,-190.58C448.72,-182.16 442.52,-173.2 436.49,-164.5\"/>\n",
       "<polygon fill=\"black\" stroke=\"black\" points=\"439.48,-162.67 430.91,-156.44 433.73,-166.66 439.48,-162.67\"/>\n",
       "</g>\n",
       "<!-- 23 -->\n",
       "<g id=\"node14\" class=\"node\">\n",
       "<title>23</title>\n",
       "<path fill=\"#fbebe0\" stroke=\"black\" d=\"M643.12,-155C643.12,-155 490.62,-155 490.62,-155 484.62,-155 478.62,-149 478.62,-143 478.62,-143 478.62,-84 478.62,-84 478.62,-78 484.62,-72 490.62,-72 490.62,-72 643.12,-72 643.12,-72 649.12,-72 655.12,-78 655.12,-84 655.12,-84 655.12,-143 655.12,-143 655.12,-149 649.12,-155 643.12,-155\"/>\n",
       "<text text-anchor=\"start\" x=\"486.62\" y=\"-137.7\" font-family=\"Helvetica,sans-Serif\" font-size=\"14.00\">momentum_3_12 ≤ &#45;0.059</text>\n",
       "<text text-anchor=\"start\" x=\"531.62\" y=\"-122.7\" font-family=\"Helvetica,sans-Serif\" font-size=\"14.00\">gini = 0.496</text>\n",
       "<text text-anchor=\"start\" x=\"522.25\" y=\"-107.7\" font-family=\"Helvetica,sans-Serif\" font-size=\"14.00\">samples = 155</text>\n",
       "<text text-anchor=\"start\" x=\"520.38\" y=\"-92.7\" font-family=\"Helvetica,sans-Serif\" font-size=\"14.00\">value = [84, 71]</text>\n",
       "<text text-anchor=\"start\" x=\"526.38\" y=\"-77.7\" font-family=\"Helvetica,sans-Serif\" font-size=\"14.00\">class = Down</text>\n",
       "</g>\n",
       "<!-- 15&#45;&gt;23 -->\n",
       "<g id=\"edge13\" class=\"edge\">\n",
       "<title>15&#45;&gt;23</title>\n",
       "<path fill=\"none\" stroke=\"black\" d=\"M512.25,-190.58C518.3,-182.16 524.73,-173.2 530.98,-164.5\"/>\n",
       "<polygon fill=\"black\" stroke=\"black\" points=\"533.78,-166.59 536.77,-156.43 528.1,-162.51 533.78,-166.59\"/>\n",
       "</g>\n",
       "<!-- 17 -->\n",
       "<g id=\"node12\" class=\"node\">\n",
       "<title>17</title>\n",
       "<path fill=\"#c0c0c0\" stroke=\"black\" d=\"M371.88,-36C371.88,-36 341.88,-36 341.88,-36 335.88,-36 329.88,-30 329.88,-24 329.88,-24 329.88,-12 329.88,-12 329.88,-6 335.88,0 341.88,0 341.88,0 371.88,0 371.88,0 377.88,0 383.88,-6 383.88,-12 383.88,-12 383.88,-24 383.88,-24 383.88,-30 377.88,-36 371.88,-36\"/>\n",
       "<text text-anchor=\"middle\" x=\"356.88\" y=\"-12.2\" font-family=\"Helvetica,sans-Serif\" font-size=\"14.00\">(...)</text>\n",
       "</g>\n",
       "<!-- 16&#45;&gt;17 -->\n",
       "<g id=\"edge11\" class=\"edge\">\n",
       "<title>16&#45;&gt;17</title>\n",
       "<path fill=\"none\" stroke=\"black\" d=\"M382.27,-71.76C378.16,-63.24 373.93,-54.44 370.12,-46.53\"/>\n",
       "<polygon fill=\"black\" stroke=\"black\" points=\"373.4,-45.26 365.91,-37.77 367.09,-48.3 373.4,-45.26\"/>\n",
       "</g>\n",
       "<!-- 20 -->\n",
       "<g id=\"node13\" class=\"node\">\n",
       "<title>20</title>\n",
       "<path fill=\"#c0c0c0\" stroke=\"black\" d=\"M443.88,-36C443.88,-36 413.88,-36 413.88,-36 407.88,-36 401.88,-30 401.88,-24 401.88,-24 401.88,-12 401.88,-12 401.88,-6 407.88,0 413.88,0 413.88,0 443.88,0 443.88,0 449.88,0 455.88,-6 455.88,-12 455.88,-12 455.88,-24 455.88,-24 455.88,-30 449.88,-36 443.88,-36\"/>\n",
       "<text text-anchor=\"middle\" x=\"428.88\" y=\"-12.2\" font-family=\"Helvetica,sans-Serif\" font-size=\"14.00\">(...)</text>\n",
       "</g>\n",
       "<!-- 16&#45;&gt;20 -->\n",
       "<g id=\"edge12\" class=\"edge\">\n",
       "<title>16&#45;&gt;20</title>\n",
       "<path fill=\"none\" stroke=\"black\" d=\"M413.64,-71.76C416.02,-63.53 418.47,-55.04 420.69,-47.34\"/>\n",
       "<polygon fill=\"black\" stroke=\"black\" points=\"424.02,-48.44 423.43,-37.86 417.29,-46.5 424.02,-48.44\"/>\n",
       "</g>\n",
       "<!-- 24 -->\n",
       "<g id=\"node15\" class=\"node\">\n",
       "<title>24</title>\n",
       "<path fill=\"#c0c0c0\" stroke=\"black\" d=\"M524.88,-36C524.88,-36 494.88,-36 494.88,-36 488.88,-36 482.88,-30 482.88,-24 482.88,-24 482.88,-12 482.88,-12 482.88,-6 488.88,0 494.88,0 494.88,0 524.88,0 524.88,0 530.88,0 536.88,-6 536.88,-12 536.88,-12 536.88,-24 536.88,-24 536.88,-30 530.88,-36 524.88,-36\"/>\n",
       "<text text-anchor=\"middle\" x=\"509.88\" y=\"-12.2\" font-family=\"Helvetica,sans-Serif\" font-size=\"14.00\">(...)</text>\n",
       "</g>\n",
       "<!-- 23&#45;&gt;24 -->\n",
       "<g id=\"edge14\" class=\"edge\">\n",
       "<title>23&#45;&gt;24</title>\n",
       "<path fill=\"none\" stroke=\"black\" d=\"M542.04,-71.76C536.72,-63.04 531.24,-54.04 526.33,-45.99\"/>\n",
       "<polygon fill=\"black\" stroke=\"black\" points=\"529.47,-44.41 521.27,-37.7 523.49,-48.06 529.47,-44.41\"/>\n",
       "</g>\n",
       "<!-- 27 -->\n",
       "<g id=\"node16\" class=\"node\">\n",
       "<title>27</title>\n",
       "<path fill=\"#c0c0c0\" stroke=\"black\" d=\"M596.88,-36C596.88,-36 566.88,-36 566.88,-36 560.88,-36 554.88,-30 554.88,-24 554.88,-24 554.88,-12 554.88,-12 554.88,-6 560.88,0 566.88,0 566.88,0 596.88,0 596.88,0 602.88,0 608.88,-6 608.88,-12 608.88,-12 608.88,-24 608.88,-24 608.88,-30 602.88,-36 596.88,-36\"/>\n",
       "<text text-anchor=\"middle\" x=\"581.88\" y=\"-12.2\" font-family=\"Helvetica,sans-Serif\" font-size=\"14.00\">(...)</text>\n",
       "</g>\n",
       "<!-- 23&#45;&gt;27 -->\n",
       "<g id=\"edge15\" class=\"edge\">\n",
       "<title>23&#45;&gt;27</title>\n",
       "<path fill=\"none\" stroke=\"black\" d=\"M573.41,-71.76C574.72,-63.62 576.06,-55.24 577.28,-47.61\"/>\n",
       "<polygon fill=\"black\" stroke=\"black\" points=\"580.71,-48.33 578.84,-37.9 573.8,-47.22 580.71,-48.33\"/>\n",
       "</g>\n",
       "<!-- 31 -->\n",
       "<g id=\"node18\" class=\"node\">\n",
       "<title>31</title>\n",
       "<path fill=\"#ea975c\" stroke=\"black\" d=\"M826.38,-274C826.38,-274 741.38,-274 741.38,-274 735.38,-274 729.38,-268 729.38,-262 729.38,-262 729.38,-203 729.38,-203 729.38,-197 735.38,-191 741.38,-191 741.38,-191 826.38,-191 826.38,-191 832.38,-191 838.38,-197 838.38,-203 838.38,-203 838.38,-262 838.38,-262 838.38,-268 832.38,-274 826.38,-274\"/>\n",
       "<text text-anchor=\"start\" x=\"744.12\" y=\"-256.7\" font-family=\"Helvetica,sans-Serif\" font-size=\"14.00\">natr ≤ 39.002</text>\n",
       "<text text-anchor=\"start\" x=\"748.62\" y=\"-241.7\" font-family=\"Helvetica,sans-Serif\" font-size=\"14.00\">gini = 0.254</text>\n",
       "<text text-anchor=\"start\" x=\"739.25\" y=\"-226.7\" font-family=\"Helvetica,sans-Serif\" font-size=\"14.00\">samples = 107</text>\n",
       "<text text-anchor=\"start\" x=\"737.38\" y=\"-211.7\" font-family=\"Helvetica,sans-Serif\" font-size=\"14.00\">value = [91, 16]</text>\n",
       "<text text-anchor=\"start\" x=\"743.38\" y=\"-196.7\" font-family=\"Helvetica,sans-Serif\" font-size=\"14.00\">class = Down</text>\n",
       "</g>\n",
       "<!-- 30&#45;&gt;31 -->\n",
       "<g id=\"edge17\" class=\"edge\">\n",
       "<title>30&#45;&gt;31</title>\n",
       "<path fill=\"none\" stroke=\"black\" d=\"M783.88,-309.58C783.88,-301.79 783.88,-293.53 783.88,-285.45\"/>\n",
       "<polygon fill=\"black\" stroke=\"black\" points=\"787.38,-285.71 783.88,-275.71 780.38,-285.71 787.38,-285.71\"/>\n",
       "</g>\n",
       "<!-- 46 -->\n",
       "<g id=\"node25\" class=\"node\">\n",
       "<title>46</title>\n",
       "<path fill=\"#acd6f4\" stroke=\"black\" d=\"M1039,-274C1039,-274 924.75,-274 924.75,-274 918.75,-274 912.75,-268 912.75,-262 912.75,-262 912.75,-203 912.75,-203 912.75,-197 918.75,-191 924.75,-191 924.75,-191 1039,-191 1039,-191 1045,-191 1051,-197 1051,-203 1051,-203 1051,-262 1051,-262 1051,-268 1045,-274 1039,-274\"/>\n",
       "<text text-anchor=\"start\" x=\"935\" y=\"-256.7\" font-family=\"Helvetica,sans-Serif\" font-size=\"14.00\">bb_mid ≤ 1.561</text>\n",
       "<text text-anchor=\"start\" x=\"946.62\" y=\"-241.7\" font-family=\"Helvetica,sans-Serif\" font-size=\"14.00\">gini = 0.465</text>\n",
       "<text text-anchor=\"start\" x=\"933.5\" y=\"-226.7\" font-family=\"Helvetica,sans-Serif\" font-size=\"14.00\">samples = 3035</text>\n",
       "<text text-anchor=\"start\" x=\"920.75\" y=\"-211.7\" font-family=\"Helvetica,sans-Serif\" font-size=\"14.00\">value = [1114, 1921]</text>\n",
       "<text text-anchor=\"start\" x=\"950\" y=\"-196.7\" font-family=\"Helvetica,sans-Serif\" font-size=\"14.00\">class = Up</text>\n",
       "</g>\n",
       "<!-- 30&#45;&gt;46 -->\n",
       "<g id=\"edge24\" class=\"edge\">\n",
       "<title>30&#45;&gt;46</title>\n",
       "<path fill=\"none\" stroke=\"black\" d=\"M853.13,-309.58C869.25,-300.05 886.54,-289.83 903.05,-280.08\"/>\n",
       "<polygon fill=\"black\" stroke=\"black\" points=\"904.53,-283.27 911.36,-275.17 900.97,-277.24 904.53,-283.27\"/>\n",
       "</g>\n",
       "<!-- 32 -->\n",
       "<g id=\"node19\" class=\"node\">\n",
       "<title>32</title>\n",
       "<path fill=\"#efb184\" stroke=\"black\" d=\"M770.38,-155C770.38,-155 685.38,-155 685.38,-155 679.38,-155 673.38,-149 673.38,-143 673.38,-143 673.38,-84 673.38,-84 673.38,-78 679.38,-72 685.38,-72 685.38,-72 770.38,-72 770.38,-72 776.38,-72 782.38,-78 782.38,-84 782.38,-84 782.38,-143 782.38,-143 782.38,-149 776.38,-155 770.38,-155\"/>\n",
       "<text text-anchor=\"start\" x=\"684.38\" y=\"-137.7\" font-family=\"Helvetica,sans-Serif\" font-size=\"14.00\">macd ≤ &#45;0.248</text>\n",
       "<text text-anchor=\"start\" x=\"692.62\" y=\"-122.7\" font-family=\"Helvetica,sans-Serif\" font-size=\"14.00\">gini = 0.398</text>\n",
       "<text text-anchor=\"start\" x=\"687\" y=\"-107.7\" font-family=\"Helvetica,sans-Serif\" font-size=\"14.00\">samples = 51</text>\n",
       "<text text-anchor=\"start\" x=\"681.38\" y=\"-92.7\" font-family=\"Helvetica,sans-Serif\" font-size=\"14.00\">value = [37, 14]</text>\n",
       "<text text-anchor=\"start\" x=\"687.38\" y=\"-77.7\" font-family=\"Helvetica,sans-Serif\" font-size=\"14.00\">class = Down</text>\n",
       "</g>\n",
       "<!-- 31&#45;&gt;32 -->\n",
       "<g id=\"edge18\" class=\"edge\">\n",
       "<title>31&#45;&gt;32</title>\n",
       "<path fill=\"none\" stroke=\"black\" d=\"M764.29,-190.58C760.39,-182.43 756.25,-173.77 752.21,-165.34\"/>\n",
       "<polygon fill=\"black\" stroke=\"black\" points=\"755.48,-164.07 748.01,-156.57 749.17,-167.1 755.48,-164.07\"/>\n",
       "</g>\n",
       "<!-- 39 -->\n",
       "<g id=\"node22\" class=\"node\">\n",
       "<title>39</title>\n",
       "<path fill=\"#e68640\" stroke=\"black\" d=\"M889.62,-155C889.62,-155 812.12,-155 812.12,-155 806.12,-155 800.12,-149 800.12,-143 800.12,-143 800.12,-84 800.12,-84 800.12,-78 806.12,-72 812.12,-72 812.12,-72 889.62,-72 889.62,-72 895.62,-72 901.62,-78 901.62,-84 901.62,-84 901.62,-143 901.62,-143 901.62,-149 895.62,-155 889.62,-155\"/>\n",
       "<text text-anchor=\"start\" x=\"811.12\" y=\"-137.7\" font-family=\"Helvetica,sans-Serif\" font-size=\"14.00\">CMA ≤ 1.121</text>\n",
       "<text text-anchor=\"start\" x=\"815.62\" y=\"-122.7\" font-family=\"Helvetica,sans-Serif\" font-size=\"14.00\">gini = 0.069</text>\n",
       "<text text-anchor=\"start\" x=\"810\" y=\"-107.7\" font-family=\"Helvetica,sans-Serif\" font-size=\"14.00\">samples = 56</text>\n",
       "<text text-anchor=\"start\" x=\"808.12\" y=\"-92.7\" font-family=\"Helvetica,sans-Serif\" font-size=\"14.00\">value = [54, 2]</text>\n",
       "<text text-anchor=\"start\" x=\"810.38\" y=\"-77.7\" font-family=\"Helvetica,sans-Serif\" font-size=\"14.00\">class = Down</text>\n",
       "</g>\n",
       "<!-- 31&#45;&gt;39 -->\n",
       "<g id=\"edge21\" class=\"edge\">\n",
       "<title>31&#45;&gt;39</title>\n",
       "<path fill=\"none\" stroke=\"black\" d=\"M807.31,-190.58C812.03,-182.34 817.04,-173.58 821.92,-165.06\"/>\n",
       "<polygon fill=\"black\" stroke=\"black\" points=\"824.88,-166.93 826.82,-156.51 818.81,-163.45 824.88,-166.93\"/>\n",
       "</g>\n",
       "<!-- 33 -->\n",
       "<g id=\"node20\" class=\"node\">\n",
       "<title>33</title>\n",
       "<path fill=\"#c0c0c0\" stroke=\"black\" d=\"M673.88,-36C673.88,-36 643.88,-36 643.88,-36 637.88,-36 631.88,-30 631.88,-24 631.88,-24 631.88,-12 631.88,-12 631.88,-6 637.88,0 643.88,0 643.88,0 673.88,0 673.88,0 679.88,0 685.88,-6 685.88,-12 685.88,-12 685.88,-24 685.88,-24 685.88,-30 679.88,-36 673.88,-36\"/>\n",
       "<text text-anchor=\"middle\" x=\"658.88\" y=\"-12.2\" font-family=\"Helvetica,sans-Serif\" font-size=\"14.00\">(...)</text>\n",
       "</g>\n",
       "<!-- 32&#45;&gt;33 -->\n",
       "<g id=\"edge19\" class=\"edge\">\n",
       "<title>32&#45;&gt;33</title>\n",
       "<path fill=\"none\" stroke=\"black\" d=\"M697.81,-71.76C691.23,-62.85 684.44,-53.64 678.4,-45.46\"/>\n",
       "<polygon fill=\"black\" stroke=\"black\" points=\"681.37,-43.59 672.62,-37.62 675.74,-47.75 681.37,-43.59\"/>\n",
       "</g>\n",
       "<!-- 36 -->\n",
       "<g id=\"node21\" class=\"node\">\n",
       "<title>36</title>\n",
       "<path fill=\"#c0c0c0\" stroke=\"black\" d=\"M745.88,-36C745.88,-36 715.88,-36 715.88,-36 709.88,-36 703.88,-30 703.88,-24 703.88,-24 703.88,-12 703.88,-12 703.88,-6 709.88,0 715.88,0 715.88,0 745.88,0 745.88,0 751.88,0 757.88,-6 757.88,-12 757.88,-12 757.88,-24 757.88,-24 757.88,-30 751.88,-36 745.88,-36\"/>\n",
       "<text text-anchor=\"middle\" x=\"730.88\" y=\"-12.2\" font-family=\"Helvetica,sans-Serif\" font-size=\"14.00\">(...)</text>\n",
       "</g>\n",
       "<!-- 32&#45;&gt;36 -->\n",
       "<g id=\"edge20\" class=\"edge\">\n",
       "<title>32&#45;&gt;36</title>\n",
       "<path fill=\"none\" stroke=\"black\" d=\"M729.18,-71.76C729.44,-63.72 729.71,-55.44 729.95,-47.89\"/>\n",
       "<polygon fill=\"black\" stroke=\"black\" points=\"733.45,-48.02 730.27,-37.92 726.45,-47.8 733.45,-48.02\"/>\n",
       "</g>\n",
       "<!-- 40 -->\n",
       "<g id=\"node23\" class=\"node\">\n",
       "<title>40</title>\n",
       "<path fill=\"#c0c0c0\" stroke=\"black\" d=\"M836.88,-36C836.88,-36 806.88,-36 806.88,-36 800.88,-36 794.88,-30 794.88,-24 794.88,-24 794.88,-12 794.88,-12 794.88,-6 800.88,0 806.88,0 806.88,0 836.88,0 836.88,0 842.88,0 848.88,-6 848.88,-12 848.88,-12 848.88,-24 848.88,-24 848.88,-30 842.88,-36 836.88,-36\"/>\n",
       "<text text-anchor=\"middle\" x=\"821.88\" y=\"-12.2\" font-family=\"Helvetica,sans-Serif\" font-size=\"14.00\">(...)</text>\n",
       "</g>\n",
       "<!-- 39&#45;&gt;40 -->\n",
       "<g id=\"edge22\" class=\"edge\">\n",
       "<title>39&#45;&gt;40</title>\n",
       "<path fill=\"none\" stroke=\"black\" d=\"M838.24,-71.76C835.69,-63.53 833.05,-55.04 830.67,-47.34\"/>\n",
       "<polygon fill=\"black\" stroke=\"black\" points=\"834.03,-46.36 827.72,-37.85 827.34,-48.44 834.03,-46.36\"/>\n",
       "</g>\n",
       "<!-- 43 -->\n",
       "<g id=\"node24\" class=\"node\">\n",
       "<title>43</title>\n",
       "<path fill=\"#c0c0c0\" stroke=\"black\" d=\"M908.88,-36C908.88,-36 878.88,-36 878.88,-36 872.88,-36 866.88,-30 866.88,-24 866.88,-24 866.88,-12 866.88,-12 866.88,-6 872.88,0 878.88,0 878.88,0 908.88,0 908.88,0 914.88,0 920.88,-6 920.88,-12 920.88,-12 920.88,-24 920.88,-24 920.88,-30 914.88,-36 908.88,-36\"/>\n",
       "<text text-anchor=\"middle\" x=\"893.88\" y=\"-12.2\" font-family=\"Helvetica,sans-Serif\" font-size=\"14.00\">(...)</text>\n",
       "</g>\n",
       "<!-- 39&#45;&gt;43 -->\n",
       "<g id=\"edge23\" class=\"edge\">\n",
       "<title>39&#45;&gt;43</title>\n",
       "<path fill=\"none\" stroke=\"black\" d=\"M869.61,-71.76C873.49,-63.33 877.49,-54.64 881.09,-46.8\"/>\n",
       "<polygon fill=\"black\" stroke=\"black\" points=\"884.24,-48.33 885.24,-37.78 877.88,-45.4 884.24,-48.33\"/>\n",
       "</g>\n",
       "<!-- 47 -->\n",
       "<g id=\"node26\" class=\"node\">\n",
       "<title>47</title>\n",
       "<path fill=\"#feffff\" stroke=\"black\" d=\"M1031.88,-155C1031.88,-155 931.88,-155 931.88,-155 925.88,-155 919.88,-149 919.88,-143 919.88,-143 919.88,-84 919.88,-84 919.88,-78 925.88,-72 931.88,-72 931.88,-72 1031.88,-72 1031.88,-72 1037.88,-72 1043.88,-78 1043.88,-84 1043.88,-84 1043.88,-143 1043.88,-143 1043.88,-149 1037.88,-155 1031.88,-155\"/>\n",
       "<text text-anchor=\"start\" x=\"942.12\" y=\"-137.7\" font-family=\"Helvetica,sans-Serif\" font-size=\"14.00\">month ≤ 10.5</text>\n",
       "<text text-anchor=\"start\" x=\"954.12\" y=\"-122.7\" font-family=\"Helvetica,sans-Serif\" font-size=\"14.00\">gini = 0.5</text>\n",
       "<text text-anchor=\"start\" x=\"937.25\" y=\"-107.7\" font-family=\"Helvetica,sans-Serif\" font-size=\"14.00\">samples = 822</text>\n",
       "<text text-anchor=\"start\" x=\"927.88\" y=\"-92.7\" font-family=\"Helvetica,sans-Serif\" font-size=\"14.00\">value = [410, 412]</text>\n",
       "<text text-anchor=\"start\" x=\"950\" y=\"-77.7\" font-family=\"Helvetica,sans-Serif\" font-size=\"14.00\">class = Up</text>\n",
       "</g>\n",
       "<!-- 46&#45;&gt;47 -->\n",
       "<g id=\"edge25\" class=\"edge\">\n",
       "<title>46&#45;&gt;47</title>\n",
       "<path fill=\"none\" stroke=\"black\" d=\"M981.88,-190.58C981.88,-182.79 981.88,-174.53 981.88,-166.45\"/>\n",
       "<polygon fill=\"black\" stroke=\"black\" points=\"985.38,-166.71 981.88,-156.71 978.38,-166.71 985.38,-166.71\"/>\n",
       "</g>\n",
       "<!-- 54 -->\n",
       "<g id=\"node29\" class=\"node\">\n",
       "<title>54</title>\n",
       "<path fill=\"#95cbf1\" stroke=\"black\" d=\"M1181.62,-155C1181.62,-155 1074.12,-155 1074.12,-155 1068.12,-155 1062.12,-149 1062.12,-143 1062.12,-143 1062.12,-84 1062.12,-84 1062.12,-78 1068.12,-72 1074.12,-72 1074.12,-72 1181.62,-72 1181.62,-72 1187.62,-72 1193.62,-78 1193.62,-84 1193.62,-84 1193.62,-143 1193.62,-143 1193.62,-149 1187.62,-155 1181.62,-155\"/>\n",
       "<text text-anchor=\"start\" x=\"1086.62\" y=\"-137.7\" font-family=\"Helvetica,sans-Serif\" font-size=\"14.00\">year ≤ 2019.5</text>\n",
       "<text text-anchor=\"start\" x=\"1092.62\" y=\"-122.7\" font-family=\"Helvetica,sans-Serif\" font-size=\"14.00\">gini = 0.434</text>\n",
       "<text text-anchor=\"start\" x=\"1079.5\" y=\"-107.7\" font-family=\"Helvetica,sans-Serif\" font-size=\"14.00\">samples = 2213</text>\n",
       "<text text-anchor=\"start\" x=\"1070.12\" y=\"-92.7\" font-family=\"Helvetica,sans-Serif\" font-size=\"14.00\">value = [704, 1509]</text>\n",
       "<text text-anchor=\"start\" x=\"1096\" y=\"-77.7\" font-family=\"Helvetica,sans-Serif\" font-size=\"14.00\">class = Up</text>\n",
       "</g>\n",
       "<!-- 46&#45;&gt;54 -->\n",
       "<g id=\"edge28\" class=\"edge\">\n",
       "<title>46&#45;&gt;54</title>\n",
       "<path fill=\"none\" stroke=\"black\" d=\"M1032.94,-190.58C1044.34,-181.44 1056.53,-171.67 1068.24,-162.29\"/>\n",
       "<polygon fill=\"black\" stroke=\"black\" points=\"1070.29,-165.13 1075.91,-156.15 1065.91,-159.67 1070.29,-165.13\"/>\n",
       "</g>\n",
       "<!-- 48 -->\n",
       "<g id=\"node27\" class=\"node\">\n",
       "<title>48</title>\n",
       "<path fill=\"#c0c0c0\" stroke=\"black\" d=\"M989.88,-36C989.88,-36 959.88,-36 959.88,-36 953.88,-36 947.88,-30 947.88,-24 947.88,-24 947.88,-12 947.88,-12 947.88,-6 953.88,0 959.88,0 959.88,0 989.88,0 989.88,0 995.88,0 1001.88,-6 1001.88,-12 1001.88,-12 1001.88,-24 1001.88,-24 1001.88,-30 995.88,-36 989.88,-36\"/>\n",
       "<text text-anchor=\"middle\" x=\"974.88\" y=\"-12.2\" font-family=\"Helvetica,sans-Serif\" font-size=\"14.00\">(...)</text>\n",
       "</g>\n",
       "<!-- 47&#45;&gt;48 -->\n",
       "<g id=\"edge26\" class=\"edge\">\n",
       "<title>47&#45;&gt;48</title>\n",
       "<path fill=\"none\" stroke=\"black\" d=\"M978.83,-71.76C978.22,-63.72 977.6,-55.44 977.04,-47.89\"/>\n",
       "<polygon fill=\"black\" stroke=\"black\" points=\"980.53,-47.63 976.29,-37.91 973.55,-48.15 980.53,-47.63\"/>\n",
       "</g>\n",
       "<!-- 51 -->\n",
       "<g id=\"node28\" class=\"node\">\n",
       "<title>51</title>\n",
       "<path fill=\"#c0c0c0\" stroke=\"black\" d=\"M1061.88,-36C1061.88,-36 1031.88,-36 1031.88,-36 1025.88,-36 1019.88,-30 1019.88,-24 1019.88,-24 1019.88,-12 1019.88,-12 1019.88,-6 1025.88,0 1031.88,0 1031.88,0 1061.88,0 1061.88,0 1067.88,0 1073.88,-6 1073.88,-12 1073.88,-12 1073.88,-24 1073.88,-24 1073.88,-30 1067.88,-36 1061.88,-36\"/>\n",
       "<text text-anchor=\"middle\" x=\"1046.88\" y=\"-12.2\" font-family=\"Helvetica,sans-Serif\" font-size=\"14.00\">(...)</text>\n",
       "</g>\n",
       "<!-- 47&#45;&gt;51 -->\n",
       "<g id=\"edge27\" class=\"edge\">\n",
       "<title>47&#45;&gt;51</title>\n",
       "<path fill=\"none\" stroke=\"black\" d=\"M1010.2,-71.76C1016.33,-62.94 1022.66,-53.84 1028.3,-45.72\"/>\n",
       "<polygon fill=\"black\" stroke=\"black\" points=\"1031.08,-47.86 1033.91,-37.65 1025.33,-43.86 1031.08,-47.86\"/>\n",
       "</g>\n",
       "<!-- 55 -->\n",
       "<g id=\"node30\" class=\"node\">\n",
       "<title>55</title>\n",
       "<path fill=\"#c0c0c0\" stroke=\"black\" d=\"M1139.88,-36C1139.88,-36 1109.88,-36 1109.88,-36 1103.88,-36 1097.88,-30 1097.88,-24 1097.88,-24 1097.88,-12 1097.88,-12 1097.88,-6 1103.88,0 1109.88,0 1109.88,0 1139.88,0 1139.88,0 1145.88,0 1151.88,-6 1151.88,-12 1151.88,-12 1151.88,-24 1151.88,-24 1151.88,-30 1145.88,-36 1139.88,-36\"/>\n",
       "<text text-anchor=\"middle\" x=\"1124.88\" y=\"-12.2\" font-family=\"Helvetica,sans-Serif\" font-size=\"14.00\">(...)</text>\n",
       "</g>\n",
       "<!-- 54&#45;&gt;55 -->\n",
       "<g id=\"edge29\" class=\"edge\">\n",
       "<title>54&#45;&gt;55</title>\n",
       "<path fill=\"none\" stroke=\"black\" d=\"M1126.57,-71.76C1126.31,-63.72 1126.04,-55.44 1125.8,-47.89\"/>\n",
       "<polygon fill=\"black\" stroke=\"black\" points=\"1129.3,-47.8 1125.48,-37.92 1122.3,-48.02 1129.3,-47.8\"/>\n",
       "</g>\n",
       "<!-- 58 -->\n",
       "<g id=\"node31\" class=\"node\">\n",
       "<title>58</title>\n",
       "<path fill=\"#c0c0c0\" stroke=\"black\" d=\"M1211.88,-36C1211.88,-36 1181.88,-36 1181.88,-36 1175.88,-36 1169.88,-30 1169.88,-24 1169.88,-24 1169.88,-12 1169.88,-12 1169.88,-6 1175.88,0 1181.88,0 1181.88,0 1211.88,0 1211.88,0 1217.88,0 1223.88,-6 1223.88,-12 1223.88,-12 1223.88,-24 1223.88,-24 1223.88,-30 1217.88,-36 1211.88,-36\"/>\n",
       "<text text-anchor=\"middle\" x=\"1196.88\" y=\"-12.2\" font-family=\"Helvetica,sans-Serif\" font-size=\"14.00\">(...)</text>\n",
       "</g>\n",
       "<!-- 54&#45;&gt;58 -->\n",
       "<g id=\"edge30\" class=\"edge\">\n",
       "<title>54&#45;&gt;58</title>\n",
       "<path fill=\"none\" stroke=\"black\" d=\"M1157.94,-71.76C1164.52,-62.85 1171.31,-53.64 1177.35,-45.46\"/>\n",
       "<polygon fill=\"black\" stroke=\"black\" points=\"1180.01,-47.75 1183.13,-37.62 1174.38,-43.59 1180.01,-47.75\"/>\n",
       "</g>\n",
       "</g>\n",
       "</svg>\n"
      ],
      "text/plain": [
       "<graphviz.sources.Source at 0x168289bb0>"
      ]
     },
     "execution_count": 382,
     "metadata": {},
     "output_type": "execute_result"
    }
   ],
   "source": [
    "out_file = results_path / 'clf_tree.dot'\n",
    "dot_data = export_graphviz(clf,\n",
    "                           out_file=out_file.as_posix(),\n",
    "                           feature_names=X.columns,\n",
    "                           class_names=['Down', 'Up'],\n",
    "                           max_depth=3,\n",
    "                           filled=True,\n",
    "                           rounded=True,\n",
    "                           special_characters=True)\n",
    "if out_file is not None:\n",
    "    dot_data = Path(out_file).read_text()\n",
    "\n",
    "graphviz.Source(dot_data)"
   ]
  },
  {
   "cell_type": "markdown",
   "metadata": {},
   "source": [
    "### Evaluate Test Set"
   ]
  },
  {
   "cell_type": "markdown",
   "metadata": {},
   "source": [
    "To evaluate the predictive accuracy of our first classification tree, we will use our test set to generate predicted class probabilities. \n",
    "\n",
    "The `.predict_proba()` method produces one probability for each class. In the binary class, these probabilities are complementary and sum to 1, so we only need the value for the positive class. "
   ]
  },
  {
   "cell_type": "code",
   "execution_count": 383,
   "metadata": {
    "ExecuteTime": {
     "end_time": "2021-04-16T00:33:36.270863Z",
     "start_time": "2021-04-16T00:33:36.262990Z"
    }
   },
   "outputs": [],
   "source": [
    "y_score = clf.predict_proba(X=X_test)[:, 1]"
   ]
  },
  {
   "cell_type": "markdown",
   "metadata": {},
   "source": [
    "To evaluate the generalization error, we will use the area under the curve based on the receiver-operating characteristic. The result indicates a significant improvement above and beyond the baseline value of 0.5 for a random prediction:"
   ]
  },
  {
   "cell_type": "code",
   "execution_count": 384,
   "metadata": {
    "ExecuteTime": {
     "end_time": "2021-04-16T00:33:36.283613Z",
     "start_time": "2021-04-16T00:33:36.272140Z"
    }
   },
   "outputs": [
    {
     "data": {
      "text/plain": [
       "0.7200461146356669"
      ]
     },
     "execution_count": 384,
     "metadata": {},
     "output_type": "execute_result"
    }
   ],
   "source": [
    "roc_auc_score(y_score=y_score, y_true=y_test)"
   ]
  },
  {
   "cell_type": "markdown",
   "metadata": {},
   "source": [
    "### Print Decision Path"
   ]
  },
  {
   "cell_type": "markdown",
   "metadata": {},
   "source": [
    "Inspired by https://stackoverflow.com/questions/20224526/how-to-extract-the-decision-rules-from-scikit-learn-decision-tree"
   ]
  },
  {
   "cell_type": "code",
   "execution_count": 385,
   "metadata": {
    "ExecuteTime": {
     "end_time": "2021-04-16T00:33:36.294116Z",
     "start_time": "2021-04-16T00:33:36.284877Z"
    }
   },
   "outputs": [
    {
     "name": "stdout",
     "output_type": "stream",
     "text": [
      "Help on class Tree in module sklearn.tree._tree:\n",
      "\n",
      "class Tree(builtins.object)\n",
      " |  Array-based representation of a binary decision tree.\n",
      " |  \n",
      " |  The binary tree is represented as a number of parallel arrays. The i-th\n",
      " |  element of each array holds information about the node `i`. Node 0 is the\n",
      " |  tree's root. You can find a detailed description of all arrays in\n",
      " |  `_tree.pxd`. NOTE: Some of the arrays only apply to either leaves or split\n",
      " |  nodes, resp. In this case the values of nodes of the other type are\n",
      " |  arbitrary!\n",
      " |  \n",
      " |  Attributes\n",
      " |  ----------\n",
      " |  node_count : int\n",
      " |      The number of nodes (internal nodes + leaves) in the tree.\n",
      " |  \n",
      " |  capacity : int\n",
      " |      The current capacity (i.e., size) of the arrays, which is at least as\n",
      " |      great as `node_count`.\n",
      " |  \n",
      " |  max_depth : int\n",
      " |      The depth of the tree, i.e. the maximum depth of its leaves.\n",
      " |  \n",
      " |  children_left : array of int, shape [node_count]\n",
      " |      children_left[i] holds the node id of the left child of node i.\n",
      " |      For leaves, children_left[i] == TREE_LEAF. Otherwise,\n",
      " |      children_left[i] > i. This child handles the case where\n",
      " |      X[:, feature[i]] <= threshold[i].\n",
      " |  \n",
      " |  children_right : array of int, shape [node_count]\n",
      " |      children_right[i] holds the node id of the right child of node i.\n",
      " |      For leaves, children_right[i] == TREE_LEAF. Otherwise,\n",
      " |      children_right[i] > i. This child handles the case where\n",
      " |      X[:, feature[i]] > threshold[i].\n",
      " |  \n",
      " |  n_leaves : int\n",
      " |      Number of leaves in the tree.\n",
      " |  \n",
      " |  feature : array of int, shape [node_count]\n",
      " |      feature[i] holds the feature to split on, for the internal node i.\n",
      " |  \n",
      " |  threshold : array of double, shape [node_count]\n",
      " |      threshold[i] holds the threshold for the internal node i.\n",
      " |  \n",
      " |  value : array of double, shape [node_count, n_outputs, max_n_classes]\n",
      " |      Contains the constant prediction value of each node.\n",
      " |  \n",
      " |  impurity : array of double, shape [node_count]\n",
      " |      impurity[i] holds the impurity (i.e., the value of the splitting\n",
      " |      criterion) at node i.\n",
      " |  \n",
      " |  n_node_samples : array of int, shape [node_count]\n",
      " |      n_node_samples[i] holds the number of training samples reaching node i.\n",
      " |  \n",
      " |  weighted_n_node_samples : array of double, shape [node_count]\n",
      " |      weighted_n_node_samples[i] holds the weighted number of training samples\n",
      " |      reaching node i.\n",
      " |  \n",
      " |  missing_go_to_left : array of bool, shape [node_count]\n",
      " |      missing_go_to_left[i] holds a bool indicating whether or not there were\n",
      " |      missing values at node i.\n",
      " |  \n",
      " |  Methods defined here:\n",
      " |  \n",
      " |  __getstate__(...)\n",
      " |      Getstate re-implementation, for pickling.\n",
      " |  \n",
      " |  __reduce__(...)\n",
      " |      Reduce re-implementation, for pickling.\n",
      " |  \n",
      " |  __setstate__(...)\n",
      " |      Setstate re-implementation, for unpickling.\n",
      " |  \n",
      " |  apply(...)\n",
      " |      Finds the terminal region (=leaf node) for each sample in X.\n",
      " |  \n",
      " |  compute_feature_importances(...)\n",
      " |      Computes the importance of each feature (aka variable).\n",
      " |  \n",
      " |  compute_node_depths(...)\n",
      " |      Compute the depth of each node in a tree.\n",
      " |      \n",
      " |      .. versionadded:: 1.3\n",
      " |      \n",
      " |      Returns\n",
      " |      -------\n",
      " |      depths : ndarray of shape (self.node_count,), dtype=np.int64\n",
      " |          The depth of each node in the tree.\n",
      " |  \n",
      " |  compute_partial_dependence(...)\n",
      " |      Partial dependence of the response on the ``target_feature`` set.\n",
      " |      \n",
      " |      For each sample in ``X`` a tree traversal is performed.\n",
      " |      Each traversal starts from the root with weight 1.0.\n",
      " |      \n",
      " |      At each non-leaf node that splits on a target feature, either\n",
      " |      the left child or the right child is visited based on the feature\n",
      " |      value of the current sample, and the weight is not modified.\n",
      " |      At each non-leaf node that splits on a complementary feature,\n",
      " |      both children are visited and the weight is multiplied by the fraction\n",
      " |      of training samples which went to each child.\n",
      " |      \n",
      " |      At each leaf, the value of the node is multiplied by the current\n",
      " |      weight (weights sum to 1 for all visited terminal nodes).\n",
      " |      \n",
      " |      Parameters\n",
      " |      ----------\n",
      " |      X : view on 2d ndarray, shape (n_samples, n_target_features)\n",
      " |          The grid points on which the partial dependence should be\n",
      " |          evaluated.\n",
      " |      target_features : view on 1d ndarray, shape (n_target_features)\n",
      " |          The set of target features for which the partial dependence\n",
      " |          should be evaluated.\n",
      " |      out : view on 1d ndarray, shape (n_samples)\n",
      " |          The value of the partial dependence function on each grid\n",
      " |          point.\n",
      " |  \n",
      " |  decision_path(...)\n",
      " |      Finds the decision path (=node) for each sample in X.\n",
      " |  \n",
      " |  predict(...)\n",
      " |      Predict target for X.\n",
      " |  \n",
      " |  ----------------------------------------------------------------------\n",
      " |  Static methods defined here:\n",
      " |  \n",
      " |  __new__(*args, **kwargs) from builtins.type\n",
      " |      Create and return a new object.  See help(type) for accurate signature.\n",
      " |  \n",
      " |  ----------------------------------------------------------------------\n",
      " |  Data descriptors defined here:\n",
      " |  \n",
      " |  capacity\n",
      " |  \n",
      " |  children_left\n",
      " |  \n",
      " |  children_right\n",
      " |  \n",
      " |  feature\n",
      " |  \n",
      " |  impurity\n",
      " |  \n",
      " |  max_depth\n",
      " |  \n",
      " |  max_n_classes\n",
      " |  \n",
      " |  missing_go_to_left\n",
      " |  \n",
      " |  n_classes\n",
      " |  \n",
      " |  n_features\n",
      " |  \n",
      " |  n_leaves\n",
      " |  \n",
      " |  n_node_samples\n",
      " |  \n",
      " |  n_outputs\n",
      " |  \n",
      " |  node_count\n",
      " |  \n",
      " |  threshold\n",
      " |  \n",
      " |  value\n",
      " |  \n",
      " |  weighted_n_node_samples\n",
      " |  \n",
      " |  ----------------------------------------------------------------------\n",
      " |  Data and other attributes defined here:\n",
      " |  \n",
      " |  __pyx_vtable__ = <capsule object NULL>\n",
      "\n"
     ]
    }
   ],
   "source": [
    "from sklearn.tree._tree import Tree\n",
    "help(Tree)"
   ]
  },
  {
   "cell_type": "code",
   "execution_count": 386,
   "metadata": {
    "ExecuteTime": {
     "end_time": "2021-04-16T00:33:36.302800Z",
     "start_time": "2021-04-16T00:33:36.295041Z"
    }
   },
   "outputs": [],
   "source": [
    "def tree_to_code(tree, feature_names):\n",
    "    if isinstance(tree, DecisionTreeClassifier):\n",
    "        model = 'clf'\n",
    "    elif isinstance(tree, DecisionTreeRegressor):\n",
    "        model = 'reg'\n",
    "    else:\n",
    "        raise ValueError('Need Regression or Classification Tree')\n",
    "        \n",
    "    tree_ = tree.tree_\n",
    "    feature_name = [\n",
    "        feature_names[i] if i != _tree.TREE_UNDEFINED else \"undefined!\"\n",
    "        for i in tree_.feature\n",
    "    ]\n",
    "    print(\"def tree({}):\".format(\", \".join(feature_names)))\n",
    "\n",
    "    def recurse(node, depth):\n",
    "        indent = \"  \" * depth\n",
    "        if tree_.feature[node] != _tree.TREE_UNDEFINED:\n",
    "            name = feature_name[node]\n",
    "            threshold = tree_.threshold[node]\n",
    "            print(indent, f'if {name} <= {threshold:.2%}')\n",
    "            recurse(tree_.children_left[node], depth + 1)\n",
    "            print(indent, f'else:  # if {name} > {threshold:.2%}')\n",
    "            recurse(tree_.children_right[node], depth + 1)\n",
    "        else:\n",
    "            pred = tree_.value[node][0]\n",
    "            val = pred[1]/sum(pred) if model == 'clf' else pred[0]\n",
    "            print(indent, f'return {val:.2%}')\n",
    "    recurse(0, 1)"
   ]
  },
  {
   "cell_type": "code",
   "execution_count": 387,
   "metadata": {
    "ExecuteTime": {
     "end_time": "2021-04-16T00:33:36.322605Z",
     "start_time": "2021-04-16T00:33:36.304005Z"
    }
   },
   "outputs": [
    {
     "name": "stdout",
     "output_type": "stream",
     "text": [
      "def tree(t-1, t-2):\n",
      "   if t-1 <= -25.33%\n",
      "     return 93.24%\n",
      "   else:  # if t-1 > -25.33%\n",
      "     if t-1 <= 1.13%\n",
      "       if t-1 <= -0.43%\n",
      "         if t-2 <= -2.93%\n",
      "           return 51.90%\n",
      "         else:  # if t-2 > -2.93%\n",
      "           if t-2 <= -1.62%\n",
      "             return 74.32%\n",
      "           else:  # if t-2 > -1.62%\n",
      "             return 56.29%\n",
      "       else:  # if t-1 > -0.43%\n",
      "         return 40.11%\n",
      "     else:  # if t-1 > 1.13%\n",
      "       if t-2 <= -26.53%\n",
      "         return 79.37%\n",
      "       else:  # if t-2 > -26.53%\n",
      "         if t-1 <= 2.40%\n",
      "           return 65.83%\n",
      "         else:  # if t-1 > 2.40%\n",
      "           if t-2 <= 34.23%\n",
      "             return 58.58%\n",
      "           else:  # if t-2 > 34.23%\n",
      "             return 47.50%\n"
     ]
    }
   ],
   "source": [
    "tree_to_code(clf_tree_t2, X2.columns)"
   ]
  },
  {
   "cell_type": "markdown",
   "metadata": {},
   "source": [
    "## Overfitting, Regularization & Parameter Tuning"
   ]
  },
  {
   "cell_type": "markdown",
   "metadata": {},
   "source": [
    "Decision trees have a strong tendency to overfit, especially when a dataset has a large number of features relative to the number of samples. Overfitting increases the prediction error because the model does not only learn the signal contained in the training data, but also the noise.\n",
    "There are several ways to address the risk of overfitting."
   ]
  },
  {
   "cell_type": "markdown",
   "metadata": {},
   "source": [
    "Decision trees provide several regularization hyperparameters to limit the growth of a tree and the associated complexity. While every split increases the number of nodes, it also reduces the number of samples available per node to support a prediction. For each additional level, twice the number of samples is needed to populate the new nodes with the same sample density. "
   ]
  },
  {
   "cell_type": "markdown",
   "metadata": {},
   "source": [
    "### Decision Tree Parameters"
   ]
  },
  {
   "cell_type": "markdown",
   "metadata": {},
   "source": [
    "The following table lists key parameters available for this purpose in the sklearn decision tree implementation. After introducing the most important parameters, we will illustrate how to use cross-validation to optimize the hyperparameter settings with respect to the bias-variance tradeoff and lower prediction errors:"
   ]
  },
  {
   "cell_type": "markdown",
   "metadata": {},
   "source": [
    "| Parameter                | Default | Options                                                                                                                                                               | Description                                                                                                                                                                                                             |\n",
    "|--------------------------|---------|-----------------------------------------------------------------------------------------------------------------------------------------------------------------------|-------------------------------------------------------------------------------------------------------------------------------------------------------------------------------------------------------------------------|\n",
    "| criterion                | gini    | Regression: MSE, MAE Classification: Gini impurity, Cross Entropy                                                                                                     | Metric to evaluate split quality.                                                                                                                                                                                       |\n",
    "| splitter                 | best    | best, random                                                                                                                                                          | How to choose the split at each node. Supported strategies are “best” to choose the best split and “random” to choose the best random split.                                                                            |\n",
    "| max_depth                | None    | int                                                                                                                                                                   | Max # of levels in tree. Split nodes until max_depth is reached or all leaves are pure or all leaves contain less than min_samples_split samples.                                                                       |\n",
    "| max_features             | None    | None: max_features=n_features; int; float (fraction): int(max_features * n_features)  auto, sqrt: max_features=sqrt(n_features). log2: max_features=log2(n_features). | # of features to consider when evaluating split                                                                                                                                                                         |\n",
    "| max_leaf_nodes           | None    | None: unlimited # of leaf nodes int                                                                                                                                   | Continue to split nodes that reduce relative impurity the most until reaching max_leaf_nodes.                                                                                                                           |\n",
    "| min_impurity_decrease    | 0       | float                                                                                                                                                                 | Split node if impurity decreases by at least this value.                                                                                                                                                                |\n",
    "| min_samples_leaf         | 1       | int; float (as percentage of N)                                                                                                                                       | Minimum # of samples to be at a leaf node. A split will only be considered if there are at least min_samples_leaf training samples in each of the left and right branches. May smoothen the model, esp. for regression. |\n",
    "| min_samples_split        | 2       | int; float (as percentage of N)                                                                                                                                       | The minimum number of samples required to split an internal node:                                                                                                                                                       |\n",
    "| min_weight_fraction_leaf | 0       | NA                                                                                                                                                                    | The minimum weighted fraction of the sum total of weights (of all the input samples) required to be at a leaf node. Samples have equal weight when sample_weight is not provided (in fit method).                       |\n",
    "| class_weight             | None    | balanced: inversely proportional to class frequencies dict: {class_label: weight} list of dicts (for multi-output)                                                    | Weights associated with classes                                                                                                                                                                                         |"
   ]
  },
  {
   "cell_type": "markdown",
   "metadata": {},
   "source": [
    "The `max_depth` parameter imposes a hard limit on the number of consecutive splits and represents the most straightforward way to cap the growth of a tree.\n",
    "\n",
    "The m`in_samples_split` and `min_samples_leaf` parameters are alternative, data-driven ways to limit the growth of a tree. Rather than imposing a hard limit on the number of consecutive splits, these parameters control the minimum number of samples required to further split the data. The latter guarantees a certain number of samples per leaf, while the former can create very small leaves if a split results in a very uneven distribution. Small parameter values facilitate overfitting, while a high number may prevent the tree from learning the signal in the data. \n",
    "\n",
    "The default values are often quite low, and you should use cross-validation to explore a range of potential values. You can also use a float to indicate a percentage as opposed to an absolute number. "
   ]
  },
  {
   "cell_type": "markdown",
   "metadata": {},
   "source": [
    "### Cross-validation parameters"
   ]
  },
  {
   "cell_type": "code",
   "execution_count": 413,
   "metadata": {
    "ExecuteTime": {
     "end_time": "2021-04-16T00:33:36.328359Z",
     "start_time": "2021-04-16T00:33:36.323742Z"
    }
   },
   "outputs": [],
   "source": [
    "n_splits = 5\n",
    "train_period_length = 60\n",
    "test_period_length = 6\n",
    "lookahead = 1\n",
    "\n",
    "cv = MultipleTimeSeriesCV(n_splits=n_splits,\n",
    "                          train_period_length=train_period_length,\n",
    "                          test_period_length=test_period_length,\n",
    "                          lookahead=lookahead)"
   ]
  },
  {
   "cell_type": "code",
   "execution_count": 414,
   "metadata": {
    "ExecuteTime": {
     "end_time": "2021-04-16T00:33:36.334074Z",
     "start_time": "2021-04-16T00:33:36.329663Z"
    }
   },
   "outputs": [],
   "source": [
    "max_depths = range(1, 16)"
   ]
  },
  {
   "cell_type": "markdown",
   "metadata": {},
   "source": [
    "### Finding the best trees using GridSearchCV"
   ]
  },
  {
   "cell_type": "markdown",
   "metadata": {},
   "source": [
    "scikit-learn provides a method to define ranges of values for multiple hyperparameters. It automates the process of cross-validating the various combinations of these parameter values to identify the optimal configuration. Let's walk through the process of automatically tuning your model."
   ]
  },
  {
   "cell_type": "markdown",
   "metadata": {},
   "source": [
    "#### Define parameter grid"
   ]
  },
  {
   "cell_type": "markdown",
   "metadata": {},
   "source": [
    "The first step is to define a dictionary where the keywords name the hyperparameters, and the values list the parameter settings to be tested:"
   ]
  },
  {
   "cell_type": "code",
   "execution_count": 415,
   "metadata": {
    "ExecuteTime": {
     "end_time": "2021-04-16T00:33:36.346973Z",
     "start_time": "2021-04-16T00:33:36.335032Z"
    }
   },
   "outputs": [],
   "source": [
    "param_grid = {'max_depth': [2, 3, 4, 5, 6, 7, 8, 10, 12, 15],\n",
    "              'min_samples_leaf': [5, 25, 50, 100],\n",
    "              'max_features': ['sqrt', 'auto']}"
   ]
  },
  {
   "cell_type": "markdown",
   "metadata": {},
   "source": [
    "#### Classification Tree"
   ]
  },
  {
   "cell_type": "markdown",
   "metadata": {},
   "source": [
    "Then, we instantiate a model object:"
   ]
  },
  {
   "cell_type": "code",
   "execution_count": 416,
   "metadata": {
    "ExecuteTime": {
     "end_time": "2021-04-16T00:33:36.354743Z",
     "start_time": "2021-04-16T00:33:36.348117Z"
    }
   },
   "outputs": [],
   "source": [
    "clf = DecisionTreeClassifier(random_state=42)"
   ]
  },
  {
   "cell_type": "markdown",
   "metadata": {},
   "source": [
    "Now we instantiate the GridSearchCV object, providing the estimator object and parameter grid, as well as a scoring method and cross-validation choice to the initialization method. We'll use an object of our custom OneStepTimeSeriesSplit class, initialized to use ten folds for the cv parameter, and set the scoring to the roc_auc metric. We can parallelize the search using the n_jobs parameter and automatically obtain a trained model that uses the optimal hyperparameters by setting `refit=True`."
   ]
  },
  {
   "cell_type": "code",
   "execution_count": 417,
   "metadata": {
    "ExecuteTime": {
     "end_time": "2021-04-16T00:33:36.363000Z",
     "start_time": "2021-04-16T00:33:36.355848Z"
    }
   },
   "outputs": [],
   "source": [
    "gridsearch_clf = GridSearchCV(estimator=clf,\n",
    "                          param_grid=param_grid,\n",
    "                          scoring='roc_auc',\n",
    "                          n_jobs=-1,\n",
    "                          cv=cv,\n",
    "                          refit=True,\n",
    "                          return_train_score=True)"
   ]
  },
  {
   "cell_type": "markdown",
   "metadata": {},
   "source": [
    "With all settings in place, we can fit GridSearchCV just like any other model:"
   ]
  },
  {
   "cell_type": "code",
   "execution_count": 418,
   "metadata": {
    "ExecuteTime": {
     "end_time": "2021-04-16T00:33:53.853282Z",
     "start_time": "2021-04-16T00:33:36.364001Z"
    }
   },
   "outputs": [
    {
     "data": {
      "text/html": [
       "<style>#sk-container-id-33 {color: black;}#sk-container-id-33 pre{padding: 0;}#sk-container-id-33 div.sk-toggleable {background-color: white;}#sk-container-id-33 label.sk-toggleable__label {cursor: pointer;display: block;width: 100%;margin-bottom: 0;padding: 0.3em;box-sizing: border-box;text-align: center;}#sk-container-id-33 label.sk-toggleable__label-arrow:before {content: \"▸\";float: left;margin-right: 0.25em;color: #696969;}#sk-container-id-33 label.sk-toggleable__label-arrow:hover:before {color: black;}#sk-container-id-33 div.sk-estimator:hover label.sk-toggleable__label-arrow:before {color: black;}#sk-container-id-33 div.sk-toggleable__content {max-height: 0;max-width: 0;overflow: hidden;text-align: left;background-color: #f0f8ff;}#sk-container-id-33 div.sk-toggleable__content pre {margin: 0.2em;color: black;border-radius: 0.25em;background-color: #f0f8ff;}#sk-container-id-33 input.sk-toggleable__control:checked~div.sk-toggleable__content {max-height: 200px;max-width: 100%;overflow: auto;}#sk-container-id-33 input.sk-toggleable__control:checked~label.sk-toggleable__label-arrow:before {content: \"▾\";}#sk-container-id-33 div.sk-estimator input.sk-toggleable__control:checked~label.sk-toggleable__label {background-color: #d4ebff;}#sk-container-id-33 div.sk-label input.sk-toggleable__control:checked~label.sk-toggleable__label {background-color: #d4ebff;}#sk-container-id-33 input.sk-hidden--visually {border: 0;clip: rect(1px 1px 1px 1px);clip: rect(1px, 1px, 1px, 1px);height: 1px;margin: -1px;overflow: hidden;padding: 0;position: absolute;width: 1px;}#sk-container-id-33 div.sk-estimator {font-family: monospace;background-color: #f0f8ff;border: 1px dotted black;border-radius: 0.25em;box-sizing: border-box;margin-bottom: 0.5em;}#sk-container-id-33 div.sk-estimator:hover {background-color: #d4ebff;}#sk-container-id-33 div.sk-parallel-item::after {content: \"\";width: 100%;border-bottom: 1px solid gray;flex-grow: 1;}#sk-container-id-33 div.sk-label:hover label.sk-toggleable__label {background-color: #d4ebff;}#sk-container-id-33 div.sk-serial::before {content: \"\";position: absolute;border-left: 1px solid gray;box-sizing: border-box;top: 0;bottom: 0;left: 50%;z-index: 0;}#sk-container-id-33 div.sk-serial {display: flex;flex-direction: column;align-items: center;background-color: white;padding-right: 0.2em;padding-left: 0.2em;position: relative;}#sk-container-id-33 div.sk-item {position: relative;z-index: 1;}#sk-container-id-33 div.sk-parallel {display: flex;align-items: stretch;justify-content: center;background-color: white;position: relative;}#sk-container-id-33 div.sk-item::before, #sk-container-id-33 div.sk-parallel-item::before {content: \"\";position: absolute;border-left: 1px solid gray;box-sizing: border-box;top: 0;bottom: 0;left: 50%;z-index: -1;}#sk-container-id-33 div.sk-parallel-item {display: flex;flex-direction: column;z-index: 1;position: relative;background-color: white;}#sk-container-id-33 div.sk-parallel-item:first-child::after {align-self: flex-end;width: 50%;}#sk-container-id-33 div.sk-parallel-item:last-child::after {align-self: flex-start;width: 50%;}#sk-container-id-33 div.sk-parallel-item:only-child::after {width: 0;}#sk-container-id-33 div.sk-dashed-wrapped {border: 1px dashed gray;margin: 0 0.4em 0.5em 0.4em;box-sizing: border-box;padding-bottom: 0.4em;background-color: white;}#sk-container-id-33 div.sk-label label {font-family: monospace;font-weight: bold;display: inline-block;line-height: 1.2em;}#sk-container-id-33 div.sk-label-container {text-align: center;}#sk-container-id-33 div.sk-container {/* jupyter's `normalize.less` sets `[hidden] { display: none; }` but bootstrap.min.css set `[hidden] { display: none !important; }` so we also need the `!important` here to be able to override the default hidden behavior on the sphinx rendered scikit-learn.org. See: https://github.com/scikit-learn/scikit-learn/issues/21755 */display: inline-block !important;position: relative;}#sk-container-id-33 div.sk-text-repr-fallback {display: none;}</style><div id=\"sk-container-id-33\" class=\"sk-top-container\"><div class=\"sk-text-repr-fallback\"><pre>GridSearchCV(cv=&lt;utils.MultipleTimeSeriesCV object at 0x1680ec8b0&gt;,\n",
       "             estimator=DecisionTreeClassifier(random_state=42), n_jobs=-1,\n",
       "             param_grid={&#x27;max_depth&#x27;: [2, 3, 4, 5, 6, 7, 8, 10, 12, 15],\n",
       "                         &#x27;max_features&#x27;: [&#x27;sqrt&#x27;, &#x27;auto&#x27;],\n",
       "                         &#x27;min_samples_leaf&#x27;: [5, 25, 50, 100]},\n",
       "             return_train_score=True, scoring=&#x27;roc_auc&#x27;)</pre><b>In a Jupyter environment, please rerun this cell to show the HTML representation or trust the notebook. <br />On GitHub, the HTML representation is unable to render, please try loading this page with nbviewer.org.</b></div><div class=\"sk-container\" hidden><div class=\"sk-item sk-dashed-wrapped\"><div class=\"sk-label-container\"><div class=\"sk-label sk-toggleable\"><input class=\"sk-toggleable__control sk-hidden--visually\" id=\"sk-estimator-id-37\" type=\"checkbox\" ><label for=\"sk-estimator-id-37\" class=\"sk-toggleable__label sk-toggleable__label-arrow\">GridSearchCV</label><div class=\"sk-toggleable__content\"><pre>GridSearchCV(cv=&lt;utils.MultipleTimeSeriesCV object at 0x1680ec8b0&gt;,\n",
       "             estimator=DecisionTreeClassifier(random_state=42), n_jobs=-1,\n",
       "             param_grid={&#x27;max_depth&#x27;: [2, 3, 4, 5, 6, 7, 8, 10, 12, 15],\n",
       "                         &#x27;max_features&#x27;: [&#x27;sqrt&#x27;, &#x27;auto&#x27;],\n",
       "                         &#x27;min_samples_leaf&#x27;: [5, 25, 50, 100]},\n",
       "             return_train_score=True, scoring=&#x27;roc_auc&#x27;)</pre></div></div></div><div class=\"sk-parallel\"><div class=\"sk-parallel-item\"><div class=\"sk-item\"><div class=\"sk-label-container\"><div class=\"sk-label sk-toggleable\"><input class=\"sk-toggleable__control sk-hidden--visually\" id=\"sk-estimator-id-38\" type=\"checkbox\" ><label for=\"sk-estimator-id-38\" class=\"sk-toggleable__label sk-toggleable__label-arrow\">estimator: DecisionTreeClassifier</label><div class=\"sk-toggleable__content\"><pre>DecisionTreeClassifier(random_state=42)</pre></div></div></div><div class=\"sk-serial\"><div class=\"sk-item\"><div class=\"sk-estimator sk-toggleable\"><input class=\"sk-toggleable__control sk-hidden--visually\" id=\"sk-estimator-id-39\" type=\"checkbox\" ><label for=\"sk-estimator-id-39\" class=\"sk-toggleable__label sk-toggleable__label-arrow\">DecisionTreeClassifier</label><div class=\"sk-toggleable__content\"><pre>DecisionTreeClassifier(random_state=42)</pre></div></div></div></div></div></div></div></div></div></div>"
      ],
      "text/plain": [
       "GridSearchCV(cv=<utils.MultipleTimeSeriesCV object at 0x1680ec8b0>,\n",
       "             estimator=DecisionTreeClassifier(random_state=42), n_jobs=-1,\n",
       "             param_grid={'max_depth': [2, 3, 4, 5, 6, 7, 8, 10, 12, 15],\n",
       "                         'max_features': ['sqrt', 'auto'],\n",
       "                         'min_samples_leaf': [5, 25, 50, 100]},\n",
       "             return_train_score=True, scoring='roc_auc')"
      ]
     },
     "execution_count": 418,
     "metadata": {},
     "output_type": "execute_result"
    }
   ],
   "source": [
    "gridsearch_clf.fit(X=X, y=y_binary)"
   ]
  },
  {
   "cell_type": "markdown",
   "metadata": {},
   "source": [
    "The training process produces some new attributes for our GridSearchCV object, most importantly the information about the optimal settings and the best cross-validation score (now using the proper setup that avoids lookahead bias).\n",
    "\n",
    "Setting `max_depth` to 10, `min_samples_leaf` to 750, and randomly selecting only a number corresponding to the square root of the total number of features when deciding on a split, produces the best results, with an AUC of 0.532:"
   ]
  },
  {
   "cell_type": "code",
   "execution_count": 419,
   "metadata": {
    "ExecuteTime": {
     "end_time": "2021-04-16T00:33:53.857480Z",
     "start_time": "2021-04-16T00:33:53.854544Z"
    }
   },
   "outputs": [
    {
     "data": {
      "text/plain": [
       "{'max_depth': 10, 'max_features': 'sqrt', 'min_samples_leaf': 50}"
      ]
     },
     "execution_count": 419,
     "metadata": {},
     "output_type": "execute_result"
    }
   ],
   "source": [
    "gridsearch_clf.best_params_"
   ]
  },
  {
   "cell_type": "code",
   "execution_count": 420,
   "metadata": {
    "ExecuteTime": {
     "end_time": "2021-04-16T00:33:53.871480Z",
     "start_time": "2021-04-16T00:33:53.858438Z"
    }
   },
   "outputs": [
    {
     "data": {
      "text/plain": [
       "0.6212219746922709"
      ]
     },
     "execution_count": 420,
     "metadata": {},
     "output_type": "execute_result"
    }
   ],
   "source": [
    "gridsearch_clf.best_score_"
   ]
  },
  {
   "cell_type": "markdown",
   "metadata": {},
   "source": [
    "#### Define Custom IC score"
   ]
  },
  {
   "cell_type": "code",
   "execution_count": 421,
   "metadata": {
    "ExecuteTime": {
     "end_time": "2021-04-16T00:33:53.880255Z",
     "start_time": "2021-04-16T00:33:53.872541Z"
    }
   },
   "outputs": [],
   "source": [
    "def rank_correl(y, y_pred):\n",
    "    return spearmanr(y, y_pred)[0]\n",
    "ic = make_scorer(rank_correl)"
   ]
  },
  {
   "cell_type": "markdown",
   "metadata": {},
   "source": [
    "#### Regression Tree"
   ]
  },
  {
   "cell_type": "code",
   "execution_count": 422,
   "metadata": {
    "ExecuteTime": {
     "end_time": "2021-04-16T00:33:53.888614Z",
     "start_time": "2021-04-16T00:33:53.881766Z"
    }
   },
   "outputs": [],
   "source": [
    "reg_tree = DecisionTreeRegressor(random_state=42)"
   ]
  },
  {
   "cell_type": "code",
   "execution_count": 423,
   "metadata": {
    "ExecuteTime": {
     "end_time": "2021-04-16T00:33:53.896846Z",
     "start_time": "2021-04-16T00:33:53.889580Z"
    }
   },
   "outputs": [],
   "source": [
    "gridsearch_reg = GridSearchCV(estimator=reg_tree,\n",
    "                              param_grid=param_grid,\n",
    "                              scoring=ic,\n",
    "                              n_jobs=-1,\n",
    "                              cv=cv,\n",
    "                              refit=True,\n",
    "                              return_train_score=True)"
   ]
  },
  {
   "cell_type": "code",
   "execution_count": 424,
   "metadata": {
    "ExecuteTime": {
     "end_time": "2021-04-16T00:34:33.328283Z",
     "start_time": "2021-04-16T00:33:53.897801Z"
    }
   },
   "outputs": [
    {
     "name": "stderr",
     "output_type": "stream",
     "text": [
      "/Users/tomas/miniforge3/envs/ml4t/lib/python3.8/site-packages/scipy/stats/_stats_py.py:4916: ConstantInputWarning: An input array is constant; the correlation coefficient is not defined.\n",
      "  warnings.warn(stats.ConstantInputWarning(warn_msg))\n",
      "/Users/tomas/miniforge3/envs/ml4t/lib/python3.8/site-packages/scipy/stats/_stats_py.py:4916: ConstantInputWarning: An input array is constant; the correlation coefficient is not defined.\n",
      "  warnings.warn(stats.ConstantInputWarning(warn_msg))\n",
      "/Users/tomas/miniforge3/envs/ml4t/lib/python3.8/site-packages/scipy/stats/_stats_py.py:4916: ConstantInputWarning: An input array is constant; the correlation coefficient is not defined.\n",
      "  warnings.warn(stats.ConstantInputWarning(warn_msg))\n"
     ]
    },
    {
     "data": {
      "text/html": [
       "<style>#sk-container-id-34 {color: black;}#sk-container-id-34 pre{padding: 0;}#sk-container-id-34 div.sk-toggleable {background-color: white;}#sk-container-id-34 label.sk-toggleable__label {cursor: pointer;display: block;width: 100%;margin-bottom: 0;padding: 0.3em;box-sizing: border-box;text-align: center;}#sk-container-id-34 label.sk-toggleable__label-arrow:before {content: \"▸\";float: left;margin-right: 0.25em;color: #696969;}#sk-container-id-34 label.sk-toggleable__label-arrow:hover:before {color: black;}#sk-container-id-34 div.sk-estimator:hover label.sk-toggleable__label-arrow:before {color: black;}#sk-container-id-34 div.sk-toggleable__content {max-height: 0;max-width: 0;overflow: hidden;text-align: left;background-color: #f0f8ff;}#sk-container-id-34 div.sk-toggleable__content pre {margin: 0.2em;color: black;border-radius: 0.25em;background-color: #f0f8ff;}#sk-container-id-34 input.sk-toggleable__control:checked~div.sk-toggleable__content {max-height: 200px;max-width: 100%;overflow: auto;}#sk-container-id-34 input.sk-toggleable__control:checked~label.sk-toggleable__label-arrow:before {content: \"▾\";}#sk-container-id-34 div.sk-estimator input.sk-toggleable__control:checked~label.sk-toggleable__label {background-color: #d4ebff;}#sk-container-id-34 div.sk-label input.sk-toggleable__control:checked~label.sk-toggleable__label {background-color: #d4ebff;}#sk-container-id-34 input.sk-hidden--visually {border: 0;clip: rect(1px 1px 1px 1px);clip: rect(1px, 1px, 1px, 1px);height: 1px;margin: -1px;overflow: hidden;padding: 0;position: absolute;width: 1px;}#sk-container-id-34 div.sk-estimator {font-family: monospace;background-color: #f0f8ff;border: 1px dotted black;border-radius: 0.25em;box-sizing: border-box;margin-bottom: 0.5em;}#sk-container-id-34 div.sk-estimator:hover {background-color: #d4ebff;}#sk-container-id-34 div.sk-parallel-item::after {content: \"\";width: 100%;border-bottom: 1px solid gray;flex-grow: 1;}#sk-container-id-34 div.sk-label:hover label.sk-toggleable__label {background-color: #d4ebff;}#sk-container-id-34 div.sk-serial::before {content: \"\";position: absolute;border-left: 1px solid gray;box-sizing: border-box;top: 0;bottom: 0;left: 50%;z-index: 0;}#sk-container-id-34 div.sk-serial {display: flex;flex-direction: column;align-items: center;background-color: white;padding-right: 0.2em;padding-left: 0.2em;position: relative;}#sk-container-id-34 div.sk-item {position: relative;z-index: 1;}#sk-container-id-34 div.sk-parallel {display: flex;align-items: stretch;justify-content: center;background-color: white;position: relative;}#sk-container-id-34 div.sk-item::before, #sk-container-id-34 div.sk-parallel-item::before {content: \"\";position: absolute;border-left: 1px solid gray;box-sizing: border-box;top: 0;bottom: 0;left: 50%;z-index: -1;}#sk-container-id-34 div.sk-parallel-item {display: flex;flex-direction: column;z-index: 1;position: relative;background-color: white;}#sk-container-id-34 div.sk-parallel-item:first-child::after {align-self: flex-end;width: 50%;}#sk-container-id-34 div.sk-parallel-item:last-child::after {align-self: flex-start;width: 50%;}#sk-container-id-34 div.sk-parallel-item:only-child::after {width: 0;}#sk-container-id-34 div.sk-dashed-wrapped {border: 1px dashed gray;margin: 0 0.4em 0.5em 0.4em;box-sizing: border-box;padding-bottom: 0.4em;background-color: white;}#sk-container-id-34 div.sk-label label {font-family: monospace;font-weight: bold;display: inline-block;line-height: 1.2em;}#sk-container-id-34 div.sk-label-container {text-align: center;}#sk-container-id-34 div.sk-container {/* jupyter's `normalize.less` sets `[hidden] { display: none; }` but bootstrap.min.css set `[hidden] { display: none !important; }` so we also need the `!important` here to be able to override the default hidden behavior on the sphinx rendered scikit-learn.org. See: https://github.com/scikit-learn/scikit-learn/issues/21755 */display: inline-block !important;position: relative;}#sk-container-id-34 div.sk-text-repr-fallback {display: none;}</style><div id=\"sk-container-id-34\" class=\"sk-top-container\"><div class=\"sk-text-repr-fallback\"><pre>GridSearchCV(cv=&lt;utils.MultipleTimeSeriesCV object at 0x1680ec8b0&gt;,\n",
       "             estimator=DecisionTreeRegressor(random_state=42), n_jobs=-1,\n",
       "             param_grid={&#x27;max_depth&#x27;: [2, 3, 4, 5, 6, 7, 8, 10, 12, 15],\n",
       "                         &#x27;max_features&#x27;: [&#x27;sqrt&#x27;, &#x27;auto&#x27;],\n",
       "                         &#x27;min_samples_leaf&#x27;: [5, 25, 50, 100]},\n",
       "             return_train_score=True, scoring=make_scorer(rank_correl))</pre><b>In a Jupyter environment, please rerun this cell to show the HTML representation or trust the notebook. <br />On GitHub, the HTML representation is unable to render, please try loading this page with nbviewer.org.</b></div><div class=\"sk-container\" hidden><div class=\"sk-item sk-dashed-wrapped\"><div class=\"sk-label-container\"><div class=\"sk-label sk-toggleable\"><input class=\"sk-toggleable__control sk-hidden--visually\" id=\"sk-estimator-id-40\" type=\"checkbox\" ><label for=\"sk-estimator-id-40\" class=\"sk-toggleable__label sk-toggleable__label-arrow\">GridSearchCV</label><div class=\"sk-toggleable__content\"><pre>GridSearchCV(cv=&lt;utils.MultipleTimeSeriesCV object at 0x1680ec8b0&gt;,\n",
       "             estimator=DecisionTreeRegressor(random_state=42), n_jobs=-1,\n",
       "             param_grid={&#x27;max_depth&#x27;: [2, 3, 4, 5, 6, 7, 8, 10, 12, 15],\n",
       "                         &#x27;max_features&#x27;: [&#x27;sqrt&#x27;, &#x27;auto&#x27;],\n",
       "                         &#x27;min_samples_leaf&#x27;: [5, 25, 50, 100]},\n",
       "             return_train_score=True, scoring=make_scorer(rank_correl))</pre></div></div></div><div class=\"sk-parallel\"><div class=\"sk-parallel-item\"><div class=\"sk-item\"><div class=\"sk-label-container\"><div class=\"sk-label sk-toggleable\"><input class=\"sk-toggleable__control sk-hidden--visually\" id=\"sk-estimator-id-41\" type=\"checkbox\" ><label for=\"sk-estimator-id-41\" class=\"sk-toggleable__label sk-toggleable__label-arrow\">estimator: DecisionTreeRegressor</label><div class=\"sk-toggleable__content\"><pre>DecisionTreeRegressor(random_state=42)</pre></div></div></div><div class=\"sk-serial\"><div class=\"sk-item\"><div class=\"sk-estimator sk-toggleable\"><input class=\"sk-toggleable__control sk-hidden--visually\" id=\"sk-estimator-id-42\" type=\"checkbox\" ><label for=\"sk-estimator-id-42\" class=\"sk-toggleable__label sk-toggleable__label-arrow\">DecisionTreeRegressor</label><div class=\"sk-toggleable__content\"><pre>DecisionTreeRegressor(random_state=42)</pre></div></div></div></div></div></div></div></div></div></div>"
      ],
      "text/plain": [
       "GridSearchCV(cv=<utils.MultipleTimeSeriesCV object at 0x1680ec8b0>,\n",
       "             estimator=DecisionTreeRegressor(random_state=42), n_jobs=-1,\n",
       "             param_grid={'max_depth': [2, 3, 4, 5, 6, 7, 8, 10, 12, 15],\n",
       "                         'max_features': ['sqrt', 'auto'],\n",
       "                         'min_samples_leaf': [5, 25, 50, 100]},\n",
       "             return_train_score=True, scoring=make_scorer(rank_correl))"
      ]
     },
     "execution_count": 424,
     "metadata": {},
     "output_type": "execute_result"
    }
   ],
   "source": [
    "gridsearch_reg.fit(X=X, y=y)"
   ]
  },
  {
   "cell_type": "code",
   "execution_count": 425,
   "metadata": {
    "ExecuteTime": {
     "end_time": "2021-04-16T00:34:33.340010Z",
     "start_time": "2021-04-16T00:34:33.333245Z"
    }
   },
   "outputs": [
    {
     "data": {
      "text/plain": [
       "{'max_depth': 12, 'max_features': 'sqrt', 'min_samples_leaf': 25}"
      ]
     },
     "execution_count": 425,
     "metadata": {},
     "output_type": "execute_result"
    }
   ],
   "source": [
    "gridsearch_reg.best_params_"
   ]
  },
  {
   "cell_type": "code",
   "execution_count": 426,
   "metadata": {
    "ExecuteTime": {
     "end_time": "2021-04-16T00:34:33.351382Z",
     "start_time": "2021-04-16T00:34:33.341496Z"
    }
   },
   "outputs": [
    {
     "data": {
      "text/plain": [
       "0.19006541087045678"
      ]
     },
     "execution_count": 426,
     "metadata": {},
     "output_type": "execute_result"
    }
   ],
   "source": [
    "gridsearch_reg.best_score_"
   ]
  },
  {
   "cell_type": "code",
   "execution_count": 427,
   "metadata": {
    "ExecuteTime": {
     "end_time": "2021-04-16T00:34:33.363598Z",
     "start_time": "2021-04-16T00:34:33.352847Z"
    }
   },
   "outputs": [
    {
     "data": {
      "text/html": [
       "<div>\n",
       "<style scoped>\n",
       "    .dataframe tbody tr th:only-of-type {\n",
       "        vertical-align: middle;\n",
       "    }\n",
       "\n",
       "    .dataframe tbody tr th {\n",
       "        vertical-align: top;\n",
       "    }\n",
       "\n",
       "    .dataframe thead th {\n",
       "        text-align: right;\n",
       "    }\n",
       "</style>\n",
       "<table border=\"1\" class=\"dataframe\">\n",
       "  <thead>\n",
       "    <tr style=\"text-align: right;\">\n",
       "      <th></th>\n",
       "      <th>Regression</th>\n",
       "      <th>Classification</th>\n",
       "    </tr>\n",
       "  </thead>\n",
       "  <tbody>\n",
       "    <tr>\n",
       "      <th>max_depth</th>\n",
       "      <td>12</td>\n",
       "      <td>10</td>\n",
       "    </tr>\n",
       "    <tr>\n",
       "      <th>max_features</th>\n",
       "      <td>sqrt</td>\n",
       "      <td>sqrt</td>\n",
       "    </tr>\n",
       "    <tr>\n",
       "      <th>min_samples_leaf</th>\n",
       "      <td>25</td>\n",
       "      <td>50</td>\n",
       "    </tr>\n",
       "  </tbody>\n",
       "</table>\n",
       "</div>"
      ],
      "text/plain": [
       "                 Regression Classification\n",
       "max_depth                12             10\n",
       "max_features           sqrt           sqrt\n",
       "min_samples_leaf         25             50"
      ]
     },
     "execution_count": 427,
     "metadata": {},
     "output_type": "execute_result"
    }
   ],
   "source": [
    "pd.DataFrame({'Regression': pd.Series(gridsearch_reg.best_params_),\n",
    "              'Classification': pd.Series(gridsearch_clf.best_params_)})"
   ]
  },
  {
   "cell_type": "markdown",
   "metadata": {},
   "source": [
    "### Classifier Cross-Validation"
   ]
  },
  {
   "cell_type": "markdown",
   "metadata": {},
   "source": [
    "Cross-validation is the most important tool to obtain an unbiased estimate of the generalization error, which in turn permits an informed choice among the various configuration options. sklearn offers several tools to facilitate the process of cross-validating numerous parameter settings, namely the GridSearchCV convenience class that we will illustrate in the next section. "
   ]
  },
  {
   "cell_type": "markdown",
   "metadata": {},
   "source": [
    "The following code illustrates how to run cross-validation more manually to obtain custom tree attributes, such as the total number of nodes or leaf nodes associated with certain hyperparameter settings. \n",
    "\n",
    "The following function accesses the internal `.tree_` attribute to retrieve information about the total node count, and how many of these nodes are leaf nodes:"
   ]
  },
  {
   "cell_type": "code",
   "execution_count": 428,
   "metadata": {
    "ExecuteTime": {
     "end_time": "2021-04-16T00:34:33.369594Z",
     "start_time": "2021-04-16T00:34:33.364452Z"
    }
   },
   "outputs": [],
   "source": [
    "def get_leaves_count(tree):\n",
    "    t = tree.tree_\n",
    "    n = t.node_count\n",
    "    leaves = len([i for i in range(t.node_count) if t.children_left[i]== -1])\n",
    "    return leaves"
   ]
  },
  {
   "cell_type": "markdown",
   "metadata": {},
   "source": [
    "We can combine this information with the train and test scores to gain detailed knowledge about the model behavior throughout the cross-validation process, as follows:"
   ]
  },
  {
   "cell_type": "code",
   "execution_count": 429,
   "metadata": {
    "ExecuteTime": {
     "end_time": "2021-04-16T00:34:46.896130Z",
     "start_time": "2021-04-16T00:34:33.377385Z"
    },
    "scrolled": true
   },
   "outputs": [
    {
     "name": "stdout",
     "output_type": "stream",
     "text": [
      "1 2 3 4 5 6 7 8 9 10 11 12 13 14 15 "
     ]
    }
   ],
   "source": [
    "train_scores, val_scores, leaves = {}, {}, {}\n",
    "for max_depth in max_depths:\n",
    "    print(max_depth, end=' ', flush=True)\n",
    "    clf = DecisionTreeClassifier(criterion='gini', \n",
    "                                 max_depth=max_depth,\n",
    "                                 min_samples_leaf=5,\n",
    "                                 max_features='sqrt',\n",
    "                                 random_state=42)\n",
    "    train_scores[max_depth], val_scores[max_depth], leaves[max_depth] = [], [], []\n",
    "    for train_idx, test_idx in cv.split(X):\n",
    "        X_train, y_train,  = X.iloc[train_idx], y_binary.iloc[train_idx]\n",
    "        X_test, y_test = X.iloc[test_idx], y_binary.iloc[test_idx]\n",
    "        clf.fit(X=X_train, y=y_train)\n",
    "\n",
    "        train_pred = clf.predict_proba(X=X_train)[:, 1]\n",
    "        train_score = roc_auc_score(y_score=train_pred, y_true=y_train)\n",
    "        train_scores[max_depth].append(train_score)\n",
    "\n",
    "        test_pred = clf.predict_proba(X=X_test)[:, 1]\n",
    "        val_score = roc_auc_score(y_score=test_pred, y_true=y_test)\n",
    "        val_scores[max_depth].append(val_score)    \n",
    "        leaves[max_depth].append(get_leaves_count(clf))\n",
    "        \n",
    "clf_train_scores = pd.DataFrame(train_scores)\n",
    "clf_valid_scores = pd.DataFrame(val_scores)\n",
    "clf_leaves = pd.DataFrame(leaves)"
   ]
  },
  {
   "cell_type": "code",
   "execution_count": 430,
   "metadata": {
    "ExecuteTime": {
     "end_time": "2021-04-16T00:34:46.906671Z",
     "start_time": "2021-04-16T00:34:46.898503Z"
    }
   },
   "outputs": [],
   "source": [
    "clf_cv_data = pd.concat([pd.melt(clf_train_scores,\n",
    "                                 var_name='Max. Depth',\n",
    "                                 value_name='ROC AUC').assign(Data='Train'),\n",
    "                         pd.melt(clf_valid_scores,\n",
    "                                 var_name='Max. Depth',\n",
    "                                 value_name='ROC AUC').assign(Data='Valid')])"
   ]
  },
  {
   "cell_type": "markdown",
   "metadata": {},
   "source": [
    "### Regression tree cross-validation"
   ]
  },
  {
   "cell_type": "markdown",
   "metadata": {},
   "source": [
    "#### Run cross-validation"
   ]
  },
  {
   "cell_type": "code",
   "execution_count": 431,
   "metadata": {
    "ExecuteTime": {
     "end_time": "2021-04-16T00:34:58.712044Z",
     "start_time": "2021-04-16T00:34:46.907862Z"
    }
   },
   "outputs": [
    {
     "name": "stdout",
     "output_type": "stream",
     "text": [
      "1 2 3 4 5 6 7 8 9 10 11 12 13 14 15 "
     ]
    }
   ],
   "source": [
    "train_scores, val_scores, leaves = {}, {}, {}\n",
    "for max_depth in max_depths:\n",
    "    print(max_depth, end=' ', flush=True)\n",
    "    reg_tree = DecisionTreeRegressor(max_depth=max_depth,\n",
    "                                     min_samples_leaf=50,\n",
    "                                     max_features= 'sqrt',\n",
    "                                     random_state=42)\n",
    "    train_scores[max_depth], val_scores[max_depth], leaves[max_depth] = [], [], []\n",
    "    for train_idx, test_idx in cv.split(X):\n",
    "        X_train, y_train,  = X.iloc[train_idx], y.iloc[train_idx]\n",
    "        X_test, y_test = X.iloc[test_idx], y.iloc[test_idx]\n",
    "        reg_tree.fit(X=X_train, y=y_train)\n",
    "\n",
    "        train_pred = reg_tree.predict(X=X_train)\n",
    "        train_score = spearmanr(train_pred, y_train)[0]\n",
    "        train_scores[max_depth].append(train_score)\n",
    "\n",
    "        test_pred = reg_tree.predict(X=X_test)\n",
    "        val_score = spearmanr(test_pred, y_test)[0]\n",
    "        val_scores[max_depth].append(val_score)\n",
    "        leaves[max_depth].append(get_leaves_count(reg_tree))\n",
    "\n",
    "reg_train_scores = pd.DataFrame(train_scores)\n",
    "reg_valid_scores = pd.DataFrame(val_scores)\n",
    "reg_leaves = pd.DataFrame(leaves)"
   ]
  },
  {
   "cell_type": "code",
   "execution_count": 432,
   "metadata": {
    "ExecuteTime": {
     "end_time": "2021-04-16T00:34:58.719502Z",
     "start_time": "2021-04-16T00:34:58.712895Z"
    }
   },
   "outputs": [],
   "source": [
    "reg_cv_data = pd.concat(\n",
    "    [pd.melt(reg_train_scores, var_name='Max. Depth', value_name='IC').assign(Data='Train'),\n",
    "     pd.melt(reg_valid_scores, var_name='Max. Depth', value_name='IC').assign(Data='Valid')],\n",
    "    ignore_index=True)"
   ]
  },
  {
   "cell_type": "markdown",
   "metadata": {},
   "source": [
    "### Compare CV Results"
   ]
  },
  {
   "cell_type": "code",
   "execution_count": 433,
   "metadata": {
    "ExecuteTime": {
     "end_time": "2021-04-16T00:35:00.042515Z",
     "start_time": "2021-04-16T00:34:58.720596Z"
    },
    "scrolled": true
   },
   "outputs": [
    {
     "data": {
      "image/png": "[encoded data removed]",
      "text/plain": [
       "<Figure size 1400x500 with 2 Axes>"
      ]
     },
     "metadata": {},
     "output_type": "display_data"
    }
   ],
   "source": [
    "fig, axes = plt.subplots(ncols=2, figsize=(14, 5))\n",
    "\n",
    "sns.lineplot(data=reg_cv_data,\n",
    "             x='Max. Depth', y='IC',\n",
    "             hue='Data', ci=95,\n",
    "             ax=axes[0], lw=2)\n",
    "\n",
    "axes[0].set_title('Regression Tree')\n",
    "axes[0].axvline(x=reg_valid_scores.mean().idxmax(), ls='--', c='k', lw=1)\n",
    "axes[0].axhline(y=0, ls='--', c='k', lw=1)\n",
    "\n",
    "sns.lineplot(data=clf_cv_data,\n",
    "             x='Max. Depth', y='ROC AUC',\n",
    "             hue='Data', ci=95,\n",
    "             ax=axes[1], lw=2)\n",
    "\n",
    "axes[1].set_title('Classification Tree')\n",
    "axes[1].axvline(x=clf_valid_scores.mean().idxmax(), ls='--', c='k', lw=1)\n",
    "axes[1].axhline(y=.5, ls='--', c='k', lw=1)\n",
    "for ax in axes:\n",
    "    ax.set_xlim(min(param_grid['max_depth']),\n",
    "                max(param_grid['max_depth']))\n",
    "\n",
    "fig.suptitle(f'Train-Validation Scores', fontsize=14)\n",
    "sns.despine()\n",
    "fig.tight_layout()\n",
    "fig.subplots_adjust(top=.91)"
   ]
  },
  {
   "cell_type": "markdown",
   "metadata": {},
   "source": [
    "### Learning Curves for best models"
   ]
  },
  {
   "cell_type": "markdown",
   "metadata": {},
   "source": [
    "A learning curve is a useful tool that displays how the validation and training score evolve as the number of training samples evolves.\n",
    "\n",
    "The purpose of the learning curve is to find out whether and how much the model would benefit from using more data during training. It is also useful to diagnose whether the model's generalization error is more likely driven by bias or variance.\n",
    "\n",
    "If, for example, both the validation score and the training score converge to a similarly low value despite an increasing training set size, the error is more likely due to bias, and additional training data is unlikely to help."
   ]
  },
  {
   "cell_type": "markdown",
   "metadata": {},
   "source": [
    "#### Classifier"
   ]
  },
  {
   "cell_type": "code",
   "execution_count": 434,
   "metadata": {
    "ExecuteTime": {
     "end_time": "2021-04-16T00:35:00.045677Z",
     "start_time": "2021-04-16T00:35:00.043552Z"
    }
   },
   "outputs": [],
   "source": [
    "sizes = np.arange(.1, 1.01, .1)"
   ]
  },
  {
   "cell_type": "code",
   "execution_count": 435,
   "metadata": {
    "ExecuteTime": {
     "end_time": "2021-04-16T00:35:01.724318Z",
     "start_time": "2021-04-16T00:35:00.052073Z"
    }
   },
   "outputs": [],
   "source": [
    "train_sizes, train_scores, valid_scores = learning_curve(gridsearch_clf.best_estimator_,\n",
    "                                                         X,\n",
    "                                                         y_binary,\n",
    "                                                         train_sizes=sizes,\n",
    "                                                         cv=cv,\n",
    "                                                         scoring='roc_auc',\n",
    "                                                         n_jobs=-1,\n",
    "                                                         shuffle=True,\n",
    "                                                         random_state=42)"
   ]
  },
  {
   "cell_type": "code",
   "execution_count": 436,
   "metadata": {
    "ExecuteTime": {
     "end_time": "2021-04-16T00:35:01.738102Z",
     "start_time": "2021-04-16T00:35:01.725318Z"
    }
   },
   "outputs": [
    {
     "name": "stdout",
     "output_type": "stream",
     "text": [
      "<class 'pandas.core.frame.DataFrame'>\n",
      "Index: 100 entries, 0 to 49\n",
      "Data columns (total 3 columns):\n",
      " #   Column      Non-Null Count  Dtype  \n",
      "---  ------      --------------  -----  \n",
      " 0   Train Size  100 non-null    int64  \n",
      " 1   ROC AUC     100 non-null    float64\n",
      " 2   Data        100 non-null    object \n",
      "dtypes: float64(1), int64(1), object(1)\n",
      "memory usage: 3.1+ KB\n"
     ]
    }
   ],
   "source": [
    "clf_lc_data = pd.concat([\n",
    "    pd.melt(pd.DataFrame(train_scores.T, columns=train_sizes),\n",
    "            var_name='Train Size',\n",
    "            value_name='ROC AUC').assign(Data='Train'),\n",
    "    pd.melt(pd.DataFrame(valid_scores.T, columns=train_sizes),\n",
    "            var_name='Train Size',\n",
    "            value_name='ROC AUC').assign(Data='Valid')])\n",
    "clf_lc_data.info()"
   ]
  },
  {
   "cell_type": "markdown",
   "metadata": {},
   "source": [
    "#### Regression Tree"
   ]
  },
  {
   "cell_type": "code",
   "execution_count": 437,
   "metadata": {
    "ExecuteTime": {
     "end_time": "2021-04-16T00:35:03.354249Z",
     "start_time": "2021-04-16T00:35:01.739800Z"
    }
   },
   "outputs": [],
   "source": [
    "train_sizes, train_scores, valid_scores = learning_curve(gridsearch_reg.best_estimator_,\n",
    "                                                         X, y,\n",
    "                                                         train_sizes=sizes,\n",
    "                                                         cv=cv,\n",
    "                                                         scoring=ic,\n",
    "                                                         n_jobs=-1,\n",
    "                                                         shuffle=True,\n",
    "                                                         random_state=42)"
   ]
  },
  {
   "cell_type": "code",
   "execution_count": 438,
   "metadata": {
    "ExecuteTime": {
     "end_time": "2021-04-16T00:35:03.370414Z",
     "start_time": "2021-04-16T00:35:03.355248Z"
    }
   },
   "outputs": [
    {
     "name": "stdout",
     "output_type": "stream",
     "text": [
      "<class 'pandas.core.frame.DataFrame'>\n",
      "Index: 100 entries, 0 to 49\n",
      "Data columns (total 3 columns):\n",
      " #   Column      Non-Null Count  Dtype  \n",
      "---  ------      --------------  -----  \n",
      " 0   Train Size  100 non-null    int64  \n",
      " 1   IC          100 non-null    float64\n",
      " 2   Data        100 non-null    object \n",
      "dtypes: float64(1), int64(1), object(1)\n",
      "memory usage: 3.1+ KB\n"
     ]
    }
   ],
   "source": [
    "reg_lc_data = pd.concat([\n",
    "    pd.melt(pd.DataFrame(train_scores.T,\n",
    "                         columns=train_sizes),\n",
    "            var_name='Train Size',\n",
    "            value_name='IC').assign(Data='Train'),\n",
    "    pd.melt(pd.DataFrame(valid_scores.T,\n",
    "                         columns=train_sizes),\n",
    "            var_name='Train Size',\n",
    "            value_name='IC').assign(Data='Valid')])\n",
    "reg_lc_data.info()"
   ]
  },
  {
   "cell_type": "markdown",
   "metadata": {},
   "source": [
    "#### Compare Learning Curves"
   ]
  },
  {
   "cell_type": "code",
   "execution_count": 439,
   "metadata": {
    "ExecuteTime": {
     "end_time": "2021-04-16T00:35:04.388657Z",
     "start_time": "2021-04-16T00:35:03.371672Z"
    }
   },
   "outputs": [
    {
     "data": {
      "image/png": "[encoded data removed]",
      "text/plain": [
       "<Figure size 1400x500 with 2 Axes>"
      ]
     },
     "metadata": {},
     "output_type": "display_data"
    }
   ],
   "source": [
    "fig, axes = plt.subplots(ncols=2, figsize=(14, 5))\n",
    "xmin, xmax = reg_lc_data['Train Size'].min(), reg_lc_data['Train Size'].max()\n",
    "\n",
    "sns.lineplot(data=reg_lc_data,\n",
    "             x='Train Size', y='IC',\n",
    "             hue='Data', ci=95,  ax=axes[0], lw=2)\n",
    "axes[0].set_title('Best Regression Tree')\n",
    "axes[0].set_ylabel('IC')\n",
    "\n",
    "axes[0].xaxis.set_major_formatter(\n",
    "    FuncFormatter(lambda x, _: '{:,.0f}'.format(x)))\n",
    "\n",
    "sns.lineplot(data=clf_lc_data,\n",
    "             x='Train Size',\n",
    "             y='ROC AUC',\n",
    "             hue='Data',\n",
    "             ci=95,\n",
    "             ax=axes[1],\n",
    "             lw=2)\n",
    "axes[1].set_title('Best Classification Tree')\n",
    "axes[1].set_ylabel('ROC AUC')\n",
    "axes[1].xaxis.set_major_formatter(\n",
    "    FuncFormatter(lambda x, _: '{:,.0f}'.format(x)))\n",
    "\n",
    "for i in [0, 1]:\n",
    "    axes[i].tick_params(axis='both', which='major', labelsize=10)\n",
    "    axes[i].tick_params(axis='both', which='minor', labelsize=8)\n",
    "    axes[i].set_xlim(xmin, xmax)\n",
    "\n",
    "fig.suptitle('Learning Curves', fontsize=14)\n",
    "sns.despine()\n",
    "fig.tight_layout()\n",
    "fig.subplots_adjust(top=.9)"
   ]
  },
  {
   "cell_type": "markdown",
   "metadata": {},
   "source": [
    "### Feature Importance"
   ]
  },
  {
   "cell_type": "markdown",
   "metadata": {},
   "source": [
    "Decision trees can not only be visualized to inspect the decision path for a given feature, but also provide a summary measure of the contribution of each feature to the model fit to the training data. \n",
    "\n",
    "The feature importance captures how much the splits produced by the feature helped to optimize the model's metric used to evaluate the split quality, which in our case is the Gini Impurity index. \n",
    "\n",
    "A feature's importance is computed as the (normalized) total reduction of this metric and takes into account the number of samples affected by a split. Hence, features used earlier in the tree where the nodes tend to contain more samples typically are considered of higher importance."
   ]
  },
  {
   "cell_type": "code",
   "execution_count": 440,
   "metadata": {
    "ExecuteTime": {
     "end_time": "2021-04-16T00:35:04.395752Z",
     "start_time": "2021-04-16T00:35:04.389724Z"
    }
   },
   "outputs": [],
   "source": [
    "top_n = 15\n",
    "labels = X.columns.str.replace('_', ' ').str.upper()\n",
    "fi_clf = (pd.Series(gridsearch_clf.best_estimator_.feature_importances_, \n",
    "                    index=labels).sort_values(ascending=False).iloc[:top_n])\n",
    "fi_reg = (pd.Series(gridsearch_reg.best_estimator_.feature_importances_, \n",
    "                    index=labels).sort_values(ascending=False).iloc[:top_n])"
   ]
  },
  {
   "cell_type": "code",
   "execution_count": 441,
   "metadata": {
    "ExecuteTime": {
     "end_time": "2021-04-16T00:35:04.714765Z",
     "start_time": "2021-04-16T00:35:04.396825Z"
    }
   },
   "outputs": [
    {
     "data": {
      "image/png": "[encoded data removed]",
      "text/plain": [
       "<Figure size 1200x400 with 2 Axes>"
      ]
     },
     "metadata": {},
     "output_type": "display_data"
    }
   ],
   "source": [
    "fig, axes= plt.subplots(ncols=2, figsize=(12,4), sharex=True)\n",
    "color = cm.Blues(np.linspace(.4,.9, top_n))\n",
    "fi_clf.sort_values().plot.barh(ax=axes[1], title='Classification Tree', color=color)\n",
    "fi_reg.sort_values().plot.barh(ax=axes[0], title='Regression Tree', color=color)\n",
    "axes[0].set_xlabel('Feature Importance')\n",
    "axes[1].set_xlabel('Feature Importance')\n",
    "fig.suptitle(f'Top {top_n} Features', fontsize=14)\n",
    "sns.despine()\n",
    "fig.tight_layout()\n",
    "fig.subplots_adjust(top=.9);"
   ]
  }
 ],
 "metadata": {
  "kernelspec": {
   "display_name": "Python 3",
   "language": "python",
   "name": "python3"
  },
  "language_info": {
   "codemirror_mode": {
    "name": "ipython",
    "version": 3
   },
   "file_extension": ".py",
   "mimetype": "text/x-python",
   "name": "python",
   "nbconvert_exporter": "python",
   "pygments_lexer": "ipython3",
   "version": "3.8.19"
  },
  "toc": {
   "base_numbering": 1,
   "nav_menu": {},
   "number_sections": true,
   "sideBar": true,
   "skip_h1_title": true,
   "title_cell": "Table of Contents",
   "title_sidebar": "Contents",
   "toc_cell": false,
   "toc_position": {
    "height": "calc(100% - 180px)",
    "left": "10px",
    "top": "150px",
    "width": "343.837px"
   },
   "toc_section_display": true,
   "toc_window_display": true
  }
 },
 "nbformat": 4,
 "nbformat_minor": 2
}
