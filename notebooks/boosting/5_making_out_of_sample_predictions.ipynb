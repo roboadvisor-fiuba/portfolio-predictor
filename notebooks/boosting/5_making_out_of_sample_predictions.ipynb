{
 "cells": [
  {
   "cell_type": "markdown",
   "metadata": {},
   "source": [
    "# 5: Generating out-of-sample predictions"
   ]
  },
  {
   "cell_type": "markdown",
   "metadata": {},
   "source": [
    "## Imports & Settings"
   ]
  },
  {
   "cell_type": "code",
   "execution_count": 1,
   "metadata": {
    "ExecuteTime": {
     "end_time": "2021-04-16T03:59:22.754238Z",
     "start_time": "2021-04-16T03:59:22.751670Z"
    }
   },
   "outputs": [],
   "source": [
    "import warnings\n",
    "warnings.filterwarnings('ignore')"
   ]
  },
  {
   "cell_type": "code",
   "execution_count": 2,
   "metadata": {
    "ExecuteTime": {
     "end_time": "2021-04-16T05:08:44.486465Z",
     "start_time": "2021-04-16T05:08:44.469578Z"
    },
    "scrolled": true
   },
   "outputs": [],
   "source": [
    "%matplotlib inline\n",
    "\n",
    "from time import time\n",
    "import sys, os\n",
    "from pathlib import Path\n",
    "\n",
    "import pandas as pd\n",
    "from scipy.stats import spearmanr\n",
    "\n",
    "import lightgbm as lgb\n",
    "from catboost import Pool, CatBoostRegressor\n",
    "\n",
    "import matplotlib.pyplot as plt\n",
    "import seaborn as sns"
   ]
  },
  {
   "cell_type": "code",
   "execution_count": 3,
   "metadata": {
    "ExecuteTime": {
     "end_time": "2021-04-16T03:59:23.584097Z",
     "start_time": "2021-04-16T03:59:23.581416Z"
    },
    "scrolled": true
   },
   "outputs": [],
   "source": [
    "sys.path.insert(1, os.path.join(sys.path[0], '..'))\n",
    "from utils import MultipleTimeSeriesCV"
   ]
  },
  {
   "cell_type": "code",
   "execution_count": 4,
   "metadata": {
    "ExecuteTime": {
     "end_time": "2021-04-16T03:59:23.598076Z",
     "start_time": "2021-04-16T03:59:23.585119Z"
    },
    "scrolled": true
   },
   "outputs": [],
   "source": [
    "sns.set_style('whitegrid')"
   ]
  },
  {
   "cell_type": "code",
   "execution_count": 5,
   "metadata": {
    "ExecuteTime": {
     "end_time": "2021-04-16T03:59:23.611324Z",
     "start_time": "2021-04-16T03:59:23.598945Z"
    },
    "scrolled": true
   },
   "outputs": [],
   "source": [
    "YEAR = 252\n",
    "idx = pd.IndexSlice"
   ]
  },
  {
   "cell_type": "code",
   "execution_count": 6,
   "metadata": {
    "ExecuteTime": {
     "end_time": "2021-04-16T03:59:23.618708Z",
     "start_time": "2021-04-16T03:59:23.612249Z"
    }
   },
   "outputs": [],
   "source": [
    "scope_params = ['lookahead', 'train_length', 'test_length']\n",
    "daily_ic_metrics = ['daily_ic_mean', 'daily_ic_mean_n', 'daily_ic_median', 'daily_ic_median_n']\n",
    "lgb_train_params = ['learning_rate', 'num_leaves', 'feature_fraction', 'min_data_in_leaf']\n",
    "catboost_train_params = ['max_depth', 'min_child_samples']"
   ]
  },
  {
   "cell_type": "markdown",
   "metadata": {},
   "source": [
    "## Generate LightGBM predictions"
   ]
  },
  {
   "cell_type": "markdown",
   "metadata": {},
   "source": [
    "### Model Configuration"
   ]
  },
  {
   "cell_type": "code",
   "execution_count": 7,
   "metadata": {
    "ExecuteTime": {
     "end_time": "2021-04-16T03:59:23.626636Z",
     "start_time": "2021-04-16T03:59:23.620602Z"
    }
   },
   "outputs": [],
   "source": [
    "base_params = dict(boosting='gbdt',\n",
    "                   objective='regression',\n",
    "                   verbose=-1)\n",
    "\n",
    "categoricals = ['year', 'month', 'sector', 'weekday']"
   ]
  },
  {
   "cell_type": "code",
   "execution_count": 17,
   "metadata": {
    "ExecuteTime": {
     "end_time": "2021-04-16T03:59:23.637221Z",
     "start_time": "2021-04-16T03:59:23.627969Z"
    }
   },
   "outputs": [],
   "source": [
    "lookahead = 1\n",
    "store = Path('../data/predictions.h5')"
   ]
  },
  {
   "cell_type": "markdown",
   "metadata": {},
   "source": [
    "### Get Data"
   ]
  },
  {
   "cell_type": "code",
   "execution_count": 18,
   "metadata": {
    "ExecuteTime": {
     "end_time": "2021-04-16T03:59:24.861291Z",
     "start_time": "2021-04-16T03:59:23.638248Z"
    }
   },
   "outputs": [],
   "source": [
    "data = pd.read_hdf('../data.h5', 'model_data').sort_index()"
   ]
  },
  {
   "cell_type": "code",
   "execution_count": 20,
   "metadata": {},
   "outputs": [
    {
     "data": {
      "text/plain": [
       "Index(['dollar_vol', 'dollar_vol_rank', 'rsi', 'bb_high', 'bb_low', 'NATR',\n",
       "       'ATR', 'ppo', 'MACD', 'sector', 'r01', 'r05', 'r10', 'r21', 'r42',\n",
       "       'r63', 'r01_fwd', 'r05_fwd', 'r21_fwd', 'year', 'month', 'weekday'],\n",
       "      dtype='object')"
      ]
     },
     "execution_count": 20,
     "metadata": {},
     "output_type": "execute_result"
    }
   ],
   "source": [
    "data.columns"
   ]
  },
  {
   "cell_type": "code",
   "execution_count": 10,
   "metadata": {
    "ExecuteTime": {
     "end_time": "2021-04-16T03:59:24.872441Z",
     "start_time": "2021-04-16T03:59:24.862170Z"
    }
   },
   "outputs": [],
   "source": [
    "labels = sorted(data.filter(like='_fwd').columns)\n",
    "features = data.columns.difference(labels).tolist()\n",
    "label = f'r{lookahead:02}_fwd'"
   ]
  },
  {
   "cell_type": "code",
   "execution_count": 11,
   "metadata": {
    "ExecuteTime": {
     "end_time": "2021-04-16T03:59:25.603772Z",
     "start_time": "2021-04-16T03:59:24.873415Z"
    }
   },
   "outputs": [],
   "source": [
    "data = data.loc[idx[:, '2010':], features + [label]].dropna()"
   ]
  },
  {
   "cell_type": "code",
   "execution_count": 12,
   "metadata": {
    "ExecuteTime": {
     "end_time": "2021-04-16T03:59:25.670973Z",
     "start_time": "2021-04-16T03:59:25.604625Z"
    }
   },
   "outputs": [],
   "source": [
    "for feature in categoricals:\n",
    "    data[feature] = pd.factorize(data[feature], sort=True)[0]"
   ]
  },
  {
   "cell_type": "code",
   "execution_count": 13,
   "metadata": {
    "ExecuteTime": {
     "end_time": "2021-04-16T03:59:25.743036Z",
     "start_time": "2021-04-16T03:59:25.671795Z"
    }
   },
   "outputs": [],
   "source": [
    "lgb_data = lgb.Dataset(data=data[features],\n",
    "                       label=data[label],\n",
    "                       categorical_feature=categoricals,\n",
    "                       free_raw_data=False)"
   ]
  },
  {
   "cell_type": "markdown",
   "metadata": {},
   "source": [
    "### Generate predictions"
   ]
  },
  {
   "cell_type": "code",
   "execution_count": 21,
   "metadata": {
    "ExecuteTime": {
     "end_time": "2021-04-16T03:59:25.863322Z",
     "start_time": "2021-04-16T03:59:25.861312Z"
    }
   },
   "outputs": [],
   "source": [
    "lgb_daily_ic = pd.read_hdf('../data/lgbm_tuning.h5', 'lgb/daily_ic')\n",
    "def get_lgb_params(data, t=5, best=0):\n",
    "    param_cols = scope_params[1:] + lgb_train_params + ['boost_rounds']\n",
    "    df = data[data.lookahead==t].sort_values('ic', ascending=False).iloc[best]\n",
    "    return df.loc[param_cols]"
   ]
  },
  {
   "cell_type": "code",
   "execution_count": 15,
   "metadata": {
    "ExecuteTime": {
     "end_time": "2021-04-16T04:42:08.945191Z",
     "start_time": "2021-04-16T03:59:25.864181Z"
    },
    "scrolled": false
   },
   "outputs": [
    {
     "name": "stdout",
     "output_type": "stream",
     "text": [
      "\n",
      "Position: 00\n",
      "---------{dates}\n",
      "1 ---------{dates}\n",
      "2 ---------{dates}\n",
      "3 ---------{dates}\n",
      "4 ---------{dates}\n",
      "5 ---------{dates}\n",
      "6 ---------{dates}\n",
      "7 ---------{dates}\n",
      "8 ---------{dates}\n",
      "9 ---------{dates}\n",
      "10 ---------{dates}\n",
      "11 ---------{dates}\n",
      "12 ---------{dates}\n",
      "13 ---------{dates}\n",
      "14 ---------{dates}\n",
      "15 ---------{dates}\n",
      "16 ---------{dates}\n",
      "17 ---------{dates}\n",
      "18 ---------{dates}\n",
      "19 ---------{dates}\n",
      "20 ---------{dates}\n",
      "21 ---------{dates}\n",
      "22 ---------{dates}\n",
      "23 ---------{dates}\n",
      "24 ---------{dates}\n",
      "25 ---------{dates}\n",
      "26 ---------{dates}\n",
      "27 ---------{dates}\n",
      "28 ---------{dates}\n",
      "29 ---------{dates}\n",
      "30 ---------{dates}\n",
      "31 ---------{dates}\n",
      "32 ---------{dates}\n",
      "33 ---------{dates}\n",
      "34 ---------{dates}\n",
      "35 ---------{dates}\n",
      "36 ---------{dates}\n",
      "37 ---------{dates}\n",
      "38 ---------{dates}\n",
      "39 ---------{dates}\n",
      "40 ---------{dates}\n",
      "41 ---------{dates}\n",
      "42 ---------{dates}\n",
      "43 ---------{dates}\n",
      "44 ---------{dates}\n",
      "45 ---------{dates}\n",
      "46 ---------{dates}\n",
      "47 ---------{dates}\n",
      "48 \n",
      "Position: 01\n",
      "---------{dates}\n",
      "1 ---------{dates}\n",
      "2 ---------{dates}\n",
      "3 ---------{dates}\n",
      "4 ---------{dates}\n",
      "5 ---------{dates}\n",
      "6 ---------{dates}\n",
      "7 ---------{dates}\n",
      "8 ---------{dates}\n",
      "9 ---------{dates}\n",
      "10 ---------{dates}\n",
      "11 ---------{dates}\n",
      "12 ---------{dates}\n",
      "13 ---------{dates}\n",
      "14 ---------{dates}\n",
      "15 ---------{dates}\n",
      "16 ---------{dates}\n",
      "17 ---------{dates}\n",
      "18 ---------{dates}\n",
      "19 ---------{dates}\n",
      "20 ---------{dates}\n",
      "21 ---------{dates}\n",
      "22 ---------{dates}\n",
      "23 ---------{dates}\n",
      "24 ---------{dates}\n",
      "25 ---------{dates}\n",
      "26 ---------{dates}\n",
      "27 ---------{dates}\n",
      "28 ---------{dates}\n",
      "29 ---------{dates}\n",
      "30 ---------{dates}\n",
      "31 ---------{dates}\n",
      "32 ---------{dates}\n",
      "33 ---------{dates}\n",
      "34 ---------{dates}\n",
      "35 ---------{dates}\n",
      "36 ---------{dates}\n",
      "37 ---------{dates}\n",
      "38 ---------{dates}\n",
      "39 ---------{dates}\n",
      "40 ---------{dates}\n",
      "41 ---------{dates}\n",
      "42 ---------{dates}\n",
      "43 ---------{dates}\n",
      "44 ---------{dates}\n",
      "45 ---------{dates}\n",
      "46 ---------{dates}\n",
      "47 ---------{dates}\n",
      "48 \n",
      "Position: 02\n",
      "---------{dates}\n",
      "1 ---------{dates}\n",
      "2 ---------{dates}\n",
      "3 ---------{dates}\n",
      "4 ---------{dates}\n",
      "5 ---------{dates}\n",
      "6 ---------{dates}\n",
      "7 ---------{dates}\n",
      "8 ---------{dates}\n",
      "9 ---------{dates}\n",
      "10 ---------{dates}\n",
      "11 ---------{dates}\n",
      "12 ---------{dates}\n",
      "13 ---------{dates}\n",
      "14 ---------{dates}\n",
      "15 ---------{dates}\n",
      "16 ---------{dates}\n",
      "17 ---------{dates}\n",
      "18 ---------{dates}\n",
      "19 ---------{dates}\n",
      "20 ---------{dates}\n",
      "21 ---------{dates}\n",
      "22 ---------{dates}\n",
      "23 ---------{dates}\n",
      "24 ---------{dates}\n",
      "25 ---------{dates}\n",
      "26 ---------{dates}\n",
      "27 ---------{dates}\n",
      "28 ---------{dates}\n",
      "29 ---------{dates}\n",
      "30 ---------{dates}\n",
      "31 ---------{dates}\n",
      "32 ---------{dates}\n",
      "33 ---------{dates}\n",
      "34 ---------{dates}\n",
      "35 ---------{dates}\n",
      "36 ---------{dates}\n",
      "37 ---------{dates}\n",
      "38 ---------{dates}\n",
      "39 ---------{dates}\n",
      "40 ---------{dates}\n",
      "41 ---------{dates}\n",
      "42 ---------{dates}\n",
      "43 ---------{dates}\n",
      "44 ---------{dates}\n",
      "45 ---------{dates}\n",
      "46 ---------{dates}\n",
      "47 ---------{dates}\n",
      "48 \n",
      "Position: 03\n",
      "---------{dates}\n",
      "1 ---------{dates}\n",
      "2 ---------{dates}\n",
      "3 ---------{dates}\n",
      "4 ---------{dates}\n",
      "5 ---------{dates}\n",
      "6 ---------{dates}\n",
      "7 ---------{dates}\n",
      "8 ---------{dates}\n",
      "9 ---------{dates}\n",
      "10 ---------{dates}\n",
      "11 ---------{dates}\n",
      "12 ---------{dates}\n",
      "13 ---------{dates}\n",
      "14 ---------{dates}\n",
      "15 ---------{dates}\n",
      "16 ---------{dates}\n",
      "17 ---------{dates}\n",
      "18 ---------{dates}\n",
      "19 ---------{dates}\n",
      "20 ---------{dates}\n",
      "21 ---------{dates}\n",
      "22 ---------{dates}\n",
      "23 ---------{dates}\n",
      "24 ---------{dates}\n",
      "25 ---------{dates}\n",
      "26 ---------{dates}\n",
      "27 ---------{dates}\n",
      "28 ---------{dates}\n",
      "29 ---------{dates}\n",
      "30 ---------{dates}\n",
      "31 ---------{dates}\n",
      "32 ---------{dates}\n",
      "33 ---------{dates}\n",
      "34 ---------{dates}\n",
      "35 ---------{dates}\n",
      "36 ---------{dates}\n",
      "37 ---------{dates}\n",
      "38 ---------{dates}\n",
      "39 ---------{dates}\n",
      "40 ---------{dates}\n",
      "41 ---------{dates}\n",
      "42 ---------{dates}\n",
      "43 ---------{dates}\n",
      "44 ---------{dates}\n",
      "45 ---------{dates}\n",
      "46 ---------{dates}\n",
      "47 ---------{dates}\n",
      "48 \n",
      "Position: 04\n",
      "---------{dates}\n",
      "1 ---------{dates}\n",
      "2 ---------{dates}\n",
      "3 ---------{dates}\n",
      "4 ---------{dates}\n",
      "5 ---------{dates}\n",
      "6 ---------{dates}\n",
      "7 ---------{dates}\n",
      "8 ---------{dates}\n",
      "9 ---------{dates}\n",
      "10 ---------{dates}\n",
      "11 ---------{dates}\n",
      "12 ---------{dates}\n",
      "13 ---------{dates}\n",
      "14 ---------{dates}\n",
      "15 ---------{dates}\n",
      "16 ---------{dates}\n",
      "17 ---------{dates}\n",
      "18 ---------{dates}\n",
      "19 ---------{dates}\n",
      "20 ---------{dates}\n",
      "21 ---------{dates}\n",
      "22 ---------{dates}\n",
      "23 ---------{dates}\n",
      "24 ---------{dates}\n",
      "25 ---------{dates}\n",
      "26 ---------{dates}\n",
      "27 ---------{dates}\n",
      "28 ---------{dates}\n",
      "29 ---------{dates}\n",
      "30 ---------{dates}\n",
      "31 ---------{dates}\n",
      "32 ---------{dates}\n",
      "33 ---------{dates}\n",
      "34 ---------{dates}\n",
      "35 ---------{dates}\n",
      "36 ---------{dates}\n",
      "37 ---------{dates}\n",
      "38 ---------{dates}\n",
      "39 ---------{dates}\n",
      "40 ---------{dates}\n",
      "41 ---------{dates}\n",
      "42 ---------{dates}\n",
      "43 ---------{dates}\n",
      "44 ---------{dates}\n",
      "45 ---------{dates}\n",
      "46 ---------{dates}\n",
      "47 ---------{dates}\n",
      "48 \n",
      "Position: 05\n",
      "---------{dates}\n",
      "1 ---------{dates}\n",
      "2 ---------{dates}\n",
      "3 ---------{dates}\n",
      "4 ---------{dates}\n",
      "5 ---------{dates}\n",
      "6 ---------{dates}\n",
      "7 ---------{dates}\n",
      "8 ---------{dates}\n",
      "9 ---------{dates}\n",
      "10 ---------{dates}\n",
      "11 ---------{dates}\n",
      "12 ---------{dates}\n",
      "13 ---------{dates}\n",
      "14 ---------{dates}\n",
      "15 ---------{dates}\n",
      "16 ---------{dates}\n",
      "17 ---------{dates}\n",
      "18 ---------{dates}\n",
      "19 ---------{dates}\n",
      "20 ---------{dates}\n",
      "21 ---------{dates}\n",
      "22 ---------{dates}\n",
      "23 ---------{dates}\n",
      "24 ---------{dates}\n",
      "25 ---------{dates}\n",
      "26 ---------{dates}\n",
      "27 ---------{dates}\n",
      "28 ---------{dates}\n",
      "29 ---------{dates}\n",
      "30 ---------{dates}\n",
      "31 ---------{dates}\n",
      "32 ---------{dates}\n",
      "33 ---------{dates}\n",
      "34 ---------{dates}\n",
      "35 ---------{dates}\n",
      "36 ---------{dates}\n",
      "37 ---------{dates}\n",
      "38 ---------{dates}\n",
      "39 ---------{dates}\n",
      "40 ---------{dates}\n",
      "41 ---------{dates}\n",
      "42 ---------{dates}\n",
      "43 ---------{dates}\n",
      "44 ---------{dates}\n",
      "45 ---------{dates}\n",
      "46 ---------{dates}\n",
      "47 ---------{dates}\n",
      "48 \n",
      "Position: 06\n",
      "---------{dates}\n",
      "1 ---------{dates}\n",
      "2 ---------{dates}\n",
      "3 ---------{dates}\n",
      "4 ---------{dates}\n",
      "5 ---------{dates}\n",
      "6 ---------{dates}\n",
      "7 ---------{dates}\n",
      "8 ---------{dates}\n",
      "9 ---------{dates}\n",
      "10 ---------{dates}\n",
      "11 ---------{dates}\n",
      "12 ---------{dates}\n",
      "13 ---------{dates}\n",
      "14 ---------{dates}\n",
      "15 ---------{dates}\n",
      "16 ---------{dates}\n",
      "17 ---------{dates}\n",
      "18 ---------{dates}\n",
      "19 ---------{dates}\n",
      "20 ---------{dates}\n",
      "21 ---------{dates}\n",
      "22 ---------{dates}\n",
      "23 ---------{dates}\n",
      "24 ---------{dates}\n",
      "25 ---------{dates}\n",
      "26 ---------{dates}\n",
      "27 ---------{dates}\n",
      "28 ---------{dates}\n",
      "29 ---------{dates}\n",
      "30 ---------{dates}\n",
      "31 ---------{dates}\n",
      "32 ---------{dates}\n",
      "33 ---------{dates}\n",
      "34 ---------{dates}\n",
      "35 ---------{dates}\n",
      "36 ---------{dates}\n",
      "37 ---------{dates}\n",
      "38 ---------{dates}\n",
      "39 ---------{dates}\n",
      "40 ---------{dates}\n",
      "41 ---------{dates}\n",
      "42 ---------{dates}\n",
      "43 ---------{dates}\n",
      "44 ---------{dates}\n",
      "45 ---------{dates}\n",
      "46 ---------{dates}\n",
      "47 ---------{dates}\n",
      "48                  0            1            2            3            4\n",
      "count  3014.000000  3014.000000  3014.000000  3014.000000  3014.000000\n",
      "mean      0.061944     0.059530     0.058636     0.063486     0.062994\n",
      "std       0.185717     0.186100     0.184269     0.184183     0.186347\n",
      "min      -1.000000    -1.000000    -1.000000    -0.671251    -1.000000\n",
      "25%      -0.062659    -0.062267    -0.062948    -0.057177    -0.061210\n",
      "50%       0.061886     0.060322     0.061229     0.062697     0.063089\n",
      "75%       0.181363     0.180303     0.179295     0.181781     0.186475\n",
      "max       1.000000     1.000000     1.000000     1.000000     1.000000\n"
     ]
    }
   ],
   "source": [
    "for position in range(7):\n",
    "    params = get_lgb_params(lgb_daily_ic,\n",
    "                            t=lookahead,\n",
    "                            best=position)\n",
    "\n",
    "    params = params.to_dict()\n",
    "\n",
    "    for p in ['min_data_in_leaf', 'num_leaves']:\n",
    "        params[p] = int(params[p])\n",
    "    train_length = int(params.pop('train_length'))\n",
    "    test_length = int(params.pop('test_length'))\n",
    "    num_boost_round = int(params.pop('boost_rounds'))\n",
    "    params.update(base_params)\n",
    "\n",
    "    print(f'\\nPosition: {position:02}')\n",
    "\n",
    "    # 1-year out-of-sample period\n",
    "    n_splits = int(12*YEAR / test_length)\n",
    "    cv = MultipleTimeSeriesCV(n_splits=n_splits,\n",
    "                              test_period_length=test_length,\n",
    "                              lookahead=lookahead,\n",
    "                              train_period_length=train_length)\n",
    "\n",
    "    predictions = []\n",
    "    start = time()\n",
    "    for i, (train_idx, test_idx) in enumerate(cv.split(X=data), 1):\n",
    "        print(i, end=' ', flush=True)\n",
    "        lgb_train = lgb_data.subset(used_indices=train_idx.tolist(),\n",
    "                                    params=params).construct()\n",
    "        model = lgb.train(params=params,\n",
    "                          train_set=lgb_train,\n",
    "                          num_boost_round=num_boost_round)\n",
    "\n",
    "        test_set = data.iloc[test_idx, :]\n",
    "        y_test = test_set.loc[:, label].to_frame('y_test')\n",
    "\n",
    "        y_pred = model.predict(test_set.loc[:, model.feature_name()])\n",
    "        predictions.append(y_test.assign(prediction=y_pred))\n",
    "\n",
    "    if position == 0:\n",
    "        test_predictions = (pd.concat(predictions)\n",
    "                            .rename(columns={'prediction': position}))\n",
    "    else:\n",
    "        test_predictions[position] = pd.concat(predictions).prediction\n",
    "\n",
    "by_day = test_predictions.groupby(level='date')\n",
    "for position in range(5):\n",
    "    if position == 0:\n",
    "        ic_by_day = by_day.apply(lambda x: spearmanr(\n",
    "            x.y_test, x[position])[0]).to_frame()\n",
    "    else:\n",
    "        ic_by_day[position] = by_day.apply(\n",
    "            lambda x: spearmanr(x.y_test, x[position])[0])\n",
    "print(ic_by_day.describe())\n",
    "test_predictions.to_hdf(store, f'lgb/test/{lookahead:02}')"
   ]
  },
  {
   "cell_type": "code",
   "execution_count": 16,
   "metadata": {},
   "outputs": [
    {
     "data": {
      "text/plain": [
       "58"
      ]
     },
     "execution_count": 16,
     "metadata": {},
     "output_type": "execute_result"
    }
   ],
   "source": [
    "len(test_predictions.index.get_level_values(0).unique())"
   ]
  }
 ],
 "metadata": {
  "kernelspec": {
   "display_name": "Python 3",
   "language": "python",
   "name": "python3"
  },
  "language_info": {
   "codemirror_mode": {
    "name": "ipython",
    "version": 3
   },
   "file_extension": ".py",
   "mimetype": "text/x-python",
   "name": "python",
   "nbconvert_exporter": "python",
   "pygments_lexer": "ipython3",
   "version": "3.8.19"
  },
  "toc": {
   "base_numbering": 1,
   "nav_menu": {},
   "number_sections": true,
   "sideBar": true,
   "skip_h1_title": true,
   "title_cell": "Table of Contents",
   "title_sidebar": "Contents",
   "toc_cell": false,
   "toc_position": {
    "height": "calc(100% - 180px)",
    "left": "10px",
    "top": "150px",
    "width": "301.861px"
   },
   "toc_section_display": true,
   "toc_window_display": true
  }
 },
 "nbformat": 4,
 "nbformat_minor": 2
}
