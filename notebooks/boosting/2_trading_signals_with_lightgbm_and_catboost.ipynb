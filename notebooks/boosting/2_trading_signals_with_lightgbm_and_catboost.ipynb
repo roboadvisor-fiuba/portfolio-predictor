{
 "cells": [
  {
   "cell_type": "markdown",
   "metadata": {},
   "source": [
    "## 2: Trading signals with LightGBM and CatBoost"
   ]
  },
  {
   "cell_type": "markdown",
   "metadata": {},
   "source": [
    "## Imports & Settings"
   ]
  },
  {
   "cell_type": "code",
   "execution_count": 1,
   "metadata": {
    "ExecuteTime": {
     "end_time": "2020-06-21T03:15:53.361121Z",
     "start_time": "2020-06-21T03:15:53.359422Z"
    }
   },
   "outputs": [],
   "source": [
    "import warnings\n",
    "warnings.filterwarnings('ignore')"
   ]
  },
  {
   "cell_type": "code",
   "execution_count": 2,
   "metadata": {
    "ExecuteTime": {
     "end_time": "2020-06-21T03:15:54.473652Z",
     "start_time": "2020-06-21T03:15:53.619170Z"
    },
    "scrolled": true
   },
   "outputs": [],
   "source": [
    "%matplotlib inline\n",
    "\n",
    "from pathlib import Path\n",
    "import sys, os\n",
    "from time import time\n",
    "from tqdm import tqdm\n",
    "\n",
    "from collections import defaultdict\n",
    "from itertools import product\n",
    "\n",
    "import numpy as np\n",
    "import pandas as pd\n",
    "\n",
    "import lightgbm as lgb\n",
    "from catboost import Pool, CatBoostRegressor\n",
    "\n",
    "from sklearn.linear_model import LinearRegression\n",
    "from scipy.stats import spearmanr\n",
    "\n",
    "from alphalens.tears import (create_summary_tear_sheet,\n",
    "                             create_full_tear_sheet)\n",
    "\n",
    "from alphalens.utils import get_clean_factor_and_forward_returns\n",
    "\n",
    "import matplotlib.pyplot as plt\n",
    "import seaborn as sns"
   ]
  },
  {
   "cell_type": "code",
   "execution_count": 3,
   "metadata": {
    "ExecuteTime": {
     "end_time": "2020-06-21T03:15:54.477216Z",
     "start_time": "2020-06-21T03:15:54.474618Z"
    },
    "scrolled": true
   },
   "outputs": [],
   "source": [
    "sys.path.insert(1, os.path.join(sys.path[0], '..'))\n",
    "from utils import MultipleTimeSeriesCV, format_time"
   ]
  },
  {
   "cell_type": "code",
   "execution_count": 4,
   "metadata": {
    "ExecuteTime": {
     "end_time": "2020-06-21T03:15:54.489618Z",
     "start_time": "2020-06-21T03:15:54.478409Z"
    },
    "scrolled": true
   },
   "outputs": [],
   "source": [
    "sns.set_style('whitegrid')"
   ]
  },
  {
   "cell_type": "code",
   "execution_count": 5,
   "metadata": {
    "ExecuteTime": {
     "end_time": "2020-06-21T03:15:54.626839Z",
     "start_time": "2020-06-21T03:15:54.624975Z"
    },
    "scrolled": true
   },
   "outputs": [],
   "source": [
    "YEAR = 252\n",
    "idx = pd.IndexSlice"
   ]
  },
  {
   "cell_type": "markdown",
   "metadata": {},
   "source": [
    "## Get Data"
   ]
  },
  {
   "cell_type": "markdown",
   "metadata": {},
   "source": [
    "We select the train and validation sets, and identify labels and features:"
   ]
  },
  {
   "cell_type": "code",
   "execution_count": 36,
   "metadata": {
    "ExecuteTime": {
     "end_time": "2020-06-21T03:15:58.610627Z",
     "start_time": "2020-06-21T03:15:56.699840Z"
    },
    "scrolled": false
   },
   "outputs": [
    {
     "name": "stdout",
     "output_type": "stream",
     "text": [
      "<class 'pandas.core.frame.DataFrame'>\n",
      "MultiIndex: 109778 entries, ('ALUA.BA', Timestamp('2015-01-02 00:00:00')) to ('YPFD.BA', Timestamp('2022-12-30 00:00:00'))\n",
      "Data columns (total 22 columns):\n",
      " #   Column           Non-Null Count   Dtype  \n",
      "---  ------           --------------   -----  \n",
      " 0   dollar_vol       109778 non-null  float64\n",
      " 1   dollar_vol_rank  109778 non-null  float64\n",
      " 2   rsi              109708 non-null  float64\n",
      " 3   bb_high          109683 non-null  float64\n",
      " 4   bb_low           109678 non-null  float64\n",
      " 5   NATR             109708 non-null  float64\n",
      " 6   ATR              109708 non-null  float64\n",
      " 7   ppo              109653 non-null  float64\n",
      " 8   MACD             109613 non-null  float64\n",
      " 9   sector           109778 non-null  int64  \n",
      " 10  r01              109773 non-null  float64\n",
      " 11  r05              109753 non-null  float64\n",
      " 12  r10              109728 non-null  float64\n",
      " 13  r21              109673 non-null  float64\n",
      " 14  r42              109568 non-null  float64\n",
      " 15  r63              109463 non-null  float64\n",
      " 16  r01_fwd          109778 non-null  float64\n",
      " 17  r05_fwd          109778 non-null  float64\n",
      " 18  r21_fwd          109778 non-null  float64\n",
      " 19  year             109778 non-null  int32  \n",
      " 20  month            109778 non-null  int32  \n",
      " 21  weekday          109778 non-null  int32  \n",
      "dtypes: float64(18), int32(3), int64(1)\n",
      "memory usage: 17.7+ MB\n"
     ]
    }
   ],
   "source": [
    "data = (pd.read_hdf('../data.h5', 'model_data')\n",
    "            .sort_index()\n",
    "            .loc[idx[:, '2015':'2022'], :]) # train & validation period\n",
    "data.info()"
   ]
  },
  {
   "cell_type": "code",
   "execution_count": 37,
   "metadata": {
    "ExecuteTime": {
     "end_time": "2020-06-21T03:15:58.627071Z",
     "start_time": "2020-06-21T03:15:58.611792Z"
    }
   },
   "outputs": [],
   "source": [
    "labels = sorted(data.filter(like='_fwd').columns)\n",
    "features = data.columns.difference(labels).tolist() # features are columns not containing '_fwd'"
   ]
  },
  {
   "cell_type": "markdown",
   "metadata": {},
   "source": [
    "## Model Selection: Lookback, lookahead and roll-forward periods"
   ]
  },
  {
   "cell_type": "code",
   "execution_count": 38,
   "metadata": {
    "ExecuteTime": {
     "end_time": "2020-06-21T03:15:58.713463Z",
     "start_time": "2020-06-21T03:15:58.628189Z"
    },
    "scrolled": true
   },
   "outputs": [],
   "source": [
    "tickers = data.index.get_level_values('symbol').unique()"
   ]
  },
  {
   "cell_type": "markdown",
   "metadata": {},
   "source": [
    "We may want to predict 1, 5 or 21-day returns:"
   ]
  },
  {
   "cell_type": "code",
   "execution_count": 40,
   "metadata": {
    "ExecuteTime": {
     "end_time": "2020-06-21T03:15:58.716838Z",
     "start_time": "2020-06-21T03:15:58.714860Z"
    },
    "scrolled": true
   },
   "outputs": [],
   "source": [
    "lookaheads = [1, 21]\n",
    "# lookaheads = [1, 5, 21]"
   ]
  },
  {
   "cell_type": "code",
   "execution_count": 41,
   "metadata": {
    "ExecuteTime": {
     "end_time": "2020-06-21T03:15:58.726739Z",
     "start_time": "2020-06-21T03:15:58.718248Z"
    }
   },
   "outputs": [],
   "source": [
    "categoricals = ['year', 'month', 'sector', 'weekday']"
   ]
  },
  {
   "cell_type": "markdown",
   "metadata": {},
   "source": [
    "We select 4.5 and one years as the length of our training periods; test periods are one and three months long."
   ]
  },
  {
   "cell_type": "code",
   "execution_count": 42,
   "metadata": {
    "ExecuteTime": {
     "end_time": "2020-06-21T03:15:58.735386Z",
     "start_time": "2020-06-21T03:15:58.728023Z"
    },
    "scrolled": true
   },
   "outputs": [],
   "source": [
    "train_lengths = [int(4.5 * 252), 252]\n",
    "test_lengths = [63]\n",
    "# test_lengths = [63, 21]"
   ]
  },
  {
   "cell_type": "code",
   "execution_count": 43,
   "metadata": {
    "ExecuteTime": {
     "end_time": "2020-06-21T03:15:58.743174Z",
     "start_time": "2020-06-21T03:15:58.737182Z"
    },
    "scrolled": true
   },
   "outputs": [],
   "source": [
    "test_params = list(product(lookaheads, train_lengths, test_lengths))"
   ]
  },
  {
   "cell_type": "code",
   "execution_count": 44,
   "metadata": {
    "ExecuteTime": {
     "end_time": "2020-06-21T03:15:58.751241Z",
     "start_time": "2020-06-21T03:15:58.744605Z"
    }
   },
   "outputs": [],
   "source": [
    "results_path = Path('results', 'boosting')\n",
    "if not results_path.exists():\n",
    "    results_path.mkdir(parents=True)"
   ]
  },
  {
   "cell_type": "markdown",
   "metadata": {},
   "source": [
    "## Baseline: Linear Regression"
   ]
  },
  {
   "cell_type": "markdown",
   "metadata": {},
   "source": [
    "We always want to know how much our (gradient boosting) is improving over a simpler baseline (if at all..)."
   ]
  },
  {
   "cell_type": "code",
   "execution_count": 14,
   "metadata": {
    "ExecuteTime": {
     "end_time": "2020-06-21T03:16:05.129548Z",
     "start_time": "2020-06-21T03:16:05.127693Z"
    },
    "scrolled": true
   },
   "outputs": [],
   "source": [
    "lr = LinearRegression()"
   ]
  },
  {
   "cell_type": "code",
   "execution_count": 15,
   "metadata": {
    "ExecuteTime": {
     "end_time": "2020-06-21T03:19:37.679350Z",
     "start_time": "2020-06-21T03:16:05.270137Z"
    },
    "scrolled": false
   },
   "outputs": [
    {
     "name": "stderr",
     "output_type": "stream",
     "text": [
      "  0%|          | 0/12 [00:00<?, ?it/s]"
     ]
    },
    {
     "name": "stdout",
     "output_type": "stream",
     "text": [
      "---------{dates}\n",
      "---------{dates}\n",
      "---------{dates}\n",
      "---------{dates}\n",
      "---------{dates}\n",
      "---------{dates}\n",
      "---------{dates}\n"
     ]
    },
    {
     "name": "stderr",
     "output_type": "stream",
     "text": [
      "  8%|▊         | 1/12 [00:00<00:08,  1.34it/s]"
     ]
    },
    {
     "name": "stdout",
     "output_type": "stream",
     "text": [
      "---------{dates}\n",
      "---------{dates}\n",
      "---------{dates}\n",
      "---------{dates}\n",
      "---------{dates}\n",
      "---------{dates}\n",
      "---------{dates}\n",
      "---------{dates}\n",
      "---------{dates}\n",
      "---------{dates}\n",
      "---------{dates}\n",
      "---------{dates}\n",
      "---------{dates}\n",
      "---------{dates}\n",
      "---------{dates}\n",
      "---------{dates}\n",
      "---------{dates}\n",
      "---------{dates}\n",
      "---------{dates}\n",
      "---------{dates}\n",
      "---------{dates}\n",
      "---------{dates}\n",
      "---------{dates}\n",
      "---------{dates}\n"
     ]
    },
    {
     "name": "stderr",
     "output_type": "stream",
     "text": [
      " 17%|█▋        | 2/12 [00:02<00:15,  1.57s/it]"
     ]
    },
    {
     "name": "stdout",
     "output_type": "stream",
     "text": [
      "---------{dates}\n",
      "---------{dates}\n",
      "---------{dates}\n",
      "---------{dates}\n",
      "---------{dates}\n",
      "---------{dates}\n",
      "---------{dates}\n",
      "---------{dates}\n"
     ]
    },
    {
     "name": "stderr",
     "output_type": "stream",
     "text": [
      " 25%|██▌       | 3/12 [00:03<00:08,  1.00it/s]"
     ]
    },
    {
     "name": "stdout",
     "output_type": "stream",
     "text": [
      "---------{dates}\n",
      "---------{dates}\n",
      "---------{dates}\n",
      "---------{dates}\n",
      "---------{dates}\n",
      "---------{dates}\n",
      "---------{dates}\n",
      "---------{dates}\n",
      "---------{dates}\n",
      "---------{dates}\n",
      "---------{dates}\n",
      "---------{dates}\n",
      "---------{dates}\n",
      "---------{dates}\n",
      "---------{dates}\n",
      "---------{dates}\n",
      "---------{dates}\n",
      "---------{dates}\n",
      "---------{dates}\n",
      "---------{dates}\n",
      "---------{dates}\n",
      "---------{dates}\n",
      "---------{dates}\n",
      "---------{dates}\n"
     ]
    },
    {
     "name": "stderr",
     "output_type": "stream",
     "text": [
      " 33%|███▎      | 4/12 [00:04<00:07,  1.09it/s]"
     ]
    },
    {
     "name": "stdout",
     "output_type": "stream",
     "text": [
      "---------{dates}\n",
      "---------{dates}\n",
      "---------{dates}\n",
      "---------{dates}\n",
      "---------{dates}\n",
      "---------{dates}\n",
      "---------{dates}\n",
      "---------{dates}\n",
      "---------{dates}\n"
     ]
    },
    {
     "name": "stderr",
     "output_type": "stream",
     "text": [
      " 42%|████▏     | 5/12 [00:04<00:06,  1.14it/s]"
     ]
    },
    {
     "name": "stdout",
     "output_type": "stream",
     "text": [
      "---------{dates}\n",
      "---------{dates}\n",
      "---------{dates}\n",
      "---------{dates}\n",
      "---------{dates}\n",
      "---------{dates}\n",
      "---------{dates}\n",
      "---------{dates}\n",
      "---------{dates}\n",
      "---------{dates}\n",
      "---------{dates}\n",
      "---------{dates}\n",
      "---------{dates}\n",
      "---------{dates}\n",
      "---------{dates}\n",
      "---------{dates}\n",
      "---------{dates}\n",
      "---------{dates}\n",
      "---------{dates}\n",
      "---------{dates}\n",
      "---------{dates}\n",
      "---------{dates}\n",
      "---------{dates}\n",
      "---------{dates}\n"
     ]
    },
    {
     "name": "stderr",
     "output_type": "stream",
     "text": [
      " 50%|█████     | 6/12 [00:06<00:07,  1.28s/it]"
     ]
    },
    {
     "name": "stdout",
     "output_type": "stream",
     "text": [
      "---------{dates}\n",
      "---------{dates}\n",
      "---------{dates}\n",
      "---------{dates}\n",
      "---------{dates}\n",
      "---------{dates}\n",
      "---------{dates}\n"
     ]
    },
    {
     "name": "stderr",
     "output_type": "stream",
     "text": [
      " 58%|█████▊    | 7/12 [00:07<00:04,  1.03it/s]"
     ]
    },
    {
     "name": "stdout",
     "output_type": "stream",
     "text": [
      "---------{dates}\n",
      "---------{dates}\n",
      "---------{dates}\n",
      "---------{dates}\n",
      "---------{dates}\n",
      "---------{dates}\n",
      "---------{dates}\n",
      "---------{dates}\n",
      "---------{dates}\n",
      "---------{dates}\n",
      "---------{dates}\n",
      "---------{dates}\n",
      "---------{dates}\n",
      "---------{dates}\n",
      "---------{dates}\n",
      "---------{dates}\n",
      "---------{dates}\n",
      "---------{dates}\n",
      "---------{dates}\n",
      "---------{dates}\n",
      "---------{dates}\n",
      "---------{dates}\n",
      "---------{dates}\n",
      "---------{dates}\n",
      "---------{dates}\n"
     ]
    },
    {
     "name": "stderr",
     "output_type": "stream",
     "text": [
      " 67%|██████▋   | 8/12 [00:08<00:03,  1.07it/s]"
     ]
    },
    {
     "name": "stdout",
     "output_type": "stream",
     "text": [
      "---------{dates}\n",
      "---------{dates}\n",
      "---------{dates}\n",
      "---------{dates}\n",
      "---------{dates}\n",
      "---------{dates}\n",
      "---------{dates}\n",
      "---------{dates}\n"
     ]
    },
    {
     "name": "stderr",
     "output_type": "stream",
     "text": [
      " 75%|███████▌  | 9/12 [00:08<00:02,  1.12it/s]"
     ]
    },
    {
     "name": "stdout",
     "output_type": "stream",
     "text": [
      "---------{dates}\n",
      "---------{dates}\n",
      "---------{dates}\n",
      "---------{dates}\n",
      "---------{dates}\n",
      "---------{dates}\n",
      "---------{dates}\n",
      "---------{dates}\n",
      "---------{dates}\n",
      "---------{dates}\n",
      "---------{dates}\n",
      "---------{dates}\n",
      "---------{dates}\n",
      "---------{dates}\n",
      "---------{dates}\n",
      "---------{dates}\n",
      "---------{dates}\n",
      "---------{dates}\n",
      "---------{dates}\n",
      "---------{dates}\n",
      "---------{dates}\n",
      "---------{dates}\n",
      "---------{dates}\n",
      "---------{dates}\n"
     ]
    },
    {
     "name": "stderr",
     "output_type": "stream",
     "text": [
      " 83%|████████▎ | 10/12 [00:11<00:02,  1.29s/it]"
     ]
    },
    {
     "name": "stdout",
     "output_type": "stream",
     "text": [
      "---------{dates}\n",
      "---------{dates}\n",
      "---------{dates}\n",
      "---------{dates}\n",
      "---------{dates}\n",
      "---------{dates}\n",
      "---------{dates}\n"
     ]
    },
    {
     "name": "stderr",
     "output_type": "stream",
     "text": [
      " 92%|█████████▏| 11/12 [00:11<00:01,  1.01s/it]"
     ]
    },
    {
     "name": "stdout",
     "output_type": "stream",
     "text": [
      "---------{dates}\n",
      "---------{dates}\n",
      "---------{dates}\n",
      "---------{dates}\n",
      "---------{dates}\n",
      "---------{dates}\n",
      "---------{dates}\n",
      "---------{dates}\n",
      "---------{dates}\n",
      "---------{dates}\n",
      "---------{dates}\n",
      "---------{dates}\n",
      "---------{dates}\n",
      "---------{dates}\n",
      "---------{dates}\n",
      "---------{dates}\n",
      "---------{dates}\n",
      "---------{dates}\n",
      "---------{dates}\n",
      "---------{dates}\n",
      "---------{dates}\n",
      "---------{dates}\n",
      "---------{dates}\n",
      "---------{dates}\n",
      "---------{dates}\n"
     ]
    },
    {
     "name": "stderr",
     "output_type": "stream",
     "text": [
      "100%|██████████| 12/12 [00:12<00:00,  1.02s/it]\n"
     ]
    }
   ],
   "source": [
    "lr_metrics = []\n",
    "\n",
    "# iterate over our three CV configuration parameters\n",
    "for lookahead, train_length, test_length in tqdm(test_params):\n",
    "    label = f'r{lookahead:02}_fwd'\n",
    "    df = pd.get_dummies(data.loc[:, features + [label]].dropna(), \n",
    "                        columns=categoricals, \n",
    "                        drop_first=True)\n",
    "    X, y = df.drop(label, axis=1), df[label]\n",
    "\n",
    "    n_splits = int(2 * YEAR / test_length)\n",
    "    cv = MultipleTimeSeriesCV(n_splits=n_splits,\n",
    "                              test_period_length=test_length,\n",
    "                              lookahead=lookahead,\n",
    "                              train_period_length=train_length)\n",
    "\n",
    "    ic, preds = [], []\n",
    "    for i, (train_idx, test_idx) in enumerate(cv.split(X=X)):\n",
    "        X_train, y_train = X.iloc[train_idx], y.iloc[train_idx]\n",
    "        X_test, y_test = X.iloc[test_idx], y.iloc[test_idx]\n",
    "        lr.fit(X_train, y_train)\n",
    "        y_pred = lr.predict(X_test)\n",
    "        preds.append(y_test.to_frame('y_true').assign(y_pred=y_pred))\n",
    "        ic.append(spearmanr(y_test, y_pred)[0])\n",
    "    preds = pd.concat(preds)\n",
    "    lr_metrics.append([lookahead, \n",
    "                       train_length, \n",
    "                       test_length,\n",
    "                       np.mean(ic),\n",
    "                       spearmanr(preds.y_true, preds.y_pred)[0]\n",
    "                      ])\n",
    "\n",
    "columns = ['lookahead', 'train_length', 'test_length', 'ic_by_day', 'ic']\n",
    "lr_metrics = pd.DataFrame(lr_metrics, columns=columns)"
   ]
  },
  {
   "cell_type": "markdown",
   "metadata": {},
   "source": [
    "### Information Coefficient - Distribution by Lookahead"
   ]
  },
  {
   "cell_type": "code",
   "execution_count": 16,
   "metadata": {
    "ExecuteTime": {
     "end_time": "2020-06-21T03:19:37.897475Z",
     "start_time": "2020-06-21T03:19:37.680445Z"
    }
   },
   "outputs": [
    {
     "data": {
      "image/png": "[encoded data removed]",
      "text/plain": [
       "<Figure size 1400x500 with 2 Axes>"
      ]
     },
     "metadata": {},
     "output_type": "display_data"
    }
   ],
   "source": [
    "fig, axes = plt.subplots(ncols=2, figsize=(14,5), sharey=True)\n",
    "\n",
    "# plot average of daily IC values\n",
    "sns.boxplot(x='lookahead', y='ic_by_day',data=lr_metrics, ax=axes[0])\n",
    "axes[0].set_title('IC by Day')\n",
    "\n",
    "# plot IC across all predictions\n",
    "sns.boxplot(x='lookahead', y='ic',data=lr_metrics, ax=axes[1])\n",
    "axes[1].set_title('IC Overall')\n",
    "axes[0].set_ylabel('Information Coefficient')\n",
    "axes[1].set_ylabel('')\n",
    "fig.tight_layout()"
   ]
  },
  {
   "cell_type": "markdown",
   "metadata": {},
   "source": [
    "### Best Train/Test Period Lengths"
   ]
  },
  {
   "cell_type": "markdown",
   "metadata": {},
   "source": [
    "For one- and five-day return forecasts, shorter train- and test-length yield better results in terms of daily avg IC:"
   ]
  },
  {
   "cell_type": "code",
   "execution_count": 17,
   "metadata": {
    "ExecuteTime": {
     "end_time": "2020-06-21T03:19:37.911949Z",
     "start_time": "2020-06-21T03:19:37.898655Z"
    },
    "scrolled": true
   },
   "outputs": [
    {
     "data": {
      "text/html": [
       "<div>\n",
       "<style scoped>\n",
       "    .dataframe tbody tr th:only-of-type {\n",
       "        vertical-align: middle;\n",
       "    }\n",
       "\n",
       "    .dataframe tbody tr th {\n",
       "        vertical-align: top;\n",
       "    }\n",
       "\n",
       "    .dataframe thead th {\n",
       "        text-align: right;\n",
       "    }\n",
       "</style>\n",
       "<table border=\"1\" class=\"dataframe\">\n",
       "  <thead>\n",
       "    <tr style=\"text-align: right;\">\n",
       "      <th></th>\n",
       "      <th>lookahead</th>\n",
       "      <th>train_length</th>\n",
       "      <th>test_length</th>\n",
       "      <th>ic_by_day</th>\n",
       "      <th>ic</th>\n",
       "    </tr>\n",
       "  </thead>\n",
       "  <tbody>\n",
       "    <tr>\n",
       "      <th>0</th>\n",
       "      <td>1</td>\n",
       "      <td>1134</td>\n",
       "      <td>63</td>\n",
       "      <td>0.023812</td>\n",
       "      <td>0.013312</td>\n",
       "    </tr>\n",
       "    <tr>\n",
       "      <th>2</th>\n",
       "      <td>1</td>\n",
       "      <td>252</td>\n",
       "      <td>63</td>\n",
       "      <td>0.023661</td>\n",
       "      <td>0.029875</td>\n",
       "    </tr>\n",
       "    <tr>\n",
       "      <th>1</th>\n",
       "      <td>1</td>\n",
       "      <td>1134</td>\n",
       "      <td>21</td>\n",
       "      <td>0.011358</td>\n",
       "      <td>0.018533</td>\n",
       "    </tr>\n",
       "    <tr>\n",
       "      <th>7</th>\n",
       "      <td>5</td>\n",
       "      <td>252</td>\n",
       "      <td>21</td>\n",
       "      <td>0.064077</td>\n",
       "      <td>-0.006943</td>\n",
       "    </tr>\n",
       "    <tr>\n",
       "      <th>4</th>\n",
       "      <td>5</td>\n",
       "      <td>1134</td>\n",
       "      <td>63</td>\n",
       "      <td>0.045588</td>\n",
       "      <td>-0.012699</td>\n",
       "    </tr>\n",
       "    <tr>\n",
       "      <th>5</th>\n",
       "      <td>5</td>\n",
       "      <td>1134</td>\n",
       "      <td>21</td>\n",
       "      <td>0.027525</td>\n",
       "      <td>0.016340</td>\n",
       "    </tr>\n",
       "    <tr>\n",
       "      <th>11</th>\n",
       "      <td>21</td>\n",
       "      <td>252</td>\n",
       "      <td>21</td>\n",
       "      <td>0.059322</td>\n",
       "      <td>-0.162169</td>\n",
       "    </tr>\n",
       "    <tr>\n",
       "      <th>9</th>\n",
       "      <td>21</td>\n",
       "      <td>1134</td>\n",
       "      <td>21</td>\n",
       "      <td>0.044672</td>\n",
       "      <td>-0.014568</td>\n",
       "    </tr>\n",
       "    <tr>\n",
       "      <th>10</th>\n",
       "      <td>21</td>\n",
       "      <td>252</td>\n",
       "      <td>63</td>\n",
       "      <td>0.020419</td>\n",
       "      <td>0.070046</td>\n",
       "    </tr>\n",
       "  </tbody>\n",
       "</table>\n",
       "</div>"
      ],
      "text/plain": [
       "    lookahead  train_length  test_length  ic_by_day        ic\n",
       "0           1          1134           63   0.023812  0.013312\n",
       "2           1           252           63   0.023661  0.029875\n",
       "1           1          1134           21   0.011358  0.018533\n",
       "7           5           252           21   0.064077 -0.006943\n",
       "4           5          1134           63   0.045588 -0.012699\n",
       "5           5          1134           21   0.027525  0.016340\n",
       "11         21           252           21   0.059322 -0.162169\n",
       "9          21          1134           21   0.044672 -0.014568\n",
       "10         21           252           63   0.020419  0.070046"
      ]
     },
     "execution_count": 17,
     "metadata": {},
     "output_type": "execute_result"
    }
   ],
   "source": [
    "(lr_metrics.groupby('lookahead', group_keys=False)\n",
    " .apply(lambda x: x.nlargest(3, 'ic_by_day')))"
   ]
  },
  {
   "cell_type": "code",
   "execution_count": 18,
   "metadata": {
    "ExecuteTime": {
     "end_time": "2020-06-21T03:19:37.920850Z",
     "start_time": "2020-06-21T03:19:37.913179Z"
    }
   },
   "outputs": [],
   "source": [
    "lr_metrics.to_csv(results_path / 'lin_reg_metrics.csv', index=False)"
   ]
  },
  {
   "cell_type": "markdown",
   "metadata": {},
   "source": [
    "## LightGBM Model Tuning"
   ]
  },
  {
   "cell_type": "markdown",
   "metadata": {},
   "source": [
    "The notebook example iterates over many configurations, optionally using random samples to speed up model selection using a diverse subset. The goal is to identify the most impactful parameters without trying every possible combination."
   ]
  },
  {
   "cell_type": "code",
   "execution_count": 45,
   "metadata": {
    "ExecuteTime": {
     "end_time": "2020-06-21T03:19:37.935808Z",
     "start_time": "2020-06-21T03:19:37.921761Z"
    }
   },
   "outputs": [],
   "source": [
    "def get_fi(model):\n",
    "    \"\"\"Return normalized feature importance as pd.Series\"\"\"\n",
    "    fi = model.feature_importance(importance_type='gain')\n",
    "    return (pd.Series(fi / fi.sum(),\n",
    "                      index=model.feature_name()))"
   ]
  },
  {
   "cell_type": "markdown",
   "metadata": {},
   "source": [
    "### Hyperparameter Options"
   ]
  },
  {
   "cell_type": "markdown",
   "metadata": {},
   "source": [
    "The `base_params` are not affected by cross-validation:"
   ]
  },
  {
   "cell_type": "code",
   "execution_count": 46,
   "metadata": {
    "ExecuteTime": {
     "end_time": "2020-06-21T03:19:37.943601Z",
     "start_time": "2020-06-21T03:19:37.936926Z"
    },
    "scrolled": true
   },
   "outputs": [],
   "source": [
    "base_params = dict(boosting='gbdt',\n",
    "                   objective='regression',\n",
    "                   verbose=-1)"
   ]
  },
  {
   "cell_type": "markdown",
   "metadata": {},
   "source": [
    "We choose the following parameters and values to select our best model:"
   ]
  },
  {
   "cell_type": "code",
   "execution_count": 47,
   "metadata": {
    "ExecuteTime": {
     "end_time": "2020-06-21T03:19:37.952308Z",
     "start_time": "2020-06-21T03:19:37.944671Z"
    },
    "scrolled": true
   },
   "outputs": [],
   "source": [
    "# constraints on structure (depth) of each tree\n",
    "max_depths = [2, 3, 5, 7]\n",
    "num_leaves_opts = [2 ** i for i in max_depths]\n",
    "min_data_in_leaf_opts = [250, 500, 1000]\n",
    "\n",
    "# weight of each new tree in the ensemble\n",
    "learning_rate_ops = [.01, .1, .3]\n",
    "\n",
    "# random feature selection\n",
    "feature_fraction_opts = [.3, .6, .95]"
   ]
  },
  {
   "cell_type": "code",
   "execution_count": 48,
   "metadata": {
    "ExecuteTime": {
     "end_time": "2020-06-21T03:19:37.960258Z",
     "start_time": "2020-06-21T03:19:37.953744Z"
    }
   },
   "outputs": [],
   "source": [
    "param_names = ['learning_rate', 'num_leaves',\n",
    "               'feature_fraction', 'min_data_in_leaf']"
   ]
  },
  {
   "cell_type": "code",
   "execution_count": 49,
   "metadata": {
    "ExecuteTime": {
     "end_time": "2020-06-21T03:19:37.969006Z",
     "start_time": "2020-06-21T03:19:37.961383Z"
    },
    "scrolled": true
   },
   "outputs": [
    {
     "name": "stdout",
     "output_type": "stream",
     "text": [
      "# Parameters: 108\n"
     ]
    }
   ],
   "source": [
    "cv_params = list(product(learning_rate_ops,\n",
    "                         num_leaves_opts,\n",
    "                         feature_fraction_opts,\n",
    "                         min_data_in_leaf_opts))\n",
    "n_params = len(cv_params)\n",
    "print(f'# Parameters: {n_params}')"
   ]
  },
  {
   "cell_type": "markdown",
   "metadata": {},
   "source": [
    "### Train/Test Period Lengths"
   ]
  },
  {
   "cell_type": "code",
   "execution_count": 78,
   "metadata": {
    "ExecuteTime": {
     "end_time": "2020-06-21T03:19:37.977749Z",
     "start_time": "2020-06-21T03:19:37.969903Z"
    }
   },
   "outputs": [],
   "source": [
    "# lookaheads = [1, 5, 21]\n",
    "lookaheads = [1]\n",
    "label_dict = dict(zip(lookaheads, labels))"
   ]
  },
  {
   "cell_type": "markdown",
   "metadata": {},
   "source": [
    "We only use test periods of 63 days length to save some model training and evaluation time."
   ]
  },
  {
   "cell_type": "code",
   "execution_count": 79,
   "metadata": {
    "ExecuteTime": {
     "end_time": "2020-06-21T03:19:37.986465Z",
     "start_time": "2020-06-21T03:19:37.978744Z"
    },
    "scrolled": true
   },
   "outputs": [],
   "source": [
    "train_lengths = [252]\n",
    "# train_lengths = [int(4.5 * 252)]\n",
    "test_lengths = [63]"
   ]
  },
  {
   "cell_type": "code",
   "execution_count": 80,
   "metadata": {
    "ExecuteTime": {
     "end_time": "2020-06-21T03:19:37.995277Z",
     "start_time": "2020-06-21T03:19:37.987379Z"
    },
    "scrolled": true
   },
   "outputs": [
    {
     "name": "stdout",
     "output_type": "stream",
     "text": [
      "Train configs: 1\n"
     ]
    }
   ],
   "source": [
    "test_params = list(product(lookaheads, train_lengths, test_lengths))\n",
    "n = len(test_params)\n",
    "test_param_sample = np.random.choice(list(range(n)), size=int(n), replace=False)\n",
    "test_params = [test_params[i] for i in test_param_sample]\n",
    "print('Train configs:', len(test_params))"
   ]
  },
  {
   "cell_type": "markdown",
   "metadata": {},
   "source": [
    "### Categorical Variables"
   ]
  },
  {
   "cell_type": "markdown",
   "metadata": {},
   "source": [
    "We integer-encode categorical variables with values starting at zero, as expected by LightGBM (not necessary\n",
    "as long as the category codes have values less than $2^{32}$, but avoids a warning)"
   ]
  },
  {
   "cell_type": "code",
   "execution_count": 81,
   "metadata": {
    "ExecuteTime": {
     "end_time": "2020-06-21T03:19:38.043537Z",
     "start_time": "2020-06-21T03:19:37.996178Z"
    },
    "scrolled": true
   },
   "outputs": [],
   "source": [
    "categoricals = ['year', 'weekday', 'month']\n",
    "for feature in categoricals:\n",
    "    data[feature] = pd.factorize(data[feature], sort=True)[0]"
   ]
  },
  {
   "cell_type": "markdown",
   "metadata": {},
   "source": [
    "### Custom Loss Function: Information Coefficient"
   ]
  },
  {
   "cell_type": "code",
   "execution_count": 82,
   "metadata": {
    "ExecuteTime": {
     "end_time": "2020-06-21T03:19:38.046578Z",
     "start_time": "2020-06-21T03:19:38.044405Z"
    }
   },
   "outputs": [],
   "source": [
    "def ic_lgbm(preds, train_data):\n",
    "    \"\"\"Custom IC eval metric for lightgbm\"\"\"\n",
    "    is_higher_better = True\n",
    "    return 'ic', spearmanr(preds, train_data.get_label())[0], is_higher_better"
   ]
  },
  {
   "cell_type": "markdown",
   "metadata": {},
   "source": [
    "### Run Cross-Validation"
   ]
  },
  {
   "cell_type": "markdown",
   "metadata": {},
   "source": [
    "To explore the hyperparameter space, we specify values for key parameters that we would like to test in combination. The sklearn library supports `RandomizedSearchCV` to cross-validate a subset of parameter combinations that are sampled randomly from specified distributions. We will use a custom version that allows us to monitor performance so we can abort the search process once we're satisfied with the result, rather than specifying a set number of iterations beforehand."
   ]
  },
  {
   "cell_type": "code",
   "execution_count": 83,
   "metadata": {
    "ExecuteTime": {
     "end_time": "2020-06-21T03:19:38.054547Z",
     "start_time": "2020-06-21T03:19:38.047670Z"
    },
    "scrolled": true
   },
   "outputs": [],
   "source": [
    "lgb_store = Path(results_path / 'tuning_lgb.h5')"
   ]
  },
  {
   "cell_type": "code",
   "execution_count": 84,
   "metadata": {
    "ExecuteTime": {
     "end_time": "2020-06-21T03:19:38.070171Z",
     "start_time": "2020-06-21T03:19:38.055637Z"
    },
    "scrolled": true
   },
   "outputs": [],
   "source": [
    "labels = sorted(data.filter(like='fwd').columns)\n",
    "features = data.columns.difference(labels).tolist()"
   ]
  },
  {
   "cell_type": "code",
   "execution_count": 85,
   "metadata": {
    "ExecuteTime": {
     "end_time": "2020-06-21T03:19:38.078077Z",
     "start_time": "2020-06-21T03:19:38.071079Z"
    },
    "scrolled": true
   },
   "outputs": [],
   "source": [
    "label_dict = dict(zip(lookaheads, labels))"
   ]
  },
  {
   "cell_type": "code",
   "execution_count": 86,
   "metadata": {
    "ExecuteTime": {
     "end_time": "2020-06-21T03:19:38.086476Z",
     "start_time": "2020-06-21T03:19:38.078921Z"
    },
    "scrolled": true
   },
   "outputs": [],
   "source": [
    "num_iterations = [10, 25, 50, 75] + list(range(100, 501, 50))\n",
    "num_boost_round = num_iterations[-1]"
   ]
  },
  {
   "cell_type": "code",
   "execution_count": 87,
   "metadata": {
    "ExecuteTime": {
     "end_time": "2020-06-21T03:19:38.094204Z",
     "start_time": "2020-06-21T03:19:38.087354Z"
    },
    "scrolled": true
   },
   "outputs": [],
   "source": [
    "metric_cols = (param_names + ['t', 'daily_ic_mean', 'daily_ic_mean_n',\n",
    "                              'daily_ic_median', 'daily_ic_median_n'] +\n",
    "               [str(n) for n in num_iterations])"
   ]
  },
  {
   "cell_type": "markdown",
   "metadata": {},
   "source": [
    "We iterate over our six CV configurations and collect the resulting metrics:"
   ]
  },
  {
   "cell_type": "code",
   "execution_count": 88,
   "metadata": {
    "ExecuteTime": {
     "end_time": "2020-06-21T11:56:42.000694Z",
     "start_time": "2020-06-21T03:19:38.095078Z"
    },
    "scrolled": false
   },
   "outputs": [
    {
     "name": "stdout",
     "output_type": "stream",
     "text": [
      "Lookahead:  1 | Train: 252 | Test: 63 | Params:  54 | Train configs: 1\n",
      "---------{dates}\n",
      "---------{dates}\n",
      "---------{dates}\n",
      "---------{dates}\n",
      "---------{dates}\n",
      "---------{dates}\n",
      "---------{dates}\n",
      "---------{dates}\n",
      "\t  0 | 00:00:06 (  6) |  0.10 |   8 | 30% |  250 |   6.07% |  7.70% |  300 |  8.00% |  300\n",
      "---------{dates}\n",
      "---------{dates}\n",
      "---------{dates}\n",
      "---------{dates}\n",
      "---------{dates}\n",
      "---------{dates}\n",
      "---------{dates}\n",
      "---------{dates}\n",
      "\t  1 | 00:00:21 ( 15) |  0.01 | 128 | 95% |  500 |   4.49% |  6.94% |  400 |  8.11% |  300\n",
      "---------{dates}\n",
      "---------{dates}\n",
      "---------{dates}\n",
      "---------{dates}\n",
      "---------{dates}\n",
      "---------{dates}\n",
      "---------{dates}\n",
      "---------{dates}\n",
      "\t  2 | 00:00:25 (  5) |  0.10 |   4 | 30% |  250 |   5.29% |  7.37% |  500 |  7.49% |  450\n",
      "---------{dates}\n",
      "---------{dates}\n",
      "---------{dates}\n",
      "---------{dates}\n",
      "---------{dates}\n",
      "---------{dates}\n",
      "---------{dates}\n",
      "---------{dates}\n",
      "\t  3 | 00:00:44 ( 19) |  0.01 |  32 | 60% |  250 |   5.13% |  7.10% |  500 |  7.69% |  500\n",
      "---------{dates}\n",
      "---------{dates}\n",
      "---------{dates}\n",
      "---------{dates}\n",
      "---------{dates}\n",
      "---------{dates}\n",
      "---------{dates}\n",
      "---------{dates}\n",
      "\t  4 | 00:00:49 (  5) |  0.10 |   4 | 60% |  250 |   5.66% |  7.75% |  500 |  7.83% |  450\n",
      "---------{dates}\n",
      "---------{dates}\n",
      "---------{dates}\n",
      "---------{dates}\n",
      "---------{dates}\n",
      "---------{dates}\n",
      "---------{dates}\n",
      "---------{dates}\n",
      "\t  5 | 00:01:13 ( 24) |  0.10 | 128 | 60% |  250 |   5.55% |  7.59% |   75 |  8.61% |  300\n",
      "---------{dates}\n",
      "---------{dates}\n",
      "---------{dates}\n",
      "---------{dates}\n",
      "---------{dates}\n",
      "---------{dates}\n",
      "---------{dates}\n",
      "---------{dates}\n",
      "\t  6 | 00:01:22 (  9) |  0.30 | 128 | 30% | 1000 |   5.28% |  7.63% |  250 |  8.33% |  250\n",
      "---------{dates}\n",
      "---------{dates}\n",
      "---------{dates}\n",
      "---------{dates}\n",
      "---------{dates}\n",
      "---------{dates}\n",
      "---------{dates}\n",
      "---------{dates}\n",
      "\t  7 | 00:01:28 (  5) |  0.01 |   4 | 95% |  250 |   2.83% |  5.63% |  500 |  5.40% |  400\n",
      "---------{dates}\n",
      "---------{dates}\n",
      "---------{dates}\n",
      "---------{dates}\n",
      "---------{dates}\n",
      "---------{dates}\n",
      "---------{dates}\n",
      "---------{dates}\n",
      "\t  8 | 00:01:37 (  9) |  0.30 |  32 | 30% | 1000 |   5.28% |  7.63% |  250 |  8.33% |  250\n",
      "---------{dates}\n",
      "---------{dates}\n",
      "---------{dates}\n",
      "---------{dates}\n",
      "---------{dates}\n",
      "---------{dates}\n",
      "---------{dates}\n",
      "---------{dates}\n",
      "\t  9 | 00:01:45 (  8) |  0.10 |   8 | 95% |  500 |   5.57% |  7.76% |  500 |  7.93% |  150\n",
      "---------{dates}\n",
      "---------{dates}\n",
      "---------{dates}\n",
      "---------{dates}\n",
      "---------{dates}\n",
      "---------{dates}\n",
      "---------{dates}\n",
      "---------{dates}\n",
      "\t 10 | 00:01:54 (  8) |  0.01 |   8 | 60% | 1000 |   3.66% |  6.63% |  500 |  6.42% |  500\n",
      "---------{dates}\n",
      "---------{dates}\n",
      "---------{dates}\n",
      "---------{dates}\n",
      "---------{dates}\n",
      "---------{dates}\n",
      "---------{dates}\n",
      "---------{dates}\n",
      "\t 11 | 00:02:01 (  8) |  0.10 |   8 | 60% |  250 |   5.70% |  7.82% |  500 |  7.53% |  500\n",
      "---------{dates}\n",
      "---------{dates}\n",
      "---------{dates}\n",
      "---------{dates}\n",
      "---------{dates}\n",
      "---------{dates}\n",
      "---------{dates}\n",
      "---------{dates}\n",
      "\t 12 | 00:02:07 (  6) |  0.30 |   4 | 95% | 1000 |   6.23% |  7.94% |  250 |  9.15% |   75\n",
      "---------{dates}\n",
      "---------{dates}\n",
      "---------{dates}\n",
      "---------{dates}\n",
      "---------{dates}\n",
      "---------{dates}\n",
      "---------{dates}\n",
      "---------{dates}\n",
      "\t 13 | 00:02:24 ( 17) |  0.30 | 128 | 95% |  500 |   4.57% |  7.13% |  100 |  7.07% |  150\n",
      "---------{dates}\n",
      "---------{dates}\n",
      "---------{dates}\n",
      "---------{dates}\n",
      "---------{dates}\n",
      "---------{dates}\n",
      "---------{dates}\n",
      "---------{dates}\n",
      "\t 14 | 00:02:49 ( 24) |  0.30 | 128 | 30% |  250 |   4.48% |  6.24% |  100 |  6.80% |   10\n",
      "---------{dates}\n",
      "---------{dates}\n",
      "---------{dates}\n",
      "---------{dates}\n",
      "---------{dates}\n",
      "---------{dates}\n",
      "---------{dates}\n",
      "---------{dates}\n",
      "\t 15 | 00:02:57 (  8) |  0.30 |   8 | 60% | 1000 |   6.18% |  7.72% |  100 |  8.25% |   50\n",
      "---------{dates}\n",
      "---------{dates}\n",
      "---------{dates}\n",
      "---------{dates}\n",
      "---------{dates}\n",
      "---------{dates}\n",
      "---------{dates}\n",
      "---------{dates}\n",
      "\t 16 | 00:03:03 (  6) |  0.01 |   4 | 95% | 1000 |   2.81% |  6.45% |  500 |  6.60% |  500\n",
      "---------{dates}\n",
      "---------{dates}\n",
      "---------{dates}\n",
      "---------{dates}\n",
      "---------{dates}\n",
      "---------{dates}\n",
      "---------{dates}\n",
      "---------{dates}\n",
      "\t 17 | 00:03:19 ( 16) |  0.10 | 128 | 60% |  500 |   5.45% |  7.99% |  200 |  8.39% |  300\n",
      "---------{dates}\n",
      "---------{dates}\n",
      "---------{dates}\n",
      "---------{dates}\n",
      "---------{dates}\n",
      "---------{dates}\n",
      "---------{dates}\n",
      "---------{dates}\n",
      "\t 18 | 00:03:29 ( 10) |  0.30 | 128 | 60% | 1000 |   5.44% |  7.60% |   50 |  7.87% |   50\n",
      "---------{dates}\n",
      "---------{dates}\n",
      "---------{dates}\n",
      "---------{dates}\n",
      "---------{dates}\n",
      "---------{dates}\n",
      "---------{dates}\n",
      "---------{dates}\n",
      "\t 19 | 00:03:37 (  8) |  0.10 |   8 | 30% | 1000 |   5.33% |  7.80% |  500 |  7.90% |  450\n",
      "---------{dates}\n",
      "---------{dates}\n",
      "---------{dates}\n",
      "---------{dates}\n",
      "---------{dates}\n",
      "---------{dates}\n",
      "---------{dates}\n",
      "---------{dates}\n",
      "\t 20 | 00:03:48 ( 11) |  0.30 | 128 | 95% | 1000 |   3.85% |  6.73% |  350 |  7.48% |  100\n",
      "---------{dates}\n",
      "---------{dates}\n",
      "---------{dates}\n",
      "---------{dates}\n",
      "---------{dates}\n",
      "---------{dates}\n",
      "---------{dates}\n",
      "---------{dates}\n",
      "\t 21 | 00:04:12 ( 24) |  0.01 | 128 | 30% |  250 |   4.68% |  7.00% |  500 |  7.66% |  500\n",
      "---------{dates}\n",
      "---------{dates}\n",
      "---------{dates}\n",
      "---------{dates}\n",
      "---------{dates}\n",
      "---------{dates}\n",
      "---------{dates}\n",
      "---------{dates}\n",
      "\t 22 | 00:04:30 ( 18) |  0.10 | 128 | 95% |  500 |   5.07% |  7.96% |  250 |  8.86% |  250\n",
      "---------{dates}\n",
      "---------{dates}\n",
      "---------{dates}\n",
      "---------{dates}\n",
      "---------{dates}\n",
      "---------{dates}\n",
      "---------{dates}\n",
      "---------{dates}\n",
      "\t 23 | 00:04:40 ( 10) |  0.01 |  32 | 30% | 1000 |   3.82% |  6.64% |  500 |  6.33% |  450\n",
      "---------{dates}\n",
      "---------{dates}\n",
      "---------{dates}\n",
      "---------{dates}\n",
      "---------{dates}\n",
      "---------{dates}\n",
      "---------{dates}\n",
      "---------{dates}\n",
      "\t 24 | 00:04:48 (  8) |  0.30 |   8 | 60% |  500 |   5.81% |  7.75% |  200 |  6.95% |   25\n",
      "---------{dates}\n",
      "---------{dates}\n",
      "---------{dates}\n",
      "---------{dates}\n",
      "---------{dates}\n",
      "---------{dates}\n",
      "---------{dates}\n",
      "---------{dates}\n",
      "\t 25 | 00:13:57 (550) |  0.01 |  32 | 30% |  250 |   4.67% |  7.10% |  500 |  7.82% |  500\n",
      "---------{dates}\n",
      "---------{dates}\n",
      "---------{dates}\n",
      "---------{dates}\n",
      "---------{dates}\n",
      "---------{dates}\n",
      "---------{dates}\n",
      "---------{dates}\n",
      "\t 26 | 00:14:05 (  8) |  0.30 |  32 | 60% | 1000 |   5.44% |  7.60% |   50 |  7.87% |   50\n",
      "---------{dates}\n",
      "---------{dates}\n",
      "---------{dates}\n",
      "---------{dates}\n",
      "---------{dates}\n",
      "---------{dates}\n",
      "---------{dates}\n",
      "---------{dates}\n",
      "\t 27 | 00:14:12 (  7) |  0.01 |   8 | 95% | 1000 |   3.63% |  6.62% |  500 |  7.16% |  500\n",
      "---------{dates}\n",
      "---------{dates}\n",
      "---------{dates}\n",
      "---------{dates}\n",
      "---------{dates}\n",
      "---------{dates}\n",
      "---------{dates}\n",
      "---------{dates}\n",
      "\t 28 | 00:14:24 ( 13) |  0.10 |  32 | 60% |  500 |   5.45% |  7.99% |  200 |  8.39% |  300\n",
      "---------{dates}\n",
      "---------{dates}\n",
      "---------{dates}\n",
      "---------{dates}\n",
      "---------{dates}\n",
      "---------{dates}\n",
      "---------{dates}\n",
      "---------{dates}\n",
      "\t 29 | 00:14:33 (  8) |  0.01 |  32 | 95% | 1000 |   3.32% |  6.63% |  500 |  6.61% |  350\n",
      "---------{dates}\n",
      "---------{dates}\n",
      "---------{dates}\n",
      "---------{dates}\n",
      "---------{dates}\n",
      "---------{dates}\n",
      "---------{dates}\n",
      "---------{dates}\n",
      "\t 30 | 00:14:41 (  8) |  0.01 | 128 | 60% | 1000 |   3.66% |  6.60% |  500 |  6.78% |  400\n",
      "---------{dates}\n",
      "---------{dates}\n",
      "---------{dates}\n",
      "---------{dates}\n",
      "---------{dates}\n",
      "---------{dates}\n",
      "---------{dates}\n",
      "---------{dates}\n",
      "\t 31 | 00:14:55 ( 14) |  0.30 |  32 | 95% |  500 |   4.57% |  7.13% |  100 |  7.07% |  150\n",
      "---------{dates}\n",
      "---------{dates}\n",
      "---------{dates}\n",
      "---------{dates}\n",
      "---------{dates}\n",
      "---------{dates}\n",
      "---------{dates}\n",
      "---------{dates}\n",
      "\t 32 | 00:15:03 (  7) |  0.30 |   8 | 95% |  500 |   4.82% |  7.26% |  100 |  7.59% |  350\n",
      "---------{dates}\n",
      "---------{dates}\n",
      "---------{dates}\n",
      "---------{dates}\n",
      "---------{dates}\n",
      "---------{dates}\n",
      "---------{dates}\n",
      "---------{dates}\n",
      "\t 33 | 00:15:21 ( 19) |  0.01 |  32 | 95% |  250 |   4.63% |  6.98% |  500 |  7.45% |  500\n",
      "---------{dates}\n",
      "---------{dates}\n",
      "---------{dates}\n",
      "---------{dates}\n",
      "---------{dates}\n",
      "---------{dates}\n",
      "---------{dates}\n",
      "---------{dates}\n",
      "\t 34 | 00:15:31 (  9) |  0.01 | 128 | 95% | 1000 |   3.32% |  6.63% |  500 |  6.61% |  350\n",
      "---------{dates}\n",
      "---------{dates}\n",
      "---------{dates}\n",
      "---------{dates}\n",
      "---------{dates}\n",
      "---------{dates}\n",
      "---------{dates}\n",
      "---------{dates}\n",
      "\t 35 | 00:15:49 ( 18) |  0.10 |  32 | 60% |  250 |   5.43% |  7.51% |  100 |  8.02% |  300\n",
      "---------{dates}\n",
      "---------{dates}\n",
      "---------{dates}\n",
      "---------{dates}\n",
      "---------{dates}\n",
      "---------{dates}\n",
      "---------{dates}\n",
      "---------{dates}\n",
      "\t 36 | 00:15:54 (  5) |  0.01 |   4 | 95% |  500 |   2.82% |  6.16% |  500 |  5.76% |  500\n",
      "---------{dates}\n",
      "---------{dates}\n",
      "---------{dates}\n",
      "---------{dates}\n",
      "---------{dates}\n",
      "---------{dates}\n",
      "---------{dates}\n",
      "---------{dates}\n",
      "\t 37 | 00:15:59 (  5) |  0.10 |   4 | 60% |  500 |   5.66% |  7.43% |  350 |  7.28% |  250\n",
      "---------{dates}\n",
      "---------{dates}\n",
      "---------{dates}\n",
      "---------{dates}\n",
      "---------{dates}\n",
      "---------{dates}\n",
      "---------{dates}\n",
      "---------{dates}\n",
      "\t 38 | 00:16:05 (  6) |  0.10 |   4 | 95% |  500 |   5.24% |  7.68% |  300 |  7.91% |  250\n",
      "---------{dates}\n",
      "---------{dates}\n",
      "---------{dates}\n",
      "---------{dates}\n",
      "---------{dates}\n",
      "---------{dates}\n",
      "---------{dates}\n",
      "---------{dates}\n",
      "\t 39 | 00:16:28 ( 23) |  0.01 | 128 | 60% |  250 |   5.27% |  7.39% |  500 |  8.04% |  400\n",
      "---------{dates}\n",
      "---------{dates}\n",
      "---------{dates}\n",
      "---------{dates}\n",
      "---------{dates}\n",
      "---------{dates}\n",
      "---------{dates}\n",
      "---------{dates}\n",
      "\t 40 | 00:16:36 (  8) |  0.01 |   8 | 95% |  250 |   4.01% |  6.29% |  500 |  6.37% |  500\n",
      "---------{dates}\n",
      "---------{dates}\n",
      "---------{dates}\n",
      "---------{dates}\n",
      "---------{dates}\n",
      "---------{dates}\n",
      "---------{dates}\n",
      "---------{dates}\n",
      "\t 41 | 00:16:42 (  6) |  0.30 |   4 | 95% |  500 |   5.28% |  7.13% |  450 |  7.65% |   50\n",
      "---------{dates}\n",
      "---------{dates}\n",
      "---------{dates}\n",
      "---------{dates}\n",
      "---------{dates}\n",
      "---------{dates}\n",
      "---------{dates}\n",
      "---------{dates}\n",
      "\t 42 | 00:16:49 (  7) |  0.01 |   8 | 30% |  500 |   3.94% |  6.08% |  500 |  5.64% |  500\n",
      "---------{dates}\n",
      "---------{dates}\n",
      "---------{dates}\n",
      "---------{dates}\n",
      "---------{dates}\n",
      "---------{dates}\n",
      "---------{dates}\n",
      "---------{dates}\n",
      "\t 43 | 00:17:14 ( 25) |  0.30 | 128 | 60% |  250 |   5.01% |  6.28% |   50 |  7.23% |  100\n",
      "---------{dates}\n",
      "---------{dates}\n",
      "---------{dates}\n",
      "---------{dates}\n",
      "---------{dates}\n",
      "---------{dates}\n",
      "---------{dates}\n",
      "---------{dates}\n",
      "\t 44 | 00:17:20 (  6) |  0.10 |   4 | 95% |  250 |   5.41% |  7.50% |  500 |  7.85% |  500\n",
      "---------{dates}\n",
      "---------{dates}\n",
      "---------{dates}\n",
      "---------{dates}\n",
      "---------{dates}\n",
      "---------{dates}\n",
      "---------{dates}\n",
      "---------{dates}\n",
      "\t 45 | 00:17:27 (  8) |  0.01 |   8 | 60% |  250 |   4.00% |  6.05% |  500 |  6.64% |  500\n",
      "---------{dates}\n",
      "---------{dates}\n",
      "---------{dates}\n",
      "---------{dates}\n",
      "---------{dates}\n",
      "---------{dates}\n",
      "---------{dates}\n",
      "---------{dates}\n",
      "\t 46 | 00:17:33 (  5) |  0.01 |   4 | 30% |  500 |   3.41% |  5.89% |  500 |  5.67% |  200\n",
      "---------{dates}\n",
      "---------{dates}\n",
      "---------{dates}\n",
      "---------{dates}\n",
      "---------{dates}\n",
      "---------{dates}\n",
      "---------{dates}\n",
      "---------{dates}\n",
      "\t 47 | 00:17:39 (  6) |  0.01 |   4 | 60% | 1000 |   2.96% |  6.05% |  500 |  5.58% |  500\n",
      "---------{dates}\n",
      "---------{dates}\n",
      "---------{dates}\n",
      "---------{dates}\n",
      "---------{dates}\n",
      "---------{dates}\n",
      "---------{dates}\n",
      "---------{dates}\n",
      "\t 48 | 00:17:58 ( 19) |  0.30 |  32 | 30% |  250 |   5.31% |  6.48% |  200 |  7.47% |  150\n",
      "---------{dates}\n",
      "---------{dates}\n",
      "---------{dates}\n",
      "---------{dates}\n",
      "---------{dates}\n",
      "---------{dates}\n",
      "---------{dates}\n",
      "---------{dates}\n",
      "\t 49 | 00:18:08 ( 10) |  0.10 |  32 | 60% | 1000 |   5.10% |  7.59% |  250 |  7.44% |  150\n",
      "---------{dates}\n",
      "---------{dates}\n",
      "---------{dates}\n",
      "---------{dates}\n",
      "---------{dates}\n",
      "---------{dates}\n",
      "---------{dates}\n",
      "---------{dates}\n",
      "\t 50 | 00:18:19 ( 11) |  0.01 |  32 | 60% | 1000 |   3.66% |  6.60% |  500 |  6.78% |  400\n",
      "---------{dates}\n",
      "---------{dates}\n",
      "---------{dates}\n",
      "---------{dates}\n",
      "---------{dates}\n",
      "---------{dates}\n",
      "---------{dates}\n",
      "---------{dates}\n",
      "\t 51 | 00:18:35 ( 16) |  0.01 |  32 | 30% |  500 |   4.52% |  6.99% |  500 |  7.38% |  500\n",
      "---------{dates}\n",
      "---------{dates}\n",
      "---------{dates}\n",
      "---------{dates}\n",
      "---------{dates}\n",
      "---------{dates}\n",
      "---------{dates}\n",
      "---------{dates}\n",
      "\t 52 | 00:19:05 ( 31) |  0.30 | 128 | 95% |  250 |   4.39% |  6.59% |   50 |  6.90% |   50\n",
      "---------{dates}\n",
      "---------{dates}\n",
      "---------{dates}\n",
      "---------{dates}\n",
      "---------{dates}\n",
      "---------{dates}\n",
      "---------{dates}\n",
      "---------{dates}\n",
      "\t 53 | 00:19:13 (  8) |  0.30 |   8 | 30% |  500 |   5.66% |  6.85% |  250 |  7.37% |  250\n"
     ]
    }
   ],
   "source": [
    "for lookahead, train_length, test_length in test_params:\n",
    "    # randomized grid search\n",
    "    cvp = np.random.choice(list(range(n_params)),\n",
    "                           size=int(n_params / 2),\n",
    "                           replace=False)\n",
    "    cv_params_ = [cv_params[i] for i in cvp]\n",
    "\n",
    "    # set up cross-validation\n",
    "    n_splits = int(2 * YEAR / test_length)\n",
    "    print(f'Lookahead: {lookahead:2.0f} | '\n",
    "          f'Train: {train_length:3.0f} | '\n",
    "          f'Test: {test_length:2.0f} | '\n",
    "          f'Params: {len(cv_params_):3.0f} | '\n",
    "          f'Train configs: {len(test_params)}')\n",
    "\n",
    "    # time-series cross-validation\n",
    "    cv = MultipleTimeSeriesCV(n_splits=n_splits,\n",
    "                              lookahead=lookahead,\n",
    "                              test_period_length=test_length,\n",
    "                              train_period_length=train_length)\n",
    "\n",
    "    label = label_dict[lookahead]\n",
    "    outcome_data = data.loc[:, features + [label]].dropna()\n",
    "    \n",
    "    # binary dataset\n",
    "    lgb_data = lgb.Dataset(data=outcome_data.drop(label, axis=1),\n",
    "                           label=outcome_data[label],\n",
    "                           categorical_feature=categoricals,\n",
    "                           free_raw_data=False)\n",
    "    T = 0\n",
    "    predictions, metrics, feature_importance, daily_ic = [], [], [], []\n",
    "    \n",
    "    # iterate over (shuffled) hyperparameter combinations\n",
    "    for p, param_vals in enumerate(cv_params_):\n",
    "        key = f'{lookahead}/{train_length}/{test_length}/' + '/'.join([str(p) for p in param_vals])\n",
    "        params = dict(zip(param_names, param_vals))\n",
    "        params.update(base_params)\n",
    "\n",
    "        start = time()\n",
    "        cv_preds, nrounds = [], []\n",
    "        ic_cv = defaultdict(list)\n",
    "        \n",
    "        # iterate over folds\n",
    "        for i, (train_idx, test_idx) in enumerate(cv.split(X=outcome_data)):\n",
    "            \n",
    "            # select train subset\n",
    "            lgb_train = lgb_data.subset(used_indices=train_idx.tolist(),\n",
    "                                       params=params).construct()\n",
    "            \n",
    "            # train model for num_boost_round\n",
    "            model = lgb.train(params=params,\n",
    "                              train_set=lgb_train,\n",
    "                              num_boost_round=num_boost_round)\n",
    "            # log feature importance\n",
    "            if i == 0:\n",
    "                fi = get_fi(model).to_frame()\n",
    "            else:\n",
    "                fi[i] = get_fi(model)\n",
    "\n",
    "            # capture predictions\n",
    "            test_set = outcome_data.iloc[test_idx, :]\n",
    "            X_test = test_set.loc[:, model.feature_name()]\n",
    "            y_test = test_set.loc[:, label]\n",
    "            y_pred = {str(n): model.predict(X_test, num_iteration=n) for n in num_iterations}\n",
    "            \n",
    "            # record predictions for each fold\n",
    "            cv_preds.append(y_test.to_frame('y_test').assign(**y_pred).assign(i=i))\n",
    "        \n",
    "        # combine fold results\n",
    "        cv_preds = pd.concat(cv_preds).assign(**params)\n",
    "        predictions.append(cv_preds)\n",
    "        \n",
    "        # compute IC per day\n",
    "        by_day = cv_preds.groupby(level='date')\n",
    "        ic_by_day = pd.concat([by_day.apply(lambda x: spearmanr(x.y_test, x[str(n)])[0]).to_frame(n)\n",
    "                               for n in num_iterations], axis=1)\n",
    "        daily_ic_mean = ic_by_day.mean()\n",
    "        daily_ic_mean_n = daily_ic_mean.idxmax()\n",
    "        daily_ic_median = ic_by_day.median()\n",
    "        daily_ic_median_n = daily_ic_median.idxmax()\n",
    "        \n",
    "        # compute IC across all predictions\n",
    "        ic = [spearmanr(cv_preds.y_test, cv_preds[str(n)])[0] for n in num_iterations]\n",
    "        t = time() - start\n",
    "        T += t\n",
    "        \n",
    "        # collect metrics\n",
    "        metrics = pd.Series(list(param_vals) +\n",
    "                            [t, daily_ic_mean.max(), daily_ic_mean_n, daily_ic_median.max(), daily_ic_median_n] + ic,\n",
    "                            index=metric_cols)\n",
    "        msg = f'\\t{p:3.0f} | {format_time(T)} ({t:3.0f}) | {params[\"learning_rate\"]:5.2f} | '\n",
    "        msg += f'{params[\"num_leaves\"]:3.0f} | {params[\"feature_fraction\"]:3.0%} | {params[\"min_data_in_leaf\"]:4.0f} | '\n",
    "        msg += f' {max(ic):6.2%} | {ic_by_day.mean().max(): 6.2%} | {daily_ic_mean_n: 4.0f} | {ic_by_day.median().max(): 6.2%} | {daily_ic_median_n: 4.0f}'\n",
    "        print(msg)\n",
    "\n",
    "        # persist results for given CV run and hyperparameter combination\n",
    "        metrics.to_hdf(lgb_store, 'metrics/' + key)\n",
    "        ic_by_day.assign(**params).to_hdf(lgb_store, 'daily_ic/' + key)\n",
    "        fi.T.describe().T.assign(**params).to_hdf(lgb_store, 'fi/' + key)\n",
    "        cv_preds.to_hdf(lgb_store, 'predictions/' + key)"
   ]
  }
 ],
 "metadata": {
  "kernelspec": {
   "display_name": "Python 3",
   "language": "python",
   "name": "python3"
  },
  "language_info": {
   "codemirror_mode": {
    "name": "ipython",
    "version": 3
   },
   "file_extension": ".py",
   "mimetype": "text/x-python",
   "name": "python",
   "nbconvert_exporter": "python",
   "pygments_lexer": "ipython3",
   "version": "3.8.19"
  },
  "toc": {
   "base_numbering": 1,
   "nav_menu": {},
   "number_sections": true,
   "sideBar": true,
   "skip_h1_title": true,
   "title_cell": "Table of Contents",
   "title_sidebar": "Contents",
   "toc_cell": false,
   "toc_position": {
    "height": "calc(100% - 180px)",
    "left": "10px",
    "top": "150px",
    "width": "292.031px"
   },
   "toc_section_display": true,
   "toc_window_display": true
  }
 },
 "nbformat": 4,
 "nbformat_minor": 2
}
